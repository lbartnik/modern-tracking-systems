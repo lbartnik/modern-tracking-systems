{
 "cells": [
  {
   "cell_type": "markdown",
   "id": "f79f40c4-4033-46ce-9290-e641df15a41a",
   "metadata": {},
   "source": [
    "### Exact Consistency Tests for Gaussian Mixture Filters using Normalized Deviation Squared Statistics\n",
    "\n",
    "https://arxiv.org/abs/2312.17420\n",
    "\n",
    "Derives Normalized Deviation Squared (NDS), an extension of NEES to Gaussian Mixture filters."
   ]
  },
  {
   "cell_type": "code",
   "execution_count": null,
   "id": "87f2a44c-e0d3-41cb-b232-03fdd9e0ef8d",
   "metadata": {},
   "outputs": [],
   "source": []
  }
 ],
 "metadata": {
  "kernelspec": {
   "display_name": "Python 3 (ipykernel)",
   "language": "python",
   "name": "python3"
  },
  "language_info": {
   "codemirror_mode": {
    "name": "ipython",
    "version": 3
   },
   "file_extension": ".py",
   "mimetype": "text/x-python",
   "name": "python",
   "nbconvert_exporter": "python",
   "pygments_lexer": "ipython3",
   "version": "3.11.7"
  }
 },
 "nbformat": 4,
 "nbformat_minor": 5
}
