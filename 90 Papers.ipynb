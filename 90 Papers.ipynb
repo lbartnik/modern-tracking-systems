{
 "cells": [
  {
   "cell_type": "markdown",
   "id": "f79f40c4-4033-46ce-9290-e641df15a41a",
   "metadata": {},
   "source": [
    "### Exact Consistency Tests for Gaussian Mixture Filters using Normalized Deviation Squared Statistics\n",
    "\n",
    "https://arxiv.org/abs/2312.17420\n",
    "\n",
    "Derives Normalized Deviation Squared (NDS), an extension of NEES to Gaussian Mixture filters."
   ]
  },
  {
   "cell_type": "markdown",
   "id": "e345e60b-65bd-4220-aefe-d92567de76f5",
   "metadata": {},
   "source": [
    "### Target tracking with two passive infrared non-imaging sensors\n",
    "\n",
    "https://www.academia.edu/45401809/Target_tracking_with_two_passive_infrared_non_imaging_sensors\n",
    "\n",
    "Two EKF implementations which estimate 3D target position by triangulating readings from two 2D passive sensors. First EKF takes 4 inputs (two al/el pairs) and is characterized by a fairly large estimation error. The second EKF takes a 5th input, the ration of signal strengths received by each sensor, which significantly improves the estimation error.\n",
    "\n",
    "Potentially interesting as a basis for a triangulation algorithm in Python."
   ]
  },
  {
   "cell_type": "code",
   "execution_count": null,
   "id": "96dd46b0-e8dc-4415-96a1-31f5f71fce99",
   "metadata": {},
   "outputs": [],
   "source": []
  }
 ],
 "metadata": {
  "kernelspec": {
   "display_name": "Python 3 (ipykernel)",
   "language": "python",
   "name": "python3"
  },
  "language_info": {
   "codemirror_mode": {
    "name": "ipython",
    "version": 3
   },
   "file_extension": ".py",
   "mimetype": "text/x-python",
   "name": "python",
   "nbconvert_exporter": "python",
   "pygments_lexer": "ipython3",
   "version": "3.11.5"
  }
 },
 "nbformat": 4,
 "nbformat_minor": 5
}
