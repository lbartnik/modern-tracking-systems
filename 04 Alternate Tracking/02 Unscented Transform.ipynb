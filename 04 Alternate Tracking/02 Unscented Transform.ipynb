{
 "cells": [
  {
   "cell_type": "markdown",
   "id": "ff70b1b3-684f-47f0-988c-231f237408c3",
   "metadata": {},
   "source": [
    "# Use unscented transform to form linearinzed measurements"
   ]
  },
  {
   "cell_type": "code",
   "execution_count": null,
   "id": "442811b4-de9d-40cf-8114-942e2e1a9212",
   "metadata": {},
   "outputs": [],
   "source": []
  }
 ],
 "metadata": {
  "kernelspec": {
   "display_name": "Python 3 (ipykernel)",
   "language": "python",
   "name": "python3"
  },
  "language_info": {
   "codemirror_mode": {
    "name": "ipython",
    "version": 3
   },
   "file_extension": ".py",
   "mimetype": "text/x-python",
   "name": "python",
   "nbconvert_exporter": "python",
   "pygments_lexer": "ipython3",
   "version": "3.11.5"
  }
 },
 "nbformat": 4,
 "nbformat_minor": 5
}
