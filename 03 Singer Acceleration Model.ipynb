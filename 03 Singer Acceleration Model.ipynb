{
 "cells": [
  {
   "cell_type": "code",
   "execution_count": 74,
   "id": "16f8c263-a79b-4d4c-9284-90ce333d5070",
   "metadata": {},
   "outputs": [],
   "source": [
    "import numpy as np\n",
    "import plotly.express as ex\n",
    "import pandas as pd\n",
    "\n",
    "from numpy import exp"
   ]
  },
  {
   "cell_type": "markdown",
   "id": "fa878607-f009-4b3a-97ca-554b65310fc5",
   "metadata": {},
   "source": [
    "# Singer Acceleration Model"
   ]
  },
  {
   "cell_type": "markdown",
   "id": "2a1f0579-3de3-4c81-8944-b30fbd13df6a",
   "metadata": {},
   "source": [
    "Singer target maneuver model takes the target states to be position, velocity, and acceleration and assumes the target acceleration to be a first-order Markov process of the form:\n",
    "\n",
    "$$\n",
    "  a(k+1) = \\rho_m a(k) + \\sqrt{1 - \\rho_m^2} \\sigma_m r(k)\n",
    "$$\n",
    "\n",
    "where $\\rho_m = e^{-\\beta T}$, $\\beta = 1/\\tau_m$, $\\tau_m, \\sigma_m$ are target maneuver time constant and standard deviation and $r(k)$ is zero-mean, unit-standard deviation Gaussian distributed random variable. This can be collapsed to:\n",
    "\n",
    "$$\n",
    "  a(k+1) = e^{-\\frac{T}{\\tau_m}} a(k) + \\sqrt{1 - e^{-\\frac{T}{\\tau_m}}} \\sigma_m r(k)\n",
    "$$"
   ]
  },
  {
   "cell_type": "code",
   "execution_count": 65,
   "id": "e91dab8a-92c0-4646-b468-2c8fc3007f3f",
   "metadata": {},
   "outputs": [],
   "source": [
    "def acceleration(tau, sigma, T, n=100, rnd=None):\n",
    "    normal = np.random.normal if rnd is None else rnd.normal\n",
    "    rho = np.exp(-T / tau)\n",
    "    res = []\n",
    "    \n",
    "    a_k = 0\n",
    "    for i in range(n):\n",
    "        a_k_1 = rho * a_k + np.sqrt(1 - rho*rho) * normal(0, sigma)\n",
    "        res.append(a_k_1)\n",
    "        a_k = a_k_1\n",
    "\n",
    "    return np.array(res)\n",
    "\n",
    "def calculate_dimension(time, a):\n",
    "    v_last = 0; v = []\n",
    "    p_last = 0; p = []\n",
    "\n",
    "    time = [0] + np.diff(time).tolist()\n",
    "    \n",
    "    for dt, a_last in zip(time, a):\n",
    "        p_last += v_last * dt + a_last*dt*dt/2\n",
    "        v_last += dt*a_last\n",
    "        p.append(p_last)\n",
    "        v.append(v_last)\n",
    "    \n",
    "    return np.array((np.array(p), np.array(v), a)).T\n",
    "\n",
    "def sample_singer(tau: float, sigma: float, T: float, n=100, seed=None):\n",
    "    rnd = np.random.default_rng(seed=seed)\n",
    "    time = np.arange(n) * T\n",
    "\n",
    "    # generate position, velocity and acceleration independently in each dimension\n",
    "    dims = [calculate_dimension(time, acceleration(tau, sigma, T, n, rnd)) for i in range(3)]\n",
    "\n",
    "    # reshuffle to keep positions, velocities, and accelerations grouped\n",
    "    ret = [dims[0][:,0], dims[1][:,0], dims[2][:,0],\n",
    "           dims[0][:,1], dims[1][:,1], dims[2][:,1],\n",
    "           dims[0][:,2], dims[1][:,2], dims[2][:,2]]\n",
    "    \n",
    "    return np.array(ret).T"
   ]
  },
  {
   "cell_type": "markdown",
   "id": "b4e4165c-1399-4f64-9a15-b8714a4890a8",
   "metadata": {},
   "source": [
    "# Sample traces"
   ]
  },
  {
   "cell_type": "code",
   "execution_count": 68,
   "id": "b703769b-4388-4530-a9e8-b10b8e649f3f",
   "metadata": {},
   "outputs": [
    {
     "data": {
      "application/vnd.plotly.v1+json": {
       "config": {
        "plotlyServerURL": "https://plot.ly"
       },
       "data": [
        {
         "hovertemplate": "x=%{x}<br>y=%{y}<br>z=%{z}<extra></extra>",
         "legendgroup": "",
         "marker": {
          "color": "#636efa",
          "size": 1,
          "symbol": "circle"
         },
         "mode": "markers",
         "name": "",
         "scene": "scene",
         "showlegend": false,
         "type": "scatter3d",
         "x": [
          0,
          0.24147156354367466,
          1.013250189277172,
          2.0577991524532298,
          3.2644775133197896,
          4.905611145739753,
          6.920573902506465,
          9.28319299576998,
          12.161701850415287,
          15.64723126086186,
          19.75068059490333,
          24.53568099738678,
          29.896982483117142,
          35.58828736807371,
          41.44087873046816,
          47.464256795388046,
          53.77810660933333,
          60.300984325652905,
          66.7842889131586,
          73.01058391737048,
          78.9513095978661,
          84.57670479576045,
          90.13358573847005,
          96.11826104774082,
          102.12718224342007,
          107.17876291157498,
          110.9247702502467,
          113.36236542760871,
          114.57166503510187,
          114.76130007475895,
          114.52541027067326,
          114.11860682337219,
          113.24004482117654,
          112.28909641326543,
          111.84518174987544,
          112.13887146280481,
          113.13170426545058,
          114.29688693636052,
          115.30282789572863,
          116.22353743137367,
          116.8290561298444,
          116.74265698266167,
          115.8694037618455,
          114.06772154014357,
          111.20392500959801,
          107.37849443012472,
          102.71084322638217,
          97.18091616166278,
          90.88938723487422,
          84.2248391242172,
          77.48078144795807,
          70.55889855860879,
          63.45768216843647,
          56.2432053883974,
          49.0066550139881,
          41.70912549617664,
          34.32292965589196,
          27.046904655266346,
          19.6004633171735,
          11.667168455482283,
          3.23804503759313,
          -5.570133944856806,
          -14.87231200255135,
          -25.066301830663566,
          -36.26048509507394,
          -48.41655454338252,
          -61.49220151012262,
          -75.18809703548973,
          -89.63452278678672,
          -105.05689417387957,
          -121.04748272564099,
          -137.35485136655024,
          -154.18479669170424,
          -171.50005741694898,
          -189.04035969177622,
          -206.53962027170928,
          -223.88451947626368,
          -241.47868322656493,
          -259.63725725206103,
          -278.4248570417921,
          -297.71148029281653,
          -317.24336847415697,
          -337.3031341987235,
          -358.44214091011236,
          -380.6239701297106,
          -403.41653692788304,
          -426.7533086246639,
          -450.71901467469525,
          -475.15917423907314,
          -499.83407073402645,
          -524.4351194736435,
          -548.7282144521506,
          -572.7082479622925,
          -596.480301890522,
          -619.8945262500899,
          -643.2393867217914,
          -667.0301596858258,
          -691.246902696968,
          -716.1454806648591,
          -741.8935858441836
         ],
         "y": [
          0,
          0.058145960315913625,
          0.2003146505783011,
          0.5342228060243644,
          1.4435381888438419,
          3.214486845738636,
          5.660168736604819,
          8.207586108306602,
          10.89794948325824,
          14.067222032284823,
          17.49955702835679,
          21.054049257558873,
          24.70903579158673,
          28.595608829853436,
          32.880355466723856,
          37.53553405207372,
          42.37670156470795,
          47.33400107924653,
          52.27625405581364,
          57.12655786148744,
          62.359829981606964,
          67.93946681755833,
          72.98292682786496,
          77.1475467851895,
          81.1906726833279,
          85.45318369867697,
          89.43488066351908,
          93.0216190670441,
          96.19739142478196,
          98.7146126527201,
          100.4541233943299,
          101.52907769367877,
          102.02968812171537,
          101.98348583085114,
          101.46408209140908,
          100.29911538788966,
          98.30212255414716,
          95.28187738888614,
          91.13482234719353,
          85.73032736310543,
          78.71615270607998,
          70.32298182959316,
          60.980877827699494,
          50.75734725327507,
          39.83368951837032,
          28.295834241550377,
          16.063988287730645,
          3.2460483862680274,
          -9.95158587056522,
          -23.679450990237015,
          -37.95647750397033,
          -52.678695946769494,
          -68.1542483295383,
          -84.72795399168177,
          -102.57014049073162,
          -121.29681722233187,
          -140.72764283572587,
          -161.01177844297,
          -182.48904124854525,
          -205.50132087787364,
          -229.71137626537623,
          -254.86410607355154,
          -281.0541597495894,
          -308.26751533230373,
          -336.2084616650464,
          -364.51743347136176,
          -392.5982324468756,
          -420.00814728743813,
          -446.8926052255699,
          -473.4545398256695,
          -499.76689491005794,
          -525.8457066356468,
          -551.6964440058631,
          -577.3101698140375,
          -603.0280933356488,
          -629.0193768447452,
          -655.2037461313461,
          -681.9349167811152,
          -709.2748305882187,
          -736.7493638303441,
          -763.9603200591041,
          -790.7935194117244,
          -817.4490526165384,
          -843.5309813007148,
          -868.2952075759631,
          -891.9222706455311,
          -914.9288856390734,
          -937.5215482267187,
          -960.0521042004821,
          -982.8215350114925,
          -1005.8689374277257,
          -1029.0045386708464,
          -1051.75407653753,
          -1074.526642380845,
          -1097.8883419430435,
          -1122.1185584165958,
          -1147.2427475387692,
          -1172.903832198065,
          -1198.8981900794213,
          -1225.3041045349803
         ],
         "z": [
          0,
          0.7822236941886956,
          2.827789347974277,
          5.869171449138873,
          9.747638206804991,
          14.235181248323464,
          18.99939469795022,
          24.141998199112223,
          29.81814095143437,
          35.707702456909914,
          41.834098318689605,
          48.14369393699719,
          54.430259216448675,
          60.525054401879984,
          66.29793100859762,
          71.50192918267071,
          75.84876304822433,
          79.28272118922578,
          81.77558899899407,
          83.35794800835478,
          84.06611746633743,
          84.08123492226932,
          83.56079410155303,
          82.45786882716479,
          80.6572823035973,
          77.97182427702963,
          74.1044341509933,
          69.0088423649609,
          62.669148312035105,
          54.80174941484042,
          45.469724631405526,
          34.974626319757206,
          23.42765894643787,
          10.413886664342584,
          -4.267445833345921,
          -20.31287540391793,
          -37.83800131420692,
          -56.838692509480744,
          -77.15979444262845,
          -99.06464396953967,
          -122.62188994220271,
          -147.69189956686483,
          -174.12557256966096,
          -202.09183435168592,
          -231.40088418970302,
          -261.6674469793376,
          -293.25645702344985,
          -326.238089115104,
          -360.4236096840175,
          -395.70482838208017,
          -431.9806156943432,
          -469.2413387276629,
          -507.3536661153124,
          -546.3431836456126,
          -586.1408729275489,
          -626.6253687842967,
          -668.0164824279458,
          -710.3966770215505,
          -753.5606907332999,
          -797.3879596305505,
          -842.0477447659647,
          -887.512494673517,
          -933.9484041081282,
          -981.8572403523799,
          -1031.309871255671,
          -1082.4407122154182,
          -1135.3738415109503,
          -1189.9434685356098,
          -1245.8142166293087,
          -1302.8656845735454,
          -1361.3134934611016,
          -1421.0870787456156,
          -1482.5125116347795,
          -1545.295828057274,
          -1608.7966033593796,
          -1673.250656400238,
          -1738.5393214500837,
          -1804.4083383770658,
          -1871.1897610751246,
          -1939.0421055417123,
          -2007.5479089908786,
          -2076.5586788628802,
          -2146.1820918949325,
          -2216.316338345019,
          -2287.00281014605,
          -2358.289092446104,
          -2429.9823557776563,
          -2502.145123112356,
          -2575.1727427103365,
          -2649.327288399452,
          -2724.735904335972,
          -2801.2524298111052,
          -2878.527581758147,
          -2956.2920055443797,
          -3034.3039935820984,
          -3112.4553628545564,
          -3190.8435671914963,
          -3269.470539472698,
          -3347.7914207759827,
          -3425.5213412459266
         ]
        }
       ],
       "layout": {
        "autosize": true,
        "legend": {
         "tracegroupgap": 0
        },
        "margin": {
         "t": 60
        },
        "scene": {
         "aspectmode": "auto",
         "aspectratio": {
          "x": 1,
          "y": 1,
          "z": 1
         },
         "camera": {
          "center": {
           "x": 0,
           "y": 0,
           "z": 0
          },
          "eye": {
           "x": -1.8216535516223342,
           "y": 0.7260852393639267,
           "z": 0.9175394068047248
          },
          "projection": {
           "type": "perspective"
          },
          "up": {
           "x": 0,
           "y": 0,
           "z": 1
          }
         },
         "domain": {
          "x": [
           0,
           1
          ],
          "y": [
           0,
           1
          ]
         },
         "xaxis": {
          "title": {
           "text": "x"
          },
          "type": "linear"
         },
         "yaxis": {
          "title": {
           "text": "y"
          },
          "type": "linear"
         },
         "zaxis": {
          "title": {
           "text": "z"
          },
          "type": "linear"
         }
        },
        "template": {
         "data": {
          "bar": [
           {
            "error_x": {
             "color": "#2a3f5f"
            },
            "error_y": {
             "color": "#2a3f5f"
            },
            "marker": {
             "line": {
              "color": "#E5ECF6",
              "width": 0.5
             },
             "pattern": {
              "fillmode": "overlay",
              "size": 10,
              "solidity": 0.2
             }
            },
            "type": "bar"
           }
          ],
          "barpolar": [
           {
            "marker": {
             "line": {
              "color": "#E5ECF6",
              "width": 0.5
             },
             "pattern": {
              "fillmode": "overlay",
              "size": 10,
              "solidity": 0.2
             }
            },
            "type": "barpolar"
           }
          ],
          "carpet": [
           {
            "aaxis": {
             "endlinecolor": "#2a3f5f",
             "gridcolor": "white",
             "linecolor": "white",
             "minorgridcolor": "white",
             "startlinecolor": "#2a3f5f"
            },
            "baxis": {
             "endlinecolor": "#2a3f5f",
             "gridcolor": "white",
             "linecolor": "white",
             "minorgridcolor": "white",
             "startlinecolor": "#2a3f5f"
            },
            "type": "carpet"
           }
          ],
          "choropleth": [
           {
            "colorbar": {
             "outlinewidth": 0,
             "ticks": ""
            },
            "type": "choropleth"
           }
          ],
          "contour": [
           {
            "colorbar": {
             "outlinewidth": 0,
             "ticks": ""
            },
            "colorscale": [
             [
              0,
              "#0d0887"
             ],
             [
              0.1111111111111111,
              "#46039f"
             ],
             [
              0.2222222222222222,
              "#7201a8"
             ],
             [
              0.3333333333333333,
              "#9c179e"
             ],
             [
              0.4444444444444444,
              "#bd3786"
             ],
             [
              0.5555555555555556,
              "#d8576b"
             ],
             [
              0.6666666666666666,
              "#ed7953"
             ],
             [
              0.7777777777777778,
              "#fb9f3a"
             ],
             [
              0.8888888888888888,
              "#fdca26"
             ],
             [
              1,
              "#f0f921"
             ]
            ],
            "type": "contour"
           }
          ],
          "contourcarpet": [
           {
            "colorbar": {
             "outlinewidth": 0,
             "ticks": ""
            },
            "type": "contourcarpet"
           }
          ],
          "heatmap": [
           {
            "colorbar": {
             "outlinewidth": 0,
             "ticks": ""
            },
            "colorscale": [
             [
              0,
              "#0d0887"
             ],
             [
              0.1111111111111111,
              "#46039f"
             ],
             [
              0.2222222222222222,
              "#7201a8"
             ],
             [
              0.3333333333333333,
              "#9c179e"
             ],
             [
              0.4444444444444444,
              "#bd3786"
             ],
             [
              0.5555555555555556,
              "#d8576b"
             ],
             [
              0.6666666666666666,
              "#ed7953"
             ],
             [
              0.7777777777777778,
              "#fb9f3a"
             ],
             [
              0.8888888888888888,
              "#fdca26"
             ],
             [
              1,
              "#f0f921"
             ]
            ],
            "type": "heatmap"
           }
          ],
          "heatmapgl": [
           {
            "colorbar": {
             "outlinewidth": 0,
             "ticks": ""
            },
            "colorscale": [
             [
              0,
              "#0d0887"
             ],
             [
              0.1111111111111111,
              "#46039f"
             ],
             [
              0.2222222222222222,
              "#7201a8"
             ],
             [
              0.3333333333333333,
              "#9c179e"
             ],
             [
              0.4444444444444444,
              "#bd3786"
             ],
             [
              0.5555555555555556,
              "#d8576b"
             ],
             [
              0.6666666666666666,
              "#ed7953"
             ],
             [
              0.7777777777777778,
              "#fb9f3a"
             ],
             [
              0.8888888888888888,
              "#fdca26"
             ],
             [
              1,
              "#f0f921"
             ]
            ],
            "type": "heatmapgl"
           }
          ],
          "histogram": [
           {
            "marker": {
             "pattern": {
              "fillmode": "overlay",
              "size": 10,
              "solidity": 0.2
             }
            },
            "type": "histogram"
           }
          ],
          "histogram2d": [
           {
            "colorbar": {
             "outlinewidth": 0,
             "ticks": ""
            },
            "colorscale": [
             [
              0,
              "#0d0887"
             ],
             [
              0.1111111111111111,
              "#46039f"
             ],
             [
              0.2222222222222222,
              "#7201a8"
             ],
             [
              0.3333333333333333,
              "#9c179e"
             ],
             [
              0.4444444444444444,
              "#bd3786"
             ],
             [
              0.5555555555555556,
              "#d8576b"
             ],
             [
              0.6666666666666666,
              "#ed7953"
             ],
             [
              0.7777777777777778,
              "#fb9f3a"
             ],
             [
              0.8888888888888888,
              "#fdca26"
             ],
             [
              1,
              "#f0f921"
             ]
            ],
            "type": "histogram2d"
           }
          ],
          "histogram2dcontour": [
           {
            "colorbar": {
             "outlinewidth": 0,
             "ticks": ""
            },
            "colorscale": [
             [
              0,
              "#0d0887"
             ],
             [
              0.1111111111111111,
              "#46039f"
             ],
             [
              0.2222222222222222,
              "#7201a8"
             ],
             [
              0.3333333333333333,
              "#9c179e"
             ],
             [
              0.4444444444444444,
              "#bd3786"
             ],
             [
              0.5555555555555556,
              "#d8576b"
             ],
             [
              0.6666666666666666,
              "#ed7953"
             ],
             [
              0.7777777777777778,
              "#fb9f3a"
             ],
             [
              0.8888888888888888,
              "#fdca26"
             ],
             [
              1,
              "#f0f921"
             ]
            ],
            "type": "histogram2dcontour"
           }
          ],
          "mesh3d": [
           {
            "colorbar": {
             "outlinewidth": 0,
             "ticks": ""
            },
            "type": "mesh3d"
           }
          ],
          "parcoords": [
           {
            "line": {
             "colorbar": {
              "outlinewidth": 0,
              "ticks": ""
             }
            },
            "type": "parcoords"
           }
          ],
          "pie": [
           {
            "automargin": true,
            "type": "pie"
           }
          ],
          "scatter": [
           {
            "fillpattern": {
             "fillmode": "overlay",
             "size": 10,
             "solidity": 0.2
            },
            "type": "scatter"
           }
          ],
          "scatter3d": [
           {
            "line": {
             "colorbar": {
              "outlinewidth": 0,
              "ticks": ""
             }
            },
            "marker": {
             "colorbar": {
              "outlinewidth": 0,
              "ticks": ""
             }
            },
            "type": "scatter3d"
           }
          ],
          "scattercarpet": [
           {
            "marker": {
             "colorbar": {
              "outlinewidth": 0,
              "ticks": ""
             }
            },
            "type": "scattercarpet"
           }
          ],
          "scattergeo": [
           {
            "marker": {
             "colorbar": {
              "outlinewidth": 0,
              "ticks": ""
             }
            },
            "type": "scattergeo"
           }
          ],
          "scattergl": [
           {
            "marker": {
             "colorbar": {
              "outlinewidth": 0,
              "ticks": ""
             }
            },
            "type": "scattergl"
           }
          ],
          "scattermapbox": [
           {
            "marker": {
             "colorbar": {
              "outlinewidth": 0,
              "ticks": ""
             }
            },
            "type": "scattermapbox"
           }
          ],
          "scatterpolar": [
           {
            "marker": {
             "colorbar": {
              "outlinewidth": 0,
              "ticks": ""
             }
            },
            "type": "scatterpolar"
           }
          ],
          "scatterpolargl": [
           {
            "marker": {
             "colorbar": {
              "outlinewidth": 0,
              "ticks": ""
             }
            },
            "type": "scatterpolargl"
           }
          ],
          "scatterternary": [
           {
            "marker": {
             "colorbar": {
              "outlinewidth": 0,
              "ticks": ""
             }
            },
            "type": "scatterternary"
           }
          ],
          "surface": [
           {
            "colorbar": {
             "outlinewidth": 0,
             "ticks": ""
            },
            "colorscale": [
             [
              0,
              "#0d0887"
             ],
             [
              0.1111111111111111,
              "#46039f"
             ],
             [
              0.2222222222222222,
              "#7201a8"
             ],
             [
              0.3333333333333333,
              "#9c179e"
             ],
             [
              0.4444444444444444,
              "#bd3786"
             ],
             [
              0.5555555555555556,
              "#d8576b"
             ],
             [
              0.6666666666666666,
              "#ed7953"
             ],
             [
              0.7777777777777778,
              "#fb9f3a"
             ],
             [
              0.8888888888888888,
              "#fdca26"
             ],
             [
              1,
              "#f0f921"
             ]
            ],
            "type": "surface"
           }
          ],
          "table": [
           {
            "cells": {
             "fill": {
              "color": "#EBF0F8"
             },
             "line": {
              "color": "white"
             }
            },
            "header": {
             "fill": {
              "color": "#C8D4E3"
             },
             "line": {
              "color": "white"
             }
            },
            "type": "table"
           }
          ]
         },
         "layout": {
          "annotationdefaults": {
           "arrowcolor": "#2a3f5f",
           "arrowhead": 0,
           "arrowwidth": 1
          },
          "autotypenumbers": "strict",
          "coloraxis": {
           "colorbar": {
            "outlinewidth": 0,
            "ticks": ""
           }
          },
          "colorscale": {
           "diverging": [
            [
             0,
             "#8e0152"
            ],
            [
             0.1,
             "#c51b7d"
            ],
            [
             0.2,
             "#de77ae"
            ],
            [
             0.3,
             "#f1b6da"
            ],
            [
             0.4,
             "#fde0ef"
            ],
            [
             0.5,
             "#f7f7f7"
            ],
            [
             0.6,
             "#e6f5d0"
            ],
            [
             0.7,
             "#b8e186"
            ],
            [
             0.8,
             "#7fbc41"
            ],
            [
             0.9,
             "#4d9221"
            ],
            [
             1,
             "#276419"
            ]
           ],
           "sequential": [
            [
             0,
             "#0d0887"
            ],
            [
             0.1111111111111111,
             "#46039f"
            ],
            [
             0.2222222222222222,
             "#7201a8"
            ],
            [
             0.3333333333333333,
             "#9c179e"
            ],
            [
             0.4444444444444444,
             "#bd3786"
            ],
            [
             0.5555555555555556,
             "#d8576b"
            ],
            [
             0.6666666666666666,
             "#ed7953"
            ],
            [
             0.7777777777777778,
             "#fb9f3a"
            ],
            [
             0.8888888888888888,
             "#fdca26"
            ],
            [
             1,
             "#f0f921"
            ]
           ],
           "sequentialminus": [
            [
             0,
             "#0d0887"
            ],
            [
             0.1111111111111111,
             "#46039f"
            ],
            [
             0.2222222222222222,
             "#7201a8"
            ],
            [
             0.3333333333333333,
             "#9c179e"
            ],
            [
             0.4444444444444444,
             "#bd3786"
            ],
            [
             0.5555555555555556,
             "#d8576b"
            ],
            [
             0.6666666666666666,
             "#ed7953"
            ],
            [
             0.7777777777777778,
             "#fb9f3a"
            ],
            [
             0.8888888888888888,
             "#fdca26"
            ],
            [
             1,
             "#f0f921"
            ]
           ]
          },
          "colorway": [
           "#636efa",
           "#EF553B",
           "#00cc96",
           "#ab63fa",
           "#FFA15A",
           "#19d3f3",
           "#FF6692",
           "#B6E880",
           "#FF97FF",
           "#FECB52"
          ],
          "font": {
           "color": "#2a3f5f"
          },
          "geo": {
           "bgcolor": "white",
           "lakecolor": "white",
           "landcolor": "#E5ECF6",
           "showlakes": true,
           "showland": true,
           "subunitcolor": "white"
          },
          "hoverlabel": {
           "align": "left"
          },
          "hovermode": "closest",
          "mapbox": {
           "style": "light"
          },
          "paper_bgcolor": "white",
          "plot_bgcolor": "#E5ECF6",
          "polar": {
           "angularaxis": {
            "gridcolor": "white",
            "linecolor": "white",
            "ticks": ""
           },
           "bgcolor": "#E5ECF6",
           "radialaxis": {
            "gridcolor": "white",
            "linecolor": "white",
            "ticks": ""
           }
          },
          "scene": {
           "xaxis": {
            "backgroundcolor": "#E5ECF6",
            "gridcolor": "white",
            "gridwidth": 2,
            "linecolor": "white",
            "showbackground": true,
            "ticks": "",
            "zerolinecolor": "white"
           },
           "yaxis": {
            "backgroundcolor": "#E5ECF6",
            "gridcolor": "white",
            "gridwidth": 2,
            "linecolor": "white",
            "showbackground": true,
            "ticks": "",
            "zerolinecolor": "white"
           },
           "zaxis": {
            "backgroundcolor": "#E5ECF6",
            "gridcolor": "white",
            "gridwidth": 2,
            "linecolor": "white",
            "showbackground": true,
            "ticks": "",
            "zerolinecolor": "white"
           }
          },
          "shapedefaults": {
           "line": {
            "color": "#2a3f5f"
           }
          },
          "ternary": {
           "aaxis": {
            "gridcolor": "white",
            "linecolor": "white",
            "ticks": ""
           },
           "baxis": {
            "gridcolor": "white",
            "linecolor": "white",
            "ticks": ""
           },
           "bgcolor": "#E5ECF6",
           "caxis": {
            "gridcolor": "white",
            "linecolor": "white",
            "ticks": ""
           }
          },
          "title": {
           "x": 0.05
          },
          "xaxis": {
           "automargin": true,
           "gridcolor": "white",
           "linecolor": "white",
           "ticks": "",
           "title": {
            "standoff": 15
           },
           "zerolinecolor": "white",
           "zerolinewidth": 2
          },
          "yaxis": {
           "automargin": true,
           "gridcolor": "white",
           "linecolor": "white",
           "ticks": "",
           "title": {
            "standoff": 15
           },
           "zerolinecolor": "white",
           "zerolinewidth": 2
          }
         }
        }
       }
      },
      "image/png": "[encoded data removed]",
      "text/html": [
       "<div>                            <div id=\"c27ebb71-0837-45dd-b818-42d4abe156fd\" class=\"plotly-graph-div\" style=\"height:525px; width:100%;\"></div>            <script type=\"text/javascript\">                require([\"plotly\"], function(Plotly) {                    window.PLOTLYENV=window.PLOTLYENV || {};                                    if (document.getElementById(\"c27ebb71-0837-45dd-b818-42d4abe156fd\")) {                    Plotly.newPlot(                        \"c27ebb71-0837-45dd-b818-42d4abe156fd\",                        [{\"hovertemplate\":\"x=%{x}<br>y=%{y}<br>z=%{z}<extra></extra>\",\"legendgroup\":\"\",\"marker\":{\"color\":\"#636efa\",\"symbol\":\"circle\",\"size\":1},\"mode\":\"markers\",\"name\":\"\",\"scene\":\"scene\",\"showlegend\":false,\"x\":[0.0,0.24147156354367466,1.013250189277172,2.0577991524532298,3.2644775133197896,4.905611145739753,6.920573902506465,9.28319299576998,12.161701850415287,15.64723126086186,19.75068059490333,24.53568099738678,29.896982483117142,35.58828736807371,41.44087873046816,47.464256795388046,53.77810660933333,60.300984325652905,66.7842889131586,73.01058391737048,78.9513095978661,84.57670479576045,90.13358573847005,96.11826104774082,102.12718224342007,107.17876291157498,110.9247702502467,113.36236542760871,114.57166503510187,114.76130007475895,114.52541027067326,114.11860682337219,113.24004482117654,112.28909641326543,111.84518174987544,112.13887146280481,113.13170426545058,114.29688693636052,115.30282789572863,116.22353743137367,116.8290561298444,116.74265698266167,115.8694037618455,114.06772154014357,111.20392500959801,107.37849443012472,102.71084322638217,97.18091616166278,90.88938723487422,84.2248391242172,77.48078144795807,70.55889855860879,63.45768216843647,56.2432053883974,49.0066550139881,41.70912549617664,34.32292965589196,27.046904655266346,19.6004633171735,11.667168455482283,3.23804503759313,-5.570133944856806,-14.87231200255135,-25.066301830663566,-36.26048509507394,-48.41655454338252,-61.49220151012262,-75.18809703548973,-89.63452278678672,-105.05689417387957,-121.04748272564099,-137.35485136655024,-154.18479669170424,-171.50005741694898,-189.04035969177622,-206.53962027170928,-223.88451947626368,-241.47868322656493,-259.63725725206103,-278.4248570417921,-297.71148029281653,-317.24336847415697,-337.3031341987235,-358.44214091011236,-380.6239701297106,-403.41653692788304,-426.7533086246639,-450.71901467469525,-475.15917423907314,-499.83407073402645,-524.4351194736435,-548.7282144521506,-572.7082479622925,-596.480301890522,-619.8945262500899,-643.2393867217914,-667.0301596858258,-691.246902696968,-716.1454806648591,-741.8935858441836],\"y\":[0.0,0.058145960315913625,0.2003146505783011,0.5342228060243644,1.4435381888438419,3.214486845738636,5.660168736604819,8.207586108306602,10.89794948325824,14.067222032284823,17.49955702835679,21.054049257558873,24.70903579158673,28.595608829853436,32.880355466723856,37.53553405207372,42.37670156470795,47.33400107924653,52.27625405581364,57.12655786148744,62.359829981606964,67.93946681755833,72.98292682786496,77.1475467851895,81.1906726833279,85.45318369867697,89.43488066351908,93.0216190670441,96.19739142478196,98.7146126527201,100.4541233943299,101.52907769367877,102.02968812171537,101.98348583085114,101.46408209140908,100.29911538788966,98.30212255414716,95.28187738888614,91.13482234719353,85.73032736310543,78.71615270607998,70.32298182959316,60.980877827699494,50.75734725327507,39.83368951837032,28.295834241550377,16.063988287730645,3.2460483862680274,-9.95158587056522,-23.679450990237015,-37.95647750397033,-52.678695946769494,-68.1542483295383,-84.72795399168177,-102.57014049073162,-121.29681722233187,-140.72764283572587,-161.01177844297,-182.48904124854525,-205.50132087787364,-229.71137626537623,-254.86410607355154,-281.0541597495894,-308.26751533230373,-336.2084616650464,-364.51743347136176,-392.5982324468756,-420.00814728743813,-446.8926052255699,-473.4545398256695,-499.76689491005794,-525.8457066356468,-551.6964440058631,-577.3101698140375,-603.0280933356488,-629.0193768447452,-655.2037461313461,-681.9349167811152,-709.2748305882187,-736.7493638303441,-763.9603200591041,-790.7935194117244,-817.4490526165384,-843.5309813007148,-868.2952075759631,-891.9222706455311,-914.9288856390734,-937.5215482267187,-960.0521042004821,-982.8215350114925,-1005.8689374277257,-1029.0045386708464,-1051.75407653753,-1074.526642380845,-1097.8883419430435,-1122.1185584165958,-1147.2427475387692,-1172.903832198065,-1198.8981900794213,-1225.3041045349803],\"z\":[0.0,0.7822236941886956,2.827789347974277,5.869171449138873,9.747638206804991,14.235181248323464,18.99939469795022,24.141998199112223,29.81814095143437,35.707702456909914,41.834098318689605,48.14369393699719,54.430259216448675,60.525054401879984,66.29793100859762,71.50192918267071,75.84876304822433,79.28272118922578,81.77558899899407,83.35794800835478,84.06611746633743,84.08123492226932,83.56079410155303,82.45786882716479,80.6572823035973,77.97182427702963,74.1044341509933,69.0088423649609,62.669148312035105,54.80174941484042,45.469724631405526,34.974626319757206,23.42765894643787,10.413886664342584,-4.267445833345921,-20.31287540391793,-37.83800131420692,-56.838692509480744,-77.15979444262845,-99.06464396953967,-122.62188994220271,-147.69189956686483,-174.12557256966096,-202.09183435168592,-231.40088418970302,-261.6674469793376,-293.25645702344985,-326.238089115104,-360.4236096840175,-395.70482838208017,-431.9806156943432,-469.2413387276629,-507.3536661153124,-546.3431836456126,-586.1408729275489,-626.6253687842967,-668.0164824279458,-710.3966770215505,-753.5606907332999,-797.3879596305505,-842.0477447659647,-887.512494673517,-933.9484041081282,-981.8572403523799,-1031.309871255671,-1082.4407122154182,-1135.3738415109503,-1189.9434685356098,-1245.8142166293087,-1302.8656845735454,-1361.3134934611016,-1421.0870787456156,-1482.5125116347795,-1545.295828057274,-1608.7966033593796,-1673.250656400238,-1738.5393214500837,-1804.4083383770658,-1871.1897610751246,-1939.0421055417123,-2007.5479089908786,-2076.5586788628802,-2146.1820918949325,-2216.316338345019,-2287.00281014605,-2358.289092446104,-2429.9823557776563,-2502.145123112356,-2575.1727427103365,-2649.327288399452,-2724.735904335972,-2801.2524298111052,-2878.527581758147,-2956.2920055443797,-3034.3039935820984,-3112.4553628545564,-3190.8435671914963,-3269.470539472698,-3347.7914207759827,-3425.5213412459266],\"type\":\"scatter3d\"}],                        {\"template\":{\"data\":{\"histogram2dcontour\":[{\"type\":\"histogram2dcontour\",\"colorbar\":{\"outlinewidth\":0,\"ticks\":\"\"},\"colorscale\":[[0.0,\"#0d0887\"],[0.1111111111111111,\"#46039f\"],[0.2222222222222222,\"#7201a8\"],[0.3333333333333333,\"#9c179e\"],[0.4444444444444444,\"#bd3786\"],[0.5555555555555556,\"#d8576b\"],[0.6666666666666666,\"#ed7953\"],[0.7777777777777778,\"#fb9f3a\"],[0.8888888888888888,\"#fdca26\"],[1.0,\"#f0f921\"]]}],\"choropleth\":[{\"type\":\"choropleth\",\"colorbar\":{\"outlinewidth\":0,\"ticks\":\"\"}}],\"histogram2d\":[{\"type\":\"histogram2d\",\"colorbar\":{\"outlinewidth\":0,\"ticks\":\"\"},\"colorscale\":[[0.0,\"#0d0887\"],[0.1111111111111111,\"#46039f\"],[0.2222222222222222,\"#7201a8\"],[0.3333333333333333,\"#9c179e\"],[0.4444444444444444,\"#bd3786\"],[0.5555555555555556,\"#d8576b\"],[0.6666666666666666,\"#ed7953\"],[0.7777777777777778,\"#fb9f3a\"],[0.8888888888888888,\"#fdca26\"],[1.0,\"#f0f921\"]]}],\"heatmap\":[{\"type\":\"heatmap\",\"colorbar\":{\"outlinewidth\":0,\"ticks\":\"\"},\"colorscale\":[[0.0,\"#0d0887\"],[0.1111111111111111,\"#46039f\"],[0.2222222222222222,\"#7201a8\"],[0.3333333333333333,\"#9c179e\"],[0.4444444444444444,\"#bd3786\"],[0.5555555555555556,\"#d8576b\"],[0.6666666666666666,\"#ed7953\"],[0.7777777777777778,\"#fb9f3a\"],[0.8888888888888888,\"#fdca26\"],[1.0,\"#f0f921\"]]}],\"heatmapgl\":[{\"type\":\"heatmapgl\",\"colorbar\":{\"outlinewidth\":0,\"ticks\":\"\"},\"colorscale\":[[0.0,\"#0d0887\"],[0.1111111111111111,\"#46039f\"],[0.2222222222222222,\"#7201a8\"],[0.3333333333333333,\"#9c179e\"],[0.4444444444444444,\"#bd3786\"],[0.5555555555555556,\"#d8576b\"],[0.6666666666666666,\"#ed7953\"],[0.7777777777777778,\"#fb9f3a\"],[0.8888888888888888,\"#fdca26\"],[1.0,\"#f0f921\"]]}],\"contourcarpet\":[{\"type\":\"contourcarpet\",\"colorbar\":{\"outlinewidth\":0,\"ticks\":\"\"}}],\"contour\":[{\"type\":\"contour\",\"colorbar\":{\"outlinewidth\":0,\"ticks\":\"\"},\"colorscale\":[[0.0,\"#0d0887\"],[0.1111111111111111,\"#46039f\"],[0.2222222222222222,\"#7201a8\"],[0.3333333333333333,\"#9c179e\"],[0.4444444444444444,\"#bd3786\"],[0.5555555555555556,\"#d8576b\"],[0.6666666666666666,\"#ed7953\"],[0.7777777777777778,\"#fb9f3a\"],[0.8888888888888888,\"#fdca26\"],[1.0,\"#f0f921\"]]}],\"surface\":[{\"type\":\"surface\",\"colorbar\":{\"outlinewidth\":0,\"ticks\":\"\"},\"colorscale\":[[0.0,\"#0d0887\"],[0.1111111111111111,\"#46039f\"],[0.2222222222222222,\"#7201a8\"],[0.3333333333333333,\"#9c179e\"],[0.4444444444444444,\"#bd3786\"],[0.5555555555555556,\"#d8576b\"],[0.6666666666666666,\"#ed7953\"],[0.7777777777777778,\"#fb9f3a\"],[0.8888888888888888,\"#fdca26\"],[1.0,\"#f0f921\"]]}],\"mesh3d\":[{\"type\":\"mesh3d\",\"colorbar\":{\"outlinewidth\":0,\"ticks\":\"\"}}],\"scatter\":[{\"fillpattern\":{\"fillmode\":\"overlay\",\"size\":10,\"solidity\":0.2},\"type\":\"scatter\"}],\"parcoords\":[{\"type\":\"parcoords\",\"line\":{\"colorbar\":{\"outlinewidth\":0,\"ticks\":\"\"}}}],\"scatterpolargl\":[{\"type\":\"scatterpolargl\",\"marker\":{\"colorbar\":{\"outlinewidth\":0,\"ticks\":\"\"}}}],\"bar\":[{\"error_x\":{\"color\":\"#2a3f5f\"},\"error_y\":{\"color\":\"#2a3f5f\"},\"marker\":{\"line\":{\"color\":\"#E5ECF6\",\"width\":0.5},\"pattern\":{\"fillmode\":\"overlay\",\"size\":10,\"solidity\":0.2}},\"type\":\"bar\"}],\"scattergeo\":[{\"type\":\"scattergeo\",\"marker\":{\"colorbar\":{\"outlinewidth\":0,\"ticks\":\"\"}}}],\"scatterpolar\":[{\"type\":\"scatterpolar\",\"marker\":{\"colorbar\":{\"outlinewidth\":0,\"ticks\":\"\"}}}],\"histogram\":[{\"marker\":{\"pattern\":{\"fillmode\":\"overlay\",\"size\":10,\"solidity\":0.2}},\"type\":\"histogram\"}],\"scattergl\":[{\"type\":\"scattergl\",\"marker\":{\"colorbar\":{\"outlinewidth\":0,\"ticks\":\"\"}}}],\"scatter3d\":[{\"type\":\"scatter3d\",\"line\":{\"colorbar\":{\"outlinewidth\":0,\"ticks\":\"\"}},\"marker\":{\"colorbar\":{\"outlinewidth\":0,\"ticks\":\"\"}}}],\"scattermapbox\":[{\"type\":\"scattermapbox\",\"marker\":{\"colorbar\":{\"outlinewidth\":0,\"ticks\":\"\"}}}],\"scatterternary\":[{\"type\":\"scatterternary\",\"marker\":{\"colorbar\":{\"outlinewidth\":0,\"ticks\":\"\"}}}],\"scattercarpet\":[{\"type\":\"scattercarpet\",\"marker\":{\"colorbar\":{\"outlinewidth\":0,\"ticks\":\"\"}}}],\"carpet\":[{\"aaxis\":{\"endlinecolor\":\"#2a3f5f\",\"gridcolor\":\"white\",\"linecolor\":\"white\",\"minorgridcolor\":\"white\",\"startlinecolor\":\"#2a3f5f\"},\"baxis\":{\"endlinecolor\":\"#2a3f5f\",\"gridcolor\":\"white\",\"linecolor\":\"white\",\"minorgridcolor\":\"white\",\"startlinecolor\":\"#2a3f5f\"},\"type\":\"carpet\"}],\"table\":[{\"cells\":{\"fill\":{\"color\":\"#EBF0F8\"},\"line\":{\"color\":\"white\"}},\"header\":{\"fill\":{\"color\":\"#C8D4E3\"},\"line\":{\"color\":\"white\"}},\"type\":\"table\"}],\"barpolar\":[{\"marker\":{\"line\":{\"color\":\"#E5ECF6\",\"width\":0.5},\"pattern\":{\"fillmode\":\"overlay\",\"size\":10,\"solidity\":0.2}},\"type\":\"barpolar\"}],\"pie\":[{\"automargin\":true,\"type\":\"pie\"}]},\"layout\":{\"autotypenumbers\":\"strict\",\"colorway\":[\"#636efa\",\"#EF553B\",\"#00cc96\",\"#ab63fa\",\"#FFA15A\",\"#19d3f3\",\"#FF6692\",\"#B6E880\",\"#FF97FF\",\"#FECB52\"],\"font\":{\"color\":\"#2a3f5f\"},\"hovermode\":\"closest\",\"hoverlabel\":{\"align\":\"left\"},\"paper_bgcolor\":\"white\",\"plot_bgcolor\":\"#E5ECF6\",\"polar\":{\"bgcolor\":\"#E5ECF6\",\"angularaxis\":{\"gridcolor\":\"white\",\"linecolor\":\"white\",\"ticks\":\"\"},\"radialaxis\":{\"gridcolor\":\"white\",\"linecolor\":\"white\",\"ticks\":\"\"}},\"ternary\":{\"bgcolor\":\"#E5ECF6\",\"aaxis\":{\"gridcolor\":\"white\",\"linecolor\":\"white\",\"ticks\":\"\"},\"baxis\":{\"gridcolor\":\"white\",\"linecolor\":\"white\",\"ticks\":\"\"},\"caxis\":{\"gridcolor\":\"white\",\"linecolor\":\"white\",\"ticks\":\"\"}},\"coloraxis\":{\"colorbar\":{\"outlinewidth\":0,\"ticks\":\"\"}},\"colorscale\":{\"sequential\":[[0.0,\"#0d0887\"],[0.1111111111111111,\"#46039f\"],[0.2222222222222222,\"#7201a8\"],[0.3333333333333333,\"#9c179e\"],[0.4444444444444444,\"#bd3786\"],[0.5555555555555556,\"#d8576b\"],[0.6666666666666666,\"#ed7953\"],[0.7777777777777778,\"#fb9f3a\"],[0.8888888888888888,\"#fdca26\"],[1.0,\"#f0f921\"]],\"sequentialminus\":[[0.0,\"#0d0887\"],[0.1111111111111111,\"#46039f\"],[0.2222222222222222,\"#7201a8\"],[0.3333333333333333,\"#9c179e\"],[0.4444444444444444,\"#bd3786\"],[0.5555555555555556,\"#d8576b\"],[0.6666666666666666,\"#ed7953\"],[0.7777777777777778,\"#fb9f3a\"],[0.8888888888888888,\"#fdca26\"],[1.0,\"#f0f921\"]],\"diverging\":[[0,\"#8e0152\"],[0.1,\"#c51b7d\"],[0.2,\"#de77ae\"],[0.3,\"#f1b6da\"],[0.4,\"#fde0ef\"],[0.5,\"#f7f7f7\"],[0.6,\"#e6f5d0\"],[0.7,\"#b8e186\"],[0.8,\"#7fbc41\"],[0.9,\"#4d9221\"],[1,\"#276419\"]]},\"xaxis\":{\"gridcolor\":\"white\",\"linecolor\":\"white\",\"ticks\":\"\",\"title\":{\"standoff\":15},\"zerolinecolor\":\"white\",\"automargin\":true,\"zerolinewidth\":2},\"yaxis\":{\"gridcolor\":\"white\",\"linecolor\":\"white\",\"ticks\":\"\",\"title\":{\"standoff\":15},\"zerolinecolor\":\"white\",\"automargin\":true,\"zerolinewidth\":2},\"scene\":{\"xaxis\":{\"backgroundcolor\":\"#E5ECF6\",\"gridcolor\":\"white\",\"linecolor\":\"white\",\"showbackground\":true,\"ticks\":\"\",\"zerolinecolor\":\"white\",\"gridwidth\":2},\"yaxis\":{\"backgroundcolor\":\"#E5ECF6\",\"gridcolor\":\"white\",\"linecolor\":\"white\",\"showbackground\":true,\"ticks\":\"\",\"zerolinecolor\":\"white\",\"gridwidth\":2},\"zaxis\":{\"backgroundcolor\":\"#E5ECF6\",\"gridcolor\":\"white\",\"linecolor\":\"white\",\"showbackground\":true,\"ticks\":\"\",\"zerolinecolor\":\"white\",\"gridwidth\":2}},\"shapedefaults\":{\"line\":{\"color\":\"#2a3f5f\"}},\"annotationdefaults\":{\"arrowcolor\":\"#2a3f5f\",\"arrowhead\":0,\"arrowwidth\":1},\"geo\":{\"bgcolor\":\"white\",\"landcolor\":\"#E5ECF6\",\"subunitcolor\":\"white\",\"showland\":true,\"showlakes\":true,\"lakecolor\":\"white\"},\"title\":{\"x\":0.05},\"mapbox\":{\"style\":\"light\"}}},\"scene\":{\"domain\":{\"x\":[0.0,1.0],\"y\":[0.0,1.0]},\"xaxis\":{\"title\":{\"text\":\"x\"}},\"yaxis\":{\"title\":{\"text\":\"y\"}},\"zaxis\":{\"title\":{\"text\":\"z\"}}},\"legend\":{\"tracegroupgap\":0},\"margin\":{\"t\":60}},                        {\"responsive\": true}                    ).then(function(){\n",
       "                            \n",
       "var gd = document.getElementById('c27ebb71-0837-45dd-b818-42d4abe156fd');\n",
       "var x = new MutationObserver(function (mutations, observer) {{\n",
       "        var display = window.getComputedStyle(gd).display;\n",
       "        if (!display || display === 'none') {{\n",
       "            console.log([gd, 'removed!']);\n",
       "            Plotly.purge(gd);\n",
       "            observer.disconnect();\n",
       "        }}\n",
       "}});\n",
       "\n",
       "// Listen for the removal of the full notebook cells\n",
       "var notebookContainer = gd.closest('#notebook-container');\n",
       "if (notebookContainer) {{\n",
       "    x.observe(notebookContainer, {childList: true});\n",
       "}}\n",
       "\n",
       "// Listen for the clearing of the current output cell\n",
       "var outputEl = gd.closest('.output');\n",
       "if (outputEl) {{\n",
       "    x.observe(outputEl, {childList: true});\n",
       "}}\n",
       "\n",
       "                        })                };                });            </script>        </div>"
      ]
     },
     "metadata": {},
     "output_type": "display_data"
    }
   ],
   "source": [
    "states = sample_singer(10, 1, 1, seed=1)\n",
    "\n",
    "fig = ex.scatter_3d(x=states[:,0], y=states[:,1], z=states[:,2])\n",
    "fig.update_traces(marker_size = 1)\n",
    "fig"
   ]
  },
  {
   "cell_type": "code",
   "execution_count": 72,
   "id": "db14311c-2287-449a-923b-46ad61b1a999",
   "metadata": {},
   "outputs": [
    {
     "data": {
      "application/vnd.plotly.v1+json": {
       "config": {
        "plotlyServerURL": "https://plot.ly"
       },
       "data": [
        {
         "hovertemplate": "x=%{x}<br>y=%{y}<br>z=%{z}<extra></extra>",
         "legendgroup": "",
         "marker": {
          "color": "#636efa",
          "size": 1,
          "symbol": "circle"
         },
         "mode": "markers",
         "name": "",
         "scene": "scene",
         "showlegend": false,
         "type": "scatter3d",
         "x": [
          0,
          0.3597565919569534,
          1.5474491341868024,
          3.6825563328640953,
          6.732202375892144,
          10.767235385762447,
          15.692699467120423,
          21.099100130314874,
          26.852463661397035,
          32.667593133339295,
          38.23266124038257,
          43.54327405499251,
          48.5867525770611,
          53.14588718121036,
          56.75528395843322,
          59.39253928891675,
          61.18739793336325,
          62.286368578525504,
          63.00205032684353,
          63.686249755235536,
          64.6297240372007,
          66.04989076411688,
          67.63907486855732,
          69.30203369515884,
          71.53224340640705,
          74.7138871602338,
          79.06659375604755,
          84.79265312174262,
          92.68594503058377,
          103.2858281420458,
          116.59846402542485,
          132.29169727249422,
          150.1977828943537,
          170.4959206658474,
          193.50157886307898,
          219.44271861208895,
          247.77611911239893,
          277.808055747378,
          309.18161514014594,
          341.8167885559919,
          375.52206538663347,
          410.0747728691685,
          445.5831050735615,
          481.6331235453377,
          517.9621833000892,
          554.8739626524045,
          592.4364443828653,
          630.6008989796034,
          669.533497963826,
          709.0823416878632,
          749.0994291526373,
          789.5223765926917,
          830.2497330242226,
          871.1796860976891,
          912.0814960409073,
          953.1331237206548,
          994.1793661258275,
          1035.0510835555278,
          1075.808220884987,
          1116.2832832812617,
          1156.4700446479608,
          1196.8410139299158,
          1237.501923160349,
          1278.4000243587714,
          1319.614268470675,
          1361.5298078126996,
          1404.6873643133295,
          1449.117176399369,
          1494.6243738606286,
          1540.8697172752911,
          1587.7386982688045,
          1635.1685714610476,
          1683.1115740753103,
          1731.8286850281886,
          1781.457537734766,
          1832.4363458214077,
          1885.164414291279,
          1939.2708879713232,
          1994.7071401219978,
          2051.8506592158783,
          2110.975799528557,
          2172.1713619935813,
          2235.5983475255366,
          2301.2085261134607,
          2368.9137395952603,
          2438.8914571786727,
          2511.269896791861,
          2586.433210216446,
          2664.398557446788,
          2744.5252809017056,
          2826.281578521011,
          2909.755529033291,
          2994.910657118859,
          3081.4237592272,
          3169.3760516639204,
          3258.9100229854284,
          3349.8396095501084,
          3442.2390753993855,
          3536.259093424108,
          3631.658391412421
         ],
         "y": [
          0,
          -0.4253130509668557,
          -2.065065916522202,
          -5.136249228427087,
          -9.166846427456065,
          -14.229247225469928,
          -20.754597371927623,
          -28.411076563314484,
          -36.82942815915283,
          -45.895404352011404,
          -55.23222691303168,
          -64.62243117829229,
          -74.0807978445348,
          -83.72985405430705,
          -93.85062080892526,
          -104.97624380412105,
          -117.22048211583153,
          -130.55825637580253,
          -145.10882376511262,
          -160.6219174939437,
          -176.82105254704157,
          -193.58203645001726,
          -211.01372960715338,
          -229.16908232284942,
          -248.1665284789934,
          -268.0285371821219,
          -288.70373348927103,
          -310.4640810989508,
          -333.8768478418866,
          -359.04312323108195,
          -385.5671801149125,
          -413.4372252652947,
          -442.72150448251705,
          -473.33469057218394,
          -505.0402681674067,
          -537.4719063107156,
          -570.2531253417637,
          -603.1704501614075,
          -635.8967802455745,
          -668.2909294058218,
          -700.8398200853695,
          -733.6901016183854,
          -766.9049773463245,
          -800.4394029036981,
          -834.14214489874,
          -868.2529441902501,
          -902.8401380243251,
          -937.4253538907371,
          -971.5553779541933,
          -1005.3993307774821,
          -1039.162430153835,
          -1072.6666106700286,
          -1105.802805358047,
          -1138.3069901312674,
          -1170.103970955593,
          -1201.6274401112694,
          -1233.2070927152877,
          -1264.8531602221533,
          -1296.7517062773934,
          -1329.3110809638767,
          -1362.5807240979796,
          -1396.3486054132804,
          -1430.2121513987095,
          -1463.6140659224777,
          -1496.1072097416154,
          -1527.4057662813764,
          -1557.6403657947785,
          -1586.7522443300115,
          -1614.5419971914328,
          -1641.1927543785007,
          -1666.7461796861767,
          -1691.0229643317841,
          -1713.8217730452714,
          -1735.3235850302801,
          -1755.659403341665,
          -1774.7934685532239,
          -1792.8483072375423,
          -1809.5799846131356,
          -1824.7358775944042,
          -1838.493825744248,
          -1851.120981238164,
          -1863.1973707248103,
          -1875.2624428876381,
          -1887.5803315843452,
          -1900.3051548829494,
          -1913.5398748020957,
          -1927.1646208357133,
          -1940.694902168971,
          -1953.8541950248953,
          -1966.9605018265383,
          -1980.2041138089266,
          -1993.1869112227027,
          -2005.4283084496692,
          -2016.9474801796403,
          -2028.181435488843,
          -2039.4667489216508,
          -2050.8238726828995,
          -2061.7205433608106,
          -2071.666890529877,
          -2080.3429300995213
         ],
         "z": [
          0,
          0.11863028859021735,
          0.530673628745909,
          1.490191504116069,
          3.40921749556275,
          6.38488030967234,
          10.468737704903457,
          15.715705967819872,
          21.91754075611653,
          29.150793257236558,
          37.64935914397014,
          47.394892621017355,
          58.43850876590142,
          70.46433678973247,
          83.10951961314088,
          96.113944191534,
          109.12973609749082,
          122.37790721906562,
          136.3630323138376,
          151.32101052821986,
          167.05960356439257,
          183.65218455145035,
          201.6954621068885,
          221.60320171889197,
          243.17328329970772,
          266.62902963744926,
          292.6004737740692,
          321.06797717935166,
          351.5224783744365,
          383.73405766591594,
          417.5767077335909,
          452.79439423072137,
          489.2089518158273,
          526.843098625179,
          565.7883140254008,
          605.562821484423,
          645.7299592511489,
          686.4917021953928,
          727.9507110407363,
          769.6573039471095,
          811.2379639654079,
          852.3869047573504,
          892.6661018784606,
          931.7941651679866,
          969.6006447306443,
          1005.8345089017281,
          1040.2601113309665,
          1072.9932154259714,
          1104.1248356887468,
          1133.778710118131,
          1162.2237885207214,
          1189.2714494509382,
          1214.5117615828729,
          1237.5104608560127,
          1258.3708235302865,
          1277.7436167762633,
          1296.1102341912147,
          1313.778027337959,
          1330.7785988236076,
          1347.0990736898518,
          1362.8882186961782,
          1378.335743821855,
          1393.435210531222,
          1408.1264840101353,
          1423.1123732730596,
          1438.9632716809667,
          1455.6911158376424,
          1473.1302563370139,
          1491.4391930376532,
          1511.2524249934074,
          1532.8960549749586,
          1556.4388412848925,
          1581.660534099386,
          1608.3936138587003,
          1636.7965840603295,
          1667.0401210863517,
          1698.9630717190516,
          1732.3481388982002,
          1766.89610674428,
          1802.0075860852016,
          1837.3840221759317,
          1872.8937738703182,
          1908.3660763435848,
          1943.694748437627,
          1978.3617131250162,
          2011.9321493591642,
          2044.3756998280678,
          2075.782187413019,
          2106.5773739303854,
          2137.0658322728023,
          2167.380789015031,
          2197.784986883633,
          2228.435963961489,
          2259.347618635774,
          2290.4384764537335,
          2321.4857447893214,
          2351.9794868536333,
          2381.410692938105,
          2409.588807095261,
          2436.2456537142357
         ]
        }
       ],
       "layout": {
        "autosize": true,
        "legend": {
         "tracegroupgap": 0
        },
        "margin": {
         "t": 60
        },
        "scene": {
         "aspectmode": "auto",
         "aspectratio": {
          "x": 1.3754706378966473,
          "y": 0.7879184407525995,
          "z": 0.9227146394911864
         },
         "camera": {
          "center": {
           "x": 0,
           "y": 0,
           "z": 0
          },
          "eye": {
           "x": 0.8546722811557317,
           "y": 0.8546722811557316,
           "z": 0.8546722811557317
          },
          "projection": {
           "type": "perspective"
          },
          "up": {
           "x": 0,
           "y": 0,
           "z": 1
          }
         },
         "domain": {
          "x": [
           0,
           1
          ],
          "y": [
           0,
           1
          ]
         },
         "xaxis": {
          "title": {
           "text": "x"
          },
          "type": "linear"
         },
         "yaxis": {
          "title": {
           "text": "y"
          },
          "type": "linear"
         },
         "zaxis": {
          "title": {
           "text": "z"
          },
          "type": "linear"
         }
        },
        "template": {
         "data": {
          "bar": [
           {
            "error_x": {
             "color": "#2a3f5f"
            },
            "error_y": {
             "color": "#2a3f5f"
            },
            "marker": {
             "line": {
              "color": "#E5ECF6",
              "width": 0.5
             },
             "pattern": {
              "fillmode": "overlay",
              "size": 10,
              "solidity": 0.2
             }
            },
            "type": "bar"
           }
          ],
          "barpolar": [
           {
            "marker": {
             "line": {
              "color": "#E5ECF6",
              "width": 0.5
             },
             "pattern": {
              "fillmode": "overlay",
              "size": 10,
              "solidity": 0.2
             }
            },
            "type": "barpolar"
           }
          ],
          "carpet": [
           {
            "aaxis": {
             "endlinecolor": "#2a3f5f",
             "gridcolor": "white",
             "linecolor": "white",
             "minorgridcolor": "white",
             "startlinecolor": "#2a3f5f"
            },
            "baxis": {
             "endlinecolor": "#2a3f5f",
             "gridcolor": "white",
             "linecolor": "white",
             "minorgridcolor": "white",
             "startlinecolor": "#2a3f5f"
            },
            "type": "carpet"
           }
          ],
          "choropleth": [
           {
            "colorbar": {
             "outlinewidth": 0,
             "ticks": ""
            },
            "type": "choropleth"
           }
          ],
          "contour": [
           {
            "colorbar": {
             "outlinewidth": 0,
             "ticks": ""
            },
            "colorscale": [
             [
              0,
              "#0d0887"
             ],
             [
              0.1111111111111111,
              "#46039f"
             ],
             [
              0.2222222222222222,
              "#7201a8"
             ],
             [
              0.3333333333333333,
              "#9c179e"
             ],
             [
              0.4444444444444444,
              "#bd3786"
             ],
             [
              0.5555555555555556,
              "#d8576b"
             ],
             [
              0.6666666666666666,
              "#ed7953"
             ],
             [
              0.7777777777777778,
              "#fb9f3a"
             ],
             [
              0.8888888888888888,
              "#fdca26"
             ],
             [
              1,
              "#f0f921"
             ]
            ],
            "type": "contour"
           }
          ],
          "contourcarpet": [
           {
            "colorbar": {
             "outlinewidth": 0,
             "ticks": ""
            },
            "type": "contourcarpet"
           }
          ],
          "heatmap": [
           {
            "colorbar": {
             "outlinewidth": 0,
             "ticks": ""
            },
            "colorscale": [
             [
              0,
              "#0d0887"
             ],
             [
              0.1111111111111111,
              "#46039f"
             ],
             [
              0.2222222222222222,
              "#7201a8"
             ],
             [
              0.3333333333333333,
              "#9c179e"
             ],
             [
              0.4444444444444444,
              "#bd3786"
             ],
             [
              0.5555555555555556,
              "#d8576b"
             ],
             [
              0.6666666666666666,
              "#ed7953"
             ],
             [
              0.7777777777777778,
              "#fb9f3a"
             ],
             [
              0.8888888888888888,
              "#fdca26"
             ],
             [
              1,
              "#f0f921"
             ]
            ],
            "type": "heatmap"
           }
          ],
          "heatmapgl": [
           {
            "colorbar": {
             "outlinewidth": 0,
             "ticks": ""
            },
            "colorscale": [
             [
              0,
              "#0d0887"
             ],
             [
              0.1111111111111111,
              "#46039f"
             ],
             [
              0.2222222222222222,
              "#7201a8"
             ],
             [
              0.3333333333333333,
              "#9c179e"
             ],
             [
              0.4444444444444444,
              "#bd3786"
             ],
             [
              0.5555555555555556,
              "#d8576b"
             ],
             [
              0.6666666666666666,
              "#ed7953"
             ],
             [
              0.7777777777777778,
              "#fb9f3a"
             ],
             [
              0.8888888888888888,
              "#fdca26"
             ],
             [
              1,
              "#f0f921"
             ]
            ],
            "type": "heatmapgl"
           }
          ],
          "histogram": [
           {
            "marker": {
             "pattern": {
              "fillmode": "overlay",
              "size": 10,
              "solidity": 0.2
             }
            },
            "type": "histogram"
           }
          ],
          "histogram2d": [
           {
            "colorbar": {
             "outlinewidth": 0,
             "ticks": ""
            },
            "colorscale": [
             [
              0,
              "#0d0887"
             ],
             [
              0.1111111111111111,
              "#46039f"
             ],
             [
              0.2222222222222222,
              "#7201a8"
             ],
             [
              0.3333333333333333,
              "#9c179e"
             ],
             [
              0.4444444444444444,
              "#bd3786"
             ],
             [
              0.5555555555555556,
              "#d8576b"
             ],
             [
              0.6666666666666666,
              "#ed7953"
             ],
             [
              0.7777777777777778,
              "#fb9f3a"
             ],
             [
              0.8888888888888888,
              "#fdca26"
             ],
             [
              1,
              "#f0f921"
             ]
            ],
            "type": "histogram2d"
           }
          ],
          "histogram2dcontour": [
           {
            "colorbar": {
             "outlinewidth": 0,
             "ticks": ""
            },
            "colorscale": [
             [
              0,
              "#0d0887"
             ],
             [
              0.1111111111111111,
              "#46039f"
             ],
             [
              0.2222222222222222,
              "#7201a8"
             ],
             [
              0.3333333333333333,
              "#9c179e"
             ],
             [
              0.4444444444444444,
              "#bd3786"
             ],
             [
              0.5555555555555556,
              "#d8576b"
             ],
             [
              0.6666666666666666,
              "#ed7953"
             ],
             [
              0.7777777777777778,
              "#fb9f3a"
             ],
             [
              0.8888888888888888,
              "#fdca26"
             ],
             [
              1,
              "#f0f921"
             ]
            ],
            "type": "histogram2dcontour"
           }
          ],
          "mesh3d": [
           {
            "colorbar": {
             "outlinewidth": 0,
             "ticks": ""
            },
            "type": "mesh3d"
           }
          ],
          "parcoords": [
           {
            "line": {
             "colorbar": {
              "outlinewidth": 0,
              "ticks": ""
             }
            },
            "type": "parcoords"
           }
          ],
          "pie": [
           {
            "automargin": true,
            "type": "pie"
           }
          ],
          "scatter": [
           {
            "fillpattern": {
             "fillmode": "overlay",
             "size": 10,
             "solidity": 0.2
            },
            "type": "scatter"
           }
          ],
          "scatter3d": [
           {
            "line": {
             "colorbar": {
              "outlinewidth": 0,
              "ticks": ""
             }
            },
            "marker": {
             "colorbar": {
              "outlinewidth": 0,
              "ticks": ""
             }
            },
            "type": "scatter3d"
           }
          ],
          "scattercarpet": [
           {
            "marker": {
             "colorbar": {
              "outlinewidth": 0,
              "ticks": ""
             }
            },
            "type": "scattercarpet"
           }
          ],
          "scattergeo": [
           {
            "marker": {
             "colorbar": {
              "outlinewidth": 0,
              "ticks": ""
             }
            },
            "type": "scattergeo"
           }
          ],
          "scattergl": [
           {
            "marker": {
             "colorbar": {
              "outlinewidth": 0,
              "ticks": ""
             }
            },
            "type": "scattergl"
           }
          ],
          "scattermapbox": [
           {
            "marker": {
             "colorbar": {
              "outlinewidth": 0,
              "ticks": ""
             }
            },
            "type": "scattermapbox"
           }
          ],
          "scatterpolar": [
           {
            "marker": {
             "colorbar": {
              "outlinewidth": 0,
              "ticks": ""
             }
            },
            "type": "scatterpolar"
           }
          ],
          "scatterpolargl": [
           {
            "marker": {
             "colorbar": {
              "outlinewidth": 0,
              "ticks": ""
             }
            },
            "type": "scatterpolargl"
           }
          ],
          "scatterternary": [
           {
            "marker": {
             "colorbar": {
              "outlinewidth": 0,
              "ticks": ""
             }
            },
            "type": "scatterternary"
           }
          ],
          "surface": [
           {
            "colorbar": {
             "outlinewidth": 0,
             "ticks": ""
            },
            "colorscale": [
             [
              0,
              "#0d0887"
             ],
             [
              0.1111111111111111,
              "#46039f"
             ],
             [
              0.2222222222222222,
              "#7201a8"
             ],
             [
              0.3333333333333333,
              "#9c179e"
             ],
             [
              0.4444444444444444,
              "#bd3786"
             ],
             [
              0.5555555555555556,
              "#d8576b"
             ],
             [
              0.6666666666666666,
              "#ed7953"
             ],
             [
              0.7777777777777778,
              "#fb9f3a"
             ],
             [
              0.8888888888888888,
              "#fdca26"
             ],
             [
              1,
              "#f0f921"
             ]
            ],
            "type": "surface"
           }
          ],
          "table": [
           {
            "cells": {
             "fill": {
              "color": "#EBF0F8"
             },
             "line": {
              "color": "white"
             }
            },
            "header": {
             "fill": {
              "color": "#C8D4E3"
             },
             "line": {
              "color": "white"
             }
            },
            "type": "table"
           }
          ]
         },
         "layout": {
          "annotationdefaults": {
           "arrowcolor": "#2a3f5f",
           "arrowhead": 0,
           "arrowwidth": 1
          },
          "autotypenumbers": "strict",
          "coloraxis": {
           "colorbar": {
            "outlinewidth": 0,
            "ticks": ""
           }
          },
          "colorscale": {
           "diverging": [
            [
             0,
             "#8e0152"
            ],
            [
             0.1,
             "#c51b7d"
            ],
            [
             0.2,
             "#de77ae"
            ],
            [
             0.3,
             "#f1b6da"
            ],
            [
             0.4,
             "#fde0ef"
            ],
            [
             0.5,
             "#f7f7f7"
            ],
            [
             0.6,
             "#e6f5d0"
            ],
            [
             0.7,
             "#b8e186"
            ],
            [
             0.8,
             "#7fbc41"
            ],
            [
             0.9,
             "#4d9221"
            ],
            [
             1,
             "#276419"
            ]
           ],
           "sequential": [
            [
             0,
             "#0d0887"
            ],
            [
             0.1111111111111111,
             "#46039f"
            ],
            [
             0.2222222222222222,
             "#7201a8"
            ],
            [
             0.3333333333333333,
             "#9c179e"
            ],
            [
             0.4444444444444444,
             "#bd3786"
            ],
            [
             0.5555555555555556,
             "#d8576b"
            ],
            [
             0.6666666666666666,
             "#ed7953"
            ],
            [
             0.7777777777777778,
             "#fb9f3a"
            ],
            [
             0.8888888888888888,
             "#fdca26"
            ],
            [
             1,
             "#f0f921"
            ]
           ],
           "sequentialminus": [
            [
             0,
             "#0d0887"
            ],
            [
             0.1111111111111111,
             "#46039f"
            ],
            [
             0.2222222222222222,
             "#7201a8"
            ],
            [
             0.3333333333333333,
             "#9c179e"
            ],
            [
             0.4444444444444444,
             "#bd3786"
            ],
            [
             0.5555555555555556,
             "#d8576b"
            ],
            [
             0.6666666666666666,
             "#ed7953"
            ],
            [
             0.7777777777777778,
             "#fb9f3a"
            ],
            [
             0.8888888888888888,
             "#fdca26"
            ],
            [
             1,
             "#f0f921"
            ]
           ]
          },
          "colorway": [
           "#636efa",
           "#EF553B",
           "#00cc96",
           "#ab63fa",
           "#FFA15A",
           "#19d3f3",
           "#FF6692",
           "#B6E880",
           "#FF97FF",
           "#FECB52"
          ],
          "font": {
           "color": "#2a3f5f"
          },
          "geo": {
           "bgcolor": "white",
           "lakecolor": "white",
           "landcolor": "#E5ECF6",
           "showlakes": true,
           "showland": true,
           "subunitcolor": "white"
          },
          "hoverlabel": {
           "align": "left"
          },
          "hovermode": "closest",
          "mapbox": {
           "style": "light"
          },
          "paper_bgcolor": "white",
          "plot_bgcolor": "#E5ECF6",
          "polar": {
           "angularaxis": {
            "gridcolor": "white",
            "linecolor": "white",
            "ticks": ""
           },
           "bgcolor": "#E5ECF6",
           "radialaxis": {
            "gridcolor": "white",
            "linecolor": "white",
            "ticks": ""
           }
          },
          "scene": {
           "xaxis": {
            "backgroundcolor": "#E5ECF6",
            "gridcolor": "white",
            "gridwidth": 2,
            "linecolor": "white",
            "showbackground": true,
            "ticks": "",
            "zerolinecolor": "white"
           },
           "yaxis": {
            "backgroundcolor": "#E5ECF6",
            "gridcolor": "white",
            "gridwidth": 2,
            "linecolor": "white",
            "showbackground": true,
            "ticks": "",
            "zerolinecolor": "white"
           },
           "zaxis": {
            "backgroundcolor": "#E5ECF6",
            "gridcolor": "white",
            "gridwidth": 2,
            "linecolor": "white",
            "showbackground": true,
            "ticks": "",
            "zerolinecolor": "white"
           }
          },
          "shapedefaults": {
           "line": {
            "color": "#2a3f5f"
           }
          },
          "ternary": {
           "aaxis": {
            "gridcolor": "white",
            "linecolor": "white",
            "ticks": ""
           },
           "baxis": {
            "gridcolor": "white",
            "linecolor": "white",
            "ticks": ""
           },
           "bgcolor": "#E5ECF6",
           "caxis": {
            "gridcolor": "white",
            "linecolor": "white",
            "ticks": ""
           }
          },
          "title": {
           "x": 0.05
          },
          "xaxis": {
           "automargin": true,
           "gridcolor": "white",
           "linecolor": "white",
           "ticks": "",
           "title": {
            "standoff": 15
           },
           "zerolinecolor": "white",
           "zerolinewidth": 2
          },
          "yaxis": {
           "automargin": true,
           "gridcolor": "white",
           "linecolor": "white",
           "ticks": "",
           "title": {
            "standoff": 15
           },
           "zerolinecolor": "white",
           "zerolinewidth": 2
          }
         }
        }
       }
      },
      "image/png": "[encoded data removed]",
      "text/html": [
       "<div>                            <div id=\"a3f69426-a4bf-4fdc-af10-5cacd8b4b7bb\" class=\"plotly-graph-div\" style=\"height:525px; width:100%;\"></div>            <script type=\"text/javascript\">                require([\"plotly\"], function(Plotly) {                    window.PLOTLYENV=window.PLOTLYENV || {};                                    if (document.getElementById(\"a3f69426-a4bf-4fdc-af10-5cacd8b4b7bb\")) {                    Plotly.newPlot(                        \"a3f69426-a4bf-4fdc-af10-5cacd8b4b7bb\",                        [{\"hovertemplate\":\"x=%{x}<br>y=%{y}<br>z=%{z}<extra></extra>\",\"legendgroup\":\"\",\"marker\":{\"color\":\"#636efa\",\"symbol\":\"circle\",\"size\":1},\"mode\":\"markers\",\"name\":\"\",\"scene\":\"scene\",\"showlegend\":false,\"x\":[0.0,0.3597565919569534,1.5474491341868024,3.6825563328640953,6.732202375892144,10.767235385762447,15.692699467120423,21.099100130314874,26.852463661397035,32.667593133339295,38.23266124038257,43.54327405499251,48.5867525770611,53.14588718121036,56.75528395843322,59.39253928891675,61.18739793336325,62.286368578525504,63.00205032684353,63.686249755235536,64.6297240372007,66.04989076411688,67.63907486855732,69.30203369515884,71.53224340640705,74.7138871602338,79.06659375604755,84.79265312174262,92.68594503058377,103.2858281420458,116.59846402542485,132.29169727249422,150.1977828943537,170.4959206658474,193.50157886307898,219.44271861208895,247.77611911239893,277.808055747378,309.18161514014594,341.8167885559919,375.52206538663347,410.0747728691685,445.5831050735615,481.6331235453377,517.9621833000892,554.8739626524045,592.4364443828653,630.6008989796034,669.533497963826,709.0823416878632,749.0994291526373,789.5223765926917,830.2497330242226,871.1796860976891,912.0814960409073,953.1331237206548,994.1793661258275,1035.0510835555278,1075.808220884987,1116.2832832812617,1156.4700446479608,1196.8410139299158,1237.501923160349,1278.4000243587714,1319.614268470675,1361.5298078126996,1404.6873643133295,1449.117176399369,1494.6243738606286,1540.8697172752911,1587.7386982688045,1635.1685714610476,1683.1115740753103,1731.8286850281886,1781.457537734766,1832.4363458214077,1885.164414291279,1939.2708879713232,1994.7071401219978,2051.8506592158783,2110.975799528557,2172.1713619935813,2235.5983475255366,2301.2085261134607,2368.9137395952603,2438.8914571786727,2511.269896791861,2586.433210216446,2664.398557446788,2744.5252809017056,2826.281578521011,2909.755529033291,2994.910657118859,3081.4237592272,3169.3760516639204,3258.9100229854284,3349.8396095501084,3442.2390753993855,3536.259093424108,3631.658391412421],\"y\":[0.0,-0.4253130509668557,-2.065065916522202,-5.136249228427087,-9.166846427456065,-14.229247225469928,-20.754597371927623,-28.411076563314484,-36.82942815915283,-45.895404352011404,-55.23222691303168,-64.62243117829229,-74.0807978445348,-83.72985405430705,-93.85062080892526,-104.97624380412105,-117.22048211583153,-130.55825637580253,-145.10882376511262,-160.6219174939437,-176.82105254704157,-193.58203645001726,-211.01372960715338,-229.16908232284942,-248.1665284789934,-268.0285371821219,-288.70373348927103,-310.4640810989508,-333.8768478418866,-359.04312323108195,-385.5671801149125,-413.4372252652947,-442.72150448251705,-473.33469057218394,-505.0402681674067,-537.4719063107156,-570.2531253417637,-603.1704501614075,-635.8967802455745,-668.2909294058218,-700.8398200853695,-733.6901016183854,-766.9049773463245,-800.4394029036981,-834.14214489874,-868.2529441902501,-902.8401380243251,-937.4253538907371,-971.5553779541933,-1005.3993307774821,-1039.162430153835,-1072.6666106700286,-1105.802805358047,-1138.3069901312674,-1170.103970955593,-1201.6274401112694,-1233.2070927152877,-1264.8531602221533,-1296.7517062773934,-1329.3110809638767,-1362.5807240979796,-1396.3486054132804,-1430.2121513987095,-1463.6140659224777,-1496.1072097416154,-1527.4057662813764,-1557.6403657947785,-1586.7522443300115,-1614.5419971914328,-1641.1927543785007,-1666.7461796861767,-1691.0229643317841,-1713.8217730452714,-1735.3235850302801,-1755.659403341665,-1774.7934685532239,-1792.8483072375423,-1809.5799846131356,-1824.7358775944042,-1838.493825744248,-1851.120981238164,-1863.1973707248103,-1875.2624428876381,-1887.5803315843452,-1900.3051548829494,-1913.5398748020957,-1927.1646208357133,-1940.694902168971,-1953.8541950248953,-1966.9605018265383,-1980.2041138089266,-1993.1869112227027,-2005.4283084496692,-2016.9474801796403,-2028.181435488843,-2039.4667489216508,-2050.8238726828995,-2061.7205433608106,-2071.666890529877,-2080.3429300995213],\"z\":[0.0,0.11863028859021735,0.530673628745909,1.490191504116069,3.40921749556275,6.38488030967234,10.468737704903457,15.715705967819872,21.91754075611653,29.150793257236558,37.64935914397014,47.394892621017355,58.43850876590142,70.46433678973247,83.10951961314088,96.113944191534,109.12973609749082,122.37790721906562,136.3630323138376,151.32101052821986,167.05960356439257,183.65218455145035,201.6954621068885,221.60320171889197,243.17328329970772,266.62902963744926,292.6004737740692,321.06797717935166,351.5224783744365,383.73405766591594,417.5767077335909,452.79439423072137,489.2089518158273,526.843098625179,565.7883140254008,605.562821484423,645.7299592511489,686.4917021953928,727.9507110407363,769.6573039471095,811.2379639654079,852.3869047573504,892.6661018784606,931.7941651679866,969.6006447306443,1005.8345089017281,1040.2601113309665,1072.9932154259714,1104.1248356887468,1133.778710118131,1162.2237885207214,1189.2714494509382,1214.5117615828729,1237.5104608560127,1258.3708235302865,1277.7436167762633,1296.1102341912147,1313.778027337959,1330.7785988236076,1347.0990736898518,1362.8882186961782,1378.335743821855,1393.435210531222,1408.1264840101353,1423.1123732730596,1438.9632716809667,1455.6911158376424,1473.1302563370139,1491.4391930376532,1511.2524249934074,1532.8960549749586,1556.4388412848925,1581.660534099386,1608.3936138587003,1636.7965840603295,1667.0401210863517,1698.9630717190516,1732.3481388982002,1766.89610674428,1802.0075860852016,1837.3840221759317,1872.8937738703182,1908.3660763435848,1943.694748437627,1978.3617131250162,2011.9321493591642,2044.3756998280678,2075.782187413019,2106.5773739303854,2137.0658322728023,2167.380789015031,2197.784986883633,2228.435963961489,2259.347618635774,2290.4384764537335,2321.4857447893214,2351.9794868536333,2381.410692938105,2409.588807095261,2436.2456537142357],\"type\":\"scatter3d\"}],                        {\"template\":{\"data\":{\"histogram2dcontour\":[{\"type\":\"histogram2dcontour\",\"colorbar\":{\"outlinewidth\":0,\"ticks\":\"\"},\"colorscale\":[[0.0,\"#0d0887\"],[0.1111111111111111,\"#46039f\"],[0.2222222222222222,\"#7201a8\"],[0.3333333333333333,\"#9c179e\"],[0.4444444444444444,\"#bd3786\"],[0.5555555555555556,\"#d8576b\"],[0.6666666666666666,\"#ed7953\"],[0.7777777777777778,\"#fb9f3a\"],[0.8888888888888888,\"#fdca26\"],[1.0,\"#f0f921\"]]}],\"choropleth\":[{\"type\":\"choropleth\",\"colorbar\":{\"outlinewidth\":0,\"ticks\":\"\"}}],\"histogram2d\":[{\"type\":\"histogram2d\",\"colorbar\":{\"outlinewidth\":0,\"ticks\":\"\"},\"colorscale\":[[0.0,\"#0d0887\"],[0.1111111111111111,\"#46039f\"],[0.2222222222222222,\"#7201a8\"],[0.3333333333333333,\"#9c179e\"],[0.4444444444444444,\"#bd3786\"],[0.5555555555555556,\"#d8576b\"],[0.6666666666666666,\"#ed7953\"],[0.7777777777777778,\"#fb9f3a\"],[0.8888888888888888,\"#fdca26\"],[1.0,\"#f0f921\"]]}],\"heatmap\":[{\"type\":\"heatmap\",\"colorbar\":{\"outlinewidth\":0,\"ticks\":\"\"},\"colorscale\":[[0.0,\"#0d0887\"],[0.1111111111111111,\"#46039f\"],[0.2222222222222222,\"#7201a8\"],[0.3333333333333333,\"#9c179e\"],[0.4444444444444444,\"#bd3786\"],[0.5555555555555556,\"#d8576b\"],[0.6666666666666666,\"#ed7953\"],[0.7777777777777778,\"#fb9f3a\"],[0.8888888888888888,\"#fdca26\"],[1.0,\"#f0f921\"]]}],\"heatmapgl\":[{\"type\":\"heatmapgl\",\"colorbar\":{\"outlinewidth\":0,\"ticks\":\"\"},\"colorscale\":[[0.0,\"#0d0887\"],[0.1111111111111111,\"#46039f\"],[0.2222222222222222,\"#7201a8\"],[0.3333333333333333,\"#9c179e\"],[0.4444444444444444,\"#bd3786\"],[0.5555555555555556,\"#d8576b\"],[0.6666666666666666,\"#ed7953\"],[0.7777777777777778,\"#fb9f3a\"],[0.8888888888888888,\"#fdca26\"],[1.0,\"#f0f921\"]]}],\"contourcarpet\":[{\"type\":\"contourcarpet\",\"colorbar\":{\"outlinewidth\":0,\"ticks\":\"\"}}],\"contour\":[{\"type\":\"contour\",\"colorbar\":{\"outlinewidth\":0,\"ticks\":\"\"},\"colorscale\":[[0.0,\"#0d0887\"],[0.1111111111111111,\"#46039f\"],[0.2222222222222222,\"#7201a8\"],[0.3333333333333333,\"#9c179e\"],[0.4444444444444444,\"#bd3786\"],[0.5555555555555556,\"#d8576b\"],[0.6666666666666666,\"#ed7953\"],[0.7777777777777778,\"#fb9f3a\"],[0.8888888888888888,\"#fdca26\"],[1.0,\"#f0f921\"]]}],\"surface\":[{\"type\":\"surface\",\"colorbar\":{\"outlinewidth\":0,\"ticks\":\"\"},\"colorscale\":[[0.0,\"#0d0887\"],[0.1111111111111111,\"#46039f\"],[0.2222222222222222,\"#7201a8\"],[0.3333333333333333,\"#9c179e\"],[0.4444444444444444,\"#bd3786\"],[0.5555555555555556,\"#d8576b\"],[0.6666666666666666,\"#ed7953\"],[0.7777777777777778,\"#fb9f3a\"],[0.8888888888888888,\"#fdca26\"],[1.0,\"#f0f921\"]]}],\"mesh3d\":[{\"type\":\"mesh3d\",\"colorbar\":{\"outlinewidth\":0,\"ticks\":\"\"}}],\"scatter\":[{\"fillpattern\":{\"fillmode\":\"overlay\",\"size\":10,\"solidity\":0.2},\"type\":\"scatter\"}],\"parcoords\":[{\"type\":\"parcoords\",\"line\":{\"colorbar\":{\"outlinewidth\":0,\"ticks\":\"\"}}}],\"scatterpolargl\":[{\"type\":\"scatterpolargl\",\"marker\":{\"colorbar\":{\"outlinewidth\":0,\"ticks\":\"\"}}}],\"bar\":[{\"error_x\":{\"color\":\"#2a3f5f\"},\"error_y\":{\"color\":\"#2a3f5f\"},\"marker\":{\"line\":{\"color\":\"#E5ECF6\",\"width\":0.5},\"pattern\":{\"fillmode\":\"overlay\",\"size\":10,\"solidity\":0.2}},\"type\":\"bar\"}],\"scattergeo\":[{\"type\":\"scattergeo\",\"marker\":{\"colorbar\":{\"outlinewidth\":0,\"ticks\":\"\"}}}],\"scatterpolar\":[{\"type\":\"scatterpolar\",\"marker\":{\"colorbar\":{\"outlinewidth\":0,\"ticks\":\"\"}}}],\"histogram\":[{\"marker\":{\"pattern\":{\"fillmode\":\"overlay\",\"size\":10,\"solidity\":0.2}},\"type\":\"histogram\"}],\"scattergl\":[{\"type\":\"scattergl\",\"marker\":{\"colorbar\":{\"outlinewidth\":0,\"ticks\":\"\"}}}],\"scatter3d\":[{\"type\":\"scatter3d\",\"line\":{\"colorbar\":{\"outlinewidth\":0,\"ticks\":\"\"}},\"marker\":{\"colorbar\":{\"outlinewidth\":0,\"ticks\":\"\"}}}],\"scattermapbox\":[{\"type\":\"scattermapbox\",\"marker\":{\"colorbar\":{\"outlinewidth\":0,\"ticks\":\"\"}}}],\"scatterternary\":[{\"type\":\"scatterternary\",\"marker\":{\"colorbar\":{\"outlinewidth\":0,\"ticks\":\"\"}}}],\"scattercarpet\":[{\"type\":\"scattercarpet\",\"marker\":{\"colorbar\":{\"outlinewidth\":0,\"ticks\":\"\"}}}],\"carpet\":[{\"aaxis\":{\"endlinecolor\":\"#2a3f5f\",\"gridcolor\":\"white\",\"linecolor\":\"white\",\"minorgridcolor\":\"white\",\"startlinecolor\":\"#2a3f5f\"},\"baxis\":{\"endlinecolor\":\"#2a3f5f\",\"gridcolor\":\"white\",\"linecolor\":\"white\",\"minorgridcolor\":\"white\",\"startlinecolor\":\"#2a3f5f\"},\"type\":\"carpet\"}],\"table\":[{\"cells\":{\"fill\":{\"color\":\"#EBF0F8\"},\"line\":{\"color\":\"white\"}},\"header\":{\"fill\":{\"color\":\"#C8D4E3\"},\"line\":{\"color\":\"white\"}},\"type\":\"table\"}],\"barpolar\":[{\"marker\":{\"line\":{\"color\":\"#E5ECF6\",\"width\":0.5},\"pattern\":{\"fillmode\":\"overlay\",\"size\":10,\"solidity\":0.2}},\"type\":\"barpolar\"}],\"pie\":[{\"automargin\":true,\"type\":\"pie\"}]},\"layout\":{\"autotypenumbers\":\"strict\",\"colorway\":[\"#636efa\",\"#EF553B\",\"#00cc96\",\"#ab63fa\",\"#FFA15A\",\"#19d3f3\",\"#FF6692\",\"#B6E880\",\"#FF97FF\",\"#FECB52\"],\"font\":{\"color\":\"#2a3f5f\"},\"hovermode\":\"closest\",\"hoverlabel\":{\"align\":\"left\"},\"paper_bgcolor\":\"white\",\"plot_bgcolor\":\"#E5ECF6\",\"polar\":{\"bgcolor\":\"#E5ECF6\",\"angularaxis\":{\"gridcolor\":\"white\",\"linecolor\":\"white\",\"ticks\":\"\"},\"radialaxis\":{\"gridcolor\":\"white\",\"linecolor\":\"white\",\"ticks\":\"\"}},\"ternary\":{\"bgcolor\":\"#E5ECF6\",\"aaxis\":{\"gridcolor\":\"white\",\"linecolor\":\"white\",\"ticks\":\"\"},\"baxis\":{\"gridcolor\":\"white\",\"linecolor\":\"white\",\"ticks\":\"\"},\"caxis\":{\"gridcolor\":\"white\",\"linecolor\":\"white\",\"ticks\":\"\"}},\"coloraxis\":{\"colorbar\":{\"outlinewidth\":0,\"ticks\":\"\"}},\"colorscale\":{\"sequential\":[[0.0,\"#0d0887\"],[0.1111111111111111,\"#46039f\"],[0.2222222222222222,\"#7201a8\"],[0.3333333333333333,\"#9c179e\"],[0.4444444444444444,\"#bd3786\"],[0.5555555555555556,\"#d8576b\"],[0.6666666666666666,\"#ed7953\"],[0.7777777777777778,\"#fb9f3a\"],[0.8888888888888888,\"#fdca26\"],[1.0,\"#f0f921\"]],\"sequentialminus\":[[0.0,\"#0d0887\"],[0.1111111111111111,\"#46039f\"],[0.2222222222222222,\"#7201a8\"],[0.3333333333333333,\"#9c179e\"],[0.4444444444444444,\"#bd3786\"],[0.5555555555555556,\"#d8576b\"],[0.6666666666666666,\"#ed7953\"],[0.7777777777777778,\"#fb9f3a\"],[0.8888888888888888,\"#fdca26\"],[1.0,\"#f0f921\"]],\"diverging\":[[0,\"#8e0152\"],[0.1,\"#c51b7d\"],[0.2,\"#de77ae\"],[0.3,\"#f1b6da\"],[0.4,\"#fde0ef\"],[0.5,\"#f7f7f7\"],[0.6,\"#e6f5d0\"],[0.7,\"#b8e186\"],[0.8,\"#7fbc41\"],[0.9,\"#4d9221\"],[1,\"#276419\"]]},\"xaxis\":{\"gridcolor\":\"white\",\"linecolor\":\"white\",\"ticks\":\"\",\"title\":{\"standoff\":15},\"zerolinecolor\":\"white\",\"automargin\":true,\"zerolinewidth\":2},\"yaxis\":{\"gridcolor\":\"white\",\"linecolor\":\"white\",\"ticks\":\"\",\"title\":{\"standoff\":15},\"zerolinecolor\":\"white\",\"automargin\":true,\"zerolinewidth\":2},\"scene\":{\"xaxis\":{\"backgroundcolor\":\"#E5ECF6\",\"gridcolor\":\"white\",\"linecolor\":\"white\",\"showbackground\":true,\"ticks\":\"\",\"zerolinecolor\":\"white\",\"gridwidth\":2},\"yaxis\":{\"backgroundcolor\":\"#E5ECF6\",\"gridcolor\":\"white\",\"linecolor\":\"white\",\"showbackground\":true,\"ticks\":\"\",\"zerolinecolor\":\"white\",\"gridwidth\":2},\"zaxis\":{\"backgroundcolor\":\"#E5ECF6\",\"gridcolor\":\"white\",\"linecolor\":\"white\",\"showbackground\":true,\"ticks\":\"\",\"zerolinecolor\":\"white\",\"gridwidth\":2}},\"shapedefaults\":{\"line\":{\"color\":\"#2a3f5f\"}},\"annotationdefaults\":{\"arrowcolor\":\"#2a3f5f\",\"arrowhead\":0,\"arrowwidth\":1},\"geo\":{\"bgcolor\":\"white\",\"landcolor\":\"#E5ECF6\",\"subunitcolor\":\"white\",\"showland\":true,\"showlakes\":true,\"lakecolor\":\"white\"},\"title\":{\"x\":0.05},\"mapbox\":{\"style\":\"light\"}}},\"scene\":{\"domain\":{\"x\":[0.0,1.0],\"y\":[0.0,1.0]},\"xaxis\":{\"title\":{\"text\":\"x\"}},\"yaxis\":{\"title\":{\"text\":\"y\"}},\"zaxis\":{\"title\":{\"text\":\"z\"}}},\"legend\":{\"tracegroupgap\":0},\"margin\":{\"t\":60}},                        {\"responsive\": true}                    ).then(function(){\n",
       "                            \n",
       "var gd = document.getElementById('a3f69426-a4bf-4fdc-af10-5cacd8b4b7bb');\n",
       "var x = new MutationObserver(function (mutations, observer) {{\n",
       "        var display = window.getComputedStyle(gd).display;\n",
       "        if (!display || display === 'none') {{\n",
       "            console.log([gd, 'removed!']);\n",
       "            Plotly.purge(gd);\n",
       "            observer.disconnect();\n",
       "        }}\n",
       "}});\n",
       "\n",
       "// Listen for the removal of the full notebook cells\n",
       "var notebookContainer = gd.closest('#notebook-container');\n",
       "if (notebookContainer) {{\n",
       "    x.observe(notebookContainer, {childList: true});\n",
       "}}\n",
       "\n",
       "// Listen for the clearing of the current output cell\n",
       "var outputEl = gd.closest('.output');\n",
       "if (outputEl) {{\n",
       "    x.observe(outputEl, {childList: true});\n",
       "}}\n",
       "\n",
       "                        })                };                });            </script>        </div>"
      ]
     },
     "metadata": {},
     "output_type": "display_data"
    }
   ],
   "source": [
    "states = sample_singer(10, 1, 1)\n",
    "\n",
    "fig = ex.scatter_3d(x=states[:,0], y=states[:,1], z=states[:,2])\n",
    "fig.update_traces(marker_size = 1)\n",
    "fig"
   ]
  },
  {
   "cell_type": "code",
   "execution_count": 73,
   "id": "f86c1d83-eacf-4322-81b7-be68445a81f6",
   "metadata": {},
   "outputs": [
    {
     "data": {
      "application/vnd.plotly.v1+json": {
       "config": {
        "plotlyServerURL": "https://plot.ly"
       },
       "data": [
        {
         "hovertemplate": "x=%{x}<br>y=%{y}<br>z=%{z}<extra></extra>",
         "legendgroup": "",
         "marker": {
          "color": "#636efa",
          "size": 1,
          "symbol": "circle"
         },
         "mode": "markers",
         "name": "",
         "scene": "scene",
         "showlegend": false,
         "type": "scatter3d",
         "x": [
          0,
          -0.2382695036492698,
          -0.9042893788392155,
          -2.156497157543669,
          -4.728473313463623,
          -8.894555867641879,
          -14.470464915129101,
          -21.2171762160208,
          -28.971661256638978,
          -37.66486826560745,
          -46.907364446019564,
          -56.366264682028735,
          -65.58731902729023,
          -74.3268163305913,
          -82.4472756854815,
          -89.8716846899821,
          -96.49094732229207,
          -101.99337992527612,
          -106.56598239310804,
          -110.24028235409352,
          -112.80589833953901,
          -114.23438586302068,
          -114.8825431397313,
          -115.23349580194433,
          -115.02925402771245,
          -114.04770658645299,
          -112.6657039782275,
          -111.29335868044626,
          -110.18690554211983,
          -109.41132145267534,
          -109.0802249195769,
          -109.38218254964454,
          -110.716932615656,
          -113.50422470097628,
          -117.8050561719866,
          -123.4282368643966,
          -130.143327198204,
          -137.99716848716713,
          -146.98065973828312,
          -156.48813802884314,
          -165.7422653411702,
          -174.14252420160915,
          -181.6454220846126,
          -188.80235540040312,
          -195.8276633844962,
          -202.5665228864738,
          -208.83646209159645,
          -214.76228168076855,
          -220.55136349198736,
          -226.01585533214728,
          -231.07324045432586,
          -235.97748748740148,
          -240.7276277017321,
          -245.11225548974815,
          -249.02331723083773,
          -252.57728979289828,
          -256.23555560703613,
          -260.32120487374107,
          -264.72072214511223,
          -269.412543857894,
          -274.59754677991606,
          -280.1035356913206,
          -285.35017728711495,
          -290.49383658070104,
          -295.73068659943124,
          -300.76204493667365,
          -305.5135197738502,
          -310.4019791364301,
          -315.8254905276076,
          -321.75248552720404,
          -328.1790343595788,
          -335.02659663040913,
          -342.3704659401007,
          -350.07639147130135,
          -357.8285648286667,
          -365.46637697931874,
          -372.9462759592612,
          -380.6774696890644,
          -389.0163691185682,
          -397.5773624185785,
          -405.8884324511472,
          -413.8536525742945,
          -421.1538300958214,
          -427.21955414010637,
          -432.4545532472835,
          -437.64905213170897,
          -442.7776351733601,
          -447.6815813630032,
          -452.6000594384981,
          -458.0622200728848,
          -464.48043264729495,
          -472.0088022127116,
          -480.34559785264514,
          -489.28208692526323,
          -498.9393834561806,
          -509.3352399040765,
          -520.0630691224275,
          -530.8681260865912,
          -542.2315117098009,
          -554.700513183429
         ],
         "y": [
          0,
          0.01975899211809956,
          0.21274530337906514,
          0.8865610612526983,
          2.4005416464877234,
          4.606595556520837,
          7.1805135604695405,
          9.943263594608645,
          12.139241296593514,
          13.368833789602316,
          13.689944386138215,
          13.544770404639848,
          13.666415274643583,
          14.210236640199017,
          15.153898231448922,
          16.313958102914146,
          17.35918009010603,
          18.000312385810517,
          18.028816307906187,
          17.644468681835367,
          17.01135303567191,
          16.02250838532503,
          14.362746815617083,
          11.710609675264584,
          8.238052983544872,
          4.396825184379054,
          -0.03765296995886658,
          -5.580745921768368,
          -12.067111854568575,
          -19.111942529912007,
          -26.51495052408159,
          -34.839595597188364,
          -44.88207604229334,
          -56.70636811073952,
          -69.71941622957245,
          -83.21141258130204,
          -97.07039403812595,
          -111.75855202532514,
          -127.76262255240059,
          -145.19302811868812,
          -163.88345871297085,
          -183.62630987926633,
          -204.0858925494596,
          -225.07720592181818,
          -246.71304070091588,
          -269.1803685484657,
          -292.61768581305904,
          -317.05954763481793,
          -342.2511767729563,
          -367.91960935008814,
          -393.90949158259247,
          -420.1134044073151,
          -446.2214407423205,
          -472.1755843985647,
          -498.2958605559155,
          -524.1301067992264,
          -548.783664358167,
          -571.7182386449888,
          -592.8361810581677,
          -612.1745679678165,
          -629.8499228288224,
          -646.1231180644737,
          -661.2193886538992,
          -675.3704245660247,
          -688.9158509285543,
          -702.0919499886525,
          -715.0635993746578,
          -727.9799270129732,
          -740.8531116572999,
          -753.7678106841205,
          -766.6346895066822,
          -779.5452221026434,
          -793.0294830760419,
          -807.0521188356606,
          -821.4217557694516,
          -836.4506287022978,
          -852.7598748118627,
          -870.8260489248918,
          -890.909078738287,
          -913.3434692509546,
          -938.0750582493171,
          -964.834479748742,
          -993.2445484108703,
          -1023.4028782676247,
          -1055.7228700217338,
          -1090.3409463649718,
          -1127.5249512962275,
          -1167.2830985703972,
          -1209.7397369620764,
          -1255.0919662254685,
          -1302.8155501210397,
          -1352.6017893327996,
          -1404.3384180675089,
          -1457.708096556392,
          -1512.5739293658924,
          -1568.6592593618661,
          -1625.6073381810613,
          -1683.40920844271,
          -1742.6579586676555,
          -1803.7976822161256
         ],
         "z": [
          0,
          0.08693458853638932,
          0.32768393160784215,
          0.39804851541580555,
          0.29980794356414275,
          0.31825764092534403,
          0.6333765031692118,
          1.4627660363353405,
          2.632400517781099,
          4.111873405065228,
          5.999020574512218,
          7.835180548935482,
          9.183628999425352,
          9.569718808769217,
          8.959859209749908,
          8.157269422114934,
          7.41900502985837,
          6.37178968195507,
          4.758782594655899,
          2.8891212210058517,
          1.3049336441335395,
          0.06020820169569241,
          -1.3169639951177508,
          -3.259750532585151,
          -5.394169418062805,
          -7.022614939829669,
          -7.834606770532001,
          -7.912980875636796,
          -7.506279468686009,
          -6.416952849965584,
          -4.547609943867949,
          -2.082149686086186,
          1.128095591633322,
          5.113880944637565,
          9.664451568462429,
          14.760021450307628,
          20.290889682197722,
          26.34166185269812,
          32.915984710799634,
          39.64705834946455,
          46.433289366127696,
          53.354022845266115,
          60.339344329331,
          66.9654431652918,
          73.03522371537667,
          78.36073756888686,
          82.61341324664005,
          85.86159814590815,
          88.44670082777264,
          90.66179166229752,
          92.50839664688262,
          93.73110388909812,
          93.6616293605197,
          91.9868078884295,
          88.84676344990888,
          84.6887187267119,
          79.81484454279263,
          74.0589905771312,
          67.55017224027326,
          60.300122218244745,
          52.27454222257249,
          43.808196958054786,
          35.01042267979931,
          25.714835517981342,
          15.742200204787755,
          5.149022773749769,
          -5.866957648769297,
          -17.17566109948237,
          -28.668812040673103,
          -40.11086277930207,
          -51.36215790697138,
          -62.43005064433085,
          -73.33420265300833,
          -84.67792146975245,
          -96.45226587824523,
          -108.32852984310544,
          -120.6523068793997,
          -133.86893008503236,
          -148.0156972027956,
          -163.0383634240992,
          -179.00599658386386,
          -195.86279465274797,
          -213.63597999615524,
          -232.4840188413003,
          -252.38436957156497,
          -273.2100687047923,
          -295.0343323014238,
          -317.7523262313794,
          -341.17504304565733,
          -365.27721457252215,
          -390.1045889068496,
          -415.8981574793118,
          -443.23258705684884,
          -472.3898039678877,
          -503.4518339091106,
          -536.7083408521141,
          -572.4139449491905,
          -610.7836152687792,
          -651.8848692197672,
          -695.7145669024569
         ]
        }
       ],
       "layout": {
        "autosize": true,
        "legend": {
         "tracegroupgap": 0
        },
        "margin": {
         "t": 60
        },
        "scene": {
         "aspectmode": "auto",
         "aspectratio": {
          "x": 0.5980846061316013,
          "y": 1.9643147210313605,
          "z": 0.8511895912408
         },
         "camera": {
          "center": {
           "x": 0,
           "y": 0,
           "z": 0
          },
          "eye": {
           "x": -1.4651453171187727,
           "y": 0.18869910911818752,
           "z": 0.6772106489695262
          },
          "projection": {
           "type": "perspective"
          },
          "up": {
           "x": 0,
           "y": 0,
           "z": 1
          }
         },
         "domain": {
          "x": [
           0,
           1
          ],
          "y": [
           0,
           1
          ]
         },
         "xaxis": {
          "title": {
           "text": "x"
          },
          "type": "linear"
         },
         "yaxis": {
          "title": {
           "text": "y"
          },
          "type": "linear"
         },
         "zaxis": {
          "title": {
           "text": "z"
          },
          "type": "linear"
         }
        },
        "template": {
         "data": {
          "bar": [
           {
            "error_x": {
             "color": "#2a3f5f"
            },
            "error_y": {
             "color": "#2a3f5f"
            },
            "marker": {
             "line": {
              "color": "#E5ECF6",
              "width": 0.5
             },
             "pattern": {
              "fillmode": "overlay",
              "size": 10,
              "solidity": 0.2
             }
            },
            "type": "bar"
           }
          ],
          "barpolar": [
           {
            "marker": {
             "line": {
              "color": "#E5ECF6",
              "width": 0.5
             },
             "pattern": {
              "fillmode": "overlay",
              "size": 10,
              "solidity": 0.2
             }
            },
            "type": "barpolar"
           }
          ],
          "carpet": [
           {
            "aaxis": {
             "endlinecolor": "#2a3f5f",
             "gridcolor": "white",
             "linecolor": "white",
             "minorgridcolor": "white",
             "startlinecolor": "#2a3f5f"
            },
            "baxis": {
             "endlinecolor": "#2a3f5f",
             "gridcolor": "white",
             "linecolor": "white",
             "minorgridcolor": "white",
             "startlinecolor": "#2a3f5f"
            },
            "type": "carpet"
           }
          ],
          "choropleth": [
           {
            "colorbar": {
             "outlinewidth": 0,
             "ticks": ""
            },
            "type": "choropleth"
           }
          ],
          "contour": [
           {
            "colorbar": {
             "outlinewidth": 0,
             "ticks": ""
            },
            "colorscale": [
             [
              0,
              "#0d0887"
             ],
             [
              0.1111111111111111,
              "#46039f"
             ],
             [
              0.2222222222222222,
              "#7201a8"
             ],
             [
              0.3333333333333333,
              "#9c179e"
             ],
             [
              0.4444444444444444,
              "#bd3786"
             ],
             [
              0.5555555555555556,
              "#d8576b"
             ],
             [
              0.6666666666666666,
              "#ed7953"
             ],
             [
              0.7777777777777778,
              "#fb9f3a"
             ],
             [
              0.8888888888888888,
              "#fdca26"
             ],
             [
              1,
              "#f0f921"
             ]
            ],
            "type": "contour"
           }
          ],
          "contourcarpet": [
           {
            "colorbar": {
             "outlinewidth": 0,
             "ticks": ""
            },
            "type": "contourcarpet"
           }
          ],
          "heatmap": [
           {
            "colorbar": {
             "outlinewidth": 0,
             "ticks": ""
            },
            "colorscale": [
             [
              0,
              "#0d0887"
             ],
             [
              0.1111111111111111,
              "#46039f"
             ],
             [
              0.2222222222222222,
              "#7201a8"
             ],
             [
              0.3333333333333333,
              "#9c179e"
             ],
             [
              0.4444444444444444,
              "#bd3786"
             ],
             [
              0.5555555555555556,
              "#d8576b"
             ],
             [
              0.6666666666666666,
              "#ed7953"
             ],
             [
              0.7777777777777778,
              "#fb9f3a"
             ],
             [
              0.8888888888888888,
              "#fdca26"
             ],
             [
              1,
              "#f0f921"
             ]
            ],
            "type": "heatmap"
           }
          ],
          "heatmapgl": [
           {
            "colorbar": {
             "outlinewidth": 0,
             "ticks": ""
            },
            "colorscale": [
             [
              0,
              "#0d0887"
             ],
             [
              0.1111111111111111,
              "#46039f"
             ],
             [
              0.2222222222222222,
              "#7201a8"
             ],
             [
              0.3333333333333333,
              "#9c179e"
             ],
             [
              0.4444444444444444,
              "#bd3786"
             ],
             [
              0.5555555555555556,
              "#d8576b"
             ],
             [
              0.6666666666666666,
              "#ed7953"
             ],
             [
              0.7777777777777778,
              "#fb9f3a"
             ],
             [
              0.8888888888888888,
              "#fdca26"
             ],
             [
              1,
              "#f0f921"
             ]
            ],
            "type": "heatmapgl"
           }
          ],
          "histogram": [
           {
            "marker": {
             "pattern": {
              "fillmode": "overlay",
              "size": 10,
              "solidity": 0.2
             }
            },
            "type": "histogram"
           }
          ],
          "histogram2d": [
           {
            "colorbar": {
             "outlinewidth": 0,
             "ticks": ""
            },
            "colorscale": [
             [
              0,
              "#0d0887"
             ],
             [
              0.1111111111111111,
              "#46039f"
             ],
             [
              0.2222222222222222,
              "#7201a8"
             ],
             [
              0.3333333333333333,
              "#9c179e"
             ],
             [
              0.4444444444444444,
              "#bd3786"
             ],
             [
              0.5555555555555556,
              "#d8576b"
             ],
             [
              0.6666666666666666,
              "#ed7953"
             ],
             [
              0.7777777777777778,
              "#fb9f3a"
             ],
             [
              0.8888888888888888,
              "#fdca26"
             ],
             [
              1,
              "#f0f921"
             ]
            ],
            "type": "histogram2d"
           }
          ],
          "histogram2dcontour": [
           {
            "colorbar": {
             "outlinewidth": 0,
             "ticks": ""
            },
            "colorscale": [
             [
              0,
              "#0d0887"
             ],
             [
              0.1111111111111111,
              "#46039f"
             ],
             [
              0.2222222222222222,
              "#7201a8"
             ],
             [
              0.3333333333333333,
              "#9c179e"
             ],
             [
              0.4444444444444444,
              "#bd3786"
             ],
             [
              0.5555555555555556,
              "#d8576b"
             ],
             [
              0.6666666666666666,
              "#ed7953"
             ],
             [
              0.7777777777777778,
              "#fb9f3a"
             ],
             [
              0.8888888888888888,
              "#fdca26"
             ],
             [
              1,
              "#f0f921"
             ]
            ],
            "type": "histogram2dcontour"
           }
          ],
          "mesh3d": [
           {
            "colorbar": {
             "outlinewidth": 0,
             "ticks": ""
            },
            "type": "mesh3d"
           }
          ],
          "parcoords": [
           {
            "line": {
             "colorbar": {
              "outlinewidth": 0,
              "ticks": ""
             }
            },
            "type": "parcoords"
           }
          ],
          "pie": [
           {
            "automargin": true,
            "type": "pie"
           }
          ],
          "scatter": [
           {
            "fillpattern": {
             "fillmode": "overlay",
             "size": 10,
             "solidity": 0.2
            },
            "type": "scatter"
           }
          ],
          "scatter3d": [
           {
            "line": {
             "colorbar": {
              "outlinewidth": 0,
              "ticks": ""
             }
            },
            "marker": {
             "colorbar": {
              "outlinewidth": 0,
              "ticks": ""
             }
            },
            "type": "scatter3d"
           }
          ],
          "scattercarpet": [
           {
            "marker": {
             "colorbar": {
              "outlinewidth": 0,
              "ticks": ""
             }
            },
            "type": "scattercarpet"
           }
          ],
          "scattergeo": [
           {
            "marker": {
             "colorbar": {
              "outlinewidth": 0,
              "ticks": ""
             }
            },
            "type": "scattergeo"
           }
          ],
          "scattergl": [
           {
            "marker": {
             "colorbar": {
              "outlinewidth": 0,
              "ticks": ""
             }
            },
            "type": "scattergl"
           }
          ],
          "scattermapbox": [
           {
            "marker": {
             "colorbar": {
              "outlinewidth": 0,
              "ticks": ""
             }
            },
            "type": "scattermapbox"
           }
          ],
          "scatterpolar": [
           {
            "marker": {
             "colorbar": {
              "outlinewidth": 0,
              "ticks": ""
             }
            },
            "type": "scatterpolar"
           }
          ],
          "scatterpolargl": [
           {
            "marker": {
             "colorbar": {
              "outlinewidth": 0,
              "ticks": ""
             }
            },
            "type": "scatterpolargl"
           }
          ],
          "scatterternary": [
           {
            "marker": {
             "colorbar": {
              "outlinewidth": 0,
              "ticks": ""
             }
            },
            "type": "scatterternary"
           }
          ],
          "surface": [
           {
            "colorbar": {
             "outlinewidth": 0,
             "ticks": ""
            },
            "colorscale": [
             [
              0,
              "#0d0887"
             ],
             [
              0.1111111111111111,
              "#46039f"
             ],
             [
              0.2222222222222222,
              "#7201a8"
             ],
             [
              0.3333333333333333,
              "#9c179e"
             ],
             [
              0.4444444444444444,
              "#bd3786"
             ],
             [
              0.5555555555555556,
              "#d8576b"
             ],
             [
              0.6666666666666666,
              "#ed7953"
             ],
             [
              0.7777777777777778,
              "#fb9f3a"
             ],
             [
              0.8888888888888888,
              "#fdca26"
             ],
             [
              1,
              "#f0f921"
             ]
            ],
            "type": "surface"
           }
          ],
          "table": [
           {
            "cells": {
             "fill": {
              "color": "#EBF0F8"
             },
             "line": {
              "color": "white"
             }
            },
            "header": {
             "fill": {
              "color": "#C8D4E3"
             },
             "line": {
              "color": "white"
             }
            },
            "type": "table"
           }
          ]
         },
         "layout": {
          "annotationdefaults": {
           "arrowcolor": "#2a3f5f",
           "arrowhead": 0,
           "arrowwidth": 1
          },
          "autotypenumbers": "strict",
          "coloraxis": {
           "colorbar": {
            "outlinewidth": 0,
            "ticks": ""
           }
          },
          "colorscale": {
           "diverging": [
            [
             0,
             "#8e0152"
            ],
            [
             0.1,
             "#c51b7d"
            ],
            [
             0.2,
             "#de77ae"
            ],
            [
             0.3,
             "#f1b6da"
            ],
            [
             0.4,
             "#fde0ef"
            ],
            [
             0.5,
             "#f7f7f7"
            ],
            [
             0.6,
             "#e6f5d0"
            ],
            [
             0.7,
             "#b8e186"
            ],
            [
             0.8,
             "#7fbc41"
            ],
            [
             0.9,
             "#4d9221"
            ],
            [
             1,
             "#276419"
            ]
           ],
           "sequential": [
            [
             0,
             "#0d0887"
            ],
            [
             0.1111111111111111,
             "#46039f"
            ],
            [
             0.2222222222222222,
             "#7201a8"
            ],
            [
             0.3333333333333333,
             "#9c179e"
            ],
            [
             0.4444444444444444,
             "#bd3786"
            ],
            [
             0.5555555555555556,
             "#d8576b"
            ],
            [
             0.6666666666666666,
             "#ed7953"
            ],
            [
             0.7777777777777778,
             "#fb9f3a"
            ],
            [
             0.8888888888888888,
             "#fdca26"
            ],
            [
             1,
             "#f0f921"
            ]
           ],
           "sequentialminus": [
            [
             0,
             "#0d0887"
            ],
            [
             0.1111111111111111,
             "#46039f"
            ],
            [
             0.2222222222222222,
             "#7201a8"
            ],
            [
             0.3333333333333333,
             "#9c179e"
            ],
            [
             0.4444444444444444,
             "#bd3786"
            ],
            [
             0.5555555555555556,
             "#d8576b"
            ],
            [
             0.6666666666666666,
             "#ed7953"
            ],
            [
             0.7777777777777778,
             "#fb9f3a"
            ],
            [
             0.8888888888888888,
             "#fdca26"
            ],
            [
             1,
             "#f0f921"
            ]
           ]
          },
          "colorway": [
           "#636efa",
           "#EF553B",
           "#00cc96",
           "#ab63fa",
           "#FFA15A",
           "#19d3f3",
           "#FF6692",
           "#B6E880",
           "#FF97FF",
           "#FECB52"
          ],
          "font": {
           "color": "#2a3f5f"
          },
          "geo": {
           "bgcolor": "white",
           "lakecolor": "white",
           "landcolor": "#E5ECF6",
           "showlakes": true,
           "showland": true,
           "subunitcolor": "white"
          },
          "hoverlabel": {
           "align": "left"
          },
          "hovermode": "closest",
          "mapbox": {
           "style": "light"
          },
          "paper_bgcolor": "white",
          "plot_bgcolor": "#E5ECF6",
          "polar": {
           "angularaxis": {
            "gridcolor": "white",
            "linecolor": "white",
            "ticks": ""
           },
           "bgcolor": "#E5ECF6",
           "radialaxis": {
            "gridcolor": "white",
            "linecolor": "white",
            "ticks": ""
           }
          },
          "scene": {
           "xaxis": {
            "backgroundcolor": "#E5ECF6",
            "gridcolor": "white",
            "gridwidth": 2,
            "linecolor": "white",
            "showbackground": true,
            "ticks": "",
            "zerolinecolor": "white"
           },
           "yaxis": {
            "backgroundcolor": "#E5ECF6",
            "gridcolor": "white",
            "gridwidth": 2,
            "linecolor": "white",
            "showbackground": true,
            "ticks": "",
            "zerolinecolor": "white"
           },
           "zaxis": {
            "backgroundcolor": "#E5ECF6",
            "gridcolor": "white",
            "gridwidth": 2,
            "linecolor": "white",
            "showbackground": true,
            "ticks": "",
            "zerolinecolor": "white"
           }
          },
          "shapedefaults": {
           "line": {
            "color": "#2a3f5f"
           }
          },
          "ternary": {
           "aaxis": {
            "gridcolor": "white",
            "linecolor": "white",
            "ticks": ""
           },
           "baxis": {
            "gridcolor": "white",
            "linecolor": "white",
            "ticks": ""
           },
           "bgcolor": "#E5ECF6",
           "caxis": {
            "gridcolor": "white",
            "linecolor": "white",
            "ticks": ""
           }
          },
          "title": {
           "x": 0.05
          },
          "xaxis": {
           "automargin": true,
           "gridcolor": "white",
           "linecolor": "white",
           "ticks": "",
           "title": {
            "standoff": 15
           },
           "zerolinecolor": "white",
           "zerolinewidth": 2
          },
          "yaxis": {
           "automargin": true,
           "gridcolor": "white",
           "linecolor": "white",
           "ticks": "",
           "title": {
            "standoff": 15
           },
           "zerolinecolor": "white",
           "zerolinewidth": 2
          }
         }
        }
       }
      },
      "image/png": "[encoded data removed]",
      "text/html": [
       "<div>                            <div id=\"81cef02b-b710-4797-b79b-3ce0acefb341\" class=\"plotly-graph-div\" style=\"height:525px; width:100%;\"></div>            <script type=\"text/javascript\">                require([\"plotly\"], function(Plotly) {                    window.PLOTLYENV=window.PLOTLYENV || {};                                    if (document.getElementById(\"81cef02b-b710-4797-b79b-3ce0acefb341\")) {                    Plotly.newPlot(                        \"81cef02b-b710-4797-b79b-3ce0acefb341\",                        [{\"hovertemplate\":\"x=%{x}<br>y=%{y}<br>z=%{z}<extra></extra>\",\"legendgroup\":\"\",\"marker\":{\"color\":\"#636efa\",\"symbol\":\"circle\",\"size\":1},\"mode\":\"markers\",\"name\":\"\",\"scene\":\"scene\",\"showlegend\":false,\"x\":[0.0,-0.2382695036492698,-0.9042893788392155,-2.156497157543669,-4.728473313463623,-8.894555867641879,-14.470464915129101,-21.2171762160208,-28.971661256638978,-37.66486826560745,-46.907364446019564,-56.366264682028735,-65.58731902729023,-74.3268163305913,-82.4472756854815,-89.8716846899821,-96.49094732229207,-101.99337992527612,-106.56598239310804,-110.24028235409352,-112.80589833953901,-114.23438586302068,-114.8825431397313,-115.23349580194433,-115.02925402771245,-114.04770658645299,-112.6657039782275,-111.29335868044626,-110.18690554211983,-109.41132145267534,-109.0802249195769,-109.38218254964454,-110.716932615656,-113.50422470097628,-117.8050561719866,-123.4282368643966,-130.143327198204,-137.99716848716713,-146.98065973828312,-156.48813802884314,-165.7422653411702,-174.14252420160915,-181.6454220846126,-188.80235540040312,-195.8276633844962,-202.5665228864738,-208.83646209159645,-214.76228168076855,-220.55136349198736,-226.01585533214728,-231.07324045432586,-235.97748748740148,-240.7276277017321,-245.11225548974815,-249.02331723083773,-252.57728979289828,-256.23555560703613,-260.32120487374107,-264.72072214511223,-269.412543857894,-274.59754677991606,-280.1035356913206,-285.35017728711495,-290.49383658070104,-295.73068659943124,-300.76204493667365,-305.5135197738502,-310.4019791364301,-315.8254905276076,-321.75248552720404,-328.1790343595788,-335.02659663040913,-342.3704659401007,-350.07639147130135,-357.8285648286667,-365.46637697931874,-372.9462759592612,-380.6774696890644,-389.0163691185682,-397.5773624185785,-405.8884324511472,-413.8536525742945,-421.1538300958214,-427.21955414010637,-432.4545532472835,-437.64905213170897,-442.7776351733601,-447.6815813630032,-452.6000594384981,-458.0622200728848,-464.48043264729495,-472.0088022127116,-480.34559785264514,-489.28208692526323,-498.9393834561806,-509.3352399040765,-520.0630691224275,-530.8681260865912,-542.2315117098009,-554.700513183429],\"y\":[0.0,0.01975899211809956,0.21274530337906514,0.8865610612526983,2.4005416464877234,4.606595556520837,7.1805135604695405,9.943263594608645,12.139241296593514,13.368833789602316,13.689944386138215,13.544770404639848,13.666415274643583,14.210236640199017,15.153898231448922,16.313958102914146,17.35918009010603,18.000312385810517,18.028816307906187,17.644468681835367,17.01135303567191,16.02250838532503,14.362746815617083,11.710609675264584,8.238052983544872,4.396825184379054,-0.03765296995886658,-5.580745921768368,-12.067111854568575,-19.111942529912007,-26.51495052408159,-34.839595597188364,-44.88207604229334,-56.70636811073952,-69.71941622957245,-83.21141258130204,-97.07039403812595,-111.75855202532514,-127.76262255240059,-145.19302811868812,-163.88345871297085,-183.62630987926633,-204.0858925494596,-225.07720592181818,-246.71304070091588,-269.1803685484657,-292.61768581305904,-317.05954763481793,-342.2511767729563,-367.91960935008814,-393.90949158259247,-420.1134044073151,-446.2214407423205,-472.1755843985647,-498.2958605559155,-524.1301067992264,-548.783664358167,-571.7182386449888,-592.8361810581677,-612.1745679678165,-629.8499228288224,-646.1231180644737,-661.2193886538992,-675.3704245660247,-688.9158509285543,-702.0919499886525,-715.0635993746578,-727.9799270129732,-740.8531116572999,-753.7678106841205,-766.6346895066822,-779.5452221026434,-793.0294830760419,-807.0521188356606,-821.4217557694516,-836.4506287022978,-852.7598748118627,-870.8260489248918,-890.909078738287,-913.3434692509546,-938.0750582493171,-964.834479748742,-993.2445484108703,-1023.4028782676247,-1055.7228700217338,-1090.3409463649718,-1127.5249512962275,-1167.2830985703972,-1209.7397369620764,-1255.0919662254685,-1302.8155501210397,-1352.6017893327996,-1404.3384180675089,-1457.708096556392,-1512.5739293658924,-1568.6592593618661,-1625.6073381810613,-1683.40920844271,-1742.6579586676555,-1803.7976822161256],\"z\":[0.0,0.08693458853638932,0.32768393160784215,0.39804851541580555,0.29980794356414275,0.31825764092534403,0.6333765031692118,1.4627660363353405,2.632400517781099,4.111873405065228,5.999020574512218,7.835180548935482,9.183628999425352,9.569718808769217,8.959859209749908,8.157269422114934,7.41900502985837,6.37178968195507,4.758782594655899,2.8891212210058517,1.3049336441335395,0.06020820169569241,-1.3169639951177508,-3.259750532585151,-5.394169418062805,-7.022614939829669,-7.834606770532001,-7.912980875636796,-7.506279468686009,-6.416952849965584,-4.547609943867949,-2.082149686086186,1.128095591633322,5.113880944637565,9.664451568462429,14.760021450307628,20.290889682197722,26.34166185269812,32.915984710799634,39.64705834946455,46.433289366127696,53.354022845266115,60.339344329331,66.9654431652918,73.03522371537667,78.36073756888686,82.61341324664005,85.86159814590815,88.44670082777264,90.66179166229752,92.50839664688262,93.73110388909812,93.6616293605197,91.9868078884295,88.84676344990888,84.6887187267119,79.81484454279263,74.0589905771312,67.55017224027326,60.300122218244745,52.27454222257249,43.808196958054786,35.01042267979931,25.714835517981342,15.742200204787755,5.149022773749769,-5.866957648769297,-17.17566109948237,-28.668812040673103,-40.11086277930207,-51.36215790697138,-62.43005064433085,-73.33420265300833,-84.67792146975245,-96.45226587824523,-108.32852984310544,-120.6523068793997,-133.86893008503236,-148.0156972027956,-163.0383634240992,-179.00599658386386,-195.86279465274797,-213.63597999615524,-232.4840188413003,-252.38436957156497,-273.2100687047923,-295.0343323014238,-317.7523262313794,-341.17504304565733,-365.27721457252215,-390.1045889068496,-415.8981574793118,-443.23258705684884,-472.3898039678877,-503.4518339091106,-536.7083408521141,-572.4139449491905,-610.7836152687792,-651.8848692197672,-695.7145669024569],\"type\":\"scatter3d\"}],                        {\"template\":{\"data\":{\"histogram2dcontour\":[{\"type\":\"histogram2dcontour\",\"colorbar\":{\"outlinewidth\":0,\"ticks\":\"\"},\"colorscale\":[[0.0,\"#0d0887\"],[0.1111111111111111,\"#46039f\"],[0.2222222222222222,\"#7201a8\"],[0.3333333333333333,\"#9c179e\"],[0.4444444444444444,\"#bd3786\"],[0.5555555555555556,\"#d8576b\"],[0.6666666666666666,\"#ed7953\"],[0.7777777777777778,\"#fb9f3a\"],[0.8888888888888888,\"#fdca26\"],[1.0,\"#f0f921\"]]}],\"choropleth\":[{\"type\":\"choropleth\",\"colorbar\":{\"outlinewidth\":0,\"ticks\":\"\"}}],\"histogram2d\":[{\"type\":\"histogram2d\",\"colorbar\":{\"outlinewidth\":0,\"ticks\":\"\"},\"colorscale\":[[0.0,\"#0d0887\"],[0.1111111111111111,\"#46039f\"],[0.2222222222222222,\"#7201a8\"],[0.3333333333333333,\"#9c179e\"],[0.4444444444444444,\"#bd3786\"],[0.5555555555555556,\"#d8576b\"],[0.6666666666666666,\"#ed7953\"],[0.7777777777777778,\"#fb9f3a\"],[0.8888888888888888,\"#fdca26\"],[1.0,\"#f0f921\"]]}],\"heatmap\":[{\"type\":\"heatmap\",\"colorbar\":{\"outlinewidth\":0,\"ticks\":\"\"},\"colorscale\":[[0.0,\"#0d0887\"],[0.1111111111111111,\"#46039f\"],[0.2222222222222222,\"#7201a8\"],[0.3333333333333333,\"#9c179e\"],[0.4444444444444444,\"#bd3786\"],[0.5555555555555556,\"#d8576b\"],[0.6666666666666666,\"#ed7953\"],[0.7777777777777778,\"#fb9f3a\"],[0.8888888888888888,\"#fdca26\"],[1.0,\"#f0f921\"]]}],\"heatmapgl\":[{\"type\":\"heatmapgl\",\"colorbar\":{\"outlinewidth\":0,\"ticks\":\"\"},\"colorscale\":[[0.0,\"#0d0887\"],[0.1111111111111111,\"#46039f\"],[0.2222222222222222,\"#7201a8\"],[0.3333333333333333,\"#9c179e\"],[0.4444444444444444,\"#bd3786\"],[0.5555555555555556,\"#d8576b\"],[0.6666666666666666,\"#ed7953\"],[0.7777777777777778,\"#fb9f3a\"],[0.8888888888888888,\"#fdca26\"],[1.0,\"#f0f921\"]]}],\"contourcarpet\":[{\"type\":\"contourcarpet\",\"colorbar\":{\"outlinewidth\":0,\"ticks\":\"\"}}],\"contour\":[{\"type\":\"contour\",\"colorbar\":{\"outlinewidth\":0,\"ticks\":\"\"},\"colorscale\":[[0.0,\"#0d0887\"],[0.1111111111111111,\"#46039f\"],[0.2222222222222222,\"#7201a8\"],[0.3333333333333333,\"#9c179e\"],[0.4444444444444444,\"#bd3786\"],[0.5555555555555556,\"#d8576b\"],[0.6666666666666666,\"#ed7953\"],[0.7777777777777778,\"#fb9f3a\"],[0.8888888888888888,\"#fdca26\"],[1.0,\"#f0f921\"]]}],\"surface\":[{\"type\":\"surface\",\"colorbar\":{\"outlinewidth\":0,\"ticks\":\"\"},\"colorscale\":[[0.0,\"#0d0887\"],[0.1111111111111111,\"#46039f\"],[0.2222222222222222,\"#7201a8\"],[0.3333333333333333,\"#9c179e\"],[0.4444444444444444,\"#bd3786\"],[0.5555555555555556,\"#d8576b\"],[0.6666666666666666,\"#ed7953\"],[0.7777777777777778,\"#fb9f3a\"],[0.8888888888888888,\"#fdca26\"],[1.0,\"#f0f921\"]]}],\"mesh3d\":[{\"type\":\"mesh3d\",\"colorbar\":{\"outlinewidth\":0,\"ticks\":\"\"}}],\"scatter\":[{\"fillpattern\":{\"fillmode\":\"overlay\",\"size\":10,\"solidity\":0.2},\"type\":\"scatter\"}],\"parcoords\":[{\"type\":\"parcoords\",\"line\":{\"colorbar\":{\"outlinewidth\":0,\"ticks\":\"\"}}}],\"scatterpolargl\":[{\"type\":\"scatterpolargl\",\"marker\":{\"colorbar\":{\"outlinewidth\":0,\"ticks\":\"\"}}}],\"bar\":[{\"error_x\":{\"color\":\"#2a3f5f\"},\"error_y\":{\"color\":\"#2a3f5f\"},\"marker\":{\"line\":{\"color\":\"#E5ECF6\",\"width\":0.5},\"pattern\":{\"fillmode\":\"overlay\",\"size\":10,\"solidity\":0.2}},\"type\":\"bar\"}],\"scattergeo\":[{\"type\":\"scattergeo\",\"marker\":{\"colorbar\":{\"outlinewidth\":0,\"ticks\":\"\"}}}],\"scatterpolar\":[{\"type\":\"scatterpolar\",\"marker\":{\"colorbar\":{\"outlinewidth\":0,\"ticks\":\"\"}}}],\"histogram\":[{\"marker\":{\"pattern\":{\"fillmode\":\"overlay\",\"size\":10,\"solidity\":0.2}},\"type\":\"histogram\"}],\"scattergl\":[{\"type\":\"scattergl\",\"marker\":{\"colorbar\":{\"outlinewidth\":0,\"ticks\":\"\"}}}],\"scatter3d\":[{\"type\":\"scatter3d\",\"line\":{\"colorbar\":{\"outlinewidth\":0,\"ticks\":\"\"}},\"marker\":{\"colorbar\":{\"outlinewidth\":0,\"ticks\":\"\"}}}],\"scattermapbox\":[{\"type\":\"scattermapbox\",\"marker\":{\"colorbar\":{\"outlinewidth\":0,\"ticks\":\"\"}}}],\"scatterternary\":[{\"type\":\"scatterternary\",\"marker\":{\"colorbar\":{\"outlinewidth\":0,\"ticks\":\"\"}}}],\"scattercarpet\":[{\"type\":\"scattercarpet\",\"marker\":{\"colorbar\":{\"outlinewidth\":0,\"ticks\":\"\"}}}],\"carpet\":[{\"aaxis\":{\"endlinecolor\":\"#2a3f5f\",\"gridcolor\":\"white\",\"linecolor\":\"white\",\"minorgridcolor\":\"white\",\"startlinecolor\":\"#2a3f5f\"},\"baxis\":{\"endlinecolor\":\"#2a3f5f\",\"gridcolor\":\"white\",\"linecolor\":\"white\",\"minorgridcolor\":\"white\",\"startlinecolor\":\"#2a3f5f\"},\"type\":\"carpet\"}],\"table\":[{\"cells\":{\"fill\":{\"color\":\"#EBF0F8\"},\"line\":{\"color\":\"white\"}},\"header\":{\"fill\":{\"color\":\"#C8D4E3\"},\"line\":{\"color\":\"white\"}},\"type\":\"table\"}],\"barpolar\":[{\"marker\":{\"line\":{\"color\":\"#E5ECF6\",\"width\":0.5},\"pattern\":{\"fillmode\":\"overlay\",\"size\":10,\"solidity\":0.2}},\"type\":\"barpolar\"}],\"pie\":[{\"automargin\":true,\"type\":\"pie\"}]},\"layout\":{\"autotypenumbers\":\"strict\",\"colorway\":[\"#636efa\",\"#EF553B\",\"#00cc96\",\"#ab63fa\",\"#FFA15A\",\"#19d3f3\",\"#FF6692\",\"#B6E880\",\"#FF97FF\",\"#FECB52\"],\"font\":{\"color\":\"#2a3f5f\"},\"hovermode\":\"closest\",\"hoverlabel\":{\"align\":\"left\"},\"paper_bgcolor\":\"white\",\"plot_bgcolor\":\"#E5ECF6\",\"polar\":{\"bgcolor\":\"#E5ECF6\",\"angularaxis\":{\"gridcolor\":\"white\",\"linecolor\":\"white\",\"ticks\":\"\"},\"radialaxis\":{\"gridcolor\":\"white\",\"linecolor\":\"white\",\"ticks\":\"\"}},\"ternary\":{\"bgcolor\":\"#E5ECF6\",\"aaxis\":{\"gridcolor\":\"white\",\"linecolor\":\"white\",\"ticks\":\"\"},\"baxis\":{\"gridcolor\":\"white\",\"linecolor\":\"white\",\"ticks\":\"\"},\"caxis\":{\"gridcolor\":\"white\",\"linecolor\":\"white\",\"ticks\":\"\"}},\"coloraxis\":{\"colorbar\":{\"outlinewidth\":0,\"ticks\":\"\"}},\"colorscale\":{\"sequential\":[[0.0,\"#0d0887\"],[0.1111111111111111,\"#46039f\"],[0.2222222222222222,\"#7201a8\"],[0.3333333333333333,\"#9c179e\"],[0.4444444444444444,\"#bd3786\"],[0.5555555555555556,\"#d8576b\"],[0.6666666666666666,\"#ed7953\"],[0.7777777777777778,\"#fb9f3a\"],[0.8888888888888888,\"#fdca26\"],[1.0,\"#f0f921\"]],\"sequentialminus\":[[0.0,\"#0d0887\"],[0.1111111111111111,\"#46039f\"],[0.2222222222222222,\"#7201a8\"],[0.3333333333333333,\"#9c179e\"],[0.4444444444444444,\"#bd3786\"],[0.5555555555555556,\"#d8576b\"],[0.6666666666666666,\"#ed7953\"],[0.7777777777777778,\"#fb9f3a\"],[0.8888888888888888,\"#fdca26\"],[1.0,\"#f0f921\"]],\"diverging\":[[0,\"#8e0152\"],[0.1,\"#c51b7d\"],[0.2,\"#de77ae\"],[0.3,\"#f1b6da\"],[0.4,\"#fde0ef\"],[0.5,\"#f7f7f7\"],[0.6,\"#e6f5d0\"],[0.7,\"#b8e186\"],[0.8,\"#7fbc41\"],[0.9,\"#4d9221\"],[1,\"#276419\"]]},\"xaxis\":{\"gridcolor\":\"white\",\"linecolor\":\"white\",\"ticks\":\"\",\"title\":{\"standoff\":15},\"zerolinecolor\":\"white\",\"automargin\":true,\"zerolinewidth\":2},\"yaxis\":{\"gridcolor\":\"white\",\"linecolor\":\"white\",\"ticks\":\"\",\"title\":{\"standoff\":15},\"zerolinecolor\":\"white\",\"automargin\":true,\"zerolinewidth\":2},\"scene\":{\"xaxis\":{\"backgroundcolor\":\"#E5ECF6\",\"gridcolor\":\"white\",\"linecolor\":\"white\",\"showbackground\":true,\"ticks\":\"\",\"zerolinecolor\":\"white\",\"gridwidth\":2},\"yaxis\":{\"backgroundcolor\":\"#E5ECF6\",\"gridcolor\":\"white\",\"linecolor\":\"white\",\"showbackground\":true,\"ticks\":\"\",\"zerolinecolor\":\"white\",\"gridwidth\":2},\"zaxis\":{\"backgroundcolor\":\"#E5ECF6\",\"gridcolor\":\"white\",\"linecolor\":\"white\",\"showbackground\":true,\"ticks\":\"\",\"zerolinecolor\":\"white\",\"gridwidth\":2}},\"shapedefaults\":{\"line\":{\"color\":\"#2a3f5f\"}},\"annotationdefaults\":{\"arrowcolor\":\"#2a3f5f\",\"arrowhead\":0,\"arrowwidth\":1},\"geo\":{\"bgcolor\":\"white\",\"landcolor\":\"#E5ECF6\",\"subunitcolor\":\"white\",\"showland\":true,\"showlakes\":true,\"lakecolor\":\"white\"},\"title\":{\"x\":0.05},\"mapbox\":{\"style\":\"light\"}}},\"scene\":{\"domain\":{\"x\":[0.0,1.0],\"y\":[0.0,1.0]},\"xaxis\":{\"title\":{\"text\":\"x\"}},\"yaxis\":{\"title\":{\"text\":\"y\"}},\"zaxis\":{\"title\":{\"text\":\"z\"}}},\"legend\":{\"tracegroupgap\":0},\"margin\":{\"t\":60}},                        {\"responsive\": true}                    ).then(function(){\n",
       "                            \n",
       "var gd = document.getElementById('81cef02b-b710-4797-b79b-3ce0acefb341');\n",
       "var x = new MutationObserver(function (mutations, observer) {{\n",
       "        var display = window.getComputedStyle(gd).display;\n",
       "        if (!display || display === 'none') {{\n",
       "            console.log([gd, 'removed!']);\n",
       "            Plotly.purge(gd);\n",
       "            observer.disconnect();\n",
       "        }}\n",
       "}});\n",
       "\n",
       "// Listen for the removal of the full notebook cells\n",
       "var notebookContainer = gd.closest('#notebook-container');\n",
       "if (notebookContainer) {{\n",
       "    x.observe(notebookContainer, {childList: true});\n",
       "}}\n",
       "\n",
       "// Listen for the clearing of the current output cell\n",
       "var outputEl = gd.closest('.output');\n",
       "if (outputEl) {{\n",
       "    x.observe(outputEl, {childList: true});\n",
       "}}\n",
       "\n",
       "                        })                };                });            </script>        </div>"
      ]
     },
     "metadata": {},
     "output_type": "display_data"
    }
   ],
   "source": [
    "states = sample_singer(10, 1, 1)\n",
    "\n",
    "fig = ex.scatter_3d(x=states[:,0], y=states[:,1], z=states[:,2])\n",
    "fig.update_traces(marker_size = 1)\n",
    "fig"
   ]
  },
  {
   "cell_type": "markdown",
   "id": "655a9349-c18b-4c89-a4b4-940be26c3a6e",
   "metadata": {},
   "source": [
    "# Kalman Filter"
   ]
  },
  {
   "cell_type": "code",
   "execution_count": null,
   "id": "cd79d135-6774-4fc5-a850-de9a8cc3b676",
   "metadata": {},
   "outputs": [],
   "source": [
    "class SingerAccelerationModel:\n",
    "    def __init__(self, tau, sigma):\n",
    "        self.tau = tau\n",
    "        self.sigma = sigma\n",
    "        \n",
    "    def F(self, dt):\n",
    "        beta = 1/self.tau\n",
    "        BT   = beta * dt\n",
    "        rho  = exp(-BT)\n",
    "\n",
    "        f_1 = 1/beta**2 * (-1 + BT + rho)\n",
    "        f_2 = 1/beta * (1 - rho)\n",
    "        f_3 = rho\n",
    "\n",
    "        return np.array([[1, 0, 0, dt, 0, 0, f_1, 0, 0],\n",
    "                         [0, 1, 0, 0, dt, 0, 0, f_1, 0],\n",
    "                         [0, 0, 1, 0, 0, dt, 0, 0, f_1],\n",
    "                         [0, 0, 0, 1, 0, 0, f_2, 0, 0],\n",
    "                         [0, 0, 0, 0, 1, 0, 0, f_2, 0],\n",
    "                         [0, 0, 0, 0, 0, 1, 0, 0, f_2],\n",
    "                         [0, 0, 0, 0, 0, 0, f_3, 0, 0],\n",
    "                         [0, 0, 0, 0, 0, 0, 0, f_3, 0],\n",
    "                         [0, 0, 0, 0, 0, 0, 0, 0, f_3]])\n",
    "        \n",
    "    def Q(self, dt):\n",
    "        beta = 1/self.tau\n",
    "        BT   = beta * dt\n",
    "        rho  = exp(-BT)\n",
    "\n",
    "        e_BT  = exp(-BT)\n",
    "        e_2BT = exp(-2*BT)\n",
    "        BT2   = BT**2\n",
    "        BT3   = BT**3\n",
    "\n",
    "        q_11 = .5/beta**5 * (1 - e_2BT + 2*BT + 2/3 * BT3 - 2*BT2 - 4*BT*e_BT)\n",
    "        q_12 = .5/beta**4 * (e_2BT + 1 - 2*e_BT + 2*BT*e_BT - 2*BT + BT2)\n",
    "        q_13 = .5/beta**3 * (1 - e_2BT - 2*BT*e_BT)\n",
    "        q_22 = .5/beta**3 * (4*e_BT - 3 - e_2BT + 2*BT)\n",
    "        q_23 = .5/beta**2 * (e_2BT + 1 - 2*e_BT)\n",
    "        q_33 = .5/beta * (1 - e_2BT)\n",
    "\n",
    "        q_21 = q_12\n",
    "        q_31 = q_13\n",
    "        q_32 = q_23\n",
    "\n",
    "        return np.array([[q_11, 0, 0, q_12, 0, 0, q_13, 0, 0],\n",
    "                         [0, q_11, 0, 0, q_12, 0, 0, q_13, 0],\n",
    "                         [0, 0, q_11, 0, 0, q_12, 0, 0, q_13],\n",
    "                         [q_21, 0, 0, q_22, 0, 0, q_23, 0, 0],\n",
    "                         [0, q_21, 0, 0, q_22, 0, 0, q_23, 0],\n",
    "                         [0, 0, q_21, 0, 0, q_22, 0, 0, q_23],\n",
    "                         [q_31, 0, 0, q_32, 0, 0, q_33, 0, 0],\n",
    "                         [0, q_31, 0, 0, q_32, 0, 0, q_33, 0],\n",
    "                         [0, 0, q_31, 0, 0, q_32, 0, 0, q_33]])\n",
    "        \n",
    "\n",
    "class KalmanFilter:\n",
    "    def __init__(self, x=np.zeros(9), P=np.eye(9), R=np.eye(3)):\n",
    "        self.dim = 3                                                  # number of spatial dimensions\n",
    "        self.R = np.array(R); self.R.shape = (self.dim, self.dim)     # measurement noise\n",
    "        self.x = np.array(x); self.x.shape = (self.dim*2)             # state (mean)\n",
    "        self.P = np.array(P); self.P.shape = (self.dim*2, self.dim*2) # state (covariance)\n",
    "        self.H = np.array([[1, 0, 0, 0, 0, 0, 0, 0, 0],               # measurement matrix\n",
    "                           [0, 1, 0, 0, 0, 0, 0, 0, 0],\n",
    "                           [0, 0, 1, 0, 0, 0, 0, 0, 0]])\n",
    "        self.motion_model = SingerAccelerationModel()\n",
    "\n",
    "    def initialize(self, x, P):\n",
    "        self.x[:len(x)] = x\n",
    "        r, c = P.shape\n",
    "        self.P[:r,:c] = P\n",
    "    \n",
    "    # extrapolate state and uncertainty\n",
    "    def predict(self, dt):\n",
    "        F = self.motion_model.F(dt)\n",
    "        Q = self.motion_model.Q(dt)\n",
    "        self.x = F @ self.x\n",
    "        self.P = F @ self.P @ F.T + Q\n",
    "\n",
    "    # update state with a measurement\n",
    "    def update(self, z):\n",
    "        z = np.array(z); z.shape = self.dim # measurement\n",
    "\n",
    "        # Kalman gain\n",
    "        # K = P*H (H*P*H + R)\n",
    "        K = self.P @ self.H.T @ np.linalg.inv(self.H @ self.P @ self.H.T + self.R)\n",
    "\n",
    "        # filtered state (mean)\n",
    "        # X = X + K(z - H*X)\n",
    "        self.x = self.x + K @ (z - self.H @ self.x)\n",
    "\n",
    "        I = np.eye(9)\n",
    "        \n",
    "        # filtered state (covariance)\n",
    "        # P = (I - K*H) * P * (I - K*H) + K*R*K\n",
    "        self.P = (I - K@self.H) @ self.P @ (I - K@self.H).T + K @ self.R @ K.T"
   ]
  },
  {
   "cell_type": "markdown",
   "id": "e5dd73f7-89e4-4af2-9325-5c091302fb3a",
   "metadata": {},
   "source": [
    "# Evaluation"
   ]
  },
  {
   "cell_type": "code",
   "execution_count": 85,
   "id": "bfd9ea87-9701-413c-9360-7be3e80a7b37",
   "metadata": {},
   "outputs": [],
   "source": [
    "def cartesian_measurements(positions, noise_covariance):\n",
    "    noise_mean = np.full(positions.shape[1], 0)\n",
    "    noise = np.random.multivariate_normal(noise_mean, noise_covariance, size=positions.shape[0])\n",
    "    return positions + noise"
   ]
  },
  {
   "cell_type": "code",
   "execution_count": 105,
   "id": "3bd9b3e7-8dd9-4201-b337-9cc7129402ad",
   "metadata": {},
   "outputs": [],
   "source": [
    "def evaluate(target, kf, time=np.arange(0, 100), z_sigma=.1):\n",
    "    # calculate target positions over time\n",
    "    time = np.array(time)\n",
    "    positions = target.positions(time)\n",
    "    \n",
    "    # transform positions into measurements\n",
    "    z_var = z_sigma*z_sigma\n",
    "    meas = cartesian_measurements(positions, np.diag([z_var, z_var, z_var]))\n",
    "    \n",
    "    # initialize track state\n",
    "    mean = np.full(6, 0)\n",
    "    mean[:3] = meas[0,:]\n",
    "    cov = np.diag(np.full(6, z_var))\n",
    "    \n",
    "    kf.initialize(mean, cov)\n",
    "\n",
    "    # iterate\n",
    "    err = []\n",
    "    pos = []\n",
    "    vel = []\n",
    "    \n",
    "    for dt, z in zip(np.diff(time), meas):\n",
    "        kf.predict(dt)\n",
    "        pos.append(kf.x[:3])\n",
    "        vel.append(kf.x[3:6])\n",
    "        err.append(kf.x[:3] - z)\n",
    "        kf.update(z)\n",
    "    \n",
    "    return positions, np.array(pos), np.array(vel), np.array(err)"
   ]
  },
  {
   "cell_type": "code",
   "execution_count": 91,
   "id": "4e104d4f-ae8d-4b11-b981-e14f87fd1796",
   "metadata": {},
   "outputs": [],
   "source": [
    "def to_df(np_array, col_prefix='x'):\n",
    "    d = {}\n",
    "    for i, column in enumerate(np.array(np_array).T):\n",
    "        d[col_prefix + str(i)] = column\n",
    "    return pd.DataFrame(d)"
   ]
  },
  {
   "cell_type": "markdown",
   "id": "64cf4429-884a-4e5a-81b9-e5a441838b81",
   "metadata": {},
   "source": [
    "# Sinus target"
   ]
  },
  {
   "cell_type": "code",
   "execution_count": 125,
   "id": "106b73b3-026d-4a5a-ab1d-27a163d97cce",
   "metadata": {},
   "outputs": [],
   "source": [
    "class SinusTarget:\n",
    "    def __init__(self, speed=20, range=10):\n",
    "        self.speed = speed\n",
    "        self.range = range\n",
    "\n",
    "    def positions(self, t):\n",
    "        t = np.array(t)\n",
    "        x = np.sin(t / 180 * np.pi * self.speed) * self.range\n",
    "        y = np.full_like(t, 0)\n",
    "        z = np.arange(0, len(t))\n",
    "        return np.array((x, y, z)).T"
   ]
  },
  {
   "cell_type": "code",
   "execution_count": 126,
   "id": "12d712b6-e0f9-4df6-a685-faa74e3f89b5",
   "metadata": {},
   "outputs": [],
   "source": [
    "target, pos, vel, err  = evaluate(SinusTarget(), KalmanFilter(), time=np.arange(0, 400))"
   ]
  },
  {
   "cell_type": "code",
   "execution_count": 127,
   "id": "2968548e-d86e-4746-87d2-02442e6cbf5f",
   "metadata": {},
   "outputs": [
    {
     "data": {
      "application/vnd.plotly.v1+json": {
       "config": {
        "plotlyServerURL": "https://plot.ly"
       },
       "data": [
        {
         "hovertemplate": "variable=err0<br>index=%{x}<br>value=%{y}<extra></extra>",
         "legendgroup": "err0",
         "line": {
          "color": "#636efa",
          "dash": "solid"
         },
         "marker": {
          "symbol": "circle"
         },
         "mode": "lines",
         "name": "err0",
         "showlegend": true,
         "type": "scattergl",
         "x": [
          0,
          1,
          2,
          3,
          4,
          5,
          6,
          7,
          8,
          9,
          10,
          11,
          12,
          13,
          14,
          15,
          16,
          17,
          18,
          19,
          20,
          21,
          22,
          23,
          24,
          25,
          26,
          27,
          28,
          29,
          30,
          31,
          32,
          33,
          34,
          35,
          36,
          37,
          38,
          39,
          40,
          41,
          42,
          43,
          44,
          45,
          46,
          47,
          48,
          49,
          50,
          51,
          52,
          53,
          54,
          55,
          56,
          57,
          58,
          59,
          60,
          61,
          62,
          63,
          64,
          65,
          66,
          67,
          68,
          69,
          70,
          71,
          72,
          73,
          74,
          75,
          76,
          77,
          78,
          79,
          80,
          81,
          82,
          83,
          84,
          85,
          86,
          87,
          88,
          89,
          90,
          91,
          92,
          93,
          94,
          95,
          96,
          97,
          98,
          99,
          100,
          101,
          102,
          103,
          104,
          105,
          106,
          107,
          108,
          109,
          110,
          111,
          112,
          113,
          114,
          115,
          116,
          117,
          118,
          119,
          120,
          121,
          122,
          123,
          124,
          125,
          126,
          127,
          128,
          129,
          130,
          131,
          132,
          133,
          134,
          135,
          136,
          137,
          138,
          139,
          140,
          141,
          142,
          143,
          144,
          145,
          146,
          147,
          148,
          149,
          150,
          151,
          152,
          153,
          154,
          155,
          156,
          157,
          158,
          159,
          160,
          161,
          162,
          163,
          164,
          165,
          166,
          167,
          168,
          169,
          170,
          171,
          172,
          173,
          174,
          175,
          176,
          177,
          178,
          179,
          180,
          181,
          182,
          183,
          184,
          185,
          186,
          187,
          188,
          189,
          190,
          191,
          192,
          193,
          194,
          195,
          196,
          197,
          198,
          199,
          200,
          201,
          202,
          203,
          204,
          205,
          206,
          207,
          208,
          209,
          210,
          211,
          212,
          213,
          214,
          215,
          216,
          217,
          218,
          219,
          220,
          221,
          222,
          223,
          224,
          225,
          226,
          227,
          228,
          229,
          230,
          231,
          232,
          233,
          234,
          235,
          236,
          237,
          238,
          239,
          240,
          241,
          242,
          243,
          244,
          245,
          246,
          247,
          248,
          249,
          250,
          251,
          252,
          253,
          254,
          255,
          256,
          257,
          258,
          259,
          260,
          261,
          262,
          263,
          264,
          265,
          266,
          267,
          268,
          269,
          270,
          271,
          272,
          273,
          274,
          275,
          276,
          277,
          278,
          279,
          280,
          281,
          282,
          283,
          284,
          285,
          286,
          287,
          288,
          289,
          290,
          291,
          292,
          293,
          294,
          295,
          296,
          297,
          298,
          299,
          300,
          301,
          302,
          303,
          304,
          305,
          306,
          307,
          308,
          309,
          310,
          311,
          312,
          313,
          314,
          315,
          316,
          317,
          318,
          319,
          320,
          321,
          322,
          323,
          324,
          325,
          326,
          327,
          328,
          329,
          330,
          331,
          332,
          333,
          334,
          335,
          336,
          337,
          338,
          339,
          340,
          341,
          342,
          343,
          344,
          345,
          346,
          347,
          348,
          349,
          350,
          351,
          352,
          353,
          354,
          355,
          356,
          357,
          358,
          359,
          360,
          361,
          362,
          363,
          364,
          365,
          366,
          367,
          368,
          369,
          370,
          371,
          372,
          373,
          374,
          375,
          376,
          377,
          378,
          379,
          380,
          381,
          382,
          383,
          384,
          385,
          386,
          387,
          388,
          389,
          390,
          391,
          392,
          393,
          394,
          395,
          396,
          397,
          398
         ],
         "xaxis": "x",
         "y": [
          -0.05528400895329715,
          -3.38131303075954,
          0.05565636595981349,
          0.6927631556588967,
          0.45061627062090004,
          1.4410845209335612,
          1.0018138776229861,
          0.9741693601191423,
          1.4175396433176752,
          0.5028029970572117,
          0.0955233890516829,
          0.37181702897417157,
          -0.8857631860490294,
          -0.5059114714992319,
          -1.1898896932151306,
          -1.4151728140196944,
          -0.8418449402677819,
          -1.0488197609403107,
          -0.6864624427325802,
          -0.6522830683607457,
          0.23414491161020745,
          0.9904374458348197,
          0.2102004264893953,
          1.2687925303135916,
          1.0432727774780144,
          1.2689378669664375,
          1.1285645715695947,
          0.7659371938469852,
          -0.03518018493206698,
          0.08172237924864145,
          -0.3030498919121687,
          -1.1940620051506414,
          -0.5876496645434095,
          -1.7006623767878573,
          -0.6453968138121491,
          -1.469903612372375,
          -0.5964286579925044,
          0.08035198580362435,
          -0.25692859584038086,
          0.43546904796946784,
          0.9647493707719192,
          0.9534541631546087,
          1.2478700635239637,
          1.0962760174817605,
          1.286608220223243,
          0.34168669385993317,
          0.4490898267065315,
          0.11375883814334742,
          -0.7309623754619246,
          -0.7286546838923798,
          -1.2029344315284067,
          -1.1013800850573148,
          -1.2902348900541982,
          -0.7664021806500987,
          -0.719756193822454,
          -0.40174659163687343,
          0.18860318177915136,
          0.302574690566189,
          0.9654121956325437,
          0.9301657567545973,
          1.4685677815339915,
          0.8377314280127619,
          1.133507594486951,
          0.6951791283482339,
          0.306521451238412,
          -0.11199240042233871,
          -0.555461604911434,
          -0.47376405034785485,
          -1.3265557391827745,
          -1.3010867937221047,
          -1.001149975872881,
          -0.8994482649659021,
          -0.9669738622766026,
          -0.09099376806567028,
          0.084178693868866,
          0.48811846319309815,
          0.5864133211973321,
          1.250773358533694,
          1.1527354699592305,
          1.1457119003669556,
          1.0330317631373744,
          0.8167064065562202,
          -0.003463644714122527,
          0.17449473859539477,
          -0.7098922755138766,
          -0.42600282837233117,
          -1.5315748910500666,
          -0.9139292837425153,
          -1.2500371260546963,
          -0.9137643834969364,
          -0.8056514206850213,
          -0.3057803308764475,
          0.3042415106234495,
          0.3481358516383768,
          0.5325293677912857,
          1.3885368804563232,
          1.2463536407732025,
          0.9955426478087341,
          1.0475858248613212,
          0.569097792718166,
          0.28054160037949316,
          0.3482763782885341,
          -0.6713325873496245,
          -0.9948838781554716,
          -1.1924921983503918,
          -0.8626737310706325,
          -1.0850348554141283,
          -1.4711513796065563,
          -0.4935915086596672,
          -0.09540764323463735,
          -0.00014269972929348285,
          0.3293913433616673,
          0.94866768325336,
          1.0671210836544756,
          1.066671337899388,
          1.2207593925171567,
          0.8530336692787488,
          1.0911449153958817,
          0.03232636396477906,
          0.10136292585820161,
          -0.5608446329235033,
          -0.9942048750338639,
          -0.9551023960202425,
          -1.220183445658316,
          -0.987541721826874,
          -1.2023278517164475,
          -0.46728358232444933,
          -0.6605542064769772,
          0.4389183841819717,
          0.3237278879009846,
          0.6875664790290852,
          1.1705839249571568,
          1.1282522015581193,
          1.6307924245815322,
          0.3470311917235902,
          1.1207893032573455,
          -0.008122413223383251,
          0.07457590395917801,
          -0.5225773317692042,
          -0.7762192949423969,
          -0.8890656858730352,
          -1.4022133966477508,
          -1.1787973930919433,
          -1.0878574700997845,
          -0.3289741360174354,
          -0.6584217681158657,
          0.13957867843584015,
          0.7700050451879701,
          0.4748882176614284,
          1.2671810514638207,
          0.9187091767602968,
          1.4900878672042683,
          0.8758547908856773,
          0.5943917731948609,
          0.41083325170073426,
          0.11699623284365135,
          -0.7257571813606827,
          -0.8541671410039875,
          -1.0950503482975247,
          -0.9676935298424372,
          -1.389987091547984,
          -0.9163258289871825,
          -0.5664771602921866,
          -0.59835335124325,
          0.3662482612828004,
          0.3881637028428475,
          0.9827848807618107,
          0.652318950538719,
          1.6927344304870946,
          0.7877554542076197,
          1.3061404463132642,
          0.31757276803291395,
          0.4903216888148556,
          -0.3332555133226389,
          -0.23900858948314863,
          -0.6615265512479436,
          -1.2639737235435966,
          -1.1769321030989204,
          -1.129234489638205,
          -0.8024117585346686,
          -1.080401837236175,
          -0.04083696297280115,
          -0.034545640420240886,
          0.40069582878280485,
          1.1001421667058153,
          0.7425147281619608,
          1.6754956005068937,
          0.7897820408042291,
          0.9768611449475344,
          0.736452432984111,
          0.43230803558503306,
          -0.26873862938261617,
          -0.21917247470695145,
          -1.2521316267970732,
          -0.7399845160861638,
          -1.1468901636303404,
          -1.3918521967637663,
          -0.6976724080325214,
          -0.8430647445055546,
          -0.33086877704492634,
          -0.06838435124789832,
          0.6916242220997333,
          0.8214853176554993,
          0.7873455791087167,
          1.6014556270997211,
          0.8629865001637507,
          1.1684479330370618,
          0.7130101361677182,
          0.007202452922469682,
          0.24924558720904066,
          -0.5126950451173613,
          -1.060413846349828,
          -0.9005903617773239,
          -1.208149724380423,
          -1.1829009321431494,
          -0.8529025744882288,
          -0.8285769337842347,
          -0.27212127794890595,
          -0.016598725542060322,
          0.5135046599639441,
          0.893650397146093,
          1.127388703748755,
          0.8871043877204983,
          1.511536706687294,
          0.8675662005191169,
          0.7138279414967562,
          0.299263679731713,
          -0.18162143266577235,
          -0.344029553455071,
          -1.0399222705431157,
          -0.7607536219299664,
          -1.382642915995893,
          -0.8123559187467393,
          -1.263449013204657,
          -0.8692302977460544,
          -0.2603306184333558,
          0.3708073001052483,
          0.016476275142634833,
          0.9439583508722507,
          1.4056081758507446,
          1.0792999488775692,
          0.940180328744809,
          1.0850693516854446,
          0.7044470670638399,
          0.575626767299898,
          -0.2598763678553233,
          -0.641284282045838,
          -0.7789547810998165,
          -0.9944323260317987,
          -1.177940725039047,
          -1.1660299459141514,
          -0.8953712805720766,
          -0.7062874309633826,
          -0.5802747430845328,
          0.3106259904226709,
          0.38128694931905827,
          0.5300391910168987,
          1.762102924203683,
          0.7135226964665229,
          1.49589067491645,
          0.749164588246177,
          0.7399669517595595,
          0.308189969573021,
          -0.2538764637600943,
          -0.06847841288804268,
          -1.3648934128208587,
          -0.6389636486789172,
          -1.286219086644044,
          -1.1744491497959215,
          -1.083759645430626,
          -0.7688782497106841,
          0.03812506711459873,
          -0.3246554971393758,
          0.7089854755599188,
          0.7723314817024285,
          1.0942602459315118,
          1.1795508933486865,
          1.1172357381739904,
          1.1085136060994256,
          0.6295297497057546,
          0.30071051106982605,
          -0.014781967294583254,
          -0.6549892044396195,
          -0.5984516348998294,
          -1.147866839842587,
          -1.2020437446264491,
          -1.285516716395123,
          -0.9765148882018564,
          -0.6376648072420521,
          -0.18003412880599967,
          -0.2120946089485063,
          0.6723033029264052,
          0.8147130768858464,
          1.1113273128298644,
          1.3044310169834628,
          1.0155901658136743,
          1.0946108231336948,
          0.561393334772663,
          0.06618977789689229,
          0.5252581189338841,
          -1.0913495607110235,
          -0.28759541112198406,
          -1.5581324178693752,
          -0.7492094904720954,
          -1.3874856728052265,
          -0.9724946427038281,
          -0.8606696800990425,
          0.06755375540223296,
          -0.17340386831527344,
          0.4102382164844105,
          1.1215001202999417,
          0.804573400966289,
          1.2477303975860128,
          1.1134640083908423,
          1.0151833333261435,
          0.864470100130662,
          0.0943333370794095,
          -0.0018618441334004032,
          -0.2954458520766874,
          -1.2910110821323375,
          -0.8081730126067157,
          -0.9651976385501442,
          -1.327977070040741,
          -1.1809032831153368,
          -0.3512052295650685,
          -0.37966570533156396,
          -0.3270488979090942,
          0.8222028365783558,
          0.7240213445188566,
          1.0261788440832937,
          1.5312089985034536,
          0.6481795004219757,
          1.3745816037153151,
          0.5538442552341348,
          0.35166741910819876,
          -0.22184874340284644,
          -0.23561602790316272,
          -1.0975096647870153,
          -0.7547552264717261,
          -1.191407022112756,
          -1.2874434909316452,
          -1.2298309814908719,
          -0.3921850431376402,
          -0.5222498468981613,
          0.27618798740213446,
          0.5995383689326044,
          0.3908586577755333,
          1.3311519467464965,
          1.221073161216113,
          1.0455714371073617,
          1.282488245134083,
          0.13254836296949765,
          0.6872181994101312,
          0.12276271994930621,
          -0.9283103488679956,
          -0.5663840253863306,
          -1.1408905356129768,
          -1.3326525609085316,
          -1.0706150503629468,
          -0.7375124467516527,
          -1.0117491952917834,
          -0.2703749459389142,
          0.3494227733804891,
          0.11895910774624419,
          1.114663511132779,
          0.8609889087340132,
          1.3362610675432336,
          1.2758175156067324,
          0.7056112823668212,
          0.8130447454997187,
          0.27164663639689035,
          0.21760501329899906,
          -1.0177915818008323,
          -0.4768236101195189,
          -1.2021865087490031,
          -1.0503933347095114,
          -1.316930677619685,
          -0.6913665521141326,
          -1.060891670525971,
          -0.3012248000429434,
          0.2580197140216285,
          0.6563048646762137,
          0.5948424239723522,
          1.0837165903248245,
          1.0709941629113793,
          1.196583323343683,
          1.2056585773167088,
          0.46887941008961626,
          0.48388352080300745,
          -0.10594980369149454,
          -0.6295844056404061,
          -0.7208242275595644,
          -1.1284748544234748,
          -1.1957894335447072,
          -0.9373271859345129,
          -1.1421212996899324,
          -0.6871938623582802,
          -0.4934777203862293,
          0.3089575068402288
         ],
         "yaxis": "y"
        },
        {
         "hovertemplate": "variable=err1<br>index=%{x}<br>value=%{y}<extra></extra>",
         "legendgroup": "err1",
         "line": {
          "color": "#EF553B",
          "dash": "solid"
         },
         "marker": {
          "symbol": "circle"
         },
         "mode": "lines",
         "name": "err1",
         "showlegend": true,
         "type": "scattergl",
         "x": [
          0,
          1,
          2,
          3,
          4,
          5,
          6,
          7,
          8,
          9,
          10,
          11,
          12,
          13,
          14,
          15,
          16,
          17,
          18,
          19,
          20,
          21,
          22,
          23,
          24,
          25,
          26,
          27,
          28,
          29,
          30,
          31,
          32,
          33,
          34,
          35,
          36,
          37,
          38,
          39,
          40,
          41,
          42,
          43,
          44,
          45,
          46,
          47,
          48,
          49,
          50,
          51,
          52,
          53,
          54,
          55,
          56,
          57,
          58,
          59,
          60,
          61,
          62,
          63,
          64,
          65,
          66,
          67,
          68,
          69,
          70,
          71,
          72,
          73,
          74,
          75,
          76,
          77,
          78,
          79,
          80,
          81,
          82,
          83,
          84,
          85,
          86,
          87,
          88,
          89,
          90,
          91,
          92,
          93,
          94,
          95,
          96,
          97,
          98,
          99,
          100,
          101,
          102,
          103,
          104,
          105,
          106,
          107,
          108,
          109,
          110,
          111,
          112,
          113,
          114,
          115,
          116,
          117,
          118,
          119,
          120,
          121,
          122,
          123,
          124,
          125,
          126,
          127,
          128,
          129,
          130,
          131,
          132,
          133,
          134,
          135,
          136,
          137,
          138,
          139,
          140,
          141,
          142,
          143,
          144,
          145,
          146,
          147,
          148,
          149,
          150,
          151,
          152,
          153,
          154,
          155,
          156,
          157,
          158,
          159,
          160,
          161,
          162,
          163,
          164,
          165,
          166,
          167,
          168,
          169,
          170,
          171,
          172,
          173,
          174,
          175,
          176,
          177,
          178,
          179,
          180,
          181,
          182,
          183,
          184,
          185,
          186,
          187,
          188,
          189,
          190,
          191,
          192,
          193,
          194,
          195,
          196,
          197,
          198,
          199,
          200,
          201,
          202,
          203,
          204,
          205,
          206,
          207,
          208,
          209,
          210,
          211,
          212,
          213,
          214,
          215,
          216,
          217,
          218,
          219,
          220,
          221,
          222,
          223,
          224,
          225,
          226,
          227,
          228,
          229,
          230,
          231,
          232,
          233,
          234,
          235,
          236,
          237,
          238,
          239,
          240,
          241,
          242,
          243,
          244,
          245,
          246,
          247,
          248,
          249,
          250,
          251,
          252,
          253,
          254,
          255,
          256,
          257,
          258,
          259,
          260,
          261,
          262,
          263,
          264,
          265,
          266,
          267,
          268,
          269,
          270,
          271,
          272,
          273,
          274,
          275,
          276,
          277,
          278,
          279,
          280,
          281,
          282,
          283,
          284,
          285,
          286,
          287,
          288,
          289,
          290,
          291,
          292,
          293,
          294,
          295,
          296,
          297,
          298,
          299,
          300,
          301,
          302,
          303,
          304,
          305,
          306,
          307,
          308,
          309,
          310,
          311,
          312,
          313,
          314,
          315,
          316,
          317,
          318,
          319,
          320,
          321,
          322,
          323,
          324,
          325,
          326,
          327,
          328,
          329,
          330,
          331,
          332,
          333,
          334,
          335,
          336,
          337,
          338,
          339,
          340,
          341,
          342,
          343,
          344,
          345,
          346,
          347,
          348,
          349,
          350,
          351,
          352,
          353,
          354,
          355,
          356,
          357,
          358,
          359,
          360,
          361,
          362,
          363,
          364,
          365,
          366,
          367,
          368,
          369,
          370,
          371,
          372,
          373,
          374,
          375,
          376,
          377,
          378,
          379,
          380,
          381,
          382,
          383,
          384,
          385,
          386,
          387,
          388,
          389,
          390,
          391,
          392,
          393,
          394,
          395,
          396,
          397,
          398
         ],
         "xaxis": "x",
         "y": [
          0.05596480107374779,
          -0.14039200276005673,
          0.024498613918351453,
          0.029151942137257095,
          0.07761413825244132,
          0.04290613692262276,
          -0.027127368271054567,
          -0.04450115102449677,
          -0.3529357570727963,
          0.7079723750749229,
          -0.40248369985969124,
          0.041969046831627416,
          0.05272107914912691,
          -0.17841636551730236,
          -0.034522182657779746,
          0.21382811908632268,
          -0.03216705153286671,
          0.04450593219310537,
          -0.05394961840661844,
          -0.12680179265888655,
          0.20103831123994714,
          -0.2525133034886851,
          0.31603144808423184,
          -0.303465523199821,
          0.19732035780013918,
          -0.1302534585807067,
          0.08887112626531074,
          0.020511981619397518,
          0.07510311545282637,
          -0.2698788739741377,
          0.05208535948497103,
          0.21788190495521373,
          -0.12690476275910223,
          -0.01980955289957989,
          0.09917326502554152,
          -0.3219997423550536,
          0.5006000261276815,
          -0.20852057088111592,
          -0.15706438438684275,
          0.1217939994703251,
          0.19081257902862586,
          -0.3556874528640742,
          0.26882696155218033,
          -0.2884666854844383,
          0.4760822783462484,
          -0.3970877214398666,
          -0.05400540652905664,
          0.1902121497238427,
          0.005689071935462531,
          -0.0555103646270467,
          0.05584426581046302,
          0.035578398109409055,
          -0.05250656785273992,
          -0.09912100610334948,
          0.05657641839207235,
          0.0956147454059812,
          -0.1024450366763689,
          -0.038185233333757077,
          0.006034141451328662,
          0.18769611705437117,
          -0.01761231213797071,
          -0.19215763318907148,
          0.0002089222395928042,
          0.1450930076524119,
          -0.19435376548545408,
          0.35363807851225304,
          -0.27244894892527755,
          0.01168332621397238,
          0.017133403927441622,
          0.0012830975056160182,
          0.17220630407253812,
          -0.11674326659132403,
          -0.2624440134317904,
          0.420973317716109,
          -0.24168375634254097,
          -0.07306342464926659,
          0.17019688004252184,
          -0.03742309026647949,
          -0.0404374795945436,
          0.10411819395211683,
          -0.05750855700522939,
          0.046585589648035886,
          -0.18956819101936057,
          0.10565861951323627,
          0.16891396181599003,
          -0.2306595900927655,
          0.0024958105539041597,
          0.09493209207191368,
          0.12943441157939356,
          -0.2742410728619813,
          -0.010588517104048317,
          0.1137902144135085,
          0.17512976226016888,
          -0.1489977489808225,
          -0.040306944281425894,
          0.24477917460781348,
          -0.42246437786123225,
          0.3426207478871786,
          -0.03729919441428327,
          -0.38216925820148095,
          0.29576312014439665,
          0.23369632714416153,
          -0.3496352081016806,
          0.11023179864893365,
          -0.022863517719262594,
          0.010876099496447786,
          0.36157792806603156,
          -0.49105725456667326,
          -0.03004156447947602,
          0.2326959381010139,
          0.08652478375158829,
          -0.2586796876422669,
          0.21774743625915613,
          -0.06180096296243888,
          -0.0850257323693106,
          0.004968657694298591,
          0.07346615883404498,
          -0.09380578607003255,
          0.005481129023872766,
          -0.012788444901882828,
          0.18559492105767272,
          -0.0325484525384374,
          -0.23599289648608224,
          0.20214200679076694,
          0.017340117639476536,
          -0.10589218772831302,
          0.040947994244288494,
          0.16204113548738505,
          -0.3789644411496409,
          0.05463738018520059,
          0.2577057275989293,
          -0.03491451802927363,
          -0.05055639306540065,
          -0.040843214697623566,
          0.10143384060871219,
          -0.15954183628916954,
          -0.048570493199740244,
          0.4307702476044679,
          -0.551121657053501,
          0.43556629135111413,
          -0.3686731258982735,
          0.2207764429073043,
          0.09909574461403263,
          -0.12773300495121262,
          0.02346087880953593,
          -0.13170527092104548,
          0.3391453143857923,
          -0.418100934702903,
          0.0923937678185747,
          0.159577041362986,
          0.04948241137180928,
          -0.13791956630622865,
          -0.06386804962097084,
          0.24979217363933043,
          -0.1872920239738785,
          -0.09534399333748556,
          0.003457348657258913,
          0.34606908788205554,
          -0.3547732820969206,
          0.23054180159125248,
          -0.18199492515959964,
          0.04366935385736349,
          0.03286644629316018,
          0.13769779373299026,
          -0.23050442174239255,
          -0.06485490299842975,
          0.3502285580183471,
          -0.24080247861890283,
          -0.026331620786320023,
          0.2066927245405892,
          -0.2670969647424276,
          0.310871470484839,
          -0.47697497878966455,
          0.4368884337901011,
          -0.15200998927581735,
          -0.005838060465852786,
          0.23009592339357748,
          -0.21616287967020062,
          -0.09601478656484676,
          0.09132217916921527,
          0.009588484177834734,
          0.06941191868672626,
          0.02266693801849695,
          -0.136506252667502,
          -0.2148700314356703,
          0.4649924500246777,
          -0.09600934733298708,
          -0.24244957375117443,
          0.09603893023776393,
          -0.003876845378995755,
          0.039992955379424294,
          0.04147772985249865,
          0.012965891931563014,
          0.07854915152523852,
          -0.28076759841407795,
          0.17242563675914982,
          -0.08228628863853962,
          0.1288754436299573,
          -0.17282412726384477,
          0.2078201779113037,
          -0.3263723588255446,
          0.27430394123823887,
          0.11530873643018921,
          -0.24778690583789595,
          0.15438713559324832,
          -0.025628590131164586,
          -0.2301781652173762,
          0.22237977237862339,
          0.08289419161793447,
          -0.12571899522134283,
          0.07739964001160116,
          -0.16283145875335725,
          0.02925263598617311,
          0.19456427122082967,
          -0.3428549975586037,
          0.37447511459688404,
          -0.2580759629023301,
          -0.019543261062007156,
          0.07007963240266371,
          0.21261371377410518,
          -0.23159270978890065,
          0.16257277555870975,
          -0.2165211222449698,
          0.17295260192487827,
          -0.05003562722459107,
          -0.025516871895795004,
          0.0018287912055432983,
          0.07624010244737038,
          -0.07815554118072414,
          0.035671283370734136,
          0.0008060022719616478,
          -0.12089301181534509,
          0.1841840212141879,
          -0.24559449902895972,
          0.3511028022524133,
          -0.2484351981948597,
          -0.12026402482405225,
          0.31177920936274195,
          -0.1258378972077201,
          0.09435366424098575,
          -0.11937066912535399,
          -0.010532917228640117,
          0.06340026476185978,
          -0.06329499436057802,
          0.07225496564221505,
          -0.13390619355668892,
          0.19668634119709275,
          -0.07265636992071332,
          0.013241002130524648,
          -0.2510198935363729,
          0.3394889108106504,
          -0.2096047136337369,
          0.1931307637231191,
          -0.09998925786549034,
          -0.007413415131861972,
          -0.1394478142246353,
          0.042111194066493926,
          0.17673942167661574,
          -0.12128410712986606,
          0.0004650591622703676,
          -0.030726419945412198,
          0.3482248144700547,
          -0.5036126009841597,
          0.3848536412783603,
          -0.24174410827189183,
          -0.10475897512061522,
          0.2487815061625967,
          -0.11466194676255656,
          0.1421854611346613,
          -0.18072932023587215,
          0.22661301686734084,
          -0.39288823932816513,
          0.3997045498439089,
          0.013364792374925327,
          -0.3009810557615199,
          0.22802669472201698,
          -0.21068278468652457,
          0.20896702094628247,
          -0.24533362272412518,
          0.25303045314945366,
          -0.17870275264204438,
          0.12100046795373434,
          -0.08725567010925148,
          -0.056307534526951225,
          0.24338484831513507,
          0.04345222232432158,
          -0.46359051141528435,
          0.29790234839382174,
          -0.10279323787479919,
          0.2326212395377436,
          -0.26949988554719745,
          0.1318132511147725,
          -0.11843614037196998,
          0.30230441218433146,
          -0.35043569863888113,
          0.2718957179576821,
          -0.11403656613210489,
          -0.04812514529082742,
          0.11003595580775155,
          -0.11406358364001115,
          0.09411670535243188,
          -0.14824978530163113,
          0.1988597652672493,
          -0.11865906338244935,
          0.1251597575302624,
          -0.11141091368857425,
          -0.03923968832055674,
          0.17089437458804008,
          -0.08883420834796912,
          -0.04751349023661225,
          -0.2538266213470929,
          0.4207836749840981,
          -0.14686364212389888,
          0.03485599391782397,
          -0.006121409904673331,
          -0.19625734838934356,
          0.07304885504929087,
          0.412732299699416,
          -0.5991055032853589,
          0.3013864720847483,
          0.16095836159918078,
          -0.2933334210308842,
          0.012288762531514327,
          0.05686658027196993,
          0.024679609350772624,
          0.06109036069985535,
          0.042881882343314706,
          -0.06633057461988318,
          0.032083641825951484,
          -0.09671800623251,
          0.0061737985337436616,
          0.03640506089554645,
          0.11059935411873306,
          -0.2985230100380228,
          0.283762342247179,
          0.051195761128600054,
          -0.3831531194433603,
          0.30564475630151583,
          0.022999538901034774,
          -0.15493908887458985,
          0.10587057863902039,
          -0.10533815031156912,
          -0.09102062029961695,
          0.43879140924803595,
          -0.5752060471427113,
          0.2502591506249021,
          0.26794613835526904,
          -0.43181827956778696,
          0.17854460083725537,
          0.20855628836646167,
          -0.41726740354852565,
          0.38945508152321334,
          -0.14248759463636987,
          -0.2377042947886591,
          0.4873643021160913,
          -0.33728667262777906,
          -0.04337362206740343,
          0.21987369820902175,
          -0.0961071155829028,
          0.010508510751114222,
          0.02049349335982252,
          -0.1472665139027101,
          0.05474163450068856,
          -0.015748862449484397,
          0.026950544291622913,
          0.15949589421237384,
          -0.03716790272745676,
          -0.32042093227185664,
          0.3143716822853537,
          0.04387797382222054,
          -0.09662641577020498,
          -0.08461313555490262,
          -0.030864326426849345,
          0.1713008173371275,
          -0.07842626221062747,
          0.06273393095791019,
          0.09074533000856815,
          -0.3099049722133471,
          0.16662608115276833,
          0.018892293481417355,
          -0.035340172638160236,
          -0.03598681181460758,
          0.09165710608170669,
          0.006736381471775549,
          0.04212773781759835,
          -0.21030724987895155,
          0.00534265808656844,
          0.01176166651730351,
          0.24369391537550966,
          -0.3079630358938227,
          0.1292525613921658,
          0.286642904524553,
          -0.30448129325847945,
          0.13596846917892805,
          -0.3491070167442986,
          0.4552974964693518,
          -0.3223290858945163,
          0.2789085865385249,
          -0.26732368546914714
         ],
         "yaxis": "y"
        },
        {
         "hovertemplate": "variable=err2<br>index=%{x}<br>value=%{y}<extra></extra>",
         "legendgroup": "err2",
         "line": {
          "color": "#00cc96",
          "dash": "solid"
         },
         "marker": {
          "symbol": "circle"
         },
         "mode": "lines",
         "name": "err2",
         "showlegend": true,
         "type": "scattergl",
         "x": [
          0,
          1,
          2,
          3,
          4,
          5,
          6,
          7,
          8,
          9,
          10,
          11,
          12,
          13,
          14,
          15,
          16,
          17,
          18,
          19,
          20,
          21,
          22,
          23,
          24,
          25,
          26,
          27,
          28,
          29,
          30,
          31,
          32,
          33,
          34,
          35,
          36,
          37,
          38,
          39,
          40,
          41,
          42,
          43,
          44,
          45,
          46,
          47,
          48,
          49,
          50,
          51,
          52,
          53,
          54,
          55,
          56,
          57,
          58,
          59,
          60,
          61,
          62,
          63,
          64,
          65,
          66,
          67,
          68,
          69,
          70,
          71,
          72,
          73,
          74,
          75,
          76,
          77,
          78,
          79,
          80,
          81,
          82,
          83,
          84,
          85,
          86,
          87,
          88,
          89,
          90,
          91,
          92,
          93,
          94,
          95,
          96,
          97,
          98,
          99,
          100,
          101,
          102,
          103,
          104,
          105,
          106,
          107,
          108,
          109,
          110,
          111,
          112,
          113,
          114,
          115,
          116,
          117,
          118,
          119,
          120,
          121,
          122,
          123,
          124,
          125,
          126,
          127,
          128,
          129,
          130,
          131,
          132,
          133,
          134,
          135,
          136,
          137,
          138,
          139,
          140,
          141,
          142,
          143,
          144,
          145,
          146,
          147,
          148,
          149,
          150,
          151,
          152,
          153,
          154,
          155,
          156,
          157,
          158,
          159,
          160,
          161,
          162,
          163,
          164,
          165,
          166,
          167,
          168,
          169,
          170,
          171,
          172,
          173,
          174,
          175,
          176,
          177,
          178,
          179,
          180,
          181,
          182,
          183,
          184,
          185,
          186,
          187,
          188,
          189,
          190,
          191,
          192,
          193,
          194,
          195,
          196,
          197,
          198,
          199,
          200,
          201,
          202,
          203,
          204,
          205,
          206,
          207,
          208,
          209,
          210,
          211,
          212,
          213,
          214,
          215,
          216,
          217,
          218,
          219,
          220,
          221,
          222,
          223,
          224,
          225,
          226,
          227,
          228,
          229,
          230,
          231,
          232,
          233,
          234,
          235,
          236,
          237,
          238,
          239,
          240,
          241,
          242,
          243,
          244,
          245,
          246,
          247,
          248,
          249,
          250,
          251,
          252,
          253,
          254,
          255,
          256,
          257,
          258,
          259,
          260,
          261,
          262,
          263,
          264,
          265,
          266,
          267,
          268,
          269,
          270,
          271,
          272,
          273,
          274,
          275,
          276,
          277,
          278,
          279,
          280,
          281,
          282,
          283,
          284,
          285,
          286,
          287,
          288,
          289,
          290,
          291,
          292,
          293,
          294,
          295,
          296,
          297,
          298,
          299,
          300,
          301,
          302,
          303,
          304,
          305,
          306,
          307,
          308,
          309,
          310,
          311,
          312,
          313,
          314,
          315,
          316,
          317,
          318,
          319,
          320,
          321,
          322,
          323,
          324,
          325,
          326,
          327,
          328,
          329,
          330,
          331,
          332,
          333,
          334,
          335,
          336,
          337,
          338,
          339,
          340,
          341,
          342,
          343,
          344,
          345,
          346,
          347,
          348,
          349,
          350,
          351,
          352,
          353,
          354,
          355,
          356,
          357,
          358,
          359,
          360,
          361,
          362,
          363,
          364,
          365,
          366,
          367,
          368,
          369,
          370,
          371,
          372,
          373,
          374,
          375,
          376,
          377,
          378,
          379,
          380,
          381,
          382,
          383,
          384,
          385,
          386,
          387,
          388,
          389,
          390,
          391,
          392,
          393,
          394,
          395,
          396,
          397,
          398
         ],
         "xaxis": "x",
         "y": [
          -0.04521013967114135,
          -0.9735838365593583,
          0.023477712301822162,
          -0.33678776270122235,
          0.28643326995482354,
          -0.5142709597498918,
          0.10716708109037931,
          -0.14853171974358137,
          0.21746918448343067,
          -0.73242673862479,
          0.24055508453102803,
          0.12427786791078255,
          -0.5578177394906358,
          0.3252085957036286,
          -0.4142370442585577,
          -0.0519046878736944,
          0.09213282124261823,
          -0.19292396146945734,
          -0.14907218462911231,
          0.03473953506389549,
          0.20227819151512705,
          -0.8068742154307955,
          0.1147898342640481,
          -0.058809530694976075,
          0.234479130760068,
          -0.37579664318989003,
          -0.07630582018919085,
          -0.052843024565966346,
          -0.24580881777463048,
          0.042481037702568614,
          -0.3292511589377547,
          0.2547127410142416,
          -0.3162236873685025,
          -0.11726909893524606,
          0.1154136623680202,
          -0.34157186749878576,
          -0.03500636071169794,
          -0.15383309408706936,
          0.07483956325896912,
          -0.17880934883055488,
          -0.1559325604463595,
          -0.07351579396989649,
          0.08570853763512787,
          -0.29413080700515337,
          -0.22636285826413882,
          0.12056421202814249,
          -0.35059843572095417,
          0.19954738459575339,
          -0.0397135723151365,
          -0.31391018459598286,
          -0.144889468320045,
          0.17586572220352537,
          -0.5028186095427429,
          0.12607532164068402,
          -0.10363730268078797,
          0.0216936337114646,
          -0.4462211771133866,
          0.012408968276716337,
          0.015634004329243112,
          0.10216189033996415,
          -0.46434266953539094,
          0.08590913663126543,
          -0.11959424356718529,
          -0.28358017998501595,
          0.23579482534478302,
          -0.2658936689321081,
          -0.1750960161102455,
          -0.17632654933495928,
          -0.06859313425255209,
          0.09723969903255636,
          -0.23899200115468489,
          -0.160943675883928,
          0.07962250590838948,
          -0.41789119948214193,
          0.11853130512568555,
          0.04333770985381591,
          -0.3111895365649957,
          -0.15686139281766032,
          -0.04103024836834379,
          0.0641135226041456,
          -0.37608725900575735,
          -0.1031247203331418,
          0.1930050875019731,
          -0.20462330083370261,
          -0.14541911843888045,
          -0.21631768991292688,
          0.020977897914733035,
          0.02839380007503678,
          -0.3486854579377763,
          -0.1482884748217117,
          0.052797784367200506,
          -0.14226644519074227,
          0.05885588129098096,
          -0.3245942679788243,
          -0.1465321434784954,
          -0.04895314915334836,
          -0.06890077280232276,
          -0.031109735397478744,
          -0.21121853593137985,
          0.03554444365833831,
          -0.3353382977020942,
          0.12070653309086765,
          -0.3052110181796195,
          0.010147166773194272,
          0.024455660654851386,
          -0.309498123959159,
          -0.20405353625793055,
          0.13384269594101283,
          -0.15454537543985225,
          -0.3804261730642935,
          0.19375768198742094,
          -0.204386530925305,
          -0.03844194456526395,
          -0.14168145179264968,
          -0.16725800247101574,
          0.041137440142762216,
          -0.3066530738066717,
          -0.13194254349694745,
          0.2213066014321754,
          -0.3410111531209168,
          -0.09140086848194073,
          -0.16130097076298,
          -0.09738839956465029,
          -0.014469165175043486,
          -0.09790456353645993,
          -0.3674174628187501,
          0.4146448706327561,
          -0.5020265612769208,
          -0.24291603751822777,
          0.38896806107047155,
          -0.5395062380026161,
          0.06119813663570994,
          -0.05342298591318695,
          -0.46520944315858515,
          0.372368429831738,
          -0.449852167018264,
          0.054316279854703,
          -0.1354752437943887,
          -0.01893663004321411,
          -0.19958621297874402,
          -0.20987233122733073,
          -0.028608942599845477,
          -0.056895134233258204,
          -0.23770908400567237,
          0.07999482185886109,
          -0.12241425193940358,
          -0.3198587521067964,
          -0.18699555838833248,
          0.3417871103568473,
          -0.6525504257284354,
          0.3070128971586428,
          -0.26225116505449364,
          -0.03620260632615668,
          -0.030748088075057467,
          -0.5061624292517024,
          0.05392220431812689,
          -0.016295939602088083,
          0.093666835789179,
          -0.6043937294884074,
          0.30446055627459145,
          -0.3352017457219745,
          0.05269932646481834,
          -0.2876247300903003,
          -0.04355045955887249,
          -0.08860391095066689,
          -0.14127946915428424,
          -0.13582946027221965,
          -0.04555286399161673,
          -0.21916946674781457,
          0.11285309685007405,
          -0.4233409755663331,
          0.23731071526088954,
          -0.5708723083041605,
          0.38741949959694466,
          -0.3900016963769133,
          -0.25932284903325353,
          0.11772003749914006,
          -0.154000025155284,
          0.013874962350854503,
          -0.21224658621602543,
          -0.3824625491855329,
          0.3204143358879037,
          -0.36309144257384673,
          -0.08763693758012892,
          -0.05079530716471936,
          -0.23594640051430815,
          0.0300346706499397,
          -0.16990336014262652,
          -0.30111822767358376,
          0.01005128207219741,
          -0.028821983919357308,
          -0.31555248104558586,
          0.17660823193480724,
          -0.013388424899574147,
          -0.5242453090654067,
          -0.03141473019621799,
          -0.11761185467204882,
          0.04557118691110418,
          -0.1357515477660911,
          -0.33962865244083673,
          -0.06127654385431924,
          0.09351898292794658,
          -0.1675140929518193,
          -0.30082415648766414,
          0.13675162973910915,
          -0.39901171933669843,
          0.06665974882093906,
          -0.2482436007989577,
          0.22130962354538042,
          -0.2468450428479514,
          -0.2773919658645525,
          -0.19766167244026178,
          0.16618652633937359,
          -0.3367015168402929,
          -0.23214505363969806,
          0.10834598466848888,
          -0.3309759762684621,
          0.11497759389246198,
          -0.21634433646315188,
          -0.1824401498576833,
          0.017772421742137112,
          -0.22863015201841108,
          -0.11136942700193231,
          -0.164364864923499,
          0.18548086014573073,
          -0.4167111956952567,
          -0.0035500458998569684,
          -0.16455987499446678,
          -0.0576172117091005,
          -0.26207786260690114,
          -0.13700725159941385,
          -0.034220967105937916,
          0.06686624903267102,
          -0.45769598912733045,
          0.27351815345710406,
          -0.6843164875828904,
          0.31566508092987533,
          -0.17023280507410732,
          -0.2519061175680406,
          -0.03506767149721668,
          -0.1478210306320591,
          -0.13800957356676236,
          0.056601104289683235,
          -0.23619072218068027,
          -0.11514567836528045,
          -0.49186566329021275,
          0.2687775473346221,
          -0.03937556367046113,
          -0.47127902879293515,
          0.2274246760914309,
          -0.3565600685727759,
          -0.15364941937764343,
          0.22058512859564416,
          -0.5960799615292842,
          0.2552516282264605,
          -0.42070011335786717,
          0.20907016124911593,
          -0.19635665780180034,
          -0.4059641298103429,
          0.2266807720946531,
          -0.6032969843281535,
          0.45093069962615573,
          -0.5768702419816236,
          0.24055912769824772,
          -0.29253469883502703,
          -0.3067050094712158,
          0.15599025155546542,
          -0.4229295344634352,
          0.15981277230650903,
          -0.200701822383337,
          -0.2989183847539607,
          0.12927492974182542,
          -0.15317081947506495,
          -0.3235625062666827,
          0.029910964112502825,
          -0.4197836193233684,
          0.1621799707040168,
          -0.06616140824974082,
          -0.1456471517922182,
          -0.2968803285676245,
          0.09260734075047594,
          -0.34792442212904007,
          0.07531725571277548,
          -0.16697332467538217,
          -0.47699037315771875,
          0.24165200102152085,
          -0.1876227293660122,
          -0.18905814039311508,
          -0.20046729177749967,
          -0.04624109121749598,
          -0.02151214651490818,
          -0.30297364965201723,
          0.16377393116414396,
          -0.5555420433167342,
          0.13799685863858713,
          -0.09118346678121725,
          -0.22105448963321805,
          -0.17301864161152025,
          -0.07275715934218852,
          -0.1696864949275323,
          -0.1482520115682746,
          0.18421012551618787,
          -0.6231870079807322,
          0.04312544221892267,
          0.09330466131734738,
          -0.361478572382282,
          0.1615577151897014,
          -0.47863905229667125,
          -0.13098775127105,
          0.1353798175399561,
          -0.2639236578326063,
          -0.2775744334844603,
          0.0864981645091234,
          -0.23341564630413814,
          -0.2468935210548011,
          0.09731291093953587,
          -0.2690029782272063,
          0.2275916223323975,
          -0.6290553943261443,
          0.01589563912381209,
          0.09837357573911731,
          -0.5562250839454919,
          0.22008922015010057,
          -0.3187288259863408,
          -0.0725621400931118,
          -0.007890081385539816,
          -0.6817409589358476,
          0.5122319803602409,
          -0.4579386030181922,
          -0.0078298119029796,
          -0.05197333232990786,
          -0.04746431067172807,
          -0.3156177357830643,
          -0.17762755137789554,
          -0.3694430751731943,
          0.33134738742529635,
          -0.3539959028635735,
          -0.22756588536407207,
          0.1011162967437258,
          -0.24438955260592365,
          -0.2118336772697944,
          -0.033142839613446995,
          -0.0852385707116241,
          -0.33798404996753106,
          0.0769010991397181,
          -0.1912191879541183,
          -0.2064548369148156,
          -0.12923397845781892,
          0.05131578198205489,
          -0.5770591531557443,
          0.19331777713972542,
          -0.20280381088292643,
          0.017835161231460006,
          -0.4239861757918675,
          -0.05093584580350807,
          0.08946590110878105,
          -0.12977672034816123,
          -0.4679459244196664,
          -0.16592217927615138,
          0.1303557197653049,
          -0.12329119133477207,
          -0.32206646067487554,
          0.022546537636912944,
          -0.33882850227490735,
          0.19323562340417766,
          -0.4176456635465229,
          -0.10243290344095612,
          0.07202381576468042,
          -0.5057577251598104,
          0.12475319849454536,
          -0.04000969110740016,
          -0.3841487800945629,
          0.036152184056845726,
          -0.15539946120560444,
          -0.36299580959035893,
          0.020957333116825794,
          0.014684890293608532,
          -0.5700310846293064,
          0.4354402910630597,
          -0.554916488011429,
          -0.1876632079134879,
          0.14981325670231627,
          -0.25661929369908876,
          -0.3306961720266486,
          0.16987292785796626,
          -0.17583287720208318,
          -0.4006182308825146,
          0.27142456386474123,
          -0.5621204322125095,
          -0.023838105019819977,
          -0.05489268035887562,
          -0.17157604402302695,
          -0.23711753323476614,
          0.05113798325390917,
          -0.4111463317805715,
          0.2014196542255604,
          -0.4066410357614245,
          -0.06343192823413801,
          -0.15807785693033338
         ],
         "yaxis": "y"
        }
       ],
       "layout": {
        "autosize": true,
        "legend": {
         "title": {
          "text": "variable"
         },
         "tracegroupgap": 0
        },
        "margin": {
         "t": 60
        },
        "template": {
         "data": {
          "bar": [
           {
            "error_x": {
             "color": "#2a3f5f"
            },
            "error_y": {
             "color": "#2a3f5f"
            },
            "marker": {
             "line": {
              "color": "#E5ECF6",
              "width": 0.5
             },
             "pattern": {
              "fillmode": "overlay",
              "size": 10,
              "solidity": 0.2
             }
            },
            "type": "bar"
           }
          ],
          "barpolar": [
           {
            "marker": {
             "line": {
              "color": "#E5ECF6",
              "width": 0.5
             },
             "pattern": {
              "fillmode": "overlay",
              "size": 10,
              "solidity": 0.2
             }
            },
            "type": "barpolar"
           }
          ],
          "carpet": [
           {
            "aaxis": {
             "endlinecolor": "#2a3f5f",
             "gridcolor": "white",
             "linecolor": "white",
             "minorgridcolor": "white",
             "startlinecolor": "#2a3f5f"
            },
            "baxis": {
             "endlinecolor": "#2a3f5f",
             "gridcolor": "white",
             "linecolor": "white",
             "minorgridcolor": "white",
             "startlinecolor": "#2a3f5f"
            },
            "type": "carpet"
           }
          ],
          "choropleth": [
           {
            "colorbar": {
             "outlinewidth": 0,
             "ticks": ""
            },
            "type": "choropleth"
           }
          ],
          "contour": [
           {
            "colorbar": {
             "outlinewidth": 0,
             "ticks": ""
            },
            "colorscale": [
             [
              0,
              "#0d0887"
             ],
             [
              0.1111111111111111,
              "#46039f"
             ],
             [
              0.2222222222222222,
              "#7201a8"
             ],
             [
              0.3333333333333333,
              "#9c179e"
             ],
             [
              0.4444444444444444,
              "#bd3786"
             ],
             [
              0.5555555555555556,
              "#d8576b"
             ],
             [
              0.6666666666666666,
              "#ed7953"
             ],
             [
              0.7777777777777778,
              "#fb9f3a"
             ],
             [
              0.8888888888888888,
              "#fdca26"
             ],
             [
              1,
              "#f0f921"
             ]
            ],
            "type": "contour"
           }
          ],
          "contourcarpet": [
           {
            "colorbar": {
             "outlinewidth": 0,
             "ticks": ""
            },
            "type": "contourcarpet"
           }
          ],
          "heatmap": [
           {
            "colorbar": {
             "outlinewidth": 0,
             "ticks": ""
            },
            "colorscale": [
             [
              0,
              "#0d0887"
             ],
             [
              0.1111111111111111,
              "#46039f"
             ],
             [
              0.2222222222222222,
              "#7201a8"
             ],
             [
              0.3333333333333333,
              "#9c179e"
             ],
             [
              0.4444444444444444,
              "#bd3786"
             ],
             [
              0.5555555555555556,
              "#d8576b"
             ],
             [
              0.6666666666666666,
              "#ed7953"
             ],
             [
              0.7777777777777778,
              "#fb9f3a"
             ],
             [
              0.8888888888888888,
              "#fdca26"
             ],
             [
              1,
              "#f0f921"
             ]
            ],
            "type": "heatmap"
           }
          ],
          "heatmapgl": [
           {
            "colorbar": {
             "outlinewidth": 0,
             "ticks": ""
            },
            "colorscale": [
             [
              0,
              "#0d0887"
             ],
             [
              0.1111111111111111,
              "#46039f"
             ],
             [
              0.2222222222222222,
              "#7201a8"
             ],
             [
              0.3333333333333333,
              "#9c179e"
             ],
             [
              0.4444444444444444,
              "#bd3786"
             ],
             [
              0.5555555555555556,
              "#d8576b"
             ],
             [
              0.6666666666666666,
              "#ed7953"
             ],
             [
              0.7777777777777778,
              "#fb9f3a"
             ],
             [
              0.8888888888888888,
              "#fdca26"
             ],
             [
              1,
              "#f0f921"
             ]
            ],
            "type": "heatmapgl"
           }
          ],
          "histogram": [
           {
            "marker": {
             "pattern": {
              "fillmode": "overlay",
              "size": 10,
              "solidity": 0.2
             }
            },
            "type": "histogram"
           }
          ],
          "histogram2d": [
           {
            "colorbar": {
             "outlinewidth": 0,
             "ticks": ""
            },
            "colorscale": [
             [
              0,
              "#0d0887"
             ],
             [
              0.1111111111111111,
              "#46039f"
             ],
             [
              0.2222222222222222,
              "#7201a8"
             ],
             [
              0.3333333333333333,
              "#9c179e"
             ],
             [
              0.4444444444444444,
              "#bd3786"
             ],
             [
              0.5555555555555556,
              "#d8576b"
             ],
             [
              0.6666666666666666,
              "#ed7953"
             ],
             [
              0.7777777777777778,
              "#fb9f3a"
             ],
             [
              0.8888888888888888,
              "#fdca26"
             ],
             [
              1,
              "#f0f921"
             ]
            ],
            "type": "histogram2d"
           }
          ],
          "histogram2dcontour": [
           {
            "colorbar": {
             "outlinewidth": 0,
             "ticks": ""
            },
            "colorscale": [
             [
              0,
              "#0d0887"
             ],
             [
              0.1111111111111111,
              "#46039f"
             ],
             [
              0.2222222222222222,
              "#7201a8"
             ],
             [
              0.3333333333333333,
              "#9c179e"
             ],
             [
              0.4444444444444444,
              "#bd3786"
             ],
             [
              0.5555555555555556,
              "#d8576b"
             ],
             [
              0.6666666666666666,
              "#ed7953"
             ],
             [
              0.7777777777777778,
              "#fb9f3a"
             ],
             [
              0.8888888888888888,
              "#fdca26"
             ],
             [
              1,
              "#f0f921"
             ]
            ],
            "type": "histogram2dcontour"
           }
          ],
          "mesh3d": [
           {
            "colorbar": {
             "outlinewidth": 0,
             "ticks": ""
            },
            "type": "mesh3d"
           }
          ],
          "parcoords": [
           {
            "line": {
             "colorbar": {
              "outlinewidth": 0,
              "ticks": ""
             }
            },
            "type": "parcoords"
           }
          ],
          "pie": [
           {
            "automargin": true,
            "type": "pie"
           }
          ],
          "scatter": [
           {
            "fillpattern": {
             "fillmode": "overlay",
             "size": 10,
             "solidity": 0.2
            },
            "type": "scatter"
           }
          ],
          "scatter3d": [
           {
            "line": {
             "colorbar": {
              "outlinewidth": 0,
              "ticks": ""
             }
            },
            "marker": {
             "colorbar": {
              "outlinewidth": 0,
              "ticks": ""
             }
            },
            "type": "scatter3d"
           }
          ],
          "scattercarpet": [
           {
            "marker": {
             "colorbar": {
              "outlinewidth": 0,
              "ticks": ""
             }
            },
            "type": "scattercarpet"
           }
          ],
          "scattergeo": [
           {
            "marker": {
             "colorbar": {
              "outlinewidth": 0,
              "ticks": ""
             }
            },
            "type": "scattergeo"
           }
          ],
          "scattergl": [
           {
            "marker": {
             "colorbar": {
              "outlinewidth": 0,
              "ticks": ""
             }
            },
            "type": "scattergl"
           }
          ],
          "scattermapbox": [
           {
            "marker": {
             "colorbar": {
              "outlinewidth": 0,
              "ticks": ""
             }
            },
            "type": "scattermapbox"
           }
          ],
          "scatterpolar": [
           {
            "marker": {
             "colorbar": {
              "outlinewidth": 0,
              "ticks": ""
             }
            },
            "type": "scatterpolar"
           }
          ],
          "scatterpolargl": [
           {
            "marker": {
             "colorbar": {
              "outlinewidth": 0,
              "ticks": ""
             }
            },
            "type": "scatterpolargl"
           }
          ],
          "scatterternary": [
           {
            "marker": {
             "colorbar": {
              "outlinewidth": 0,
              "ticks": ""
             }
            },
            "type": "scatterternary"
           }
          ],
          "surface": [
           {
            "colorbar": {
             "outlinewidth": 0,
             "ticks": ""
            },
            "colorscale": [
             [
              0,
              "#0d0887"
             ],
             [
              0.1111111111111111,
              "#46039f"
             ],
             [
              0.2222222222222222,
              "#7201a8"
             ],
             [
              0.3333333333333333,
              "#9c179e"
             ],
             [
              0.4444444444444444,
              "#bd3786"
             ],
             [
              0.5555555555555556,
              "#d8576b"
             ],
             [
              0.6666666666666666,
              "#ed7953"
             ],
             [
              0.7777777777777778,
              "#fb9f3a"
             ],
             [
              0.8888888888888888,
              "#fdca26"
             ],
             [
              1,
              "#f0f921"
             ]
            ],
            "type": "surface"
           }
          ],
          "table": [
           {
            "cells": {
             "fill": {
              "color": "#EBF0F8"
             },
             "line": {
              "color": "white"
             }
            },
            "header": {
             "fill": {
              "color": "#C8D4E3"
             },
             "line": {
              "color": "white"
             }
            },
            "type": "table"
           }
          ]
         },
         "layout": {
          "annotationdefaults": {
           "arrowcolor": "#2a3f5f",
           "arrowhead": 0,
           "arrowwidth": 1
          },
          "autotypenumbers": "strict",
          "coloraxis": {
           "colorbar": {
            "outlinewidth": 0,
            "ticks": ""
           }
          },
          "colorscale": {
           "diverging": [
            [
             0,
             "#8e0152"
            ],
            [
             0.1,
             "#c51b7d"
            ],
            [
             0.2,
             "#de77ae"
            ],
            [
             0.3,
             "#f1b6da"
            ],
            [
             0.4,
             "#fde0ef"
            ],
            [
             0.5,
             "#f7f7f7"
            ],
            [
             0.6,
             "#e6f5d0"
            ],
            [
             0.7,
             "#b8e186"
            ],
            [
             0.8,
             "#7fbc41"
            ],
            [
             0.9,
             "#4d9221"
            ],
            [
             1,
             "#276419"
            ]
           ],
           "sequential": [
            [
             0,
             "#0d0887"
            ],
            [
             0.1111111111111111,
             "#46039f"
            ],
            [
             0.2222222222222222,
             "#7201a8"
            ],
            [
             0.3333333333333333,
             "#9c179e"
            ],
            [
             0.4444444444444444,
             "#bd3786"
            ],
            [
             0.5555555555555556,
             "#d8576b"
            ],
            [
             0.6666666666666666,
             "#ed7953"
            ],
            [
             0.7777777777777778,
             "#fb9f3a"
            ],
            [
             0.8888888888888888,
             "#fdca26"
            ],
            [
             1,
             "#f0f921"
            ]
           ],
           "sequentialminus": [
            [
             0,
             "#0d0887"
            ],
            [
             0.1111111111111111,
             "#46039f"
            ],
            [
             0.2222222222222222,
             "#7201a8"
            ],
            [
             0.3333333333333333,
             "#9c179e"
            ],
            [
             0.4444444444444444,
             "#bd3786"
            ],
            [
             0.5555555555555556,
             "#d8576b"
            ],
            [
             0.6666666666666666,
             "#ed7953"
            ],
            [
             0.7777777777777778,
             "#fb9f3a"
            ],
            [
             0.8888888888888888,
             "#fdca26"
            ],
            [
             1,
             "#f0f921"
            ]
           ]
          },
          "colorway": [
           "#636efa",
           "#EF553B",
           "#00cc96",
           "#ab63fa",
           "#FFA15A",
           "#19d3f3",
           "#FF6692",
           "#B6E880",
           "#FF97FF",
           "#FECB52"
          ],
          "font": {
           "color": "#2a3f5f"
          },
          "geo": {
           "bgcolor": "white",
           "lakecolor": "white",
           "landcolor": "#E5ECF6",
           "showlakes": true,
           "showland": true,
           "subunitcolor": "white"
          },
          "hoverlabel": {
           "align": "left"
          },
          "hovermode": "closest",
          "mapbox": {
           "style": "light"
          },
          "paper_bgcolor": "white",
          "plot_bgcolor": "#E5ECF6",
          "polar": {
           "angularaxis": {
            "gridcolor": "white",
            "linecolor": "white",
            "ticks": ""
           },
           "bgcolor": "#E5ECF6",
           "radialaxis": {
            "gridcolor": "white",
            "linecolor": "white",
            "ticks": ""
           }
          },
          "scene": {
           "xaxis": {
            "backgroundcolor": "#E5ECF6",
            "gridcolor": "white",
            "gridwidth": 2,
            "linecolor": "white",
            "showbackground": true,
            "ticks": "",
            "zerolinecolor": "white"
           },
           "yaxis": {
            "backgroundcolor": "#E5ECF6",
            "gridcolor": "white",
            "gridwidth": 2,
            "linecolor": "white",
            "showbackground": true,
            "ticks": "",
            "zerolinecolor": "white"
           },
           "zaxis": {
            "backgroundcolor": "#E5ECF6",
            "gridcolor": "white",
            "gridwidth": 2,
            "linecolor": "white",
            "showbackground": true,
            "ticks": "",
            "zerolinecolor": "white"
           }
          },
          "shapedefaults": {
           "line": {
            "color": "#2a3f5f"
           }
          },
          "ternary": {
           "aaxis": {
            "gridcolor": "white",
            "linecolor": "white",
            "ticks": ""
           },
           "baxis": {
            "gridcolor": "white",
            "linecolor": "white",
            "ticks": ""
           },
           "bgcolor": "#E5ECF6",
           "caxis": {
            "gridcolor": "white",
            "linecolor": "white",
            "ticks": ""
           }
          },
          "title": {
           "x": 0.05
          },
          "xaxis": {
           "automargin": true,
           "gridcolor": "white",
           "linecolor": "white",
           "ticks": "",
           "title": {
            "standoff": 15
           },
           "zerolinecolor": "white",
           "zerolinewidth": 2
          },
          "yaxis": {
           "automargin": true,
           "gridcolor": "white",
           "linecolor": "white",
           "ticks": "",
           "title": {
            "standoff": 15
           },
           "zerolinecolor": "white",
           "zerolinewidth": 2
          }
         }
        },
        "xaxis": {
         "anchor": "y",
         "autorange": true,
         "domain": [
          0,
          1
         ],
         "range": [
          0,
          398
         ],
         "title": {
          "text": "index"
         },
         "type": "linear"
        },
        "yaxis": {
         "anchor": "x",
         "autorange": true,
         "domain": [
          0,
          1
         ],
         "range": [
          -3.66705836159083,
          2.0478482550349733
         ],
         "title": {
          "text": "value"
         },
         "type": "linear"
        }
       }
      },
      "image/png": "[encoded data removed]",
      "text/html": [
       "<div>                            <div id=\"61264b82-f4bd-4ef5-9c98-d82f7bebbd15\" class=\"plotly-graph-div\" style=\"height:525px; width:100%;\"></div>            <script type=\"text/javascript\">                require([\"plotly\"], function(Plotly) {                    window.PLOTLYENV=window.PLOTLYENV || {};                                    if (document.getElementById(\"61264b82-f4bd-4ef5-9c98-d82f7bebbd15\")) {                    Plotly.newPlot(                        \"61264b82-f4bd-4ef5-9c98-d82f7bebbd15\",                        [{\"hovertemplate\":\"variable=err0<br>index=%{x}<br>value=%{y}<extra></extra>\",\"legendgroup\":\"err0\",\"line\":{\"color\":\"#636efa\",\"dash\":\"solid\"},\"marker\":{\"symbol\":\"circle\"},\"mode\":\"lines\",\"name\":\"err0\",\"showlegend\":true,\"x\":[0,1,2,3,4,5,6,7,8,9,10,11,12,13,14,15,16,17,18,19,20,21,22,23,24,25,26,27,28,29,30,31,32,33,34,35,36,37,38,39,40,41,42,43,44,45,46,47,48,49,50,51,52,53,54,55,56,57,58,59,60,61,62,63,64,65,66,67,68,69,70,71,72,73,74,75,76,77,78,79,80,81,82,83,84,85,86,87,88,89,90,91,92,93,94,95,96,97,98,99,100,101,102,103,104,105,106,107,108,109,110,111,112,113,114,115,116,117,118,119,120,121,122,123,124,125,126,127,128,129,130,131,132,133,134,135,136,137,138,139,140,141,142,143,144,145,146,147,148,149,150,151,152,153,154,155,156,157,158,159,160,161,162,163,164,165,166,167,168,169,170,171,172,173,174,175,176,177,178,179,180,181,182,183,184,185,186,187,188,189,190,191,192,193,194,195,196,197,198,199,200,201,202,203,204,205,206,207,208,209,210,211,212,213,214,215,216,217,218,219,220,221,222,223,224,225,226,227,228,229,230,231,232,233,234,235,236,237,238,239,240,241,242,243,244,245,246,247,248,249,250,251,252,253,254,255,256,257,258,259,260,261,262,263,264,265,266,267,268,269,270,271,272,273,274,275,276,277,278,279,280,281,282,283,284,285,286,287,288,289,290,291,292,293,294,295,296,297,298,299,300,301,302,303,304,305,306,307,308,309,310,311,312,313,314,315,316,317,318,319,320,321,322,323,324,325,326,327,328,329,330,331,332,333,334,335,336,337,338,339,340,341,342,343,344,345,346,347,348,349,350,351,352,353,354,355,356,357,358,359,360,361,362,363,364,365,366,367,368,369,370,371,372,373,374,375,376,377,378,379,380,381,382,383,384,385,386,387,388,389,390,391,392,393,394,395,396,397,398],\"xaxis\":\"x\",\"y\":[-0.05528400895329715,-3.38131303075954,0.05565636595981349,0.6927631556588967,0.45061627062090004,1.4410845209335612,1.0018138776229861,0.9741693601191423,1.4175396433176752,0.5028029970572117,0.0955233890516829,0.37181702897417157,-0.8857631860490294,-0.5059114714992319,-1.1898896932151306,-1.4151728140196944,-0.8418449402677819,-1.0488197609403107,-0.6864624427325802,-0.6522830683607457,0.23414491161020745,0.9904374458348197,0.2102004264893953,1.2687925303135916,1.0432727774780144,1.2689378669664375,1.1285645715695947,0.7659371938469852,-0.03518018493206698,0.08172237924864145,-0.3030498919121687,-1.1940620051506414,-0.5876496645434095,-1.7006623767878573,-0.6453968138121491,-1.469903612372375,-0.5964286579925044,0.08035198580362435,-0.25692859584038086,0.43546904796946784,0.9647493707719192,0.9534541631546087,1.2478700635239637,1.0962760174817605,1.286608220223243,0.34168669385993317,0.4490898267065315,0.11375883814334742,-0.7309623754619246,-0.7286546838923798,-1.2029344315284067,-1.1013800850573148,-1.2902348900541982,-0.7664021806500987,-0.719756193822454,-0.40174659163687343,0.18860318177915136,0.302574690566189,0.9654121956325437,0.9301657567545973,1.4685677815339915,0.8377314280127619,1.133507594486951,0.6951791283482339,0.306521451238412,-0.11199240042233871,-0.555461604911434,-0.47376405034785485,-1.3265557391827745,-1.3010867937221047,-1.001149975872881,-0.8994482649659021,-0.9669738622766026,-0.09099376806567028,0.084178693868866,0.48811846319309815,0.5864133211973321,1.250773358533694,1.1527354699592305,1.1457119003669556,1.0330317631373744,0.8167064065562202,-0.003463644714122527,0.17449473859539477,-0.7098922755138766,-0.42600282837233117,-1.5315748910500666,-0.9139292837425153,-1.2500371260546963,-0.9137643834969364,-0.8056514206850213,-0.3057803308764475,0.3042415106234495,0.3481358516383768,0.5325293677912857,1.3885368804563232,1.2463536407732025,0.9955426478087341,1.0475858248613212,0.569097792718166,0.28054160037949316,0.3482763782885341,-0.6713325873496245,-0.9948838781554716,-1.1924921983503918,-0.8626737310706325,-1.0850348554141283,-1.4711513796065563,-0.4935915086596672,-0.09540764323463735,-0.00014269972929348285,0.3293913433616673,0.94866768325336,1.0671210836544756,1.066671337899388,1.2207593925171567,0.8530336692787488,1.0911449153958817,0.03232636396477906,0.10136292585820161,-0.5608446329235033,-0.9942048750338639,-0.9551023960202425,-1.220183445658316,-0.987541721826874,-1.2023278517164475,-0.46728358232444933,-0.6605542064769772,0.4389183841819717,0.3237278879009846,0.6875664790290852,1.1705839249571568,1.1282522015581193,1.6307924245815322,0.3470311917235902,1.1207893032573455,-0.008122413223383251,0.07457590395917801,-0.5225773317692042,-0.7762192949423969,-0.8890656858730352,-1.4022133966477508,-1.1787973930919433,-1.0878574700997845,-0.3289741360174354,-0.6584217681158657,0.13957867843584015,0.7700050451879701,0.4748882176614284,1.2671810514638207,0.9187091767602968,1.4900878672042683,0.8758547908856773,0.5943917731948609,0.41083325170073426,0.11699623284365135,-0.7257571813606827,-0.8541671410039875,-1.0950503482975247,-0.9676935298424372,-1.389987091547984,-0.9163258289871825,-0.5664771602921866,-0.59835335124325,0.3662482612828004,0.3881637028428475,0.9827848807618107,0.652318950538719,1.6927344304870946,0.7877554542076197,1.3061404463132642,0.31757276803291395,0.4903216888148556,-0.3332555133226389,-0.23900858948314863,-0.6615265512479436,-1.2639737235435966,-1.1769321030989204,-1.129234489638205,-0.8024117585346686,-1.080401837236175,-0.04083696297280115,-0.034545640420240886,0.40069582878280485,1.1001421667058153,0.7425147281619608,1.6754956005068937,0.7897820408042291,0.9768611449475344,0.736452432984111,0.43230803558503306,-0.26873862938261617,-0.21917247470695145,-1.2521316267970732,-0.7399845160861638,-1.1468901636303404,-1.3918521967637663,-0.6976724080325214,-0.8430647445055546,-0.33086877704492634,-0.06838435124789832,0.6916242220997333,0.8214853176554993,0.7873455791087167,1.6014556270997211,0.8629865001637507,1.1684479330370618,0.7130101361677182,0.007202452922469682,0.24924558720904066,-0.5126950451173613,-1.060413846349828,-0.9005903617773239,-1.208149724380423,-1.1829009321431494,-0.8529025744882288,-0.8285769337842347,-0.27212127794890595,-0.016598725542060322,0.5135046599639441,0.893650397146093,1.127388703748755,0.8871043877204983,1.511536706687294,0.8675662005191169,0.7138279414967562,0.299263679731713,-0.18162143266577235,-0.344029553455071,-1.0399222705431157,-0.7607536219299664,-1.382642915995893,-0.8123559187467393,-1.263449013204657,-0.8692302977460544,-0.2603306184333558,0.3708073001052483,0.016476275142634833,0.9439583508722507,1.4056081758507446,1.0792999488775692,0.940180328744809,1.0850693516854446,0.7044470670638399,0.575626767299898,-0.2598763678553233,-0.641284282045838,-0.7789547810998165,-0.9944323260317987,-1.177940725039047,-1.1660299459141514,-0.8953712805720766,-0.7062874309633826,-0.5802747430845328,0.3106259904226709,0.38128694931905827,0.5300391910168987,1.762102924203683,0.7135226964665229,1.49589067491645,0.749164588246177,0.7399669517595595,0.308189969573021,-0.2538764637600943,-0.06847841288804268,-1.3648934128208587,-0.6389636486789172,-1.286219086644044,-1.1744491497959215,-1.083759645430626,-0.7688782497106841,0.03812506711459873,-0.3246554971393758,0.7089854755599188,0.7723314817024285,1.0942602459315118,1.1795508933486865,1.1172357381739904,1.1085136060994256,0.6295297497057546,0.30071051106982605,-0.014781967294583254,-0.6549892044396195,-0.5984516348998294,-1.147866839842587,-1.2020437446264491,-1.285516716395123,-0.9765148882018564,-0.6376648072420521,-0.18003412880599967,-0.2120946089485063,0.6723033029264052,0.8147130768858464,1.1113273128298644,1.3044310169834628,1.0155901658136743,1.0946108231336948,0.561393334772663,0.06618977789689229,0.5252581189338841,-1.0913495607110235,-0.28759541112198406,-1.5581324178693752,-0.7492094904720954,-1.3874856728052265,-0.9724946427038281,-0.8606696800990425,0.06755375540223296,-0.17340386831527344,0.4102382164844105,1.1215001202999417,0.804573400966289,1.2477303975860128,1.1134640083908423,1.0151833333261435,0.864470100130662,0.0943333370794095,-0.0018618441334004032,-0.2954458520766874,-1.2910110821323375,-0.8081730126067157,-0.9651976385501442,-1.327977070040741,-1.1809032831153368,-0.3512052295650685,-0.37966570533156396,-0.3270488979090942,0.8222028365783558,0.7240213445188566,1.0261788440832937,1.5312089985034536,0.6481795004219757,1.3745816037153151,0.5538442552341348,0.35166741910819876,-0.22184874340284644,-0.23561602790316272,-1.0975096647870153,-0.7547552264717261,-1.191407022112756,-1.2874434909316452,-1.2298309814908719,-0.3921850431376402,-0.5222498468981613,0.27618798740213446,0.5995383689326044,0.3908586577755333,1.3311519467464965,1.221073161216113,1.0455714371073617,1.282488245134083,0.13254836296949765,0.6872181994101312,0.12276271994930621,-0.9283103488679956,-0.5663840253863306,-1.1408905356129768,-1.3326525609085316,-1.0706150503629468,-0.7375124467516527,-1.0117491952917834,-0.2703749459389142,0.3494227733804891,0.11895910774624419,1.114663511132779,0.8609889087340132,1.3362610675432336,1.2758175156067324,0.7056112823668212,0.8130447454997187,0.27164663639689035,0.21760501329899906,-1.0177915818008323,-0.4768236101195189,-1.2021865087490031,-1.0503933347095114,-1.316930677619685,-0.6913665521141326,-1.060891670525971,-0.3012248000429434,0.2580197140216285,0.6563048646762137,0.5948424239723522,1.0837165903248245,1.0709941629113793,1.196583323343683,1.2056585773167088,0.46887941008961626,0.48388352080300745,-0.10594980369149454,-0.6295844056404061,-0.7208242275595644,-1.1284748544234748,-1.1957894335447072,-0.9373271859345129,-1.1421212996899324,-0.6871938623582802,-0.4934777203862293,0.3089575068402288],\"yaxis\":\"y\",\"type\":\"scattergl\"},{\"hovertemplate\":\"variable=err1<br>index=%{x}<br>value=%{y}<extra></extra>\",\"legendgroup\":\"err1\",\"line\":{\"color\":\"#EF553B\",\"dash\":\"solid\"},\"marker\":{\"symbol\":\"circle\"},\"mode\":\"lines\",\"name\":\"err1\",\"showlegend\":true,\"x\":[0,1,2,3,4,5,6,7,8,9,10,11,12,13,14,15,16,17,18,19,20,21,22,23,24,25,26,27,28,29,30,31,32,33,34,35,36,37,38,39,40,41,42,43,44,45,46,47,48,49,50,51,52,53,54,55,56,57,58,59,60,61,62,63,64,65,66,67,68,69,70,71,72,73,74,75,76,77,78,79,80,81,82,83,84,85,86,87,88,89,90,91,92,93,94,95,96,97,98,99,100,101,102,103,104,105,106,107,108,109,110,111,112,113,114,115,116,117,118,119,120,121,122,123,124,125,126,127,128,129,130,131,132,133,134,135,136,137,138,139,140,141,142,143,144,145,146,147,148,149,150,151,152,153,154,155,156,157,158,159,160,161,162,163,164,165,166,167,168,169,170,171,172,173,174,175,176,177,178,179,180,181,182,183,184,185,186,187,188,189,190,191,192,193,194,195,196,197,198,199,200,201,202,203,204,205,206,207,208,209,210,211,212,213,214,215,216,217,218,219,220,221,222,223,224,225,226,227,228,229,230,231,232,233,234,235,236,237,238,239,240,241,242,243,244,245,246,247,248,249,250,251,252,253,254,255,256,257,258,259,260,261,262,263,264,265,266,267,268,269,270,271,272,273,274,275,276,277,278,279,280,281,282,283,284,285,286,287,288,289,290,291,292,293,294,295,296,297,298,299,300,301,302,303,304,305,306,307,308,309,310,311,312,313,314,315,316,317,318,319,320,321,322,323,324,325,326,327,328,329,330,331,332,333,334,335,336,337,338,339,340,341,342,343,344,345,346,347,348,349,350,351,352,353,354,355,356,357,358,359,360,361,362,363,364,365,366,367,368,369,370,371,372,373,374,375,376,377,378,379,380,381,382,383,384,385,386,387,388,389,390,391,392,393,394,395,396,397,398],\"xaxis\":\"x\",\"y\":[0.05596480107374779,-0.14039200276005673,0.024498613918351453,0.029151942137257095,0.07761413825244132,0.04290613692262276,-0.027127368271054567,-0.04450115102449677,-0.3529357570727963,0.7079723750749229,-0.40248369985969124,0.041969046831627416,0.05272107914912691,-0.17841636551730236,-0.034522182657779746,0.21382811908632268,-0.03216705153286671,0.04450593219310537,-0.05394961840661844,-0.12680179265888655,0.20103831123994714,-0.2525133034886851,0.31603144808423184,-0.303465523199821,0.19732035780013918,-0.1302534585807067,0.08887112626531074,0.020511981619397518,0.07510311545282637,-0.2698788739741377,0.05208535948497103,0.21788190495521373,-0.12690476275910223,-0.01980955289957989,0.09917326502554152,-0.3219997423550536,0.5006000261276815,-0.20852057088111592,-0.15706438438684275,0.1217939994703251,0.19081257902862586,-0.3556874528640742,0.26882696155218033,-0.2884666854844383,0.4760822783462484,-0.3970877214398666,-0.05400540652905664,0.1902121497238427,0.005689071935462531,-0.0555103646270467,0.05584426581046302,0.035578398109409055,-0.05250656785273992,-0.09912100610334948,0.05657641839207235,0.0956147454059812,-0.1024450366763689,-0.038185233333757077,0.006034141451328662,0.18769611705437117,-0.01761231213797071,-0.19215763318907148,0.0002089222395928042,0.1450930076524119,-0.19435376548545408,0.35363807851225304,-0.27244894892527755,0.01168332621397238,0.017133403927441622,0.0012830975056160182,0.17220630407253812,-0.11674326659132403,-0.2624440134317904,0.420973317716109,-0.24168375634254097,-0.07306342464926659,0.17019688004252184,-0.03742309026647949,-0.0404374795945436,0.10411819395211683,-0.05750855700522939,0.046585589648035886,-0.18956819101936057,0.10565861951323627,0.16891396181599003,-0.2306595900927655,0.0024958105539041597,0.09493209207191368,0.12943441157939356,-0.2742410728619813,-0.010588517104048317,0.1137902144135085,0.17512976226016888,-0.1489977489808225,-0.040306944281425894,0.24477917460781348,-0.42246437786123225,0.3426207478871786,-0.03729919441428327,-0.38216925820148095,0.29576312014439665,0.23369632714416153,-0.3496352081016806,0.11023179864893365,-0.022863517719262594,0.010876099496447786,0.36157792806603156,-0.49105725456667326,-0.03004156447947602,0.2326959381010139,0.08652478375158829,-0.2586796876422669,0.21774743625915613,-0.06180096296243888,-0.0850257323693106,0.004968657694298591,0.07346615883404498,-0.09380578607003255,0.005481129023872766,-0.012788444901882828,0.18559492105767272,-0.0325484525384374,-0.23599289648608224,0.20214200679076694,0.017340117639476536,-0.10589218772831302,0.040947994244288494,0.16204113548738505,-0.3789644411496409,0.05463738018520059,0.2577057275989293,-0.03491451802927363,-0.05055639306540065,-0.040843214697623566,0.10143384060871219,-0.15954183628916954,-0.048570493199740244,0.4307702476044679,-0.551121657053501,0.43556629135111413,-0.3686731258982735,0.2207764429073043,0.09909574461403263,-0.12773300495121262,0.02346087880953593,-0.13170527092104548,0.3391453143857923,-0.418100934702903,0.0923937678185747,0.159577041362986,0.04948241137180928,-0.13791956630622865,-0.06386804962097084,0.24979217363933043,-0.1872920239738785,-0.09534399333748556,0.003457348657258913,0.34606908788205554,-0.3547732820969206,0.23054180159125248,-0.18199492515959964,0.04366935385736349,0.03286644629316018,0.13769779373299026,-0.23050442174239255,-0.06485490299842975,0.3502285580183471,-0.24080247861890283,-0.026331620786320023,0.2066927245405892,-0.2670969647424276,0.310871470484839,-0.47697497878966455,0.4368884337901011,-0.15200998927581735,-0.005838060465852786,0.23009592339357748,-0.21616287967020062,-0.09601478656484676,0.09132217916921527,0.009588484177834734,0.06941191868672626,0.02266693801849695,-0.136506252667502,-0.2148700314356703,0.4649924500246777,-0.09600934733298708,-0.24244957375117443,0.09603893023776393,-0.003876845378995755,0.039992955379424294,0.04147772985249865,0.012965891931563014,0.07854915152523852,-0.28076759841407795,0.17242563675914982,-0.08228628863853962,0.1288754436299573,-0.17282412726384477,0.2078201779113037,-0.3263723588255446,0.27430394123823887,0.11530873643018921,-0.24778690583789595,0.15438713559324832,-0.025628590131164586,-0.2301781652173762,0.22237977237862339,0.08289419161793447,-0.12571899522134283,0.07739964001160116,-0.16283145875335725,0.02925263598617311,0.19456427122082967,-0.3428549975586037,0.37447511459688404,-0.2580759629023301,-0.019543261062007156,0.07007963240266371,0.21261371377410518,-0.23159270978890065,0.16257277555870975,-0.2165211222449698,0.17295260192487827,-0.05003562722459107,-0.025516871895795004,0.0018287912055432983,0.07624010244737038,-0.07815554118072414,0.035671283370734136,0.0008060022719616478,-0.12089301181534509,0.1841840212141879,-0.24559449902895972,0.3511028022524133,-0.2484351981948597,-0.12026402482405225,0.31177920936274195,-0.1258378972077201,0.09435366424098575,-0.11937066912535399,-0.010532917228640117,0.06340026476185978,-0.06329499436057802,0.07225496564221505,-0.13390619355668892,0.19668634119709275,-0.07265636992071332,0.013241002130524648,-0.2510198935363729,0.3394889108106504,-0.2096047136337369,0.1931307637231191,-0.09998925786549034,-0.007413415131861972,-0.1394478142246353,0.042111194066493926,0.17673942167661574,-0.12128410712986606,0.0004650591622703676,-0.030726419945412198,0.3482248144700547,-0.5036126009841597,0.3848536412783603,-0.24174410827189183,-0.10475897512061522,0.2487815061625967,-0.11466194676255656,0.1421854611346613,-0.18072932023587215,0.22661301686734084,-0.39288823932816513,0.3997045498439089,0.013364792374925327,-0.3009810557615199,0.22802669472201698,-0.21068278468652457,0.20896702094628247,-0.24533362272412518,0.25303045314945366,-0.17870275264204438,0.12100046795373434,-0.08725567010925148,-0.056307534526951225,0.24338484831513507,0.04345222232432158,-0.46359051141528435,0.29790234839382174,-0.10279323787479919,0.2326212395377436,-0.26949988554719745,0.1318132511147725,-0.11843614037196998,0.30230441218433146,-0.35043569863888113,0.2718957179576821,-0.11403656613210489,-0.04812514529082742,0.11003595580775155,-0.11406358364001115,0.09411670535243188,-0.14824978530163113,0.1988597652672493,-0.11865906338244935,0.1251597575302624,-0.11141091368857425,-0.03923968832055674,0.17089437458804008,-0.08883420834796912,-0.04751349023661225,-0.2538266213470929,0.4207836749840981,-0.14686364212389888,0.03485599391782397,-0.006121409904673331,-0.19625734838934356,0.07304885504929087,0.412732299699416,-0.5991055032853589,0.3013864720847483,0.16095836159918078,-0.2933334210308842,0.012288762531514327,0.05686658027196993,0.024679609350772624,0.06109036069985535,0.042881882343314706,-0.06633057461988318,0.032083641825951484,-0.09671800623251,0.0061737985337436616,0.03640506089554645,0.11059935411873306,-0.2985230100380228,0.283762342247179,0.051195761128600054,-0.3831531194433603,0.30564475630151583,0.022999538901034774,-0.15493908887458985,0.10587057863902039,-0.10533815031156912,-0.09102062029961695,0.43879140924803595,-0.5752060471427113,0.2502591506249021,0.26794613835526904,-0.43181827956778696,0.17854460083725537,0.20855628836646167,-0.41726740354852565,0.38945508152321334,-0.14248759463636987,-0.2377042947886591,0.4873643021160913,-0.33728667262777906,-0.04337362206740343,0.21987369820902175,-0.0961071155829028,0.010508510751114222,0.02049349335982252,-0.1472665139027101,0.05474163450068856,-0.015748862449484397,0.026950544291622913,0.15949589421237384,-0.03716790272745676,-0.32042093227185664,0.3143716822853537,0.04387797382222054,-0.09662641577020498,-0.08461313555490262,-0.030864326426849345,0.1713008173371275,-0.07842626221062747,0.06273393095791019,0.09074533000856815,-0.3099049722133471,0.16662608115276833,0.018892293481417355,-0.035340172638160236,-0.03598681181460758,0.09165710608170669,0.006736381471775549,0.04212773781759835,-0.21030724987895155,0.00534265808656844,0.01176166651730351,0.24369391537550966,-0.3079630358938227,0.1292525613921658,0.286642904524553,-0.30448129325847945,0.13596846917892805,-0.3491070167442986,0.4552974964693518,-0.3223290858945163,0.2789085865385249,-0.26732368546914714],\"yaxis\":\"y\",\"type\":\"scattergl\"},{\"hovertemplate\":\"variable=err2<br>index=%{x}<br>value=%{y}<extra></extra>\",\"legendgroup\":\"err2\",\"line\":{\"color\":\"#00cc96\",\"dash\":\"solid\"},\"marker\":{\"symbol\":\"circle\"},\"mode\":\"lines\",\"name\":\"err2\",\"showlegend\":true,\"x\":[0,1,2,3,4,5,6,7,8,9,10,11,12,13,14,15,16,17,18,19,20,21,22,23,24,25,26,27,28,29,30,31,32,33,34,35,36,37,38,39,40,41,42,43,44,45,46,47,48,49,50,51,52,53,54,55,56,57,58,59,60,61,62,63,64,65,66,67,68,69,70,71,72,73,74,75,76,77,78,79,80,81,82,83,84,85,86,87,88,89,90,91,92,93,94,95,96,97,98,99,100,101,102,103,104,105,106,107,108,109,110,111,112,113,114,115,116,117,118,119,120,121,122,123,124,125,126,127,128,129,130,131,132,133,134,135,136,137,138,139,140,141,142,143,144,145,146,147,148,149,150,151,152,153,154,155,156,157,158,159,160,161,162,163,164,165,166,167,168,169,170,171,172,173,174,175,176,177,178,179,180,181,182,183,184,185,186,187,188,189,190,191,192,193,194,195,196,197,198,199,200,201,202,203,204,205,206,207,208,209,210,211,212,213,214,215,216,217,218,219,220,221,222,223,224,225,226,227,228,229,230,231,232,233,234,235,236,237,238,239,240,241,242,243,244,245,246,247,248,249,250,251,252,253,254,255,256,257,258,259,260,261,262,263,264,265,266,267,268,269,270,271,272,273,274,275,276,277,278,279,280,281,282,283,284,285,286,287,288,289,290,291,292,293,294,295,296,297,298,299,300,301,302,303,304,305,306,307,308,309,310,311,312,313,314,315,316,317,318,319,320,321,322,323,324,325,326,327,328,329,330,331,332,333,334,335,336,337,338,339,340,341,342,343,344,345,346,347,348,349,350,351,352,353,354,355,356,357,358,359,360,361,362,363,364,365,366,367,368,369,370,371,372,373,374,375,376,377,378,379,380,381,382,383,384,385,386,387,388,389,390,391,392,393,394,395,396,397,398],\"xaxis\":\"x\",\"y\":[-0.04521013967114135,-0.9735838365593583,0.023477712301822162,-0.33678776270122235,0.28643326995482354,-0.5142709597498918,0.10716708109037931,-0.14853171974358137,0.21746918448343067,-0.73242673862479,0.24055508453102803,0.12427786791078255,-0.5578177394906358,0.3252085957036286,-0.4142370442585577,-0.0519046878736944,0.09213282124261823,-0.19292396146945734,-0.14907218462911231,0.03473953506389549,0.20227819151512705,-0.8068742154307955,0.1147898342640481,-0.058809530694976075,0.234479130760068,-0.37579664318989003,-0.07630582018919085,-0.052843024565966346,-0.24580881777463048,0.042481037702568614,-0.3292511589377547,0.2547127410142416,-0.3162236873685025,-0.11726909893524606,0.1154136623680202,-0.34157186749878576,-0.03500636071169794,-0.15383309408706936,0.07483956325896912,-0.17880934883055488,-0.1559325604463595,-0.07351579396989649,0.08570853763512787,-0.29413080700515337,-0.22636285826413882,0.12056421202814249,-0.35059843572095417,0.19954738459575339,-0.0397135723151365,-0.31391018459598286,-0.144889468320045,0.17586572220352537,-0.5028186095427429,0.12607532164068402,-0.10363730268078797,0.0216936337114646,-0.4462211771133866,0.012408968276716337,0.015634004329243112,0.10216189033996415,-0.46434266953539094,0.08590913663126543,-0.11959424356718529,-0.28358017998501595,0.23579482534478302,-0.2658936689321081,-0.1750960161102455,-0.17632654933495928,-0.06859313425255209,0.09723969903255636,-0.23899200115468489,-0.160943675883928,0.07962250590838948,-0.41789119948214193,0.11853130512568555,0.04333770985381591,-0.3111895365649957,-0.15686139281766032,-0.04103024836834379,0.0641135226041456,-0.37608725900575735,-0.1031247203331418,0.1930050875019731,-0.20462330083370261,-0.14541911843888045,-0.21631768991292688,0.020977897914733035,0.02839380007503678,-0.3486854579377763,-0.1482884748217117,0.052797784367200506,-0.14226644519074227,0.05885588129098096,-0.3245942679788243,-0.1465321434784954,-0.04895314915334836,-0.06890077280232276,-0.031109735397478744,-0.21121853593137985,0.03554444365833831,-0.3353382977020942,0.12070653309086765,-0.3052110181796195,0.010147166773194272,0.024455660654851386,-0.309498123959159,-0.20405353625793055,0.13384269594101283,-0.15454537543985225,-0.3804261730642935,0.19375768198742094,-0.204386530925305,-0.03844194456526395,-0.14168145179264968,-0.16725800247101574,0.041137440142762216,-0.3066530738066717,-0.13194254349694745,0.2213066014321754,-0.3410111531209168,-0.09140086848194073,-0.16130097076298,-0.09738839956465029,-0.014469165175043486,-0.09790456353645993,-0.3674174628187501,0.4146448706327561,-0.5020265612769208,-0.24291603751822777,0.38896806107047155,-0.5395062380026161,0.06119813663570994,-0.05342298591318695,-0.46520944315858515,0.372368429831738,-0.449852167018264,0.054316279854703,-0.1354752437943887,-0.01893663004321411,-0.19958621297874402,-0.20987233122733073,-0.028608942599845477,-0.056895134233258204,-0.23770908400567237,0.07999482185886109,-0.12241425193940358,-0.3198587521067964,-0.18699555838833248,0.3417871103568473,-0.6525504257284354,0.3070128971586428,-0.26225116505449364,-0.03620260632615668,-0.030748088075057467,-0.5061624292517024,0.05392220431812689,-0.016295939602088083,0.093666835789179,-0.6043937294884074,0.30446055627459145,-0.3352017457219745,0.05269932646481834,-0.2876247300903003,-0.04355045955887249,-0.08860391095066689,-0.14127946915428424,-0.13582946027221965,-0.04555286399161673,-0.21916946674781457,0.11285309685007405,-0.4233409755663331,0.23731071526088954,-0.5708723083041605,0.38741949959694466,-0.3900016963769133,-0.25932284903325353,0.11772003749914006,-0.154000025155284,0.013874962350854503,-0.21224658621602543,-0.3824625491855329,0.3204143358879037,-0.36309144257384673,-0.08763693758012892,-0.05079530716471936,-0.23594640051430815,0.0300346706499397,-0.16990336014262652,-0.30111822767358376,0.01005128207219741,-0.028821983919357308,-0.31555248104558586,0.17660823193480724,-0.013388424899574147,-0.5242453090654067,-0.03141473019621799,-0.11761185467204882,0.04557118691110418,-0.1357515477660911,-0.33962865244083673,-0.06127654385431924,0.09351898292794658,-0.1675140929518193,-0.30082415648766414,0.13675162973910915,-0.39901171933669843,0.06665974882093906,-0.2482436007989577,0.22130962354538042,-0.2468450428479514,-0.2773919658645525,-0.19766167244026178,0.16618652633937359,-0.3367015168402929,-0.23214505363969806,0.10834598466848888,-0.3309759762684621,0.11497759389246198,-0.21634433646315188,-0.1824401498576833,0.017772421742137112,-0.22863015201841108,-0.11136942700193231,-0.164364864923499,0.18548086014573073,-0.4167111956952567,-0.0035500458998569684,-0.16455987499446678,-0.0576172117091005,-0.26207786260690114,-0.13700725159941385,-0.034220967105937916,0.06686624903267102,-0.45769598912733045,0.27351815345710406,-0.6843164875828904,0.31566508092987533,-0.17023280507410732,-0.2519061175680406,-0.03506767149721668,-0.1478210306320591,-0.13800957356676236,0.056601104289683235,-0.23619072218068027,-0.11514567836528045,-0.49186566329021275,0.2687775473346221,-0.03937556367046113,-0.47127902879293515,0.2274246760914309,-0.3565600685727759,-0.15364941937764343,0.22058512859564416,-0.5960799615292842,0.2552516282264605,-0.42070011335786717,0.20907016124911593,-0.19635665780180034,-0.4059641298103429,0.2266807720946531,-0.6032969843281535,0.45093069962615573,-0.5768702419816236,0.24055912769824772,-0.29253469883502703,-0.3067050094712158,0.15599025155546542,-0.4229295344634352,0.15981277230650903,-0.200701822383337,-0.2989183847539607,0.12927492974182542,-0.15317081947506495,-0.3235625062666827,0.029910964112502825,-0.4197836193233684,0.1621799707040168,-0.06616140824974082,-0.1456471517922182,-0.2968803285676245,0.09260734075047594,-0.34792442212904007,0.07531725571277548,-0.16697332467538217,-0.47699037315771875,0.24165200102152085,-0.1876227293660122,-0.18905814039311508,-0.20046729177749967,-0.04624109121749598,-0.02151214651490818,-0.30297364965201723,0.16377393116414396,-0.5555420433167342,0.13799685863858713,-0.09118346678121725,-0.22105448963321805,-0.17301864161152025,-0.07275715934218852,-0.1696864949275323,-0.1482520115682746,0.18421012551618787,-0.6231870079807322,0.04312544221892267,0.09330466131734738,-0.361478572382282,0.1615577151897014,-0.47863905229667125,-0.13098775127105,0.1353798175399561,-0.2639236578326063,-0.2775744334844603,0.0864981645091234,-0.23341564630413814,-0.2468935210548011,0.09731291093953587,-0.2690029782272063,0.2275916223323975,-0.6290553943261443,0.01589563912381209,0.09837357573911731,-0.5562250839454919,0.22008922015010057,-0.3187288259863408,-0.0725621400931118,-0.007890081385539816,-0.6817409589358476,0.5122319803602409,-0.4579386030181922,-0.0078298119029796,-0.05197333232990786,-0.04746431067172807,-0.3156177357830643,-0.17762755137789554,-0.3694430751731943,0.33134738742529635,-0.3539959028635735,-0.22756588536407207,0.1011162967437258,-0.24438955260592365,-0.2118336772697944,-0.033142839613446995,-0.0852385707116241,-0.33798404996753106,0.0769010991397181,-0.1912191879541183,-0.2064548369148156,-0.12923397845781892,0.05131578198205489,-0.5770591531557443,0.19331777713972542,-0.20280381088292643,0.017835161231460006,-0.4239861757918675,-0.05093584580350807,0.08946590110878105,-0.12977672034816123,-0.4679459244196664,-0.16592217927615138,0.1303557197653049,-0.12329119133477207,-0.32206646067487554,0.022546537636912944,-0.33882850227490735,0.19323562340417766,-0.4176456635465229,-0.10243290344095612,0.07202381576468042,-0.5057577251598104,0.12475319849454536,-0.04000969110740016,-0.3841487800945629,0.036152184056845726,-0.15539946120560444,-0.36299580959035893,0.020957333116825794,0.014684890293608532,-0.5700310846293064,0.4354402910630597,-0.554916488011429,-0.1876632079134879,0.14981325670231627,-0.25661929369908876,-0.3306961720266486,0.16987292785796626,-0.17583287720208318,-0.4006182308825146,0.27142456386474123,-0.5621204322125095,-0.023838105019819977,-0.05489268035887562,-0.17157604402302695,-0.23711753323476614,0.05113798325390917,-0.4111463317805715,0.2014196542255604,-0.4066410357614245,-0.06343192823413801,-0.15807785693033338],\"yaxis\":\"y\",\"type\":\"scattergl\"}],                        {\"template\":{\"data\":{\"histogram2dcontour\":[{\"type\":\"histogram2dcontour\",\"colorbar\":{\"outlinewidth\":0,\"ticks\":\"\"},\"colorscale\":[[0.0,\"#0d0887\"],[0.1111111111111111,\"#46039f\"],[0.2222222222222222,\"#7201a8\"],[0.3333333333333333,\"#9c179e\"],[0.4444444444444444,\"#bd3786\"],[0.5555555555555556,\"#d8576b\"],[0.6666666666666666,\"#ed7953\"],[0.7777777777777778,\"#fb9f3a\"],[0.8888888888888888,\"#fdca26\"],[1.0,\"#f0f921\"]]}],\"choropleth\":[{\"type\":\"choropleth\",\"colorbar\":{\"outlinewidth\":0,\"ticks\":\"\"}}],\"histogram2d\":[{\"type\":\"histogram2d\",\"colorbar\":{\"outlinewidth\":0,\"ticks\":\"\"},\"colorscale\":[[0.0,\"#0d0887\"],[0.1111111111111111,\"#46039f\"],[0.2222222222222222,\"#7201a8\"],[0.3333333333333333,\"#9c179e\"],[0.4444444444444444,\"#bd3786\"],[0.5555555555555556,\"#d8576b\"],[0.6666666666666666,\"#ed7953\"],[0.7777777777777778,\"#fb9f3a\"],[0.8888888888888888,\"#fdca26\"],[1.0,\"#f0f921\"]]}],\"heatmap\":[{\"type\":\"heatmap\",\"colorbar\":{\"outlinewidth\":0,\"ticks\":\"\"},\"colorscale\":[[0.0,\"#0d0887\"],[0.1111111111111111,\"#46039f\"],[0.2222222222222222,\"#7201a8\"],[0.3333333333333333,\"#9c179e\"],[0.4444444444444444,\"#bd3786\"],[0.5555555555555556,\"#d8576b\"],[0.6666666666666666,\"#ed7953\"],[0.7777777777777778,\"#fb9f3a\"],[0.8888888888888888,\"#fdca26\"],[1.0,\"#f0f921\"]]}],\"heatmapgl\":[{\"type\":\"heatmapgl\",\"colorbar\":{\"outlinewidth\":0,\"ticks\":\"\"},\"colorscale\":[[0.0,\"#0d0887\"],[0.1111111111111111,\"#46039f\"],[0.2222222222222222,\"#7201a8\"],[0.3333333333333333,\"#9c179e\"],[0.4444444444444444,\"#bd3786\"],[0.5555555555555556,\"#d8576b\"],[0.6666666666666666,\"#ed7953\"],[0.7777777777777778,\"#fb9f3a\"],[0.8888888888888888,\"#fdca26\"],[1.0,\"#f0f921\"]]}],\"contourcarpet\":[{\"type\":\"contourcarpet\",\"colorbar\":{\"outlinewidth\":0,\"ticks\":\"\"}}],\"contour\":[{\"type\":\"contour\",\"colorbar\":{\"outlinewidth\":0,\"ticks\":\"\"},\"colorscale\":[[0.0,\"#0d0887\"],[0.1111111111111111,\"#46039f\"],[0.2222222222222222,\"#7201a8\"],[0.3333333333333333,\"#9c179e\"],[0.4444444444444444,\"#bd3786\"],[0.5555555555555556,\"#d8576b\"],[0.6666666666666666,\"#ed7953\"],[0.7777777777777778,\"#fb9f3a\"],[0.8888888888888888,\"#fdca26\"],[1.0,\"#f0f921\"]]}],\"surface\":[{\"type\":\"surface\",\"colorbar\":{\"outlinewidth\":0,\"ticks\":\"\"},\"colorscale\":[[0.0,\"#0d0887\"],[0.1111111111111111,\"#46039f\"],[0.2222222222222222,\"#7201a8\"],[0.3333333333333333,\"#9c179e\"],[0.4444444444444444,\"#bd3786\"],[0.5555555555555556,\"#d8576b\"],[0.6666666666666666,\"#ed7953\"],[0.7777777777777778,\"#fb9f3a\"],[0.8888888888888888,\"#fdca26\"],[1.0,\"#f0f921\"]]}],\"mesh3d\":[{\"type\":\"mesh3d\",\"colorbar\":{\"outlinewidth\":0,\"ticks\":\"\"}}],\"scatter\":[{\"fillpattern\":{\"fillmode\":\"overlay\",\"size\":10,\"solidity\":0.2},\"type\":\"scatter\"}],\"parcoords\":[{\"type\":\"parcoords\",\"line\":{\"colorbar\":{\"outlinewidth\":0,\"ticks\":\"\"}}}],\"scatterpolargl\":[{\"type\":\"scatterpolargl\",\"marker\":{\"colorbar\":{\"outlinewidth\":0,\"ticks\":\"\"}}}],\"bar\":[{\"error_x\":{\"color\":\"#2a3f5f\"},\"error_y\":{\"color\":\"#2a3f5f\"},\"marker\":{\"line\":{\"color\":\"#E5ECF6\",\"width\":0.5},\"pattern\":{\"fillmode\":\"overlay\",\"size\":10,\"solidity\":0.2}},\"type\":\"bar\"}],\"scattergeo\":[{\"type\":\"scattergeo\",\"marker\":{\"colorbar\":{\"outlinewidth\":0,\"ticks\":\"\"}}}],\"scatterpolar\":[{\"type\":\"scatterpolar\",\"marker\":{\"colorbar\":{\"outlinewidth\":0,\"ticks\":\"\"}}}],\"histogram\":[{\"marker\":{\"pattern\":{\"fillmode\":\"overlay\",\"size\":10,\"solidity\":0.2}},\"type\":\"histogram\"}],\"scattergl\":[{\"type\":\"scattergl\",\"marker\":{\"colorbar\":{\"outlinewidth\":0,\"ticks\":\"\"}}}],\"scatter3d\":[{\"type\":\"scatter3d\",\"line\":{\"colorbar\":{\"outlinewidth\":0,\"ticks\":\"\"}},\"marker\":{\"colorbar\":{\"outlinewidth\":0,\"ticks\":\"\"}}}],\"scattermapbox\":[{\"type\":\"scattermapbox\",\"marker\":{\"colorbar\":{\"outlinewidth\":0,\"ticks\":\"\"}}}],\"scatterternary\":[{\"type\":\"scatterternary\",\"marker\":{\"colorbar\":{\"outlinewidth\":0,\"ticks\":\"\"}}}],\"scattercarpet\":[{\"type\":\"scattercarpet\",\"marker\":{\"colorbar\":{\"outlinewidth\":0,\"ticks\":\"\"}}}],\"carpet\":[{\"aaxis\":{\"endlinecolor\":\"#2a3f5f\",\"gridcolor\":\"white\",\"linecolor\":\"white\",\"minorgridcolor\":\"white\",\"startlinecolor\":\"#2a3f5f\"},\"baxis\":{\"endlinecolor\":\"#2a3f5f\",\"gridcolor\":\"white\",\"linecolor\":\"white\",\"minorgridcolor\":\"white\",\"startlinecolor\":\"#2a3f5f\"},\"type\":\"carpet\"}],\"table\":[{\"cells\":{\"fill\":{\"color\":\"#EBF0F8\"},\"line\":{\"color\":\"white\"}},\"header\":{\"fill\":{\"color\":\"#C8D4E3\"},\"line\":{\"color\":\"white\"}},\"type\":\"table\"}],\"barpolar\":[{\"marker\":{\"line\":{\"color\":\"#E5ECF6\",\"width\":0.5},\"pattern\":{\"fillmode\":\"overlay\",\"size\":10,\"solidity\":0.2}},\"type\":\"barpolar\"}],\"pie\":[{\"automargin\":true,\"type\":\"pie\"}]},\"layout\":{\"autotypenumbers\":\"strict\",\"colorway\":[\"#636efa\",\"#EF553B\",\"#00cc96\",\"#ab63fa\",\"#FFA15A\",\"#19d3f3\",\"#FF6692\",\"#B6E880\",\"#FF97FF\",\"#FECB52\"],\"font\":{\"color\":\"#2a3f5f\"},\"hovermode\":\"closest\",\"hoverlabel\":{\"align\":\"left\"},\"paper_bgcolor\":\"white\",\"plot_bgcolor\":\"#E5ECF6\",\"polar\":{\"bgcolor\":\"#E5ECF6\",\"angularaxis\":{\"gridcolor\":\"white\",\"linecolor\":\"white\",\"ticks\":\"\"},\"radialaxis\":{\"gridcolor\":\"white\",\"linecolor\":\"white\",\"ticks\":\"\"}},\"ternary\":{\"bgcolor\":\"#E5ECF6\",\"aaxis\":{\"gridcolor\":\"white\",\"linecolor\":\"white\",\"ticks\":\"\"},\"baxis\":{\"gridcolor\":\"white\",\"linecolor\":\"white\",\"ticks\":\"\"},\"caxis\":{\"gridcolor\":\"white\",\"linecolor\":\"white\",\"ticks\":\"\"}},\"coloraxis\":{\"colorbar\":{\"outlinewidth\":0,\"ticks\":\"\"}},\"colorscale\":{\"sequential\":[[0.0,\"#0d0887\"],[0.1111111111111111,\"#46039f\"],[0.2222222222222222,\"#7201a8\"],[0.3333333333333333,\"#9c179e\"],[0.4444444444444444,\"#bd3786\"],[0.5555555555555556,\"#d8576b\"],[0.6666666666666666,\"#ed7953\"],[0.7777777777777778,\"#fb9f3a\"],[0.8888888888888888,\"#fdca26\"],[1.0,\"#f0f921\"]],\"sequentialminus\":[[0.0,\"#0d0887\"],[0.1111111111111111,\"#46039f\"],[0.2222222222222222,\"#7201a8\"],[0.3333333333333333,\"#9c179e\"],[0.4444444444444444,\"#bd3786\"],[0.5555555555555556,\"#d8576b\"],[0.6666666666666666,\"#ed7953\"],[0.7777777777777778,\"#fb9f3a\"],[0.8888888888888888,\"#fdca26\"],[1.0,\"#f0f921\"]],\"diverging\":[[0,\"#8e0152\"],[0.1,\"#c51b7d\"],[0.2,\"#de77ae\"],[0.3,\"#f1b6da\"],[0.4,\"#fde0ef\"],[0.5,\"#f7f7f7\"],[0.6,\"#e6f5d0\"],[0.7,\"#b8e186\"],[0.8,\"#7fbc41\"],[0.9,\"#4d9221\"],[1,\"#276419\"]]},\"xaxis\":{\"gridcolor\":\"white\",\"linecolor\":\"white\",\"ticks\":\"\",\"title\":{\"standoff\":15},\"zerolinecolor\":\"white\",\"automargin\":true,\"zerolinewidth\":2},\"yaxis\":{\"gridcolor\":\"white\",\"linecolor\":\"white\",\"ticks\":\"\",\"title\":{\"standoff\":15},\"zerolinecolor\":\"white\",\"automargin\":true,\"zerolinewidth\":2},\"scene\":{\"xaxis\":{\"backgroundcolor\":\"#E5ECF6\",\"gridcolor\":\"white\",\"linecolor\":\"white\",\"showbackground\":true,\"ticks\":\"\",\"zerolinecolor\":\"white\",\"gridwidth\":2},\"yaxis\":{\"backgroundcolor\":\"#E5ECF6\",\"gridcolor\":\"white\",\"linecolor\":\"white\",\"showbackground\":true,\"ticks\":\"\",\"zerolinecolor\":\"white\",\"gridwidth\":2},\"zaxis\":{\"backgroundcolor\":\"#E5ECF6\",\"gridcolor\":\"white\",\"linecolor\":\"white\",\"showbackground\":true,\"ticks\":\"\",\"zerolinecolor\":\"white\",\"gridwidth\":2}},\"shapedefaults\":{\"line\":{\"color\":\"#2a3f5f\"}},\"annotationdefaults\":{\"arrowcolor\":\"#2a3f5f\",\"arrowhead\":0,\"arrowwidth\":1},\"geo\":{\"bgcolor\":\"white\",\"landcolor\":\"#E5ECF6\",\"subunitcolor\":\"white\",\"showland\":true,\"showlakes\":true,\"lakecolor\":\"white\"},\"title\":{\"x\":0.05},\"mapbox\":{\"style\":\"light\"}}},\"xaxis\":{\"anchor\":\"y\",\"domain\":[0.0,1.0],\"title\":{\"text\":\"index\"}},\"yaxis\":{\"anchor\":\"x\",\"domain\":[0.0,1.0],\"title\":{\"text\":\"value\"}},\"legend\":{\"title\":{\"text\":\"variable\"},\"tracegroupgap\":0},\"margin\":{\"t\":60}},                        {\"responsive\": true}                    ).then(function(){\n",
       "                            \n",
       "var gd = document.getElementById('61264b82-f4bd-4ef5-9c98-d82f7bebbd15');\n",
       "var x = new MutationObserver(function (mutations, observer) {{\n",
       "        var display = window.getComputedStyle(gd).display;\n",
       "        if (!display || display === 'none') {{\n",
       "            console.log([gd, 'removed!']);\n",
       "            Plotly.purge(gd);\n",
       "            observer.disconnect();\n",
       "        }}\n",
       "}});\n",
       "\n",
       "// Listen for the removal of the full notebook cells\n",
       "var notebookContainer = gd.closest('#notebook-container');\n",
       "if (notebookContainer) {{\n",
       "    x.observe(notebookContainer, {childList: true});\n",
       "}}\n",
       "\n",
       "// Listen for the clearing of the current output cell\n",
       "var outputEl = gd.closest('.output');\n",
       "if (outputEl) {{\n",
       "    x.observe(outputEl, {childList: true});\n",
       "}}\n",
       "\n",
       "                        })                };                });            </script>        </div>"
      ]
     },
     "metadata": {},
     "output_type": "display_data"
    }
   ],
   "source": [
    "ex.line(to_df(err, 'err'))"
   ]
  },
  {
   "cell_type": "code",
   "execution_count": 124,
   "id": "3a34c8ec-b29f-48a0-abc7-1ae92f9d364c",
   "metadata": {},
   "outputs": [
    {
     "data": {
      "application/vnd.plotly.v1+json": {
       "config": {
        "plotlyServerURL": "https://plot.ly"
       },
       "data": [
        {
         "hovertemplate": "variable=x0<br>index=%{x}<br>value=%{y}<extra></extra>",
         "legendgroup": "x0",
         "line": {
          "color": "#636efa",
          "dash": "solid"
         },
         "marker": {
          "symbol": "circle"
         },
         "mode": "lines",
         "name": "x0",
         "showlegend": true,
         "type": "scattergl",
         "x": [
          0,
          1,
          2,
          3,
          4,
          5,
          6,
          7,
          8,
          9,
          10,
          11,
          12,
          13,
          14,
          15,
          16,
          17,
          18,
          19,
          20,
          21,
          22,
          23,
          24,
          25,
          26,
          27,
          28,
          29,
          30,
          31,
          32,
          33,
          34,
          35,
          36,
          37,
          38,
          39,
          40,
          41,
          42,
          43,
          44,
          45,
          46,
          47,
          48,
          49,
          50,
          51,
          52,
          53,
          54,
          55,
          56,
          57,
          58,
          59,
          60,
          61,
          62,
          63,
          64,
          65,
          66,
          67,
          68,
          69,
          70,
          71,
          72,
          73,
          74,
          75,
          76,
          77,
          78,
          79,
          80,
          81,
          82,
          83,
          84,
          85,
          86,
          87,
          88,
          89,
          90,
          91,
          92,
          93,
          94,
          95,
          96,
          97,
          98,
          99,
          100,
          101,
          102,
          103,
          104,
          105,
          106,
          107,
          108,
          109,
          110,
          111,
          112,
          113,
          114,
          115,
          116,
          117,
          118,
          119,
          120,
          121,
          122,
          123,
          124,
          125,
          126,
          127,
          128,
          129,
          130,
          131,
          132,
          133,
          134,
          135,
          136,
          137,
          138,
          139,
          140,
          141,
          142,
          143,
          144,
          145,
          146,
          147,
          148,
          149,
          150,
          151,
          152,
          153,
          154,
          155,
          156,
          157,
          158,
          159,
          160,
          161,
          162,
          163,
          164,
          165,
          166,
          167,
          168,
          169,
          170,
          171,
          172,
          173,
          174,
          175,
          176,
          177,
          178,
          179,
          180,
          181,
          182,
          183,
          184,
          185,
          186,
          187,
          188,
          189,
          190,
          191,
          192,
          193,
          194,
          195,
          196,
          197,
          198,
          199,
          200,
          201,
          202,
          203,
          204,
          205,
          206,
          207,
          208,
          209,
          210,
          211,
          212,
          213,
          214,
          215,
          216,
          217,
          218,
          219,
          220,
          221,
          222,
          223,
          224,
          225,
          226,
          227,
          228,
          229,
          230,
          231,
          232,
          233,
          234,
          235,
          236,
          237,
          238,
          239,
          240,
          241,
          242,
          243,
          244,
          245,
          246,
          247,
          248,
          249,
          250,
          251,
          252,
          253,
          254,
          255,
          256,
          257,
          258,
          259,
          260,
          261,
          262,
          263,
          264,
          265,
          266,
          267,
          268,
          269,
          270,
          271,
          272,
          273,
          274,
          275,
          276,
          277,
          278,
          279,
          280,
          281,
          282,
          283,
          284,
          285,
          286,
          287,
          288,
          289,
          290,
          291,
          292,
          293,
          294,
          295,
          296,
          297,
          298,
          299,
          300,
          301,
          302,
          303,
          304,
          305,
          306,
          307,
          308,
          309,
          310,
          311,
          312,
          313,
          314,
          315,
          316,
          317,
          318,
          319,
          320,
          321,
          322,
          323,
          324,
          325,
          326,
          327,
          328,
          329,
          330,
          331,
          332,
          333,
          334,
          335,
          336,
          337,
          338,
          339,
          340,
          341,
          342,
          343,
          344,
          345,
          346,
          347,
          348,
          349,
          350,
          351,
          352,
          353,
          354,
          355,
          356,
          357,
          358,
          359,
          360,
          361,
          362,
          363,
          364,
          365,
          366,
          367,
          368,
          369,
          370,
          371,
          372,
          373,
          374,
          375,
          376,
          377,
          378,
          379,
          380,
          381,
          382,
          383,
          384,
          385,
          386,
          387,
          388,
          389,
          390,
          391,
          392,
          393,
          394,
          395,
          396,
          397,
          398,
          399,
          0,
          1,
          2,
          3,
          4,
          5,
          6,
          7,
          8,
          9,
          10,
          11,
          12,
          13,
          14,
          15,
          16,
          17,
          18,
          19,
          20,
          21,
          22,
          23,
          24,
          25,
          26,
          27,
          28,
          29,
          30,
          31,
          32,
          33,
          34,
          35,
          36,
          37,
          38,
          39,
          40,
          41,
          42,
          43,
          44,
          45,
          46,
          47,
          48,
          49,
          50,
          51,
          52,
          53,
          54,
          55,
          56,
          57,
          58,
          59,
          60,
          61,
          62,
          63,
          64,
          65,
          66,
          67,
          68,
          69,
          70,
          71,
          72,
          73,
          74,
          75,
          76,
          77,
          78,
          79,
          80,
          81,
          82,
          83,
          84,
          85,
          86,
          87,
          88,
          89,
          90,
          91,
          92,
          93,
          94,
          95,
          96,
          97,
          98,
          99,
          100,
          101,
          102,
          103,
          104,
          105,
          106,
          107,
          108,
          109,
          110,
          111,
          112,
          113,
          114,
          115,
          116,
          117,
          118,
          119,
          120,
          121,
          122,
          123,
          124,
          125,
          126,
          127,
          128,
          129,
          130,
          131,
          132,
          133,
          134,
          135,
          136,
          137,
          138,
          139,
          140,
          141,
          142,
          143,
          144,
          145,
          146,
          147,
          148,
          149,
          150,
          151,
          152,
          153,
          154,
          155,
          156,
          157,
          158,
          159,
          160,
          161,
          162,
          163,
          164,
          165,
          166,
          167,
          168,
          169,
          170,
          171,
          172,
          173,
          174,
          175,
          176,
          177,
          178,
          179,
          180,
          181,
          182,
          183,
          184,
          185,
          186,
          187,
          188,
          189,
          190,
          191,
          192,
          193,
          194,
          195,
          196,
          197,
          198,
          199,
          200,
          201,
          202,
          203,
          204,
          205,
          206,
          207,
          208,
          209,
          210,
          211,
          212,
          213,
          214,
          215,
          216,
          217,
          218,
          219,
          220,
          221,
          222,
          223,
          224,
          225,
          226,
          227,
          228,
          229,
          230,
          231,
          232,
          233,
          234,
          235,
          236,
          237,
          238,
          239,
          240,
          241,
          242,
          243,
          244,
          245,
          246,
          247,
          248,
          249,
          250,
          251,
          252,
          253,
          254,
          255,
          256,
          257,
          258,
          259,
          260,
          261,
          262,
          263,
          264,
          265,
          266,
          267,
          268,
          269,
          270,
          271,
          272,
          273,
          274,
          275,
          276,
          277,
          278,
          279,
          280,
          281,
          282,
          283,
          284,
          285,
          286,
          287,
          288,
          289,
          290,
          291,
          292,
          293,
          294,
          295,
          296,
          297,
          298,
          299,
          300,
          301,
          302,
          303,
          304,
          305,
          306,
          307,
          308,
          309,
          310,
          311,
          312,
          313,
          314,
          315,
          316,
          317,
          318,
          319,
          320,
          321,
          322,
          323,
          324,
          325,
          326,
          327,
          328,
          329,
          330,
          331,
          332,
          333,
          334,
          335,
          336,
          337,
          338,
          339,
          340,
          341,
          342,
          343,
          344,
          345,
          346,
          347,
          348,
          349,
          350,
          351,
          352,
          353,
          354,
          355,
          356,
          357,
          358,
          359,
          360,
          361,
          362,
          363,
          364,
          365,
          366,
          367,
          368,
          369,
          370,
          371,
          372,
          373,
          374,
          375,
          376,
          377,
          378,
          379,
          380,
          381,
          382,
          383,
          384,
          385,
          386,
          387,
          388,
          389,
          390,
          391,
          392,
          393,
          394,
          395,
          396,
          397,
          398
         ],
         "xaxis": "x",
         "y": [
          0,
          1.7364817766693033,
          3.420201433256687,
          4.999999999999999,
          6.4278760968653925,
          7.66044443118978,
          8.660254037844386,
          9.396926207859083,
          9.84807753012208,
          10,
          9.84807753012208,
          9.396926207859085,
          8.660254037844387,
          7.66044443118978,
          6.427876096865395,
          5.0000000000000036,
          3.420201433256689,
          1.736481776669307,
          1.2246467991473533e-15,
          -1.7364817766693048,
          -3.4202014332566866,
          -5.000000000000001,
          -6.4278760968653925,
          -7.660444431189779,
          -8.660254037844384,
          -9.396926207859085,
          -9.84807753012208,
          -10,
          -9.848077530122081,
          -9.396926207859083,
          -8.66025403784439,
          -7.660444431189781,
          -6.427876096865396,
          -5.000000000000012,
          -3.420201433256694,
          -1.736481776669304,
          -2.4492935982947065e-15,
          1.736481776669299,
          3.4202014332566892,
          5.000000000000008,
          6.427876096865392,
          7.660444431189778,
          8.660254037844389,
          9.396926207859085,
          9.84807753012208,
          10,
          9.848077530122081,
          9.39692620785908,
          8.66025403784439,
          7.660444431189788,
          6.42787609686539,
          5.000000000000013,
          3.420201433256687,
          1.736481776669305,
          3.673940397442059e-15,
          -1.7364817766692977,
          -3.42020143325668,
          -4.999999999999992,
          -6.427876096865398,
          -7.660444431189771,
          -8.660254037844378,
          -9.396926207859078,
          -9.84807753012208,
          -10,
          -9.848077530122081,
          -9.396926207859082,
          -8.6602540378444,
          -7.660444431189777,
          -6.427876096865405,
          -4.999999999999999,
          -3.4202014332566884,
          -1.7364817766693064,
          -4.898587196589413e-15,
          1.7364817766692966,
          3.420201433256679,
          5.000000000000005,
          6.427876096865397,
          7.66044443118977,
          8.660254037844396,
          9.396926207859078,
          9.84807753012208,
          10,
          9.848077530122083,
          9.396926207859082,
          8.660254037844384,
          7.660444431189789,
          6.427876096865392,
          5.000000000000016,
          3.4202014332566892,
          1.7364817766693075,
          6.123233995736766e-15,
          -1.7364817766692955,
          -3.4202014332566777,
          -4.999999999999989,
          -6.427876096865409,
          -7.660444431189792,
          -8.660254037844377,
          -9.396926207859076,
          -9.848077530122076,
          -10,
          -9.84807753012208,
          -9.396926207859082,
          -8.660254037844402,
          -7.660444431189801,
          -6.4278760968653925,
          -5.000000000000001,
          -3.4202014332566906,
          -1.7364817766693086,
          -7.347880794884118e-15,
          1.736481776669259,
          3.4202014332566764,
          4.9999999999999885,
          6.427876096865381,
          7.660444431189769,
          8.660254037844377,
          9.396926207859076,
          9.848077530122083,
          10,
          9.848077530122087,
          9.396926207859082,
          8.660254037844403,
          7.660444431189779,
          6.42787609686542,
          5.000000000000002,
          3.4202014332566915,
          1.736481776669345,
          8.572527594031473e-15,
          -1.736481776669328,
          -3.4202014332566755,
          -4.999999999999988,
          -6.427876096865408,
          -7.660444431189768,
          -8.660254037844359,
          -9.396926207859076,
          -9.848077530122083,
          -10,
          -9.848077530122087,
          -9.396926207859082,
          -8.660254037844386,
          -7.66044443118978,
          -6.427876096865395,
          -5.0000000000000036,
          -3.420201433256693,
          -1.736481776669346,
          -9.797174393178826e-15,
          1.736481776669327,
          3.4202014332566746,
          4.999999999999986,
          6.427876096865379,
          7.660444431189768,
          8.660254037844394,
          9.396926207859075,
          9.848077530122083,
          10,
          9.848077530122087,
          9.396926207859083,
          8.660254037844368,
          7.660444431189781,
          6.427876096865423,
          5.0000000000000355,
          3.4202014332566937,
          1.7364817766693124,
          1.1021821192326179e-14,
          -1.7364817766692906,
          -3.4202014332566733,
          -4.999999999999985,
          -6.427876096865406,
          -7.660444431189767,
          -8.660254037844393,
          -9.396926207859075,
          -9.848077530122076,
          -10,
          -9.84807753012208,
          -9.396926207859083,
          -8.660254037844403,
          -7.660444431189781,
          -6.427876096865396,
          -5.0000000000000355,
          -3.420201433256695,
          -1.7364817766692786,
          -1.2246467991473532e-14,
          1.7364817766692544,
          3.420201433256672,
          4.999999999999984,
          6.427876096865378,
          7.660444431189789,
          8.660254037844373,
          9.396926207859087,
          9.848077530122088,
          10,
          9.848077530122074,
          9.396926207859083,
          8.660254037844405,
          7.660444431189783,
          6.4278760968654245,
          5.0000000000000675,
          3.420201433256729,
          1.7364817766693146,
          -2.2056021997384124e-14,
          -1.7364817766692884,
          -3.4202014332567043,
          -4.999999999999983,
          -6.427876096865404,
          -7.660444431189765,
          -8.660254037844355,
          -9.396926207859075,
          -9.848077530122069,
          -10,
          -9.84807753012208,
          -9.396926207859073,
          -8.660254037844389,
          -7.66044443118976,
          -6.427876096865398,
          -4.999999999999977,
          -3.4202014332566972,
          -1.736481776669351,
          -1.4695761589768237e-14,
          1.736481776669252,
          3.4202014332566026,
          4.999999999999951,
          6.427876096865376,
          7.660444431189787,
          8.660254037844373,
          9.396926207859087,
          9.848077530122074,
          10,
          9.848077530122087,
          9.396926207859085,
          8.660254037844407,
          7.6604444311898305,
          6.427876096865427,
          4.999999999999947,
          3.420201433256665,
          1.7364817766693172,
          -1.9606728399089415e-14,
          -1.7364817766692857,
          -3.420201433256635,
          -5.000000000000043,
          -6.427876096865402,
          -7.660444431189763,
          -8.660254037844355,
          -9.39692620785905,
          -9.848077530122081,
          -10,
          -9.848077530122094,
          -9.396926207859073,
          -8.660254037844389,
          -7.6604444311898074,
          -6.4278760968654005,
          -5.00000000000004,
          -3.4202014332567665,
          -1.7364817766692833,
          -1.7145055188062946e-14,
          1.7364817766692497,
          3.420201433256734,
          5.000000000000011,
          6.427876096865374,
          7.660444431189786,
          8.660254037844371,
          9.396926207859085,
          9.848077530122087,
          10,
          9.848077530122087,
          9.39692620785911,
          8.660254037844442,
          7.660444431189786,
          6.427876096865428,
          4.9999999999999485,
          3.420201433256667,
          1.7364817766693197,
          5.3896838775215307e-14,
          -1.7364817766692833,
          -3.420201433256633,
          -4.999999999999917,
          -6.4278760968654005,
          -7.660444431189762,
          -8.660254037844389,
          -9.396926207859096,
          -9.84807753012208,
          -10,
          -9.848077530122081,
          -9.396926207859098,
          -8.66025403784439,
          -7.660444431189763,
          -6.427876096865402,
          -5.000000000000043,
          -3.4202014332567687,
          -1.7364817766692857,
          -1.9594348786357652e-14,
          1.7364817766692473,
          3.4202014332567323,
          5.000000000000009,
          6.427876096865372,
          7.660444431189738,
          8.660254037844371,
          9.39692620785906,
          9.848077530122074,
          10,
          9.848077530122088,
          9.396926207859087,
          8.660254037844373,
          7.660444431189787,
          6.427876096865431,
          5.000000000000012,
          3.42020143325667,
          1.736481776669322,
          -1.4708141202500006e-14,
          -1.736481776669281,
          -3.4202014332566306,
          -4.999999999999915,
          -6.427876096865398,
          -7.66044443118976,
          -8.660254037844425,
          -9.396926207859096,
          -9.84807753012208,
          -10,
          -9.848077530122094,
          -9.3969262078591,
          -8.660254037844426,
          -7.660444431189811,
          -6.427876096865404,
          -4.999999999999983,
          -3.4202014332567043,
          -1.7364817766692884,
          -2.2043642384652358e-14,
          1.7364817766692449,
          3.4202014332566626,
          5.000000000000007,
          6.42787609686537,
          7.660444431189783,
          8.66025403784437,
          9.396926207859059,
          9.848077530122087,
          10,
          9.848077530122088,
          9.396926207859062,
          8.660254037844373,
          7.660444431189789,
          6.4278760968654325,
          5.000000000000076,
          3.4202014332567385,
          1.7364817766693244,
          5.879542597180471e-14,
          -1.7364817766692786,
          -3.420201433256695,
          -4.999999999999974,
          -6.427876096865396,
          -7.6604444311897595,
          -8.66025403784435,
          -9.396926207859096,
          -9.84807753012208,
          -10,
          -9.848077530122083,
          -9.3969262078591,
          -8.660254037844428,
          -7.660444431189767,
          -6.427876096865406,
          -4.999999999999985,
          -3.42020143325664,
          -1.7364817766692906,
          -2.4492935982947064e-14,
          1.7364817766692422,
          3.4202014332565938,
          4.999999999999943,
          6.4278760968653685,
          7.6604444311897355,
          8.660254037844368,
          9.396926207859034,
          9.848077530122074,
          10,
          9.848077530122076,
          9.396926207859087,
          8.660254037844412,
          7.660444431189744,
          6.427876096865379,
          5.000000000000017,
          3.420201433256608,
          1.7364817766692568,
          -9.809554005910593e-15,
          -1.7364817766692762,
          -3.4202014332567594,
          -5.000000000000035,
          -6.427876096865395,
          -7.660444431189757,
          -8.66025403784435,
          -9.396926207859046,
          -9.84807753012208,
          -10,
          -9.848077530122094,
          -9.396926207859124,
          -8.660254037844465,
          -7.660444431189814,
          -6.427876096865463,
          -4.999999999999988,
          -3.420201433256709,
          -1.736481776669363,
          4.411204399476825e-14,
          1.73648177666931,
          3.420201433256658,
          5.000000000000063,
          null,
          null,
          null,
          null,
          null,
          null,
          null,
          null,
          null,
          null,
          null,
          null,
          null,
          null,
          null,
          null,
          null,
          null,
          null,
          null,
          null,
          null,
          null,
          null,
          null,
          null,
          null,
          null,
          null,
          null,
          null,
          null,
          null,
          null,
          null,
          null,
          null,
          null,
          null,
          null,
          null,
          null,
          null,
          null,
          null,
          null,
          null,
          null,
          null,
          null,
          null,
          null,
          null,
          null,
          null,
          null,
          null,
          null,
          null,
          null,
          null,
          null,
          null,
          null,
          null,
          null,
          null,
          null,
          null,
          null,
          null,
          null,
          null,
          null,
          null,
          null,
          null,
          null,
          null,
          null,
          null,
          null,
          null,
          null,
          null,
          null,
          null,
          null,
          null,
          null,
          null,
          null,
          null,
          null,
          null,
          null,
          null,
          null,
          null,
          null,
          null,
          null,
          null,
          null,
          null,
          null,
          null,
          null,
          null,
          null,
          null,
          null,
          null,
          null,
          null,
          null,
          null,
          null,
          null,
          null,
          null,
          null,
          null,
          null,
          null,
          null,
          null,
          null,
          null,
          null,
          null,
          null,
          null,
          null,
          null,
          null,
          null,
          null,
          null,
          null,
          null,
          null,
          null,
          null,
          null,
          null,
          null,
          null,
          null,
          null,
          null,
          null,
          null,
          null,
          null,
          null,
          null,
          null,
          null,
          null,
          null,
          null,
          null,
          null,
          null,
          null,
          null,
          null,
          null,
          null,
          null,
          null,
          null,
          null,
          null,
          null,
          null,
          null,
          null,
          null,
          null,
          null,
          null,
          null,
          null,
          null,
          null,
          null,
          null,
          null,
          null,
          null,
          null,
          null,
          null,
          null,
          null,
          null,
          null,
          null,
          null,
          null,
          null,
          null,
          null,
          null,
          null,
          null,
          null,
          null,
          null,
          null,
          null,
          null,
          null,
          null,
          null,
          null,
          null,
          null,
          null,
          null,
          null,
          null,
          null,
          null,
          null,
          null,
          null,
          null,
          null,
          null,
          null,
          null,
          null,
          null,
          null,
          null,
          null,
          null,
          null,
          null,
          null,
          null,
          null,
          null,
          null,
          null,
          null,
          null,
          null,
          null,
          null,
          null,
          null,
          null,
          null,
          null,
          null,
          null,
          null,
          null,
          null,
          null,
          null,
          null,
          null,
          null,
          null,
          null,
          null,
          null,
          null,
          null,
          null,
          null,
          null,
          null,
          null,
          null,
          null,
          null,
          null,
          null,
          null,
          null,
          null,
          null,
          null,
          null,
          null,
          null,
          null,
          null,
          null,
          null,
          null,
          null,
          null,
          null,
          null,
          null,
          null,
          null,
          null,
          null,
          null,
          null,
          null,
          null,
          null,
          null,
          null,
          null,
          null,
          null,
          null,
          null,
          null,
          null,
          null,
          null,
          null,
          null,
          null,
          null,
          null,
          null,
          null,
          null,
          null,
          null,
          null,
          null,
          null,
          null,
          null,
          null,
          null,
          null,
          null,
          null,
          null,
          null,
          null,
          null,
          null,
          null,
          null,
          null,
          null,
          null,
          null,
          null,
          null,
          null,
          null,
          null,
          null,
          null,
          null,
          null,
          null,
          null,
          null,
          null,
          null,
          null,
          null,
          null,
          null,
          null,
          null,
          null,
          null,
          null,
          null,
          null,
          null,
          null,
          null,
          null,
          null,
          null,
          null,
          null,
          null,
          null,
          null,
          null,
          null,
          null,
          null,
          null,
          null,
          null,
          null,
          null,
          null
         ],
         "yaxis": "y"
        },
        {
         "hovertemplate": "variable=x_hat0<br>index=%{x}<br>value=%{y}<extra></extra>",
         "legendgroup": "x_hat0",
         "line": {
          "color": "#EF553B",
          "dash": "solid"
         },
         "marker": {
          "symbol": "circle"
         },
         "mode": "lines",
         "name": "x_hat0",
         "showlegend": true,
         "type": "scattergl",
         "x": [
          0,
          1,
          2,
          3,
          4,
          5,
          6,
          7,
          8,
          9,
          10,
          11,
          12,
          13,
          14,
          15,
          16,
          17,
          18,
          19,
          20,
          21,
          22,
          23,
          24,
          25,
          26,
          27,
          28,
          29,
          30,
          31,
          32,
          33,
          34,
          35,
          36,
          37,
          38,
          39,
          40,
          41,
          42,
          43,
          44,
          45,
          46,
          47,
          48,
          49,
          50,
          51,
          52,
          53,
          54,
          55,
          56,
          57,
          58,
          59,
          60,
          61,
          62,
          63,
          64,
          65,
          66,
          67,
          68,
          69,
          70,
          71,
          72,
          73,
          74,
          75,
          76,
          77,
          78,
          79,
          80,
          81,
          82,
          83,
          84,
          85,
          86,
          87,
          88,
          89,
          90,
          91,
          92,
          93,
          94,
          95,
          96,
          97,
          98,
          99,
          100,
          101,
          102,
          103,
          104,
          105,
          106,
          107,
          108,
          109,
          110,
          111,
          112,
          113,
          114,
          115,
          116,
          117,
          118,
          119,
          120,
          121,
          122,
          123,
          124,
          125,
          126,
          127,
          128,
          129,
          130,
          131,
          132,
          133,
          134,
          135,
          136,
          137,
          138,
          139,
          140,
          141,
          142,
          143,
          144,
          145,
          146,
          147,
          148,
          149,
          150,
          151,
          152,
          153,
          154,
          155,
          156,
          157,
          158,
          159,
          160,
          161,
          162,
          163,
          164,
          165,
          166,
          167,
          168,
          169,
          170,
          171,
          172,
          173,
          174,
          175,
          176,
          177,
          178,
          179,
          180,
          181,
          182,
          183,
          184,
          185,
          186,
          187,
          188,
          189,
          190,
          191,
          192,
          193,
          194,
          195,
          196,
          197,
          198,
          199,
          200,
          201,
          202,
          203,
          204,
          205,
          206,
          207,
          208,
          209,
          210,
          211,
          212,
          213,
          214,
          215,
          216,
          217,
          218,
          219,
          220,
          221,
          222,
          223,
          224,
          225,
          226,
          227,
          228,
          229,
          230,
          231,
          232,
          233,
          234,
          235,
          236,
          237,
          238,
          239,
          240,
          241,
          242,
          243,
          244,
          245,
          246,
          247,
          248,
          249,
          250,
          251,
          252,
          253,
          254,
          255,
          256,
          257,
          258,
          259,
          260,
          261,
          262,
          263,
          264,
          265,
          266,
          267,
          268,
          269,
          270,
          271,
          272,
          273,
          274,
          275,
          276,
          277,
          278,
          279,
          280,
          281,
          282,
          283,
          284,
          285,
          286,
          287,
          288,
          289,
          290,
          291,
          292,
          293,
          294,
          295,
          296,
          297,
          298,
          299,
          300,
          301,
          302,
          303,
          304,
          305,
          306,
          307,
          308,
          309,
          310,
          311,
          312,
          313,
          314,
          315,
          316,
          317,
          318,
          319,
          320,
          321,
          322,
          323,
          324,
          325,
          326,
          327,
          328,
          329,
          330,
          331,
          332,
          333,
          334,
          335,
          336,
          337,
          338,
          339,
          340,
          341,
          342,
          343,
          344,
          345,
          346,
          347,
          348,
          349,
          350,
          351,
          352,
          353,
          354,
          355,
          356,
          357,
          358,
          359,
          360,
          361,
          362,
          363,
          364,
          365,
          366,
          367,
          368,
          369,
          370,
          371,
          372,
          373,
          374,
          375,
          376,
          377,
          378,
          379,
          380,
          381,
          382,
          383,
          384,
          385,
          386,
          387,
          388,
          389,
          390,
          391,
          392,
          393,
          394,
          395,
          396,
          397,
          398,
          399,
          0,
          1,
          2,
          3,
          4,
          5,
          6,
          7,
          8,
          9,
          10,
          11,
          12,
          13,
          14,
          15,
          16,
          17,
          18,
          19,
          20,
          21,
          22,
          23,
          24,
          25,
          26,
          27,
          28,
          29,
          30,
          31,
          32,
          33,
          34,
          35,
          36,
          37,
          38,
          39,
          40,
          41,
          42,
          43,
          44,
          45,
          46,
          47,
          48,
          49,
          50,
          51,
          52,
          53,
          54,
          55,
          56,
          57,
          58,
          59,
          60,
          61,
          62,
          63,
          64,
          65,
          66,
          67,
          68,
          69,
          70,
          71,
          72,
          73,
          74,
          75,
          76,
          77,
          78,
          79,
          80,
          81,
          82,
          83,
          84,
          85,
          86,
          87,
          88,
          89,
          90,
          91,
          92,
          93,
          94,
          95,
          96,
          97,
          98,
          99,
          100,
          101,
          102,
          103,
          104,
          105,
          106,
          107,
          108,
          109,
          110,
          111,
          112,
          113,
          114,
          115,
          116,
          117,
          118,
          119,
          120,
          121,
          122,
          123,
          124,
          125,
          126,
          127,
          128,
          129,
          130,
          131,
          132,
          133,
          134,
          135,
          136,
          137,
          138,
          139,
          140,
          141,
          142,
          143,
          144,
          145,
          146,
          147,
          148,
          149,
          150,
          151,
          152,
          153,
          154,
          155,
          156,
          157,
          158,
          159,
          160,
          161,
          162,
          163,
          164,
          165,
          166,
          167,
          168,
          169,
          170,
          171,
          172,
          173,
          174,
          175,
          176,
          177,
          178,
          179,
          180,
          181,
          182,
          183,
          184,
          185,
          186,
          187,
          188,
          189,
          190,
          191,
          192,
          193,
          194,
          195,
          196,
          197,
          198,
          199,
          200,
          201,
          202,
          203,
          204,
          205,
          206,
          207,
          208,
          209,
          210,
          211,
          212,
          213,
          214,
          215,
          216,
          217,
          218,
          219,
          220,
          221,
          222,
          223,
          224,
          225,
          226,
          227,
          228,
          229,
          230,
          231,
          232,
          233,
          234,
          235,
          236,
          237,
          238,
          239,
          240,
          241,
          242,
          243,
          244,
          245,
          246,
          247,
          248,
          249,
          250,
          251,
          252,
          253,
          254,
          255,
          256,
          257,
          258,
          259,
          260,
          261,
          262,
          263,
          264,
          265,
          266,
          267,
          268,
          269,
          270,
          271,
          272,
          273,
          274,
          275,
          276,
          277,
          278,
          279,
          280,
          281,
          282,
          283,
          284,
          285,
          286,
          287,
          288,
          289,
          290,
          291,
          292,
          293,
          294,
          295,
          296,
          297,
          298,
          299,
          300,
          301,
          302,
          303,
          304,
          305,
          306,
          307,
          308,
          309,
          310,
          311,
          312,
          313,
          314,
          315,
          316,
          317,
          318,
          319,
          320,
          321,
          322,
          323,
          324,
          325,
          326,
          327,
          328,
          329,
          330,
          331,
          332,
          333,
          334,
          335,
          336,
          337,
          338,
          339,
          340,
          341,
          342,
          343,
          344,
          345,
          346,
          347,
          348,
          349,
          350,
          351,
          352,
          353,
          354,
          355,
          356,
          357,
          358,
          359,
          360,
          361,
          362,
          363,
          364,
          365,
          366,
          367,
          368,
          369,
          370,
          371,
          372,
          373,
          374,
          375,
          376,
          377,
          378,
          379,
          380,
          381,
          382,
          383,
          384,
          385,
          386,
          387,
          388,
          389,
          390,
          391,
          392,
          393,
          394,
          395,
          396,
          397,
          398
         ],
         "xaxis": "x",
         "y": [
          null,
          null,
          null,
          null,
          null,
          null,
          null,
          null,
          null,
          null,
          null,
          null,
          null,
          null,
          null,
          null,
          null,
          null,
          null,
          null,
          null,
          null,
          null,
          null,
          null,
          null,
          null,
          null,
          null,
          null,
          null,
          null,
          null,
          null,
          null,
          null,
          null,
          null,
          null,
          null,
          null,
          null,
          null,
          null,
          null,
          null,
          null,
          null,
          null,
          null,
          null,
          null,
          null,
          null,
          null,
          null,
          null,
          null,
          null,
          null,
          null,
          null,
          null,
          null,
          null,
          null,
          null,
          null,
          null,
          null,
          null,
          null,
          null,
          null,
          null,
          null,
          null,
          null,
          null,
          null,
          null,
          null,
          null,
          null,
          null,
          null,
          null,
          null,
          null,
          null,
          null,
          null,
          null,
          null,
          null,
          null,
          null,
          null,
          null,
          null,
          null,
          null,
          null,
          null,
          null,
          null,
          null,
          null,
          null,
          null,
          null,
          null,
          null,
          null,
          null,
          null,
          null,
          null,
          null,
          null,
          null,
          null,
          null,
          null,
          null,
          null,
          null,
          null,
          null,
          null,
          null,
          null,
          null,
          null,
          null,
          null,
          null,
          null,
          null,
          null,
          null,
          null,
          null,
          null,
          null,
          null,
          null,
          null,
          null,
          null,
          null,
          null,
          null,
          null,
          null,
          null,
          null,
          null,
          null,
          null,
          null,
          null,
          null,
          null,
          null,
          null,
          null,
          null,
          null,
          null,
          null,
          null,
          null,
          null,
          null,
          null,
          null,
          null,
          null,
          null,
          null,
          null,
          null,
          null,
          null,
          null,
          null,
          null,
          null,
          null,
          null,
          null,
          null,
          null,
          null,
          null,
          null,
          null,
          null,
          null,
          null,
          null,
          null,
          null,
          null,
          null,
          null,
          null,
          null,
          null,
          null,
          null,
          null,
          null,
          null,
          null,
          null,
          null,
          null,
          null,
          null,
          null,
          null,
          null,
          null,
          null,
          null,
          null,
          null,
          null,
          null,
          null,
          null,
          null,
          null,
          null,
          null,
          null,
          null,
          null,
          null,
          null,
          null,
          null,
          null,
          null,
          null,
          null,
          null,
          null,
          null,
          null,
          null,
          null,
          null,
          null,
          null,
          null,
          null,
          null,
          null,
          null,
          null,
          null,
          null,
          null,
          null,
          null,
          null,
          null,
          null,
          null,
          null,
          null,
          null,
          null,
          null,
          null,
          null,
          null,
          null,
          null,
          null,
          null,
          null,
          null,
          null,
          null,
          null,
          null,
          null,
          null,
          null,
          null,
          null,
          null,
          null,
          null,
          null,
          null,
          null,
          null,
          null,
          null,
          null,
          null,
          null,
          null,
          null,
          null,
          null,
          null,
          null,
          null,
          null,
          null,
          null,
          null,
          null,
          null,
          null,
          null,
          null,
          null,
          null,
          null,
          null,
          null,
          null,
          null,
          null,
          null,
          null,
          null,
          null,
          null,
          null,
          null,
          null,
          null,
          null,
          null,
          null,
          null,
          null,
          null,
          null,
          null,
          null,
          null,
          null,
          null,
          null,
          null,
          null,
          null,
          null,
          null,
          null,
          null,
          null,
          null,
          null,
          null,
          null,
          null,
          null,
          null,
          null,
          null,
          null,
          null,
          null,
          null,
          null,
          null,
          null,
          null,
          null,
          null,
          null,
          null,
          null,
          null,
          null,
          null,
          null,
          null,
          null,
          null,
          null,
          null,
          null,
          null,
          null,
          null,
          null,
          null,
          null,
          null,
          0,
          0.007414542996553663,
          3.311851618825448,
          4.9291152232724205,
          6.4394731542112025,
          7.692924001110617,
          8.750502788044523,
          9.909692767381038,
          9.874096270645325,
          10.470165292020312,
          10.3833057499375,
          9.730652983081077,
          9.010173981779882,
          8.085358319127558,
          6.833406852298044,
          5.060961026895818,
          3.514724551675382,
          2.1293221348801623,
          0.4946267242650275,
          -1.4717985547059822,
          -3.4645283273785132,
          -4.86930863605408,
          -6.4004608939007746,
          -7.568323614461787,
          -8.6960519080867,
          -9.782763908521648,
          -10.131341432994313,
          -10.008192762682492,
          -10.305929847470429,
          -9.744467648410652,
          -9.036017894500386,
          -8.140396775525128,
          -6.285920577376519,
          -5.60231876734879,
          -3.4650914987918107,
          -2.1249724663150866,
          -0.1946899525149397,
          1.158062549000604,
          3.4369310251869805,
          4.92798775424763,
          6.135630384645655,
          7.657206469111922,
          8.901156532826793,
          9.301952818631754,
          9.956155832623443,
          10.539578273686862,
          10.004953577593628,
          9.847056179856668,
          8.575666032936605,
          8.172848522902289,
          6.961908968416985,
          5.207639883506474,
          3.7239769897332438,
          1.7426463547247955,
          0.4019734006177591,
          -1.5644514291914813,
          -3.289735952914099,
          -4.6904308811844855,
          -6.4732579655353915,
          -7.708923872217671,
          -8.97715955664396,
          -9.460814461782839,
          -10.012184156182936,
          -10.31822276277778,
          -10.032516257218413,
          -9.348540441175267,
          -9.117776965031302,
          -8.188488237388306,
          -6.47929671988076,
          -5.555634120874945,
          -3.715879378073101,
          -2.0724803507691383,
          -0.35436639522138647,
          1.7312148149712634,
          3.1676294177580706,
          4.570388978093446,
          6.362596702564079,
          7.903913401676576,
          8.74183694098025,
          9.431384969234394,
          10.017635814906683,
          10.173577856116985,
          10.350717708030048,
          9.568683050533718,
          8.678554645594815,
          8.40163032401238,
          6.683649219355116,
          5.075530719529688,
          3.619053229006351,
          2.0248480729235663,
          0.5188066645711196,
          -1.7249800692826738,
          -3.222676568976883,
          -4.597793334149849,
          -6.969332946382309,
          -7.686652124694031,
          -8.850230716998995,
          -9.392951463858367,
          -10.280727968225655,
          -9.89458465191066,
          -10.50517442824775,
          -9.838725283246522,
          -8.70066836944263,
          -8.283279958603247,
          -6.41735238061662,
          -5.271961504937269,
          -3.8632001445433968,
          -1.6219017320038889,
          -0.8277449188720032,
          1.9524925172774497,
          3.2314810903431157,
          5.072244543247459,
          6.288726523401216,
          7.595667921856981,
          9.026975263043363,
          9.043986444987347,
          10.104634865986693,
          10.459643526016716,
          10.19402568709303,
          9.696453512972527,
          8.684271305941298,
          8.159630469096623,
          6.3353561508250245,
          5.248656389208204,
          3.7646711873328496,
          2.0696244991363972,
          -0.04330748563823561,
          -1.7383258739200036,
          -3.088093493555694,
          -4.810695950126378,
          -6.565394581717091,
          -7.487143011835862,
          -9.08722638081924,
          -9.293192314876693,
          -10.038682359829595,
          -10.682744854992102,
          -10.036247111565668,
          -9.484979899854107,
          -8.990876341802883,
          -8.192873037027786,
          -6.767192047115369,
          -5.134523625466326,
          -3.756679379968241,
          -1.9237148816141776,
          -0.2883886692762154,
          1.6683106569457378,
          3.451009470372776,
          4.944639365754578,
          6.050842036999778,
          7.747759367771485,
          8.804339607054398,
          9.545591922557389,
          9.840183596119788,
          10.477221722674887,
          10.246967816583041,
          9.567627909967273,
          9.012900041429505,
          8.192013239691228,
          6.736448417360914,
          5.080634546238647,
          3.7678715045730105,
          2.0333927880975633,
          0.10059858781536324,
          -1.6433723949942656,
          -3.054531725964271,
          -5.120162102067233,
          -6.38955654624791,
          -7.6838431849467215,
          -8.994489444467137,
          -9.409236610710957,
          -10.226371522740523,
          -10.380102582563131,
          -9.97498316418797,
          -9.841845637712018,
          -8.87456452446802,
          -7.863215920547802,
          -7.269834929507704,
          -5.021942405215679,
          -3.568979300936343,
          -1.9411360139526708,
          -0.6047452044110047,
          1.7407717357923556,
          3.2837767902688624,
          5.178269662489205,
          6.136449844352303,
          7.619556234828312,
          8.921502789184386,
          9.526375883247026,
          9.98565643512512,
          10.008417176118837,
          10.29676396625061,
          9.521421005713362,
          9.221366934635551,
          7.851645126963748,
          6.45911536588997,
          5.147652352104291,
          3.9678304954459547,
          1.704499588841722,
          0.3677019253580103,
          -1.2767814735809786,
          -3.393299197480628,
          -4.989107228082057,
          -6.294482010921035,
          -7.695706830302986,
          -8.57627243323833,
          -9.703067616702839,
          -9.98389526039362,
          -10.09073198812597,
          -10.241136284905606,
          -9.519930903118164,
          -9.011794167746588,
          -7.98149155384503,
          -6.574149877486375,
          -5.329332431952594,
          -3.7451067862757537,
          -2.418887558107695,
          -0.05931090879735579,
          1.8764735908934278,
          2.9221675182434046,
          5.151939399383228,
          6.209645893268108,
          7.9745984807674795,
          8.536681182962084,
          9.486214013159998,
          10.081708868466562,
          10.466268625004695,
          9.666949609398092,
          9.610322755302828,
          9.219190028572754,
          7.7048221400704975,
          7.08764169419544,
          4.9866009551901715,
          3.251520735699925,
          2.2315009090759754,
          -0.028930312294910943,
          -1.5458342363004092,
          -3.1770287646253186,
          -5.2990910175902055,
          -6.397908486823365,
          -7.678998535192505,
          -8.823885206334609,
          -9.415443029684125,
          -9.893467785256664,
          -10.178546149561901,
          -10.09640089352164,
          -10.097641787535427,
          -8.70253483099916,
          -8.079575166776944,
          -6.645229091364968,
          -5.08761661848953,
          -3.8476709544308476,
          -1.8632699174478904,
          -0.4765175091618987,
          1.4716365459501175,
          3.358351150109004,
          4.78606830552763,
          6.558043319539707,
          7.50346857655996,
          8.931895599854293,
          9.729004772702849,
          10.421514629087872,
          9.96447478960951,
          10.054870693862238,
          9.775712817464,
          9.144737847616394,
          8.314331907293285,
          7.037171579162925,
          5.071805636145248,
          3.8849777681011695,
          2.0150992353368027,
          0.07881583147321058,
          -1.590941222650493,
          -3.031719990829072,
          -5.305209836969227,
          -6.034838803321671,
          -7.945693758476262,
          -8.583457415046091,
          -9.548041432648338,
          -10.098647164377015,
          -9.609929848625098,
          -10.438097810638213,
          -9.646899011331675,
          -8.805652614964028,
          -7.900019093805507,
          -6.84738960338613,
          -5.266511261585294,
          -3.686933808444685,
          -2.0358999363911585,
          -0.5100070814294715,
          1.914460814986783,
          3.1582877520121855,
          5.001727687732062,
          6.753088567341152,
          7.7614843818243955,
          8.847811367205853,
          9.448832558808313,
          9.976375875982496,
          10.316802461873465,
          9.940587322865458,
          9.490030920109003,
          9.103401252606002,
          8.171624611590662,
          6.508249300143277,
          5.648052445161898,
          3.4539263757164593,
          1.8862728784318694,
          0.4229565487386229,
          -1.3356577538804988,
          -3.4988932128573795,
          -4.8374286885469635,
          -6.7729486802008845,
          -7.853796628423277,
          -8.726949286183858,
          -9.488642166277,
          -9.741181713501977,
          -10.580430649798606,
          -9.867780416542326,
          -9.891546307188044,
          -9.098970068171866,
          -8.105344512948337,
          -6.803527983545854,
          -4.990834383268426,
          -3.642992624805114,
          -1.5689265904983234,
          -0.3584951079006473,
          1.6069188541010213,
          3.4653043042827236,
          4.877688622961934,
          6.570060070097254,
          7.612180664975809,
          8.780550310983084,
          9.519890746116253,
          9.967818543575188,
          10.34946704956202,
          10.093402742553678,
          10.012674879131845,
          8.714670037527005,
          7.568218808262561,
          7.0817422070650204,
          5.259214663878947,
          3.926126538639009,
          1.8473645450364211,
          0.35069886475082956,
          -1.7675630461277279,
          -3.2022661109215695,
          -5.013952292580393,
          -6.424955937103813,
          -7.502662444776346,
          -8.688298460855362,
          -9.757928232748512,
          -9.844959050467937,
          -10.550174201612643,
          -9.932338839540499,
          -9.416169525802191,
          -9.03266151873794,
          -8.05740950214361,
          -6.776699157147209,
          -5.047567151761195,
          -3.9271655470345412,
          -1.7754591312877743,
          -0.4139830385919119,
          1.6963155201991285,
          2.930385733642593,
          4.8538999959556905,
          6.5600164008907065,
          7.5764488610521585,
          8.751751448339471,
          9.469871184501386,
          10.081323231414565,
          10.462795579961252,
          9.71014516131851,
          9.589883098907743,
          9.044468526894544,
          8.120287193329533,
          6.769640550050456,
          5.7497700769778275,
          3.2806900706724047,
          2.005095280876911,
          0.1713701695113372,
          -1.4518103070045756,
          -3.269398989597014,
          -4.7625943414797725,
          -6.648256126889677,
          -7.933633185302966,
          -8.876018782123094,
          -9.391816701028556,
          -9.669678457394491,
          -10.331770979474285,
          -10.081494383165277,
          -9.54619415085206,
          -9.174092712352278,
          -7.909461255099681,
          -6.771777054985218,
          -5.1468661858742095,
          -4.069717884679858,
          -1.251612616953754,
          -0.6984667862657936,
          1.649501558707847,
          3.371831756555796
         ],
         "yaxis": "y"
        }
       ],
       "layout": {
        "autosize": true,
        "legend": {
         "title": {
          "text": "variable"
         },
         "tracegroupgap": 0
        },
        "margin": {
         "t": 60
        },
        "template": {
         "data": {
          "bar": [
           {
            "error_x": {
             "color": "#2a3f5f"
            },
            "error_y": {
             "color": "#2a3f5f"
            },
            "marker": {
             "line": {
              "color": "#E5ECF6",
              "width": 0.5
             },
             "pattern": {
              "fillmode": "overlay",
              "size": 10,
              "solidity": 0.2
             }
            },
            "type": "bar"
           }
          ],
          "barpolar": [
           {
            "marker": {
             "line": {
              "color": "#E5ECF6",
              "width": 0.5
             },
             "pattern": {
              "fillmode": "overlay",
              "size": 10,
              "solidity": 0.2
             }
            },
            "type": "barpolar"
           }
          ],
          "carpet": [
           {
            "aaxis": {
             "endlinecolor": "#2a3f5f",
             "gridcolor": "white",
             "linecolor": "white",
             "minorgridcolor": "white",
             "startlinecolor": "#2a3f5f"
            },
            "baxis": {
             "endlinecolor": "#2a3f5f",
             "gridcolor": "white",
             "linecolor": "white",
             "minorgridcolor": "white",
             "startlinecolor": "#2a3f5f"
            },
            "type": "carpet"
           }
          ],
          "choropleth": [
           {
            "colorbar": {
             "outlinewidth": 0,
             "ticks": ""
            },
            "type": "choropleth"
           }
          ],
          "contour": [
           {
            "colorbar": {
             "outlinewidth": 0,
             "ticks": ""
            },
            "colorscale": [
             [
              0,
              "#0d0887"
             ],
             [
              0.1111111111111111,
              "#46039f"
             ],
             [
              0.2222222222222222,
              "#7201a8"
             ],
             [
              0.3333333333333333,
              "#9c179e"
             ],
             [
              0.4444444444444444,
              "#bd3786"
             ],
             [
              0.5555555555555556,
              "#d8576b"
             ],
             [
              0.6666666666666666,
              "#ed7953"
             ],
             [
              0.7777777777777778,
              "#fb9f3a"
             ],
             [
              0.8888888888888888,
              "#fdca26"
             ],
             [
              1,
              "#f0f921"
             ]
            ],
            "type": "contour"
           }
          ],
          "contourcarpet": [
           {
            "colorbar": {
             "outlinewidth": 0,
             "ticks": ""
            },
            "type": "contourcarpet"
           }
          ],
          "heatmap": [
           {
            "colorbar": {
             "outlinewidth": 0,
             "ticks": ""
            },
            "colorscale": [
             [
              0,
              "#0d0887"
             ],
             [
              0.1111111111111111,
              "#46039f"
             ],
             [
              0.2222222222222222,
              "#7201a8"
             ],
             [
              0.3333333333333333,
              "#9c179e"
             ],
             [
              0.4444444444444444,
              "#bd3786"
             ],
             [
              0.5555555555555556,
              "#d8576b"
             ],
             [
              0.6666666666666666,
              "#ed7953"
             ],
             [
              0.7777777777777778,
              "#fb9f3a"
             ],
             [
              0.8888888888888888,
              "#fdca26"
             ],
             [
              1,
              "#f0f921"
             ]
            ],
            "type": "heatmap"
           }
          ],
          "heatmapgl": [
           {
            "colorbar": {
             "outlinewidth": 0,
             "ticks": ""
            },
            "colorscale": [
             [
              0,
              "#0d0887"
             ],
             [
              0.1111111111111111,
              "#46039f"
             ],
             [
              0.2222222222222222,
              "#7201a8"
             ],
             [
              0.3333333333333333,
              "#9c179e"
             ],
             [
              0.4444444444444444,
              "#bd3786"
             ],
             [
              0.5555555555555556,
              "#d8576b"
             ],
             [
              0.6666666666666666,
              "#ed7953"
             ],
             [
              0.7777777777777778,
              "#fb9f3a"
             ],
             [
              0.8888888888888888,
              "#fdca26"
             ],
             [
              1,
              "#f0f921"
             ]
            ],
            "type": "heatmapgl"
           }
          ],
          "histogram": [
           {
            "marker": {
             "pattern": {
              "fillmode": "overlay",
              "size": 10,
              "solidity": 0.2
             }
            },
            "type": "histogram"
           }
          ],
          "histogram2d": [
           {
            "colorbar": {
             "outlinewidth": 0,
             "ticks": ""
            },
            "colorscale": [
             [
              0,
              "#0d0887"
             ],
             [
              0.1111111111111111,
              "#46039f"
             ],
             [
              0.2222222222222222,
              "#7201a8"
             ],
             [
              0.3333333333333333,
              "#9c179e"
             ],
             [
              0.4444444444444444,
              "#bd3786"
             ],
             [
              0.5555555555555556,
              "#d8576b"
             ],
             [
              0.6666666666666666,
              "#ed7953"
             ],
             [
              0.7777777777777778,
              "#fb9f3a"
             ],
             [
              0.8888888888888888,
              "#fdca26"
             ],
             [
              1,
              "#f0f921"
             ]
            ],
            "type": "histogram2d"
           }
          ],
          "histogram2dcontour": [
           {
            "colorbar": {
             "outlinewidth": 0,
             "ticks": ""
            },
            "colorscale": [
             [
              0,
              "#0d0887"
             ],
             [
              0.1111111111111111,
              "#46039f"
             ],
             [
              0.2222222222222222,
              "#7201a8"
             ],
             [
              0.3333333333333333,
              "#9c179e"
             ],
             [
              0.4444444444444444,
              "#bd3786"
             ],
             [
              0.5555555555555556,
              "#d8576b"
             ],
             [
              0.6666666666666666,
              "#ed7953"
             ],
             [
              0.7777777777777778,
              "#fb9f3a"
             ],
             [
              0.8888888888888888,
              "#fdca26"
             ],
             [
              1,
              "#f0f921"
             ]
            ],
            "type": "histogram2dcontour"
           }
          ],
          "mesh3d": [
           {
            "colorbar": {
             "outlinewidth": 0,
             "ticks": ""
            },
            "type": "mesh3d"
           }
          ],
          "parcoords": [
           {
            "line": {
             "colorbar": {
              "outlinewidth": 0,
              "ticks": ""
             }
            },
            "type": "parcoords"
           }
          ],
          "pie": [
           {
            "automargin": true,
            "type": "pie"
           }
          ],
          "scatter": [
           {
            "fillpattern": {
             "fillmode": "overlay",
             "size": 10,
             "solidity": 0.2
            },
            "type": "scatter"
           }
          ],
          "scatter3d": [
           {
            "line": {
             "colorbar": {
              "outlinewidth": 0,
              "ticks": ""
             }
            },
            "marker": {
             "colorbar": {
              "outlinewidth": 0,
              "ticks": ""
             }
            },
            "type": "scatter3d"
           }
          ],
          "scattercarpet": [
           {
            "marker": {
             "colorbar": {
              "outlinewidth": 0,
              "ticks": ""
             }
            },
            "type": "scattercarpet"
           }
          ],
          "scattergeo": [
           {
            "marker": {
             "colorbar": {
              "outlinewidth": 0,
              "ticks": ""
             }
            },
            "type": "scattergeo"
           }
          ],
          "scattergl": [
           {
            "marker": {
             "colorbar": {
              "outlinewidth": 0,
              "ticks": ""
             }
            },
            "type": "scattergl"
           }
          ],
          "scattermapbox": [
           {
            "marker": {
             "colorbar": {
              "outlinewidth": 0,
              "ticks": ""
             }
            },
            "type": "scattermapbox"
           }
          ],
          "scatterpolar": [
           {
            "marker": {
             "colorbar": {
              "outlinewidth": 0,
              "ticks": ""
             }
            },
            "type": "scatterpolar"
           }
          ],
          "scatterpolargl": [
           {
            "marker": {
             "colorbar": {
              "outlinewidth": 0,
              "ticks": ""
             }
            },
            "type": "scatterpolargl"
           }
          ],
          "scatterternary": [
           {
            "marker": {
             "colorbar": {
              "outlinewidth": 0,
              "ticks": ""
             }
            },
            "type": "scatterternary"
           }
          ],
          "surface": [
           {
            "colorbar": {
             "outlinewidth": 0,
             "ticks": ""
            },
            "colorscale": [
             [
              0,
              "#0d0887"
             ],
             [
              0.1111111111111111,
              "#46039f"
             ],
             [
              0.2222222222222222,
              "#7201a8"
             ],
             [
              0.3333333333333333,
              "#9c179e"
             ],
             [
              0.4444444444444444,
              "#bd3786"
             ],
             [
              0.5555555555555556,
              "#d8576b"
             ],
             [
              0.6666666666666666,
              "#ed7953"
             ],
             [
              0.7777777777777778,
              "#fb9f3a"
             ],
             [
              0.8888888888888888,
              "#fdca26"
             ],
             [
              1,
              "#f0f921"
             ]
            ],
            "type": "surface"
           }
          ],
          "table": [
           {
            "cells": {
             "fill": {
              "color": "#EBF0F8"
             },
             "line": {
              "color": "white"
             }
            },
            "header": {
             "fill": {
              "color": "#C8D4E3"
             },
             "line": {
              "color": "white"
             }
            },
            "type": "table"
           }
          ]
         },
         "layout": {
          "annotationdefaults": {
           "arrowcolor": "#2a3f5f",
           "arrowhead": 0,
           "arrowwidth": 1
          },
          "autotypenumbers": "strict",
          "coloraxis": {
           "colorbar": {
            "outlinewidth": 0,
            "ticks": ""
           }
          },
          "colorscale": {
           "diverging": [
            [
             0,
             "#8e0152"
            ],
            [
             0.1,
             "#c51b7d"
            ],
            [
             0.2,
             "#de77ae"
            ],
            [
             0.3,
             "#f1b6da"
            ],
            [
             0.4,
             "#fde0ef"
            ],
            [
             0.5,
             "#f7f7f7"
            ],
            [
             0.6,
             "#e6f5d0"
            ],
            [
             0.7,
             "#b8e186"
            ],
            [
             0.8,
             "#7fbc41"
            ],
            [
             0.9,
             "#4d9221"
            ],
            [
             1,
             "#276419"
            ]
           ],
           "sequential": [
            [
             0,
             "#0d0887"
            ],
            [
             0.1111111111111111,
             "#46039f"
            ],
            [
             0.2222222222222222,
             "#7201a8"
            ],
            [
             0.3333333333333333,
             "#9c179e"
            ],
            [
             0.4444444444444444,
             "#bd3786"
            ],
            [
             0.5555555555555556,
             "#d8576b"
            ],
            [
             0.6666666666666666,
             "#ed7953"
            ],
            [
             0.7777777777777778,
             "#fb9f3a"
            ],
            [
             0.8888888888888888,
             "#fdca26"
            ],
            [
             1,
             "#f0f921"
            ]
           ],
           "sequentialminus": [
            [
             0,
             "#0d0887"
            ],
            [
             0.1111111111111111,
             "#46039f"
            ],
            [
             0.2222222222222222,
             "#7201a8"
            ],
            [
             0.3333333333333333,
             "#9c179e"
            ],
            [
             0.4444444444444444,
             "#bd3786"
            ],
            [
             0.5555555555555556,
             "#d8576b"
            ],
            [
             0.6666666666666666,
             "#ed7953"
            ],
            [
             0.7777777777777778,
             "#fb9f3a"
            ],
            [
             0.8888888888888888,
             "#fdca26"
            ],
            [
             1,
             "#f0f921"
            ]
           ]
          },
          "colorway": [
           "#636efa",
           "#EF553B",
           "#00cc96",
           "#ab63fa",
           "#FFA15A",
           "#19d3f3",
           "#FF6692",
           "#B6E880",
           "#FF97FF",
           "#FECB52"
          ],
          "font": {
           "color": "#2a3f5f"
          },
          "geo": {
           "bgcolor": "white",
           "lakecolor": "white",
           "landcolor": "#E5ECF6",
           "showlakes": true,
           "showland": true,
           "subunitcolor": "white"
          },
          "hoverlabel": {
           "align": "left"
          },
          "hovermode": "closest",
          "mapbox": {
           "style": "light"
          },
          "paper_bgcolor": "white",
          "plot_bgcolor": "#E5ECF6",
          "polar": {
           "angularaxis": {
            "gridcolor": "white",
            "linecolor": "white",
            "ticks": ""
           },
           "bgcolor": "#E5ECF6",
           "radialaxis": {
            "gridcolor": "white",
            "linecolor": "white",
            "ticks": ""
           }
          },
          "scene": {
           "xaxis": {
            "backgroundcolor": "#E5ECF6",
            "gridcolor": "white",
            "gridwidth": 2,
            "linecolor": "white",
            "showbackground": true,
            "ticks": "",
            "zerolinecolor": "white"
           },
           "yaxis": {
            "backgroundcolor": "#E5ECF6",
            "gridcolor": "white",
            "gridwidth": 2,
            "linecolor": "white",
            "showbackground": true,
            "ticks": "",
            "zerolinecolor": "white"
           },
           "zaxis": {
            "backgroundcolor": "#E5ECF6",
            "gridcolor": "white",
            "gridwidth": 2,
            "linecolor": "white",
            "showbackground": true,
            "ticks": "",
            "zerolinecolor": "white"
           }
          },
          "shapedefaults": {
           "line": {
            "color": "#2a3f5f"
           }
          },
          "ternary": {
           "aaxis": {
            "gridcolor": "white",
            "linecolor": "white",
            "ticks": ""
           },
           "baxis": {
            "gridcolor": "white",
            "linecolor": "white",
            "ticks": ""
           },
           "bgcolor": "#E5ECF6",
           "caxis": {
            "gridcolor": "white",
            "linecolor": "white",
            "ticks": ""
           }
          },
          "title": {
           "x": 0.05
          },
          "xaxis": {
           "automargin": true,
           "gridcolor": "white",
           "linecolor": "white",
           "ticks": "",
           "title": {
            "standoff": 15
           },
           "zerolinecolor": "white",
           "zerolinewidth": 2
          },
          "yaxis": {
           "automargin": true,
           "gridcolor": "white",
           "linecolor": "white",
           "ticks": "",
           "title": {
            "standoff": 15
           },
           "zerolinecolor": "white",
           "zerolinewidth": 2
          }
         }
        },
        "xaxis": {
         "anchor": "y",
         "autorange": true,
         "domain": [
          0,
          1
         ],
         "range": [
          0,
          399
         ],
         "title": {
          "text": "index"
         },
         "type": "linear"
        },
        "yaxis": {
         "anchor": "x",
         "autorange": true,
         "domain": [
          0,
          1
         ],
         "range": [
          -11.861762806585377,
          11.718596225280137
         ],
         "title": {
          "text": "value"
         },
         "type": "linear"
        }
       }
      },
      "image/png": "[encoded data removed]",
      "text/html": [
       "<div>                            <div id=\"d18ab33a-8bdf-4935-9644-10ad57353c83\" class=\"plotly-graph-div\" style=\"height:525px; width:100%;\"></div>            <script type=\"text/javascript\">                require([\"plotly\"], function(Plotly) {                    window.PLOTLYENV=window.PLOTLYENV || {};                                    if (document.getElementById(\"d18ab33a-8bdf-4935-9644-10ad57353c83\")) {                    Plotly.newPlot(                        \"d18ab33a-8bdf-4935-9644-10ad57353c83\",                        [{\"hovertemplate\":\"variable=x0<br>index=%{x}<br>value=%{y}<extra></extra>\",\"legendgroup\":\"x0\",\"line\":{\"color\":\"#636efa\",\"dash\":\"solid\"},\"marker\":{\"symbol\":\"circle\"},\"mode\":\"lines\",\"name\":\"x0\",\"showlegend\":true,\"x\":[0,1,2,3,4,5,6,7,8,9,10,11,12,13,14,15,16,17,18,19,20,21,22,23,24,25,26,27,28,29,30,31,32,33,34,35,36,37,38,39,40,41,42,43,44,45,46,47,48,49,50,51,52,53,54,55,56,57,58,59,60,61,62,63,64,65,66,67,68,69,70,71,72,73,74,75,76,77,78,79,80,81,82,83,84,85,86,87,88,89,90,91,92,93,94,95,96,97,98,99,100,101,102,103,104,105,106,107,108,109,110,111,112,113,114,115,116,117,118,119,120,121,122,123,124,125,126,127,128,129,130,131,132,133,134,135,136,137,138,139,140,141,142,143,144,145,146,147,148,149,150,151,152,153,154,155,156,157,158,159,160,161,162,163,164,165,166,167,168,169,170,171,172,173,174,175,176,177,178,179,180,181,182,183,184,185,186,187,188,189,190,191,192,193,194,195,196,197,198,199,200,201,202,203,204,205,206,207,208,209,210,211,212,213,214,215,216,217,218,219,220,221,222,223,224,225,226,227,228,229,230,231,232,233,234,235,236,237,238,239,240,241,242,243,244,245,246,247,248,249,250,251,252,253,254,255,256,257,258,259,260,261,262,263,264,265,266,267,268,269,270,271,272,273,274,275,276,277,278,279,280,281,282,283,284,285,286,287,288,289,290,291,292,293,294,295,296,297,298,299,300,301,302,303,304,305,306,307,308,309,310,311,312,313,314,315,316,317,318,319,320,321,322,323,324,325,326,327,328,329,330,331,332,333,334,335,336,337,338,339,340,341,342,343,344,345,346,347,348,349,350,351,352,353,354,355,356,357,358,359,360,361,362,363,364,365,366,367,368,369,370,371,372,373,374,375,376,377,378,379,380,381,382,383,384,385,386,387,388,389,390,391,392,393,394,395,396,397,398,399,0,1,2,3,4,5,6,7,8,9,10,11,12,13,14,15,16,17,18,19,20,21,22,23,24,25,26,27,28,29,30,31,32,33,34,35,36,37,38,39,40,41,42,43,44,45,46,47,48,49,50,51,52,53,54,55,56,57,58,59,60,61,62,63,64,65,66,67,68,69,70,71,72,73,74,75,76,77,78,79,80,81,82,83,84,85,86,87,88,89,90,91,92,93,94,95,96,97,98,99,100,101,102,103,104,105,106,107,108,109,110,111,112,113,114,115,116,117,118,119,120,121,122,123,124,125,126,127,128,129,130,131,132,133,134,135,136,137,138,139,140,141,142,143,144,145,146,147,148,149,150,151,152,153,154,155,156,157,158,159,160,161,162,163,164,165,166,167,168,169,170,171,172,173,174,175,176,177,178,179,180,181,182,183,184,185,186,187,188,189,190,191,192,193,194,195,196,197,198,199,200,201,202,203,204,205,206,207,208,209,210,211,212,213,214,215,216,217,218,219,220,221,222,223,224,225,226,227,228,229,230,231,232,233,234,235,236,237,238,239,240,241,242,243,244,245,246,247,248,249,250,251,252,253,254,255,256,257,258,259,260,261,262,263,264,265,266,267,268,269,270,271,272,273,274,275,276,277,278,279,280,281,282,283,284,285,286,287,288,289,290,291,292,293,294,295,296,297,298,299,300,301,302,303,304,305,306,307,308,309,310,311,312,313,314,315,316,317,318,319,320,321,322,323,324,325,326,327,328,329,330,331,332,333,334,335,336,337,338,339,340,341,342,343,344,345,346,347,348,349,350,351,352,353,354,355,356,357,358,359,360,361,362,363,364,365,366,367,368,369,370,371,372,373,374,375,376,377,378,379,380,381,382,383,384,385,386,387,388,389,390,391,392,393,394,395,396,397,398],\"xaxis\":\"x\",\"y\":[0.0,1.7364817766693033,3.420201433256687,4.999999999999999,6.4278760968653925,7.66044443118978,8.660254037844386,9.396926207859083,9.84807753012208,10.0,9.84807753012208,9.396926207859085,8.660254037844387,7.66044443118978,6.427876096865395,5.0000000000000036,3.420201433256689,1.736481776669307,1.2246467991473533e-15,-1.7364817766693048,-3.4202014332566866,-5.000000000000001,-6.4278760968653925,-7.660444431189779,-8.660254037844384,-9.396926207859085,-9.84807753012208,-10.0,-9.848077530122081,-9.396926207859083,-8.66025403784439,-7.660444431189781,-6.427876096865396,-5.000000000000012,-3.420201433256694,-1.736481776669304,-2.4492935982947065e-15,1.736481776669299,3.4202014332566892,5.000000000000008,6.427876096865392,7.660444431189778,8.660254037844389,9.396926207859085,9.84807753012208,10.0,9.848077530122081,9.39692620785908,8.66025403784439,7.660444431189788,6.42787609686539,5.000000000000013,3.420201433256687,1.736481776669305,3.673940397442059e-15,-1.7364817766692977,-3.42020143325668,-4.999999999999992,-6.427876096865398,-7.660444431189771,-8.660254037844378,-9.396926207859078,-9.84807753012208,-10.0,-9.848077530122081,-9.396926207859082,-8.6602540378444,-7.660444431189777,-6.427876096865405,-4.999999999999999,-3.4202014332566884,-1.7364817766693064,-4.898587196589413e-15,1.7364817766692966,3.420201433256679,5.000000000000005,6.427876096865397,7.66044443118977,8.660254037844396,9.396926207859078,9.84807753012208,10.0,9.848077530122083,9.396926207859082,8.660254037844384,7.660444431189789,6.427876096865392,5.000000000000016,3.4202014332566892,1.7364817766693075,6.123233995736766e-15,-1.7364817766692955,-3.4202014332566777,-4.999999999999989,-6.427876096865409,-7.660444431189792,-8.660254037844377,-9.396926207859076,-9.848077530122076,-10.0,-9.84807753012208,-9.396926207859082,-8.660254037844402,-7.660444431189801,-6.4278760968653925,-5.000000000000001,-3.4202014332566906,-1.7364817766693086,-7.347880794884118e-15,1.736481776669259,3.4202014332566764,4.9999999999999885,6.427876096865381,7.660444431189769,8.660254037844377,9.396926207859076,9.848077530122083,10.0,9.848077530122087,9.396926207859082,8.660254037844403,7.660444431189779,6.42787609686542,5.000000000000002,3.4202014332566915,1.736481776669345,8.572527594031473e-15,-1.736481776669328,-3.4202014332566755,-4.999999999999988,-6.427876096865408,-7.660444431189768,-8.660254037844359,-9.396926207859076,-9.848077530122083,-10.0,-9.848077530122087,-9.396926207859082,-8.660254037844386,-7.66044443118978,-6.427876096865395,-5.0000000000000036,-3.420201433256693,-1.736481776669346,-9.797174393178826e-15,1.736481776669327,3.4202014332566746,4.999999999999986,6.427876096865379,7.660444431189768,8.660254037844394,9.396926207859075,9.848077530122083,10.0,9.848077530122087,9.396926207859083,8.660254037844368,7.660444431189781,6.427876096865423,5.0000000000000355,3.4202014332566937,1.7364817766693124,1.1021821192326179e-14,-1.7364817766692906,-3.4202014332566733,-4.999999999999985,-6.427876096865406,-7.660444431189767,-8.660254037844393,-9.396926207859075,-9.848077530122076,-10.0,-9.84807753012208,-9.396926207859083,-8.660254037844403,-7.660444431189781,-6.427876096865396,-5.0000000000000355,-3.420201433256695,-1.7364817766692786,-1.2246467991473532e-14,1.7364817766692544,3.420201433256672,4.999999999999984,6.427876096865378,7.660444431189789,8.660254037844373,9.396926207859087,9.848077530122088,10.0,9.848077530122074,9.396926207859083,8.660254037844405,7.660444431189783,6.4278760968654245,5.0000000000000675,3.420201433256729,1.7364817766693146,-2.2056021997384124e-14,-1.7364817766692884,-3.4202014332567043,-4.999999999999983,-6.427876096865404,-7.660444431189765,-8.660254037844355,-9.396926207859075,-9.848077530122069,-10.0,-9.84807753012208,-9.396926207859073,-8.660254037844389,-7.66044443118976,-6.427876096865398,-4.999999999999977,-3.4202014332566972,-1.736481776669351,-1.4695761589768237e-14,1.736481776669252,3.4202014332566026,4.999999999999951,6.427876096865376,7.660444431189787,8.660254037844373,9.396926207859087,9.848077530122074,10.0,9.848077530122087,9.396926207859085,8.660254037844407,7.6604444311898305,6.427876096865427,4.999999999999947,3.420201433256665,1.7364817766693172,-1.9606728399089415e-14,-1.7364817766692857,-3.420201433256635,-5.000000000000043,-6.427876096865402,-7.660444431189763,-8.660254037844355,-9.39692620785905,-9.848077530122081,-10.0,-9.848077530122094,-9.396926207859073,-8.660254037844389,-7.6604444311898074,-6.4278760968654005,-5.00000000000004,-3.4202014332567665,-1.7364817766692833,-1.7145055188062946e-14,1.7364817766692497,3.420201433256734,5.000000000000011,6.427876096865374,7.660444431189786,8.660254037844371,9.396926207859085,9.848077530122087,10.0,9.848077530122087,9.39692620785911,8.660254037844442,7.660444431189786,6.427876096865428,4.9999999999999485,3.420201433256667,1.7364817766693197,5.3896838775215307e-14,-1.7364817766692833,-3.420201433256633,-4.999999999999917,-6.4278760968654005,-7.660444431189762,-8.660254037844389,-9.396926207859096,-9.84807753012208,-10.0,-9.848077530122081,-9.396926207859098,-8.66025403784439,-7.660444431189763,-6.427876096865402,-5.000000000000043,-3.4202014332567687,-1.7364817766692857,-1.9594348786357652e-14,1.7364817766692473,3.4202014332567323,5.000000000000009,6.427876096865372,7.660444431189738,8.660254037844371,9.39692620785906,9.848077530122074,10.0,9.848077530122088,9.396926207859087,8.660254037844373,7.660444431189787,6.427876096865431,5.000000000000012,3.42020143325667,1.736481776669322,-1.4708141202500006e-14,-1.736481776669281,-3.4202014332566306,-4.999999999999915,-6.427876096865398,-7.66044443118976,-8.660254037844425,-9.396926207859096,-9.84807753012208,-10.0,-9.848077530122094,-9.3969262078591,-8.660254037844426,-7.660444431189811,-6.427876096865404,-4.999999999999983,-3.4202014332567043,-1.7364817766692884,-2.2043642384652358e-14,1.7364817766692449,3.4202014332566626,5.000000000000007,6.42787609686537,7.660444431189783,8.66025403784437,9.396926207859059,9.848077530122087,10.0,9.848077530122088,9.396926207859062,8.660254037844373,7.660444431189789,6.4278760968654325,5.000000000000076,3.4202014332567385,1.7364817766693244,5.879542597180471e-14,-1.7364817766692786,-3.420201433256695,-4.999999999999974,-6.427876096865396,-7.6604444311897595,-8.66025403784435,-9.396926207859096,-9.84807753012208,-10.0,-9.848077530122083,-9.3969262078591,-8.660254037844428,-7.660444431189767,-6.427876096865406,-4.999999999999985,-3.42020143325664,-1.7364817766692906,-2.4492935982947064e-14,1.7364817766692422,3.4202014332565938,4.999999999999943,6.4278760968653685,7.6604444311897355,8.660254037844368,9.396926207859034,9.848077530122074,10.0,9.848077530122076,9.396926207859087,8.660254037844412,7.660444431189744,6.427876096865379,5.000000000000017,3.420201433256608,1.7364817766692568,-9.809554005910593e-15,-1.7364817766692762,-3.4202014332567594,-5.000000000000035,-6.427876096865395,-7.660444431189757,-8.66025403784435,-9.396926207859046,-9.84807753012208,-10.0,-9.848077530122094,-9.396926207859124,-8.660254037844465,-7.660444431189814,-6.427876096865463,-4.999999999999988,-3.420201433256709,-1.736481776669363,4.411204399476825e-14,1.73648177666931,3.420201433256658,5.000000000000063,null,null,null,null,null,null,null,null,null,null,null,null,null,null,null,null,null,null,null,null,null,null,null,null,null,null,null,null,null,null,null,null,null,null,null,null,null,null,null,null,null,null,null,null,null,null,null,null,null,null,null,null,null,null,null,null,null,null,null,null,null,null,null,null,null,null,null,null,null,null,null,null,null,null,null,null,null,null,null,null,null,null,null,null,null,null,null,null,null,null,null,null,null,null,null,null,null,null,null,null,null,null,null,null,null,null,null,null,null,null,null,null,null,null,null,null,null,null,null,null,null,null,null,null,null,null,null,null,null,null,null,null,null,null,null,null,null,null,null,null,null,null,null,null,null,null,null,null,null,null,null,null,null,null,null,null,null,null,null,null,null,null,null,null,null,null,null,null,null,null,null,null,null,null,null,null,null,null,null,null,null,null,null,null,null,null,null,null,null,null,null,null,null,null,null,null,null,null,null,null,null,null,null,null,null,null,null,null,null,null,null,null,null,null,null,null,null,null,null,null,null,null,null,null,null,null,null,null,null,null,null,null,null,null,null,null,null,null,null,null,null,null,null,null,null,null,null,null,null,null,null,null,null,null,null,null,null,null,null,null,null,null,null,null,null,null,null,null,null,null,null,null,null,null,null,null,null,null,null,null,null,null,null,null,null,null,null,null,null,null,null,null,null,null,null,null,null,null,null,null,null,null,null,null,null,null,null,null,null,null,null,null,null,null,null,null,null,null,null,null,null,null,null,null,null,null,null,null,null,null,null,null,null,null,null,null,null,null,null,null,null,null,null,null,null,null,null,null,null,null,null,null,null,null,null,null,null,null,null,null,null,null,null,null,null,null,null,null,null,null,null,null,null,null,null,null,null,null,null,null,null,null,null,null,null,null,null,null,null,null,null,null,null,null,null,null,null,null,null],\"yaxis\":\"y\",\"type\":\"scattergl\"},{\"hovertemplate\":\"variable=x_hat0<br>index=%{x}<br>value=%{y}<extra></extra>\",\"legendgroup\":\"x_hat0\",\"line\":{\"color\":\"#EF553B\",\"dash\":\"solid\"},\"marker\":{\"symbol\":\"circle\"},\"mode\":\"lines\",\"name\":\"x_hat0\",\"showlegend\":true,\"x\":[0,1,2,3,4,5,6,7,8,9,10,11,12,13,14,15,16,17,18,19,20,21,22,23,24,25,26,27,28,29,30,31,32,33,34,35,36,37,38,39,40,41,42,43,44,45,46,47,48,49,50,51,52,53,54,55,56,57,58,59,60,61,62,63,64,65,66,67,68,69,70,71,72,73,74,75,76,77,78,79,80,81,82,83,84,85,86,87,88,89,90,91,92,93,94,95,96,97,98,99,100,101,102,103,104,105,106,107,108,109,110,111,112,113,114,115,116,117,118,119,120,121,122,123,124,125,126,127,128,129,130,131,132,133,134,135,136,137,138,139,140,141,142,143,144,145,146,147,148,149,150,151,152,153,154,155,156,157,158,159,160,161,162,163,164,165,166,167,168,169,170,171,172,173,174,175,176,177,178,179,180,181,182,183,184,185,186,187,188,189,190,191,192,193,194,195,196,197,198,199,200,201,202,203,204,205,206,207,208,209,210,211,212,213,214,215,216,217,218,219,220,221,222,223,224,225,226,227,228,229,230,231,232,233,234,235,236,237,238,239,240,241,242,243,244,245,246,247,248,249,250,251,252,253,254,255,256,257,258,259,260,261,262,263,264,265,266,267,268,269,270,271,272,273,274,275,276,277,278,279,280,281,282,283,284,285,286,287,288,289,290,291,292,293,294,295,296,297,298,299,300,301,302,303,304,305,306,307,308,309,310,311,312,313,314,315,316,317,318,319,320,321,322,323,324,325,326,327,328,329,330,331,332,333,334,335,336,337,338,339,340,341,342,343,344,345,346,347,348,349,350,351,352,353,354,355,356,357,358,359,360,361,362,363,364,365,366,367,368,369,370,371,372,373,374,375,376,377,378,379,380,381,382,383,384,385,386,387,388,389,390,391,392,393,394,395,396,397,398,399,0,1,2,3,4,5,6,7,8,9,10,11,12,13,14,15,16,17,18,19,20,21,22,23,24,25,26,27,28,29,30,31,32,33,34,35,36,37,38,39,40,41,42,43,44,45,46,47,48,49,50,51,52,53,54,55,56,57,58,59,60,61,62,63,64,65,66,67,68,69,70,71,72,73,74,75,76,77,78,79,80,81,82,83,84,85,86,87,88,89,90,91,92,93,94,95,96,97,98,99,100,101,102,103,104,105,106,107,108,109,110,111,112,113,114,115,116,117,118,119,120,121,122,123,124,125,126,127,128,129,130,131,132,133,134,135,136,137,138,139,140,141,142,143,144,145,146,147,148,149,150,151,152,153,154,155,156,157,158,159,160,161,162,163,164,165,166,167,168,169,170,171,172,173,174,175,176,177,178,179,180,181,182,183,184,185,186,187,188,189,190,191,192,193,194,195,196,197,198,199,200,201,202,203,204,205,206,207,208,209,210,211,212,213,214,215,216,217,218,219,220,221,222,223,224,225,226,227,228,229,230,231,232,233,234,235,236,237,238,239,240,241,242,243,244,245,246,247,248,249,250,251,252,253,254,255,256,257,258,259,260,261,262,263,264,265,266,267,268,269,270,271,272,273,274,275,276,277,278,279,280,281,282,283,284,285,286,287,288,289,290,291,292,293,294,295,296,297,298,299,300,301,302,303,304,305,306,307,308,309,310,311,312,313,314,315,316,317,318,319,320,321,322,323,324,325,326,327,328,329,330,331,332,333,334,335,336,337,338,339,340,341,342,343,344,345,346,347,348,349,350,351,352,353,354,355,356,357,358,359,360,361,362,363,364,365,366,367,368,369,370,371,372,373,374,375,376,377,378,379,380,381,382,383,384,385,386,387,388,389,390,391,392,393,394,395,396,397,398],\"xaxis\":\"x\",\"y\":[null,null,null,null,null,null,null,null,null,null,null,null,null,null,null,null,null,null,null,null,null,null,null,null,null,null,null,null,null,null,null,null,null,null,null,null,null,null,null,null,null,null,null,null,null,null,null,null,null,null,null,null,null,null,null,null,null,null,null,null,null,null,null,null,null,null,null,null,null,null,null,null,null,null,null,null,null,null,null,null,null,null,null,null,null,null,null,null,null,null,null,null,null,null,null,null,null,null,null,null,null,null,null,null,null,null,null,null,null,null,null,null,null,null,null,null,null,null,null,null,null,null,null,null,null,null,null,null,null,null,null,null,null,null,null,null,null,null,null,null,null,null,null,null,null,null,null,null,null,null,null,null,null,null,null,null,null,null,null,null,null,null,null,null,null,null,null,null,null,null,null,null,null,null,null,null,null,null,null,null,null,null,null,null,null,null,null,null,null,null,null,null,null,null,null,null,null,null,null,null,null,null,null,null,null,null,null,null,null,null,null,null,null,null,null,null,null,null,null,null,null,null,null,null,null,null,null,null,null,null,null,null,null,null,null,null,null,null,null,null,null,null,null,null,null,null,null,null,null,null,null,null,null,null,null,null,null,null,null,null,null,null,null,null,null,null,null,null,null,null,null,null,null,null,null,null,null,null,null,null,null,null,null,null,null,null,null,null,null,null,null,null,null,null,null,null,null,null,null,null,null,null,null,null,null,null,null,null,null,null,null,null,null,null,null,null,null,null,null,null,null,null,null,null,null,null,null,null,null,null,null,null,null,null,null,null,null,null,null,null,null,null,null,null,null,null,null,null,null,null,null,null,null,null,null,null,null,null,null,null,null,null,null,null,null,null,null,null,null,null,null,null,null,null,null,null,null,null,null,null,null,null,null,null,null,null,null,null,null,null,null,null,null,null,null,null,null,null,null,null,0.0,0.007414542996553663,3.311851618825448,4.9291152232724205,6.4394731542112025,7.692924001110617,8.750502788044523,9.909692767381038,9.874096270645325,10.470165292020312,10.3833057499375,9.730652983081077,9.010173981779882,8.085358319127558,6.833406852298044,5.060961026895818,3.514724551675382,2.1293221348801623,0.4946267242650275,-1.4717985547059822,-3.4645283273785132,-4.86930863605408,-6.4004608939007746,-7.568323614461787,-8.6960519080867,-9.782763908521648,-10.131341432994313,-10.008192762682492,-10.305929847470429,-9.744467648410652,-9.036017894500386,-8.140396775525128,-6.285920577376519,-5.60231876734879,-3.4650914987918107,-2.1249724663150866,-0.1946899525149397,1.158062549000604,3.4369310251869805,4.92798775424763,6.135630384645655,7.657206469111922,8.901156532826793,9.301952818631754,9.956155832623443,10.539578273686862,10.004953577593628,9.847056179856668,8.575666032936605,8.172848522902289,6.961908968416985,5.207639883506474,3.7239769897332438,1.7426463547247955,0.4019734006177591,-1.5644514291914813,-3.289735952914099,-4.6904308811844855,-6.4732579655353915,-7.708923872217671,-8.97715955664396,-9.460814461782839,-10.012184156182936,-10.31822276277778,-10.032516257218413,-9.348540441175267,-9.117776965031302,-8.188488237388306,-6.47929671988076,-5.555634120874945,-3.715879378073101,-2.0724803507691383,-0.35436639522138647,1.7312148149712634,3.1676294177580706,4.570388978093446,6.362596702564079,7.903913401676576,8.74183694098025,9.431384969234394,10.017635814906683,10.173577856116985,10.350717708030048,9.568683050533718,8.678554645594815,8.40163032401238,6.683649219355116,5.075530719529688,3.619053229006351,2.0248480729235663,0.5188066645711196,-1.7249800692826738,-3.222676568976883,-4.597793334149849,-6.969332946382309,-7.686652124694031,-8.850230716998995,-9.392951463858367,-10.280727968225655,-9.89458465191066,-10.50517442824775,-9.838725283246522,-8.70066836944263,-8.283279958603247,-6.41735238061662,-5.271961504937269,-3.8632001445433968,-1.6219017320038889,-0.8277449188720032,1.9524925172774497,3.2314810903431157,5.072244543247459,6.288726523401216,7.595667921856981,9.026975263043363,9.043986444987347,10.104634865986693,10.459643526016716,10.19402568709303,9.696453512972527,8.684271305941298,8.159630469096623,6.3353561508250245,5.248656389208204,3.7646711873328496,2.0696244991363972,-0.04330748563823561,-1.7383258739200036,-3.088093493555694,-4.810695950126378,-6.565394581717091,-7.487143011835862,-9.08722638081924,-9.293192314876693,-10.038682359829595,-10.682744854992102,-10.036247111565668,-9.484979899854107,-8.990876341802883,-8.192873037027786,-6.767192047115369,-5.134523625466326,-3.756679379968241,-1.9237148816141776,-0.2883886692762154,1.6683106569457378,3.451009470372776,4.944639365754578,6.050842036999778,7.747759367771485,8.804339607054398,9.545591922557389,9.840183596119788,10.477221722674887,10.246967816583041,9.567627909967273,9.012900041429505,8.192013239691228,6.736448417360914,5.080634546238647,3.7678715045730105,2.0333927880975633,0.10059858781536324,-1.6433723949942656,-3.054531725964271,-5.120162102067233,-6.38955654624791,-7.6838431849467215,-8.994489444467137,-9.409236610710957,-10.226371522740523,-10.380102582563131,-9.97498316418797,-9.841845637712018,-8.87456452446802,-7.863215920547802,-7.269834929507704,-5.021942405215679,-3.568979300936343,-1.9411360139526708,-0.6047452044110047,1.7407717357923556,3.2837767902688624,5.178269662489205,6.136449844352303,7.619556234828312,8.921502789184386,9.526375883247026,9.98565643512512,10.008417176118837,10.29676396625061,9.521421005713362,9.221366934635551,7.851645126963748,6.45911536588997,5.147652352104291,3.9678304954459547,1.704499588841722,0.3677019253580103,-1.2767814735809786,-3.393299197480628,-4.989107228082057,-6.294482010921035,-7.695706830302986,-8.57627243323833,-9.703067616702839,-9.98389526039362,-10.09073198812597,-10.241136284905606,-9.519930903118164,-9.011794167746588,-7.98149155384503,-6.574149877486375,-5.329332431952594,-3.7451067862757537,-2.418887558107695,-0.05931090879735579,1.8764735908934278,2.9221675182434046,5.151939399383228,6.209645893268108,7.9745984807674795,8.536681182962084,9.486214013159998,10.081708868466562,10.466268625004695,9.666949609398092,9.610322755302828,9.219190028572754,7.7048221400704975,7.08764169419544,4.9866009551901715,3.251520735699925,2.2315009090759754,-0.028930312294910943,-1.5458342363004092,-3.1770287646253186,-5.2990910175902055,-6.397908486823365,-7.678998535192505,-8.823885206334609,-9.415443029684125,-9.893467785256664,-10.178546149561901,-10.09640089352164,-10.097641787535427,-8.70253483099916,-8.079575166776944,-6.645229091364968,-5.08761661848953,-3.8476709544308476,-1.8632699174478904,-0.4765175091618987,1.4716365459501175,3.358351150109004,4.78606830552763,6.558043319539707,7.50346857655996,8.931895599854293,9.729004772702849,10.421514629087872,9.96447478960951,10.054870693862238,9.775712817464,9.144737847616394,8.314331907293285,7.037171579162925,5.071805636145248,3.8849777681011695,2.0150992353368027,0.07881583147321058,-1.590941222650493,-3.031719990829072,-5.305209836969227,-6.034838803321671,-7.945693758476262,-8.583457415046091,-9.548041432648338,-10.098647164377015,-9.609929848625098,-10.438097810638213,-9.646899011331675,-8.805652614964028,-7.900019093805507,-6.84738960338613,-5.266511261585294,-3.686933808444685,-2.0358999363911585,-0.5100070814294715,1.914460814986783,3.1582877520121855,5.001727687732062,6.753088567341152,7.7614843818243955,8.847811367205853,9.448832558808313,9.976375875982496,10.316802461873465,9.940587322865458,9.490030920109003,9.103401252606002,8.171624611590662,6.508249300143277,5.648052445161898,3.4539263757164593,1.8862728784318694,0.4229565487386229,-1.3356577538804988,-3.4988932128573795,-4.8374286885469635,-6.7729486802008845,-7.853796628423277,-8.726949286183858,-9.488642166277,-9.741181713501977,-10.580430649798606,-9.867780416542326,-9.891546307188044,-9.098970068171866,-8.105344512948337,-6.803527983545854,-4.990834383268426,-3.642992624805114,-1.5689265904983234,-0.3584951079006473,1.6069188541010213,3.4653043042827236,4.877688622961934,6.570060070097254,7.612180664975809,8.780550310983084,9.519890746116253,9.967818543575188,10.34946704956202,10.093402742553678,10.012674879131845,8.714670037527005,7.568218808262561,7.0817422070650204,5.259214663878947,3.926126538639009,1.8473645450364211,0.35069886475082956,-1.7675630461277279,-3.2022661109215695,-5.013952292580393,-6.424955937103813,-7.502662444776346,-8.688298460855362,-9.757928232748512,-9.844959050467937,-10.550174201612643,-9.932338839540499,-9.416169525802191,-9.03266151873794,-8.05740950214361,-6.776699157147209,-5.047567151761195,-3.9271655470345412,-1.7754591312877743,-0.4139830385919119,1.6963155201991285,2.930385733642593,4.8538999959556905,6.5600164008907065,7.5764488610521585,8.751751448339471,9.469871184501386,10.081323231414565,10.462795579961252,9.71014516131851,9.589883098907743,9.044468526894544,8.120287193329533,6.769640550050456,5.7497700769778275,3.2806900706724047,2.005095280876911,0.1713701695113372,-1.4518103070045756,-3.269398989597014,-4.7625943414797725,-6.648256126889677,-7.933633185302966,-8.876018782123094,-9.391816701028556,-9.669678457394491,-10.331770979474285,-10.081494383165277,-9.54619415085206,-9.174092712352278,-7.909461255099681,-6.771777054985218,-5.1468661858742095,-4.069717884679858,-1.251612616953754,-0.6984667862657936,1.649501558707847,3.371831756555796],\"yaxis\":\"y\",\"type\":\"scattergl\"}],                        {\"template\":{\"data\":{\"histogram2dcontour\":[{\"type\":\"histogram2dcontour\",\"colorbar\":{\"outlinewidth\":0,\"ticks\":\"\"},\"colorscale\":[[0.0,\"#0d0887\"],[0.1111111111111111,\"#46039f\"],[0.2222222222222222,\"#7201a8\"],[0.3333333333333333,\"#9c179e\"],[0.4444444444444444,\"#bd3786\"],[0.5555555555555556,\"#d8576b\"],[0.6666666666666666,\"#ed7953\"],[0.7777777777777778,\"#fb9f3a\"],[0.8888888888888888,\"#fdca26\"],[1.0,\"#f0f921\"]]}],\"choropleth\":[{\"type\":\"choropleth\",\"colorbar\":{\"outlinewidth\":0,\"ticks\":\"\"}}],\"histogram2d\":[{\"type\":\"histogram2d\",\"colorbar\":{\"outlinewidth\":0,\"ticks\":\"\"},\"colorscale\":[[0.0,\"#0d0887\"],[0.1111111111111111,\"#46039f\"],[0.2222222222222222,\"#7201a8\"],[0.3333333333333333,\"#9c179e\"],[0.4444444444444444,\"#bd3786\"],[0.5555555555555556,\"#d8576b\"],[0.6666666666666666,\"#ed7953\"],[0.7777777777777778,\"#fb9f3a\"],[0.8888888888888888,\"#fdca26\"],[1.0,\"#f0f921\"]]}],\"heatmap\":[{\"type\":\"heatmap\",\"colorbar\":{\"outlinewidth\":0,\"ticks\":\"\"},\"colorscale\":[[0.0,\"#0d0887\"],[0.1111111111111111,\"#46039f\"],[0.2222222222222222,\"#7201a8\"],[0.3333333333333333,\"#9c179e\"],[0.4444444444444444,\"#bd3786\"],[0.5555555555555556,\"#d8576b\"],[0.6666666666666666,\"#ed7953\"],[0.7777777777777778,\"#fb9f3a\"],[0.8888888888888888,\"#fdca26\"],[1.0,\"#f0f921\"]]}],\"heatmapgl\":[{\"type\":\"heatmapgl\",\"colorbar\":{\"outlinewidth\":0,\"ticks\":\"\"},\"colorscale\":[[0.0,\"#0d0887\"],[0.1111111111111111,\"#46039f\"],[0.2222222222222222,\"#7201a8\"],[0.3333333333333333,\"#9c179e\"],[0.4444444444444444,\"#bd3786\"],[0.5555555555555556,\"#d8576b\"],[0.6666666666666666,\"#ed7953\"],[0.7777777777777778,\"#fb9f3a\"],[0.8888888888888888,\"#fdca26\"],[1.0,\"#f0f921\"]]}],\"contourcarpet\":[{\"type\":\"contourcarpet\",\"colorbar\":{\"outlinewidth\":0,\"ticks\":\"\"}}],\"contour\":[{\"type\":\"contour\",\"colorbar\":{\"outlinewidth\":0,\"ticks\":\"\"},\"colorscale\":[[0.0,\"#0d0887\"],[0.1111111111111111,\"#46039f\"],[0.2222222222222222,\"#7201a8\"],[0.3333333333333333,\"#9c179e\"],[0.4444444444444444,\"#bd3786\"],[0.5555555555555556,\"#d8576b\"],[0.6666666666666666,\"#ed7953\"],[0.7777777777777778,\"#fb9f3a\"],[0.8888888888888888,\"#fdca26\"],[1.0,\"#f0f921\"]]}],\"surface\":[{\"type\":\"surface\",\"colorbar\":{\"outlinewidth\":0,\"ticks\":\"\"},\"colorscale\":[[0.0,\"#0d0887\"],[0.1111111111111111,\"#46039f\"],[0.2222222222222222,\"#7201a8\"],[0.3333333333333333,\"#9c179e\"],[0.4444444444444444,\"#bd3786\"],[0.5555555555555556,\"#d8576b\"],[0.6666666666666666,\"#ed7953\"],[0.7777777777777778,\"#fb9f3a\"],[0.8888888888888888,\"#fdca26\"],[1.0,\"#f0f921\"]]}],\"mesh3d\":[{\"type\":\"mesh3d\",\"colorbar\":{\"outlinewidth\":0,\"ticks\":\"\"}}],\"scatter\":[{\"fillpattern\":{\"fillmode\":\"overlay\",\"size\":10,\"solidity\":0.2},\"type\":\"scatter\"}],\"parcoords\":[{\"type\":\"parcoords\",\"line\":{\"colorbar\":{\"outlinewidth\":0,\"ticks\":\"\"}}}],\"scatterpolargl\":[{\"type\":\"scatterpolargl\",\"marker\":{\"colorbar\":{\"outlinewidth\":0,\"ticks\":\"\"}}}],\"bar\":[{\"error_x\":{\"color\":\"#2a3f5f\"},\"error_y\":{\"color\":\"#2a3f5f\"},\"marker\":{\"line\":{\"color\":\"#E5ECF6\",\"width\":0.5},\"pattern\":{\"fillmode\":\"overlay\",\"size\":10,\"solidity\":0.2}},\"type\":\"bar\"}],\"scattergeo\":[{\"type\":\"scattergeo\",\"marker\":{\"colorbar\":{\"outlinewidth\":0,\"ticks\":\"\"}}}],\"scatterpolar\":[{\"type\":\"scatterpolar\",\"marker\":{\"colorbar\":{\"outlinewidth\":0,\"ticks\":\"\"}}}],\"histogram\":[{\"marker\":{\"pattern\":{\"fillmode\":\"overlay\",\"size\":10,\"solidity\":0.2}},\"type\":\"histogram\"}],\"scattergl\":[{\"type\":\"scattergl\",\"marker\":{\"colorbar\":{\"outlinewidth\":0,\"ticks\":\"\"}}}],\"scatter3d\":[{\"type\":\"scatter3d\",\"line\":{\"colorbar\":{\"outlinewidth\":0,\"ticks\":\"\"}},\"marker\":{\"colorbar\":{\"outlinewidth\":0,\"ticks\":\"\"}}}],\"scattermapbox\":[{\"type\":\"scattermapbox\",\"marker\":{\"colorbar\":{\"outlinewidth\":0,\"ticks\":\"\"}}}],\"scatterternary\":[{\"type\":\"scatterternary\",\"marker\":{\"colorbar\":{\"outlinewidth\":0,\"ticks\":\"\"}}}],\"scattercarpet\":[{\"type\":\"scattercarpet\",\"marker\":{\"colorbar\":{\"outlinewidth\":0,\"ticks\":\"\"}}}],\"carpet\":[{\"aaxis\":{\"endlinecolor\":\"#2a3f5f\",\"gridcolor\":\"white\",\"linecolor\":\"white\",\"minorgridcolor\":\"white\",\"startlinecolor\":\"#2a3f5f\"},\"baxis\":{\"endlinecolor\":\"#2a3f5f\",\"gridcolor\":\"white\",\"linecolor\":\"white\",\"minorgridcolor\":\"white\",\"startlinecolor\":\"#2a3f5f\"},\"type\":\"carpet\"}],\"table\":[{\"cells\":{\"fill\":{\"color\":\"#EBF0F8\"},\"line\":{\"color\":\"white\"}},\"header\":{\"fill\":{\"color\":\"#C8D4E3\"},\"line\":{\"color\":\"white\"}},\"type\":\"table\"}],\"barpolar\":[{\"marker\":{\"line\":{\"color\":\"#E5ECF6\",\"width\":0.5},\"pattern\":{\"fillmode\":\"overlay\",\"size\":10,\"solidity\":0.2}},\"type\":\"barpolar\"}],\"pie\":[{\"automargin\":true,\"type\":\"pie\"}]},\"layout\":{\"autotypenumbers\":\"strict\",\"colorway\":[\"#636efa\",\"#EF553B\",\"#00cc96\",\"#ab63fa\",\"#FFA15A\",\"#19d3f3\",\"#FF6692\",\"#B6E880\",\"#FF97FF\",\"#FECB52\"],\"font\":{\"color\":\"#2a3f5f\"},\"hovermode\":\"closest\",\"hoverlabel\":{\"align\":\"left\"},\"paper_bgcolor\":\"white\",\"plot_bgcolor\":\"#E5ECF6\",\"polar\":{\"bgcolor\":\"#E5ECF6\",\"angularaxis\":{\"gridcolor\":\"white\",\"linecolor\":\"white\",\"ticks\":\"\"},\"radialaxis\":{\"gridcolor\":\"white\",\"linecolor\":\"white\",\"ticks\":\"\"}},\"ternary\":{\"bgcolor\":\"#E5ECF6\",\"aaxis\":{\"gridcolor\":\"white\",\"linecolor\":\"white\",\"ticks\":\"\"},\"baxis\":{\"gridcolor\":\"white\",\"linecolor\":\"white\",\"ticks\":\"\"},\"caxis\":{\"gridcolor\":\"white\",\"linecolor\":\"white\",\"ticks\":\"\"}},\"coloraxis\":{\"colorbar\":{\"outlinewidth\":0,\"ticks\":\"\"}},\"colorscale\":{\"sequential\":[[0.0,\"#0d0887\"],[0.1111111111111111,\"#46039f\"],[0.2222222222222222,\"#7201a8\"],[0.3333333333333333,\"#9c179e\"],[0.4444444444444444,\"#bd3786\"],[0.5555555555555556,\"#d8576b\"],[0.6666666666666666,\"#ed7953\"],[0.7777777777777778,\"#fb9f3a\"],[0.8888888888888888,\"#fdca26\"],[1.0,\"#f0f921\"]],\"sequentialminus\":[[0.0,\"#0d0887\"],[0.1111111111111111,\"#46039f\"],[0.2222222222222222,\"#7201a8\"],[0.3333333333333333,\"#9c179e\"],[0.4444444444444444,\"#bd3786\"],[0.5555555555555556,\"#d8576b\"],[0.6666666666666666,\"#ed7953\"],[0.7777777777777778,\"#fb9f3a\"],[0.8888888888888888,\"#fdca26\"],[1.0,\"#f0f921\"]],\"diverging\":[[0,\"#8e0152\"],[0.1,\"#c51b7d\"],[0.2,\"#de77ae\"],[0.3,\"#f1b6da\"],[0.4,\"#fde0ef\"],[0.5,\"#f7f7f7\"],[0.6,\"#e6f5d0\"],[0.7,\"#b8e186\"],[0.8,\"#7fbc41\"],[0.9,\"#4d9221\"],[1,\"#276419\"]]},\"xaxis\":{\"gridcolor\":\"white\",\"linecolor\":\"white\",\"ticks\":\"\",\"title\":{\"standoff\":15},\"zerolinecolor\":\"white\",\"automargin\":true,\"zerolinewidth\":2},\"yaxis\":{\"gridcolor\":\"white\",\"linecolor\":\"white\",\"ticks\":\"\",\"title\":{\"standoff\":15},\"zerolinecolor\":\"white\",\"automargin\":true,\"zerolinewidth\":2},\"scene\":{\"xaxis\":{\"backgroundcolor\":\"#E5ECF6\",\"gridcolor\":\"white\",\"linecolor\":\"white\",\"showbackground\":true,\"ticks\":\"\",\"zerolinecolor\":\"white\",\"gridwidth\":2},\"yaxis\":{\"backgroundcolor\":\"#E5ECF6\",\"gridcolor\":\"white\",\"linecolor\":\"white\",\"showbackground\":true,\"ticks\":\"\",\"zerolinecolor\":\"white\",\"gridwidth\":2},\"zaxis\":{\"backgroundcolor\":\"#E5ECF6\",\"gridcolor\":\"white\",\"linecolor\":\"white\",\"showbackground\":true,\"ticks\":\"\",\"zerolinecolor\":\"white\",\"gridwidth\":2}},\"shapedefaults\":{\"line\":{\"color\":\"#2a3f5f\"}},\"annotationdefaults\":{\"arrowcolor\":\"#2a3f5f\",\"arrowhead\":0,\"arrowwidth\":1},\"geo\":{\"bgcolor\":\"white\",\"landcolor\":\"#E5ECF6\",\"subunitcolor\":\"white\",\"showland\":true,\"showlakes\":true,\"lakecolor\":\"white\"},\"title\":{\"x\":0.05},\"mapbox\":{\"style\":\"light\"}}},\"xaxis\":{\"anchor\":\"y\",\"domain\":[0.0,1.0],\"title\":{\"text\":\"index\"}},\"yaxis\":{\"anchor\":\"x\",\"domain\":[0.0,1.0],\"title\":{\"text\":\"value\"}},\"legend\":{\"title\":{\"text\":\"variable\"},\"tracegroupgap\":0},\"margin\":{\"t\":60}},                        {\"responsive\": true}                    ).then(function(){\n",
       "                            \n",
       "var gd = document.getElementById('d18ab33a-8bdf-4935-9644-10ad57353c83');\n",
       "var x = new MutationObserver(function (mutations, observer) {{\n",
       "        var display = window.getComputedStyle(gd).display;\n",
       "        if (!display || display === 'none') {{\n",
       "            console.log([gd, 'removed!']);\n",
       "            Plotly.purge(gd);\n",
       "            observer.disconnect();\n",
       "        }}\n",
       "}});\n",
       "\n",
       "// Listen for the removal of the full notebook cells\n",
       "var notebookContainer = gd.closest('#notebook-container');\n",
       "if (notebookContainer) {{\n",
       "    x.observe(notebookContainer, {childList: true});\n",
       "}}\n",
       "\n",
       "// Listen for the clearing of the current output cell\n",
       "var outputEl = gd.closest('.output');\n",
       "if (outputEl) {{\n",
       "    x.observe(outputEl, {childList: true});\n",
       "}}\n",
       "\n",
       "                        })                };                });            </script>        </div>"
      ]
     },
     "metadata": {},
     "output_type": "display_data"
    }
   ],
   "source": [
    "ex.line(pd.concat((to_df(target, 'x'), to_df(pos, 'x_hat')))[['x0', 'x_hat0']])"
   ]
  },
  {
   "cell_type": "code",
   "execution_count": 114,
   "id": "ac459a91-1932-4cb7-9c2a-ea2e62836a46",
   "metadata": {},
   "outputs": [
    {
     "data": {
      "application/vnd.plotly.v1+json": {
       "config": {
        "plotlyServerURL": "https://plot.ly"
       },
       "data": [
        {
         "hovertemplate": "variable=vel0<br>index=%{x}<br>value=%{y}<extra></extra>",
         "legendgroup": "vel0",
         "line": {
          "color": "#636efa",
          "dash": "solid"
         },
         "marker": {
          "symbol": "circle"
         },
         "mode": "lines",
         "name": "vel0",
         "showlegend": true,
         "type": "scattergl",
         "x": [
          0,
          1,
          2,
          3,
          4,
          5,
          6,
          7,
          8,
          9,
          10,
          11,
          12,
          13,
          14,
          15,
          16,
          17,
          18,
          19,
          20,
          21,
          22,
          23,
          24,
          25,
          26,
          27,
          28,
          29,
          30,
          31,
          32,
          33,
          34,
          35,
          36,
          37,
          38,
          39,
          40,
          41,
          42,
          43,
          44,
          45,
          46,
          47,
          48,
          49,
          50,
          51,
          52,
          53,
          54,
          55,
          56,
          57,
          58,
          59,
          60,
          61,
          62,
          63,
          64,
          65,
          66,
          67,
          68,
          69,
          70,
          71,
          72,
          73,
          74,
          75,
          76,
          77,
          78,
          79,
          80,
          81,
          82,
          83,
          84,
          85,
          86,
          87,
          88,
          89,
          90,
          91,
          92,
          93,
          94,
          95,
          96,
          97,
          98,
          99,
          100,
          101,
          102,
          103,
          104,
          105,
          106,
          107,
          108,
          109,
          110,
          111,
          112,
          113,
          114,
          115,
          116,
          117,
          118,
          119,
          120,
          121,
          122,
          123,
          124,
          125,
          126,
          127,
          128,
          129,
          130,
          131,
          132,
          133,
          134,
          135,
          136,
          137,
          138,
          139,
          140,
          141,
          142,
          143,
          144,
          145,
          146,
          147,
          148,
          149,
          150,
          151,
          152,
          153,
          154,
          155,
          156,
          157,
          158,
          159,
          160,
          161,
          162,
          163,
          164,
          165,
          166,
          167,
          168,
          169,
          170,
          171,
          172,
          173,
          174,
          175,
          176,
          177,
          178,
          179,
          180,
          181,
          182,
          183,
          184,
          185,
          186,
          187,
          188,
          189,
          190,
          191,
          192,
          193,
          194,
          195,
          196,
          197,
          198,
          199,
          200,
          201,
          202,
          203,
          204,
          205,
          206,
          207,
          208,
          209,
          210,
          211,
          212,
          213,
          214,
          215,
          216,
          217,
          218,
          219,
          220,
          221,
          222,
          223,
          224,
          225,
          226,
          227,
          228,
          229,
          230,
          231,
          232,
          233,
          234,
          235,
          236,
          237,
          238,
          239,
          240,
          241,
          242,
          243,
          244,
          245,
          246,
          247,
          248,
          249,
          250,
          251,
          252,
          253,
          254,
          255,
          256,
          257,
          258,
          259,
          260,
          261,
          262,
          263,
          264,
          265,
          266,
          267,
          268,
          269,
          270,
          271,
          272,
          273,
          274,
          275,
          276,
          277,
          278,
          279,
          280,
          281,
          282,
          283,
          284,
          285,
          286,
          287,
          288,
          289,
          290,
          291,
          292,
          293,
          294,
          295,
          296,
          297,
          298,
          299,
          300,
          301,
          302,
          303,
          304,
          305,
          306,
          307,
          308,
          309,
          310,
          311,
          312,
          313,
          314,
          315,
          316,
          317,
          318,
          319,
          320,
          321,
          322,
          323,
          324,
          325,
          326,
          327,
          328,
          329,
          330,
          331,
          332,
          333,
          334,
          335,
          336,
          337,
          338,
          339,
          340,
          341,
          342,
          343,
          344,
          345,
          346,
          347,
          348,
          349,
          350,
          351,
          352,
          353,
          354,
          355,
          356,
          357,
          358,
          359,
          360,
          361,
          362,
          363,
          364,
          365,
          366,
          367,
          368,
          369,
          370,
          371,
          372,
          373,
          374,
          375,
          376,
          377,
          378,
          379,
          380,
          381,
          382,
          383,
          384,
          385,
          386,
          387,
          388,
          389,
          390,
          391,
          392,
          393,
          394,
          395,
          396,
          397,
          398
         ],
         "xaxis": "x",
         "y": [
          0,
          -0.00022564911255785894,
          -0.003950865678573893,
          -0.005768420215442573,
          -0.007268267523650845,
          -0.00859792697556534,
          -0.009101839553733677,
          -0.010003021140588406,
          -0.010418341761882543,
          -0.010672039681786353,
          -0.009951811980887222,
          -0.010223886721698347,
          -0.008907167930999193,
          -0.007692750551594735,
          -0.006214922108860378,
          -0.00470957944873034,
          -0.0029101218432104536,
          -0.0015915867369352499,
          0.0006762809568549637,
          0.0019737874845935223,
          0.004108180293024447,
          0.005782158363792547,
          0.007036841031923006,
          0.008105493096360043,
          0.00957361296721089,
          0.01019892014126105,
          0.00994538077516838,
          0.010432771879372705,
          0.0107079930514115,
          0.009547741029827812,
          0.008475268549138226,
          0.008227193136982724,
          0.006461759517850722,
          0.004790021087313382,
          0.0033982690467375056,
          0.0012939581231960124,
          -0.0004982771463066704,
          -0.0021566700383247018,
          -0.00415105854136962,
          -0.004796270771706977,
          -0.00740523291000073,
          -0.008022899444676301,
          -0.00972089735741345,
          -0.009431637808074851,
          -0.010435888592913953,
          -0.010366901117848257,
          -0.010335234879271469,
          -0.009691385759087302,
          -0.00882861694029502,
          -0.007628070391626139,
          -0.006309834729990604,
          -0.005179055836954593,
          -0.0028359101582130855,
          -0.0017431711080830633,
          0.0008868698167707951,
          0.002376969719063731,
          0.003444516479075578,
          0.005664159351592706,
          0.006720206724877682,
          0.008379834169968136,
          0.009502658993331607,
          0.00968363706586658,
          0.01038943521710781,
          0.010482690838533475,
          0.010232933399804798,
          0.009377538276214771,
          0.008892824643511078,
          0.007854785899742549,
          0.006030642381719201,
          0.004902743565221194,
          0.0031123452017206518,
          0.0019069575581453398,
          -0.0008926332635832712,
          -0.0024719026778365267,
          -0.004050491739944808,
          -0.0054152196653555855,
          -0.006966509961718874,
          -0.008295349590941622,
          -0.008527086271177221,
          -0.010132122903445812,
          -0.010684726113201998,
          -0.01057313521396014,
          -0.009865148356666442,
          -0.009823525320978922,
          -0.008720778376216577,
          -0.007895051578581266,
          -0.006628371152404511,
          -0.0048020664413076595,
          -0.0025029214610220313,
          -0.0014438028373566607,
          0.0005708444744795096,
          0.0023540747500913886,
          0.0037064333088345468,
          0.005399093383364989,
          0.007192100685919455,
          0.007982296726473692,
          0.009022906708096596,
          0.010250743575122262,
          0.01019287214014974,
          0.010832600512924527,
          0.010357652157441824,
          0.009490033303859351,
          0.008885729420900936,
          0.007530150287464576,
          0.006955387070035276,
          0.0043093532623005104,
          0.003536892390537065,
          0.0013466952186489106,
          -0.0007663748119009168,
          -0.0018309797330369937,
          -0.004020804011717149,
          -0.005516390858387436,
          -0.0074165475539884574,
          -0.008132557496932829,
          -0.00919040680385065,
          -0.009767920214590053,
          -0.010634074044844299,
          -0.010281584438887529,
          -0.010320041688515722,
          -0.0099540537713572,
          -0.008596782153183121,
          -0.00776001664978701,
          -0.006644332742961407,
          -0.004896860657676518,
          -0.0033300887911191356,
          -0.0013208825829575197,
          0.00037619019346317364,
          0.0025579863353314375,
          0.003685830099611243,
          0.005748309099882234,
          0.006637221294081083,
          0.00816896840011148,
          0.009103188896707973,
          0.010445069883984298,
          0.010082046764074669,
          0.0109659082633199,
          0.009338066633755113,
          0.010038565221913098,
          0.008809426359986047,
          0.007741074704260032,
          0.006255870191757169,
          0.004973053668291357,
          0.0031373720816987964,
          0.0014797621747204238,
          -0.00019102368882936184,
          -0.002458068601212791,
          -0.0037545062097746216,
          -0.005938458091388652,
          -0.006673481226294066,
          -0.008443048235522024,
          -0.009411200988306875,
          -0.009764373511463509,
          -0.010368205899619783,
          -0.01025120900873339,
          -0.010192930607292976,
          -0.009626601944584449,
          -0.00904226394146577,
          -0.0076607665176773665,
          -0.006460676696741725,
          -0.0049092208071875865,
          -0.002843114845815455,
          -0.0014903260856201019,
          0.000146046940904772,
          0.0022262035942206453,
          0.0041957889670440765,
          0.005370489428281415,
          0.006589784764496714,
          0.008947549424878581,
          0.00885976015108086,
          0.009846002347589729,
          0.01059985557345229,
          0.010217750713072526,
          0.010466611449210265,
          0.009930206745739351,
          0.008793766019484138,
          0.0076038129786264695,
          0.0065718591277711385,
          0.005021758618304752,
          0.0026335594043275573,
          0.001419330518257168,
          -0.0005799555278261037,
          -0.0019101135580626885,
          -0.0041772828974015195,
          -0.005357234475847601,
          -0.007032264197157644,
          -0.008472728330598919,
          -0.00912898175009272,
          -0.00987940586155481,
          -0.010288456299456565,
          -0.010226879148209448,
          -0.010551604230769417,
          -0.00912592246949561,
          -0.00882307300153692,
          -0.007498291949240865,
          -0.006611085463688039,
          -0.005170546723523986,
          -0.003293994976483576,
          -0.0012594616119457026,
          0.00032536194654176243,
          0.0024266383839777993,
          0.0037913051158996215,
          0.005601845187472922,
          0.006819370415739677,
          0.008264890475042709,
          0.009033814042281924,
          0.010685306528521529,
          0.009282308559402984,
          0.011031380507047276,
          0.009761065357462025,
          0.00982386156742089,
          0.008754320518634515,
          0.0078111740576983345,
          0.00632858539810144,
          0.004893725995923142,
          0.0035864638339082695,
          0.0010773681574568548,
          -0.00035905176044847675,
          -0.0019089362793043747,
          -0.00434772295109738,
          -0.005050371096460464,
          -0.006929621227861976,
          -0.008608650305052328,
          -0.008991836845272194,
          -0.009612567220247187,
          -0.010662278674951883,
          -0.010382098380103054,
          -0.010282012764193299,
          -0.009793775073008016,
          -0.00926037292141773,
          -0.007488413448581268,
          -0.006509986787274169,
          -0.004818497909477424,
          -0.002906467014079446,
          -0.0012827829804096615,
          0.0002925911912637991,
          0.002182932611204071,
          0.0039442472046218886,
          0.005864083767042149,
          0.006931673568281425,
          0.007933099106943564,
          0.00900727803448898,
          0.010078473372956013,
          0.009854903641047363,
          0.010862730291331725,
          0.009890475011300203,
          0.00946618507330871,
          0.0090672875306182,
          0.007451313532823922,
          0.006584711241461725,
          0.0047817399663440865,
          0.003295342646723704,
          0.0013716570796947984,
          -0.0004142151660144911,
          -0.0020050499125010023,
          -0.004159793491398935,
          -0.005816918060272104,
          -0.006716173763015976,
          -0.008468122782838728,
          -0.009035136436825617,
          -0.009955812955768533,
          -0.010458404344344264,
          -0.010127329959003945,
          -0.010849323839416931,
          -0.009258997702388088,
          -0.009238709039802794,
          -0.007550014890875533,
          -0.006538121335953318,
          -0.004621235180448003,
          -0.003236371518475268,
          -0.0011939647293607446,
          0.00016332995642806265,
          0.0023012443104654732,
          0.0038192076353766903,
          0.00581683098292403,
          0.006838005067537855,
          0.00827302517916949,
          0.009517900385802339,
          0.009697103247285397,
          0.010560105462507685,
          0.010691298439085587,
          0.009746706499935786,
          0.009866310759402822,
          0.008340468178588115,
          0.007876680176924947,
          0.006265659305924161,
          0.004915690728134695,
          0.0035273514718968954,
          0.0013938322605061627,
          -0.000408182970459638,
          -0.0021023319027402895,
          -0.004094987592700732,
          -0.005905372655632483,
          -0.006645943100004681,
          -0.008195218473110895,
          -0.009375336172495186,
          -0.010091326187485173,
          -0.010550467222736828,
          -0.010057646863998505,
          -0.010307372673498188,
          -0.009418520453854102,
          -0.009034476916457396,
          -0.00776983879370085,
          -0.006056203703617901,
          -0.005082394031468268,
          -0.003077894792014314,
          -0.0009224722605024175,
          -0.00016130254509679636,
          0.0024009880892238177,
          0.004021523834983432,
          0.005801557408064416,
          0.006824320212685661,
          0.008397315077885636,
          0.009673893873303295,
          0.0097977581876594,
          0.010525983231938867,
          0.010383128810923334,
          0.010022387730568752,
          0.009870533559651356,
          0.008869445375717528,
          0.008234185005179185,
          0.005692463455578066,
          0.0051591802025070955,
          0.003325220558079879,
          0.0013273828732350906,
          -0.0006409202232159912,
          -0.0019239982542509117,
          -0.004577076971169021,
          -0.0048046185687291194,
          -0.007146816243598599,
          -0.008703838879325602,
          -0.009024331759134174,
          -0.010077085754990646,
          -0.010241451491127616,
          -0.009947112025434678,
          -0.010224194871353467,
          -0.009606038033899776,
          -0.009094070003725079,
          -0.007658402639065155,
          -0.006133651404731298,
          -0.00513728271615685,
          -0.0029631023611160255,
          -0.001927469869510953,
          0.0007786213969327761,
          0.0021038101009518977,
          0.004023200248523976,
          0.005582515182688901,
          0.006814154761561224,
          0.008301081148629732,
          0.009299907376571687,
          0.009685758968294074,
          0.010725200502776382,
          0.010065617098232124,
          0.0107080599128369,
          0.009601578340731625,
          0.008875751820793577,
          0.007930611328412504,
          0.006420164525764167,
          0.0049072110419708884,
          0.003096554012392931,
          0.0013997384589266356,
          -0.00033512731137645517,
          -0.002249702279530007,
          -0.0035140850636391488,
          -0.005701935032901147,
          -0.006704465600863784,
          -0.008363003683530091,
          -0.008982778858906729,
          -0.009870958924114695,
          -0.010232738109169913,
          -0.010901921544069604,
          -0.00973171749369022,
          -0.009749939140627549,
          -0.009344667258889307,
          -0.007253448518154722,
          -0.006723758859720902,
          -0.004717266164302831,
          -0.0033433781451115037,
          -0.0010470930387063717,
          -6.520755786655467e-05,
          0.0029289390711570683,
          0.004316522418440877,
          0.005322734349208304,
          0.007619735795740406,
          0.007596651846722698,
          0.00920355191675062,
          0.009700401297183511,
          0.010715620543360777,
          0.010574084458666618,
          0.00996698993913542,
          0.00996698998309431,
          0.008469302864500745,
          0.008027695283649572,
          0.0064455551495582256,
          0.005018914174509394,
          0.0031396938480967363,
          0.0013578228898156435,
          -0.000895761181343638,
          -0.0019677340682777364,
          -0.003977936938023096
         ],
         "yaxis": "y"
        },
        {
         "hovertemplate": "variable=vel1<br>index=%{x}<br>value=%{y}<extra></extra>",
         "legendgroup": "vel1",
         "line": {
          "color": "#EF553B",
          "dash": "solid"
         },
         "marker": {
          "symbol": "circle"
         },
         "mode": "lines",
         "name": "vel1",
         "showlegend": true,
         "type": "scattergl",
         "x": [
          0,
          1,
          2,
          3,
          4,
          5,
          6,
          7,
          8,
          9,
          10,
          11,
          12,
          13,
          14,
          15,
          16,
          17,
          18,
          19,
          20,
          21,
          22,
          23,
          24,
          25,
          26,
          27,
          28,
          29,
          30,
          31,
          32,
          33,
          34,
          35,
          36,
          37,
          38,
          39,
          40,
          41,
          42,
          43,
          44,
          45,
          46,
          47,
          48,
          49,
          50,
          51,
          52,
          53,
          54,
          55,
          56,
          57,
          58,
          59,
          60,
          61,
          62,
          63,
          64,
          65,
          66,
          67,
          68,
          69,
          70,
          71,
          72,
          73,
          74,
          75,
          76,
          77,
          78,
          79,
          80,
          81,
          82,
          83,
          84,
          85,
          86,
          87,
          88,
          89,
          90,
          91,
          92,
          93,
          94,
          95,
          96,
          97,
          98,
          99,
          100,
          101,
          102,
          103,
          104,
          105,
          106,
          107,
          108,
          109,
          110,
          111,
          112,
          113,
          114,
          115,
          116,
          117,
          118,
          119,
          120,
          121,
          122,
          123,
          124,
          125,
          126,
          127,
          128,
          129,
          130,
          131,
          132,
          133,
          134,
          135,
          136,
          137,
          138,
          139,
          140,
          141,
          142,
          143,
          144,
          145,
          146,
          147,
          148,
          149,
          150,
          151,
          152,
          153,
          154,
          155,
          156,
          157,
          158,
          159,
          160,
          161,
          162,
          163,
          164,
          165,
          166,
          167,
          168,
          169,
          170,
          171,
          172,
          173,
          174,
          175,
          176,
          177,
          178,
          179,
          180,
          181,
          182,
          183,
          184,
          185,
          186,
          187,
          188,
          189,
          190,
          191,
          192,
          193,
          194,
          195,
          196,
          197,
          198,
          199,
          200,
          201,
          202,
          203,
          204,
          205,
          206,
          207,
          208,
          209,
          210,
          211,
          212,
          213,
          214,
          215,
          216,
          217,
          218,
          219,
          220,
          221,
          222,
          223,
          224,
          225,
          226,
          227,
          228,
          229,
          230,
          231,
          232,
          233,
          234,
          235,
          236,
          237,
          238,
          239,
          240,
          241,
          242,
          243,
          244,
          245,
          246,
          247,
          248,
          249,
          250,
          251,
          252,
          253,
          254,
          255,
          256,
          257,
          258,
          259,
          260,
          261,
          262,
          263,
          264,
          265,
          266,
          267,
          268,
          269,
          270,
          271,
          272,
          273,
          274,
          275,
          276,
          277,
          278,
          279,
          280,
          281,
          282,
          283,
          284,
          285,
          286,
          287,
          288,
          289,
          290,
          291,
          292,
          293,
          294,
          295,
          296,
          297,
          298,
          299,
          300,
          301,
          302,
          303,
          304,
          305,
          306,
          307,
          308,
          309,
          310,
          311,
          312,
          313,
          314,
          315,
          316,
          317,
          318,
          319,
          320,
          321,
          322,
          323,
          324,
          325,
          326,
          327,
          328,
          329,
          330,
          331,
          332,
          333,
          334,
          335,
          336,
          337,
          338,
          339,
          340,
          341,
          342,
          343,
          344,
          345,
          346,
          347,
          348,
          349,
          350,
          351,
          352,
          353,
          354,
          355,
          356,
          357,
          358,
          359,
          360,
          361,
          362,
          363,
          364,
          365,
          366,
          367,
          368,
          369,
          370,
          371,
          372,
          373,
          374,
          375,
          376,
          377,
          378,
          379,
          380,
          381,
          382,
          383,
          384,
          385,
          386,
          387,
          388,
          389,
          390,
          391,
          392,
          393,
          394,
          395,
          396,
          397,
          398
         ],
         "xaxis": "x",
         "y": [
          0,
          -0.00018640063686483716,
          8.796590766611804e-05,
          6.555531791157129e-05,
          -6.604383883614232e-05,
          0.0003450077265718721,
          -0.00039283618523678644,
          0.0001794971969492555,
          -4.097449431958873e-06,
          7.102055595923199e-05,
          -1.9986109258567188e-05,
          -6.19532156304506e-05,
          0.00013028226386323336,
          0.00010056381626498664,
          0.00013780617046149271,
          -0.00010677806439831417,
          5.2352954226296316e-05,
          -0.00020638548480054304,
          -0.00015455124916073022,
          0.00042090386227205164,
          0.0002733835095974033,
          1.8846048123481412e-05,
          0.0002717274802830447,
          -0.0003091696492015894,
          0.00016562653585842538,
          9.510983248160824e-05,
          8.73570118274297e-05,
          2.3561596011725786e-06,
          -8.022025265361839e-05,
          0.00024548700873893174,
          -0.0001178078902331877,
          0.0004371168794147556,
          1.5759144251114223e-05,
          -0.00020052540413528856,
          -0.0001320545566866396,
          -0.0005055344577195888,
          2.3701596707775024e-05,
          0.0004214989511702083,
          0.00018392540695589434,
          0.00024528057478417973,
          -0.000130650636941956,
          0.0003140496540115983,
          -2.4569769615717836e-05,
          0.0001860366707418141,
          -4.252803167965576e-05,
          8.111706847101486e-05,
          0.0005678727653955817,
          -0.0003038752563733201,
          0.00033514040202915806,
          2.068858120497922e-05,
          0.0003468287336738288,
          -0.0003117297821891821,
          9.443353650901321e-05,
          9.921753393618381e-05,
          5.921505734168143e-05,
          -1.2229440577367975e-05,
          0.0003645177660467451,
          -0.0001218916096215158,
          -0.00025490833650805025,
          0.00013387653674947858,
          0.00010518194087685395,
          -0.0002796467757908253,
          0.0003240669593502541,
          5.502757286991575e-05,
          -4.2868673471045354e-05,
          -5.531099347299453e-05,
          -0.0002691466007642282,
          0.0004971111887518628,
          0.00018603151634884044,
          -0.00015119618081429006,
          0.000251935068964992,
          -0.00011997108535068013,
          -0.00028007039675252476,
          0.00033330194042701094,
          -0.00015868288716087931,
          0.00027217997445154127,
          -9.105620832745597e-05,
          0.0001197607534041278,
          0.0001903305992901529,
          0.00012842034286450374,
          -2.636653346028249e-05,
          -0.00041243351656089554,
          0.00024331158176743147,
          -1.589195268574974e-05,
          0.00015437925130231712,
          5.92435680814868e-05,
          -0.0003482379422613964,
          8.66034078208568e-05,
          0.00020610558912959205,
          0.0002578115872578323,
          6.751575961420496e-05,
          -5.471917355314265e-05,
          0.00034705887592708024,
          -0.00024219346961528294,
          -0.000309412828918392,
          0.0004831880801127152,
          -0.0002530936066341222,
          0.00031690678050834095,
          -1.0081058365326617e-05,
          -0.0003572638229468013,
          -0.00030638471559367794,
          0.00031728296903710056,
          5.6832858895416995e-05,
          -0.00027359513697151834,
          -1.4043279171327725e-05,
          0.00043836048334124783,
          0.0001409821585221252,
          -0.00029025421105886753,
          -3.867163191598983e-05,
          0.00015360925002698243,
          4.196327473661142e-06,
          0.00010097220814581995,
          -9.278302832877998e-06,
          -0.0002143156878717523,
          0.00016088998904084504,
          -0.00010912976241015095,
          8.990687272994333e-05,
          7.296728935013379e-05,
          0.00014655609190113947,
          -0.00013876822025855263,
          7.022059775908325e-05,
          -7.723623206848179e-05,
          -7.126462250116758e-05,
          0.00012957066915076067,
          0.00021038918855368662,
          -0.0003388814195149464,
          0.00038671968462650126,
          -0.00013111850474776127,
          -2.3964085668241838e-05,
          0.0003005851871842964,
          -0.0003253832895266973,
          0.00036079372163404103,
          0.0002014714389641688,
          -1.782794247634289e-05,
          -0.00015233888366221888,
          0.0007085209226727902,
          -0.0007276989184952015,
          0.0004133968182631474,
          9.852437484630701e-05,
          0.0004293769348279864,
          -0.00040872955568859625,
          -8.6744444060871e-05,
          -0.00011988948169994327,
          0.0003957824440788097,
          -0.00022646393928659297,
          0.0005010276641206565,
          -0.00031249554561381214,
          0.0005286110827567259,
          0.00018886847387967532,
          -0.00015320839980696501,
          2.96439613865058e-05,
          0.0006504308248714919,
          -0.0007771686059015418,
          0.0005332719867439809,
          -0.0003585281368394847,
          0.00036329850504705264,
          -0.00036778321646081796,
          0.00029570434873405296,
          2.4599465292125063e-05,
          5.423129989717387e-05,
          -0.00015163401113232723,
          6.593319072904628e-05,
          -6.272756875074423e-05,
          3.7609097609791356e-05,
          0.0002947320974010086,
          -0.00016868859988365052,
          0.00017114983787661395,
          -0.00027419429991918797,
          0.00011337499849708707,
          0.00038575540949475483,
          -0.0005829635770803789,
          0.00017388307562806894,
          0.0004174611022900298,
          0.00024124815292670987,
          1.1500088209735572e-05,
          -0.00016242613222266735,
          8.461022449234114e-05,
          2.513689597041514e-05,
          0.0002430990113280244,
          0.00018069920548908578,
          0.0001281939839206098,
          0.00011554474123975467,
          9.643864554936029e-05,
          0.00022445388010487402,
          -0.000348803311699292,
          -0.00029689962713148524,
          0.000614914302176035,
          -9.78567639938262e-05,
          -0.00040734843358306624,
          0.000922343199410069,
          -0.0003741921860323696,
          0.00025311324380750984,
          -2.4956322625709307e-05,
          0.0003593073227545673,
          -0.0002556849454840108,
          0.00019036007218630027,
          -0.0006079415536804132,
          0.0012005423599970259,
          -0.00039977578307145214,
          -4.8959429565036696e-05,
          0.00016779817230482295,
          -0.00020564484350988358,
          0.00038458263226776236,
          -0.0003043017673999862,
          2.7702592380690775e-05,
          0.0001298786566980125,
          -0.00018079375774170483,
          5.057422284959954e-05,
          0.0004552989193300284,
          0.00028875853479809585,
          -0.00045662253305739874,
          0.0003950227956847364,
          0.00013894817415560325,
          0.0002956940222632678,
          -0.00021883022493743054,
          0.0003632798323492313,
          -0.000509597150519158,
          0.0003837742120880126,
          -1.4949468103331008e-06,
          0.00028443185136953696,
          -0.00046893835882990114,
          0.00016279236585833585,
          0.00023153791916040136,
          -0.00021570831868434945,
          0.0004525965343603599,
          -0.00042464780579074175,
          0.0004502048063473711,
          -0.00028893637039133924,
          -0.0001024278126579909,
          0.00022803176718644812,
          0.00016159378758772198,
          -0.000321520384222883,
          -0.0003587058837506692,
          0.0006775994393641036,
          2.5922071842497046e-05,
          -4.378218898545538e-05,
          0.0006605449035168179,
          -0.00016558198404354943,
          8.486499555445556e-05,
          0.00015714777186570571,
          5.727686962241317e-05,
          0.0002341646038367776,
          6.0179181098952804e-05,
          -0.00025557133644335165,
          -0.0001267164837164583,
          0.00030918403219350806,
          6.972046884098783e-05,
          0.00010479554342290715,
          0.0003682407223466551,
          -0.00011863444337265896,
          -6.837637631321476e-05,
          9.213920593314831e-05,
          5.9519847667186346e-05,
          8.609374867075213e-05,
          0.00013754982824143523,
          1.7404853507825334e-05,
          5.376300162365244e-05,
          0.0001678888471427018,
          0.00022579968430220198,
          0.0002807609564581779,
          -0.00014587533987470025,
          -1.4065158575696385e-05,
          -6.31425007212147e-05,
          0.00034086376009101975,
          -8.121704172293936e-05,
          0.00019437714683221135,
          8.599098304610934e-05,
          0.0005111762917818291,
          4.3606104746921425e-05,
          -0.0002728121997996665,
          0.00027267433885986257,
          -0.0004347688283149515,
          0.0004840930643982235,
          -0.00023637811834308086,
          0.00022595572396547602,
          -0.00024017841332315062,
          0.00012395246321040215,
          -2.3098044916534178e-05,
          0.0004052974238071606,
          -0.0004911671905443594,
          0.00040952255385465674,
          -0.00015975408309475592,
          0.00044021663351919685,
          -0.00045981691422982774,
          0.0005156259455171125,
          -0.00020805500216124865,
          0.00012059534559413838,
          8.197759140880084e-05,
          0.00015275043906966604,
          -9.43608607820947e-05,
          0.0002618727091220616,
          -0.0003993673274276258,
          0.00028062502090931893,
          0.0002888143706200348,
          -6.696878785398312e-05,
          6.058877879606662e-05,
          0.00019876653247963868,
          0.00011093661963779471,
          0.00010637200593063061,
          -0.00018939341439550244,
          0.00018614133549521914,
          0.00014419642947061128,
          -4.0238863875509196e-05,
          0.0002276950604386812,
          5.105045497895617e-05,
          -0.00016800807723956555,
          0.0001642321236839022,
          0.0001577666892490629,
          3.6391497986446104e-05,
          -0.00020586250334115761,
          -0.0001598698713626989,
          0.00020393756999468422,
          8.754797090930827e-05,
          0.00017490933722928156,
          0.00016471813022152983,
          -0.00028469449401965835,
          0.0006817871271215788,
          -0.0002656936968363235,
          0.0006473091057286191,
          -0.00023993372015489991,
          0.0006385612366840679,
          0.00014022272267314237,
          -9.348743941674368e-05,
          0.00017289845553315278,
          9.322974491306833e-05,
          0.0003423223155753088,
          -0.000156273800079696,
          0.00036149575230357586,
          -0.00034774793192237394,
          0.00017454779010918017,
          0.00022516300750223263,
          -0.00029746534423390604,
          0.00016379576324002598,
          0.0004117369947252605,
          -0.00024811480969305763,
          -5.245517289481045e-05,
          0.00017176419331005476,
          0.00019738841688543538,
          -0.0001114261576834199,
          -0.00013270552771700312,
          -0.00012191810956027228,
          0.00017878254420536683,
          -3.6692537553131437e-06,
          0.0006568871313819907,
          0.00021191774745554486,
          -0.0001425011232384163,
          0.00014639057210745195,
          2.138604746543605e-05,
          0.0002888974622065572,
          -0.000246914699060721,
          0.00034251557834611763,
          -0.00024779111026355987,
          -4.793089576343837e-05,
          5.442852663196457e-06,
          0.000347000587947246,
          -0.0002867812718612365,
          0.0002801210433262829,
          -0.00012520898210417449,
          5.969600561808512e-05,
          -0.00018357824999452158,
          -0.00015242960379819798,
          -1.7510743518670596e-05,
          0.0003875135579453682,
          0.00029935487573679015,
          -2.5188160306097014e-05,
          -5.744048142796311e-05,
          -0.00024371580978884886,
          0.0005822756047189144,
          -0.0005095072003194927,
          -0.00011169535651581384,
          0.0001495038222751656,
          0.00015436762570120464,
          -0.0002986519042792009,
          0.0002832366666853574,
          4.846199169911278e-05,
          -0.00019232017756087443,
          0.0003174148005899325,
          0.0001153119484211362,
          2.0204515543018518e-05,
          0.00013396548065714415,
          -0.00014426244213690379,
          0.0003534979952365227,
          -0.00021499619190174546,
          0.00041177259795735185,
          -4.917071274594159e-05,
          0.0001426275196097842,
          3.259017855793695e-05,
          0.0003667906969637332,
          -0.00010115435981220977,
          0.00019224214067813764,
          0.000502631450541482,
          -0.00010020390715232921,
          0.0003038204318535641,
          -0.0002449870597095228,
          0.0002646331130226261,
          9.576575479658701e-05,
          1.7791737374173812e-07,
          -0.0003216099531292264,
          0.0005938018158993569
         ],
         "yaxis": "y"
        },
        {
         "hovertemplate": "variable=vel2<br>index=%{x}<br>value=%{y}<extra></extra>",
         "legendgroup": "vel2",
         "line": {
          "color": "#00cc96",
          "dash": "solid"
         },
         "marker": {
          "symbol": "circle"
         },
         "mode": "lines",
         "name": "vel2",
         "showlegend": true,
         "type": "scattergl",
         "x": [
          0,
          1,
          2,
          3,
          4,
          5,
          6,
          7,
          8,
          9,
          10,
          11,
          12,
          13,
          14,
          15,
          16,
          17,
          18,
          19,
          20,
          21,
          22,
          23,
          24,
          25,
          26,
          27,
          28,
          29,
          30,
          31,
          32,
          33,
          34,
          35,
          36,
          37,
          38,
          39,
          40,
          41,
          42,
          43,
          44,
          45,
          46,
          47,
          48,
          49,
          50,
          51,
          52,
          53,
          54,
          55,
          56,
          57,
          58,
          59,
          60,
          61,
          62,
          63,
          64,
          65,
          66,
          67,
          68,
          69,
          70,
          71,
          72,
          73,
          74,
          75,
          76,
          77,
          78,
          79,
          80,
          81,
          82,
          83,
          84,
          85,
          86,
          87,
          88,
          89,
          90,
          91,
          92,
          93,
          94,
          95,
          96,
          97,
          98,
          99,
          100,
          101,
          102,
          103,
          104,
          105,
          106,
          107,
          108,
          109,
          110,
          111,
          112,
          113,
          114,
          115,
          116,
          117,
          118,
          119,
          120,
          121,
          122,
          123,
          124,
          125,
          126,
          127,
          128,
          129,
          130,
          131,
          132,
          133,
          134,
          135,
          136,
          137,
          138,
          139,
          140,
          141,
          142,
          143,
          144,
          145,
          146,
          147,
          148,
          149,
          150,
          151,
          152,
          153,
          154,
          155,
          156,
          157,
          158,
          159,
          160,
          161,
          162,
          163,
          164,
          165,
          166,
          167,
          168,
          169,
          170,
          171,
          172,
          173,
          174,
          175,
          176,
          177,
          178,
          179,
          180,
          181,
          182,
          183,
          184,
          185,
          186,
          187,
          188,
          189,
          190,
          191,
          192,
          193,
          194,
          195,
          196,
          197,
          198,
          199,
          200,
          201,
          202,
          203,
          204,
          205,
          206,
          207,
          208,
          209,
          210,
          211,
          212,
          213,
          214,
          215,
          216,
          217,
          218,
          219,
          220,
          221,
          222,
          223,
          224,
          225,
          226,
          227,
          228,
          229,
          230,
          231,
          232,
          233,
          234,
          235,
          236,
          237,
          238,
          239,
          240,
          241,
          242,
          243,
          244,
          245,
          246,
          247,
          248,
          249,
          250,
          251,
          252,
          253,
          254,
          255,
          256,
          257,
          258,
          259,
          260,
          261,
          262,
          263,
          264,
          265,
          266,
          267,
          268,
          269,
          270,
          271,
          272,
          273,
          274,
          275,
          276,
          277,
          278,
          279,
          280,
          281,
          282,
          283,
          284,
          285,
          286,
          287,
          288,
          289,
          290,
          291,
          292,
          293,
          294,
          295,
          296,
          297,
          298,
          299,
          300,
          301,
          302,
          303,
          304,
          305,
          306,
          307,
          308,
          309,
          310,
          311,
          312,
          313,
          314,
          315,
          316,
          317,
          318,
          319,
          320,
          321,
          322,
          323,
          324,
          325,
          326,
          327,
          328,
          329,
          330,
          331,
          332,
          333,
          334,
          335,
          336,
          337,
          338,
          339,
          340,
          341,
          342,
          343,
          344,
          345,
          346,
          347,
          348,
          349,
          350,
          351,
          352,
          353,
          354,
          355,
          356,
          357,
          358,
          359,
          360,
          361,
          362,
          363,
          364,
          365,
          366,
          367,
          368,
          369,
          370,
          371,
          372,
          373,
          374,
          375,
          376,
          377,
          378,
          379,
          380,
          381,
          382,
          383,
          384,
          385,
          386,
          387,
          388,
          389,
          390,
          391,
          392,
          393,
          394,
          395,
          396,
          397,
          398
         ],
         "xaxis": "x",
         "y": [
          0,
          -2.8797885378406233e-05,
          -0.002299917984920533,
          -0.0033004907790110645,
          -0.004293049884084225,
          -0.0054089397666467025,
          -0.0062077879966233335,
          -0.006985195612279335,
          -0.00836567072378483,
          -0.009488266310145165,
          -0.010532249362069082,
          -0.01122991891550392,
          -0.012422792567726567,
          -0.01284580977974745,
          -0.01517935282785263,
          -0.015619083033952538,
          -0.01645498898498117,
          -0.017542252148014303,
          -0.018465706093861552,
          -0.019253324128006153,
          -0.020609973768328536,
          -0.02179207006820337,
          -0.022439492284096675,
          -0.023625226248655,
          -0.024651414547920834,
          -0.025414013546534903,
          -0.026751090720020198,
          -0.02743529660026283,
          -0.029032915686158855,
          -0.029842349755206943,
          -0.030516846392629356,
          -0.03187213751407862,
          -0.0327173913905457,
          -0.03380559903744474,
          -0.03480475114080266,
          -0.0361138882326008,
          -0.03717900222667235,
          -0.03778058166378587,
          -0.03927539622456757,
          -0.039820462829109934,
          -0.04066659819546721,
          -0.04243101842004838,
          -0.04334214015635808,
          -0.04386542443657339,
          -0.045271019603045415,
          -0.04659564633759516,
          -0.047300748917195434,
          -0.04821735898969762,
          -0.049358423532360265,
          -0.050744668404762876,
          -0.052087715760482566,
          -0.05222091114858655,
          -0.05373539648556129,
          -0.05470447901012223,
          -0.05564722808288579,
          -0.05687042294188379,
          -0.05780880133178429,
          -0.059112884296410706,
          -0.06003319190255835,
          -0.0611087756874265,
          -0.06207576288968606,
          -0.06319304886693962,
          -0.06420324352765186,
          -0.06550802733106813,
          -0.0665657560981382,
          -0.0672296446417096,
          -0.06812863805483493,
          -0.06960991738528295,
          -0.07045419188222625,
          -0.07193951130908546,
          -0.0726288722621493,
          -0.07392917018642939,
          -0.07493843725419326,
          -0.07594635784110132,
          -0.07747508130643735,
          -0.07821256473423277,
          -0.07928075647953682,
          -0.08027640728464878,
          -0.08132919385162372,
          -0.08216747501146855,
          -0.08412825933104076,
          -0.08422400051005179,
          -0.0856959145060964,
          -0.08693293977784959,
          -0.08794175595894453,
          -0.08887708193925697,
          -0.08994601937847174,
          -0.09159925982108413,
          -0.09232685164509694,
          -0.09327944321905912,
          -0.09447995507461492,
          -0.09542257392184701,
          -0.09636180396441084,
          -0.09815931553836699,
          -0.09857643356465565,
          -0.09968197381898823,
          -0.10145373755807825,
          -0.10168944591741176,
          -0.10357383160619554,
          -0.10457984486170017,
          -0.10565589907040443,
          -0.10618666038909103,
          -0.10775062499663618,
          -0.1089395739002578,
          -0.1098743656581515,
          -0.11097168022830954,
          -0.11218405612153537,
          -0.11320099142885626,
          -0.11431305900827854,
          -0.11545197338433164,
          -0.11671791597222528,
          -0.11750029706642291,
          -0.11896763245788526,
          -0.119775995785975,
          -0.12090429340923556,
          -0.12238952149016057,
          -0.12311797196158272,
          -0.12435162214391313,
          -0.12546164729547402,
          -0.12691922691109597,
          -0.12762809810350248,
          -0.12913429079811045,
          -0.12981462694258014,
          -0.13132694713567533,
          -0.13234535180326162,
          -0.13354753474495804,
          -0.13473838289360884,
          -0.13521376558338788,
          -0.13743868873906187,
          -0.13784155527113823,
          -0.13880854407159737,
          -0.14032625340712745,
          -0.1410473489046783,
          -0.1425927357889952,
          -0.14336267215300216,
          -0.14492153610087394,
          -0.14639419782142213,
          -0.1470209421257877,
          -0.14738608244367812,
          -0.1492556661162206,
          -0.15097008859497885,
          -0.15182739040724796,
          -0.1528401236879239,
          -0.1536325015833582,
          -0.15556258767098058,
          -0.1560633192611292,
          -0.15700326531703204,
          -0.15890865792134504,
          -0.15965589841532263,
          -0.16109059954967697,
          -0.16209681485247185,
          -0.16321280864986998,
          -0.16437746943153903,
          -0.16557244174675975,
          -0.16693833079805542,
          -0.16800526949464484,
          -0.1691506062762141,
          -0.17035242970864015,
          -0.17167881292025852,
          -0.17225596089284836,
          -0.1738266027405977,
          -0.17527204903173124,
          -0.17600489571733327,
          -0.17697145097689412,
          -0.17848464871308342,
          -0.17982514547283965,
          -0.18074490679169314,
          -0.1820401406110963,
          -0.18366834173110855,
          -0.18395698613879102,
          -0.18577855423073028,
          -0.18690206367131607,
          -0.18770329723656212,
          -0.1894650043705807,
          -0.19010252645507955,
          -0.1916309929010043,
          -0.1928744204033376,
          -0.1937092828655359,
          -0.19550571565578528,
          -0.19617038876375614,
          -0.19707273864047886,
          -0.1986893555803958,
          -0.19990149613269828,
          -0.20101645850295563,
          -0.20219699251413575,
          -0.20346191302003505,
          -0.20466431036706087,
          -0.20557082239238647,
          -0.2072290268430771,
          -0.20822052656514303,
          -0.20956386008588465,
          -0.21045823062794344,
          -0.21216980064032923,
          -0.21279152539663282,
          -0.2145368209235762,
          -0.21568838362844478,
          -0.216898722018962,
          -0.21761751128051077,
          -0.218900004762525,
          -0.22086362592467895,
          -0.22153889502853943,
          -0.2232076303937339,
          -0.22419473370403314,
          -0.2249615510223803,
          -0.2264764477045283,
          -0.22810632585875473,
          -0.22900930102933195,
          -0.23026119487456903,
          -0.2315665569280883,
          -0.2327079130676177,
          -0.23411989822629012,
          -0.23467650278125982,
          -0.23657600648485036,
          -0.23748730522360806,
          -0.23900801369502211,
          -0.24011344599259335,
          -0.24124323649227622,
          -0.24244860444190253,
          -0.2439789421214861,
          -0.2446134795847737,
          -0.2466161927525057,
          -0.2474776749235425,
          -0.24899700231078137,
          -0.25036109859764244,
          -0.25079158927810685,
          -0.25271387249530763,
          -0.25352431193473995,
          -0.25550434242062453,
          -0.2559674510290468,
          -0.2578905934015775,
          -0.25866805557432104,
          -0.26037994621178245,
          -0.26069822872569803,
          -0.26313845023880855,
          -0.2637341756728573,
          -0.2650371626250885,
          -0.26675501198561385,
          -0.2676220365915755,
          -0.2691602825155762,
          -0.27014971208351346,
          -0.27146822866538184,
          -0.2726736072098184,
          -0.2737195783823733,
          -0.27565433636831244,
          -0.27662894806518745,
          -0.27761231273890896,
          -0.2790521910745601,
          -0.28062736165963126,
          -0.28173796862755773,
          -0.28236226915719004,
          -0.28437793690172614,
          -0.2852695609669985,
          -0.286859252483598,
          -0.28821480315854553,
          -0.2895511393171916,
          -0.2903554782942549,
          -0.29193766722662906,
          -0.2930273962935118,
          -0.2948477450843068,
          -0.2959584874415101,
          -0.29682450832426593,
          -0.2989883176500452,
          -0.2999456712449833,
          -0.30061348132832444,
          -0.3022474943538229,
          -0.30424431687070014,
          -0.30457688272835093,
          -0.3064478905462316,
          -0.3074522344824387,
          -0.30867842981205107,
          -0.3103646618583641,
          -0.31167082486325104,
          -0.31224324918319674,
          -0.31429267428826624,
          -0.3156207287882304,
          -0.31671317743653754,
          -0.317891225048769,
          -0.31924021063426933,
          -0.32082991435410363,
          -0.3218465076908141,
          -0.32363801970059863,
          -0.3243156145132612,
          -0.3263977116248749,
          -0.32710349027012153,
          -0.32827916773399135,
          -0.3302587838983935,
          -0.3313226561078654,
          -0.33282629838781375,
          -0.3336995827637218,
          -0.3353530446683473,
          -0.33656811361261435,
          -0.33811821760212857,
          -0.3391921377407842,
          -0.3405594667564309,
          -0.34204375494975053,
          -0.34359807126887426,
          -0.34444133760720635,
          -0.34537808362918243,
          -0.34785965382073425,
          -0.3485812776534735,
          -0.3497271818050583,
          -0.35184863018199164,
          -0.3527713101006575,
          -0.3540300815048054,
          -0.3553585915525188,
          -0.3568541611347441,
          -0.35842632802175156,
          -0.3594229723141566,
          -0.36056821959850327,
          -0.36243016461331906,
          -0.36387701649672716,
          -0.3649563952856145,
          -0.366259377905198,
          -0.3675701853532395,
          -0.3690019531922461,
          -0.37039990437873727,
          -0.37205547767033154,
          -0.3731109093096338,
          -0.37454935236933456,
          -0.3760678753250966,
          -0.3773603828828629,
          -0.3783649604532526,
          -0.3800967026383081,
          -0.38167091022215094,
          -0.38289037872038645,
          -0.3841022493641363,
          -0.38605733692317135,
          -0.3865080288169481,
          -0.3882680448194045,
          -0.38967282032697187,
          -0.3911801340526484,
          -0.3925339130606477,
          -0.39428069440082125,
          -0.3949488993107923,
          -0.3968255590745884,
          -0.3980173883447309,
          -0.3995989532737995,
          -0.4011045396151452,
          -0.4019966898351946,
          -0.40406723586872,
          -0.404780472780494,
          -0.40654678977886816,
          -0.4081783103689383,
          -0.40933356556219064,
          -0.4102622538909011,
          -0.4123004300828446,
          -0.4130986900304318,
          -0.41512046726266105,
          -0.41664474353248065,
          -0.4175524920685016,
          -0.4192427081773967,
          -0.42079393127065046,
          -0.4220537520650656,
          -0.4231720688452382,
          -0.42522055670489184,
          -0.4260918363868125,
          -0.42789847638667833,
          -0.429349869098103,
          -0.4303327508297213,
          -0.43196909137460415,
          -0.4340666507743013,
          -0.4347561504861456,
          -0.43637012358463867,
          -0.4377506625076343,
          -0.43896632086725534,
          -0.4408563437030259,
          -0.4420049698161814,
          -0.44355913890661,
          -0.4449023194630853,
          -0.4462489416414072,
          -0.4481462708072306,
          -0.44926229468152923,
          -0.4506774777174092,
          -0.4522500763299621,
          -0.45357548729631164,
          -0.45504377501228305,
          -0.4566335926703945,
          -0.4585458838721866,
          -0.4595801712074524,
          -0.4609395454466981,
          -0.4623464754392008,
          -0.4640765008125434,
          -0.46535413260427627,
          -0.46691892470340923,
          -0.4684075427983107,
          -0.4694299102348282,
          -0.4711361423106895,
          -0.4727237526092249,
          -0.47398134842814926,
          -0.47542474699896,
          -0.47707117689560746,
          -0.4787656931438803,
          -0.48004858659489047,
          -0.4812535703635493,
          -0.483010899983797,
          -0.484938786473247,
          -0.48542650559391964,
          -0.4879786751086483,
          -0.48858164115229613
         ],
         "yaxis": "y"
        }
       ],
       "layout": {
        "autosize": true,
        "legend": {
         "title": {
          "text": "variable"
         },
         "tracegroupgap": 0
        },
        "margin": {
         "t": 60
        },
        "template": {
         "data": {
          "bar": [
           {
            "error_x": {
             "color": "#2a3f5f"
            },
            "error_y": {
             "color": "#2a3f5f"
            },
            "marker": {
             "line": {
              "color": "#E5ECF6",
              "width": 0.5
             },
             "pattern": {
              "fillmode": "overlay",
              "size": 10,
              "solidity": 0.2
             }
            },
            "type": "bar"
           }
          ],
          "barpolar": [
           {
            "marker": {
             "line": {
              "color": "#E5ECF6",
              "width": 0.5
             },
             "pattern": {
              "fillmode": "overlay",
              "size": 10,
              "solidity": 0.2
             }
            },
            "type": "barpolar"
           }
          ],
          "carpet": [
           {
            "aaxis": {
             "endlinecolor": "#2a3f5f",
             "gridcolor": "white",
             "linecolor": "white",
             "minorgridcolor": "white",
             "startlinecolor": "#2a3f5f"
            },
            "baxis": {
             "endlinecolor": "#2a3f5f",
             "gridcolor": "white",
             "linecolor": "white",
             "minorgridcolor": "white",
             "startlinecolor": "#2a3f5f"
            },
            "type": "carpet"
           }
          ],
          "choropleth": [
           {
            "colorbar": {
             "outlinewidth": 0,
             "ticks": ""
            },
            "type": "choropleth"
           }
          ],
          "contour": [
           {
            "colorbar": {
             "outlinewidth": 0,
             "ticks": ""
            },
            "colorscale": [
             [
              0,
              "#0d0887"
             ],
             [
              0.1111111111111111,
              "#46039f"
             ],
             [
              0.2222222222222222,
              "#7201a8"
             ],
             [
              0.3333333333333333,
              "#9c179e"
             ],
             [
              0.4444444444444444,
              "#bd3786"
             ],
             [
              0.5555555555555556,
              "#d8576b"
             ],
             [
              0.6666666666666666,
              "#ed7953"
             ],
             [
              0.7777777777777778,
              "#fb9f3a"
             ],
             [
              0.8888888888888888,
              "#fdca26"
             ],
             [
              1,
              "#f0f921"
             ]
            ],
            "type": "contour"
           }
          ],
          "contourcarpet": [
           {
            "colorbar": {
             "outlinewidth": 0,
             "ticks": ""
            },
            "type": "contourcarpet"
           }
          ],
          "heatmap": [
           {
            "colorbar": {
             "outlinewidth": 0,
             "ticks": ""
            },
            "colorscale": [
             [
              0,
              "#0d0887"
             ],
             [
              0.1111111111111111,
              "#46039f"
             ],
             [
              0.2222222222222222,
              "#7201a8"
             ],
             [
              0.3333333333333333,
              "#9c179e"
             ],
             [
              0.4444444444444444,
              "#bd3786"
             ],
             [
              0.5555555555555556,
              "#d8576b"
             ],
             [
              0.6666666666666666,
              "#ed7953"
             ],
             [
              0.7777777777777778,
              "#fb9f3a"
             ],
             [
              0.8888888888888888,
              "#fdca26"
             ],
             [
              1,
              "#f0f921"
             ]
            ],
            "type": "heatmap"
           }
          ],
          "heatmapgl": [
           {
            "colorbar": {
             "outlinewidth": 0,
             "ticks": ""
            },
            "colorscale": [
             [
              0,
              "#0d0887"
             ],
             [
              0.1111111111111111,
              "#46039f"
             ],
             [
              0.2222222222222222,
              "#7201a8"
             ],
             [
              0.3333333333333333,
              "#9c179e"
             ],
             [
              0.4444444444444444,
              "#bd3786"
             ],
             [
              0.5555555555555556,
              "#d8576b"
             ],
             [
              0.6666666666666666,
              "#ed7953"
             ],
             [
              0.7777777777777778,
              "#fb9f3a"
             ],
             [
              0.8888888888888888,
              "#fdca26"
             ],
             [
              1,
              "#f0f921"
             ]
            ],
            "type": "heatmapgl"
           }
          ],
          "histogram": [
           {
            "marker": {
             "pattern": {
              "fillmode": "overlay",
              "size": 10,
              "solidity": 0.2
             }
            },
            "type": "histogram"
           }
          ],
          "histogram2d": [
           {
            "colorbar": {
             "outlinewidth": 0,
             "ticks": ""
            },
            "colorscale": [
             [
              0,
              "#0d0887"
             ],
             [
              0.1111111111111111,
              "#46039f"
             ],
             [
              0.2222222222222222,
              "#7201a8"
             ],
             [
              0.3333333333333333,
              "#9c179e"
             ],
             [
              0.4444444444444444,
              "#bd3786"
             ],
             [
              0.5555555555555556,
              "#d8576b"
             ],
             [
              0.6666666666666666,
              "#ed7953"
             ],
             [
              0.7777777777777778,
              "#fb9f3a"
             ],
             [
              0.8888888888888888,
              "#fdca26"
             ],
             [
              1,
              "#f0f921"
             ]
            ],
            "type": "histogram2d"
           }
          ],
          "histogram2dcontour": [
           {
            "colorbar": {
             "outlinewidth": 0,
             "ticks": ""
            },
            "colorscale": [
             [
              0,
              "#0d0887"
             ],
             [
              0.1111111111111111,
              "#46039f"
             ],
             [
              0.2222222222222222,
              "#7201a8"
             ],
             [
              0.3333333333333333,
              "#9c179e"
             ],
             [
              0.4444444444444444,
              "#bd3786"
             ],
             [
              0.5555555555555556,
              "#d8576b"
             ],
             [
              0.6666666666666666,
              "#ed7953"
             ],
             [
              0.7777777777777778,
              "#fb9f3a"
             ],
             [
              0.8888888888888888,
              "#fdca26"
             ],
             [
              1,
              "#f0f921"
             ]
            ],
            "type": "histogram2dcontour"
           }
          ],
          "mesh3d": [
           {
            "colorbar": {
             "outlinewidth": 0,
             "ticks": ""
            },
            "type": "mesh3d"
           }
          ],
          "parcoords": [
           {
            "line": {
             "colorbar": {
              "outlinewidth": 0,
              "ticks": ""
             }
            },
            "type": "parcoords"
           }
          ],
          "pie": [
           {
            "automargin": true,
            "type": "pie"
           }
          ],
          "scatter": [
           {
            "fillpattern": {
             "fillmode": "overlay",
             "size": 10,
             "solidity": 0.2
            },
            "type": "scatter"
           }
          ],
          "scatter3d": [
           {
            "line": {
             "colorbar": {
              "outlinewidth": 0,
              "ticks": ""
             }
            },
            "marker": {
             "colorbar": {
              "outlinewidth": 0,
              "ticks": ""
             }
            },
            "type": "scatter3d"
           }
          ],
          "scattercarpet": [
           {
            "marker": {
             "colorbar": {
              "outlinewidth": 0,
              "ticks": ""
             }
            },
            "type": "scattercarpet"
           }
          ],
          "scattergeo": [
           {
            "marker": {
             "colorbar": {
              "outlinewidth": 0,
              "ticks": ""
             }
            },
            "type": "scattergeo"
           }
          ],
          "scattergl": [
           {
            "marker": {
             "colorbar": {
              "outlinewidth": 0,
              "ticks": ""
             }
            },
            "type": "scattergl"
           }
          ],
          "scattermapbox": [
           {
            "marker": {
             "colorbar": {
              "outlinewidth": 0,
              "ticks": ""
             }
            },
            "type": "scattermapbox"
           }
          ],
          "scatterpolar": [
           {
            "marker": {
             "colorbar": {
              "outlinewidth": 0,
              "ticks": ""
             }
            },
            "type": "scatterpolar"
           }
          ],
          "scatterpolargl": [
           {
            "marker": {
             "colorbar": {
              "outlinewidth": 0,
              "ticks": ""
             }
            },
            "type": "scatterpolargl"
           }
          ],
          "scatterternary": [
           {
            "marker": {
             "colorbar": {
              "outlinewidth": 0,
              "ticks": ""
             }
            },
            "type": "scatterternary"
           }
          ],
          "surface": [
           {
            "colorbar": {
             "outlinewidth": 0,
             "ticks": ""
            },
            "colorscale": [
             [
              0,
              "#0d0887"
             ],
             [
              0.1111111111111111,
              "#46039f"
             ],
             [
              0.2222222222222222,
              "#7201a8"
             ],
             [
              0.3333333333333333,
              "#9c179e"
             ],
             [
              0.4444444444444444,
              "#bd3786"
             ],
             [
              0.5555555555555556,
              "#d8576b"
             ],
             [
              0.6666666666666666,
              "#ed7953"
             ],
             [
              0.7777777777777778,
              "#fb9f3a"
             ],
             [
              0.8888888888888888,
              "#fdca26"
             ],
             [
              1,
              "#f0f921"
             ]
            ],
            "type": "surface"
           }
          ],
          "table": [
           {
            "cells": {
             "fill": {
              "color": "#EBF0F8"
             },
             "line": {
              "color": "white"
             }
            },
            "header": {
             "fill": {
              "color": "#C8D4E3"
             },
             "line": {
              "color": "white"
             }
            },
            "type": "table"
           }
          ]
         },
         "layout": {
          "annotationdefaults": {
           "arrowcolor": "#2a3f5f",
           "arrowhead": 0,
           "arrowwidth": 1
          },
          "autotypenumbers": "strict",
          "coloraxis": {
           "colorbar": {
            "outlinewidth": 0,
            "ticks": ""
           }
          },
          "colorscale": {
           "diverging": [
            [
             0,
             "#8e0152"
            ],
            [
             0.1,
             "#c51b7d"
            ],
            [
             0.2,
             "#de77ae"
            ],
            [
             0.3,
             "#f1b6da"
            ],
            [
             0.4,
             "#fde0ef"
            ],
            [
             0.5,
             "#f7f7f7"
            ],
            [
             0.6,
             "#e6f5d0"
            ],
            [
             0.7,
             "#b8e186"
            ],
            [
             0.8,
             "#7fbc41"
            ],
            [
             0.9,
             "#4d9221"
            ],
            [
             1,
             "#276419"
            ]
           ],
           "sequential": [
            [
             0,
             "#0d0887"
            ],
            [
             0.1111111111111111,
             "#46039f"
            ],
            [
             0.2222222222222222,
             "#7201a8"
            ],
            [
             0.3333333333333333,
             "#9c179e"
            ],
            [
             0.4444444444444444,
             "#bd3786"
            ],
            [
             0.5555555555555556,
             "#d8576b"
            ],
            [
             0.6666666666666666,
             "#ed7953"
            ],
            [
             0.7777777777777778,
             "#fb9f3a"
            ],
            [
             0.8888888888888888,
             "#fdca26"
            ],
            [
             1,
             "#f0f921"
            ]
           ],
           "sequentialminus": [
            [
             0,
             "#0d0887"
            ],
            [
             0.1111111111111111,
             "#46039f"
            ],
            [
             0.2222222222222222,
             "#7201a8"
            ],
            [
             0.3333333333333333,
             "#9c179e"
            ],
            [
             0.4444444444444444,
             "#bd3786"
            ],
            [
             0.5555555555555556,
             "#d8576b"
            ],
            [
             0.6666666666666666,
             "#ed7953"
            ],
            [
             0.7777777777777778,
             "#fb9f3a"
            ],
            [
             0.8888888888888888,
             "#fdca26"
            ],
            [
             1,
             "#f0f921"
            ]
           ]
          },
          "colorway": [
           "#636efa",
           "#EF553B",
           "#00cc96",
           "#ab63fa",
           "#FFA15A",
           "#19d3f3",
           "#FF6692",
           "#B6E880",
           "#FF97FF",
           "#FECB52"
          ],
          "font": {
           "color": "#2a3f5f"
          },
          "geo": {
           "bgcolor": "white",
           "lakecolor": "white",
           "landcolor": "#E5ECF6",
           "showlakes": true,
           "showland": true,
           "subunitcolor": "white"
          },
          "hoverlabel": {
           "align": "left"
          },
          "hovermode": "closest",
          "mapbox": {
           "style": "light"
          },
          "paper_bgcolor": "white",
          "plot_bgcolor": "#E5ECF6",
          "polar": {
           "angularaxis": {
            "gridcolor": "white",
            "linecolor": "white",
            "ticks": ""
           },
           "bgcolor": "#E5ECF6",
           "radialaxis": {
            "gridcolor": "white",
            "linecolor": "white",
            "ticks": ""
           }
          },
          "scene": {
           "xaxis": {
            "backgroundcolor": "#E5ECF6",
            "gridcolor": "white",
            "gridwidth": 2,
            "linecolor": "white",
            "showbackground": true,
            "ticks": "",
            "zerolinecolor": "white"
           },
           "yaxis": {
            "backgroundcolor": "#E5ECF6",
            "gridcolor": "white",
            "gridwidth": 2,
            "linecolor": "white",
            "showbackground": true,
            "ticks": "",
            "zerolinecolor": "white"
           },
           "zaxis": {
            "backgroundcolor": "#E5ECF6",
            "gridcolor": "white",
            "gridwidth": 2,
            "linecolor": "white",
            "showbackground": true,
            "ticks": "",
            "zerolinecolor": "white"
           }
          },
          "shapedefaults": {
           "line": {
            "color": "#2a3f5f"
           }
          },
          "ternary": {
           "aaxis": {
            "gridcolor": "white",
            "linecolor": "white",
            "ticks": ""
           },
           "baxis": {
            "gridcolor": "white",
            "linecolor": "white",
            "ticks": ""
           },
           "bgcolor": "#E5ECF6",
           "caxis": {
            "gridcolor": "white",
            "linecolor": "white",
            "ticks": ""
           }
          },
          "title": {
           "x": 0.05
          },
          "xaxis": {
           "automargin": true,
           "gridcolor": "white",
           "linecolor": "white",
           "ticks": "",
           "title": {
            "standoff": 15
           },
           "zerolinecolor": "white",
           "zerolinewidth": 2
          },
          "yaxis": {
           "automargin": true,
           "gridcolor": "white",
           "linecolor": "white",
           "ticks": "",
           "title": {
            "standoff": 15
           },
           "zerolinecolor": "white",
           "zerolinewidth": 2
          }
         }
        },
        "xaxis": {
         "anchor": "y",
         "autorange": true,
         "domain": [
          0,
          1
         ],
         "range": [
          0,
          398
         ],
         "title": {
          "text": "index"
         },
         "type": "linear"
        },
        "yaxis": {
         "anchor": "x",
         "autorange": true,
         "domain": [
          0,
          1
         ],
         "range": [
          -0.5163379201333708,
          0.038787659488121906
         ],
         "title": {
          "text": "value"
         },
         "type": "linear"
        }
       }
      },
      "image/png": "[encoded data removed]",
      "text/html": [
       "<div>                            <div id=\"62ac4255-fee9-4550-8d7a-80afd7561e84\" class=\"plotly-graph-div\" style=\"height:525px; width:100%;\"></div>            <script type=\"text/javascript\">                require([\"plotly\"], function(Plotly) {                    window.PLOTLYENV=window.PLOTLYENV || {};                                    if (document.getElementById(\"62ac4255-fee9-4550-8d7a-80afd7561e84\")) {                    Plotly.newPlot(                        \"62ac4255-fee9-4550-8d7a-80afd7561e84\",                        [{\"hovertemplate\":\"variable=vel0<br>index=%{x}<br>value=%{y}<extra></extra>\",\"legendgroup\":\"vel0\",\"line\":{\"color\":\"#636efa\",\"dash\":\"solid\"},\"marker\":{\"symbol\":\"circle\"},\"mode\":\"lines\",\"name\":\"vel0\",\"showlegend\":true,\"x\":[0,1,2,3,4,5,6,7,8,9,10,11,12,13,14,15,16,17,18,19,20,21,22,23,24,25,26,27,28,29,30,31,32,33,34,35,36,37,38,39,40,41,42,43,44,45,46,47,48,49,50,51,52,53,54,55,56,57,58,59,60,61,62,63,64,65,66,67,68,69,70,71,72,73,74,75,76,77,78,79,80,81,82,83,84,85,86,87,88,89,90,91,92,93,94,95,96,97,98,99,100,101,102,103,104,105,106,107,108,109,110,111,112,113,114,115,116,117,118,119,120,121,122,123,124,125,126,127,128,129,130,131,132,133,134,135,136,137,138,139,140,141,142,143,144,145,146,147,148,149,150,151,152,153,154,155,156,157,158,159,160,161,162,163,164,165,166,167,168,169,170,171,172,173,174,175,176,177,178,179,180,181,182,183,184,185,186,187,188,189,190,191,192,193,194,195,196,197,198,199,200,201,202,203,204,205,206,207,208,209,210,211,212,213,214,215,216,217,218,219,220,221,222,223,224,225,226,227,228,229,230,231,232,233,234,235,236,237,238,239,240,241,242,243,244,245,246,247,248,249,250,251,252,253,254,255,256,257,258,259,260,261,262,263,264,265,266,267,268,269,270,271,272,273,274,275,276,277,278,279,280,281,282,283,284,285,286,287,288,289,290,291,292,293,294,295,296,297,298,299,300,301,302,303,304,305,306,307,308,309,310,311,312,313,314,315,316,317,318,319,320,321,322,323,324,325,326,327,328,329,330,331,332,333,334,335,336,337,338,339,340,341,342,343,344,345,346,347,348,349,350,351,352,353,354,355,356,357,358,359,360,361,362,363,364,365,366,367,368,369,370,371,372,373,374,375,376,377,378,379,380,381,382,383,384,385,386,387,388,389,390,391,392,393,394,395,396,397,398],\"xaxis\":\"x\",\"y\":[0.0,-0.00022564911255785894,-0.003950865678573893,-0.005768420215442573,-0.007268267523650845,-0.00859792697556534,-0.009101839553733677,-0.010003021140588406,-0.010418341761882543,-0.010672039681786353,-0.009951811980887222,-0.010223886721698347,-0.008907167930999193,-0.007692750551594735,-0.006214922108860378,-0.00470957944873034,-0.0029101218432104536,-0.0015915867369352499,0.0006762809568549637,0.0019737874845935223,0.004108180293024447,0.005782158363792547,0.007036841031923006,0.008105493096360043,0.00957361296721089,0.01019892014126105,0.00994538077516838,0.010432771879372705,0.0107079930514115,0.009547741029827812,0.008475268549138226,0.008227193136982724,0.006461759517850722,0.004790021087313382,0.0033982690467375056,0.0012939581231960124,-0.0004982771463066704,-0.0021566700383247018,-0.00415105854136962,-0.004796270771706977,-0.00740523291000073,-0.008022899444676301,-0.00972089735741345,-0.009431637808074851,-0.010435888592913953,-0.010366901117848257,-0.010335234879271469,-0.009691385759087302,-0.00882861694029502,-0.007628070391626139,-0.006309834729990604,-0.005179055836954593,-0.0028359101582130855,-0.0017431711080830633,0.0008868698167707951,0.002376969719063731,0.003444516479075578,0.005664159351592706,0.006720206724877682,0.008379834169968136,0.009502658993331607,0.00968363706586658,0.01038943521710781,0.010482690838533475,0.010232933399804798,0.009377538276214771,0.008892824643511078,0.007854785899742549,0.006030642381719201,0.004902743565221194,0.0031123452017206518,0.0019069575581453398,-0.0008926332635832712,-0.0024719026778365267,-0.004050491739944808,-0.0054152196653555855,-0.006966509961718874,-0.008295349590941622,-0.008527086271177221,-0.010132122903445812,-0.010684726113201998,-0.01057313521396014,-0.009865148356666442,-0.009823525320978922,-0.008720778376216577,-0.007895051578581266,-0.006628371152404511,-0.0048020664413076595,-0.0025029214610220313,-0.0014438028373566607,0.0005708444744795096,0.0023540747500913886,0.0037064333088345468,0.005399093383364989,0.007192100685919455,0.007982296726473692,0.009022906708096596,0.010250743575122262,0.01019287214014974,0.010832600512924527,0.010357652157441824,0.009490033303859351,0.008885729420900936,0.007530150287464576,0.006955387070035276,0.0043093532623005104,0.003536892390537065,0.0013466952186489106,-0.0007663748119009168,-0.0018309797330369937,-0.004020804011717149,-0.005516390858387436,-0.0074165475539884574,-0.008132557496932829,-0.00919040680385065,-0.009767920214590053,-0.010634074044844299,-0.010281584438887529,-0.010320041688515722,-0.0099540537713572,-0.008596782153183121,-0.00776001664978701,-0.006644332742961407,-0.004896860657676518,-0.0033300887911191356,-0.0013208825829575197,0.00037619019346317364,0.0025579863353314375,0.003685830099611243,0.005748309099882234,0.006637221294081083,0.00816896840011148,0.009103188896707973,0.010445069883984298,0.010082046764074669,0.0109659082633199,0.009338066633755113,0.010038565221913098,0.008809426359986047,0.007741074704260032,0.006255870191757169,0.004973053668291357,0.0031373720816987964,0.0014797621747204238,-0.00019102368882936184,-0.002458068601212791,-0.0037545062097746216,-0.005938458091388652,-0.006673481226294066,-0.008443048235522024,-0.009411200988306875,-0.009764373511463509,-0.010368205899619783,-0.01025120900873339,-0.010192930607292976,-0.009626601944584449,-0.00904226394146577,-0.0076607665176773665,-0.006460676696741725,-0.0049092208071875865,-0.002843114845815455,-0.0014903260856201019,0.000146046940904772,0.0022262035942206453,0.0041957889670440765,0.005370489428281415,0.006589784764496714,0.008947549424878581,0.00885976015108086,0.009846002347589729,0.01059985557345229,0.010217750713072526,0.010466611449210265,0.009930206745739351,0.008793766019484138,0.0076038129786264695,0.0065718591277711385,0.005021758618304752,0.0026335594043275573,0.001419330518257168,-0.0005799555278261037,-0.0019101135580626885,-0.0041772828974015195,-0.005357234475847601,-0.007032264197157644,-0.008472728330598919,-0.00912898175009272,-0.00987940586155481,-0.010288456299456565,-0.010226879148209448,-0.010551604230769417,-0.00912592246949561,-0.00882307300153692,-0.007498291949240865,-0.006611085463688039,-0.005170546723523986,-0.003293994976483576,-0.0012594616119457026,0.00032536194654176243,0.0024266383839777993,0.0037913051158996215,0.005601845187472922,0.006819370415739677,0.008264890475042709,0.009033814042281924,0.010685306528521529,0.009282308559402984,0.011031380507047276,0.009761065357462025,0.00982386156742089,0.008754320518634515,0.0078111740576983345,0.00632858539810144,0.004893725995923142,0.0035864638339082695,0.0010773681574568548,-0.00035905176044847675,-0.0019089362793043747,-0.00434772295109738,-0.005050371096460464,-0.006929621227861976,-0.008608650305052328,-0.008991836845272194,-0.009612567220247187,-0.010662278674951883,-0.010382098380103054,-0.010282012764193299,-0.009793775073008016,-0.00926037292141773,-0.007488413448581268,-0.006509986787274169,-0.004818497909477424,-0.002906467014079446,-0.0012827829804096615,0.0002925911912637991,0.002182932611204071,0.0039442472046218886,0.005864083767042149,0.006931673568281425,0.007933099106943564,0.00900727803448898,0.010078473372956013,0.009854903641047363,0.010862730291331725,0.009890475011300203,0.00946618507330871,0.0090672875306182,0.007451313532823922,0.006584711241461725,0.0047817399663440865,0.003295342646723704,0.0013716570796947984,-0.0004142151660144911,-0.0020050499125010023,-0.004159793491398935,-0.005816918060272104,-0.006716173763015976,-0.008468122782838728,-0.009035136436825617,-0.009955812955768533,-0.010458404344344264,-0.010127329959003945,-0.010849323839416931,-0.009258997702388088,-0.009238709039802794,-0.007550014890875533,-0.006538121335953318,-0.004621235180448003,-0.003236371518475268,-0.0011939647293607446,0.00016332995642806265,0.0023012443104654732,0.0038192076353766903,0.00581683098292403,0.006838005067537855,0.00827302517916949,0.009517900385802339,0.009697103247285397,0.010560105462507685,0.010691298439085587,0.009746706499935786,0.009866310759402822,0.008340468178588115,0.007876680176924947,0.006265659305924161,0.004915690728134695,0.0035273514718968954,0.0013938322605061627,-0.000408182970459638,-0.0021023319027402895,-0.004094987592700732,-0.005905372655632483,-0.006645943100004681,-0.008195218473110895,-0.009375336172495186,-0.010091326187485173,-0.010550467222736828,-0.010057646863998505,-0.010307372673498188,-0.009418520453854102,-0.009034476916457396,-0.00776983879370085,-0.006056203703617901,-0.005082394031468268,-0.003077894792014314,-0.0009224722605024175,-0.00016130254509679636,0.0024009880892238177,0.004021523834983432,0.005801557408064416,0.006824320212685661,0.008397315077885636,0.009673893873303295,0.0097977581876594,0.010525983231938867,0.010383128810923334,0.010022387730568752,0.009870533559651356,0.008869445375717528,0.008234185005179185,0.005692463455578066,0.0051591802025070955,0.003325220558079879,0.0013273828732350906,-0.0006409202232159912,-0.0019239982542509117,-0.004577076971169021,-0.0048046185687291194,-0.007146816243598599,-0.008703838879325602,-0.009024331759134174,-0.010077085754990646,-0.010241451491127616,-0.009947112025434678,-0.010224194871353467,-0.009606038033899776,-0.009094070003725079,-0.007658402639065155,-0.006133651404731298,-0.00513728271615685,-0.0029631023611160255,-0.001927469869510953,0.0007786213969327761,0.0021038101009518977,0.004023200248523976,0.005582515182688901,0.006814154761561224,0.008301081148629732,0.009299907376571687,0.009685758968294074,0.010725200502776382,0.010065617098232124,0.0107080599128369,0.009601578340731625,0.008875751820793577,0.007930611328412504,0.006420164525764167,0.0049072110419708884,0.003096554012392931,0.0013997384589266356,-0.00033512731137645517,-0.002249702279530007,-0.0035140850636391488,-0.005701935032901147,-0.006704465600863784,-0.008363003683530091,-0.008982778858906729,-0.009870958924114695,-0.010232738109169913,-0.010901921544069604,-0.00973171749369022,-0.009749939140627549,-0.009344667258889307,-0.007253448518154722,-0.006723758859720902,-0.004717266164302831,-0.0033433781451115037,-0.0010470930387063717,-6.520755786655467e-05,0.0029289390711570683,0.004316522418440877,0.005322734349208304,0.007619735795740406,0.007596651846722698,0.00920355191675062,0.009700401297183511,0.010715620543360777,0.010574084458666618,0.00996698993913542,0.00996698998309431,0.008469302864500745,0.008027695283649572,0.0064455551495582256,0.005018914174509394,0.0031396938480967363,0.0013578228898156435,-0.000895761181343638,-0.0019677340682777364,-0.003977936938023096],\"yaxis\":\"y\",\"type\":\"scattergl\"},{\"hovertemplate\":\"variable=vel1<br>index=%{x}<br>value=%{y}<extra></extra>\",\"legendgroup\":\"vel1\",\"line\":{\"color\":\"#EF553B\",\"dash\":\"solid\"},\"marker\":{\"symbol\":\"circle\"},\"mode\":\"lines\",\"name\":\"vel1\",\"showlegend\":true,\"x\":[0,1,2,3,4,5,6,7,8,9,10,11,12,13,14,15,16,17,18,19,20,21,22,23,24,25,26,27,28,29,30,31,32,33,34,35,36,37,38,39,40,41,42,43,44,45,46,47,48,49,50,51,52,53,54,55,56,57,58,59,60,61,62,63,64,65,66,67,68,69,70,71,72,73,74,75,76,77,78,79,80,81,82,83,84,85,86,87,88,89,90,91,92,93,94,95,96,97,98,99,100,101,102,103,104,105,106,107,108,109,110,111,112,113,114,115,116,117,118,119,120,121,122,123,124,125,126,127,128,129,130,131,132,133,134,135,136,137,138,139,140,141,142,143,144,145,146,147,148,149,150,151,152,153,154,155,156,157,158,159,160,161,162,163,164,165,166,167,168,169,170,171,172,173,174,175,176,177,178,179,180,181,182,183,184,185,186,187,188,189,190,191,192,193,194,195,196,197,198,199,200,201,202,203,204,205,206,207,208,209,210,211,212,213,214,215,216,217,218,219,220,221,222,223,224,225,226,227,228,229,230,231,232,233,234,235,236,237,238,239,240,241,242,243,244,245,246,247,248,249,250,251,252,253,254,255,256,257,258,259,260,261,262,263,264,265,266,267,268,269,270,271,272,273,274,275,276,277,278,279,280,281,282,283,284,285,286,287,288,289,290,291,292,293,294,295,296,297,298,299,300,301,302,303,304,305,306,307,308,309,310,311,312,313,314,315,316,317,318,319,320,321,322,323,324,325,326,327,328,329,330,331,332,333,334,335,336,337,338,339,340,341,342,343,344,345,346,347,348,349,350,351,352,353,354,355,356,357,358,359,360,361,362,363,364,365,366,367,368,369,370,371,372,373,374,375,376,377,378,379,380,381,382,383,384,385,386,387,388,389,390,391,392,393,394,395,396,397,398],\"xaxis\":\"x\",\"y\":[0.0,-0.00018640063686483716,8.796590766611804e-05,6.555531791157129e-05,-6.604383883614232e-05,0.0003450077265718721,-0.00039283618523678644,0.0001794971969492555,-4.097449431958873e-06,7.102055595923199e-05,-1.9986109258567188e-05,-6.19532156304506e-05,0.00013028226386323336,0.00010056381626498664,0.00013780617046149271,-0.00010677806439831417,5.2352954226296316e-05,-0.00020638548480054304,-0.00015455124916073022,0.00042090386227205164,0.0002733835095974033,1.8846048123481412e-05,0.0002717274802830447,-0.0003091696492015894,0.00016562653585842538,9.510983248160824e-05,8.73570118274297e-05,2.3561596011725786e-06,-8.022025265361839e-05,0.00024548700873893174,-0.0001178078902331877,0.0004371168794147556,1.5759144251114223e-05,-0.00020052540413528856,-0.0001320545566866396,-0.0005055344577195888,2.3701596707775024e-05,0.0004214989511702083,0.00018392540695589434,0.00024528057478417973,-0.000130650636941956,0.0003140496540115983,-2.4569769615717836e-05,0.0001860366707418141,-4.252803167965576e-05,8.111706847101486e-05,0.0005678727653955817,-0.0003038752563733201,0.00033514040202915806,2.068858120497922e-05,0.0003468287336738288,-0.0003117297821891821,9.443353650901321e-05,9.921753393618381e-05,5.921505734168143e-05,-1.2229440577367975e-05,0.0003645177660467451,-0.0001218916096215158,-0.00025490833650805025,0.00013387653674947858,0.00010518194087685395,-0.0002796467757908253,0.0003240669593502541,5.502757286991575e-05,-4.2868673471045354e-05,-5.531099347299453e-05,-0.0002691466007642282,0.0004971111887518628,0.00018603151634884044,-0.00015119618081429006,0.000251935068964992,-0.00011997108535068013,-0.00028007039675252476,0.00033330194042701094,-0.00015868288716087931,0.00027217997445154127,-9.105620832745597e-05,0.0001197607534041278,0.0001903305992901529,0.00012842034286450374,-2.636653346028249e-05,-0.00041243351656089554,0.00024331158176743147,-1.589195268574974e-05,0.00015437925130231712,5.92435680814868e-05,-0.0003482379422613964,8.66034078208568e-05,0.00020610558912959205,0.0002578115872578323,6.751575961420496e-05,-5.471917355314265e-05,0.00034705887592708024,-0.00024219346961528294,-0.000309412828918392,0.0004831880801127152,-0.0002530936066341222,0.00031690678050834095,-1.0081058365326617e-05,-0.0003572638229468013,-0.00030638471559367794,0.00031728296903710056,5.6832858895416995e-05,-0.00027359513697151834,-1.4043279171327725e-05,0.00043836048334124783,0.0001409821585221252,-0.00029025421105886753,-3.867163191598983e-05,0.00015360925002698243,4.196327473661142e-06,0.00010097220814581995,-9.278302832877998e-06,-0.0002143156878717523,0.00016088998904084504,-0.00010912976241015095,8.990687272994333e-05,7.296728935013379e-05,0.00014655609190113947,-0.00013876822025855263,7.022059775908325e-05,-7.723623206848179e-05,-7.126462250116758e-05,0.00012957066915076067,0.00021038918855368662,-0.0003388814195149464,0.00038671968462650126,-0.00013111850474776127,-2.3964085668241838e-05,0.0003005851871842964,-0.0003253832895266973,0.00036079372163404103,0.0002014714389641688,-1.782794247634289e-05,-0.00015233888366221888,0.0007085209226727902,-0.0007276989184952015,0.0004133968182631474,9.852437484630701e-05,0.0004293769348279864,-0.00040872955568859625,-8.6744444060871e-05,-0.00011988948169994327,0.0003957824440788097,-0.00022646393928659297,0.0005010276641206565,-0.00031249554561381214,0.0005286110827567259,0.00018886847387967532,-0.00015320839980696501,2.96439613865058e-05,0.0006504308248714919,-0.0007771686059015418,0.0005332719867439809,-0.0003585281368394847,0.00036329850504705264,-0.00036778321646081796,0.00029570434873405296,2.4599465292125063e-05,5.423129989717387e-05,-0.00015163401113232723,6.593319072904628e-05,-6.272756875074423e-05,3.7609097609791356e-05,0.0002947320974010086,-0.00016868859988365052,0.00017114983787661395,-0.00027419429991918797,0.00011337499849708707,0.00038575540949475483,-0.0005829635770803789,0.00017388307562806894,0.0004174611022900298,0.00024124815292670987,1.1500088209735572e-05,-0.00016242613222266735,8.461022449234114e-05,2.513689597041514e-05,0.0002430990113280244,0.00018069920548908578,0.0001281939839206098,0.00011554474123975467,9.643864554936029e-05,0.00022445388010487402,-0.000348803311699292,-0.00029689962713148524,0.000614914302176035,-9.78567639938262e-05,-0.00040734843358306624,0.000922343199410069,-0.0003741921860323696,0.00025311324380750984,-2.4956322625709307e-05,0.0003593073227545673,-0.0002556849454840108,0.00019036007218630027,-0.0006079415536804132,0.0012005423599970259,-0.00039977578307145214,-4.8959429565036696e-05,0.00016779817230482295,-0.00020564484350988358,0.00038458263226776236,-0.0003043017673999862,2.7702592380690775e-05,0.0001298786566980125,-0.00018079375774170483,5.057422284959954e-05,0.0004552989193300284,0.00028875853479809585,-0.00045662253305739874,0.0003950227956847364,0.00013894817415560325,0.0002956940222632678,-0.00021883022493743054,0.0003632798323492313,-0.000509597150519158,0.0003837742120880126,-1.4949468103331008e-06,0.00028443185136953696,-0.00046893835882990114,0.00016279236585833585,0.00023153791916040136,-0.00021570831868434945,0.0004525965343603599,-0.00042464780579074175,0.0004502048063473711,-0.00028893637039133924,-0.0001024278126579909,0.00022803176718644812,0.00016159378758772198,-0.000321520384222883,-0.0003587058837506692,0.0006775994393641036,2.5922071842497046e-05,-4.378218898545538e-05,0.0006605449035168179,-0.00016558198404354943,8.486499555445556e-05,0.00015714777186570571,5.727686962241317e-05,0.0002341646038367776,6.0179181098952804e-05,-0.00025557133644335165,-0.0001267164837164583,0.00030918403219350806,6.972046884098783e-05,0.00010479554342290715,0.0003682407223466551,-0.00011863444337265896,-6.837637631321476e-05,9.213920593314831e-05,5.9519847667186346e-05,8.609374867075213e-05,0.00013754982824143523,1.7404853507825334e-05,5.376300162365244e-05,0.0001678888471427018,0.00022579968430220198,0.0002807609564581779,-0.00014587533987470025,-1.4065158575696385e-05,-6.31425007212147e-05,0.00034086376009101975,-8.121704172293936e-05,0.00019437714683221135,8.599098304610934e-05,0.0005111762917818291,4.3606104746921425e-05,-0.0002728121997996665,0.00027267433885986257,-0.0004347688283149515,0.0004840930643982235,-0.00023637811834308086,0.00022595572396547602,-0.00024017841332315062,0.00012395246321040215,-2.3098044916534178e-05,0.0004052974238071606,-0.0004911671905443594,0.00040952255385465674,-0.00015975408309475592,0.00044021663351919685,-0.00045981691422982774,0.0005156259455171125,-0.00020805500216124865,0.00012059534559413838,8.197759140880084e-05,0.00015275043906966604,-9.43608607820947e-05,0.0002618727091220616,-0.0003993673274276258,0.00028062502090931893,0.0002888143706200348,-6.696878785398312e-05,6.058877879606662e-05,0.00019876653247963868,0.00011093661963779471,0.00010637200593063061,-0.00018939341439550244,0.00018614133549521914,0.00014419642947061128,-4.0238863875509196e-05,0.0002276950604386812,5.105045497895617e-05,-0.00016800807723956555,0.0001642321236839022,0.0001577666892490629,3.6391497986446104e-05,-0.00020586250334115761,-0.0001598698713626989,0.00020393756999468422,8.754797090930827e-05,0.00017490933722928156,0.00016471813022152983,-0.00028469449401965835,0.0006817871271215788,-0.0002656936968363235,0.0006473091057286191,-0.00023993372015489991,0.0006385612366840679,0.00014022272267314237,-9.348743941674368e-05,0.00017289845553315278,9.322974491306833e-05,0.0003423223155753088,-0.000156273800079696,0.00036149575230357586,-0.00034774793192237394,0.00017454779010918017,0.00022516300750223263,-0.00029746534423390604,0.00016379576324002598,0.0004117369947252605,-0.00024811480969305763,-5.245517289481045e-05,0.00017176419331005476,0.00019738841688543538,-0.0001114261576834199,-0.00013270552771700312,-0.00012191810956027228,0.00017878254420536683,-3.6692537553131437e-06,0.0006568871313819907,0.00021191774745554486,-0.0001425011232384163,0.00014639057210745195,2.138604746543605e-05,0.0002888974622065572,-0.000246914699060721,0.00034251557834611763,-0.00024779111026355987,-4.793089576343837e-05,5.442852663196457e-06,0.000347000587947246,-0.0002867812718612365,0.0002801210433262829,-0.00012520898210417449,5.969600561808512e-05,-0.00018357824999452158,-0.00015242960379819798,-1.7510743518670596e-05,0.0003875135579453682,0.00029935487573679015,-2.5188160306097014e-05,-5.744048142796311e-05,-0.00024371580978884886,0.0005822756047189144,-0.0005095072003194927,-0.00011169535651581384,0.0001495038222751656,0.00015436762570120464,-0.0002986519042792009,0.0002832366666853574,4.846199169911278e-05,-0.00019232017756087443,0.0003174148005899325,0.0001153119484211362,2.0204515543018518e-05,0.00013396548065714415,-0.00014426244213690379,0.0003534979952365227,-0.00021499619190174546,0.00041177259795735185,-4.917071274594159e-05,0.0001426275196097842,3.259017855793695e-05,0.0003667906969637332,-0.00010115435981220977,0.00019224214067813764,0.000502631450541482,-0.00010020390715232921,0.0003038204318535641,-0.0002449870597095228,0.0002646331130226261,9.576575479658701e-05,1.7791737374173812e-07,-0.0003216099531292264,0.0005938018158993569],\"yaxis\":\"y\",\"type\":\"scattergl\"},{\"hovertemplate\":\"variable=vel2<br>index=%{x}<br>value=%{y}<extra></extra>\",\"legendgroup\":\"vel2\",\"line\":{\"color\":\"#00cc96\",\"dash\":\"solid\"},\"marker\":{\"symbol\":\"circle\"},\"mode\":\"lines\",\"name\":\"vel2\",\"showlegend\":true,\"x\":[0,1,2,3,4,5,6,7,8,9,10,11,12,13,14,15,16,17,18,19,20,21,22,23,24,25,26,27,28,29,30,31,32,33,34,35,36,37,38,39,40,41,42,43,44,45,46,47,48,49,50,51,52,53,54,55,56,57,58,59,60,61,62,63,64,65,66,67,68,69,70,71,72,73,74,75,76,77,78,79,80,81,82,83,84,85,86,87,88,89,90,91,92,93,94,95,96,97,98,99,100,101,102,103,104,105,106,107,108,109,110,111,112,113,114,115,116,117,118,119,120,121,122,123,124,125,126,127,128,129,130,131,132,133,134,135,136,137,138,139,140,141,142,143,144,145,146,147,148,149,150,151,152,153,154,155,156,157,158,159,160,161,162,163,164,165,166,167,168,169,170,171,172,173,174,175,176,177,178,179,180,181,182,183,184,185,186,187,188,189,190,191,192,193,194,195,196,197,198,199,200,201,202,203,204,205,206,207,208,209,210,211,212,213,214,215,216,217,218,219,220,221,222,223,224,225,226,227,228,229,230,231,232,233,234,235,236,237,238,239,240,241,242,243,244,245,246,247,248,249,250,251,252,253,254,255,256,257,258,259,260,261,262,263,264,265,266,267,268,269,270,271,272,273,274,275,276,277,278,279,280,281,282,283,284,285,286,287,288,289,290,291,292,293,294,295,296,297,298,299,300,301,302,303,304,305,306,307,308,309,310,311,312,313,314,315,316,317,318,319,320,321,322,323,324,325,326,327,328,329,330,331,332,333,334,335,336,337,338,339,340,341,342,343,344,345,346,347,348,349,350,351,352,353,354,355,356,357,358,359,360,361,362,363,364,365,366,367,368,369,370,371,372,373,374,375,376,377,378,379,380,381,382,383,384,385,386,387,388,389,390,391,392,393,394,395,396,397,398],\"xaxis\":\"x\",\"y\":[0.0,-2.8797885378406233e-05,-0.002299917984920533,-0.0033004907790110645,-0.004293049884084225,-0.0054089397666467025,-0.0062077879966233335,-0.006985195612279335,-0.00836567072378483,-0.009488266310145165,-0.010532249362069082,-0.01122991891550392,-0.012422792567726567,-0.01284580977974745,-0.01517935282785263,-0.015619083033952538,-0.01645498898498117,-0.017542252148014303,-0.018465706093861552,-0.019253324128006153,-0.020609973768328536,-0.02179207006820337,-0.022439492284096675,-0.023625226248655,-0.024651414547920834,-0.025414013546534903,-0.026751090720020198,-0.02743529660026283,-0.029032915686158855,-0.029842349755206943,-0.030516846392629356,-0.03187213751407862,-0.0327173913905457,-0.03380559903744474,-0.03480475114080266,-0.0361138882326008,-0.03717900222667235,-0.03778058166378587,-0.03927539622456757,-0.039820462829109934,-0.04066659819546721,-0.04243101842004838,-0.04334214015635808,-0.04386542443657339,-0.045271019603045415,-0.04659564633759516,-0.047300748917195434,-0.04821735898969762,-0.049358423532360265,-0.050744668404762876,-0.052087715760482566,-0.05222091114858655,-0.05373539648556129,-0.05470447901012223,-0.05564722808288579,-0.05687042294188379,-0.05780880133178429,-0.059112884296410706,-0.06003319190255835,-0.0611087756874265,-0.06207576288968606,-0.06319304886693962,-0.06420324352765186,-0.06550802733106813,-0.0665657560981382,-0.0672296446417096,-0.06812863805483493,-0.06960991738528295,-0.07045419188222625,-0.07193951130908546,-0.0726288722621493,-0.07392917018642939,-0.07493843725419326,-0.07594635784110132,-0.07747508130643735,-0.07821256473423277,-0.07928075647953682,-0.08027640728464878,-0.08132919385162372,-0.08216747501146855,-0.08412825933104076,-0.08422400051005179,-0.0856959145060964,-0.08693293977784959,-0.08794175595894453,-0.08887708193925697,-0.08994601937847174,-0.09159925982108413,-0.09232685164509694,-0.09327944321905912,-0.09447995507461492,-0.09542257392184701,-0.09636180396441084,-0.09815931553836699,-0.09857643356465565,-0.09968197381898823,-0.10145373755807825,-0.10168944591741176,-0.10357383160619554,-0.10457984486170017,-0.10565589907040443,-0.10618666038909103,-0.10775062499663618,-0.1089395739002578,-0.1098743656581515,-0.11097168022830954,-0.11218405612153537,-0.11320099142885626,-0.11431305900827854,-0.11545197338433164,-0.11671791597222528,-0.11750029706642291,-0.11896763245788526,-0.119775995785975,-0.12090429340923556,-0.12238952149016057,-0.12311797196158272,-0.12435162214391313,-0.12546164729547402,-0.12691922691109597,-0.12762809810350248,-0.12913429079811045,-0.12981462694258014,-0.13132694713567533,-0.13234535180326162,-0.13354753474495804,-0.13473838289360884,-0.13521376558338788,-0.13743868873906187,-0.13784155527113823,-0.13880854407159737,-0.14032625340712745,-0.1410473489046783,-0.1425927357889952,-0.14336267215300216,-0.14492153610087394,-0.14639419782142213,-0.1470209421257877,-0.14738608244367812,-0.1492556661162206,-0.15097008859497885,-0.15182739040724796,-0.1528401236879239,-0.1536325015833582,-0.15556258767098058,-0.1560633192611292,-0.15700326531703204,-0.15890865792134504,-0.15965589841532263,-0.16109059954967697,-0.16209681485247185,-0.16321280864986998,-0.16437746943153903,-0.16557244174675975,-0.16693833079805542,-0.16800526949464484,-0.1691506062762141,-0.17035242970864015,-0.17167881292025852,-0.17225596089284836,-0.1738266027405977,-0.17527204903173124,-0.17600489571733327,-0.17697145097689412,-0.17848464871308342,-0.17982514547283965,-0.18074490679169314,-0.1820401406110963,-0.18366834173110855,-0.18395698613879102,-0.18577855423073028,-0.18690206367131607,-0.18770329723656212,-0.1894650043705807,-0.19010252645507955,-0.1916309929010043,-0.1928744204033376,-0.1937092828655359,-0.19550571565578528,-0.19617038876375614,-0.19707273864047886,-0.1986893555803958,-0.19990149613269828,-0.20101645850295563,-0.20219699251413575,-0.20346191302003505,-0.20466431036706087,-0.20557082239238647,-0.2072290268430771,-0.20822052656514303,-0.20956386008588465,-0.21045823062794344,-0.21216980064032923,-0.21279152539663282,-0.2145368209235762,-0.21568838362844478,-0.216898722018962,-0.21761751128051077,-0.218900004762525,-0.22086362592467895,-0.22153889502853943,-0.2232076303937339,-0.22419473370403314,-0.2249615510223803,-0.2264764477045283,-0.22810632585875473,-0.22900930102933195,-0.23026119487456903,-0.2315665569280883,-0.2327079130676177,-0.23411989822629012,-0.23467650278125982,-0.23657600648485036,-0.23748730522360806,-0.23900801369502211,-0.24011344599259335,-0.24124323649227622,-0.24244860444190253,-0.2439789421214861,-0.2446134795847737,-0.2466161927525057,-0.2474776749235425,-0.24899700231078137,-0.25036109859764244,-0.25079158927810685,-0.25271387249530763,-0.25352431193473995,-0.25550434242062453,-0.2559674510290468,-0.2578905934015775,-0.25866805557432104,-0.26037994621178245,-0.26069822872569803,-0.26313845023880855,-0.2637341756728573,-0.2650371626250885,-0.26675501198561385,-0.2676220365915755,-0.2691602825155762,-0.27014971208351346,-0.27146822866538184,-0.2726736072098184,-0.2737195783823733,-0.27565433636831244,-0.27662894806518745,-0.27761231273890896,-0.2790521910745601,-0.28062736165963126,-0.28173796862755773,-0.28236226915719004,-0.28437793690172614,-0.2852695609669985,-0.286859252483598,-0.28821480315854553,-0.2895511393171916,-0.2903554782942549,-0.29193766722662906,-0.2930273962935118,-0.2948477450843068,-0.2959584874415101,-0.29682450832426593,-0.2989883176500452,-0.2999456712449833,-0.30061348132832444,-0.3022474943538229,-0.30424431687070014,-0.30457688272835093,-0.3064478905462316,-0.3074522344824387,-0.30867842981205107,-0.3103646618583641,-0.31167082486325104,-0.31224324918319674,-0.31429267428826624,-0.3156207287882304,-0.31671317743653754,-0.317891225048769,-0.31924021063426933,-0.32082991435410363,-0.3218465076908141,-0.32363801970059863,-0.3243156145132612,-0.3263977116248749,-0.32710349027012153,-0.32827916773399135,-0.3302587838983935,-0.3313226561078654,-0.33282629838781375,-0.3336995827637218,-0.3353530446683473,-0.33656811361261435,-0.33811821760212857,-0.3391921377407842,-0.3405594667564309,-0.34204375494975053,-0.34359807126887426,-0.34444133760720635,-0.34537808362918243,-0.34785965382073425,-0.3485812776534735,-0.3497271818050583,-0.35184863018199164,-0.3527713101006575,-0.3540300815048054,-0.3553585915525188,-0.3568541611347441,-0.35842632802175156,-0.3594229723141566,-0.36056821959850327,-0.36243016461331906,-0.36387701649672716,-0.3649563952856145,-0.366259377905198,-0.3675701853532395,-0.3690019531922461,-0.37039990437873727,-0.37205547767033154,-0.3731109093096338,-0.37454935236933456,-0.3760678753250966,-0.3773603828828629,-0.3783649604532526,-0.3800967026383081,-0.38167091022215094,-0.38289037872038645,-0.3841022493641363,-0.38605733692317135,-0.3865080288169481,-0.3882680448194045,-0.38967282032697187,-0.3911801340526484,-0.3925339130606477,-0.39428069440082125,-0.3949488993107923,-0.3968255590745884,-0.3980173883447309,-0.3995989532737995,-0.4011045396151452,-0.4019966898351946,-0.40406723586872,-0.404780472780494,-0.40654678977886816,-0.4081783103689383,-0.40933356556219064,-0.4102622538909011,-0.4123004300828446,-0.4130986900304318,-0.41512046726266105,-0.41664474353248065,-0.4175524920685016,-0.4192427081773967,-0.42079393127065046,-0.4220537520650656,-0.4231720688452382,-0.42522055670489184,-0.4260918363868125,-0.42789847638667833,-0.429349869098103,-0.4303327508297213,-0.43196909137460415,-0.4340666507743013,-0.4347561504861456,-0.43637012358463867,-0.4377506625076343,-0.43896632086725534,-0.4408563437030259,-0.4420049698161814,-0.44355913890661,-0.4449023194630853,-0.4462489416414072,-0.4481462708072306,-0.44926229468152923,-0.4506774777174092,-0.4522500763299621,-0.45357548729631164,-0.45504377501228305,-0.4566335926703945,-0.4585458838721866,-0.4595801712074524,-0.4609395454466981,-0.4623464754392008,-0.4640765008125434,-0.46535413260427627,-0.46691892470340923,-0.4684075427983107,-0.4694299102348282,-0.4711361423106895,-0.4727237526092249,-0.47398134842814926,-0.47542474699896,-0.47707117689560746,-0.4787656931438803,-0.48004858659489047,-0.4812535703635493,-0.483010899983797,-0.484938786473247,-0.48542650559391964,-0.4879786751086483,-0.48858164115229613],\"yaxis\":\"y\",\"type\":\"scattergl\"}],                        {\"template\":{\"data\":{\"histogram2dcontour\":[{\"type\":\"histogram2dcontour\",\"colorbar\":{\"outlinewidth\":0,\"ticks\":\"\"},\"colorscale\":[[0.0,\"#0d0887\"],[0.1111111111111111,\"#46039f\"],[0.2222222222222222,\"#7201a8\"],[0.3333333333333333,\"#9c179e\"],[0.4444444444444444,\"#bd3786\"],[0.5555555555555556,\"#d8576b\"],[0.6666666666666666,\"#ed7953\"],[0.7777777777777778,\"#fb9f3a\"],[0.8888888888888888,\"#fdca26\"],[1.0,\"#f0f921\"]]}],\"choropleth\":[{\"type\":\"choropleth\",\"colorbar\":{\"outlinewidth\":0,\"ticks\":\"\"}}],\"histogram2d\":[{\"type\":\"histogram2d\",\"colorbar\":{\"outlinewidth\":0,\"ticks\":\"\"},\"colorscale\":[[0.0,\"#0d0887\"],[0.1111111111111111,\"#46039f\"],[0.2222222222222222,\"#7201a8\"],[0.3333333333333333,\"#9c179e\"],[0.4444444444444444,\"#bd3786\"],[0.5555555555555556,\"#d8576b\"],[0.6666666666666666,\"#ed7953\"],[0.7777777777777778,\"#fb9f3a\"],[0.8888888888888888,\"#fdca26\"],[1.0,\"#f0f921\"]]}],\"heatmap\":[{\"type\":\"heatmap\",\"colorbar\":{\"outlinewidth\":0,\"ticks\":\"\"},\"colorscale\":[[0.0,\"#0d0887\"],[0.1111111111111111,\"#46039f\"],[0.2222222222222222,\"#7201a8\"],[0.3333333333333333,\"#9c179e\"],[0.4444444444444444,\"#bd3786\"],[0.5555555555555556,\"#d8576b\"],[0.6666666666666666,\"#ed7953\"],[0.7777777777777778,\"#fb9f3a\"],[0.8888888888888888,\"#fdca26\"],[1.0,\"#f0f921\"]]}],\"heatmapgl\":[{\"type\":\"heatmapgl\",\"colorbar\":{\"outlinewidth\":0,\"ticks\":\"\"},\"colorscale\":[[0.0,\"#0d0887\"],[0.1111111111111111,\"#46039f\"],[0.2222222222222222,\"#7201a8\"],[0.3333333333333333,\"#9c179e\"],[0.4444444444444444,\"#bd3786\"],[0.5555555555555556,\"#d8576b\"],[0.6666666666666666,\"#ed7953\"],[0.7777777777777778,\"#fb9f3a\"],[0.8888888888888888,\"#fdca26\"],[1.0,\"#f0f921\"]]}],\"contourcarpet\":[{\"type\":\"contourcarpet\",\"colorbar\":{\"outlinewidth\":0,\"ticks\":\"\"}}],\"contour\":[{\"type\":\"contour\",\"colorbar\":{\"outlinewidth\":0,\"ticks\":\"\"},\"colorscale\":[[0.0,\"#0d0887\"],[0.1111111111111111,\"#46039f\"],[0.2222222222222222,\"#7201a8\"],[0.3333333333333333,\"#9c179e\"],[0.4444444444444444,\"#bd3786\"],[0.5555555555555556,\"#d8576b\"],[0.6666666666666666,\"#ed7953\"],[0.7777777777777778,\"#fb9f3a\"],[0.8888888888888888,\"#fdca26\"],[1.0,\"#f0f921\"]]}],\"surface\":[{\"type\":\"surface\",\"colorbar\":{\"outlinewidth\":0,\"ticks\":\"\"},\"colorscale\":[[0.0,\"#0d0887\"],[0.1111111111111111,\"#46039f\"],[0.2222222222222222,\"#7201a8\"],[0.3333333333333333,\"#9c179e\"],[0.4444444444444444,\"#bd3786\"],[0.5555555555555556,\"#d8576b\"],[0.6666666666666666,\"#ed7953\"],[0.7777777777777778,\"#fb9f3a\"],[0.8888888888888888,\"#fdca26\"],[1.0,\"#f0f921\"]]}],\"mesh3d\":[{\"type\":\"mesh3d\",\"colorbar\":{\"outlinewidth\":0,\"ticks\":\"\"}}],\"scatter\":[{\"fillpattern\":{\"fillmode\":\"overlay\",\"size\":10,\"solidity\":0.2},\"type\":\"scatter\"}],\"parcoords\":[{\"type\":\"parcoords\",\"line\":{\"colorbar\":{\"outlinewidth\":0,\"ticks\":\"\"}}}],\"scatterpolargl\":[{\"type\":\"scatterpolargl\",\"marker\":{\"colorbar\":{\"outlinewidth\":0,\"ticks\":\"\"}}}],\"bar\":[{\"error_x\":{\"color\":\"#2a3f5f\"},\"error_y\":{\"color\":\"#2a3f5f\"},\"marker\":{\"line\":{\"color\":\"#E5ECF6\",\"width\":0.5},\"pattern\":{\"fillmode\":\"overlay\",\"size\":10,\"solidity\":0.2}},\"type\":\"bar\"}],\"scattergeo\":[{\"type\":\"scattergeo\",\"marker\":{\"colorbar\":{\"outlinewidth\":0,\"ticks\":\"\"}}}],\"scatterpolar\":[{\"type\":\"scatterpolar\",\"marker\":{\"colorbar\":{\"outlinewidth\":0,\"ticks\":\"\"}}}],\"histogram\":[{\"marker\":{\"pattern\":{\"fillmode\":\"overlay\",\"size\":10,\"solidity\":0.2}},\"type\":\"histogram\"}],\"scattergl\":[{\"type\":\"scattergl\",\"marker\":{\"colorbar\":{\"outlinewidth\":0,\"ticks\":\"\"}}}],\"scatter3d\":[{\"type\":\"scatter3d\",\"line\":{\"colorbar\":{\"outlinewidth\":0,\"ticks\":\"\"}},\"marker\":{\"colorbar\":{\"outlinewidth\":0,\"ticks\":\"\"}}}],\"scattermapbox\":[{\"type\":\"scattermapbox\",\"marker\":{\"colorbar\":{\"outlinewidth\":0,\"ticks\":\"\"}}}],\"scatterternary\":[{\"type\":\"scatterternary\",\"marker\":{\"colorbar\":{\"outlinewidth\":0,\"ticks\":\"\"}}}],\"scattercarpet\":[{\"type\":\"scattercarpet\",\"marker\":{\"colorbar\":{\"outlinewidth\":0,\"ticks\":\"\"}}}],\"carpet\":[{\"aaxis\":{\"endlinecolor\":\"#2a3f5f\",\"gridcolor\":\"white\",\"linecolor\":\"white\",\"minorgridcolor\":\"white\",\"startlinecolor\":\"#2a3f5f\"},\"baxis\":{\"endlinecolor\":\"#2a3f5f\",\"gridcolor\":\"white\",\"linecolor\":\"white\",\"minorgridcolor\":\"white\",\"startlinecolor\":\"#2a3f5f\"},\"type\":\"carpet\"}],\"table\":[{\"cells\":{\"fill\":{\"color\":\"#EBF0F8\"},\"line\":{\"color\":\"white\"}},\"header\":{\"fill\":{\"color\":\"#C8D4E3\"},\"line\":{\"color\":\"white\"}},\"type\":\"table\"}],\"barpolar\":[{\"marker\":{\"line\":{\"color\":\"#E5ECF6\",\"width\":0.5},\"pattern\":{\"fillmode\":\"overlay\",\"size\":10,\"solidity\":0.2}},\"type\":\"barpolar\"}],\"pie\":[{\"automargin\":true,\"type\":\"pie\"}]},\"layout\":{\"autotypenumbers\":\"strict\",\"colorway\":[\"#636efa\",\"#EF553B\",\"#00cc96\",\"#ab63fa\",\"#FFA15A\",\"#19d3f3\",\"#FF6692\",\"#B6E880\",\"#FF97FF\",\"#FECB52\"],\"font\":{\"color\":\"#2a3f5f\"},\"hovermode\":\"closest\",\"hoverlabel\":{\"align\":\"left\"},\"paper_bgcolor\":\"white\",\"plot_bgcolor\":\"#E5ECF6\",\"polar\":{\"bgcolor\":\"#E5ECF6\",\"angularaxis\":{\"gridcolor\":\"white\",\"linecolor\":\"white\",\"ticks\":\"\"},\"radialaxis\":{\"gridcolor\":\"white\",\"linecolor\":\"white\",\"ticks\":\"\"}},\"ternary\":{\"bgcolor\":\"#E5ECF6\",\"aaxis\":{\"gridcolor\":\"white\",\"linecolor\":\"white\",\"ticks\":\"\"},\"baxis\":{\"gridcolor\":\"white\",\"linecolor\":\"white\",\"ticks\":\"\"},\"caxis\":{\"gridcolor\":\"white\",\"linecolor\":\"white\",\"ticks\":\"\"}},\"coloraxis\":{\"colorbar\":{\"outlinewidth\":0,\"ticks\":\"\"}},\"colorscale\":{\"sequential\":[[0.0,\"#0d0887\"],[0.1111111111111111,\"#46039f\"],[0.2222222222222222,\"#7201a8\"],[0.3333333333333333,\"#9c179e\"],[0.4444444444444444,\"#bd3786\"],[0.5555555555555556,\"#d8576b\"],[0.6666666666666666,\"#ed7953\"],[0.7777777777777778,\"#fb9f3a\"],[0.8888888888888888,\"#fdca26\"],[1.0,\"#f0f921\"]],\"sequentialminus\":[[0.0,\"#0d0887\"],[0.1111111111111111,\"#46039f\"],[0.2222222222222222,\"#7201a8\"],[0.3333333333333333,\"#9c179e\"],[0.4444444444444444,\"#bd3786\"],[0.5555555555555556,\"#d8576b\"],[0.6666666666666666,\"#ed7953\"],[0.7777777777777778,\"#fb9f3a\"],[0.8888888888888888,\"#fdca26\"],[1.0,\"#f0f921\"]],\"diverging\":[[0,\"#8e0152\"],[0.1,\"#c51b7d\"],[0.2,\"#de77ae\"],[0.3,\"#f1b6da\"],[0.4,\"#fde0ef\"],[0.5,\"#f7f7f7\"],[0.6,\"#e6f5d0\"],[0.7,\"#b8e186\"],[0.8,\"#7fbc41\"],[0.9,\"#4d9221\"],[1,\"#276419\"]]},\"xaxis\":{\"gridcolor\":\"white\",\"linecolor\":\"white\",\"ticks\":\"\",\"title\":{\"standoff\":15},\"zerolinecolor\":\"white\",\"automargin\":true,\"zerolinewidth\":2},\"yaxis\":{\"gridcolor\":\"white\",\"linecolor\":\"white\",\"ticks\":\"\",\"title\":{\"standoff\":15},\"zerolinecolor\":\"white\",\"automargin\":true,\"zerolinewidth\":2},\"scene\":{\"xaxis\":{\"backgroundcolor\":\"#E5ECF6\",\"gridcolor\":\"white\",\"linecolor\":\"white\",\"showbackground\":true,\"ticks\":\"\",\"zerolinecolor\":\"white\",\"gridwidth\":2},\"yaxis\":{\"backgroundcolor\":\"#E5ECF6\",\"gridcolor\":\"white\",\"linecolor\":\"white\",\"showbackground\":true,\"ticks\":\"\",\"zerolinecolor\":\"white\",\"gridwidth\":2},\"zaxis\":{\"backgroundcolor\":\"#E5ECF6\",\"gridcolor\":\"white\",\"linecolor\":\"white\",\"showbackground\":true,\"ticks\":\"\",\"zerolinecolor\":\"white\",\"gridwidth\":2}},\"shapedefaults\":{\"line\":{\"color\":\"#2a3f5f\"}},\"annotationdefaults\":{\"arrowcolor\":\"#2a3f5f\",\"arrowhead\":0,\"arrowwidth\":1},\"geo\":{\"bgcolor\":\"white\",\"landcolor\":\"#E5ECF6\",\"subunitcolor\":\"white\",\"showland\":true,\"showlakes\":true,\"lakecolor\":\"white\"},\"title\":{\"x\":0.05},\"mapbox\":{\"style\":\"light\"}}},\"xaxis\":{\"anchor\":\"y\",\"domain\":[0.0,1.0],\"title\":{\"text\":\"index\"}},\"yaxis\":{\"anchor\":\"x\",\"domain\":[0.0,1.0],\"title\":{\"text\":\"value\"}},\"legend\":{\"title\":{\"text\":\"variable\"},\"tracegroupgap\":0},\"margin\":{\"t\":60}},                        {\"responsive\": true}                    ).then(function(){\n",
       "                            \n",
       "var gd = document.getElementById('62ac4255-fee9-4550-8d7a-80afd7561e84');\n",
       "var x = new MutationObserver(function (mutations, observer) {{\n",
       "        var display = window.getComputedStyle(gd).display;\n",
       "        if (!display || display === 'none') {{\n",
       "            console.log([gd, 'removed!']);\n",
       "            Plotly.purge(gd);\n",
       "            observer.disconnect();\n",
       "        }}\n",
       "}});\n",
       "\n",
       "// Listen for the removal of the full notebook cells\n",
       "var notebookContainer = gd.closest('#notebook-container');\n",
       "if (notebookContainer) {{\n",
       "    x.observe(notebookContainer, {childList: true});\n",
       "}}\n",
       "\n",
       "// Listen for the clearing of the current output cell\n",
       "var outputEl = gd.closest('.output');\n",
       "if (outputEl) {{\n",
       "    x.observe(outputEl, {childList: true});\n",
       "}}\n",
       "\n",
       "                        })                };                });            </script>        </div>"
      ]
     },
     "metadata": {},
     "output_type": "display_data"
    }
   ],
   "source": [
    "ex.line(to_df(vel, 'vel'))"
   ]
  },
  {
   "cell_type": "code",
   "execution_count": null,
   "id": "2ee52672-7e4a-4ca3-acb8-b318d89e5ca4",
   "metadata": {},
   "outputs": [],
   "source": []
  }
 ],
 "metadata": {
  "kernelspec": {
   "display_name": "Python 3 (ipykernel)",
   "language": "python",
   "name": "python3"
  },
  "language_info": {
   "codemirror_mode": {
    "name": "ipython",
    "version": 3
   },
   "file_extension": ".py",
   "mimetype": "text/x-python",
   "name": "python",
   "nbconvert_exporter": "python",
   "pygments_lexer": "ipython3",
   "version": "3.11.7"
  }
 },
 "nbformat": 4,
 "nbformat_minor": 5
}
