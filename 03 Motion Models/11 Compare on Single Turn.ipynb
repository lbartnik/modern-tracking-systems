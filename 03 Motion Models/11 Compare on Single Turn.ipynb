{
 "cells": [
  {
   "cell_type": "code",
   "execution_count": 1,
   "id": "ff36becc-1a56-497a-ad43-af4eb3b767af",
   "metadata": {
    "tags": []
   },
   "outputs": [],
   "source": [
    "%load_ext autoreload\n",
    "%autoreload 2"
   ]
  },
  {
   "cell_type": "code",
   "execution_count": 2,
   "id": "42168cd0-378c-4c5e-b8af-c49606cc9d92",
   "metadata": {
    "tags": []
   },
   "outputs": [],
   "source": [
    "import os\n",
    "import sys\n",
    "sys.path.append(os.path.realpath('..'))"
   ]
  },
  {
   "cell_type": "code",
   "execution_count": 17,
   "id": "2e70af68-967a-4429-8b13-c74429eaddaa",
   "metadata": {
    "tags": []
   },
   "outputs": [],
   "source": [
    "import numpy as np\n",
    "import pandas as pd\n",
    "import plotly.express as ex\n",
    "from copy import deepcopy\n",
    "\n",
    "from tracking_v2.target import SingleTurnTarget\n",
    "from tracking_v2.kalman import LinearKalmanFilter\n",
    "from tracking_v2.motion import ConstantVelocityModel\n",
    "from tracking_v2.sensor import GeometricSensor"
   ]
  },
  {
   "cell_type": "code",
   "execution_count": 23,
   "id": "17825466-6df1-4618-b4dc-e610da9a3b1b",
   "metadata": {
    "tags": []
   },
   "outputs": [],
   "source": [
    "def run_one(n, target, sensor, kf):\n",
    "    T = 1\n",
    "    t = 0\n",
    "    \n",
    "    positions = target.true_states(T, n+1)[:, :3]\n",
    "    \n",
    "    m = sensor.generate_measurement(t, positions[0, :])\n",
    "    kf.initialize(m.z, m.R)\n",
    "\n",
    "    x_hat, P_hat = [], []\n",
    "    for position in positions[1:, :]:\n",
    "        t += T\n",
    "        \n",
    "        kf.predict(T)\n",
    "\n",
    "        x_hat.append(kf.x_hat)\n",
    "        P_hat.append(kf.P_hat)\n",
    "\n",
    "        m = sensor.generate_measurement(t, position)\n",
    "        kf.update(m.z, m.R)\n",
    "\n",
    "    x_hat, P_hat = np.array(x_hat), np.array(P_hat)\n",
    "    \n",
    "    assert x_hat.shape[0] == n\n",
    "    assert P_hat.shape[0] == n\n",
    "    \n",
    "    return x_hat, P_hat\n",
    "\n",
    "def run_mc(m, n, target, sensor, kf, seeds=None):\n",
    "    if seeds is None:\n",
    "        seeds = np.arange(m)\n",
    "    \n",
    "    x_hat, P_hat = [], []\n",
    "    for seed in seeds:\n",
    "        kf = deepcopy(kf)\n",
    "        x, P = run_one(n, target, sensor, kf)\n",
    "        x_hat.append(x)\n",
    "        P_hat.append(P)\n",
    "    \n",
    "    x_hat, P_hat = np.array(x_hat), np.array(P_hat)\n",
    "\n",
    "    assert x_hat.shape[0] == m\n",
    "    assert P_hat.shape[0] == m\n",
    "    \n",
    "    return x_hat, P_hat"
   ]
  },
  {
   "cell_type": "code",
   "execution_count": 24,
   "id": "283d6d96-685e-4566-b94b-c14d04974f15",
   "metadata": {
    "tags": []
   },
   "outputs": [],
   "source": [
    "target = SingleTurnTarget()\n",
    "sensor = GeometricSensor()\n",
    "\n",
    "kf = LinearKalmanFilter(ConstantVelocityModel(), [[1, 0, 0, 0, 0, 0],\n",
    "                                                  [0, 1, 0, 0, 0, 0],\n",
    "                                                  [0, 0, 1, 0, 0, 0]])\n",
    "\n",
    "x_hat, P_hat = run_mc(100, 400, target, sensor, kf)"
   ]
  },
  {
   "cell_type": "code",
   "execution_count": 25,
   "id": "04a94229-1b09-411e-b243-493cb02ed196",
   "metadata": {
    "tags": []
   },
   "outputs": [
    {
     "data": {
      "text/plain": [
       "(100, 400, 6, 1)"
      ]
     },
     "execution_count": 25,
     "metadata": {},
     "output_type": "execute_result"
    }
   ],
   "source": [
    "x_hat.shape"
   ]
  },
  {
   "cell_type": "code",
   "execution_count": null,
   "id": "b6c90e7e-9809-4db5-bd18-44a54574a387",
   "metadata": {},
   "outputs": [],
   "source": []
  }
 ],
 "metadata": {
  "kernelspec": {
   "display_name": "Python 3 (ipykernel)",
   "language": "python",
   "name": "python3"
  },
  "language_info": {
   "codemirror_mode": {
    "name": "ipython",
    "version": 3
   },
   "file_extension": ".py",
   "mimetype": "text/x-python",
   "name": "python",
   "nbconvert_exporter": "python",
   "pygments_lexer": "ipython3",
   "version": "3.11.5"
  }
 },
 "nbformat": 4,
 "nbformat_minor": 5
}
