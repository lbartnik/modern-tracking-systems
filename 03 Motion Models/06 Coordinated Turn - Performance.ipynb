{
 "cells": [
  {
   "cell_type": "code",
   "execution_count": null,
   "id": "a8ecf0a9-1a9e-439d-833a-16d272245021",
   "metadata": {
    "tags": []
   },
   "outputs": [],
   "source": [
    "%load_ext autoreload\n",
    "%autoreload 2"
   ]
  },
  {
   "cell_type": "code",
   "execution_count": null,
   "id": "8e92ffe7-91de-4f52-b030-9af52048f032",
   "metadata": {
    "tags": []
   },
   "outputs": [],
   "source": [
    "import os\n",
    "import sys\n",
    "sys.path.append(os.path.realpath('..'))"
   ]
  },
  {
   "cell_type": "code",
   "execution_count": null,
   "id": "79ecb2f4-079c-4805-a381-51e5558eb883",
   "metadata": {
    "tags": []
   },
   "outputs": [],
   "source": [
    "import cache_magic\n",
    "import numpy as np\n",
    "import scipy as sp\n",
    "import pandas as pd\n",
    "import plotly.express as ex\n",
    "import plotly.graph_objects as go\n",
    "import concurrent.futures\n",
    "from copy import deepcopy\n",
    "\n",
    "from tracking_v2.target import ConstantVelocityTarget, SingleTurnTarget\n",
    "from tracking_v2.kalman import LinearKalmanFilter, CoordinatedTurn\n",
    "from tracking_v2.motion import ConstantVelocityModel, ConstantAccelerationModel, SingerAccelerationModel\n",
    "from tracking_v2.sensor import GeometricSensor\n",
    "from tracking_v2.evaluation import Runner, evaluate_nees, plot_error, plot_3d\n",
    "\n",
    "from tracking.util import to_df"
   ]
  },
  {
   "cell_type": "markdown",
   "id": "ade00776-d30e-4a4c-b31a-07484fb9eaaf",
   "metadata": {},
   "source": [
    "The Coordinated-Turn model is not meant for tracking of a target which is not undergoing a turn."
   ]
  },
  {
   "cell_type": "markdown",
   "id": "f5c39037-0ce0-4aa9-a7cb-ee8495be72f3",
   "metadata": {},
   "source": [
    "## No noise"
   ]
  },
  {
   "cell_type": "code",
   "execution_count": null,
   "id": "5e2cc122-a141-4614-b00f-be6a86f42640",
   "metadata": {
    "tags": []
   },
   "outputs": [],
   "source": [
    "target = ConstantVelocityTarget()\n",
    "sensor = GeometricSensor(seed=3)\n",
    "\n",
    "kf = CoordinatedTurn([0, 0, 0, 0])\n",
    "r = Runner(target, sensor, kf)\n",
    "r.run_many(1, 500)\n",
    "\n",
    "plot_3d(r)"
   ]
  },
  {
   "cell_type": "code",
   "execution_count": null,
   "id": "2d534fe4-78d0-484e-bbf4-315c4f60e0d6",
   "metadata": {
    "tags": []
   },
   "outputs": [],
   "source": [
    "plot_error(r)"
   ]
  },
  {
   "cell_type": "markdown",
   "id": "02479b2f-a728-4ff1-96ff-094d7aa432e5",
   "metadata": {},
   "source": [
    "## Some noise"
   ]
  },
  {
   "cell_type": "code",
   "execution_count": null,
   "id": "45fdf48a-cf7e-4c26-95a5-17e700229f16",
   "metadata": {
    "tags": []
   },
   "outputs": [],
   "source": [
    "target = ConstantVelocityTarget()\n",
    "sensor = GeometricSensor(seed=3)\n",
    "\n",
    "kf = CoordinatedTurn([1, 1, 1, 0.0001])\n",
    "r = Runner(target, sensor, kf)\n",
    "r.run_many(1, 500)\n",
    "\n",
    "plot_3d(r)"
   ]
  },
  {
   "cell_type": "code",
   "execution_count": null,
   "id": "2aeb4cf7-fe17-4609-a91d-f8cf084ea4fa",
   "metadata": {
    "tags": []
   },
   "outputs": [],
   "source": [
    "plot_error(r)"
   ]
  },
  {
   "cell_type": "code",
   "execution_count": null,
   "id": "888fd882-0e2d-4e69-9dcf-ec61f8d8c6f2",
   "metadata": {},
   "outputs": [],
   "source": []
  }
 ],
 "metadata": {
  "kernelspec": {
   "display_name": "Python 3 (ipykernel)",
   "language": "python",
   "name": "python3"
  },
  "language_info": {
   "codemirror_mode": {
    "name": "ipython",
    "version": 3
   },
   "file_extension": ".py",
   "mimetype": "text/x-python",
   "name": "python",
   "nbconvert_exporter": "python",
   "pygments_lexer": "ipython3",
   "version": "3.11.5"
  }
 },
 "nbformat": 4,
 "nbformat_minor": 5
}
