{
 "cells": [
  {
   "cell_type": "code",
   "execution_count": 1,
   "id": "882d2878-1c54-43de-87a4-5ee1c8073327",
   "metadata": {},
   "outputs": [],
   "source": [
    "%load_ext autoreload\n",
    "%autoreload 2"
   ]
  },
  {
   "cell_type": "code",
   "execution_count": 2,
   "id": "fa07a504-ee85-4355-a339-016b2d75c68a",
   "metadata": {},
   "outputs": [],
   "source": [
    "import os\n",
    "import sys\n",
    "sys.path.append(os.path.realpath('..'))"
   ]
  },
  {
   "cell_type": "code",
   "execution_count": 24,
   "id": "38226f96-2499-49cf-9fb2-9fc0475a4df7",
   "metadata": {},
   "outputs": [],
   "source": [
    "import textwrap\n",
    "\n",
    "import numpy as np\n",
    "import pandas as pd\n",
    "from scipy.stats import chi2\n",
    "\n",
    "from sympy.solvers import solve, solveset, nsolve, nonlinsolve\n",
    "from sympy import Symbol, symbols, N, sin, cos\n",
    "from sympy.matrices import Matrix, MatrixSymbol\n",
    "from sympy.abc import a, b, c, d\n",
    "\n",
    "import plotly.express as ex\n",
    "import plotly.graph_objects as go\n",
    "\n",
    "from tracking_v2.kalman.turn import CoordinatedTurn\n",
    "from tracking_v2.sensor import GeometricSensor\n",
    "from tracking_v2.target import SingleTurnTarget, SinusTarget\n",
    "from tracking.util import to_df"
   ]
  },
  {
   "cell_type": "code",
   "execution_count": 4,
   "id": "a8be8181-efc9-4fb8-a5b3-04d8a1873eef",
   "metadata": {},
   "outputs": [],
   "source": [
    "Omega, vx, vy, T = symbols(\"\\Omega, v_x, v_y, T\")\n",
    "Px, Py, Pvx, Pvy, Pomega = symbols(\"P_x, P_y, P_vx, P_vy, P_\\omega\", positive=True)\n",
    "Rx, Ry = symbols(\"R_x, R_y\", positive=True)\n",
    "Qx, Qy, Qomega = symbols(\"Q_x, Q_y, Q_\\Omega\", positive=True)\n",
    "\n",
    "T = 1"
   ]
  },
  {
   "cell_type": "code",
   "execution_count": 5,
   "id": "4197b7fd-9935-4d49-b1e7-9763de4b1005",
   "metadata": {},
   "outputs": [],
   "source": [
    "ST = sin(Omega * T)\n",
    "CT = cos(Omega * T)\n",
    "XT = vx * T\n",
    "YT = vy * T\n",
    "O2 = Omega*Omega\n",
    "\n",
    "f_Omega_1 = (CT * XT)/Omega - \\\n",
    "            (ST * vx)/O2 - \\\n",
    "            (ST * YT)/Omega - \\\n",
    "            ((-1 + CT)*vy)/O2\n",
    "\n",
    "f_Omega_2 = -ST*XT - CT*YT\n",
    "\n",
    "f_Omega_3 = (ST * XT)/Omega - \\\n",
    "            ((1-CT)*vx)/O2 + \\\n",
    "            (CT*YT)/Omega - \\\n",
    "            (ST*vy)/O2\n",
    "\n",
    "f_Omega_4 = CT*XT - ST*YT\n",
    "\n",
    "f_x = Matrix([[1, sin(Omega * T)/Omega, 0, -(1-cos(Omega * T))/Omega, f_Omega_1],\n",
    "              [0, cos(Omega * T), 0, -sin(Omega * T), f_Omega_2],\n",
    "              [0, (1-cos(Omega * T))/Omega, 1, sin(Omega * T)/Omega, f_Omega_3],\n",
    "              [0, sin(Omega * T), 0, cos(Omega * T), f_Omega_4],\n",
    "              [0, 0, 0, 0, 1]])\n",
    "\n",
    "P = Matrix([[Px, 0, 0, 0, 0],\n",
    "            [0, Pvx, 0, 0, 0],\n",
    "            [0, 0, Py, 0, 0],\n",
    "            [0, 0, 0, Pvy, 0],\n",
    "            [0, 0, 0, 0, Pomega]])\n",
    "\n",
    "H = Matrix([[1, 0, 0, 0, 0],\n",
    "            [0, 0, 1, 0, 0]])\n",
    "\n",
    "R = Matrix([[Rx, 0],\n",
    "            [0, Ry]])\n",
    "\n",
    "Q = Matrix([[T*T/2*Qx, 0, 0, 0, 0],\n",
    "            [0, T*Qx, 0, 0, 0],\n",
    "            [0, 0, T*T/2*Qy, 0, 0],\n",
    "            [0, 0, 0, T*Qy, 0],\n",
    "            [0, 0, 0, 0, T*Qomega]])"
   ]
  },
  {
   "cell_type": "code",
   "execution_count": 6,
   "id": "f477cbdd-49e1-4e9c-95d0-76a9571c6353",
   "metadata": {},
   "outputs": [
    {
     "data": {
      "text/latex": [
       "$\\displaystyle \\left[\\begin{matrix}1 & \\frac{\\sin{\\left(\\Omega \\right)}}{\\Omega} & 0 & \\frac{\\cos{\\left(\\Omega \\right)} - 1}{\\Omega} & \\frac{v_{x} \\cos{\\left(\\Omega \\right)}}{\\Omega} - \\frac{v_{y} \\sin{\\left(\\Omega \\right)}}{\\Omega} - \\frac{v_{x} \\sin{\\left(\\Omega \\right)}}{\\Omega^{2}} - \\frac{v_{y} \\left(\\cos{\\left(\\Omega \\right)} - 1\\right)}{\\Omega^{2}}\\\\0 & \\cos{\\left(\\Omega \\right)} & 0 & - \\sin{\\left(\\Omega \\right)} & - v_{x} \\sin{\\left(\\Omega \\right)} - v_{y} \\cos{\\left(\\Omega \\right)}\\\\0 & \\frac{1 - \\cos{\\left(\\Omega \\right)}}{\\Omega} & 1 & \\frac{\\sin{\\left(\\Omega \\right)}}{\\Omega} & \\frac{v_{x} \\sin{\\left(\\Omega \\right)}}{\\Omega} + \\frac{v_{y} \\cos{\\left(\\Omega \\right)}}{\\Omega} - \\frac{v_{x} \\left(1 - \\cos{\\left(\\Omega \\right)}\\right)}{\\Omega^{2}} - \\frac{v_{y} \\sin{\\left(\\Omega \\right)}}{\\Omega^{2}}\\\\0 & \\sin{\\left(\\Omega \\right)} & 0 & \\cos{\\left(\\Omega \\right)} & v_{x} \\cos{\\left(\\Omega \\right)} - v_{y} \\sin{\\left(\\Omega \\right)}\\\\0 & 0 & 0 & 0 & 1\\end{matrix}\\right]$"
      ],
      "text/plain": [
       "Matrix([\n",
       "[1,       sin(\\Omega)/\\Omega, 0, (cos(\\Omega) - 1)/\\Omega, v_x*cos(\\Omega)/\\Omega - v_y*sin(\\Omega)/\\Omega - v_x*sin(\\Omega)/\\Omega**2 - v_y*(cos(\\Omega) - 1)/\\Omega**2],\n",
       "[0,              cos(\\Omega), 0,             -sin(\\Omega),                                                                            -v_x*sin(\\Omega) - v_y*cos(\\Omega)],\n",
       "[0, (1 - cos(\\Omega))/\\Omega, 1,       sin(\\Omega)/\\Omega, v_x*sin(\\Omega)/\\Omega + v_y*cos(\\Omega)/\\Omega - v_x*(1 - cos(\\Omega))/\\Omega**2 - v_y*sin(\\Omega)/\\Omega**2],\n",
       "[0,              sin(\\Omega), 0,              cos(\\Omega),                                                                             v_x*cos(\\Omega) - v_y*sin(\\Omega)],\n",
       "[0,                        0, 0,                        0,                                                                                                             1]])"
      ]
     },
     "execution_count": 6,
     "metadata": {},
     "output_type": "execute_result"
    }
   ],
   "source": [
    "f_x"
   ]
  },
  {
   "cell_type": "code",
   "execution_count": 7,
   "id": "f6ab1e25-6ce8-4875-9c12-e247cba1b782",
   "metadata": {},
   "outputs": [
    {
     "data": {
      "text/latex": [
       "$\\displaystyle \\left[\\begin{matrix}P_{x} & 0 & 0 & 0 & 0\\\\0 & P_{vx} & 0 & 0 & 0\\\\0 & 0 & P_{y} & 0 & 0\\\\0 & 0 & 0 & P_{vy} & 0\\\\0 & 0 & 0 & 0 & P_{\\omega}\\end{matrix}\\right]$"
      ],
      "text/plain": [
       "Matrix([\n",
       "[P_x,    0,   0,    0,        0],\n",
       "[  0, P_vx,   0,    0,        0],\n",
       "[  0,    0, P_y,    0,        0],\n",
       "[  0,    0,   0, P_vy,        0],\n",
       "[  0,    0,   0,    0, P_\\omega]])"
      ]
     },
     "execution_count": 7,
     "metadata": {},
     "output_type": "execute_result"
    }
   ],
   "source": [
    "P"
   ]
  },
  {
   "cell_type": "code",
   "execution_count": 8,
   "id": "c8c506f3-1e86-4b42-a00f-2747a7699229",
   "metadata": {},
   "outputs": [
    {
     "data": {
      "text/latex": [
       "$\\displaystyle \\left[\\begin{matrix}P_{\\omega} \\left(\\frac{v_{x} \\cos{\\left(\\Omega \\right)}}{\\Omega} - \\frac{v_{y} \\sin{\\left(\\Omega \\right)}}{\\Omega} - \\frac{v_{x} \\sin{\\left(\\Omega \\right)}}{\\Omega^{2}} - \\frac{v_{y} \\left(\\cos{\\left(\\Omega \\right)} - 1\\right)}{\\Omega^{2}}\\right)^{2} + \\frac{P_{vx} \\sin^{2}{\\left(\\Omega \\right)}}{\\Omega^{2}} + \\frac{P_{vy} \\left(\\cos{\\left(\\Omega \\right)} - 1\\right)^{2}}{\\Omega^{2}} + P_{x} + 0.5 Q_{x} & P_{\\omega} \\left(- v_{x} \\sin{\\left(\\Omega \\right)} - v_{y} \\cos{\\left(\\Omega \\right)}\\right) \\left(\\frac{v_{x} \\cos{\\left(\\Omega \\right)}}{\\Omega} - \\frac{v_{y} \\sin{\\left(\\Omega \\right)}}{\\Omega} - \\frac{v_{x} \\sin{\\left(\\Omega \\right)}}{\\Omega^{2}} - \\frac{v_{y} \\left(\\cos{\\left(\\Omega \\right)} - 1\\right)}{\\Omega^{2}}\\right) + \\frac{P_{vx} \\sin{\\left(\\Omega \\right)} \\cos{\\left(\\Omega \\right)}}{\\Omega} - \\frac{P_{vy} \\left(\\cos{\\left(\\Omega \\right)} - 1\\right) \\sin{\\left(\\Omega \\right)}}{\\Omega} & P_{\\omega} \\left(\\frac{v_{x} \\sin{\\left(\\Omega \\right)}}{\\Omega} + \\frac{v_{y} \\cos{\\left(\\Omega \\right)}}{\\Omega} - \\frac{v_{x} \\left(1 - \\cos{\\left(\\Omega \\right)}\\right)}{\\Omega^{2}} - \\frac{v_{y} \\sin{\\left(\\Omega \\right)}}{\\Omega^{2}}\\right) \\left(\\frac{v_{x} \\cos{\\left(\\Omega \\right)}}{\\Omega} - \\frac{v_{y} \\sin{\\left(\\Omega \\right)}}{\\Omega} - \\frac{v_{x} \\sin{\\left(\\Omega \\right)}}{\\Omega^{2}} - \\frac{v_{y} \\left(\\cos{\\left(\\Omega \\right)} - 1\\right)}{\\Omega^{2}}\\right) + \\frac{P_{vx} \\left(1 - \\cos{\\left(\\Omega \\right)}\\right) \\sin{\\left(\\Omega \\right)}}{\\Omega^{2}} + \\frac{P_{vy} \\left(\\cos{\\left(\\Omega \\right)} - 1\\right) \\sin{\\left(\\Omega \\right)}}{\\Omega^{2}} & P_{\\omega} \\left(v_{x} \\cos{\\left(\\Omega \\right)} - v_{y} \\sin{\\left(\\Omega \\right)}\\right) \\left(\\frac{v_{x} \\cos{\\left(\\Omega \\right)}}{\\Omega} - \\frac{v_{y} \\sin{\\left(\\Omega \\right)}}{\\Omega} - \\frac{v_{x} \\sin{\\left(\\Omega \\right)}}{\\Omega^{2}} - \\frac{v_{y} \\left(\\cos{\\left(\\Omega \\right)} - 1\\right)}{\\Omega^{2}}\\right) + \\frac{P_{vx} \\sin^{2}{\\left(\\Omega \\right)}}{\\Omega} + \\frac{P_{vy} \\left(\\cos{\\left(\\Omega \\right)} - 1\\right) \\cos{\\left(\\Omega \\right)}}{\\Omega} & P_{\\omega} \\left(\\frac{v_{x} \\cos{\\left(\\Omega \\right)}}{\\Omega} - \\frac{v_{y} \\sin{\\left(\\Omega \\right)}}{\\Omega} - \\frac{v_{x} \\sin{\\left(\\Omega \\right)}}{\\Omega^{2}} - \\frac{v_{y} \\left(\\cos{\\left(\\Omega \\right)} - 1\\right)}{\\Omega^{2}}\\right)\\\\P_{\\omega} \\left(- v_{x} \\sin{\\left(\\Omega \\right)} - v_{y} \\cos{\\left(\\Omega \\right)}\\right) \\left(\\frac{v_{x} \\cos{\\left(\\Omega \\right)}}{\\Omega} - \\frac{v_{y} \\sin{\\left(\\Omega \\right)}}{\\Omega} - \\frac{v_{x} \\sin{\\left(\\Omega \\right)}}{\\Omega^{2}} - \\frac{v_{y} \\left(\\cos{\\left(\\Omega \\right)} - 1\\right)}{\\Omega^{2}}\\right) + \\frac{P_{vx} \\sin{\\left(\\Omega \\right)} \\cos{\\left(\\Omega \\right)}}{\\Omega} - \\frac{P_{vy} \\left(\\cos{\\left(\\Omega \\right)} - 1\\right) \\sin{\\left(\\Omega \\right)}}{\\Omega} & P_{\\omega} \\left(- v_{x} \\sin{\\left(\\Omega \\right)} - v_{y} \\cos{\\left(\\Omega \\right)}\\right)^{2} + P_{vx} \\cos^{2}{\\left(\\Omega \\right)} + P_{vy} \\sin^{2}{\\left(\\Omega \\right)} + Q_{x} & P_{\\omega} \\left(- v_{x} \\sin{\\left(\\Omega \\right)} - v_{y} \\cos{\\left(\\Omega \\right)}\\right) \\left(\\frac{v_{x} \\sin{\\left(\\Omega \\right)}}{\\Omega} + \\frac{v_{y} \\cos{\\left(\\Omega \\right)}}{\\Omega} - \\frac{v_{x} \\left(1 - \\cos{\\left(\\Omega \\right)}\\right)}{\\Omega^{2}} - \\frac{v_{y} \\sin{\\left(\\Omega \\right)}}{\\Omega^{2}}\\right) + \\frac{P_{vx} \\left(1 - \\cos{\\left(\\Omega \\right)}\\right) \\cos{\\left(\\Omega \\right)}}{\\Omega} - \\frac{P_{vy} \\sin^{2}{\\left(\\Omega \\right)}}{\\Omega} & P_{\\omega} \\left(- v_{x} \\sin{\\left(\\Omega \\right)} - v_{y} \\cos{\\left(\\Omega \\right)}\\right) \\left(v_{x} \\cos{\\left(\\Omega \\right)} - v_{y} \\sin{\\left(\\Omega \\right)}\\right) + P_{vx} \\sin{\\left(\\Omega \\right)} \\cos{\\left(\\Omega \\right)} - P_{vy} \\sin{\\left(\\Omega \\right)} \\cos{\\left(\\Omega \\right)} & P_{\\omega} \\left(- v_{x} \\sin{\\left(\\Omega \\right)} - v_{y} \\cos{\\left(\\Omega \\right)}\\right)\\\\P_{\\omega} \\left(\\frac{v_{x} \\sin{\\left(\\Omega \\right)}}{\\Omega} + \\frac{v_{y} \\cos{\\left(\\Omega \\right)}}{\\Omega} - \\frac{v_{x} \\left(1 - \\cos{\\left(\\Omega \\right)}\\right)}{\\Omega^{2}} - \\frac{v_{y} \\sin{\\left(\\Omega \\right)}}{\\Omega^{2}}\\right) \\left(\\frac{v_{x} \\cos{\\left(\\Omega \\right)}}{\\Omega} - \\frac{v_{y} \\sin{\\left(\\Omega \\right)}}{\\Omega} - \\frac{v_{x} \\sin{\\left(\\Omega \\right)}}{\\Omega^{2}} - \\frac{v_{y} \\left(\\cos{\\left(\\Omega \\right)} - 1\\right)}{\\Omega^{2}}\\right) + \\frac{P_{vx} \\left(1 - \\cos{\\left(\\Omega \\right)}\\right) \\sin{\\left(\\Omega \\right)}}{\\Omega^{2}} + \\frac{P_{vy} \\left(\\cos{\\left(\\Omega \\right)} - 1\\right) \\sin{\\left(\\Omega \\right)}}{\\Omega^{2}} & P_{\\omega} \\left(- v_{x} \\sin{\\left(\\Omega \\right)} - v_{y} \\cos{\\left(\\Omega \\right)}\\right) \\left(\\frac{v_{x} \\sin{\\left(\\Omega \\right)}}{\\Omega} + \\frac{v_{y} \\cos{\\left(\\Omega \\right)}}{\\Omega} - \\frac{v_{x} \\left(1 - \\cos{\\left(\\Omega \\right)}\\right)}{\\Omega^{2}} - \\frac{v_{y} \\sin{\\left(\\Omega \\right)}}{\\Omega^{2}}\\right) + \\frac{P_{vx} \\left(1 - \\cos{\\left(\\Omega \\right)}\\right) \\cos{\\left(\\Omega \\right)}}{\\Omega} - \\frac{P_{vy} \\sin^{2}{\\left(\\Omega \\right)}}{\\Omega} & P_{\\omega} \\left(\\frac{v_{x} \\sin{\\left(\\Omega \\right)}}{\\Omega} + \\frac{v_{y} \\cos{\\left(\\Omega \\right)}}{\\Omega} - \\frac{v_{x} \\left(1 - \\cos{\\left(\\Omega \\right)}\\right)}{\\Omega^{2}} - \\frac{v_{y} \\sin{\\left(\\Omega \\right)}}{\\Omega^{2}}\\right)^{2} + \\frac{P_{vx} \\left(1 - \\cos{\\left(\\Omega \\right)}\\right)^{2}}{\\Omega^{2}} + \\frac{P_{vy} \\sin^{2}{\\left(\\Omega \\right)}}{\\Omega^{2}} + P_{y} + 0.5 Q_{y} & P_{\\omega} \\left(v_{x} \\cos{\\left(\\Omega \\right)} - v_{y} \\sin{\\left(\\Omega \\right)}\\right) \\left(\\frac{v_{x} \\sin{\\left(\\Omega \\right)}}{\\Omega} + \\frac{v_{y} \\cos{\\left(\\Omega \\right)}}{\\Omega} - \\frac{v_{x} \\left(1 - \\cos{\\left(\\Omega \\right)}\\right)}{\\Omega^{2}} - \\frac{v_{y} \\sin{\\left(\\Omega \\right)}}{\\Omega^{2}}\\right) + \\frac{P_{vx} \\left(1 - \\cos{\\left(\\Omega \\right)}\\right) \\sin{\\left(\\Omega \\right)}}{\\Omega} + \\frac{P_{vy} \\sin{\\left(\\Omega \\right)} \\cos{\\left(\\Omega \\right)}}{\\Omega} & P_{\\omega} \\left(\\frac{v_{x} \\sin{\\left(\\Omega \\right)}}{\\Omega} + \\frac{v_{y} \\cos{\\left(\\Omega \\right)}}{\\Omega} - \\frac{v_{x} \\left(1 - \\cos{\\left(\\Omega \\right)}\\right)}{\\Omega^{2}} - \\frac{v_{y} \\sin{\\left(\\Omega \\right)}}{\\Omega^{2}}\\right)\\\\P_{\\omega} \\left(v_{x} \\cos{\\left(\\Omega \\right)} - v_{y} \\sin{\\left(\\Omega \\right)}\\right) \\left(\\frac{v_{x} \\cos{\\left(\\Omega \\right)}}{\\Omega} - \\frac{v_{y} \\sin{\\left(\\Omega \\right)}}{\\Omega} - \\frac{v_{x} \\sin{\\left(\\Omega \\right)}}{\\Omega^{2}} - \\frac{v_{y} \\left(\\cos{\\left(\\Omega \\right)} - 1\\right)}{\\Omega^{2}}\\right) + \\frac{P_{vx} \\sin^{2}{\\left(\\Omega \\right)}}{\\Omega} + \\frac{P_{vy} \\left(\\cos{\\left(\\Omega \\right)} - 1\\right) \\cos{\\left(\\Omega \\right)}}{\\Omega} & P_{\\omega} \\left(- v_{x} \\sin{\\left(\\Omega \\right)} - v_{y} \\cos{\\left(\\Omega \\right)}\\right) \\left(v_{x} \\cos{\\left(\\Omega \\right)} - v_{y} \\sin{\\left(\\Omega \\right)}\\right) + P_{vx} \\sin{\\left(\\Omega \\right)} \\cos{\\left(\\Omega \\right)} - P_{vy} \\sin{\\left(\\Omega \\right)} \\cos{\\left(\\Omega \\right)} & P_{\\omega} \\left(v_{x} \\cos{\\left(\\Omega \\right)} - v_{y} \\sin{\\left(\\Omega \\right)}\\right) \\left(\\frac{v_{x} \\sin{\\left(\\Omega \\right)}}{\\Omega} + \\frac{v_{y} \\cos{\\left(\\Omega \\right)}}{\\Omega} - \\frac{v_{x} \\left(1 - \\cos{\\left(\\Omega \\right)}\\right)}{\\Omega^{2}} - \\frac{v_{y} \\sin{\\left(\\Omega \\right)}}{\\Omega^{2}}\\right) + \\frac{P_{vx} \\left(1 - \\cos{\\left(\\Omega \\right)}\\right) \\sin{\\left(\\Omega \\right)}}{\\Omega} + \\frac{P_{vy} \\sin{\\left(\\Omega \\right)} \\cos{\\left(\\Omega \\right)}}{\\Omega} & P_{\\omega} \\left(v_{x} \\cos{\\left(\\Omega \\right)} - v_{y} \\sin{\\left(\\Omega \\right)}\\right)^{2} + P_{vx} \\sin^{2}{\\left(\\Omega \\right)} + P_{vy} \\cos^{2}{\\left(\\Omega \\right)} + Q_{y} & P_{\\omega} \\left(v_{x} \\cos{\\left(\\Omega \\right)} - v_{y} \\sin{\\left(\\Omega \\right)}\\right)\\\\P_{\\omega} \\left(\\frac{v_{x} \\cos{\\left(\\Omega \\right)}}{\\Omega} - \\frac{v_{y} \\sin{\\left(\\Omega \\right)}}{\\Omega} - \\frac{v_{x} \\sin{\\left(\\Omega \\right)}}{\\Omega^{2}} - \\frac{v_{y} \\left(\\cos{\\left(\\Omega \\right)} - 1\\right)}{\\Omega^{2}}\\right) & P_{\\omega} \\left(- v_{x} \\sin{\\left(\\Omega \\right)} - v_{y} \\cos{\\left(\\Omega \\right)}\\right) & P_{\\omega} \\left(\\frac{v_{x} \\sin{\\left(\\Omega \\right)}}{\\Omega} + \\frac{v_{y} \\cos{\\left(\\Omega \\right)}}{\\Omega} - \\frac{v_{x} \\left(1 - \\cos{\\left(\\Omega \\right)}\\right)}{\\Omega^{2}} - \\frac{v_{y} \\sin{\\left(\\Omega \\right)}}{\\Omega^{2}}\\right) & P_{\\omega} \\left(v_{x} \\cos{\\left(\\Omega \\right)} - v_{y} \\sin{\\left(\\Omega \\right)}\\right) & P_{\\omega} + Q_{\\Omega}\\end{matrix}\\right]$"
      ],
      "text/plain": [
       "Matrix([\n",
       "[                                                                                                                     P_\\omega*(v_x*cos(\\Omega)/\\Omega - v_y*sin(\\Omega)/\\Omega - v_x*sin(\\Omega)/\\Omega**2 - v_y*(cos(\\Omega) - 1)/\\Omega**2)**2 + P_vx*sin(\\Omega)**2/\\Omega**2 + P_vy*(cos(\\Omega) - 1)**2/\\Omega**2 + P_x + 0.5*Q_x, P_\\omega*(-v_x*sin(\\Omega) - v_y*cos(\\Omega))*(v_x*cos(\\Omega)/\\Omega - v_y*sin(\\Omega)/\\Omega - v_x*sin(\\Omega)/\\Omega**2 - v_y*(cos(\\Omega) - 1)/\\Omega**2) + P_vx*sin(\\Omega)*cos(\\Omega)/\\Omega - P_vy*(cos(\\Omega) - 1)*sin(\\Omega)/\\Omega, P_\\omega*(v_x*sin(\\Omega)/\\Omega + v_y*cos(\\Omega)/\\Omega - v_x*(1 - cos(\\Omega))/\\Omega**2 - v_y*sin(\\Omega)/\\Omega**2)*(v_x*cos(\\Omega)/\\Omega - v_y*sin(\\Omega)/\\Omega - v_x*sin(\\Omega)/\\Omega**2 - v_y*(cos(\\Omega) - 1)/\\Omega**2) + P_vx*(1 - cos(\\Omega))*sin(\\Omega)/\\Omega**2 + P_vy*(cos(\\Omega) - 1)*sin(\\Omega)/\\Omega**2,          P_\\omega*(v_x*cos(\\Omega) - v_y*sin(\\Omega))*(v_x*cos(\\Omega)/\\Omega - v_y*sin(\\Omega)/\\Omega - v_x*sin(\\Omega)/\\Omega**2 - v_y*(cos(\\Omega) - 1)/\\Omega**2) + P_vx*sin(\\Omega)**2/\\Omega + P_vy*(cos(\\Omega) - 1)*cos(\\Omega)/\\Omega, P_\\omega*(v_x*cos(\\Omega)/\\Omega - v_y*sin(\\Omega)/\\Omega - v_x*sin(\\Omega)/\\Omega**2 - v_y*(cos(\\Omega) - 1)/\\Omega**2)],\n",
       "[                                                                                       P_\\omega*(-v_x*sin(\\Omega) - v_y*cos(\\Omega))*(v_x*cos(\\Omega)/\\Omega - v_y*sin(\\Omega)/\\Omega - v_x*sin(\\Omega)/\\Omega**2 - v_y*(cos(\\Omega) - 1)/\\Omega**2) + P_vx*sin(\\Omega)*cos(\\Omega)/\\Omega - P_vy*(cos(\\Omega) - 1)*sin(\\Omega)/\\Omega,                                                                                                                                              P_\\omega*(-v_x*sin(\\Omega) - v_y*cos(\\Omega))**2 + P_vx*cos(\\Omega)**2 + P_vy*sin(\\Omega)**2 + Q_x,                                                                                                 P_\\omega*(-v_x*sin(\\Omega) - v_y*cos(\\Omega))*(v_x*sin(\\Omega)/\\Omega + v_y*cos(\\Omega)/\\Omega - v_x*(1 - cos(\\Omega))/\\Omega**2 - v_y*sin(\\Omega)/\\Omega**2) + P_vx*(1 - cos(\\Omega))*cos(\\Omega)/\\Omega - P_vy*sin(\\Omega)**2/\\Omega,                                                                                                P_\\omega*(-v_x*sin(\\Omega) - v_y*cos(\\Omega))*(v_x*cos(\\Omega) - v_y*sin(\\Omega)) + P_vx*sin(\\Omega)*cos(\\Omega) - P_vy*sin(\\Omega)*cos(\\Omega),                                                                            P_\\omega*(-v_x*sin(\\Omega) - v_y*cos(\\Omega))],\n",
       "[P_\\omega*(v_x*sin(\\Omega)/\\Omega + v_y*cos(\\Omega)/\\Omega - v_x*(1 - cos(\\Omega))/\\Omega**2 - v_y*sin(\\Omega)/\\Omega**2)*(v_x*cos(\\Omega)/\\Omega - v_y*sin(\\Omega)/\\Omega - v_x*sin(\\Omega)/\\Omega**2 - v_y*(cos(\\Omega) - 1)/\\Omega**2) + P_vx*(1 - cos(\\Omega))*sin(\\Omega)/\\Omega**2 + P_vy*(cos(\\Omega) - 1)*sin(\\Omega)/\\Omega**2,          P_\\omega*(-v_x*sin(\\Omega) - v_y*cos(\\Omega))*(v_x*sin(\\Omega)/\\Omega + v_y*cos(\\Omega)/\\Omega - v_x*(1 - cos(\\Omega))/\\Omega**2 - v_y*sin(\\Omega)/\\Omega**2) + P_vx*(1 - cos(\\Omega))*cos(\\Omega)/\\Omega - P_vy*sin(\\Omega)**2/\\Omega,                                                                                                                      P_\\omega*(v_x*sin(\\Omega)/\\Omega + v_y*cos(\\Omega)/\\Omega - v_x*(1 - cos(\\Omega))/\\Omega**2 - v_y*sin(\\Omega)/\\Omega**2)**2 + P_vx*(1 - cos(\\Omega))**2/\\Omega**2 + P_vy*sin(\\Omega)**2/\\Omega**2 + P_y + 0.5*Q_y, P_\\omega*(v_x*cos(\\Omega) - v_y*sin(\\Omega))*(v_x*sin(\\Omega)/\\Omega + v_y*cos(\\Omega)/\\Omega - v_x*(1 - cos(\\Omega))/\\Omega**2 - v_y*sin(\\Omega)/\\Omega**2) + P_vx*(1 - cos(\\Omega))*sin(\\Omega)/\\Omega + P_vy*sin(\\Omega)*cos(\\Omega)/\\Omega, P_\\omega*(v_x*sin(\\Omega)/\\Omega + v_y*cos(\\Omega)/\\Omega - v_x*(1 - cos(\\Omega))/\\Omega**2 - v_y*sin(\\Omega)/\\Omega**2)],\n",
       "[                                                                                                 P_\\omega*(v_x*cos(\\Omega) - v_y*sin(\\Omega))*(v_x*cos(\\Omega)/\\Omega - v_y*sin(\\Omega)/\\Omega - v_x*sin(\\Omega)/\\Omega**2 - v_y*(cos(\\Omega) - 1)/\\Omega**2) + P_vx*sin(\\Omega)**2/\\Omega + P_vy*(cos(\\Omega) - 1)*cos(\\Omega)/\\Omega,                                                                                                 P_\\omega*(-v_x*sin(\\Omega) - v_y*cos(\\Omega))*(v_x*cos(\\Omega) - v_y*sin(\\Omega)) + P_vx*sin(\\Omega)*cos(\\Omega) - P_vy*sin(\\Omega)*cos(\\Omega),                                                                                         P_\\omega*(v_x*cos(\\Omega) - v_y*sin(\\Omega))*(v_x*sin(\\Omega)/\\Omega + v_y*cos(\\Omega)/\\Omega - v_x*(1 - cos(\\Omega))/\\Omega**2 - v_y*sin(\\Omega)/\\Omega**2) + P_vx*(1 - cos(\\Omega))*sin(\\Omega)/\\Omega + P_vy*sin(\\Omega)*cos(\\Omega)/\\Omega,                                                                                                                                              P_\\omega*(v_x*cos(\\Omega) - v_y*sin(\\Omega))**2 + P_vx*sin(\\Omega)**2 + P_vy*cos(\\Omega)**2 + Q_y,                                                                             P_\\omega*(v_x*cos(\\Omega) - v_y*sin(\\Omega))],\n",
       "[                                                                                                                                                                                                              P_\\omega*(v_x*cos(\\Omega)/\\Omega - v_y*sin(\\Omega)/\\Omega - v_x*sin(\\Omega)/\\Omega**2 - v_y*(cos(\\Omega) - 1)/\\Omega**2),                                                                                                                                                                                                   P_\\omega*(-v_x*sin(\\Omega) - v_y*cos(\\Omega)),                                                                                                                                                                                                               P_\\omega*(v_x*sin(\\Omega)/\\Omega + v_y*cos(\\Omega)/\\Omega - v_x*(1 - cos(\\Omega))/\\Omega**2 - v_y*sin(\\Omega)/\\Omega**2),                                                                                                                                                                                                   P_\\omega*(v_x*cos(\\Omega) - v_y*sin(\\Omega)),                                                                                                      P_\\omega + Q_\\Omega]])"
      ]
     },
     "execution_count": 8,
     "metadata": {},
     "output_type": "execute_result"
    }
   ],
   "source": [
    "f_x @ P @ f_x.T + Q"
   ]
  },
  {
   "cell_type": "code",
   "execution_count": 9,
   "id": "b0b10f32-f871-4a20-b796-0408c116a835",
   "metadata": {},
   "outputs": [
    {
     "data": {
      "text/plain": [
       "sympy.matrices.dense.MutableDenseMatrix"
      ]
     },
     "execution_count": 9,
     "metadata": {},
     "output_type": "execute_result"
    }
   ],
   "source": [
    "Matrix"
   ]
  },
  {
   "cell_type": "code",
   "execution_count": 10,
   "id": "50a625c3-d9b8-432b-a7e9-5637dff58d45",
   "metadata": {},
   "outputs": [],
   "source": [
    "F   = symbols('F0:12')\n",
    "f_x = Matrix([[1, F[0], 0, F[4], F[8]],\n",
    "              [0, F[1], 0, F[5], F[9]],\n",
    "              [0, F[2], 1, F[6], F[10]],\n",
    "              [0, F[3], 0, F[7], F[11]],\n",
    "              [0, 0, 0, 0, 1]])\n",
    "\n",
    "P = Matrix([[Px, 0, 0, 0, 0],\n",
    "            [0, Pvx, 0, 0, 0],\n",
    "            [0, 0, Py, 0, 0],\n",
    "            [0, 0, 0, Pvy, 0],\n",
    "            [0, 0, 0, 0, Pomega]])\n",
    "\n",
    "H = Matrix([[1, 0, 0, 0, 0],\n",
    "            [0, 0, 1, 0, 0]])\n",
    "\n",
    "R = Matrix([[Rx, 0],\n",
    "            [0, Ry]])\n",
    "\n",
    "Q = Matrix([[T*T/2*Qx, 0, 0, 0, 0],\n",
    "            [0, T*Qx, 0, 0, 0],\n",
    "            [0, 0, T*T/2*Qy, 0, 0],\n",
    "            [0, 0, 0, T*Qy, 0],\n",
    "            [0, 0, 0, 0, T*Qomega]])"
   ]
  },
  {
   "cell_type": "code",
   "execution_count": 11,
   "id": "992c9cd7-2ef5-4ec1-8746-a1dd4a475e60",
   "metadata": {},
   "outputs": [],
   "source": [
    "P_1 = f_x @ P @ f_x.T + Q\n",
    "S = H @ P_1 @ H.T + R\n",
    "K = P_1 @ H.T @ S.inv()"
   ]
  },
  {
   "cell_type": "code",
   "execution_count": 12,
   "id": "acc12268-297c-4b02-b0a4-5ba5bd8e2119",
   "metadata": {},
   "outputs": [],
   "source": [
    "K.simplify()"
   ]
  },
  {
   "cell_type": "code",
   "execution_count": 13,
   "id": "0bbc4e71-10b8-42aa-9cf3-1eb913e3724e",
   "metadata": {},
   "outputs": [
    {
     "data": {
      "text/latex": [
       "$\\displaystyle \\left[\\begin{matrix}\\frac{- 1.0 \\left(F_{0} F_{2} P_{vx} + F_{10} F_{8} P_{\\omega} + F_{4} F_{6} P_{vy}\\right)^{2} + \\left(F_{0}^{2} P_{vx} + F_{4}^{2} P_{vy} + F_{8}^{2} P_{\\omega} + P_{x} + 0.5 Q_{x}\\right) \\left(1.0 F_{10}^{2} P_{\\omega} + 1.0 F_{2}^{2} P_{vx} + 1.0 F_{6}^{2} P_{vy} + 1.0 P_{y} + 0.5 Q_{y} + 1.0 R_{y}\\right)}{1.0 F_{0}^{2} F_{10}^{2} P_{\\omega} P_{vx} + 1.0 F_{0}^{2} F_{6}^{2} P_{vx} P_{vy} + 1.0 F_{0}^{2} P_{vx} P_{y} + 0.5 F_{0}^{2} P_{vx} Q_{y} + 1.0 F_{0}^{2} P_{vx} R_{y} - 2.0 F_{0} F_{10} F_{2} F_{8} P_{\\omega} P_{vx} - 2.0 F_{0} F_{2} F_{4} F_{6} P_{vx} P_{vy} + 1.0 F_{10}^{2} F_{4}^{2} P_{\\omega} P_{vy} + 1.0 F_{10}^{2} P_{\\omega} P_{x} + 0.5 F_{10}^{2} P_{\\omega} Q_{x} + 1.0 F_{10}^{2} P_{\\omega} R_{x} - 2.0 F_{10} F_{4} F_{6} F_{8} P_{\\omega} P_{vy} + 1.0 F_{2}^{2} F_{4}^{2} P_{vx} P_{vy} + 1.0 F_{2}^{2} F_{8}^{2} P_{\\omega} P_{vx} + 1.0 F_{2}^{2} P_{vx} P_{x} + 0.5 F_{2}^{2} P_{vx} Q_{x} + 1.0 F_{2}^{2} P_{vx} R_{x} + 1.0 F_{4}^{2} P_{vy} P_{y} + 0.5 F_{4}^{2} P_{vy} Q_{y} + 1.0 F_{4}^{2} P_{vy} R_{y} + 1.0 F_{6}^{2} F_{8}^{2} P_{\\omega} P_{vy} + 1.0 F_{6}^{2} P_{vy} P_{x} + 0.5 F_{6}^{2} P_{vy} Q_{x} + 1.0 F_{6}^{2} P_{vy} R_{x} + 1.0 F_{8}^{2} P_{\\omega} P_{y} + 0.5 F_{8}^{2} P_{\\omega} Q_{y} + 1.0 F_{8}^{2} P_{\\omega} R_{y} + 1.0 P_{x} P_{y} + 0.5 P_{x} Q_{y} + 1.0 P_{x} R_{y} + 0.5 P_{y} Q_{x} + 1.0 P_{y} R_{x} + 0.25 Q_{x} Q_{y} + 0.5 Q_{x} R_{y} + 0.5 Q_{y} R_{x} + 1.0 R_{x} R_{y}} & \\frac{1.0 R_{x} \\left(F_{0} F_{2} P_{vx} + F_{10} F_{8} P_{\\omega} + F_{4} F_{6} P_{vy}\\right)}{1.0 F_{0}^{2} F_{10}^{2} P_{\\omega} P_{vx} + 1.0 F_{0}^{2} F_{6}^{2} P_{vx} P_{vy} + 1.0 F_{0}^{2} P_{vx} P_{y} + 0.5 F_{0}^{2} P_{vx} Q_{y} + 1.0 F_{0}^{2} P_{vx} R_{y} - 2.0 F_{0} F_{10} F_{2} F_{8} P_{\\omega} P_{vx} - 2.0 F_{0} F_{2} F_{4} F_{6} P_{vx} P_{vy} + 1.0 F_{10}^{2} F_{4}^{2} P_{\\omega} P_{vy} + 1.0 F_{10}^{2} P_{\\omega} P_{x} + 0.5 F_{10}^{2} P_{\\omega} Q_{x} + 1.0 F_{10}^{2} P_{\\omega} R_{x} - 2.0 F_{10} F_{4} F_{6} F_{8} P_{\\omega} P_{vy} + 1.0 F_{2}^{2} F_{4}^{2} P_{vx} P_{vy} + 1.0 F_{2}^{2} F_{8}^{2} P_{\\omega} P_{vx} + 1.0 F_{2}^{2} P_{vx} P_{x} + 0.5 F_{2}^{2} P_{vx} Q_{x} + 1.0 F_{2}^{2} P_{vx} R_{x} + 1.0 F_{4}^{2} P_{vy} P_{y} + 0.5 F_{4}^{2} P_{vy} Q_{y} + 1.0 F_{4}^{2} P_{vy} R_{y} + 1.0 F_{6}^{2} F_{8}^{2} P_{\\omega} P_{vy} + 1.0 F_{6}^{2} P_{vy} P_{x} + 0.5 F_{6}^{2} P_{vy} Q_{x} + 1.0 F_{6}^{2} P_{vy} R_{x} + 1.0 F_{8}^{2} P_{\\omega} P_{y} + 0.5 F_{8}^{2} P_{\\omega} Q_{y} + 1.0 F_{8}^{2} P_{\\omega} R_{y} + 1.0 P_{x} P_{y} + 0.5 P_{x} Q_{y} + 1.0 P_{x} R_{y} + 0.5 P_{y} Q_{x} + 1.0 P_{y} R_{x} + 0.25 Q_{x} Q_{y} + 0.5 Q_{x} R_{y} + 0.5 Q_{y} R_{x} + 1.0 R_{x} R_{y}}\\\\\\frac{\\left(F_{0} F_{1} P_{vx} + F_{4} F_{5} P_{vy} + F_{8} F_{9} P_{\\omega}\\right) \\left(1.0 F_{10}^{2} P_{\\omega} + 1.0 F_{2}^{2} P_{vx} + 1.0 F_{6}^{2} P_{vy} + 1.0 P_{y} + 0.5 Q_{y} + 1.0 R_{y}\\right) - 1.0 \\left(F_{0} F_{2} P_{vx} + F_{10} F_{8} P_{\\omega} + F_{4} F_{6} P_{vy}\\right) \\left(F_{1} F_{2} P_{vx} + F_{10} F_{9} P_{\\omega} + F_{5} F_{6} P_{vy}\\right)}{1.0 F_{0}^{2} F_{10}^{2} P_{\\omega} P_{vx} + 1.0 F_{0}^{2} F_{6}^{2} P_{vx} P_{vy} + 1.0 F_{0}^{2} P_{vx} P_{y} + 0.5 F_{0}^{2} P_{vx} Q_{y} + 1.0 F_{0}^{2} P_{vx} R_{y} - 2.0 F_{0} F_{10} F_{2} F_{8} P_{\\omega} P_{vx} - 2.0 F_{0} F_{2} F_{4} F_{6} P_{vx} P_{vy} + 1.0 F_{10}^{2} F_{4}^{2} P_{\\omega} P_{vy} + 1.0 F_{10}^{2} P_{\\omega} P_{x} + 0.5 F_{10}^{2} P_{\\omega} Q_{x} + 1.0 F_{10}^{2} P_{\\omega} R_{x} - 2.0 F_{10} F_{4} F_{6} F_{8} P_{\\omega} P_{vy} + 1.0 F_{2}^{2} F_{4}^{2} P_{vx} P_{vy} + 1.0 F_{2}^{2} F_{8}^{2} P_{\\omega} P_{vx} + 1.0 F_{2}^{2} P_{vx} P_{x} + 0.5 F_{2}^{2} P_{vx} Q_{x} + 1.0 F_{2}^{2} P_{vx} R_{x} + 1.0 F_{4}^{2} P_{vy} P_{y} + 0.5 F_{4}^{2} P_{vy} Q_{y} + 1.0 F_{4}^{2} P_{vy} R_{y} + 1.0 F_{6}^{2} F_{8}^{2} P_{\\omega} P_{vy} + 1.0 F_{6}^{2} P_{vy} P_{x} + 0.5 F_{6}^{2} P_{vy} Q_{x} + 1.0 F_{6}^{2} P_{vy} R_{x} + 1.0 F_{8}^{2} P_{\\omega} P_{y} + 0.5 F_{8}^{2} P_{\\omega} Q_{y} + 1.0 F_{8}^{2} P_{\\omega} R_{y} + 1.0 P_{x} P_{y} + 0.5 P_{x} Q_{y} + 1.0 P_{x} R_{y} + 0.5 P_{y} Q_{x} + 1.0 P_{y} R_{x} + 0.25 Q_{x} Q_{y} + 0.5 Q_{x} R_{y} + 0.5 Q_{y} R_{x} + 1.0 R_{x} R_{y}} & \\frac{- 1.0 \\left(F_{0} F_{1} P_{vx} + F_{4} F_{5} P_{vy} + F_{8} F_{9} P_{\\omega}\\right) \\left(F_{0} F_{2} P_{vx} + F_{10} F_{8} P_{\\omega} + F_{4} F_{6} P_{vy}\\right) + \\left(F_{1} F_{2} P_{vx} + F_{10} F_{9} P_{\\omega} + F_{5} F_{6} P_{vy}\\right) \\left(1.0 F_{0}^{2} P_{vx} + 1.0 F_{4}^{2} P_{vy} + 1.0 F_{8}^{2} P_{\\omega} + 1.0 P_{x} + 0.5 Q_{x} + 1.0 R_{x}\\right)}{1.0 F_{0}^{2} F_{10}^{2} P_{\\omega} P_{vx} + 1.0 F_{0}^{2} F_{6}^{2} P_{vx} P_{vy} + 1.0 F_{0}^{2} P_{vx} P_{y} + 0.5 F_{0}^{2} P_{vx} Q_{y} + 1.0 F_{0}^{2} P_{vx} R_{y} - 2.0 F_{0} F_{10} F_{2} F_{8} P_{\\omega} P_{vx} - 2.0 F_{0} F_{2} F_{4} F_{6} P_{vx} P_{vy} + 1.0 F_{10}^{2} F_{4}^{2} P_{\\omega} P_{vy} + 1.0 F_{10}^{2} P_{\\omega} P_{x} + 0.5 F_{10}^{2} P_{\\omega} Q_{x} + 1.0 F_{10}^{2} P_{\\omega} R_{x} - 2.0 F_{10} F_{4} F_{6} F_{8} P_{\\omega} P_{vy} + 1.0 F_{2}^{2} F_{4}^{2} P_{vx} P_{vy} + 1.0 F_{2}^{2} F_{8}^{2} P_{\\omega} P_{vx} + 1.0 F_{2}^{2} P_{vx} P_{x} + 0.5 F_{2}^{2} P_{vx} Q_{x} + 1.0 F_{2}^{2} P_{vx} R_{x} + 1.0 F_{4}^{2} P_{vy} P_{y} + 0.5 F_{4}^{2} P_{vy} Q_{y} + 1.0 F_{4}^{2} P_{vy} R_{y} + 1.0 F_{6}^{2} F_{8}^{2} P_{\\omega} P_{vy} + 1.0 F_{6}^{2} P_{vy} P_{x} + 0.5 F_{6}^{2} P_{vy} Q_{x} + 1.0 F_{6}^{2} P_{vy} R_{x} + 1.0 F_{8}^{2} P_{\\omega} P_{y} + 0.5 F_{8}^{2} P_{\\omega} Q_{y} + 1.0 F_{8}^{2} P_{\\omega} R_{y} + 1.0 P_{x} P_{y} + 0.5 P_{x} Q_{y} + 1.0 P_{x} R_{y} + 0.5 P_{y} Q_{x} + 1.0 P_{y} R_{x} + 0.25 Q_{x} Q_{y} + 0.5 Q_{x} R_{y} + 0.5 Q_{y} R_{x} + 1.0 R_{x} R_{y}}\\\\\\frac{1.0 R_{y} \\left(F_{0} F_{2} P_{vx} + F_{10} F_{8} P_{\\omega} + F_{4} F_{6} P_{vy}\\right)}{1.0 F_{0}^{2} F_{10}^{2} P_{\\omega} P_{vx} + 1.0 F_{0}^{2} F_{6}^{2} P_{vx} P_{vy} + 1.0 F_{0}^{2} P_{vx} P_{y} + 0.5 F_{0}^{2} P_{vx} Q_{y} + 1.0 F_{0}^{2} P_{vx} R_{y} - 2.0 F_{0} F_{10} F_{2} F_{8} P_{\\omega} P_{vx} - 2.0 F_{0} F_{2} F_{4} F_{6} P_{vx} P_{vy} + 1.0 F_{10}^{2} F_{4}^{2} P_{\\omega} P_{vy} + 1.0 F_{10}^{2} P_{\\omega} P_{x} + 0.5 F_{10}^{2} P_{\\omega} Q_{x} + 1.0 F_{10}^{2} P_{\\omega} R_{x} - 2.0 F_{10} F_{4} F_{6} F_{8} P_{\\omega} P_{vy} + 1.0 F_{2}^{2} F_{4}^{2} P_{vx} P_{vy} + 1.0 F_{2}^{2} F_{8}^{2} P_{\\omega} P_{vx} + 1.0 F_{2}^{2} P_{vx} P_{x} + 0.5 F_{2}^{2} P_{vx} Q_{x} + 1.0 F_{2}^{2} P_{vx} R_{x} + 1.0 F_{4}^{2} P_{vy} P_{y} + 0.5 F_{4}^{2} P_{vy} Q_{y} + 1.0 F_{4}^{2} P_{vy} R_{y} + 1.0 F_{6}^{2} F_{8}^{2} P_{\\omega} P_{vy} + 1.0 F_{6}^{2} P_{vy} P_{x} + 0.5 F_{6}^{2} P_{vy} Q_{x} + 1.0 F_{6}^{2} P_{vy} R_{x} + 1.0 F_{8}^{2} P_{\\omega} P_{y} + 0.5 F_{8}^{2} P_{\\omega} Q_{y} + 1.0 F_{8}^{2} P_{\\omega} R_{y} + 1.0 P_{x} P_{y} + 0.5 P_{x} Q_{y} + 1.0 P_{x} R_{y} + 0.5 P_{y} Q_{x} + 1.0 P_{y} R_{x} + 0.25 Q_{x} Q_{y} + 0.5 Q_{x} R_{y} + 0.5 Q_{y} R_{x} + 1.0 R_{x} R_{y}} & \\frac{- 1.0 \\left(F_{0} F_{2} P_{vx} + F_{10} F_{8} P_{\\omega} + F_{4} F_{6} P_{vy}\\right)^{2} + \\left(F_{10}^{2} P_{\\omega} + F_{2}^{2} P_{vx} + F_{6}^{2} P_{vy} + P_{y} + 0.5 Q_{y}\\right) \\left(1.0 F_{0}^{2} P_{vx} + 1.0 F_{4}^{2} P_{vy} + 1.0 F_{8}^{2} P_{\\omega} + 1.0 P_{x} + 0.5 Q_{x} + 1.0 R_{x}\\right)}{1.0 F_{0}^{2} F_{10}^{2} P_{\\omega} P_{vx} + 1.0 F_{0}^{2} F_{6}^{2} P_{vx} P_{vy} + 1.0 F_{0}^{2} P_{vx} P_{y} + 0.5 F_{0}^{2} P_{vx} Q_{y} + 1.0 F_{0}^{2} P_{vx} R_{y} - 2.0 F_{0} F_{10} F_{2} F_{8} P_{\\omega} P_{vx} - 2.0 F_{0} F_{2} F_{4} F_{6} P_{vx} P_{vy} + 1.0 F_{10}^{2} F_{4}^{2} P_{\\omega} P_{vy} + 1.0 F_{10}^{2} P_{\\omega} P_{x} + 0.5 F_{10}^{2} P_{\\omega} Q_{x} + 1.0 F_{10}^{2} P_{\\omega} R_{x} - 2.0 F_{10} F_{4} F_{6} F_{8} P_{\\omega} P_{vy} + 1.0 F_{2}^{2} F_{4}^{2} P_{vx} P_{vy} + 1.0 F_{2}^{2} F_{8}^{2} P_{\\omega} P_{vx} + 1.0 F_{2}^{2} P_{vx} P_{x} + 0.5 F_{2}^{2} P_{vx} Q_{x} + 1.0 F_{2}^{2} P_{vx} R_{x} + 1.0 F_{4}^{2} P_{vy} P_{y} + 0.5 F_{4}^{2} P_{vy} Q_{y} + 1.0 F_{4}^{2} P_{vy} R_{y} + 1.0 F_{6}^{2} F_{8}^{2} P_{\\omega} P_{vy} + 1.0 F_{6}^{2} P_{vy} P_{x} + 0.5 F_{6}^{2} P_{vy} Q_{x} + 1.0 F_{6}^{2} P_{vy} R_{x} + 1.0 F_{8}^{2} P_{\\omega} P_{y} + 0.5 F_{8}^{2} P_{\\omega} Q_{y} + 1.0 F_{8}^{2} P_{\\omega} R_{y} + 1.0 P_{x} P_{y} + 0.5 P_{x} Q_{y} + 1.0 P_{x} R_{y} + 0.5 P_{y} Q_{x} + 1.0 P_{y} R_{x} + 0.25 Q_{x} Q_{y} + 0.5 Q_{x} R_{y} + 0.5 Q_{y} R_{x} + 1.0 R_{x} R_{y}}\\\\\\frac{- 1.0 \\left(F_{0} F_{2} P_{vx} + F_{10} F_{8} P_{\\omega} + F_{4} F_{6} P_{vy}\\right) \\left(F_{10} F_{11} P_{\\omega} + F_{2} F_{3} P_{vx} + F_{6} F_{7} P_{vy}\\right) + \\left(F_{0} F_{3} P_{vx} + F_{11} F_{8} P_{\\omega} + F_{4} F_{7} P_{vy}\\right) \\left(1.0 F_{10}^{2} P_{\\omega} + 1.0 F_{2}^{2} P_{vx} + 1.0 F_{6}^{2} P_{vy} + 1.0 P_{y} + 0.5 Q_{y} + 1.0 R_{y}\\right)}{1.0 F_{0}^{2} F_{10}^{2} P_{\\omega} P_{vx} + 1.0 F_{0}^{2} F_{6}^{2} P_{vx} P_{vy} + 1.0 F_{0}^{2} P_{vx} P_{y} + 0.5 F_{0}^{2} P_{vx} Q_{y} + 1.0 F_{0}^{2} P_{vx} R_{y} - 2.0 F_{0} F_{10} F_{2} F_{8} P_{\\omega} P_{vx} - 2.0 F_{0} F_{2} F_{4} F_{6} P_{vx} P_{vy} + 1.0 F_{10}^{2} F_{4}^{2} P_{\\omega} P_{vy} + 1.0 F_{10}^{2} P_{\\omega} P_{x} + 0.5 F_{10}^{2} P_{\\omega} Q_{x} + 1.0 F_{10}^{2} P_{\\omega} R_{x} - 2.0 F_{10} F_{4} F_{6} F_{8} P_{\\omega} P_{vy} + 1.0 F_{2}^{2} F_{4}^{2} P_{vx} P_{vy} + 1.0 F_{2}^{2} F_{8}^{2} P_{\\omega} P_{vx} + 1.0 F_{2}^{2} P_{vx} P_{x} + 0.5 F_{2}^{2} P_{vx} Q_{x} + 1.0 F_{2}^{2} P_{vx} R_{x} + 1.0 F_{4}^{2} P_{vy} P_{y} + 0.5 F_{4}^{2} P_{vy} Q_{y} + 1.0 F_{4}^{2} P_{vy} R_{y} + 1.0 F_{6}^{2} F_{8}^{2} P_{\\omega} P_{vy} + 1.0 F_{6}^{2} P_{vy} P_{x} + 0.5 F_{6}^{2} P_{vy} Q_{x} + 1.0 F_{6}^{2} P_{vy} R_{x} + 1.0 F_{8}^{2} P_{\\omega} P_{y} + 0.5 F_{8}^{2} P_{\\omega} Q_{y} + 1.0 F_{8}^{2} P_{\\omega} R_{y} + 1.0 P_{x} P_{y} + 0.5 P_{x} Q_{y} + 1.0 P_{x} R_{y} + 0.5 P_{y} Q_{x} + 1.0 P_{y} R_{x} + 0.25 Q_{x} Q_{y} + 0.5 Q_{x} R_{y} + 0.5 Q_{y} R_{x} + 1.0 R_{x} R_{y}} & \\frac{- 1.0 \\left(F_{0} F_{2} P_{vx} + F_{10} F_{8} P_{\\omega} + F_{4} F_{6} P_{vy}\\right) \\left(F_{0} F_{3} P_{vx} + F_{11} F_{8} P_{\\omega} + F_{4} F_{7} P_{vy}\\right) + \\left(F_{10} F_{11} P_{\\omega} + F_{2} F_{3} P_{vx} + F_{6} F_{7} P_{vy}\\right) \\left(1.0 F_{0}^{2} P_{vx} + 1.0 F_{4}^{2} P_{vy} + 1.0 F_{8}^{2} P_{\\omega} + 1.0 P_{x} + 0.5 Q_{x} + 1.0 R_{x}\\right)}{1.0 F_{0}^{2} F_{10}^{2} P_{\\omega} P_{vx} + 1.0 F_{0}^{2} F_{6}^{2} P_{vx} P_{vy} + 1.0 F_{0}^{2} P_{vx} P_{y} + 0.5 F_{0}^{2} P_{vx} Q_{y} + 1.0 F_{0}^{2} P_{vx} R_{y} - 2.0 F_{0} F_{10} F_{2} F_{8} P_{\\omega} P_{vx} - 2.0 F_{0} F_{2} F_{4} F_{6} P_{vx} P_{vy} + 1.0 F_{10}^{2} F_{4}^{2} P_{\\omega} P_{vy} + 1.0 F_{10}^{2} P_{\\omega} P_{x} + 0.5 F_{10}^{2} P_{\\omega} Q_{x} + 1.0 F_{10}^{2} P_{\\omega} R_{x} - 2.0 F_{10} F_{4} F_{6} F_{8} P_{\\omega} P_{vy} + 1.0 F_{2}^{2} F_{4}^{2} P_{vx} P_{vy} + 1.0 F_{2}^{2} F_{8}^{2} P_{\\omega} P_{vx} + 1.0 F_{2}^{2} P_{vx} P_{x} + 0.5 F_{2}^{2} P_{vx} Q_{x} + 1.0 F_{2}^{2} P_{vx} R_{x} + 1.0 F_{4}^{2} P_{vy} P_{y} + 0.5 F_{4}^{2} P_{vy} Q_{y} + 1.0 F_{4}^{2} P_{vy} R_{y} + 1.0 F_{6}^{2} F_{8}^{2} P_{\\omega} P_{vy} + 1.0 F_{6}^{2} P_{vy} P_{x} + 0.5 F_{6}^{2} P_{vy} Q_{x} + 1.0 F_{6}^{2} P_{vy} R_{x} + 1.0 F_{8}^{2} P_{\\omega} P_{y} + 0.5 F_{8}^{2} P_{\\omega} Q_{y} + 1.0 F_{8}^{2} P_{\\omega} R_{y} + 1.0 P_{x} P_{y} + 0.5 P_{x} Q_{y} + 1.0 P_{x} R_{y} + 0.5 P_{y} Q_{x} + 1.0 P_{y} R_{x} + 0.25 Q_{x} Q_{y} + 0.5 Q_{x} R_{y} + 0.5 Q_{y} R_{x} + 1.0 R_{x} R_{y}}\\\\\\frac{P_{\\omega} \\left(- 1.0 F_{0} F_{10} F_{2} P_{vx} - 1.0 F_{10} F_{4} F_{6} P_{vy} + 1.0 F_{2}^{2} F_{8} P_{vx} + 1.0 F_{6}^{2} F_{8} P_{vy} + 1.0 F_{8} P_{y} + 0.5 F_{8} Q_{y} + 1.0 F_{8} R_{y}\\right)}{1.0 F_{0}^{2} F_{10}^{2} P_{\\omega} P_{vx} + 1.0 F_{0}^{2} F_{6}^{2} P_{vx} P_{vy} + 1.0 F_{0}^{2} P_{vx} P_{y} + 0.5 F_{0}^{2} P_{vx} Q_{y} + 1.0 F_{0}^{2} P_{vx} R_{y} - 2.0 F_{0} F_{10} F_{2} F_{8} P_{\\omega} P_{vx} - 2.0 F_{0} F_{2} F_{4} F_{6} P_{vx} P_{vy} + 1.0 F_{10}^{2} F_{4}^{2} P_{\\omega} P_{vy} + 1.0 F_{10}^{2} P_{\\omega} P_{x} + 0.5 F_{10}^{2} P_{\\omega} Q_{x} + 1.0 F_{10}^{2} P_{\\omega} R_{x} - 2.0 F_{10} F_{4} F_{6} F_{8} P_{\\omega} P_{vy} + 1.0 F_{2}^{2} F_{4}^{2} P_{vx} P_{vy} + 1.0 F_{2}^{2} F_{8}^{2} P_{\\omega} P_{vx} + 1.0 F_{2}^{2} P_{vx} P_{x} + 0.5 F_{2}^{2} P_{vx} Q_{x} + 1.0 F_{2}^{2} P_{vx} R_{x} + 1.0 F_{4}^{2} P_{vy} P_{y} + 0.5 F_{4}^{2} P_{vy} Q_{y} + 1.0 F_{4}^{2} P_{vy} R_{y} + 1.0 F_{6}^{2} F_{8}^{2} P_{\\omega} P_{vy} + 1.0 F_{6}^{2} P_{vy} P_{x} + 0.5 F_{6}^{2} P_{vy} Q_{x} + 1.0 F_{6}^{2} P_{vy} R_{x} + 1.0 F_{8}^{2} P_{\\omega} P_{y} + 0.5 F_{8}^{2} P_{\\omega} Q_{y} + 1.0 F_{8}^{2} P_{\\omega} R_{y} + 1.0 P_{x} P_{y} + 0.5 P_{x} Q_{y} + 1.0 P_{x} R_{y} + 0.5 P_{y} Q_{x} + 1.0 P_{y} R_{x} + 0.25 Q_{x} Q_{y} + 0.5 Q_{x} R_{y} + 0.5 Q_{y} R_{x} + 1.0 R_{x} R_{y}} & \\frac{P_{\\omega} \\left(1.0 F_{0}^{2} F_{10} P_{vx} - 1.0 F_{0} F_{2} F_{8} P_{vx} + 1.0 F_{10} F_{4}^{2} P_{vy} + 1.0 F_{10} P_{x} + 0.5 F_{10} Q_{x} + 1.0 F_{10} R_{x} - 1.0 F_{4} F_{6} F_{8} P_{vy}\\right)}{1.0 F_{0}^{2} F_{10}^{2} P_{\\omega} P_{vx} + 1.0 F_{0}^{2} F_{6}^{2} P_{vx} P_{vy} + 1.0 F_{0}^{2} P_{vx} P_{y} + 0.5 F_{0}^{2} P_{vx} Q_{y} + 1.0 F_{0}^{2} P_{vx} R_{y} - 2.0 F_{0} F_{10} F_{2} F_{8} P_{\\omega} P_{vx} - 2.0 F_{0} F_{2} F_{4} F_{6} P_{vx} P_{vy} + 1.0 F_{10}^{2} F_{4}^{2} P_{\\omega} P_{vy} + 1.0 F_{10}^{2} P_{\\omega} P_{x} + 0.5 F_{10}^{2} P_{\\omega} Q_{x} + 1.0 F_{10}^{2} P_{\\omega} R_{x} - 2.0 F_{10} F_{4} F_{6} F_{8} P_{\\omega} P_{vy} + 1.0 F_{2}^{2} F_{4}^{2} P_{vx} P_{vy} + 1.0 F_{2}^{2} F_{8}^{2} P_{\\omega} P_{vx} + 1.0 F_{2}^{2} P_{vx} P_{x} + 0.5 F_{2}^{2} P_{vx} Q_{x} + 1.0 F_{2}^{2} P_{vx} R_{x} + 1.0 F_{4}^{2} P_{vy} P_{y} + 0.5 F_{4}^{2} P_{vy} Q_{y} + 1.0 F_{4}^{2} P_{vy} R_{y} + 1.0 F_{6}^{2} F_{8}^{2} P_{\\omega} P_{vy} + 1.0 F_{6}^{2} P_{vy} P_{x} + 0.5 F_{6}^{2} P_{vy} Q_{x} + 1.0 F_{6}^{2} P_{vy} R_{x} + 1.0 F_{8}^{2} P_{\\omega} P_{y} + 0.5 F_{8}^{2} P_{\\omega} Q_{y} + 1.0 F_{8}^{2} P_{\\omega} R_{y} + 1.0 P_{x} P_{y} + 0.5 P_{x} Q_{y} + 1.0 P_{x} R_{y} + 0.5 P_{y} Q_{x} + 1.0 P_{y} R_{x} + 0.25 Q_{x} Q_{y} + 0.5 Q_{x} R_{y} + 0.5 Q_{y} R_{x} + 1.0 R_{x} R_{y}}\\end{matrix}\\right]$"
      ],
      "text/plain": [
       "Matrix([\n",
       "[                           (-1.0*(F0*F2*P_vx + F10*F8*P_\\omega + F4*F6*P_vy)**2 + (F0**2*P_vx + F4**2*P_vy + F8**2*P_\\omega + P_x + 0.5*Q_x)*(1.0*F10**2*P_\\omega + 1.0*F2**2*P_vx + 1.0*F6**2*P_vy + 1.0*P_y + 0.5*Q_y + 1.0*R_y))/(1.0*F0**2*F10**2*P_\\omega*P_vx + 1.0*F0**2*F6**2*P_vx*P_vy + 1.0*F0**2*P_vx*P_y + 0.5*F0**2*P_vx*Q_y + 1.0*F0**2*P_vx*R_y - 2.0*F0*F10*F2*F8*P_\\omega*P_vx - 2.0*F0*F2*F4*F6*P_vx*P_vy + 1.0*F10**2*F4**2*P_\\omega*P_vy + 1.0*F10**2*P_\\omega*P_x + 0.5*F10**2*P_\\omega*Q_x + 1.0*F10**2*P_\\omega*R_x - 2.0*F10*F4*F6*F8*P_\\omega*P_vy + 1.0*F2**2*F4**2*P_vx*P_vy + 1.0*F2**2*F8**2*P_\\omega*P_vx + 1.0*F2**2*P_vx*P_x + 0.5*F2**2*P_vx*Q_x + 1.0*F2**2*P_vx*R_x + 1.0*F4**2*P_vy*P_y + 0.5*F4**2*P_vy*Q_y + 1.0*F4**2*P_vy*R_y + 1.0*F6**2*F8**2*P_\\omega*P_vy + 1.0*F6**2*P_vy*P_x + 0.5*F6**2*P_vy*Q_x + 1.0*F6**2*P_vy*R_x + 1.0*F8**2*P_\\omega*P_y + 0.5*F8**2*P_\\omega*Q_y + 1.0*F8**2*P_\\omega*R_y + 1.0*P_x*P_y + 0.5*P_x*Q_y + 1.0*P_x*R_y + 0.5*P_y*Q_x + 1.0*P_y*R_x + 0.25*Q_x*Q_y + 0.5*Q_x*R_y + 0.5*Q_y*R_x + 1.0*R_x*R_y),                                                                                                                                                                                1.0*R_x*(F0*F2*P_vx + F10*F8*P_\\omega + F4*F6*P_vy)/(1.0*F0**2*F10**2*P_\\omega*P_vx + 1.0*F0**2*F6**2*P_vx*P_vy + 1.0*F0**2*P_vx*P_y + 0.5*F0**2*P_vx*Q_y + 1.0*F0**2*P_vx*R_y - 2.0*F0*F10*F2*F8*P_\\omega*P_vx - 2.0*F0*F2*F4*F6*P_vx*P_vy + 1.0*F10**2*F4**2*P_\\omega*P_vy + 1.0*F10**2*P_\\omega*P_x + 0.5*F10**2*P_\\omega*Q_x + 1.0*F10**2*P_\\omega*R_x - 2.0*F10*F4*F6*F8*P_\\omega*P_vy + 1.0*F2**2*F4**2*P_vx*P_vy + 1.0*F2**2*F8**2*P_\\omega*P_vx + 1.0*F2**2*P_vx*P_x + 0.5*F2**2*P_vx*Q_x + 1.0*F2**2*P_vx*R_x + 1.0*F4**2*P_vy*P_y + 0.5*F4**2*P_vy*Q_y + 1.0*F4**2*P_vy*R_y + 1.0*F6**2*F8**2*P_\\omega*P_vy + 1.0*F6**2*P_vy*P_x + 0.5*F6**2*P_vy*Q_x + 1.0*F6**2*P_vy*R_x + 1.0*F8**2*P_\\omega*P_y + 0.5*F8**2*P_\\omega*Q_y + 1.0*F8**2*P_\\omega*R_y + 1.0*P_x*P_y + 0.5*P_x*Q_y + 1.0*P_x*R_y + 0.5*P_y*Q_x + 1.0*P_y*R_x + 0.25*Q_x*Q_y + 0.5*Q_x*R_y + 0.5*Q_y*R_x + 1.0*R_x*R_y)],\n",
       "[   ((F0*F1*P_vx + F4*F5*P_vy + F8*F9*P_\\omega)*(1.0*F10**2*P_\\omega + 1.0*F2**2*P_vx + 1.0*F6**2*P_vy + 1.0*P_y + 0.5*Q_y + 1.0*R_y) - 1.0*(F0*F2*P_vx + F10*F8*P_\\omega + F4*F6*P_vy)*(F1*F2*P_vx + F10*F9*P_\\omega + F5*F6*P_vy))/(1.0*F0**2*F10**2*P_\\omega*P_vx + 1.0*F0**2*F6**2*P_vx*P_vy + 1.0*F0**2*P_vx*P_y + 0.5*F0**2*P_vx*Q_y + 1.0*F0**2*P_vx*R_y - 2.0*F0*F10*F2*F8*P_\\omega*P_vx - 2.0*F0*F2*F4*F6*P_vx*P_vy + 1.0*F10**2*F4**2*P_\\omega*P_vy + 1.0*F10**2*P_\\omega*P_x + 0.5*F10**2*P_\\omega*Q_x + 1.0*F10**2*P_\\omega*R_x - 2.0*F10*F4*F6*F8*P_\\omega*P_vy + 1.0*F2**2*F4**2*P_vx*P_vy + 1.0*F2**2*F8**2*P_\\omega*P_vx + 1.0*F2**2*P_vx*P_x + 0.5*F2**2*P_vx*Q_x + 1.0*F2**2*P_vx*R_x + 1.0*F4**2*P_vy*P_y + 0.5*F4**2*P_vy*Q_y + 1.0*F4**2*P_vy*R_y + 1.0*F6**2*F8**2*P_\\omega*P_vy + 1.0*F6**2*P_vy*P_x + 0.5*F6**2*P_vy*Q_x + 1.0*F6**2*P_vy*R_x + 1.0*F8**2*P_\\omega*P_y + 0.5*F8**2*P_\\omega*Q_y + 1.0*F8**2*P_\\omega*R_y + 1.0*P_x*P_y + 0.5*P_x*Q_y + 1.0*P_x*R_y + 0.5*P_y*Q_x + 1.0*P_y*R_x + 0.25*Q_x*Q_y + 0.5*Q_x*R_y + 0.5*Q_y*R_x + 1.0*R_x*R_y),   (-1.0*(F0*F1*P_vx + F4*F5*P_vy + F8*F9*P_\\omega)*(F0*F2*P_vx + F10*F8*P_\\omega + F4*F6*P_vy) + (F1*F2*P_vx + F10*F9*P_\\omega + F5*F6*P_vy)*(1.0*F0**2*P_vx + 1.0*F4**2*P_vy + 1.0*F8**2*P_\\omega + 1.0*P_x + 0.5*Q_x + 1.0*R_x))/(1.0*F0**2*F10**2*P_\\omega*P_vx + 1.0*F0**2*F6**2*P_vx*P_vy + 1.0*F0**2*P_vx*P_y + 0.5*F0**2*P_vx*Q_y + 1.0*F0**2*P_vx*R_y - 2.0*F0*F10*F2*F8*P_\\omega*P_vx - 2.0*F0*F2*F4*F6*P_vx*P_vy + 1.0*F10**2*F4**2*P_\\omega*P_vy + 1.0*F10**2*P_\\omega*P_x + 0.5*F10**2*P_\\omega*Q_x + 1.0*F10**2*P_\\omega*R_x - 2.0*F10*F4*F6*F8*P_\\omega*P_vy + 1.0*F2**2*F4**2*P_vx*P_vy + 1.0*F2**2*F8**2*P_\\omega*P_vx + 1.0*F2**2*P_vx*P_x + 0.5*F2**2*P_vx*Q_x + 1.0*F2**2*P_vx*R_x + 1.0*F4**2*P_vy*P_y + 0.5*F4**2*P_vy*Q_y + 1.0*F4**2*P_vy*R_y + 1.0*F6**2*F8**2*P_\\omega*P_vy + 1.0*F6**2*P_vy*P_x + 0.5*F6**2*P_vy*Q_x + 1.0*F6**2*P_vy*R_x + 1.0*F8**2*P_\\omega*P_y + 0.5*F8**2*P_\\omega*Q_y + 1.0*F8**2*P_\\omega*R_y + 1.0*P_x*P_y + 0.5*P_x*Q_y + 1.0*P_x*R_y + 0.5*P_y*Q_x + 1.0*P_y*R_x + 0.25*Q_x*Q_y + 0.5*Q_x*R_y + 0.5*Q_y*R_x + 1.0*R_x*R_y)],\n",
       "[                                                                                                                                                                                1.0*R_y*(F0*F2*P_vx + F10*F8*P_\\omega + F4*F6*P_vy)/(1.0*F0**2*F10**2*P_\\omega*P_vx + 1.0*F0**2*F6**2*P_vx*P_vy + 1.0*F0**2*P_vx*P_y + 0.5*F0**2*P_vx*Q_y + 1.0*F0**2*P_vx*R_y - 2.0*F0*F10*F2*F8*P_\\omega*P_vx - 2.0*F0*F2*F4*F6*P_vx*P_vy + 1.0*F10**2*F4**2*P_\\omega*P_vy + 1.0*F10**2*P_\\omega*P_x + 0.5*F10**2*P_\\omega*Q_x + 1.0*F10**2*P_\\omega*R_x - 2.0*F10*F4*F6*F8*P_\\omega*P_vy + 1.0*F2**2*F4**2*P_vx*P_vy + 1.0*F2**2*F8**2*P_\\omega*P_vx + 1.0*F2**2*P_vx*P_x + 0.5*F2**2*P_vx*Q_x + 1.0*F2**2*P_vx*R_x + 1.0*F4**2*P_vy*P_y + 0.5*F4**2*P_vy*Q_y + 1.0*F4**2*P_vy*R_y + 1.0*F6**2*F8**2*P_\\omega*P_vy + 1.0*F6**2*P_vy*P_x + 0.5*F6**2*P_vy*Q_x + 1.0*F6**2*P_vy*R_x + 1.0*F8**2*P_\\omega*P_y + 0.5*F8**2*P_\\omega*Q_y + 1.0*F8**2*P_\\omega*R_y + 1.0*P_x*P_y + 0.5*P_x*Q_y + 1.0*P_x*R_y + 0.5*P_y*Q_x + 1.0*P_y*R_x + 0.25*Q_x*Q_y + 0.5*Q_x*R_y + 0.5*Q_y*R_x + 1.0*R_x*R_y),                           (-1.0*(F0*F2*P_vx + F10*F8*P_\\omega + F4*F6*P_vy)**2 + (F10**2*P_\\omega + F2**2*P_vx + F6**2*P_vy + P_y + 0.5*Q_y)*(1.0*F0**2*P_vx + 1.0*F4**2*P_vy + 1.0*F8**2*P_\\omega + 1.0*P_x + 0.5*Q_x + 1.0*R_x))/(1.0*F0**2*F10**2*P_\\omega*P_vx + 1.0*F0**2*F6**2*P_vx*P_vy + 1.0*F0**2*P_vx*P_y + 0.5*F0**2*P_vx*Q_y + 1.0*F0**2*P_vx*R_y - 2.0*F0*F10*F2*F8*P_\\omega*P_vx - 2.0*F0*F2*F4*F6*P_vx*P_vy + 1.0*F10**2*F4**2*P_\\omega*P_vy + 1.0*F10**2*P_\\omega*P_x + 0.5*F10**2*P_\\omega*Q_x + 1.0*F10**2*P_\\omega*R_x - 2.0*F10*F4*F6*F8*P_\\omega*P_vy + 1.0*F2**2*F4**2*P_vx*P_vy + 1.0*F2**2*F8**2*P_\\omega*P_vx + 1.0*F2**2*P_vx*P_x + 0.5*F2**2*P_vx*Q_x + 1.0*F2**2*P_vx*R_x + 1.0*F4**2*P_vy*P_y + 0.5*F4**2*P_vy*Q_y + 1.0*F4**2*P_vy*R_y + 1.0*F6**2*F8**2*P_\\omega*P_vy + 1.0*F6**2*P_vy*P_x + 0.5*F6**2*P_vy*Q_x + 1.0*F6**2*P_vy*R_x + 1.0*F8**2*P_\\omega*P_y + 0.5*F8**2*P_\\omega*Q_y + 1.0*F8**2*P_\\omega*R_y + 1.0*P_x*P_y + 0.5*P_x*Q_y + 1.0*P_x*R_y + 0.5*P_y*Q_x + 1.0*P_y*R_x + 0.25*Q_x*Q_y + 0.5*Q_x*R_y + 0.5*Q_y*R_x + 1.0*R_x*R_y)],\n",
       "[(-1.0*(F0*F2*P_vx + F10*F8*P_\\omega + F4*F6*P_vy)*(F10*F11*P_\\omega + F2*F3*P_vx + F6*F7*P_vy) + (F0*F3*P_vx + F11*F8*P_\\omega + F4*F7*P_vy)*(1.0*F10**2*P_\\omega + 1.0*F2**2*P_vx + 1.0*F6**2*P_vy + 1.0*P_y + 0.5*Q_y + 1.0*R_y))/(1.0*F0**2*F10**2*P_\\omega*P_vx + 1.0*F0**2*F6**2*P_vx*P_vy + 1.0*F0**2*P_vx*P_y + 0.5*F0**2*P_vx*Q_y + 1.0*F0**2*P_vx*R_y - 2.0*F0*F10*F2*F8*P_\\omega*P_vx - 2.0*F0*F2*F4*F6*P_vx*P_vy + 1.0*F10**2*F4**2*P_\\omega*P_vy + 1.0*F10**2*P_\\omega*P_x + 0.5*F10**2*P_\\omega*Q_x + 1.0*F10**2*P_\\omega*R_x - 2.0*F10*F4*F6*F8*P_\\omega*P_vy + 1.0*F2**2*F4**2*P_vx*P_vy + 1.0*F2**2*F8**2*P_\\omega*P_vx + 1.0*F2**2*P_vx*P_x + 0.5*F2**2*P_vx*Q_x + 1.0*F2**2*P_vx*R_x + 1.0*F4**2*P_vy*P_y + 0.5*F4**2*P_vy*Q_y + 1.0*F4**2*P_vy*R_y + 1.0*F6**2*F8**2*P_\\omega*P_vy + 1.0*F6**2*P_vy*P_x + 0.5*F6**2*P_vy*Q_x + 1.0*F6**2*P_vy*R_x + 1.0*F8**2*P_\\omega*P_y + 0.5*F8**2*P_\\omega*Q_y + 1.0*F8**2*P_\\omega*R_y + 1.0*P_x*P_y + 0.5*P_x*Q_y + 1.0*P_x*R_y + 0.5*P_y*Q_x + 1.0*P_y*R_x + 0.25*Q_x*Q_y + 0.5*Q_x*R_y + 0.5*Q_y*R_x + 1.0*R_x*R_y), (-1.0*(F0*F2*P_vx + F10*F8*P_\\omega + F4*F6*P_vy)*(F0*F3*P_vx + F11*F8*P_\\omega + F4*F7*P_vy) + (F10*F11*P_\\omega + F2*F3*P_vx + F6*F7*P_vy)*(1.0*F0**2*P_vx + 1.0*F4**2*P_vy + 1.0*F8**2*P_\\omega + 1.0*P_x + 0.5*Q_x + 1.0*R_x))/(1.0*F0**2*F10**2*P_\\omega*P_vx + 1.0*F0**2*F6**2*P_vx*P_vy + 1.0*F0**2*P_vx*P_y + 0.5*F0**2*P_vx*Q_y + 1.0*F0**2*P_vx*R_y - 2.0*F0*F10*F2*F8*P_\\omega*P_vx - 2.0*F0*F2*F4*F6*P_vx*P_vy + 1.0*F10**2*F4**2*P_\\omega*P_vy + 1.0*F10**2*P_\\omega*P_x + 0.5*F10**2*P_\\omega*Q_x + 1.0*F10**2*P_\\omega*R_x - 2.0*F10*F4*F6*F8*P_\\omega*P_vy + 1.0*F2**2*F4**2*P_vx*P_vy + 1.0*F2**2*F8**2*P_\\omega*P_vx + 1.0*F2**2*P_vx*P_x + 0.5*F2**2*P_vx*Q_x + 1.0*F2**2*P_vx*R_x + 1.0*F4**2*P_vy*P_y + 0.5*F4**2*P_vy*Q_y + 1.0*F4**2*P_vy*R_y + 1.0*F6**2*F8**2*P_\\omega*P_vy + 1.0*F6**2*P_vy*P_x + 0.5*F6**2*P_vy*Q_x + 1.0*F6**2*P_vy*R_x + 1.0*F8**2*P_\\omega*P_y + 0.5*F8**2*P_\\omega*Q_y + 1.0*F8**2*P_\\omega*R_y + 1.0*P_x*P_y + 0.5*P_x*Q_y + 1.0*P_x*R_y + 0.5*P_y*Q_x + 1.0*P_y*R_x + 0.25*Q_x*Q_y + 0.5*Q_x*R_y + 0.5*Q_y*R_x + 1.0*R_x*R_y)],\n",
       "[                                                                                                 P_\\omega*(-1.0*F0*F10*F2*P_vx - 1.0*F10*F4*F6*P_vy + 1.0*F2**2*F8*P_vx + 1.0*F6**2*F8*P_vy + 1.0*F8*P_y + 0.5*F8*Q_y + 1.0*F8*R_y)/(1.0*F0**2*F10**2*P_\\omega*P_vx + 1.0*F0**2*F6**2*P_vx*P_vy + 1.0*F0**2*P_vx*P_y + 0.5*F0**2*P_vx*Q_y + 1.0*F0**2*P_vx*R_y - 2.0*F0*F10*F2*F8*P_\\omega*P_vx - 2.0*F0*F2*F4*F6*P_vx*P_vy + 1.0*F10**2*F4**2*P_\\omega*P_vy + 1.0*F10**2*P_\\omega*P_x + 0.5*F10**2*P_\\omega*Q_x + 1.0*F10**2*P_\\omega*R_x - 2.0*F10*F4*F6*F8*P_\\omega*P_vy + 1.0*F2**2*F4**2*P_vx*P_vy + 1.0*F2**2*F8**2*P_\\omega*P_vx + 1.0*F2**2*P_vx*P_x + 0.5*F2**2*P_vx*Q_x + 1.0*F2**2*P_vx*R_x + 1.0*F4**2*P_vy*P_y + 0.5*F4**2*P_vy*Q_y + 1.0*F4**2*P_vy*R_y + 1.0*F6**2*F8**2*P_\\omega*P_vy + 1.0*F6**2*P_vy*P_x + 0.5*F6**2*P_vy*Q_x + 1.0*F6**2*P_vy*R_x + 1.0*F8**2*P_\\omega*P_y + 0.5*F8**2*P_\\omega*Q_y + 1.0*F8**2*P_\\omega*R_y + 1.0*P_x*P_y + 0.5*P_x*Q_y + 1.0*P_x*R_y + 0.5*P_y*Q_x + 1.0*P_y*R_x + 0.25*Q_x*Q_y + 0.5*Q_x*R_y + 0.5*Q_y*R_x + 1.0*R_x*R_y),                                                                                               P_\\omega*(1.0*F0**2*F10*P_vx - 1.0*F0*F2*F8*P_vx + 1.0*F10*F4**2*P_vy + 1.0*F10*P_x + 0.5*F10*Q_x + 1.0*F10*R_x - 1.0*F4*F6*F8*P_vy)/(1.0*F0**2*F10**2*P_\\omega*P_vx + 1.0*F0**2*F6**2*P_vx*P_vy + 1.0*F0**2*P_vx*P_y + 0.5*F0**2*P_vx*Q_y + 1.0*F0**2*P_vx*R_y - 2.0*F0*F10*F2*F8*P_\\omega*P_vx - 2.0*F0*F2*F4*F6*P_vx*P_vy + 1.0*F10**2*F4**2*P_\\omega*P_vy + 1.0*F10**2*P_\\omega*P_x + 0.5*F10**2*P_\\omega*Q_x + 1.0*F10**2*P_\\omega*R_x - 2.0*F10*F4*F6*F8*P_\\omega*P_vy + 1.0*F2**2*F4**2*P_vx*P_vy + 1.0*F2**2*F8**2*P_\\omega*P_vx + 1.0*F2**2*P_vx*P_x + 0.5*F2**2*P_vx*Q_x + 1.0*F2**2*P_vx*R_x + 1.0*F4**2*P_vy*P_y + 0.5*F4**2*P_vy*Q_y + 1.0*F4**2*P_vy*R_y + 1.0*F6**2*F8**2*P_\\omega*P_vy + 1.0*F6**2*P_vy*P_x + 0.5*F6**2*P_vy*Q_x + 1.0*F6**2*P_vy*R_x + 1.0*F8**2*P_\\omega*P_y + 0.5*F8**2*P_\\omega*Q_y + 1.0*F8**2*P_\\omega*R_y + 1.0*P_x*P_y + 0.5*P_x*Q_y + 1.0*P_x*R_y + 0.5*P_y*Q_x + 1.0*P_y*R_x + 0.25*Q_x*Q_y + 0.5*Q_x*R_y + 0.5*Q_y*R_x + 1.0*R_x*R_y)]])"
      ]
     },
     "execution_count": 13,
     "metadata": {},
     "output_type": "execute_result"
    }
   ],
   "source": [
    "K"
   ]
  },
  {
   "cell_type": "code",
   "execution_count": 15,
   "id": "28d7c1da-d4e8-419b-9c03-9acb6794392e",
   "metadata": {},
   "outputs": [
    {
     "data": {
      "text/latex": [
       "$\\displaystyle \\left[\\begin{matrix}P_{x} & F_{0} P_{vx} & 0 & F_{4} P_{vy} & F_{8} P_{\\omega}\\\\0 & F_{1} P_{vx} & 0 & F_{5} P_{vy} & F_{9} P_{\\omega}\\\\0 & F_{2} P_{vx} & P_{y} & F_{6} P_{vy} & F_{10} P_{\\omega}\\\\0 & F_{3} P_{vx} & 0 & F_{7} P_{vy} & F_{11} P_{\\omega}\\\\0 & 0 & 0 & 0 & P_{\\omega}\\end{matrix}\\right]$"
      ],
      "text/plain": [
       "Matrix([\n",
       "[P_x, F0*P_vx,   0, F4*P_vy,  F8*P_\\omega],\n",
       "[  0, F1*P_vx,   0, F5*P_vy,  F9*P_\\omega],\n",
       "[  0, F2*P_vx, P_y, F6*P_vy, F10*P_\\omega],\n",
       "[  0, F3*P_vx,   0, F7*P_vy, F11*P_\\omega],\n",
       "[  0,       0,   0,       0,     P_\\omega]])"
      ]
     },
     "execution_count": 15,
     "metadata": {},
     "output_type": "execute_result"
    }
   ],
   "source": [
    "f_x @ P"
   ]
  },
  {
   "cell_type": "code",
   "execution_count": 16,
   "id": "e95a183a-ada1-4bcd-ab90-25bda697ba46",
   "metadata": {},
   "outputs": [
    {
     "data": {
      "text/latex": [
       "$\\displaystyle \\left[\\begin{matrix}P_{x} & 0 & 0 & 0 & 0\\\\F_{0} P_{vx} & F_{1} P_{vx} & F_{2} P_{vx} & F_{3} P_{vx} & 0\\\\0 & 0 & P_{y} & 0 & 0\\\\F_{4} P_{vy} & F_{5} P_{vy} & F_{6} P_{vy} & F_{7} P_{vy} & 0\\\\F_{8} P_{\\omega} & F_{9} P_{\\omega} & F_{10} P_{\\omega} & F_{11} P_{\\omega} & P_{\\omega}\\end{matrix}\\right]$"
      ],
      "text/plain": [
       "Matrix([\n",
       "[        P_x,           0,            0,            0,        0],\n",
       "[    F0*P_vx,     F1*P_vx,      F2*P_vx,      F3*P_vx,        0],\n",
       "[          0,           0,          P_y,            0,        0],\n",
       "[    F4*P_vy,     F5*P_vy,      F6*P_vy,      F7*P_vy,        0],\n",
       "[F8*P_\\omega, F9*P_\\omega, F10*P_\\omega, F11*P_\\omega, P_\\omega]])"
      ]
     },
     "execution_count": 16,
     "metadata": {},
     "output_type": "execute_result"
    }
   ],
   "source": [
    "P @ f_x.T"
   ]
  },
  {
   "cell_type": "code",
   "execution_count": 18,
   "id": "5048a626-7de5-4ae9-baae-966cbf3f8637",
   "metadata": {},
   "outputs": [
    {
     "data": {
      "text/latex": [
       "$\\displaystyle \\left[\\begin{matrix}F_{0}^{2} P_{vx} + F_{4}^{2} P_{vy} + F_{8}^{2} P_{\\omega} + P_{x} + 0.5 Q_{x} & F_{0} F_{1} P_{vx} + F_{4} F_{5} P_{vy} + F_{8} F_{9} P_{\\omega} & F_{0} F_{2} P_{vx} + F_{10} F_{8} P_{\\omega} + F_{4} F_{6} P_{vy} & F_{0} F_{3} P_{vx} + F_{11} F_{8} P_{\\omega} + F_{4} F_{7} P_{vy} & F_{8} P_{\\omega}\\\\F_{0} F_{1} P_{vx} + F_{4} F_{5} P_{vy} + F_{8} F_{9} P_{\\omega} & F_{1}^{2} P_{vx} + F_{5}^{2} P_{vy} + F_{9}^{2} P_{\\omega} + Q_{x} & F_{1} F_{2} P_{vx} + F_{10} F_{9} P_{\\omega} + F_{5} F_{6} P_{vy} & F_{1} F_{3} P_{vx} + F_{11} F_{9} P_{\\omega} + F_{5} F_{7} P_{vy} & F_{9} P_{\\omega}\\\\F_{0} F_{2} P_{vx} + F_{10} F_{8} P_{\\omega} + F_{4} F_{6} P_{vy} & F_{1} F_{2} P_{vx} + F_{10} F_{9} P_{\\omega} + F_{5} F_{6} P_{vy} & F_{10}^{2} P_{\\omega} + F_{2}^{2} P_{vx} + F_{6}^{2} P_{vy} + P_{y} + 0.5 Q_{y} & F_{10} F_{11} P_{\\omega} + F_{2} F_{3} P_{vx} + F_{6} F_{7} P_{vy} & F_{10} P_{\\omega}\\\\F_{0} F_{3} P_{vx} + F_{11} F_{8} P_{\\omega} + F_{4} F_{7} P_{vy} & F_{1} F_{3} P_{vx} + F_{11} F_{9} P_{\\omega} + F_{5} F_{7} P_{vy} & F_{10} F_{11} P_{\\omega} + F_{2} F_{3} P_{vx} + F_{6} F_{7} P_{vy} & F_{11}^{2} P_{\\omega} + F_{3}^{2} P_{vx} + F_{7}^{2} P_{vy} + Q_{y} & F_{11} P_{\\omega}\\\\F_{8} P_{\\omega} & F_{9} P_{\\omega} & F_{10} P_{\\omega} & F_{11} P_{\\omega} & P_{\\omega} + Q_{\\Omega}\\end{matrix}\\right]$"
      ],
      "text/plain": [
       "Matrix([\n",
       "[F0**2*P_vx + F4**2*P_vy + F8**2*P_\\omega + P_x + 0.5*Q_x,       F0*F1*P_vx + F4*F5*P_vy + F8*F9*P_\\omega,                 F0*F2*P_vx + F10*F8*P_\\omega + F4*F6*P_vy,       F0*F3*P_vx + F11*F8*P_\\omega + F4*F7*P_vy,         F8*P_\\omega],\n",
       "[                F0*F1*P_vx + F4*F5*P_vy + F8*F9*P_\\omega, F1**2*P_vx + F5**2*P_vy + F9**2*P_\\omega + Q_x,                 F1*F2*P_vx + F10*F9*P_\\omega + F5*F6*P_vy,       F1*F3*P_vx + F11*F9*P_\\omega + F5*F7*P_vy,         F9*P_\\omega],\n",
       "[               F0*F2*P_vx + F10*F8*P_\\omega + F4*F6*P_vy,      F1*F2*P_vx + F10*F9*P_\\omega + F5*F6*P_vy, F10**2*P_\\omega + F2**2*P_vx + F6**2*P_vy + P_y + 0.5*Q_y,      F10*F11*P_\\omega + F2*F3*P_vx + F6*F7*P_vy,        F10*P_\\omega],\n",
       "[               F0*F3*P_vx + F11*F8*P_\\omega + F4*F7*P_vy,      F1*F3*P_vx + F11*F9*P_\\omega + F5*F7*P_vy,                F10*F11*P_\\omega + F2*F3*P_vx + F6*F7*P_vy, F11**2*P_\\omega + F3**2*P_vx + F7**2*P_vy + Q_y,        F11*P_\\omega],\n",
       "[                                             F8*P_\\omega,                                    F9*P_\\omega,                                              F10*P_\\omega,                                    F11*P_\\omega, P_\\omega + Q_\\Omega]])"
      ]
     },
     "execution_count": 18,
     "metadata": {},
     "output_type": "execute_result"
    }
   ],
   "source": [
    "P_1.simplify()\n",
    "P_1"
   ]
  },
  {
   "cell_type": "code",
   "execution_count": 19,
   "id": "0c139b2d-3f34-44b9-b8e7-6207bdc31c73",
   "metadata": {},
   "outputs": [
    {
     "data": {
      "text/latex": [
       "$\\displaystyle \\left[\\begin{matrix}F_{0}^{2} P_{vx} + F_{4}^{2} P_{vy} + F_{8}^{2} P_{\\omega} + P_{x} + 0.5 Q_{x} & F_{0} F_{2} P_{vx} + F_{10} F_{8} P_{\\omega} + F_{4} F_{6} P_{vy}\\\\F_{0} F_{2} P_{vx} + F_{10} F_{8} P_{\\omega} + F_{4} F_{6} P_{vy} & F_{10}^{2} P_{\\omega} + F_{2}^{2} P_{vx} + F_{6}^{2} P_{vy} + P_{y} + 0.5 Q_{y}\\end{matrix}\\right]$"
      ],
      "text/plain": [
       "Matrix([\n",
       "[F0**2*P_vx + F4**2*P_vy + F8**2*P_\\omega + P_x + 0.5*Q_x,                 F0*F2*P_vx + F10*F8*P_\\omega + F4*F6*P_vy],\n",
       "[               F0*F2*P_vx + F10*F8*P_\\omega + F4*F6*P_vy, F10**2*P_\\omega + F2**2*P_vx + F6**2*P_vy + P_y + 0.5*Q_y]])"
      ]
     },
     "execution_count": 19,
     "metadata": {},
     "output_type": "execute_result"
    }
   ],
   "source": [
    "H @ P_1 @ H.T"
   ]
  },
  {
   "cell_type": "code",
   "execution_count": 21,
   "id": "397c0553-ecda-4f06-80dc-5d237d4c9cd2",
   "metadata": {},
   "outputs": [
    {
     "data": {
      "text/latex": [
       "$\\displaystyle \\left[\\begin{matrix}\\frac{1.0 F_{10}^{2} P_{\\omega} + 1.0 F_{2}^{2} P_{vx} + 1.0 F_{6}^{2} P_{vy} + 1.0 P_{y} + 0.5 Q_{y}}{1.0 F_{0}^{2} F_{10}^{2} P_{\\omega} P_{vx} + 1.0 F_{0}^{2} F_{6}^{2} P_{vx} P_{vy} + 1.0 F_{0}^{2} P_{vx} P_{y} + 0.5 F_{0}^{2} P_{vx} Q_{y} - 2.0 F_{0} F_{10} F_{2} F_{8} P_{\\omega} P_{vx} - 2.0 F_{0} F_{2} F_{4} F_{6} P_{vx} P_{vy} + 1.0 F_{10}^{2} F_{4}^{2} P_{\\omega} P_{vy} + 1.0 F_{10}^{2} P_{\\omega} P_{x} + 0.5 F_{10}^{2} P_{\\omega} Q_{x} - 2.0 F_{10} F_{4} F_{6} F_{8} P_{\\omega} P_{vy} + 1.0 F_{2}^{2} F_{4}^{2} P_{vx} P_{vy} + 1.0 F_{2}^{2} F_{8}^{2} P_{\\omega} P_{vx} + 1.0 F_{2}^{2} P_{vx} P_{x} + 0.5 F_{2}^{2} P_{vx} Q_{x} + 1.0 F_{4}^{2} P_{vy} P_{y} + 0.5 F_{4}^{2} P_{vy} Q_{y} + 1.0 F_{6}^{2} F_{8}^{2} P_{\\omega} P_{vy} + 1.0 F_{6}^{2} P_{vy} P_{x} + 0.5 F_{6}^{2} P_{vy} Q_{x} + 1.0 F_{8}^{2} P_{\\omega} P_{y} + 0.5 F_{8}^{2} P_{\\omega} Q_{y} + 1.0 P_{x} P_{y} + 0.5 P_{x} Q_{y} + 0.5 P_{y} Q_{x} + 0.25 Q_{x} Q_{y}} & \\frac{- 1.0 F_{0} F_{2} P_{vx} - 1.0 F_{10} F_{8} P_{\\omega} - 1.0 F_{4} F_{6} P_{vy}}{1.0 F_{0}^{2} F_{10}^{2} P_{\\omega} P_{vx} + 1.0 F_{0}^{2} F_{6}^{2} P_{vx} P_{vy} + 1.0 F_{0}^{2} P_{vx} P_{y} + 0.5 F_{0}^{2} P_{vx} Q_{y} - 2.0 F_{0} F_{10} F_{2} F_{8} P_{\\omega} P_{vx} - 2.0 F_{0} F_{2} F_{4} F_{6} P_{vx} P_{vy} + 1.0 F_{10}^{2} F_{4}^{2} P_{\\omega} P_{vy} + 1.0 F_{10}^{2} P_{\\omega} P_{x} + 0.5 F_{10}^{2} P_{\\omega} Q_{x} - 2.0 F_{10} F_{4} F_{6} F_{8} P_{\\omega} P_{vy} + 1.0 F_{2}^{2} F_{4}^{2} P_{vx} P_{vy} + 1.0 F_{2}^{2} F_{8}^{2} P_{\\omega} P_{vx} + 1.0 F_{2}^{2} P_{vx} P_{x} + 0.5 F_{2}^{2} P_{vx} Q_{x} + 1.0 F_{4}^{2} P_{vy} P_{y} + 0.5 F_{4}^{2} P_{vy} Q_{y} + 1.0 F_{6}^{2} F_{8}^{2} P_{\\omega} P_{vy} + 1.0 F_{6}^{2} P_{vy} P_{x} + 0.5 F_{6}^{2} P_{vy} Q_{x} + 1.0 F_{8}^{2} P_{\\omega} P_{y} + 0.5 F_{8}^{2} P_{\\omega} Q_{y} + 1.0 P_{x} P_{y} + 0.5 P_{x} Q_{y} + 0.5 P_{y} Q_{x} + 0.25 Q_{x} Q_{y}}\\\\\\frac{- 1.0 F_{0} F_{2} P_{vx} - 1.0 F_{10} F_{8} P_{\\omega} - 1.0 F_{4} F_{6} P_{vy}}{1.0 F_{0}^{2} F_{10}^{2} P_{\\omega} P_{vx} + 1.0 F_{0}^{2} F_{6}^{2} P_{vx} P_{vy} + 1.0 F_{0}^{2} P_{vx} P_{y} + 0.5 F_{0}^{2} P_{vx} Q_{y} - 2.0 F_{0} F_{10} F_{2} F_{8} P_{\\omega} P_{vx} - 2.0 F_{0} F_{2} F_{4} F_{6} P_{vx} P_{vy} + 1.0 F_{10}^{2} F_{4}^{2} P_{\\omega} P_{vy} + 1.0 F_{10}^{2} P_{\\omega} P_{x} + 0.5 F_{10}^{2} P_{\\omega} Q_{x} - 2.0 F_{10} F_{4} F_{6} F_{8} P_{\\omega} P_{vy} + 1.0 F_{2}^{2} F_{4}^{2} P_{vx} P_{vy} + 1.0 F_{2}^{2} F_{8}^{2} P_{\\omega} P_{vx} + 1.0 F_{2}^{2} P_{vx} P_{x} + 0.5 F_{2}^{2} P_{vx} Q_{x} + 1.0 F_{4}^{2} P_{vy} P_{y} + 0.5 F_{4}^{2} P_{vy} Q_{y} + 1.0 F_{6}^{2} F_{8}^{2} P_{\\omega} P_{vy} + 1.0 F_{6}^{2} P_{vy} P_{x} + 0.5 F_{6}^{2} P_{vy} Q_{x} + 1.0 F_{8}^{2} P_{\\omega} P_{y} + 0.5 F_{8}^{2} P_{\\omega} Q_{y} + 1.0 P_{x} P_{y} + 0.5 P_{x} Q_{y} + 0.5 P_{y} Q_{x} + 0.25 Q_{x} Q_{y}} & \\frac{1.0 F_{0}^{2} P_{vx} + 1.0 F_{4}^{2} P_{vy} + 1.0 F_{8}^{2} P_{\\omega} + 1.0 P_{x} + 0.5 Q_{x}}{1.0 F_{0}^{2} F_{10}^{2} P_{\\omega} P_{vx} + 1.0 F_{0}^{2} F_{6}^{2} P_{vx} P_{vy} + 1.0 F_{0}^{2} P_{vx} P_{y} + 0.5 F_{0}^{2} P_{vx} Q_{y} - 2.0 F_{0} F_{10} F_{2} F_{8} P_{\\omega} P_{vx} - 2.0 F_{0} F_{2} F_{4} F_{6} P_{vx} P_{vy} + 1.0 F_{10}^{2} F_{4}^{2} P_{\\omega} P_{vy} + 1.0 F_{10}^{2} P_{\\omega} P_{x} + 0.5 F_{10}^{2} P_{\\omega} Q_{x} - 2.0 F_{10} F_{4} F_{6} F_{8} P_{\\omega} P_{vy} + 1.0 F_{2}^{2} F_{4}^{2} P_{vx} P_{vy} + 1.0 F_{2}^{2} F_{8}^{2} P_{\\omega} P_{vx} + 1.0 F_{2}^{2} P_{vx} P_{x} + 0.5 F_{2}^{2} P_{vx} Q_{x} + 1.0 F_{4}^{2} P_{vy} P_{y} + 0.5 F_{4}^{2} P_{vy} Q_{y} + 1.0 F_{6}^{2} F_{8}^{2} P_{\\omega} P_{vy} + 1.0 F_{6}^{2} P_{vy} P_{x} + 0.5 F_{6}^{2} P_{vy} Q_{x} + 1.0 F_{8}^{2} P_{\\omega} P_{y} + 0.5 F_{8}^{2} P_{\\omega} Q_{y} + 1.0 P_{x} P_{y} + 0.5 P_{x} Q_{y} + 0.5 P_{y} Q_{x} + 0.25 Q_{x} Q_{y}}\\end{matrix}\\right]$"
      ],
      "text/plain": [
       "Matrix([\n",
       "[(1.0*F10**2*P_\\omega + 1.0*F2**2*P_vx + 1.0*F6**2*P_vy + 1.0*P_y + 0.5*Q_y)/(1.0*F0**2*F10**2*P_\\omega*P_vx + 1.0*F0**2*F6**2*P_vx*P_vy + 1.0*F0**2*P_vx*P_y + 0.5*F0**2*P_vx*Q_y - 2.0*F0*F10*F2*F8*P_\\omega*P_vx - 2.0*F0*F2*F4*F6*P_vx*P_vy + 1.0*F10**2*F4**2*P_\\omega*P_vy + 1.0*F10**2*P_\\omega*P_x + 0.5*F10**2*P_\\omega*Q_x - 2.0*F10*F4*F6*F8*P_\\omega*P_vy + 1.0*F2**2*F4**2*P_vx*P_vy + 1.0*F2**2*F8**2*P_\\omega*P_vx + 1.0*F2**2*P_vx*P_x + 0.5*F2**2*P_vx*Q_x + 1.0*F4**2*P_vy*P_y + 0.5*F4**2*P_vy*Q_y + 1.0*F6**2*F8**2*P_\\omega*P_vy + 1.0*F6**2*P_vy*P_x + 0.5*F6**2*P_vy*Q_x + 1.0*F8**2*P_\\omega*P_y + 0.5*F8**2*P_\\omega*Q_y + 1.0*P_x*P_y + 0.5*P_x*Q_y + 0.5*P_y*Q_x + 0.25*Q_x*Q_y),                   (-1.0*F0*F2*P_vx - 1.0*F10*F8*P_\\omega - 1.0*F4*F6*P_vy)/(1.0*F0**2*F10**2*P_\\omega*P_vx + 1.0*F0**2*F6**2*P_vx*P_vy + 1.0*F0**2*P_vx*P_y + 0.5*F0**2*P_vx*Q_y - 2.0*F0*F10*F2*F8*P_\\omega*P_vx - 2.0*F0*F2*F4*F6*P_vx*P_vy + 1.0*F10**2*F4**2*P_\\omega*P_vy + 1.0*F10**2*P_\\omega*P_x + 0.5*F10**2*P_\\omega*Q_x - 2.0*F10*F4*F6*F8*P_\\omega*P_vy + 1.0*F2**2*F4**2*P_vx*P_vy + 1.0*F2**2*F8**2*P_\\omega*P_vx + 1.0*F2**2*P_vx*P_x + 0.5*F2**2*P_vx*Q_x + 1.0*F4**2*P_vy*P_y + 0.5*F4**2*P_vy*Q_y + 1.0*F6**2*F8**2*P_\\omega*P_vy + 1.0*F6**2*P_vy*P_x + 0.5*F6**2*P_vy*Q_x + 1.0*F8**2*P_\\omega*P_y + 0.5*F8**2*P_\\omega*Q_y + 1.0*P_x*P_y + 0.5*P_x*Q_y + 0.5*P_y*Q_x + 0.25*Q_x*Q_y)],\n",
       "[                   (-1.0*F0*F2*P_vx - 1.0*F10*F8*P_\\omega - 1.0*F4*F6*P_vy)/(1.0*F0**2*F10**2*P_\\omega*P_vx + 1.0*F0**2*F6**2*P_vx*P_vy + 1.0*F0**2*P_vx*P_y + 0.5*F0**2*P_vx*Q_y - 2.0*F0*F10*F2*F8*P_\\omega*P_vx - 2.0*F0*F2*F4*F6*P_vx*P_vy + 1.0*F10**2*F4**2*P_\\omega*P_vy + 1.0*F10**2*P_\\omega*P_x + 0.5*F10**2*P_\\omega*Q_x - 2.0*F10*F4*F6*F8*P_\\omega*P_vy + 1.0*F2**2*F4**2*P_vx*P_vy + 1.0*F2**2*F8**2*P_\\omega*P_vx + 1.0*F2**2*P_vx*P_x + 0.5*F2**2*P_vx*Q_x + 1.0*F4**2*P_vy*P_y + 0.5*F4**2*P_vy*Q_y + 1.0*F6**2*F8**2*P_\\omega*P_vy + 1.0*F6**2*P_vy*P_x + 0.5*F6**2*P_vy*Q_x + 1.0*F8**2*P_\\omega*P_y + 0.5*F8**2*P_\\omega*Q_y + 1.0*P_x*P_y + 0.5*P_x*Q_y + 0.5*P_y*Q_x + 0.25*Q_x*Q_y), (1.0*F0**2*P_vx + 1.0*F4**2*P_vy + 1.0*F8**2*P_\\omega + 1.0*P_x + 0.5*Q_x)/(1.0*F0**2*F10**2*P_\\omega*P_vx + 1.0*F0**2*F6**2*P_vx*P_vy + 1.0*F0**2*P_vx*P_y + 0.5*F0**2*P_vx*Q_y - 2.0*F0*F10*F2*F8*P_\\omega*P_vx - 2.0*F0*F2*F4*F6*P_vx*P_vy + 1.0*F10**2*F4**2*P_\\omega*P_vy + 1.0*F10**2*P_\\omega*P_x + 0.5*F10**2*P_\\omega*Q_x - 2.0*F10*F4*F6*F8*P_\\omega*P_vy + 1.0*F2**2*F4**2*P_vx*P_vy + 1.0*F2**2*F8**2*P_\\omega*P_vx + 1.0*F2**2*P_vx*P_x + 0.5*F2**2*P_vx*Q_x + 1.0*F4**2*P_vy*P_y + 0.5*F4**2*P_vy*Q_y + 1.0*F6**2*F8**2*P_\\omega*P_vy + 1.0*F6**2*P_vy*P_x + 0.5*F6**2*P_vy*Q_x + 1.0*F8**2*P_\\omega*P_y + 0.5*F8**2*P_\\omega*Q_y + 1.0*P_x*P_y + 0.5*P_x*Q_y + 0.5*P_y*Q_x + 0.25*Q_x*Q_y)]])"
      ]
     },
     "execution_count": 21,
     "metadata": {},
     "output_type": "execute_result"
    }
   ],
   "source": [
    "(H @ P_1 @ H.T).inv()"
   ]
  },
  {
   "cell_type": "code",
   "execution_count": 20,
   "id": "ea95df16-8486-48c2-a98c-0e07ad64562e",
   "metadata": {},
   "outputs": [
    {
     "data": {
      "text/latex": [
       "$\\displaystyle \\left[\\begin{matrix}F_{0}^{2} P_{vx} + F_{4}^{2} P_{vy} + F_{8}^{2} P_{\\omega} + P_{x} + 0.5 Q_{x} & F_{0} F_{2} P_{vx} + F_{10} F_{8} P_{\\omega} + F_{4} F_{6} P_{vy}\\\\F_{0} F_{1} P_{vx} + F_{4} F_{5} P_{vy} + F_{8} F_{9} P_{\\omega} & F_{1} F_{2} P_{vx} + F_{10} F_{9} P_{\\omega} + F_{5} F_{6} P_{vy}\\\\F_{0} F_{2} P_{vx} + F_{10} F_{8} P_{\\omega} + F_{4} F_{6} P_{vy} & F_{10}^{2} P_{\\omega} + F_{2}^{2} P_{vx} + F_{6}^{2} P_{vy} + P_{y} + 0.5 Q_{y}\\\\F_{0} F_{3} P_{vx} + F_{11} F_{8} P_{\\omega} + F_{4} F_{7} P_{vy} & F_{10} F_{11} P_{\\omega} + F_{2} F_{3} P_{vx} + F_{6} F_{7} P_{vy}\\\\F_{8} P_{\\omega} & F_{10} P_{\\omega}\\end{matrix}\\right]$"
      ],
      "text/plain": [
       "Matrix([\n",
       "[F0**2*P_vx + F4**2*P_vy + F8**2*P_\\omega + P_x + 0.5*Q_x,                 F0*F2*P_vx + F10*F8*P_\\omega + F4*F6*P_vy],\n",
       "[                F0*F1*P_vx + F4*F5*P_vy + F8*F9*P_\\omega,                 F1*F2*P_vx + F10*F9*P_\\omega + F5*F6*P_vy],\n",
       "[               F0*F2*P_vx + F10*F8*P_\\omega + F4*F6*P_vy, F10**2*P_\\omega + F2**2*P_vx + F6**2*P_vy + P_y + 0.5*Q_y],\n",
       "[               F0*F3*P_vx + F11*F8*P_\\omega + F4*F7*P_vy,                F10*F11*P_\\omega + F2*F3*P_vx + F6*F7*P_vy],\n",
       "[                                             F8*P_\\omega,                                              F10*P_\\omega]])"
      ]
     },
     "execution_count": 20,
     "metadata": {},
     "output_type": "execute_result"
    }
   ],
   "source": [
    "P_1 @ H.T"
   ]
  },
  {
   "cell_type": "code",
   "execution_count": 25,
   "id": "501ea2fa-807a-49c0-977a-ced98ec04e7f",
   "metadata": {},
   "outputs": [
    {
     "data": {
      "text/latex": [
       "$\\displaystyle \\left[\\begin{matrix}\\frac{d}{a d - b c} & - \\frac{b}{a d - b c}\\\\- \\frac{c}{a d - b c} & \\frac{a}{a d - b c}\\end{matrix}\\right]$"
      ],
      "text/plain": [
       "Matrix([\n",
       "[ d/(a*d - b*c), -b/(a*d - b*c)],\n",
       "[-c/(a*d - b*c),  a/(a*d - b*c)]])"
      ]
     },
     "execution_count": 25,
     "metadata": {},
     "output_type": "execute_result"
    }
   ],
   "source": [
    "Matrix([[a, b], [c, d]]).inv()"
   ]
  },
  {
   "cell_type": "code",
   "execution_count": null,
   "id": "7d151fe0-c759-4009-a765-2c4846753a08",
   "metadata": {},
   "outputs": [],
   "source": []
  }
 ],
 "metadata": {
  "kernelspec": {
   "display_name": "Python 3 (ipykernel)",
   "language": "python",
   "name": "python3"
  },
  "language_info": {
   "codemirror_mode": {
    "name": "ipython",
    "version": 3
   },
   "file_extension": ".py",
   "mimetype": "text/x-python",
   "name": "python",
   "nbconvert_exporter": "python",
   "pygments_lexer": "ipython3",
   "version": "3.11.7"
  }
 },
 "nbformat": 4,
 "nbformat_minor": 5
}
