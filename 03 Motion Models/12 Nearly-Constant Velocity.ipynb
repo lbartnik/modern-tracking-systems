{
 "cells": [
  {
   "cell_type": "code",
   "execution_count": null,
   "id": "f82fb62d-1102-45db-9cab-e160e028d274",
   "metadata": {
    "tags": []
   },
   "outputs": [],
   "source": [
    "%load_ext autoreload\n",
    "%autoreload 2"
   ]
  },
  {
   "cell_type": "code",
   "execution_count": null,
   "id": "d33c25f2-b051-4f15-bd55-32f6d4a50810",
   "metadata": {
    "tags": []
   },
   "outputs": [],
   "source": [
    "import os\n",
    "import sys\n",
    "sys.path.append(os.path.realpath('..'))"
   ]
  },
  {
   "cell_type": "code",
   "execution_count": null,
   "id": "20ff31cc-0ca3-4e2c-b0d9-b233d617321b",
   "metadata": {
    "tags": []
   },
   "outputs": [],
   "source": [
    "import numpy as np\n",
    "import scipy as sp\n",
    "import pandas as pd\n",
    "import plotly.express as ex\n",
    "import plotly.graph_objects as go\n",
    "from plotly.subplots import make_subplots\n",
    "from copy import deepcopy\n",
    "from scipy.integrate import solve_ivp\n",
    "\n",
    "import cache_magic\n",
    "\n",
    "from IPython.display import display\n",
    "import ipywidgets.widgets as widgets\n",
    "\n",
    "from tracking_v2.target import ConstantVelocityTarget, SingerTarget\n",
    "from tracking_v2.kalman import LinearKalmanFilter\n",
    "from tracking_v2.motion import ConstantVelocityModel, ConstantAccelerationModel, SingerAccelerationModel\n",
    "from tracking_v2.sensor import GeometricSensor\n",
    "from tracking_v2.evaluation import Runner, run_many, evaluate_many, plot_nees, evaluate_nees, \\\n",
    "                                   plot_error, evaluate_runner, plot_2d, plot_3d\n",
    "\n",
    "from tracking.util import to_df"
   ]
  },
  {
   "cell_type": "code",
   "execution_count": null,
   "id": "cf2170ee-7f1a-4ada-9170-46f3058660a4",
   "metadata": {
    "tags": []
   },
   "outputs": [],
   "source": [
    "class Runner:\n",
    "    def __init__(self):\n",
    "        self.reset()\n",
    "\n",
    "    def reset(self, q_model=1, q_real=1):\n",
    "        self.rng = np.random.default_rng()\n",
    "        self.T = 3.0\n",
    "\n",
    "        self.x = np.zeros((3, 1))\n",
    "        self.v = np.array([float(30), 0, 0]).reshape((3, 1))\n",
    "        self.q_model = q_model\n",
    "        self.q_real  = q_real\n",
    "        self.R = 1.0\n",
    "\n",
    "        self.H = np.array([[1, 0, 0, 0, 0, 0],\n",
    "                           [0, 1, 0, 0, 0, 0],\n",
    "                           [0, 0, 1, 0, 0, 0]])\n",
    "\n",
    "        T  = self.T\n",
    "        \n",
    "        self.F = np.array([[1, 0, 0, T, 0, 0],\n",
    "                           [0, 1, 0, 0, T, 0],\n",
    "                           [0, 0, 1, 0, 0, T],\n",
    "                           [0, 0, 0, 1, 0, 0],\n",
    "                           [0, 0, 0, 0, 1, 0],\n",
    "                           [0, 0, 0, 0, 0, 1]])\n",
    "\n",
    "        T3 = self.T**3 / 3\n",
    "        T2 = self.T**2 / 2\n",
    "        T  = self.T\n",
    "\n",
    "        self.Q = np.array([[T3, 0,  0,  T2, 0  ,0 ],\n",
    "                           [0,  T3, 0,  0,  T2, 0 ],\n",
    "                           [0,  0,  T3, 0,  0,  T2],\n",
    "                           [T2, 0,  0,  T,  0,  0 ],\n",
    "                           [0,  T2, 0,  0,  T,  0 ],\n",
    "                           [0,  0,  T2, 0,  0,  T ]]) * self.q_model**2\n",
    "\n",
    "\n",
    "        # initialize\n",
    "        self.x_hat = np.zeros(6).reshape((6, 1))\n",
    "        self.P_hat = np.eye(6)\n",
    "\n",
    "    def step(self):\n",
    "        if self.q_real > 0:\n",
    "            N  = 100\n",
    "            dt = self.T / N\n",
    "            sigma = self.q_real * np.sqrt(dt)\n",
    "            for _ in range(N):\n",
    "                self.v += self.rng.normal(0, sigma, (3, 1))\n",
    "                self.x += self.v * dt\n",
    "        else:\n",
    "            self.x += self.v * T\n",
    "\n",
    "        z = self.x + self.rng.normal(0.0, self.R, (3, 1))\n",
    "\n",
    "        # forward-prediction\n",
    "        self.x_hat = self.F @ self.x_hat\n",
    "        self.P_hat = self.F @ self.P_hat @ self.F.T + self.Q\n",
    "\n",
    "        x_fwd, P_fwd = np.copy(self.x_hat), np.copy(self.P_hat)\n",
    "\n",
    "        # innovation covariance\n",
    "        # S = H*P*H + R\n",
    "        S = self.H @ self.P_hat @ self.H.T + np.eye(3) * self.R\n",
    "\n",
    "        # Kalman gain\n",
    "        # K = P*H (H*P*H + R)^-1\n",
    "        K = self.P_hat @ self.H.T @ np.linalg.inv(S)\n",
    "\n",
    "        innovation = z - self.H @ self.x_hat\n",
    "\n",
    "        # filtered state (mean)\n",
    "        # X = X + K(z - H*X)\n",
    "        self.x_hat += K @ innovation\n",
    "\n",
    "        # filtered state (covariance)\n",
    "        # P = P - K*S*K\n",
    "        self.P_hat -= K @ S @ K.T\n",
    "\n",
    "        return x_fwd, P_fwd, np.copy(self.x)"
   ]
  },
  {
   "cell_type": "code",
   "execution_count": null,
   "id": "1676bdac-af63-4255-9350-e5fea31212b4",
   "metadata": {
    "tags": []
   },
   "outputs": [],
   "source": [
    "def one(r, n=400):\n",
    "    x_trace, P_trace, truth = [], [], []\n",
    "    for _ in range(n):\n",
    "        x_fwd, P_fwd, x_true = r.step()\n",
    "        x_trace.append(x_fwd)\n",
    "        P_trace.append(P_fwd)\n",
    "        truth.append(x_true)\n",
    "    \n",
    "    return np.array(x_trace), np.array(P_trace), np.array(truth)"
   ]
  },
  {
   "cell_type": "code",
   "execution_count": null,
   "id": "74e29392-1612-4440-943d-42f3251b417e",
   "metadata": {
    "tags": []
   },
   "outputs": [],
   "source": [
    "r = Runner()\n",
    "#r.q = 0\n",
    "x_trace, P_trace, truth = one(r)"
   ]
  },
  {
   "cell_type": "code",
   "execution_count": null,
   "id": "c32d4895-7caf-4b35-8850-9d8bfee18fda",
   "metadata": {
    "tags": []
   },
   "outputs": [],
   "source": [
    "run_count = 1\n",
    "dim       = 3\n",
    "ci_mean   = sp.stats.chi2.ppf([0.025, 0.975], run_count * dim) / run_count"
   ]
  },
  {
   "cell_type": "code",
   "execution_count": null,
   "id": "6ed37ccd-a3c9-4d2e-a7c0-b061aea561be",
   "metadata": {
    "tags": []
   },
   "outputs": [],
   "source": [
    "e = evaluate_nees(np.expand_dims(x_trace[:,:3,:], 0), np.expand_dims(P_trace[:,:3,:3], 0), truth.squeeze())"
   ]
  },
  {
   "cell_type": "code",
   "execution_count": null,
   "id": "9e7511c2-6fb3-484f-a4ab-9b9f6ac6a1b9",
   "metadata": {},
   "outputs": [],
   "source": [
    "fig = ex.scatter(y=e.scores.mean(axis=0))\n",
    "fig.add_hline(y=ci_mean[0], line_width=.5, line_dash=\"dash\", line_color=\"red\")\n",
    "fig.add_hline(y=ci_mean[1], line_width=.5, line_dash=\"dash\", line_color=\"red\")\n",
    "fig"
   ]
  },
  {
   "cell_type": "code",
   "execution_count": null,
   "id": "9e069921-0123-409f-a7ed-43209007543a",
   "metadata": {
    "tags": []
   },
   "outputs": [],
   "source": [
    "def many(m=200, n=400):\n",
    "    x_trace, P_trace, truth_trace = [], [], []\n",
    "    for _ in range(m):\n",
    "        r = Runner()\n",
    "        r.reset(q_model=2, q_real=2)\n",
    "        x_hat, P_hat, truth = one(r, n=n)\n",
    "        x_trace.append(x_hat)\n",
    "        P_trace.append(P_hat)\n",
    "        truth_trace.append(truth)\n",
    "    \n",
    "    return np.array(x_trace), np.array(P_trace), np.array(truth_trace)"
   ]
  },
  {
   "cell_type": "code",
   "execution_count": null,
   "id": "23700d90-6c1f-422e-93c1-dd3dccf6dc40",
   "metadata": {
    "tags": []
   },
   "outputs": [],
   "source": [
    "run_count = 100\n",
    "dim       = 3\n",
    "ci_mean   = sp.stats.chi2.ppf([0.025, 0.975], run_count * dim) / run_count"
   ]
  },
  {
   "cell_type": "code",
   "execution_count": null,
   "id": "1803388d-4bbf-45d7-94fc-91fed8473082",
   "metadata": {
    "tags": []
   },
   "outputs": [],
   "source": [
    "x_trace, P_trace, truth = many(run_count, n=200)"
   ]
  },
  {
   "cell_type": "code",
   "execution_count": null,
   "id": "e39b09b2-cf5e-4ada-ac8b-5334e0e269b5",
   "metadata": {
    "tags": []
   },
   "outputs": [],
   "source": [
    "e = evaluate_nees(x_trace[:, :,:3,:], P_trace[:, :,:3,:3], truth)"
   ]
  },
  {
   "cell_type": "code",
   "execution_count": null,
   "id": "d2437a38-9280-480f-95f2-9694e34b05a0",
   "metadata": {
    "tags": []
   },
   "outputs": [],
   "source": [
    "fig = go.Figure()\n",
    "fig.add_trace(go.Scatter(y=np.mean(e.scores, axis=0)[25:], mode='lines'))\n",
    "#fig.add_trace(go.Scatter(y=e.scores[25:], mode='lines'))\n",
    "fig.add_hline(y=ci_mean[0], line_width=.5, line_dash=\"dash\", line_color=\"red\")\n",
    "fig.add_hline(y=ci_mean[1], line_width=.5, line_dash=\"dash\", line_color=\"red\")\n",
    "fig"
   ]
  },
  {
   "cell_type": "code",
   "execution_count": null,
   "id": "4e53434a-8ffc-4649-b8d6-803fd025a877",
   "metadata": {
    "tags": []
   },
   "outputs": [],
   "source": [
    "ci_mean"
   ]
  },
  {
   "cell_type": "code",
   "execution_count": null,
   "id": "b61542d2-f768-49b5-a2a5-a8036c431796",
   "metadata": {
    "tags": []
   },
   "outputs": [],
   "source": [
    "ms = e.scores.mean(axis=0)[50:]\n",
    "np.mean(np.logical_and(ci_mean[0] <= ms, ms <= ci_mean[1]))"
   ]
  },
  {
   "cell_type": "code",
   "execution_count": null,
   "id": "43765c8a-9c28-42ef-8781-eb756f36b956",
   "metadata": {},
   "outputs": [],
   "source": []
  }
 ],
 "metadata": {
  "kernelspec": {
   "display_name": "Python 3 (ipykernel)",
   "language": "python",
   "name": "python3"
  },
  "language_info": {
   "codemirror_mode": {
    "name": "ipython",
    "version": 3
   },
   "file_extension": ".py",
   "mimetype": "text/x-python",
   "name": "python",
   "nbconvert_exporter": "python",
   "pygments_lexer": "ipython3",
   "version": "3.11.5"
  }
 },
 "nbformat": 4,
 "nbformat_minor": 5
}
