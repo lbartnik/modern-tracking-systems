{
 "cells": [
  {
   "cell_type": "code",
   "execution_count": null,
   "id": "beef3642-a503-4ab2-8225-66cf818e49aa",
   "metadata": {
    "tags": []
   },
   "outputs": [],
   "source": [
    "%load_ext autoreload\n",
    "%autoreload 2"
   ]
  },
  {
   "cell_type": "code",
   "execution_count": null,
   "id": "bc1a1f98-70df-420d-94c0-227943e993d6",
   "metadata": {
    "tags": []
   },
   "outputs": [],
   "source": [
    "import os\n",
    "import sys\n",
    "sys.path.append(os.path.realpath('..'))"
   ]
  },
  {
   "cell_type": "code",
   "execution_count": null,
   "id": "ef848e20-d866-402f-9772-ec7ee3efc081",
   "metadata": {
    "tags": []
   },
   "outputs": [],
   "source": [
    "import numpy as np\n",
    "import scipy as sp\n",
    "import pandas as pd\n",
    "import plotly.express as ex\n",
    "import plotly.graph_objects as go\n",
    "from plotly.subplots import make_subplots\n",
    "from copy import deepcopy\n",
    "import cache_magic\n",
    "\n",
    "from IPython.display import display\n",
    "import ipywidgets.widgets as widgets\n",
    "\n",
    "from tracking_v2.target import ConstantVelocityTarget, SingerTarget\n",
    "from tracking_v2.kalman import LinearKalmanFilter\n",
    "from tracking_v2.motion import ConstantVelocityModel, ConstantAccelerationModel, SingerAccelerationModel\n",
    "from tracking_v2.sensor import GeometricSensor\n",
    "from tracking_v2.evaluation import Runner, run_many, evaluate_many, plot_nees, evaluate_nees, \\\n",
    "                                   plot_error, evaluate_runner, plot_2d, plot_3d, nees_ci\n",
    "\n",
    "from tracking.util import to_df"
   ]
  },
  {
   "cell_type": "code",
   "execution_count": null,
   "id": "fb4e5c47-29b5-4ec7-aa58-3c01b8034fbb",
   "metadata": {
    "tags": []
   },
   "outputs": [],
   "source": [
    "def two_columns(fig1, fig2):\n",
    "    output1 = widgets.Output(layout={'width': '50%'})\n",
    "    with output1:\n",
    "        display(fig1)\n",
    "\n",
    "    output2 = widgets.Output(layout={'width': '50%'})\n",
    "    with output2:\n",
    "        display(fig2)\n",
    "    \n",
    "    column_layout = widgets.HBox([output1, output2])\n",
    "    display(column_layout)"
   ]
  },
  {
   "cell_type": "code",
   "execution_count": null,
   "id": "d0487b21-397d-4501-aa3a-131523cb70f4",
   "metadata": {
    "tags": []
   },
   "outputs": [],
   "source": [
    "target = ConstantVelocityTarget()"
   ]
  },
  {
   "cell_type": "code",
   "execution_count": null,
   "id": "1ddb2ed0-522d-44f1-8d5a-89cb17b6f051",
   "metadata": {
    "tags": []
   },
   "outputs": [],
   "source": [
    "def _drift_one(q, target):\n",
    "    motion = ConstantVelocityModel(q)\n",
    "    kf = LinearKalmanFilter(motion, [[1, 0, 0, 0, 0, 0],\n",
    "                                     [0, 1, 0, 0, 0, 0],\n",
    "                                     [0, 0, 1, 0, 0, 0]])\n",
    "\n",
    "    sensor = GeometricSensor(seed=8)\n",
    "    r = Runner(target, sensor, kf)\n",
    "    r.run_many(1, 500)\n",
    "    return r"
   ]
  },
  {
   "cell_type": "code",
   "execution_count": null,
   "id": "ac9682d1-d383-433b-80e1-23209279ef21",
   "metadata": {
    "tags": []
   },
   "outputs": [],
   "source": [
    "def _plot_error_one(runner):\n",
    "    tm  = np.arange(runner.n-100).reshape((runner.n-100, -1))\n",
    "    err = np.hstack((tm, np.abs(runner.one_x_hat[100:,:3,0] - runner.truth[101:,:3])))\n",
    "    err = to_df(err, columns=['time', 'x', 'y', 'z']).melt(['time'], ['x', 'y', 'z'], 'dim', 'error')\n",
    "    return ex.line(err, x='time', y='error', facet_row='dim')"
   ]
  },
  {
   "cell_type": "code",
   "execution_count": null,
   "id": "432a8f40-c092-4936-ab62-b8a59e55177b",
   "metadata": {
    "tags": []
   },
   "outputs": [],
   "source": [
    "def _plot_nees_one(runner):\n",
    "    nees = evaluate_nees(runner.one_x_hat[:, :3, :], runner.one_P_hat[:, :3, :3], runner.truth[1:, :3])\n",
    "    err = np.asarray((np.arange(runner.n-100), nees.scores[100:])).T\n",
    "    err = to_df(err, columns=['time', 'nees'])\n",
    "    fig = ex.line(err, x='time', y='nees')\n",
    "    \n",
    "    ci = sp.stats.chi2.ppf([0.025, 0.975], nees.dim)\n",
    "    fig.add_hline(y=ci[0], line_width=.5, line_dash=\"dash\", line_color=\"red\")\n",
    "    fig.add_hline(y=ci[1], line_width=.5, line_dash=\"dash\", line_color=\"red\")\n",
    "\n",
    "    return fig"
   ]
  },
  {
   "cell_type": "code",
   "execution_count": null,
   "id": "d1341f48-649d-40c7-947a-d85e87d48449",
   "metadata": {},
   "outputs": [],
   "source": [
    "def _drift_many(Q, target, m=100, seeds=None):\n",
    "    motion = ConstantVelocityModel(Q)\n",
    "    kf = LinearKalmanFilter(motion, [[1, 0, 0, 0, 0, 0],\n",
    "                                     [0, 1, 0, 0, 0, 0],\n",
    "                                     [0, 0, 1, 0, 0, 0]])\n",
    "    sensor = GeometricSensor()\n",
    "    r = Runner(target, sensor, kf)\n",
    "    r.run_many(m, 500, seeds=seeds)\n",
    "    return r"
   ]
  },
  {
   "cell_type": "code",
   "execution_count": null,
   "id": "a3707f6d-12b4-442b-8c64-39b3b10f6590",
   "metadata": {},
   "outputs": [],
   "source": [
    "def _plot_nees_many(runner, skip=100):\n",
    "    nees = evaluate_nees(runner.many_x_hat[:, :, :3, :], runner.many_P_hat[:, :, :3, :3], runner.many_truth[:, 1:, :3])\n",
    "    err = np.asarray((np.arange(runner.n-skip), nees.scores[:,skip:].mean(axis=0))).T\n",
    "    err = to_df(err, columns=['time', 'nees'])\n",
    "    fig = ex.line(err, x='time', y='nees')\n",
    "    \n",
    "    ci = sp.stats.chi2.ppf([0.025, 0.975], runner.m * nees.dim) / runner.m\n",
    "    fig.add_hline(y=ci[0], line_width=.5, line_dash=\"dash\", line_color=\"red\")\n",
    "    fig.add_hline(y=ci[1], line_width=.5, line_dash=\"dash\", line_color=\"red\")\n",
    "\n",
    "    return fig"
   ]
  },
  {
   "cell_type": "code",
   "execution_count": null,
   "id": "0a9dd314-5899-4fc7-8a3d-4d0f8d1deaa6",
   "metadata": {},
   "outputs": [],
   "source": [
    "def _plot_error_many(runner):\n",
    "    tm  = np.arange(runner.n-100)\n",
    "    err = np.linalg.norm(runner.many_x_hat[:,100:,:3,0] - runner.many_truth[:,101:,:3], axis=2)\n",
    "    \n",
    "    avg = np.array((tm, err.mean(axis=0))).T\n",
    "    avg = to_df(avg, columns=['time', 'err'])\n",
    "    avg['type'] = 'avg'\n",
    "    \n",
    "    low = np.array((tm, np.quantile(err, .025, axis=0))).T\n",
    "    low = to_df(low, columns=['time', 'err'])\n",
    "    low['type'] = '.025'\n",
    "    \n",
    "    upp = np.array((tm, np.quantile(err, .975, axis=0))).T\n",
    "    upp = to_df(upp, columns=['time', 'err'])\n",
    "    upp['type'] = '.975'\n",
    "\n",
    "    err = pd.concat((avg, low, upp), axis=0).melt(['time', 'type'], ['err'], 'dim', 'error')\n",
    "    return ex.line(err, x='time', y='error', color='type', facet_row='dim')"
   ]
  },
  {
   "cell_type": "code",
   "execution_count": null,
   "id": "123527b9-cbfd-401d-844b-9cd9c341d0f4",
   "metadata": {},
   "outputs": [],
   "source": [
    "def _generate_metrics_1(target):\n",
    "    data = []\n",
    "    for Q in [0, .001, .002, .005, .01, .02, .05, .1, .2, .5, 1, 1.5, 2, 2.5, 5, 10, 20]:\n",
    "        run  = _drift_many(Q, target)\n",
    "        nees = evaluate_nees(run.many_x_hat[:, 100:, :3, :], run.many_P_hat[:, 100:, :3, :3], run.many_truth[:,101:, :3])\n",
    "        err  = np.linalg.norm(run.many_x_hat[:,100:,:3,0] - run.many_truth[:,101:,:3], axis=2)\n",
    "        \n",
    "        mean_nees = nees.scores.mean(axis=0)\n",
    "        q975_nees = np.quantile(nees.scores, .975, axis=0)\n",
    "    \n",
    "        mean_err = err.mean(axis=0)\n",
    "        q975_err = np.quantile(err, .975, axis=0)\n",
    "    \n",
    "        part = np.asarray((mean_nees, q975_nees, mean_err, q975_err)).T\n",
    "        part = to_df(part, columns=['nees_mean', 'nees_q975', 'err_mean', 'err_q975'])\n",
    "        part['Q'] = str(Q)\n",
    "        \n",
    "        data.append(part)\n",
    "    return pd.concat(data)"
   ]
  },
  {
   "cell_type": "code",
   "execution_count": null,
   "id": "aaed654d-b5c9-4e16-bede-574be59b6474",
   "metadata": {},
   "outputs": [],
   "source": [
    "def _generate_metrics_2(target):\n",
    "    data = []\n",
    "    for Q in [0, .001, .002, .005, .01, .02, .05, .1, .2, .5, 1, 1.5, 2, 2.5, 5, 10, 20]:\n",
    "        run  = _drift_many(Q, target)\n",
    "        nees = evaluate_nees(run.many_x_hat[:, 100:, :3, :], run.many_P_hat[:, 100:, :3, :3], run.many_truth[:,101:, :3])\n",
    "        err  = np.linalg.norm(run.many_x_hat[:,100:,:3,0] - run.many_truth[:,101:,:3], axis=2)\n",
    "        \n",
    "        part = np.asarray((nees.scores.reshape(-1), err.reshape(-1))).T\n",
    "        part = to_df(part, columns=['nees', 'err'])\n",
    "        part['Q'] = str(Q)\n",
    "        \n",
    "        data.append(part)\n",
    "    return pd.concat(data)"
   ]
  },
  {
   "cell_type": "markdown",
   "id": "42a64abc-ddec-4f6d-82db-fe57f2187f05",
   "metadata": {},
   "source": [
    "# Target: Nearly Constant Velocity (non-zero noise intensity)"
   ]
  },
  {
   "cell_type": "code",
   "execution_count": null,
   "id": "ce9afc97-274b-4386-96b4-2fdbcd52f3ff",
   "metadata": {},
   "outputs": [],
   "source": [
    "target = ConstantVelocityTarget(noise_intensity=1)"
   ]
  },
  {
   "cell_type": "code",
   "execution_count": null,
   "id": "a0584137-f47a-4132-9d56-315862cbadf7",
   "metadata": {},
   "outputs": [],
   "source": [
    "ncv_q0_one = _drift_one(0, target)\n",
    "ncv_q1_one = _drift_one(1, target)"
   ]
  },
  {
   "cell_type": "code",
   "execution_count": null,
   "id": "85fd4312-4339-4c77-b22b-b3be193dffb3",
   "metadata": {},
   "outputs": [],
   "source": [
    "two_columns(plot_3d(ncv_q0_one), plot_3d(ncv_q1_one))"
   ]
  },
  {
   "cell_type": "code",
   "execution_count": null,
   "id": "d16348c3-c1ff-41d1-a9ed-e606ddcd6c2c",
   "metadata": {},
   "outputs": [],
   "source": [
    "two_columns(_plot_error_one(ncv_q0_one), _plot_error_one(ncv_q1_one))"
   ]
  },
  {
   "cell_type": "code",
   "execution_count": null,
   "id": "69a07218-7750-4d77-a270-5b721e384b39",
   "metadata": {},
   "outputs": [],
   "source": [
    "two_columns(_plot_nees_one(ncv_q0_one), _plot_nees_one(ncv_q1_one))"
   ]
  },
  {
   "cell_type": "code",
   "execution_count": null,
   "id": "b898e973-c95c-4d74-8468-d4f726afc6a3",
   "metadata": {},
   "outputs": [],
   "source": [
    "ncv_q0_many = _drift_many(0, target, m=400, seeds=1)\n",
    "ncv_q1_many = _drift_many(1, target, m=400, seeds=1)"
   ]
  },
  {
   "cell_type": "code",
   "execution_count": null,
   "id": "85eabdab-3d9e-47de-940c-cd513cbe32eb",
   "metadata": {},
   "outputs": [],
   "source": [
    "two_columns(_plot_error_many(ncv_q0_many), _plot_error_many(ncv_q1_many))"
   ]
  },
  {
   "cell_type": "code",
   "execution_count": null,
   "id": "88f07e21-9079-4df6-89a3-f29affe8f973",
   "metadata": {},
   "outputs": [],
   "source": [
    "two_columns(_plot_nees_many(ncv_q0_many), _plot_nees_many(ncv_q1_many))"
   ]
  },
  {
   "cell_type": "code",
   "execution_count": null,
   "id": "4066fb5a-89a4-4bfd-b3b5-9f1c68f3a848",
   "metadata": {
    "tags": []
   },
   "outputs": [],
   "source": [
    "s = evaluate_runner(ncv_q1_many)\n",
    "l, u = nees_ci(ncv_q1_many)\n",
    "\n",
    "np.mean(np.logical_and(l <= s.position_nees.scores.mean(axis=0), s.position_nees.scores.mean(axis=0) <= u))"
   ]
  },
  {
   "cell_type": "code",
   "execution_count": null,
   "id": "a9f504dd-ab62-4feb-a6b9-2dc77d8a0b8d",
   "metadata": {},
   "outputs": [],
   "source": [
    "s = evaluate_runner(ncv_q1_many)\n",
    "\n",
    "fig = go.Figure()\n",
    "for i in range(s.position_nees.scores.shape[0]):\n",
    "    fig.add_trace(go.Scatter(x=np.arange(475), y=s.position_nees.scores[i,25:], mode='lines', legendgroup=i))\n",
    "fig.show()"
   ]
  },
  {
   "cell_type": "code",
   "execution_count": null,
   "id": "f165f602-e63d-4747-adca-42a86aee6349",
   "metadata": {},
   "outputs": [],
   "source": [
    "ex.scatter(y=s.position_nees.scores.mean(axis=1))"
   ]
  },
  {
   "cell_type": "code",
   "execution_count": null,
   "id": "f544fa98-67f2-49df-914b-2b430453bcfa",
   "metadata": {},
   "outputs": [],
   "source": [
    "means = []\n",
    "for seed in range(100, 150):\n",
    "    motion = ConstantVelocityModel(noise_intensity=1)\n",
    "    kf = LinearKalmanFilter(motion, [[1, 0, 0, 0, 0, 0],\n",
    "                                     [0, 1, 0, 0, 0, 0],\n",
    "                                     [0, 0, 1, 0, 0, 0]])\n",
    "    \n",
    "    sensor = GeometricSensor(seed=seed)\n",
    "    r = Runner(target, sensor, kf)\n",
    "    r.run_one(500)\n",
    "\n",
    "    r.m = 1\n",
    "    r.after_many()\n",
    "\n",
    "    s = evaluate_runner(r)\n",
    "    means.append(s.position_nees.scores.mean(axis=0))"
   ]
  },
  {
   "cell_type": "code",
   "execution_count": null,
   "id": "b91e066e-3558-4385-8b2d-056def9f8e45",
   "metadata": {},
   "outputs": [],
   "source": [
    "ex.scatter(y=means)"
   ]
  },
  {
   "cell_type": "code",
   "execution_count": null,
   "id": "1caa71f8-fc8c-4778-96e2-b0f8a61555e2",
   "metadata": {},
   "outputs": [],
   "source": []
  }
 ],
 "metadata": {
  "kernelspec": {
   "display_name": "Python 3 (ipykernel)",
   "language": "python",
   "name": "python3"
  },
  "language_info": {
   "codemirror_mode": {
    "name": "ipython",
    "version": 3
   },
   "file_extension": ".py",
   "mimetype": "text/x-python",
   "name": "python",
   "nbconvert_exporter": "python",
   "pygments_lexer": "ipython3",
   "version": "3.11.5"
  }
 },
 "nbformat": 4,
 "nbformat_minor": 5
}
