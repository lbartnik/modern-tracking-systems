{
 "cells": [
  {
   "cell_type": "code",
   "execution_count": null,
   "id": "beef3642-a503-4ab2-8225-66cf818e49aa",
   "metadata": {
    "tags": []
   },
   "outputs": [],
   "source": [
    "%load_ext autoreload\n",
    "%autoreload 2"
   ]
  },
  {
   "cell_type": "code",
   "execution_count": null,
   "id": "bc1a1f98-70df-420d-94c0-227943e993d6",
   "metadata": {
    "tags": []
   },
   "outputs": [],
   "source": [
    "import os\n",
    "import sys\n",
    "sys.path.append(os.path.realpath('..'))"
   ]
  },
  {
   "cell_type": "code",
   "execution_count": null,
   "id": "ef848e20-d866-402f-9772-ec7ee3efc081",
   "metadata": {
    "tags": []
   },
   "outputs": [],
   "source": [
    "import numpy as np\n",
    "import scipy as sp\n",
    "import pandas as pd\n",
    "import plotly.express as ex\n",
    "import plotly.graph_objects as go\n",
    "from plotly.subplots import make_subplots\n",
    "from copy import deepcopy\n",
    "import cache_magic\n",
    "\n",
    "from IPython.display import display, Image\n",
    "import ipywidgets.widgets as widgets\n",
    "\n",
    "from tracking_v2.target import ConstantVelocityTarget, NearConstantVelocityTarget, SingerTarget\n",
    "from tracking_v2.kalman import LinearKalmanFilter\n",
    "from tracking_v2.motion import ConstantVelocityModel, ConstantAccelerationModel, SingerAccelerationModel\n",
    "from tracking_v2.sensor import GeometricSensor\n",
    "from tracking_v2.evaluation import Runner, run_many, evaluate_many, plot_nscore, evaluate_nees, \\\n",
    "                                   plot_error, evaluate_runner, plot_2d, plot_3d, nees_ci\n",
    "\n",
    "from tracking.util import to_df"
   ]
  },
  {
   "cell_type": "code",
   "execution_count": null,
   "id": "7c1dd002-213d-49c0-9395-81eb9a109246",
   "metadata": {
    "tags": []
   },
   "outputs": [],
   "source": [
    "as_png        = True\n",
    "image_counter = 0\n",
    "\n",
    "def _show(fig):\n",
    "    if not as_png:\n",
    "        display(fig)\n",
    "        return\n",
    "    \n",
    "    if not os.path.exists(\"images\"):\n",
    "        os.mkdir(\"images\")\n",
    "    \n",
    "    global image_counter\n",
    "    image_counter += 1\n",
    "    path = \"images/fig{count:02d}.png\".format(count = image_counter)\n",
    "    \n",
    "    fig.write_image(path)\n",
    "    display(Image(filename=path))"
   ]
  },
  {
   "cell_type": "code",
   "execution_count": null,
   "id": "fb4e5c47-29b5-4ec7-aa58-3c01b8034fbb",
   "metadata": {
    "tags": []
   },
   "outputs": [],
   "source": [
    "def _columns(*figs):\n",
    "    width = int(100 / len(figs))\n",
    "    \n",
    "    outputs = []\n",
    "    for fig in figs:\n",
    "        output = widgets.Output(layout={'width': f'{width}%'})\n",
    "        with output:\n",
    "            _show(fig)\n",
    "        outputs.append(output)\n",
    "  \n",
    "    column_layout = widgets.HBox(outputs)\n",
    "    display(column_layout)"
   ]
  },
  {
   "cell_type": "code",
   "execution_count": null,
   "id": "1ddb2ed0-522d-44f1-8d5a-89cb17b6f051",
   "metadata": {
    "tags": []
   },
   "outputs": [],
   "source": [
    "def _run_one(q, target):\n",
    "    motion = ConstantVelocityModel(q)\n",
    "    kf = LinearKalmanFilter(motion, [[1, 0, 0, 0, 0, 0],\n",
    "                                     [0, 1, 0, 0, 0, 0],\n",
    "                                     [0, 0, 1, 0, 0, 0]])\n",
    "\n",
    "    sensor = GeometricSensor(seed=8)\n",
    "    r = Runner(target, sensor, kf)\n",
    "    r.run_many(1, 500)\n",
    "    return r"
   ]
  },
  {
   "cell_type": "code",
   "execution_count": null,
   "id": "ac9682d1-d383-433b-80e1-23209279ef21",
   "metadata": {
    "tags": []
   },
   "outputs": [],
   "source": [
    "def _plot_error_one(runner):\n",
    "    tm  = np.arange(runner.n-100).reshape((runner.n-100, -1))\n",
    "    err = np.hstack((tm, np.abs(runner.one_x_hat[100:,:3,0] - runner.truth[101:,:3])))\n",
    "    err = to_df(err, columns=['time', 'x', 'y', 'z']).melt(['time'], ['x', 'y', 'z'], 'dim', 'error')\n",
    "    return ex.line(err, x='time', y='error', facet_row='dim')"
   ]
  },
  {
   "cell_type": "code",
   "execution_count": null,
   "id": "d1341f48-649d-40c7-947a-d85e87d48449",
   "metadata": {},
   "outputs": [],
   "source": [
    "def _run_many(Q, target, m=100, seeds=None):\n",
    "    motion = ConstantVelocityModel(Q)\n",
    "    kf = LinearKalmanFilter(motion, [[1, 0, 0, 0, 0, 0],\n",
    "                                     [0, 1, 0, 0, 0, 0],\n",
    "                                     [0, 0, 1, 0, 0, 0]])\n",
    "    sensor = GeometricSensor()\n",
    "    r = Runner(target, sensor, kf)\n",
    "    r.run_many(m, 500, seeds=seeds)\n",
    "    return r"
   ]
  },
  {
   "cell_type": "code",
   "execution_count": null,
   "id": "a3707f6d-12b4-442b-8c64-39b3b10f6590",
   "metadata": {},
   "outputs": [],
   "source": [
    "def _plot_nees(runner, skip=100):\n",
    "    nees = evaluate_nees(runner.many_x_hat[:, :, :3, :], runner.many_P_hat[:, :, :3, :3], runner.many_truth[:, 1:, :3])\n",
    "    err = np.asarray((np.arange(runner.n-skip), nees.scores[:,skip:].mean(axis=0))).T\n",
    "    err = to_df(err, columns=['time', 'nees'])\n",
    "    fig = ex.line(err, x='time', y='nees')\n",
    "    \n",
    "    ci = sp.stats.chi2.ppf([0.025, 0.975], runner.m * nees.dim) / runner.m\n",
    "    fig.add_hline(y=ci[0], line_width=.5, line_dash=\"dash\", line_color=\"red\")\n",
    "    fig.add_hline(y=ci[1], line_width=.5, line_dash=\"dash\", line_color=\"red\")\n",
    "\n",
    "    return fig"
   ]
  },
  {
   "cell_type": "code",
   "execution_count": null,
   "id": "0a9dd314-5899-4fc7-8a3d-4d0f8d1deaa6",
   "metadata": {},
   "outputs": [],
   "source": [
    "def _plot_error_many(runner):\n",
    "    tm  = np.arange(runner.n-100)\n",
    "    err = np.linalg.norm(runner.many_x_hat[:,100:,:3,0] - runner.many_truth[:,101:,:3], axis=2)\n",
    "    \n",
    "    avg = np.array((tm, err.mean(axis=0))).T\n",
    "    avg = to_df(avg, columns=['time', 'err'])\n",
    "    avg['type'] = 'avg'\n",
    "    \n",
    "    low = np.array((tm, np.quantile(err, .025, axis=0))).T\n",
    "    low = to_df(low, columns=['time', 'err'])\n",
    "    low['type'] = '.025'\n",
    "    \n",
    "    upp = np.array((tm, np.quantile(err, .975, axis=0))).T\n",
    "    upp = to_df(upp, columns=['time', 'err'])\n",
    "    upp['type'] = '.975'\n",
    "\n",
    "    err = pd.concat((avg, low, upp), axis=0).melt(['time', 'type'], ['err'], 'dim', 'error')\n",
    "    return ex.line(err, x='time', y='error', color='type', facet_row='dim')"
   ]
  },
  {
   "cell_type": "code",
   "execution_count": null,
   "id": "123527b9-cbfd-401d-844b-9cd9c341d0f4",
   "metadata": {},
   "outputs": [],
   "source": [
    "def _generate_metrics_1(target):\n",
    "    data = []\n",
    "    for Q in [0, .001, .002, .005, .01, .02, .05, .1, .2, .5, 1, 1.5, 2, 2.5, 5, 10, 20]:\n",
    "        run  = _run_many(Q, target)\n",
    "        nees = evaluate_nees(run.many_x_hat[:, 100:, :3, :], run.many_P_hat[:, 100:, :3, :3], run.many_truth[:,101:, :3])\n",
    "        err  = np.linalg.norm(run.many_x_hat[:,100:,:3,0] - run.many_truth[:,101:,:3], axis=2)\n",
    "        \n",
    "        mean_nees = nees.scores.mean(axis=0)\n",
    "        q975_nees = np.quantile(nees.scores, .975, axis=0)\n",
    "    \n",
    "        mean_err = err.mean(axis=0)\n",
    "        q975_err = np.quantile(err, .975, axis=0)\n",
    "    \n",
    "        part = np.asarray((mean_nees, q975_nees, mean_err, q975_err)).T\n",
    "        part = to_df(part, columns=['nees_mean', 'nees_q975', 'err_mean', 'err_q975'])\n",
    "        part['Q'] = str(Q)\n",
    "        \n",
    "        data.append(part)\n",
    "    return pd.concat(data)"
   ]
  },
  {
   "cell_type": "code",
   "execution_count": null,
   "id": "aaed654d-b5c9-4e16-bede-574be59b6474",
   "metadata": {},
   "outputs": [],
   "source": [
    "def _generate_metrics_2(target):\n",
    "    data = []\n",
    "    for Q in [0, .001, .002, .005, .01, .02, .05, .1, .2, .5, 1, 1.5, 2, 2.5, 5, 10, 20]:\n",
    "        run  = _run_many(Q, target)\n",
    "        nees = evaluate_nees(run.many_x_hat[:, 100:, :3, :], run.many_P_hat[:, 100:, :3, :3], run.many_truth[:,101:, :3])\n",
    "        err  = np.linalg.norm(run.many_x_hat[:,100:,:3,0] - run.many_truth[:,101:,:3], axis=2)\n",
    "        \n",
    "        part = np.asarray((nees.scores.reshape(-1), err.reshape(-1))).T\n",
    "        part = to_df(part, columns=['nees', 'err'])\n",
    "        part['Q'] = str(Q)\n",
    "        \n",
    "        data.append(part)\n",
    "    return pd.concat(data)"
   ]
  },
  {
   "cell_type": "markdown",
   "id": "42a64abc-ddec-4f6d-82db-fe57f2187f05",
   "metadata": {},
   "source": [
    "# Target: Nearly Constant Velocity (non-zero noise intensity)"
   ]
  },
  {
   "cell_type": "markdown",
   "id": "8830b3f5-5438-4f0f-95cb-03c50d273d21",
   "metadata": {},
   "source": [
    "Target has noise intensity set to `1`.\n",
    "\n",
    "When the motion model assumes process noise intensity as `0`, its filtered trajectory \"roughly\" follows the target, albeit with a growing absolute error. However, NEES grows without bounds because the filter's estimated covariance matrix converges to zero.\n",
    "\n",
    "When the motion model matches the noise intensity (process Q = `1`), the absolute error remains low. NEES remains within the predicted confidence interval."
   ]
  },
  {
   "cell_type": "code",
   "execution_count": null,
   "id": "ce9afc97-274b-4386-96b4-2fdbcd52f3ff",
   "metadata": {},
   "outputs": [],
   "source": [
    "target = NearConstantVelocityTarget(noise_intensity=1)"
   ]
  },
  {
   "cell_type": "code",
   "execution_count": null,
   "id": "a0584137-f47a-4132-9d56-315862cbadf7",
   "metadata": {},
   "outputs": [],
   "source": [
    "ncv_q0_one = _run_one(0, target)\n",
    "ncv_q1_one = _run_one(1, target)"
   ]
  },
  {
   "cell_type": "code",
   "execution_count": null,
   "id": "85fd4312-4339-4c77-b22b-b3be193dffb3",
   "metadata": {},
   "outputs": [],
   "source": [
    "_columns(plot_3d(ncv_q0_one), plot_3d(ncv_q1_one))"
   ]
  },
  {
   "cell_type": "code",
   "execution_count": null,
   "id": "d16348c3-c1ff-41d1-a9ed-e606ddcd6c2c",
   "metadata": {},
   "outputs": [],
   "source": [
    "_columns(_plot_error_one(ncv_q0_one), _plot_error_one(ncv_q1_one))"
   ]
  },
  {
   "cell_type": "code",
   "execution_count": null,
   "id": "69a07218-7750-4d77-a270-5b721e384b39",
   "metadata": {},
   "outputs": [],
   "source": [
    "_columns(_plot_nees(ncv_q0_one), _plot_nees(ncv_q1_one))"
   ]
  },
  {
   "cell_type": "code",
   "execution_count": null,
   "id": "b898e973-c95c-4d74-8468-d4f726afc6a3",
   "metadata": {},
   "outputs": [],
   "source": [
    "%cache ncv_target1_q0_many = _run_many(0, target, m=400)\n",
    "%cache ncv_target1_q1_many = _run_many(1, target, m=400)"
   ]
  },
  {
   "cell_type": "code",
   "execution_count": null,
   "id": "85eabdab-3d9e-47de-940c-cd513cbe32eb",
   "metadata": {},
   "outputs": [],
   "source": [
    "_columns(_plot_error_many(ncv_target1_q0_many), _plot_error_many(ncv_target1_q1_many))"
   ]
  },
  {
   "cell_type": "code",
   "execution_count": null,
   "id": "88f07e21-9079-4df6-89a3-f29affe8f973",
   "metadata": {},
   "outputs": [],
   "source": [
    "_columns(_plot_nees(ncv_target1_q0_many), _plot_nees(ncv_target1_q1_many))"
   ]
  },
  {
   "cell_type": "code",
   "execution_count": null,
   "id": "4066fb5a-89a4-4bfd-b3b5-9f1c68f3a848",
   "metadata": {
    "tags": []
   },
   "outputs": [],
   "source": [
    "s = evaluate_runner(ncv_target1_q1_many)\n",
    "l, u = nees_ci(ncv_target1_q1_many)\n",
    "\n",
    "np.mean(np.logical_and(l <= s.position_nees.scores.mean(axis=0), s.position_nees.scores.mean(axis=0) <= u))"
   ]
  },
  {
   "cell_type": "code",
   "execution_count": null,
   "id": "a9f504dd-ab62-4feb-a6b9-2dc77d8a0b8d",
   "metadata": {},
   "outputs": [],
   "source": [
    "s = evaluate_runner(ncv_target1_q1_many)\n",
    "\n",
    "fig = go.Figure()\n",
    "for i in range(s.position_nees.scores.shape[0]):\n",
    "    fig.add_trace(go.Scatter(x=np.arange(475), y=s.position_nees.scores[i,25:], mode='lines', legendgroup=i))\n",
    "_show(fig)"
   ]
  },
  {
   "cell_type": "markdown",
   "id": "94cb304f-5d2f-4448-87a6-8e99af77ad56",
   "metadata": {},
   "source": [
    "## What about non-zero but mismatched Q?"
   ]
  },
  {
   "cell_type": "code",
   "execution_count": null,
   "id": "48418db0-9c06-4b93-80ad-314676ac60b4",
   "metadata": {},
   "outputs": [],
   "source": [
    "target = NearConstantVelocityTarget(noise_intensity=2)"
   ]
  },
  {
   "cell_type": "code",
   "execution_count": null,
   "id": "b9033eae-aaee-4af3-8580-951d6fe2d4a8",
   "metadata": {
    "tags": []
   },
   "outputs": [],
   "source": [
    "%cache ncv_target2_q1_many = _run_many(1, target, m=400)\n",
    "%cache ncv_target2_q2_many = _run_many(2, target, m=400)\n",
    "%cache ncv_target2_q3_many = _run_many(3, target, m=400)"
   ]
  },
  {
   "cell_type": "code",
   "execution_count": null,
   "id": "c8cffbd8-0853-44fc-88f5-821588529ffe",
   "metadata": {
    "tags": []
   },
   "outputs": [],
   "source": [
    "_columns(_plot_error_many(ncv_target2_q1_many), _plot_error_many(ncv_target2_q2_many), _plot_error_many(ncv_target2_q3_many))"
   ]
  },
  {
   "cell_type": "code",
   "execution_count": null,
   "id": "4d672552-7fe7-432f-8ad2-ca35610e899f",
   "metadata": {
    "tags": []
   },
   "outputs": [],
   "source": [
    "_columns(_plot_nees(ncv_target2_q1_many), _plot_nees(ncv_target2_q2_many), _plot_nees(ncv_target2_q3_many))"
   ]
  },
  {
   "cell_type": "code",
   "execution_count": null,
   "id": "d998bbf9-75c7-44f7-b2d3-8f17bc598cf2",
   "metadata": {},
   "outputs": [],
   "source": []
  }
 ],
 "metadata": {
  "kernelspec": {
   "display_name": "Python 3 (ipykernel)",
   "language": "python",
   "name": "python3"
  },
  "language_info": {
   "codemirror_mode": {
    "name": "ipython",
    "version": 3
   },
   "file_extension": ".py",
   "mimetype": "text/x-python",
   "name": "python",
   "nbconvert_exporter": "python",
   "pygments_lexer": "ipython3",
   "version": "3.11.7"
  }
 },
 "nbformat": 4,
 "nbformat_minor": 5
}
