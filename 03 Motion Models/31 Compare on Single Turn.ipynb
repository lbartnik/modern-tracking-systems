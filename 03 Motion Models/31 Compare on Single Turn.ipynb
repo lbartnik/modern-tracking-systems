{
 "cells": [
  {
   "cell_type": "code",
   "execution_count": null,
   "id": "ff36becc-1a56-497a-ad43-af4eb3b767af",
   "metadata": {
    "tags": []
   },
   "outputs": [],
   "source": [
    "%load_ext autoreload\n",
    "%autoreload 2"
   ]
  },
  {
   "cell_type": "code",
   "execution_count": null,
   "id": "42168cd0-378c-4c5e-b8af-c49606cc9d92",
   "metadata": {
    "tags": []
   },
   "outputs": [],
   "source": [
    "import os\n",
    "import sys\n",
    "sys.path.append(os.path.realpath('..'))"
   ]
  },
  {
   "cell_type": "code",
   "execution_count": null,
   "id": "2e70af68-967a-4429-8b13-c74429eaddaa",
   "metadata": {
    "tags": []
   },
   "outputs": [],
   "source": [
    "import cache_magic\n",
    "import numpy as np\n",
    "import scipy as sp\n",
    "import pandas as pd\n",
    "import plotly.express as ex\n",
    "import plotly.graph_objects as go\n",
    "import concurrent.futures\n",
    "from copy import deepcopy\n",
    "\n",
    "from tracking_v2.target import ConstantVelocityTarget, SingleTurnTarget\n",
    "from tracking_v2.kalman import LinearKalmanFilter, CoordinatedTurn\n",
    "from tracking_v2.motion import ConstantVelocityModel, ConstantAccelerationModel, SingerAccelerationModel\n",
    "from tracking_v2.sensor import GeometricSensor\n",
    "from tracking_v2.evaluation import Runner, evaluate_nees, plot_error, plot_3d, plot_nees, evaluate_runner\n",
    "\n",
    "from tracking.util import to_df"
   ]
  },
  {
   "cell_type": "code",
   "execution_count": null,
   "id": "71de2364-46f0-4e61-8fa4-c896d3567ac5",
   "metadata": {
    "tags": []
   },
   "outputs": [],
   "source": [
    "def _run_cv(target, sensor, q=1, m=100, n=500):\n",
    "    motion = ConstantVelocityModel(q)\n",
    "    kf = LinearKalmanFilter(motion, [[1, 0, 0, 0, 0, 0],\n",
    "                                     [0, 1, 0, 0, 0, 0],\n",
    "                                     [0, 0, 1, 0, 0, 0]])\n",
    "\n",
    "    r = Runner(target, sensor, kf)\n",
    "    r.run_many(m, n)\n",
    "    return r"
   ]
  },
  {
   "cell_type": "code",
   "execution_count": null,
   "id": "a633320c-77b6-4a00-b38f-fb71b9f75e06",
   "metadata": {
    "tags": []
   },
   "outputs": [],
   "source": [
    "def _run_ca(target, sensor, q=1, m=100, n=500):\n",
    "    motion = ConstantAccelerationModel(q)\n",
    "    kf = LinearKalmanFilter(motion, [[1, 0, 0, 0, 0, 0, 0, 0, 0],\n",
    "                                     [0, 1, 0, 0, 0, 0, 0, 0, 0],\n",
    "                                     [0, 0, 1, 0, 0, 0, 0, 0, 0]])\n",
    "\n",
    "    r = Runner(target, sensor, kf)\n",
    "    r.run_many(m, n)\n",
    "    return r"
   ]
  },
  {
   "cell_type": "code",
   "execution_count": null,
   "id": "24b9d35f-f8bd-40c7-abd6-5cb507b3c778",
   "metadata": {
    "tags": []
   },
   "outputs": [],
   "source": [
    "def _run_ct(target, sensor, q_xyz=1, q_omega=.0001, m=100, n=500):\n",
    "    kf = CoordinatedTurn([q_xyz, q_xyz, q_xyz, q_omega])\n",
    "    r = Runner(target, sensor, kf)\n",
    "    r.run_many(m, n)\n",
    "    return r"
   ]
  },
  {
   "cell_type": "code",
   "execution_count": null,
   "id": "0a633de2-3e79-4879-876d-5554202a2cb4",
   "metadata": {
    "tags": []
   },
   "outputs": [],
   "source": [
    "def _metrics(runner):\n",
    "    nees = evaluate_nees(runner.many_x_hat[:, 100:, :3, :], runner.many_P_hat[:, 100:, :3, :3], runner.truth[101:, :3])\n",
    "    err  = np.linalg.norm(runner.many_x_hat[:,100:,:3,0] - runner.truth[101:,:3], axis=2)\n",
    "    \n",
    "    mean_nees = nees.scores.mean(axis=0)\n",
    "    q975_nees = np.quantile(nees.scores, .975, axis=0)\n",
    "\n",
    "    mean_err = err.mean(axis=0)\n",
    "    q975_err = np.quantile(err, .975, axis=0)\n",
    "\n",
    "    part = np.asarray((mean_nees, q975_nees, mean_err, q975_err)).T\n",
    "    return to_df(part, columns=['nees_mean', 'nees_q975', 'err_mean', 'err_q975'])\n",
    "\n",
    "def _run_models(target):\n",
    "    sensor = GeometricSensor()\n",
    "\n",
    "    data = []\n",
    "    for Q in [0, .001, .01, .1, .5, 1, 1.5, 2, 2.5, 5, 10, 20]:\n",
    "        m = _metrics(_run_cv(target, sensor, Q))\n",
    "        m['Q'] = str(Q)\n",
    "        m['model'] = 'cv'\n",
    "        data.append(m)\n",
    "\n",
    "        m = _metrics(_run_ca(target, sensor, Q))\n",
    "        m['Q'] = str(Q)\n",
    "        m['model'] = 'ca'\n",
    "        data.append(m)\n",
    "\n",
    "        m = _metrics(_run_ct(target, sensor, Q, Q * .0001))\n",
    "        m['Q'] = str(Q)\n",
    "        m['model'] = 'ct'\n",
    "        data.append(m)\n",
    "\n",
    "    return pd.concat(data)"
   ]
  },
  {
   "cell_type": "markdown",
   "id": "6c292089-f14c-4aff-ac43-cb0ef3ea7ea0",
   "metadata": {},
   "source": [
    "# Target: Constant Velocity"
   ]
  },
  {
   "cell_type": "code",
   "execution_count": null,
   "id": "9428b183-37b5-4f51-92b1-a9d5b76a6fb9",
   "metadata": {
    "tags": []
   },
   "outputs": [],
   "source": [
    "%cache cv_data = _run_models(ConstantVelocityTarget())"
   ]
  },
  {
   "cell_type": "code",
   "execution_count": null,
   "id": "4a926107-e034-4135-afda-0258f9908504",
   "metadata": {},
   "outputs": [],
   "source": [
    "fig = ex.box(cv_data.melt(['Q', 'model'], ['nees_mean', 'nees_q975', 'err_mean', 'err_q975'], 'metric', 'value'),\n",
    "             x='Q', y='value', color='metric', facet_row='model')\n",
    "\n",
    "ci = sp.stats.chi2.ppf([0.025, 0.975], 100 * 3) / 100\n",
    "fig.add_hline(y=ci[0], line_width=.5, line_dash=\"dash\", line_color=\"red\")\n",
    "fig.add_hline(y=ci[1], line_width=.5, line_dash=\"dash\", line_color=\"red\")\n",
    "\n",
    "fig.update_layout(height=900, yaxis_range=[-1,20])\n",
    "fig.show()"
   ]
  },
  {
   "cell_type": "markdown",
   "id": "6584b439-b48f-4453-9703-ab9d1950d6d6",
   "metadata": {},
   "source": [
    "# Target: Single Turn"
   ]
  },
  {
   "cell_type": "code",
   "execution_count": null,
   "id": "8b9ab7ca-6ce9-42dd-93cb-e65db1860e4b",
   "metadata": {
    "tags": []
   },
   "outputs": [],
   "source": [
    "%cache st_data = _run_models(SingleTurnTarget())"
   ]
  },
  {
   "cell_type": "code",
   "execution_count": null,
   "id": "b681b46d-6af5-47ba-9ef1-2cdcef2c1ccb",
   "metadata": {
    "tags": []
   },
   "outputs": [],
   "source": [
    "fig = ex.box(st_data.melt(['Q', 'model'], ['nees_mean', 'nees_q975', 'err_mean', 'err_q975'], 'metric', 'value'),\n",
    "             x='Q', y='value', color='metric', facet_row='model')\n",
    "\n",
    "ci = sp.stats.chi2.ppf([0.025, 0.975], 100 * 3) / 100\n",
    "fig.add_hline(y=ci[0], line_width=.5, line_dash=\"dash\", line_color=\"red\")\n",
    "fig.add_hline(y=ci[1], line_width=.5, line_dash=\"dash\", line_color=\"red\")\n",
    "\n",
    "fig.update_layout(height=900, yaxis_range=[-1,20])\n",
    "fig.show()"
   ]
  },
  {
   "cell_type": "code",
   "execution_count": null,
   "id": "d5f798e7-f26a-4f88-860f-9a54b27ab0e8",
   "metadata": {},
   "outputs": [],
   "source": [
    "r = _run_ct(SingleTurnTarget(), GeometricSensor(), 1.5, .00015)"
   ]
  },
  {
   "cell_type": "code",
   "execution_count": null,
   "id": "dab0f7ee-6fc5-448c-a82c-9715f906bac1",
   "metadata": {
    "tags": []
   },
   "outputs": [],
   "source": [
    "plot_nees(evaluate_runner(r).position_nees)"
   ]
  },
  {
   "cell_type": "code",
   "execution_count": null,
   "id": "5a4abe2e-f80a-4242-a5c6-78f24b7dd01e",
   "metadata": {},
   "outputs": [],
   "source": []
  }
 ],
 "metadata": {
  "kernelspec": {
   "display_name": "Python 3 (ipykernel)",
   "language": "python",
   "name": "python3"
  },
  "language_info": {
   "codemirror_mode": {
    "name": "ipython",
    "version": 3
   },
   "file_extension": ".py",
   "mimetype": "text/x-python",
   "name": "python",
   "nbconvert_exporter": "python",
   "pygments_lexer": "ipython3",
   "version": "3.11.7"
  }
 },
 "nbformat": 4,
 "nbformat_minor": 5
}
