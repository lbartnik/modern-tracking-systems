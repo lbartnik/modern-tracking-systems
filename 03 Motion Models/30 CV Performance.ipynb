{
 "cells": [
  {
   "cell_type": "code",
   "execution_count": null,
   "id": "6b68d663-dd4d-4943-a7c4-84a6ad1ebf27",
   "metadata": {
    "tags": []
   },
   "outputs": [],
   "source": [
    "%load_ext autoreload\n",
    "%autoreload 2"
   ]
  },
  {
   "cell_type": "code",
   "execution_count": null,
   "id": "4bd268ca-c2b8-44b2-80cf-6e5e50b14faa",
   "metadata": {
    "tags": []
   },
   "outputs": [],
   "source": [
    "import os\n",
    "import sys\n",
    "sys.path.append(os.path.realpath('..'))"
   ]
  },
  {
   "cell_type": "code",
   "execution_count": null,
   "id": "fb143b62-174b-4c29-8075-3a24a4126757",
   "metadata": {
    "tags": []
   },
   "outputs": [],
   "source": [
    "import cache_magic\n",
    "import numpy as np\n",
    "import scipy as sp\n",
    "import pandas as pd\n",
    "import plotly.express as ex\n",
    "import plotly.graph_objects as go\n",
    "import concurrent.futures\n",
    "from copy import deepcopy\n",
    "\n",
    "from tracking_v2.target import ConstantVelocityTarget, SingleTurnTarget\n",
    "from tracking_v2.kalman import LinearKalmanFilter, CoordinatedTurn\n",
    "from tracking_v2.motion import ConstantVelocityModel, ConstantAccelerationModel, SingerAccelerationModel\n",
    "from tracking_v2.sensor import GeometricSensor\n",
    "from tracking_v2.evaluation import Runner, evaluate_nees, plot_error, plot_3d\n",
    "\n",
    "from tracking.util import to_df"
   ]
  },
  {
   "cell_type": "code",
   "execution_count": null,
   "id": "abab84f6-8514-47f1-b118-1cd85b8ad485",
   "metadata": {
    "tags": []
   },
   "outputs": [],
   "source": [
    "target = SingleTurnTarget()\n",
    "sensor = GeometricSensor()\n",
    "\n",
    "motion = ConstantVelocityModel(.0001)\n",
    "kf = LinearKalmanFilter(motion, [[1, 0, 0, 0, 0, 0],\n",
    "                                 [0, 1, 0, 0, 0, 0],\n",
    "                                 [0, 0, 1, 0, 0, 0]])\n",
    "\n",
    "r = Runner(target, sensor, kf)\n",
    "r.run_many(1, 500)"
   ]
  },
  {
   "cell_type": "code",
   "execution_count": null,
   "id": "3faa2af5-4918-4ce2-91dd-bb1dca7da78d",
   "metadata": {
    "tags": []
   },
   "outputs": [],
   "source": [
    "plot_3d(r)"
   ]
  },
  {
   "cell_type": "code",
   "execution_count": null,
   "id": "d1532f63-2f6e-442f-ba2d-6e29df57fe3a",
   "metadata": {
    "tags": []
   },
   "outputs": [],
   "source": [
    "plot_error(r)"
   ]
  },
  {
   "cell_type": "code",
   "execution_count": null,
   "id": "f0093529-588d-4098-8ff7-db5e4e5ff25b",
   "metadata": {
    "tags": []
   },
   "outputs": [],
   "source": [
    "target = SingleTurnTarget()\n",
    "sensor = GeometricSensor()\n",
    "\n",
    "motion = ConstantVelocityModel(20)\n",
    "kf = LinearKalmanFilter(motion, [[1, 0, 0, 0, 0, 0],\n",
    "                                 [0, 1, 0, 0, 0, 0],\n",
    "                                 [0, 0, 1, 0, 0, 0]])\n",
    "\n",
    "r = Runner(target, sensor, kf)\n",
    "r.run_many(1, 500)"
   ]
  },
  {
   "cell_type": "code",
   "execution_count": null,
   "id": "d07b35ec-9a6d-41a7-a1b2-43ca3e52c7f5",
   "metadata": {
    "tags": []
   },
   "outputs": [],
   "source": [
    "plot_3d(r)"
   ]
  },
  {
   "cell_type": "code",
   "execution_count": null,
   "id": "30c70e48-aa51-47b8-b51e-a4adf09cb3f6",
   "metadata": {
    "tags": []
   },
   "outputs": [],
   "source": [
    "plot_error(r)"
   ]
  },
  {
   "cell_type": "code",
   "execution_count": null,
   "id": "c3570b93-209e-4a1b-badb-233eb63a3440",
   "metadata": {
    "tags": []
   },
   "outputs": [],
   "source": [
    "r = Runner(target, sensor, kf)\n",
    "r.run_many(100, 500)"
   ]
  },
  {
   "cell_type": "code",
   "execution_count": null,
   "id": "1a20ca6d-182f-4005-a98c-3c352782e5e1",
   "metadata": {
    "tags": []
   },
   "outputs": [],
   "source": [
    "np.max(r.many_x_hat[:,:,:3,0] - r.truth[1:,:3], axis=2).max(axis=1).max()"
   ]
  },
  {
   "cell_type": "markdown",
   "id": "143e49bc-f4ab-4419-b1ef-68612148e178",
   "metadata": {},
   "source": [
    "# Accumulation of error"
   ]
  },
  {
   "cell_type": "markdown",
   "id": "3c925d46-5c9e-420c-85da-5ca130ac4ac0",
   "metadata": {},
   "source": [
    "The buildup of Normalized Estimation Error Squared (NEES) in individual runs of a Kalman Filter, despite the mean across multiple runs being statistically consistent with the expected confidence intervals, can be due to several factors:\n",
    "\n",
    "* Model-Data Mismatch: Even when you assume zero process noise, there might be unaccounted-for model inaccuracies or if the initial conditions are not perfectly set. Since the target moves with constant velocity, any small deviation from this assumption due to initial state errors or numerical precision issues might accumulate over time.\n",
    "* Numerical Stability: Numerical issues in implementation, such as round-off errors or the propagation of small errors through the covariance matrix calculations, could lead to an increase in NEES over time. \n",
    "* Statistical Fluctuations: In individual runs, due to the stochastic nature of the noise, you might observe outliers or sequences where errors accumulate before eventually averaging out over many runs."
   ]
  },
  {
   "cell_type": "markdown",
   "id": "9a7f708a-ad9e-4ae0-bba7-6d40cb5bddb9",
   "metadata": {},
   "source": [
    "Here are some considerations and potential solutions or mitigations:\n",
    "\n",
    "* Non-zero Process Noise: Even if the process noise is theoretically zero, introducing a small non-zero process noise can help prevent the covariance from collapsing to zero. This can be justified by acknowledging that no model or system is perfectly deterministic in practice. \n",
    "  * Consider setting a very small but non-zero $Q$ (process noise covariance). This would keep the state covariance from going to zero, maintaining a more stable NEES.\n",
    "* Covariance Inflation: Some approaches involve artificially inflating the covariance matrix to maintain numerical stability and performance. \n",
    "  * Techniques like covariance inflation or adding a small positive definite term to the covariance matrix after each update can be effective.\n",
    "* State Augmentation: If not already done, you might augment your state to include additional parameters (like acceleration, even if you believe they should be zero) with some small variance, allowing for slight model mismatches or biases.\n",
    "* Reset or Reinitialization: Periodically resetting or reinitializing the covariance might be considered if the filter's confidence becomes too high, but this must be done cautiously to not discard valuable information.\n",
    "* Adaptive Filtering: Implement adaptive methods where the process noise or measurement noise covariance can be adjusted based on the observed performance of the filter. This can help in scenarios where the model might not perfectly capture the dynamics.\n",
    "\n",
    "Literature on Filter Degeneracy: \n",
    "\n",
    "* Look into papers or books discussing \"filter degeneracy\" or \"covariance collapse\" in Kalman filtering. These often provide methods like those above or discuss the theoretical implications of zero process noise, e.g.:\n",
    "  * \"Stochastic Models, Estimation and Control\" by Peter S. Maybeck, Volume 2, particularly the sections on adaptive filtering.\n",
    "  * \"Adaptive Filtering: Algorithms and Practical Implementation\" by Paulo S.R. Diniz for insights into adaptive approaches that might be applicable.\n",
    "\n",
    "Remember, in practical scenarios, even if the target moves with constant velocity, small unmodeled effects or measurement errors can accumulate, making zero process noise an idealized assumption. Addressing these issues might require a balance between theoretical fidelity and practical robustness."
   ]
  },
  {
   "cell_type": "code",
   "execution_count": null,
   "id": "e0d3f64f-7da1-47c4-8c78-06e1bcfd1947",
   "metadata": {
    "tags": []
   },
   "outputs": [],
   "source": [
    "class MyRunner(Runner):\n",
    "    x_trace = []\n",
    "    i = 0\n",
    "    \n",
    "    def after_initialize(self):\n",
    "        self.kf.x_hat[3,0] = 30\n",
    "        pass\n",
    "    \n",
    "    def after_update(self, m):\n",
    "        self.x_trace.append((self.i, self.kf.x_hat[0, 0], self.kf.x_hat[3, 0], m.error[0, 0]))\n",
    "        self.i += 1\n",
    "        \n",
    "        # inflate covariance\n",
    "        self.kf.P_hat += np.eye(6) * .0001\n",
    "\n",
    "def _drift(q):\n",
    "    target = ConstantVelocityTarget()\n",
    "    motion = ConstantVelocityModel(q)\n",
    "    kf = LinearKalmanFilter(motion, [[1, 0, 0, 0, 0, 0],\n",
    "                                     [0, 1, 0, 0, 0, 0],\n",
    "                                     [0, 0, 1, 0, 0, 0]])\n",
    "\n",
    "    sensor = GeometricSensor(seed=8)\n",
    "    r = MyRunner(target, sensor, kf)\n",
    "    r.run_many(1, 500)\n",
    "    return r\n",
    "\n",
    "r = _drift(0)"
   ]
  },
  {
   "cell_type": "code",
   "execution_count": null,
   "id": "e7f881ea-eff0-48ea-9b82-073531745a11",
   "metadata": {
    "tags": []
   },
   "outputs": [],
   "source": [
    "def _plot_position_error(runner):\n",
    "    tm  = np.arange(runner.n-100).reshape((runner.n-100, -1))\n",
    "    err = np.hstack((tm, np.abs(runner.one_x_hat[100:,:3,0] - runner.truth[101:,:3])))\n",
    "    err = to_df(err, columns=['time', 'x', 'y', 'z']).melt(['time'], ['x', 'y', 'z'], 'dim', 'error')\n",
    "    return ex.line(err, x='time', y='error', facet_row='dim')\n",
    "\n",
    "_plot_position_error(r)"
   ]
  },
  {
   "cell_type": "code",
   "execution_count": null,
   "id": "1d2ccc60-ca77-49e9-8bd9-1c3aad0c33e6",
   "metadata": {
    "tags": []
   },
   "outputs": [],
   "source": [
    "def _plot_velocity_error(runner, skip=100):\n",
    "    tm  = np.arange(runner.n-skip).reshape((runner.n-skip, -1))\n",
    "    err = np.hstack((tm, np.abs(runner.one_x_hat[skip:,3:6,0] - runner.truth[(skip+1):,3:6])))\n",
    "    err = to_df(err, columns=['time', 'x', 'y', 'z']).melt(['time'], ['x', 'y', 'z'], 'dim', 'error')\n",
    "    return ex.line(err, x='time', y='error', facet_row='dim')\n",
    "\n",
    "_plot_velocity_error(r, 0)"
   ]
  },
  {
   "cell_type": "code",
   "execution_count": null,
   "id": "6245173e-6660-453c-b05c-97aef4db1002",
   "metadata": {
    "tags": []
   },
   "outputs": [],
   "source": [
    "def _plot_position_nees(runner):\n",
    "    nees = evaluate_nees(runner.one_x_hat[:, :3, :], runner.one_P_hat[:, :3, :3], runner.truth[1:, :3])\n",
    "    err = np.asarray((np.arange(runner.n-100), nees.scores[100:])).T\n",
    "    err = to_df(err, columns=['time', 'nees'])\n",
    "    fig = ex.line(err, x='time', y='nees')\n",
    "    \n",
    "    ci = sp.stats.chi2.ppf([0.025, 0.975], nees.dim)\n",
    "    fig.add_hline(y=ci[0], line_width=.5, line_dash=\"dash\", line_color=\"red\")\n",
    "    fig.add_hline(y=ci[1], line_width=.5, line_dash=\"dash\", line_color=\"red\")\n",
    "\n",
    "    return fig\n",
    "\n",
    "_plot_position_nees(r)"
   ]
  },
  {
   "cell_type": "code",
   "execution_count": null,
   "id": "6b768552-6992-460c-9f7f-58d544a99818",
   "metadata": {
    "tags": []
   },
   "outputs": [],
   "source": [
    "d = np.array(r.x_trace)\n",
    "d[:, 1] -= r.truth[1:, 0]\n",
    "\n",
    "d = to_df(d, columns=['time', 'x', 'v', 'me'])"
   ]
  },
  {
   "cell_type": "code",
   "execution_count": null,
   "id": "d4dbd520-207c-40b2-87e1-273ebcc5aec1",
   "metadata": {
    "tags": []
   },
   "outputs": [],
   "source": [
    "ex.scatter(d.melt(['time'], ['x', 'v', 'me'], 'dim', 'value'), x='time', y='value', color='dim')"
   ]
  },
  {
   "cell_type": "code",
   "execution_count": null,
   "id": "ab4d7abe-ab26-4378-95a0-c2a69d130584",
   "metadata": {},
   "outputs": [],
   "source": []
  }
 ],
 "metadata": {
  "kernelspec": {
   "display_name": "Python 3 (ipykernel)",
   "language": "python",
   "name": "python3"
  },
  "language_info": {
   "codemirror_mode": {
    "name": "ipython",
    "version": 3
   },
   "file_extension": ".py",
   "mimetype": "text/x-python",
   "name": "python",
   "nbconvert_exporter": "python",
   "pygments_lexer": "ipython3",
   "version": "3.11.5"
  }
 },
 "nbformat": 4,
 "nbformat_minor": 5
}
