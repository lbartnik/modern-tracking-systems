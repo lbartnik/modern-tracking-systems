{
 "cells": [
  {
   "cell_type": "code",
   "execution_count": 1,
   "id": "051126f4-6c12-43de-b2d6-e85ab8b11f40",
   "metadata": {
    "tags": []
   },
   "outputs": [],
   "source": [
    "%load_ext autoreload\n",
    "%autoreload 2"
   ]
  },
  {
   "cell_type": "code",
   "execution_count": 2,
   "id": "b7dbddba-0671-4356-85a1-dc469eb11440",
   "metadata": {
    "tags": []
   },
   "outputs": [],
   "source": [
    "import os\n",
    "import sys\n",
    "sys.path.append(os.path.realpath('..'))"
   ]
  },
  {
   "cell_type": "code",
   "execution_count": 3,
   "id": "883cfe14-ceff-4252-a452-0a744c15b889",
   "metadata": {
    "tags": []
   },
   "outputs": [],
   "source": [
    "import textwrap\n",
    "\n",
    "import numpy as np\n",
    "import pandas as pd\n",
    "from scipy.stats import chi2\n",
    "\n",
    "import plotly.express as ex\n",
    "import plotly.graph_objects as go"
   ]
  },
  {
   "cell_type": "code",
   "execution_count": 4,
   "id": "669a2e4f-10ca-4a7d-a3c0-b4f4bd3c672b",
   "metadata": {
    "tags": []
   },
   "outputs": [],
   "source": [
    "from tracking_v2.sensor import GeometricSensor\n",
    "from tracking_v2.target import SingleTurnTarget, ConstantVelocityTarget\n",
    "from tracking_v2.motion import ConstantVelocityModel\n",
    "from tracking_v2.np import as_column\n",
    "from tracking.util import to_df"
   ]
  },
  {
   "cell_type": "code",
   "execution_count": 5,
   "id": "29d031b9-6340-4d31-a5c8-2a09eb0bd548",
   "metadata": {
    "tags": []
   },
   "outputs": [],
   "source": [
    "class SensorMeasurement:\n",
    "    def __init__(self, orientation, z, R):\n",
    "        self.orientation = np.asarray(orientation)\n",
    "        self.z           = np.asarray(z)\n",
    "        self.R           = np.asarray(R)\n",
    "\n",
    "\n",
    "class GeometricInformationSensor:\n",
    "    \"\"\"Omni-directional sensor located in (0,0,0), pointing East. Produces a rotation\n",
    "    matrix into the measurement frame (frame centered on the ray), a detection\n",
    "    (range, 0, 0) and the inverse of the measurement noise matrix, R^-1\"\"\"\n",
    "    \n",
    "    def __init__(self, R, seed=0):\n",
    "        self.R = np.array(R)\n",
    "        self.R_inv = np.linalg.inv(R)\n",
    "        self.rng = np.random.default_rng(seed=seed)\n",
    "    \n",
    "    def generate_measurement(self, t: float, target):\n",
    "        if isinstance(target, list) or isinstance(target, np.ndarray):\n",
    "            position = np.asarray(target)\n",
    "        else:\n",
    "            position = target.true_state(t)\n",
    "            \n",
    "        measurement = self.rng.multivariate_normal(position.squeeze()[:3], self.R, size=1)\n",
    "        return SensorMeasurement(None, measurement, self.R)\n",
    "\n",
    "\n",
    "class RadarInformationSensor:\n",
    "    \"\"\"Omni-directional sensor located in (0,0,0), pointing East. Produces a rotation\n",
    "    matrix into the measurement frame (frame centered on the ray), a detection\n",
    "    (range, 0, 0) and the inverse of the measurement noise matrix, R^-1\"\"\"\n",
    "    \n",
    "    def __init__(self, R, seed=0):\n",
    "        self.R = np.array(R)\n",
    "        self.R_inv = np.linalg.inv(R)\n",
    "        self.rng = np.random.default_rng(seed=seed)\n",
    "    \n",
    "    def generate_measurement(self, t: float, target):\n",
    "        if isinstance(target, list) or isinstance(target, np.ndarray):\n",
    "            position = np.asarray(target)\n",
    "        else:\n",
    "            position = target.true_state(t)\n",
    "            \n",
    "        measurement = self.rng.multivariate_normal(position.squeeze()[:3], self.R, size=1)\n",
    "        \n",
    "        x, y, z = measurement.squeeze()\n",
    "        xy = np.sqrt(x*x + y*y)\n",
    "        xyz = np.linalg.norm(measurement)\n",
    "\n",
    "        sin_alpha = y/xy\n",
    "        cos_alpha = np.sqrt(1 - sin_alpha*sin_alpha)\n",
    "        \n",
    "        sin_beta = z/xyz\n",
    "        cos_beta = np.sqrt(1 - sin_beta*sin_beta)\n",
    "        \n",
    "        Ry = np.array([[ cos_beta, 0, sin_beta],\n",
    "                       [ 0,        1, 0       ],\n",
    "                       [-sin_beta, 0, cos_beta]])\n",
    "        Rz = np.array([[cos_alpha, -sin_alpha, 0],\n",
    "                       [sin_alpha,  cos_alpha, 0],\n",
    "                       [0,          0,         1]])\n",
    "        \n",
    "        return SensorMeasurement(Ry @ Rz, (xyz, 0, 0), self.R)"
   ]
  },
  {
   "cell_type": "code",
   "execution_count": 33,
   "id": "a2591907-e6eb-4ee9-b040-8c4088105df1",
   "metadata": {},
   "outputs": [],
   "source": [
    "class InformationFilter:\n",
    "    def __init__(self, H, motion_model):\n",
    "        self.state_dim = 6\n",
    "        \n",
    "        self.y_hat = as_column(np.zeros(6)) # P^-1 @ x_hat\n",
    "        self.Y_hat = np.eye(6)   # P^-1\n",
    "        \n",
    "        self.H     = np.atleast_2d(H)\n",
    "        self.motion_model = motion_model\n",
    "\n",
    "        assert motion_model.state_dim == self.state_dim\n",
    "        assert motion_model.state_dim == self.H.shape[1]\n",
    "\n",
    "    def initialize(self, x, P):\n",
    "        P_inv = np.linalg.inv(P)\n",
    "        r, c = P_inv.shape\n",
    "        self.Y_hat[:r, :c] = P_inv\n",
    "\n",
    "        x = np.asarray(x).squeeze()\n",
    "        x = np.pad(x, (0, self.state_dim - len(x)), constant_values=[0])\n",
    "        self.y_hat = self.Y_hat @ as_column(x)\n",
    "\n",
    "    def predict(self, dt):\n",
    "        # https://en.wikipedia.org/wiki/Kalman_filter#Information_filter\n",
    "        F = self.motion_model.F(dt)\n",
    "        F_inv = np.linalg.inv(F)\n",
    "\n",
    "        Q = self.motion_model.Q(dt)\n",
    "        Q_inv = np.linalg.inv(Q)\n",
    "\n",
    "        M = F_inv.T @ self.Y_hat @ F_inv\n",
    "\n",
    "        self.Y_hat = np.linalg.inv(np.eye(self.state_dim) + M @ Q) @ M\n",
    "        self.y_hat = np.linalg.inv(np.eye(self.state_dim) + M @ Q) @ F_inv.T @ self.y_hat\n",
    "\n",
    "    def update(self, orientation, z, R):\n",
    "        if orientation is not None:\n",
    "            raise Exception(\"orientation not supported\")\n",
    "\n",
    "        R_inv = np.linalg.inv(R)\n",
    "        I = self.H.T @ R_inv @ self.H\n",
    "        i = self.H.T @ R_inv @ as_column(z)\n",
    "\n",
    "        self.Y_hat += I\n",
    "        self.y_hat += i\n",
    "\n",
    "        if orientation is not None:\n",
    "            raise Exception(\"orientation not supported\")\n",
    "\n",
    "    @property\n",
    "    def P_hat(self):\n",
    "        return np.linalg.inv(self.Y_hat)\n",
    "\n",
    "    @property\n",
    "    def x_hat(self):\n",
    "        return self.P_hat @ self.y_hat"
   ]
  },
  {
   "cell_type": "code",
   "execution_count": 34,
   "id": "e846d305-334d-4ef7-9556-6309e3742ba9",
   "metadata": {},
   "outputs": [],
   "source": [
    "#target = SingleTurnTarget(30, 1, [-1000, -1000, 100])\n",
    "\n",
    "target = ConstantVelocityTarget()\n",
    "sensor = GeometricInformationSensor(np.diag([10, 10, 10]))"
   ]
  },
  {
   "cell_type": "code",
   "execution_count": 35,
   "id": "a3d6068c-e563-4460-a8cb-ff39623d3e1d",
   "metadata": {},
   "outputs": [],
   "source": [
    "inf_flt = InformationFilter([[1, 0, 0, 0, 0, 0],\n",
    "                             [0, 1, 0, 0, 0, 0],\n",
    "                             [0, 0, 1, 0, 0, 0]],\n",
    "                            ConstantVelocityModel())\n",
    "\n",
    "T = 1\n",
    "t = 0\n",
    "\n",
    "m = sensor.generate_measurement(t, target)\n",
    "inf_flt.initialize(m.z, m.R)"
   ]
  },
  {
   "cell_type": "code",
   "execution_count": 58,
   "id": "fab72519-108d-4555-a095-cca713f68ab2",
   "metadata": {},
   "outputs": [
    {
     "name": "stdout",
     "output_type": "stream",
     "text": [
      "[[ 6.93009937e+02  2.42531283e+00  1.23282970e+00  3.11254418e+01\n",
      "   9.75616868e-01 -2.28686472e-02]]\n",
      "[[6.87536702e+02 1.18521101e+00 1.74250834e+00 2.90053185e+01\n",
      "  4.95248475e-01 1.74561520e-01]]\n"
     ]
    }
   ],
   "source": [
    "t += T\n",
    "\n",
    "inf_flt.predict(T)\n",
    "print(inf_flt.x_hat.T)\n",
    "\n",
    "m = sensor.generate_measurement(t, target)\n",
    "inf_flt.update(None, m.z, m.R)\n",
    "\n",
    "print(inf_flt.x_hat.T)"
   ]
  },
  {
   "cell_type": "code",
   "execution_count": null,
   "id": "620f032c-4e6a-4a0a-88b4-438e2b036507",
   "metadata": {},
   "outputs": [],
   "source": []
  }
 ],
 "metadata": {
  "kernelspec": {
   "display_name": "Python 3 (ipykernel)",
   "language": "python",
   "name": "python3"
  },
  "language_info": {
   "codemirror_mode": {
    "name": "ipython",
    "version": 3
   },
   "file_extension": ".py",
   "mimetype": "text/x-python",
   "name": "python",
   "nbconvert_exporter": "python",
   "pygments_lexer": "ipython3",
   "version": "3.11.7"
  }
 },
 "nbformat": 4,
 "nbformat_minor": 5
}
