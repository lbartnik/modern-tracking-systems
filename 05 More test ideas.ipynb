{
 "cells": [
  {
   "cell_type": "markdown",
   "id": "3cc0766e-c26b-40ee-a1f4-4659a9b59318",
   "metadata": {},
   "source": [
    "## TODO\n",
    "\n",
    "* reprot predicted KF position, not the KF position updated with $z$"
   ]
  },
  {
   "cell_type": "markdown",
   "id": "2bddb440-0ce5-4bba-a5d1-43bbc955a692",
   "metadata": {},
   "source": [
    "## Further tests\n",
    "\n",
    "1. Realistic $\\sigma_z$ with realistic target distances, Cartesian detections (true position + noise)\n",
    "2. As above, but simulate radar detections (normal noise in RBE Rdot)\n",
    "3. Constant velocity model\n",
    "4. Various ways in which the true and assumed $\\sigma_z$ differ (e.g. $\\frac{\\sigma_z}{\\hat{\\sigma}_z}$ is much lower, close or much higher than 1)"
   ]
  },
  {
   "cell_type": "markdown",
   "id": "01fe934c-d8db-4597-933c-e0a46d696385",
   "metadata": {},
   "source": [
    "## Observations\n",
    "\n",
    "* mismatch between applied $\\sigma_z$ and the $R$ matrix as defined in Kalman filter affects the quality of tracking\n",
    "* acceleration: adding acceleration to state gives KF the ability to model the $\\hat{x} - z$ discrepancy also as in part a result of the acceleration; if the velocity is in fact changing over time in a consistent manner, this gives KF the ability to better predict the next state and minimize the prediction error"
   ]
  },
  {
   "cell_type": "code",
   "execution_count": null,
   "id": "17bafb6e-36f4-4918-9751-ecd39425b207",
   "metadata": {},
   "outputs": [],
   "source": []
  }
 ],
 "metadata": {
  "kernelspec": {
   "display_name": "Python 3 (ipykernel)",
   "language": "python",
   "name": "python3"
  },
  "language_info": {
   "codemirror_mode": {
    "name": "ipython",
    "version": 3
   },
   "file_extension": ".py",
   "mimetype": "text/x-python",
   "name": "python",
   "nbconvert_exporter": "python",
   "pygments_lexer": "ipython3",
   "version": "3.11.7"
  }
 },
 "nbformat": 4,
 "nbformat_minor": 5
}
