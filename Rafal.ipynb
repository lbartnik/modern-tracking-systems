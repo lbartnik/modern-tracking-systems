{
 "cells": [
  {
   "cell_type": "code",
   "execution_count": 1,
   "id": "3dcaa5ea-eb44-4514-9196-c80be623cc7a",
   "metadata": {},
   "outputs": [],
   "source": [
    "import numpy as np"
   ]
  },
  {
   "cell_type": "code",
   "execution_count": 7,
   "id": "022633e7-d71d-41ae-94e9-bb4128ed5459",
   "metadata": {},
   "outputs": [
    {
     "data": {
      "text/plain": [
       "3.5892857142857144"
      ]
     },
     "execution_count": 7,
     "metadata": {},
     "output_type": "execute_result"
    }
   ],
   "source": [
    "liczby = \"46141355554632145635621433345434532222451414624235523455\"\n",
    "\n",
    "\n",
    "sum([int(x) for x in liczby]) / len(liczby)"
   ]
  },
  {
   "cell_type": "code",
   "execution_count": 8,
   "id": "808500b9-c1ab-44f8-a233-4c64c261d570",
   "metadata": {},
   "outputs": [
    {
     "data": {
      "text/plain": [
       "0"
      ]
     },
     "execution_count": 8,
     "metadata": {},
     "output_type": "execute_result"
    }
   ],
   "source": [
    "42-42"
   ]
  },
  {
   "cell_type": "code",
   "execution_count": 9,
   "id": "889df29e-3397-4c30-b965-93e0f2082710",
   "metadata": {},
   "outputs": [
    {
     "data": {
      "text/plain": [
       "47"
      ]
     },
     "execution_count": 9,
     "metadata": {},
     "output_type": "execute_result"
    }
   ],
   "source": [
    "26+21"
   ]
  },
  {
   "cell_type": "code",
   "execution_count": 10,
   "id": "9a813f0d-3c91-4b1f-a49b-2839fd08a657",
   "metadata": {},
   "outputs": [
    {
     "data": {
      "text/plain": [
       "187"
      ]
     },
     "execution_count": 10,
     "metadata": {},
     "output_type": "execute_result"
    }
   ],
   "source": [
    "99+88"
   ]
  },
  {
   "cell_type": "code",
   "execution_count": 11,
   "id": "f758b3d8-f6ca-47f1-a4be-024367ecd535",
   "metadata": {},
   "outputs": [
    {
     "data": {
      "text/plain": [
       "10911"
      ]
     },
     "execution_count": 11,
     "metadata": {},
     "output_type": "execute_result"
    }
   ],
   "source": [
    "923+9988"
   ]
  },
  {
   "cell_type": "code",
   "execution_count": 24,
   "id": "7b4c1b0b-ef81-475e-8d6b-12aa124202b6",
   "metadata": {},
   "outputs": [
    {
     "data": {
      "text/plain": [
       "4.0"
      ]
     },
     "execution_count": 24,
     "metadata": {},
     "output_type": "execute_result"
    }
   ],
   "source": [
    "(6+3+3)/3"
   ]
  },
  {
   "cell_type": "code",
   "execution_count": 26,
   "id": "0cc054ea-0ea3-4970-9013-4301bda64aaa",
   "metadata": {},
   "outputs": [
    {
     "data": {
      "text/plain": [
       "4.5"
      ]
     },
     "execution_count": 26,
     "metadata": {},
     "output_type": "execute_result"
    }
   ],
   "source": [
    "(5+4)/2"
   ]
  }
 ],
 "metadata": {
  "kernelspec": {
   "display_name": "Python 3 (ipykernel)",
   "language": "python",
   "name": "python3"
  },
  "language_info": {
   "codemirror_mode": {
    "name": "ipython",
    "version": 3
   },
   "file_extension": ".py",
   "mimetype": "text/x-python",
   "name": "python",
   "nbconvert_exporter": "python",
   "pygments_lexer": "ipython3",
   "version": "3.11.7"
  }
 },
 "nbformat": 4,
 "nbformat_minor": 5
}
