{
 "cells": [
  {
   "cell_type": "markdown",
   "id": "8ff75a99-2b28-4cb7-9d0b-d9636c48f956",
   "metadata": {},
   "source": [
    "repeat analysis from 01 but for Autopilot Target"
   ]
  },
  {
   "cell_type": "code",
   "execution_count": null,
   "id": "4afa9d40-7275-4d50-8c11-8cace9f153af",
   "metadata": {},
   "outputs": [],
   "source": []
  }
 ],
 "metadata": {
  "kernelspec": {
   "display_name": "Python 3 (ipykernel)",
   "language": "python",
   "name": "python3"
  },
  "language_info": {
   "codemirror_mode": {
    "name": "ipython",
    "version": 3
   },
   "file_extension": ".py",
   "mimetype": "text/x-python",
   "name": "python",
   "nbconvert_exporter": "python",
   "pygments_lexer": "ipython3",
   "version": "3.11.7"
  }
 },
 "nbformat": 4,
 "nbformat_minor": 5
}
