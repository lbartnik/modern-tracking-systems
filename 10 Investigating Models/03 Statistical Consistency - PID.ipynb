{
 "cells": [
  {
   "cell_type": "markdown",
   "id": "f3cfbdd2-7c55-4a93-9c19-64f099dcc9fe",
   "metadata": {},
   "source": [
    "repeat the same analysis but for a simulator which includes PID attitude stabilization\n",
    "\n",
    "position and velocity PID could run at 10 Hz, while attitude PID could run at 50 Hz"
   ]
  },
  {
   "cell_type": "code",
   "execution_count": null,
   "id": "d544ea2c-e91b-410c-9bac-819487f96cbf",
   "metadata": {},
   "outputs": [],
   "source": []
  }
 ],
 "metadata": {
  "kernelspec": {
   "display_name": "Python 3 (ipykernel)",
   "language": "python",
   "name": "python3"
  },
  "language_info": {
   "codemirror_mode": {
    "name": "ipython",
    "version": 3
   },
   "file_extension": ".py",
   "mimetype": "text/x-python",
   "name": "python",
   "nbconvert_exporter": "python",
   "pygments_lexer": "ipython3",
   "version": "3.11.7"
  }
 },
 "nbformat": 4,
 "nbformat_minor": 5
}
