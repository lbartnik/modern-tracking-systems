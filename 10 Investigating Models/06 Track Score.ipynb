{
 "cells": [
  {
   "cell_type": "code",
   "execution_count": 1,
   "id": "1e337f81-c25c-4be0-9ee7-2a62bad05eb8",
   "metadata": {
    "tags": []
   },
   "outputs": [],
   "source": [
    "%load_ext autoreload\n",
    "%autoreload 2\n",
    "\n",
    "import os\n",
    "import sys\n",
    "sys.path.append(os.path.realpath('..'))"
   ]
  },
  {
   "cell_type": "code",
   "execution_count": 2,
   "id": "e1e70439-3d27-4036-b009-711a645cae8a",
   "metadata": {
    "tags": []
   },
   "outputs": [],
   "source": [
    "import numpy as np\n",
    "import scipy as sp\n",
    "import pandas as pd\n",
    "import plotly.express as ex\n",
    "import plotly.graph_objects as go\n",
    "\n",
    "from copy import deepcopy\n",
    "\n",
    "import tracking_v2.callback as cb\n",
    "from tracking_v2.target import NearConstantVelocityTarget\n",
    "from tracking_v2.tracker import MultiTargetTracker\n",
    "from tracking_v2.kalman import linear_ncv\n",
    "from tracking_v2.sensor import GeometricSensor\n",
    "from tracking_v2.evaluation import TrackerRunner\n",
    "import tracking_v2.evaluation.runner as runner\n",
    "\n",
    "from tracking_v2.util import to_df, display"
   ]
  },
  {
   "cell_type": "code",
   "execution_count": 3,
   "id": "23a37b58-bd75-435a-807e-d64420c639e9",
   "metadata": {
    "tags": []
   },
   "outputs": [],
   "source": [
    "display.as_png = False"
   ]
  },
  {
   "cell_type": "code",
   "execution_count": 11,
   "id": "6837b4c9-ec48-4ec5-88c5-73093ada54ec",
   "metadata": {
    "tags": []
   },
   "outputs": [],
   "source": [
    "class MyCallback:\n",
    "    @cb.mht_decisions\n",
    "    def mht_decisions(self, tracker, decisions):\n",
    "        print([f\"{d[0]}: {d[1]}\" for d in decisions])\n",
    "        pass\n",
    "    \n",
    "    @cb.associated_to_track\n",
    "    def associated_to_track(self, tracker, llr, track, measurement):\n",
    "        print('track updated', track.track_id, llr)\n",
    "\n",
    "    @cb.initialized_new_track\n",
    "    def initialized_new_track(self, tracker, llr, track, measurement0, measurement1):\n",
    "        print('track initialized', track.track_id, llr)\n",
    "\n",
    "    @cb.measurement_not_associated\n",
    "    def measurement_not_associated(self, tracker, llr, measurement):\n",
    "        #print('measurement_not_associated')\n",
    "        pass\n",
    "\n",
    "    @cb.track_not_updated\n",
    "    def track_not_updated(self, tracker, llr, track):\n",
    "        #print('track_not_updated')\n",
    "        pass"
   ]
  },
  {
   "cell_type": "code",
   "execution_count": 12,
   "id": "8013635a-6510-4c96-a48e-e9d31c504920",
   "metadata": {
    "tags": []
   },
   "outputs": [],
   "source": [
    "target = NearConstantVelocityTarget()\n",
    "sensor = GeometricSensor()\n",
    "\n",
    "mtt = MultiTargetTracker()\n",
    "runner = TrackerRunner([target], [sensor], mtt)\n",
    "runner.callbacks.append(MyCallback())"
   ]
  },
  {
   "cell_type": "code",
   "execution_count": 13,
   "id": "b2eab6d1-043f-4635-9237-7e3cc145ff71",
   "metadata": {
    "tags": []
   },
   "outputs": [
    {
     "name": "stdout",
     "output_type": "stream",
     "text": [
      "['measurement_not_associated: 218.74558383443434']\n",
      "['initialize_new_track: 434.60140624346457', 'measurement_not_associated: 218.74558383443434']\n",
      "track initialized 1 434.60140624346457\n",
      "['associate_to_track: 534.2658887074845', 'track_not_updated: 434.60140624346457', 'measurement_not_associated: 218.74558383443434']\n",
      "track updated 1 534.2658887074845\n",
      "['associate_to_track: 720.0575261029851', 'track_not_updated: 534.2658887074845', 'measurement_not_associated: 218.74558383443434']\n",
      "track updated 1 720.0575261029851\n",
      "['associate_to_track: 911.5846923238271', 'track_not_updated: 720.0575261029851', 'measurement_not_associated: 218.74558383443434']\n",
      "track updated 1 911.5846923238271\n",
      "['associate_to_track: 1104.0550923351882', 'track_not_updated: 911.5846923238271', 'measurement_not_associated: 218.74558383443434']\n",
      "track updated 1 1104.0550923351882\n",
      "['associate_to_track: 1295.439024622281', 'track_not_updated: 1104.0550923351882', 'measurement_not_associated: 218.74558383443434']\n",
      "track updated 1 1295.439024622281\n",
      "['associate_to_track: 1486.823781676114', 'track_not_updated: 1295.439024622281', 'measurement_not_associated: 218.74558383443434']\n",
      "track updated 1 1486.823781676114\n",
      "['associate_to_track: 1679.5522708422018', 'track_not_updated: 1486.823781676114', 'measurement_not_associated: 218.74558383443434']\n",
      "track updated 1 1679.5522708422018\n",
      "['associate_to_track: 1869.4809494418246', 'track_not_updated: 1679.5522708422018', 'measurement_not_associated: 218.74558383443434']\n",
      "track updated 1 1869.4809494418246\n",
      "['associate_to_track: 2059.9265409135483', 'track_not_updated: 1869.4809494418246', 'measurement_not_associated: 218.74558383443434']\n",
      "track updated 1 2059.9265409135483\n",
      "['associate_to_track: 2251.326443367283', 'track_not_updated: 2059.9265409135483', 'measurement_not_associated: 218.74558383443434']\n",
      "track updated 1 2251.326443367283\n",
      "['associate_to_track: 2442.9990115879996', 'track_not_updated: 2251.326443367283', 'measurement_not_associated: 218.74558383443434']\n",
      "track updated 1 2442.9990115879996\n",
      "['associate_to_track: 2635.075305085116', 'track_not_updated: 2442.9990115879996', 'measurement_not_associated: 218.74558383443434']\n",
      "track updated 1 2635.075305085116\n",
      "['associate_to_track: 2827.742431141127', 'track_not_updated: 2635.075305085116', 'measurement_not_associated: 218.74558383443434']\n",
      "track updated 1 2827.742431141127\n"
     ]
    }
   ],
   "source": [
    "mtt.reset()\n",
    "runner.run_one(15, 1)"
   ]
  },
  {
   "cell_type": "code",
   "execution_count": 11,
   "id": "0b13876a-d689-4f85-b0be-9f437d9036a9",
   "metadata": {
    "tags": []
   },
   "outputs": [
    {
     "ename": "AttributeError",
     "evalue": "'TrackerRunner' object has no attribute 'callback'",
     "output_type": "error",
     "traceback": [
      "\u001b[0;31m---------------------------------------------------------------------------\u001b[0m",
      "\u001b[0;31mAttributeError\u001b[0m                            Traceback (most recent call last)",
      "Cell \u001b[0;32mIn[11], line 1\u001b[0m\n\u001b[0;32m----> 1\u001b[0m runner\u001b[38;5;241m.\u001b[39mcallback\u001b[38;5;241m.\u001b[39mone_x_hat\n",
      "\u001b[0;31mAttributeError\u001b[0m: 'TrackerRunner' object has no attribute 'callback'"
     ]
    }
   ],
   "source": [
    "runner.callback.one_x_hat"
   ]
  },
  {
   "cell_type": "code",
   "execution_count": null,
   "id": "38fcddf4-7813-4997-9b32-c76b5adaf4e9",
   "metadata": {},
   "outputs": [],
   "source": []
  }
 ],
 "metadata": {
  "kernelspec": {
   "display_name": "Python 3 (ipykernel)",
   "language": "python",
   "name": "python3"
  },
  "language_info": {
   "codemirror_mode": {
    "name": "ipython",
    "version": 3
   },
   "file_extension": ".py",
   "mimetype": "text/x-python",
   "name": "python",
   "nbconvert_exporter": "python",
   "pygments_lexer": "ipython3",
   "version": "3.11.5"
  }
 },
 "nbformat": 4,
 "nbformat_minor": 5
}
