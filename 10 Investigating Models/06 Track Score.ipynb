{
 "cells": [
  {
   "cell_type": "code",
   "execution_count": 1,
   "id": "1e337f81-c25c-4be0-9ee7-2a62bad05eb8",
   "metadata": {
    "tags": []
   },
   "outputs": [],
   "source": [
    "%load_ext autoreload\n",
    "%autoreload 2\n",
    "\n",
    "import os\n",
    "import sys\n",
    "sys.path.append(os.path.realpath('..'))"
   ]
  },
  {
   "cell_type": "code",
   "execution_count": 2,
   "id": "e1e70439-3d27-4036-b009-711a645cae8a",
   "metadata": {
    "tags": []
   },
   "outputs": [],
   "source": [
    "import numpy as np\n",
    "import scipy as sp\n",
    "import pandas as pd\n",
    "import plotly.express as ex\n",
    "import plotly.graph_objects as go\n",
    "\n",
    "from copy import deepcopy\n",
    "\n",
    "import tracking_v2.callback as cb\n",
    "from tracking_v2.target import NearConstantVelocityTarget\n",
    "from tracking_v2.tracker import MultiTargetTracker\n",
    "from tracking_v2.kalman import linear_ncv\n",
    "from tracking_v2.sensor import GeometricSensor\n",
    "from tracking_v2.evaluation import TrackerRunner\n",
    "import tracking_v2.evaluation.runner as runner\n",
    "\n",
    "from tracking_v2.util import to_df, display"
   ]
  },
  {
   "cell_type": "code",
   "execution_count": 3,
   "id": "23a37b58-bd75-435a-807e-d64420c639e9",
   "metadata": {
    "tags": []
   },
   "outputs": [],
   "source": [
    "display.as_png = False"
   ]
  },
  {
   "cell_type": "code",
   "execution_count": 31,
   "id": "6837b4c9-ec48-4ec5-88c5-73093ada54ec",
   "metadata": {},
   "outputs": [],
   "source": [
    "class MyCallback:\n",
    "    @cb.mht_decisions\n",
    "    def mht_decisions(self, decisions):\n",
    "        print([f\"{d[0]}: {d[1]}\" for d in decisions])\n",
    "    \n",
    "    @cb.associated_to_track\n",
    "    def associated_to_track(self, llr, track, measurement):\n",
    "        print('associated_to_track')\n",
    "\n",
    "    @cb.initialized_new_track\n",
    "    def initialized_new_track(self, llr, track, measurement0, measurement1):\n",
    "        print('initialized_new_track')\n",
    "\n",
    "    @cb.measurement_not_associated\n",
    "    def measurement_not_associated(self, llr, measurement):\n",
    "        print('measurement_not_associated')\n",
    "\n",
    "    @cb.track_not_updated\n",
    "    def track_not_updated(self, llr, track):\n",
    "        print('track_not_updated')"
   ]
  },
  {
   "cell_type": "code",
   "execution_count": 66,
   "id": "8013635a-6510-4c96-a48e-e9d31c504920",
   "metadata": {},
   "outputs": [],
   "source": [
    "target = NearConstantVelocityTarget()\n",
    "sensor = GeometricSensor()\n",
    "\n",
    "mtt = MultiTargetTracker()\n",
    "runner = TrackerRunner([target], [sensor], mtt)\n",
    "runner.callbacks.append(MyCallback())"
   ]
  },
  {
   "cell_type": "code",
   "execution_count": 70,
   "id": "b2eab6d1-043f-4635-9237-7e3cc145ff71",
   "metadata": {},
   "outputs": [
    {
     "name": "stdout",
     "output_type": "stream",
     "text": [
      "[]\n",
      "['measurement_not_associated: 218.74558383443434']\n",
      "measurement_not_associated\n",
      "[]\n",
      "['initialize_new_track: 434.60157557317234', 'measurement_not_associated: 218.74558383443434']\n",
      "initialized_new_track\n",
      "[TrackHypothesis(1, 2, 434.6, [60.06  0.07  0.43 31.17 -0.07 -0.91])]\n",
      "100.30819066202164 227.50169369979056 -127.01851851851843 -0.17498451925048505\n",
      "['associate_to_track: 534.909766235194', 'track_not_updated: 434.60157557317234', 'measurement_not_associated: 218.74558383443434']\n",
      "associated_to_track\n",
      "[TrackHypothesis(1, 3, 534.91, [90.43  0.45  0.38 30.64  0.22 -0.35])]\n",
      "186.16486375340185 227.50169369979056 -41.05692570554765 -0.2799042408410637\n",
      "['associate_to_track: 721.0746299885958', 'track_not_updated: 534.909766235194', 'measurement_not_associated: 218.74558383443434']\n",
      "associated_to_track\n",
      "[TrackHypothesis(1, 4, 721.07, [120.72  -0.46   0.24  30.42  -0.49  -0.22])]\n",
      "191.45769688908405 227.50169369979056 -34.747111830923 -1.2968849797835187\n",
      "['associate_to_track: 912.5323268776799', 'track_not_updated: 721.0746299885958', 'measurement_not_associated: 218.74558383443434']\n",
      "associated_to_track\n"
     ]
    }
   ],
   "source": [
    "mtt.reset()\n",
    "runner.run_one(5, 1)"
   ]
  },
  {
   "cell_type": "code",
   "execution_count": 71,
   "id": "0b13876a-d689-4f85-b0be-9f437d9036a9",
   "metadata": {},
   "outputs": [
    {
     "ename": "AttributeError",
     "evalue": "'TrackerRunner' object has no attribute 'callback'",
     "output_type": "error",
     "traceback": [
      "\u001b[0;31m---------------------------------------------------------------------------\u001b[0m",
      "\u001b[0;31mAttributeError\u001b[0m                            Traceback (most recent call last)",
      "Cell \u001b[0;32mIn[71], line 1\u001b[0m\n\u001b[0;32m----> 1\u001b[0m runner\u001b[38;5;241m.\u001b[39mcallback\u001b[38;5;241m.\u001b[39mone_x_hat\n",
      "\u001b[0;31mAttributeError\u001b[0m: 'TrackerRunner' object has no attribute 'callback'"
     ]
    }
   ],
   "source": [
    "runner.callback.one_x_hat"
   ]
  },
  {
   "cell_type": "code",
   "execution_count": null,
   "id": "38fcddf4-7813-4997-9b32-c76b5adaf4e9",
   "metadata": {},
   "outputs": [],
   "source": []
  }
 ],
 "metadata": {
  "kernelspec": {
   "display_name": "Python 3 (ipykernel)",
   "language": "python",
   "name": "python3"
  },
  "language_info": {
   "codemirror_mode": {
    "name": "ipython",
    "version": 3
   },
   "file_extension": ".py",
   "mimetype": "text/x-python",
   "name": "python",
   "nbconvert_exporter": "python",
   "pygments_lexer": "ipython3",
   "version": "3.11.7"
  }
 },
 "nbformat": 4,
 "nbformat_minor": 5
}
