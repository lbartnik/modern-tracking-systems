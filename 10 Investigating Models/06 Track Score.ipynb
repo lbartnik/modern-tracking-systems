{
 "cells": [
  {
   "cell_type": "code",
   "execution_count": 1,
   "id": "1e337f81-c25c-4be0-9ee7-2a62bad05eb8",
   "metadata": {
    "tags": []
   },
   "outputs": [],
   "source": [
    "%load_ext autoreload\n",
    "%autoreload 2\n",
    "\n",
    "import os\n",
    "import sys\n",
    "sys.path.append(os.path.realpath('..'))"
   ]
  },
  {
   "cell_type": "code",
   "execution_count": 2,
   "id": "e1e70439-3d27-4036-b009-711a645cae8a",
   "metadata": {
    "tags": []
   },
   "outputs": [],
   "source": [
    "import numpy as np\n",
    "import pandas as pd\n",
    "import plotly.express as ex\n",
    "import plotly.graph_objects as go\n",
    "\n",
    "from copy import deepcopy\n",
    "\n",
    "from tracking_v2.target import NearConstantVelocityTarget\n",
    "from tracking_v2.tracker import Track, Tracker\n",
    "from tracking_v2.kalman import linear_ncv\n",
    "from tracking_v2.sensor import GeometricSensor\n",
    "from tracking_v2.evaluation import TrackerRunner, StateFilterRunner, evaluate_nees, evaluate_runner, plot_nscore\n",
    "import tracking_v2.evaluation.runner as runner\n",
    "\n",
    "from tracking_v2.util import to_df, display"
   ]
  },
  {
   "cell_type": "code",
   "execution_count": 3,
   "id": "23a37b58-bd75-435a-807e-d64420c639e9",
   "metadata": {
    "tags": []
   },
   "outputs": [],
   "source": [
    "display.as_png = False"
   ]
  },
  {
   "cell_type": "code",
   "execution_count": null,
   "id": "789ae3fb-f767-4b33-b4fb-1cdf0488871d",
   "metadata": {},
   "outputs": [],
   "source": [
    "TRACK_ID = 0\n",
    "\n",
    "class TrackState(object):\n",
    "    def __init__(self, time: float, kf):\n",
    "        self.time = time\n",
    "        self.kf = kf\n",
    "        self.score = 0\n",
    "    \n",
    "    def update(self, m):\n",
    "        assert m.time >= self.time, \"measurement in the past\"\n",
    "        self.kf.predict(m.time - self.time)\n",
    "        self.kf.prepare_update(m.z, m.R)\n",
    "        self.kf.update()\n",
    "\n",
    "\n",
    "class ScoringTracker(Tracker):\n",
    "    def __init__(self):\n",
    "        self.reset()\n",
    "    \n",
    "    def reset(self):\n",
    "        self.first_meas = None\n",
    "        self.track: TrackState = None\n",
    "    \n",
    "    def add_measurements(self, ms):\n",
    "        assert len(ms) == 1, \"more than 1 measurement not supported\"\n",
    "        assert len(ms[0].z.squeeze()) == 3, \"only 3D spaces are supported\"\n",
    "\n",
    "        m = ms[0]\n",
    "\n",
    "        if self.first_meas is None:\n",
    "            self.first_meas = m\n",
    "        \n",
    "        elif self.track is None:\n",
    "            dt = m.time - self.first_meas.time\n",
    "            dp = m.z - self.first_meas.z\n",
    "            \n",
    "            vel = dp / dt\n",
    "            P_vel = (self.first_meas.R + m.R) / (dt * dt)\n",
    "            P_pos_vel = m.R / dt\n",
    "            \n",
    "            x = np.concatenate((m.z.squeeze(), vel.squeeze()))\n",
    "            P = np.zeros((6, 6))\n",
    "            P[:3, :3] = m.R\n",
    "            P[3:, 3:] = P_vel\n",
    "            P[:3, 3:] = P_pos_vel\n",
    "            P[3:, :3] = P_pos_vel\n",
    "            \n",
    "            kf = linear_ncv(noise_intensity=1)\n",
    "            kf.initialize(x, P)\n",
    "            \n",
    "            self.track = TrackState(m.time, kf)\n",
    "\n",
    "        else:\n",
    "            self.track.update(m)\n",
    "    \n",
    "    def estimate_tracks(self, t: float):\n",
    "        if self.track is None:\n",
    "            return []\n",
    "    \n",
    "        assert t == self.track.time, \"cannot estimate tracks for arbitrary t\"\n",
    "        return [Track(TRACK_ID, self.track.kf.x_hat, self.track.kf.P_hat)]"
   ]
  }
 ],
 "metadata": {
  "kernelspec": {
   "display_name": "Python 3 (ipykernel)",
   "language": "python",
   "name": "python3"
  },
  "language_info": {
   "codemirror_mode": {
    "name": "ipython",
    "version": 3
   },
   "file_extension": ".py",
   "mimetype": "text/x-python",
   "name": "python",
   "nbconvert_exporter": "python",
   "pygments_lexer": "ipython3",
   "version": "3.11.5"
  }
 },
 "nbformat": 4,
 "nbformat_minor": 5
}
