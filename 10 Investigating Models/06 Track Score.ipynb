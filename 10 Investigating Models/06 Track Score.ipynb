{
 "cells": [
  {
   "cell_type": "code",
   "execution_count": 1,
   "id": "1e337f81-c25c-4be0-9ee7-2a62bad05eb8",
   "metadata": {
    "tags": []
   },
   "outputs": [],
   "source": [
    "%load_ext autoreload\n",
    "%autoreload 2\n",
    "\n",
    "import os\n",
    "import sys\n",
    "sys.path.append(os.path.realpath('..'))"
   ]
  },
  {
   "cell_type": "code",
   "execution_count": 2,
   "id": "e1e70439-3d27-4036-b009-711a645cae8a",
   "metadata": {
    "tags": []
   },
   "outputs": [],
   "source": [
    "import numpy as np\n",
    "import scipy as sp\n",
    "import pandas as pd\n",
    "import plotly.express as ex\n",
    "import plotly.graph_objects as go\n",
    "\n",
    "from copy import deepcopy\n",
    "\n",
    "import tracking_v2.callback as cb\n",
    "from tracking_v2.target import NearConstantVelocityTarget\n",
    "from tracking_v2.tracker import MultiTargetTracker\n",
    "from tracking_v2.kalman import linear_ncv\n",
    "from tracking_v2.sensor import GeometricSensor\n",
    "from tracking_v2.evaluation import TrackerRunner\n",
    "import tracking_v2.evaluation.runner as runner\n",
    "\n",
    "from tracking_v2.util import to_df, display"
   ]
  },
  {
   "cell_type": "code",
   "execution_count": 3,
   "id": "23a37b58-bd75-435a-807e-d64420c639e9",
   "metadata": {
    "tags": []
   },
   "outputs": [],
   "source": [
    "display.as_png = False"
   ]
  },
  {
   "cell_type": "code",
   "execution_count": 5,
   "id": "6837b4c9-ec48-4ec5-88c5-73093ada54ec",
   "metadata": {},
   "outputs": [],
   "source": [
    "class MyCallback:\n",
    "    @cb.associated_to_track\n",
    "    def associated_to_track(self, llr, track, measurement):\n",
    "        print('associated_to_track')\n",
    "\n",
    "    @cb.initialized_new_track\n",
    "    def initialized_new_track(self, llr, track, measurement0, measurement1):\n",
    "        print('initialized_new_track')\n",
    "\n",
    "    @cb.measurement_not_associated\n",
    "    def measurement_not_associated(self, llr, measurement):\n",
    "        print('measurement_not_associated')\n",
    "\n",
    "    @cb.track_not_updated\n",
    "    def track_not_updated(self, llr, track):\n",
    "        print('track_not_updated')"
   ]
  },
  {
   "cell_type": "code",
   "execution_count": 8,
   "id": "8013635a-6510-4c96-a48e-e9d31c504920",
   "metadata": {},
   "outputs": [],
   "source": [
    "target = NearConstantVelocityTarget()\n",
    "sensor = GeometricSensor()\n",
    "\n",
    "mtt = MultiTargetTracker()\n",
    "runner = TrackerRunner([target], [sensor], mtt)\n",
    "runner.callbacks.append(MyCallback())"
   ]
  },
  {
   "cell_type": "code",
   "execution_count": 9,
   "id": "b2eab6d1-043f-4635-9237-7e3cc145ff71",
   "metadata": {},
   "outputs": [],
   "source": [
    "runner.run_one(100, 1)"
   ]
  },
  {
   "cell_type": "code",
   "execution_count": 7,
   "id": "0b13876a-d689-4f85-b0be-9f437d9036a9",
   "metadata": {},
   "outputs": [
    {
     "data": {
      "text/plain": [
       "{}"
      ]
     },
     "execution_count": 7,
     "metadata": {},
     "output_type": "execute_result"
    }
   ],
   "source": [
    "runner.callback.one_x_hat"
   ]
  },
  {
   "cell_type": "code",
   "execution_count": null,
   "id": "38fcddf4-7813-4997-9b32-c76b5adaf4e9",
   "metadata": {},
   "outputs": [],
   "source": []
  }
 ],
 "metadata": {
  "kernelspec": {
   "display_name": "Python 3 (ipykernel)",
   "language": "python",
   "name": "python3"
  },
  "language_info": {
   "codemirror_mode": {
    "name": "ipython",
    "version": 3
   },
   "file_extension": ".py",
   "mimetype": "text/x-python",
   "name": "python",
   "nbconvert_exporter": "python",
   "pygments_lexer": "ipython3",
   "version": "3.11.7"
  }
 },
 "nbformat": 4,
 "nbformat_minor": 5
}
