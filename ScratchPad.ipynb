{
 "cells": [
  {
   "cell_type": "code",
   "execution_count": 36,
   "id": "7fae5324-1a57-4cfb-9012-390d8b08d78e",
   "metadata": {},
   "outputs": [],
   "source": [
    "import numpy as np\n",
    "import scipy as sp"
   ]
  },
  {
   "cell_type": "code",
   "execution_count": 3,
   "id": "427c7663-ba2f-4026-9ffa-1d88a72742f0",
   "metadata": {},
   "outputs": [],
   "source": [
    "a = np.random.randint(low=1, high=5, size=(4,4))"
   ]
  },
  {
   "cell_type": "code",
   "execution_count": 4,
   "id": "a01ccb90-3a00-44c7-b89e-61bff98efe35",
   "metadata": {},
   "outputs": [
    {
     "data": {
      "text/plain": [
       "array([[3, 3, 2, 1],\n",
       "       [4, 1, 2, 3],\n",
       "       [4, 3, 3, 2],\n",
       "       [4, 4, 3, 4]])"
      ]
     },
     "execution_count": 4,
     "metadata": {},
     "output_type": "execute_result"
    }
   ],
   "source": [
    "a"
   ]
  },
  {
   "cell_type": "code",
   "execution_count": 5,
   "id": "4bb61837-12c4-451f-b450-1b859161416d",
   "metadata": {},
   "outputs": [],
   "source": [
    "x = np.random.randint(low=1, high=5, size=(1,4))"
   ]
  },
  {
   "cell_type": "code",
   "execution_count": 6,
   "id": "76c0bd1f-b849-4970-9008-a5322db84edc",
   "metadata": {},
   "outputs": [
    {
     "data": {
      "text/plain": [
       "array([[3, 4, 1, 2]])"
      ]
     },
     "execution_count": 6,
     "metadata": {},
     "output_type": "execute_result"
    }
   ],
   "source": [
    "x"
   ]
  },
  {
   "cell_type": "code",
   "execution_count": 7,
   "id": "2dbd2966-6640-4f63-b141-a139a68529a6",
   "metadata": {},
   "outputs": [
    {
     "data": {
      "text/plain": [
       "array([[ 0, -1,  1, -1],\n",
       "       [ 1, -3,  1,  1],\n",
       "       [ 1, -1,  2,  0],\n",
       "       [ 1,  0,  2,  2]])"
      ]
     },
     "execution_count": 7,
     "metadata": {},
     "output_type": "execute_result"
    }
   ],
   "source": [
    "a - x"
   ]
  },
  {
   "cell_type": "code",
   "execution_count": 8,
   "id": "3f94a7ad-be88-4a43-b408-e951e1941fc4",
   "metadata": {},
   "outputs": [
    {
     "data": {
      "text/plain": [
       "array([[ 0, -1,  1, -1],\n",
       "       [ 1, -3,  1,  1],\n",
       "       [ 1, -1,  2,  0],\n",
       "       [ 1,  0,  2,  2],\n",
       "       [ 6,  7,  3,  3],\n",
       "       [ 7,  5,  3,  5],\n",
       "       [ 7,  7,  4,  4],\n",
       "       [ 7,  8,  4,  6]])"
      ]
     },
     "execution_count": 8,
     "metadata": {},
     "output_type": "execute_result"
    }
   ],
   "source": [
    "y = np.concatenate((a - x, a + x))\n",
    "y"
   ]
  },
  {
   "cell_type": "code",
   "execution_count": 9,
   "id": "c0c3b9c0-98a3-48bf-a0ca-86e240e5a7b8",
   "metadata": {},
   "outputs": [
    {
     "data": {
      "text/plain": [
       "array([0. , 0.1, 0.2, 0.3, 0.4, 0.5, 0.6, 0.7])"
      ]
     },
     "execution_count": 9,
     "metadata": {},
     "output_type": "execute_result"
    }
   ],
   "source": [
    "W = np.arange(8) / 10\n",
    "W"
   ]
  },
  {
   "cell_type": "code",
   "execution_count": 10,
   "id": "8494813b-b121-4f30-895a-40b0fdf14054",
   "metadata": {},
   "outputs": [
    {
     "data": {
      "text/plain": [
       "array([15.6, 14.6,  9. , 11. ])"
      ]
     },
     "execution_count": 10,
     "metadata": {},
     "output_type": "execute_result"
    }
   ],
   "source": [
    "np.dot(W, y)"
   ]
  },
  {
   "cell_type": "code",
   "execution_count": 11,
   "id": "9c9f738c-add0-4924-be4d-8c89405f3446",
   "metadata": {},
   "outputs": [
    {
     "data": {
      "text/plain": [
       "[15.6, 14.600000000000001, 9.0, 11.0]"
      ]
     },
     "execution_count": 11,
     "metadata": {},
     "output_type": "execute_result"
    }
   ],
   "source": [
    "[np.sum(y[:,i] * W) for i in range(4)]"
   ]
  },
  {
   "cell_type": "code",
   "execution_count": 12,
   "id": "cc981bb4-bb95-42ee-9a49-c088e7f0d649",
   "metadata": {},
   "outputs": [
    {
     "data": {
      "text/plain": [
       "array([[3],\n",
       "       [4],\n",
       "       [1],\n",
       "       [2]])"
      ]
     },
     "execution_count": 12,
     "metadata": {},
     "output_type": "execute_result"
    }
   ],
   "source": [
    "np.expand_dims(x.squeeze(), 1)"
   ]
  },
  {
   "cell_type": "code",
   "execution_count": 13,
   "id": "58d3b821-44ee-4ff9-adf7-61faafe40116",
   "metadata": {},
   "outputs": [
    {
     "data": {
      "text/plain": [
       "(8, 4)"
      ]
     },
     "execution_count": 13,
     "metadata": {},
     "output_type": "execute_result"
    }
   ],
   "source": [
    "y.shape"
   ]
  },
  {
   "cell_type": "code",
   "execution_count": 14,
   "id": "d166cba8-ad68-4c8c-b20b-e044f7fd48b1",
   "metadata": {},
   "outputs": [
    {
     "data": {
      "text/plain": [
       "array([[[ 0,  0,  0,  0],\n",
       "        [ 0,  1, -1,  1],\n",
       "        [ 0, -1,  1, -1],\n",
       "        [ 0,  1, -1,  1]],\n",
       "\n",
       "       [[ 1, -3,  1,  1],\n",
       "        [-3,  9, -3, -3],\n",
       "        [ 1, -3,  1,  1],\n",
       "        [ 1, -3,  1,  1]],\n",
       "\n",
       "       [[ 1, -1,  2,  0],\n",
       "        [-1,  1, -2,  0],\n",
       "        [ 2, -2,  4,  0],\n",
       "        [ 0,  0,  0,  0]],\n",
       "\n",
       "       [[ 1,  0,  2,  2],\n",
       "        [ 0,  0,  0,  0],\n",
       "        [ 2,  0,  4,  4],\n",
       "        [ 2,  0,  4,  4]],\n",
       "\n",
       "       [[36, 42, 18, 18],\n",
       "        [42, 49, 21, 21],\n",
       "        [18, 21,  9,  9],\n",
       "        [18, 21,  9,  9]],\n",
       "\n",
       "       [[49, 35, 21, 35],\n",
       "        [35, 25, 15, 25],\n",
       "        [21, 15,  9, 15],\n",
       "        [35, 25, 15, 25]],\n",
       "\n",
       "       [[49, 49, 28, 28],\n",
       "        [49, 49, 28, 28],\n",
       "        [28, 28, 16, 16],\n",
       "        [28, 28, 16, 16]],\n",
       "\n",
       "       [[49, 56, 28, 42],\n",
       "        [56, 64, 32, 48],\n",
       "        [28, 32, 16, 24],\n",
       "        [42, 48, 24, 36]]])"
      ]
     },
     "execution_count": 14,
     "metadata": {},
     "output_type": "execute_result"
    }
   ],
   "source": [
    "z = np.multiply(np.expand_dims(y, 1), np.expand_dims(y, 2))\n",
    "z"
   ]
  },
  {
   "cell_type": "code",
   "execution_count": 18,
   "id": "70b25a14-12f8-4b24-8864-bbe069de580f",
   "metadata": {},
   "outputs": [
    {
     "data": {
      "text/plain": [
       "array([[129.  , 128.  ,  69.  ,  89.5 ],\n",
       "       [128.  , 134.25,  68.  ,  88.75],\n",
       "       [ 69.  ,  68.  ,  38.75,  48.5 ],\n",
       "       [ 89.5 ,  88.75,  48.5 ,  65.25]])"
      ]
     },
     "execution_count": 18,
     "metadata": {},
     "output_type": "execute_result"
    }
   ],
   "source": [
    "np.dot(z.T, np.arange(8) / 8)"
   ]
  },
  {
   "cell_type": "code",
   "execution_count": 26,
   "id": "628b8ef6-6879-4cb2-a10f-9f5989ae66b0",
   "metadata": {},
   "outputs": [
    {
     "data": {
      "text/plain": [
       "array([[0.3, 0. , 0. , 0. ],\n",
       "       [0. , 0.3, 0. , 0. ],\n",
       "       [0. , 0. , 0.3, 0. ],\n",
       "       [0. , 0. , 0. , 0.3]])"
      ]
     },
     "execution_count": 26,
     "metadata": {},
     "output_type": "execute_result"
    }
   ],
   "source": [
    "np.dot(np.stack((np.eye(4), np.eye(4))).T, [.1, .2])"
   ]
  },
  {
   "cell_type": "code",
   "execution_count": 51,
   "id": "a13321f3-f6ef-4d6d-8c84-fa1c439d96a0",
   "metadata": {},
   "outputs": [],
   "source": [
    "def sqrtm(X: np.ndarray) -> np.ndarray:\n",
    "    # Computing diagonalization\n",
    "    evalues, evectors = np.linalg.eig(X)\n",
    "    # Ensuring square root matrix exists\n",
    "    assert (evalues >= 0).all()\n",
    "    return evectors * np.sqrt(evalues) @ np.linalg.inv(evectors)\n",
    "\n",
    "def rot(alpha):\n",
    "    return np.array([[np.cos(alpha), -np.sin(alpha)],\n",
    "                    [np.sin(alpha),  np.cos(alpha)]])"
   ]
  },
  {
   "cell_type": "code",
   "execution_count": 33,
   "id": "b2156592-3291-4ebe-bd9d-1c50337ff6d7",
   "metadata": {},
   "outputs": [],
   "source": [
    "eval, evec = np.linalg.eig([[1, 0.5], [0.5, 2]])"
   ]
  },
  {
   "cell_type": "code",
   "execution_count": 48,
   "id": "748661b7-e3e0-4226-8240-0e6160bb1fc0",
   "metadata": {},
   "outputs": [
    {
     "data": {
      "text/plain": [
       "array([[-0.92387953, -0.38268343],\n",
       "       [ 0.38268343, -0.92387953]])"
      ]
     },
     "execution_count": 48,
     "metadata": {},
     "output_type": "execute_result"
    }
   ],
   "source": [
    "evec"
   ]
  },
  {
   "cell_type": "code",
   "execution_count": 50,
   "id": "90fe60db-a970-4dcf-9b7e-fbe14781a704",
   "metadata": {},
   "outputs": [
    {
     "data": {
      "text/plain": [
       "22.500000375992585"
      ]
     },
     "execution_count": 50,
     "metadata": {},
     "output_type": "execute_result"
    }
   ],
   "source": [
    "np.arccos(0.92387953) * 180 / np.pi"
   ]
  },
  {
   "cell_type": "code",
   "execution_count": 58,
   "id": "8460896f-6809-4c15-91f8-e18605f812ce",
   "metadata": {},
   "outputs": [
    {
     "data": {
      "text/plain": [
       "array([[ 1., -0.],\n",
       "       [ 0.,  1.]])"
      ]
     },
     "execution_count": 58,
     "metadata": {},
     "output_type": "execute_result"
    }
   ],
   "source": [
    "R = rot(0/180.0 * np.pi)\n",
    "R"
   ]
  },
  {
   "cell_type": "code",
   "execution_count": 59,
   "id": "e82d612c-a93c-4c24-894f-ccb4570f05ad",
   "metadata": {},
   "outputs": [
    {
     "data": {
      "text/plain": [
       "array([[4., 0.],\n",
       "       [0., 1.]])"
      ]
     },
     "execution_count": 59,
     "metadata": {},
     "output_type": "execute_result"
    }
   ],
   "source": [
    "R @ np.diag([4, 1]) @ R.T"
   ]
  },
  {
   "cell_type": "code",
   "execution_count": null,
   "id": "885d2724-2152-4d2d-a5d5-ba8d75a10f78",
   "metadata": {},
   "outputs": [],
   "source": []
  }
 ],
 "metadata": {
  "kernelspec": {
   "display_name": "Python 3 (ipykernel)",
   "language": "python",
   "name": "python3"
  },
  "language_info": {
   "codemirror_mode": {
    "name": "ipython",
    "version": 3
   },
   "file_extension": ".py",
   "mimetype": "text/x-python",
   "name": "python",
   "nbconvert_exporter": "python",
   "pygments_lexer": "ipython3",
   "version": "3.11.7"
  }
 },
 "nbformat": 4,
 "nbformat_minor": 5
}
