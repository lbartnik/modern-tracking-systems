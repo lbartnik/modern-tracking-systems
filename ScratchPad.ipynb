{
 "cells": [
  {
   "cell_type": "code",
   "execution_count": 1,
   "id": "7fae5324-1a57-4cfb-9012-390d8b08d78e",
   "metadata": {
    "tags": []
   },
   "outputs": [],
   "source": [
    "%load_ext autoreload\n",
    "%autoreload 2"
   ]
  },
  {
   "cell_type": "code",
   "execution_count": 2,
   "id": "427c7663-ba2f-4026-9ffa-1d88a72742f0",
   "metadata": {
    "tags": []
   },
   "outputs": [],
   "source": [
    "import cache_magic\n",
    "import numpy as np\n",
    "import scipy as sp\n",
    "import pandas as pd\n",
    "import plotly.express as ex\n",
    "import plotly.graph_objects as go\n",
    "\n",
    "from tracking_v2.target import NearConstantVelocityTarget\n",
    "from tracking_v2.kalman import LinearKalmanFilter, GatedFilter\n",
    "from tracking_v2.motion import ConstantVelocityModel\n",
    "from tracking_v2.sensor import GeometricSensor\n",
    "from tracking_v2.evaluation import Runner, after_one, evaluate_runner, plot_nscore, plot_runs, plot_2d\n",
    "\n",
    "from tracking_v2.util import to_df, display"
   ]
  },
  {
   "cell_type": "code",
   "execution_count": 3,
   "id": "885d2724-2152-4d2d-a5d5-ba8d75a10f78",
   "metadata": {
    "tags": []
   },
   "outputs": [],
   "source": [
    "motion = ConstantVelocityModel(1)\n",
    "kf = LinearKalmanFilter(motion, [[1, 0, 0, 0, 0, 0],\n",
    "                                   [0, 1, 0, 0, 0, 0],\n",
    "                                   [0, 0, 1, 0, 0, 0]])\n",
    "\n",
    "target = NearConstantVelocityTarget(noise_intensity=1)\n",
    "sensor = GeometricSensor()"
   ]
  },
  {
   "cell_type": "code",
   "execution_count": 4,
   "id": "e9d73d86-440b-43b8-b8f2-25e2df27d7bd",
   "metadata": {
    "tags": []
   },
   "outputs": [
    {
     "name": "stdout",
     "output_type": "stream",
     "text": [
      "OK\n",
      "OK\n",
      "OK\n",
      "OK\n",
      "OK\n",
      "OK\n",
      "OK\n",
      "OK\n",
      "OK\n",
      "OK\n"
     ]
    }
   ],
   "source": [
    "class MyRunner(Runner):\n",
    "    @after_one\n",
    "    def my_callback(self):\n",
    "        print('OK')\n",
    "\n",
    "r = MyRunner(target, sensor, kf)\n",
    "r.run_many(10, 100, 1)"
   ]
  },
  {
   "cell_type": "code",
   "execution_count": null,
   "id": "ef788b4f-d070-4964-9a05-1dc600ac35a7",
   "metadata": {
    "tags": []
   },
   "outputs": [],
   "source": []
  },
  {
   "cell_type": "code",
   "execution_count": 5,
   "id": "8d249c40-c806-4d9b-a69f-9fce589fbbf0",
   "metadata": {
    "tags": []
   },
   "outputs": [],
   "source": [
    "fig = go.Figure()"
   ]
  },
  {
   "cell_type": "code",
   "execution_count": 7,
   "id": "05df6b13-4b64-43ef-9299-c48452c7c802",
   "metadata": {
    "tags": []
   },
   "outputs": [
    {
     "data": {
      "text/plain": [
       "\u001b[0;31mSignature:\u001b[0m \u001b[0mfig\u001b[0m\u001b[0;34m.\u001b[0m\u001b[0m_repr_html_\u001b[0m\u001b[0;34m(\u001b[0m\u001b[0;34m)\u001b[0m\u001b[0;34m\u001b[0m\u001b[0;34m\u001b[0m\u001b[0m\n",
       "\u001b[0;31mDocstring:\u001b[0m Customize html representation\n",
       "\u001b[0;31mFile:\u001b[0m      ~/anaconda3/envs/modern-tracking-systems/lib/python3.11/site-packages/plotly/basedatatypes.py\n",
       "\u001b[0;31mType:\u001b[0m      method"
      ]
     },
     "metadata": {},
     "output_type": "display_data"
    }
   ],
   "source": [
    "?fig._repr_html_"
   ]
  },
  {
   "cell_type": "code",
   "execution_count": null,
   "id": "fb7bca72-379e-416f-b816-0f5519f5170b",
   "metadata": {},
   "outputs": [],
   "source": []
  }
 ],
 "metadata": {
  "kernelspec": {
   "display_name": "Python 3 (ipykernel)",
   "language": "python",
   "name": "python3"
  },
  "language_info": {
   "codemirror_mode": {
    "name": "ipython",
    "version": 3
   },
   "file_extension": ".py",
   "mimetype": "text/x-python",
   "name": "python",
   "nbconvert_exporter": "python",
   "pygments_lexer": "ipython3",
   "version": "3.11.5"
  }
 },
 "nbformat": 4,
 "nbformat_minor": 5
}
