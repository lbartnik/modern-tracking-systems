{
 "cells": [
  {
   "cell_type": "code",
   "execution_count": 1,
   "id": "36c54891-f2e5-41aa-b2b3-739c80dbb604",
   "metadata": {},
   "outputs": [],
   "source": [
    "%load_ext autoreload\n",
    "%autoreload 2"
   ]
  },
  {
   "cell_type": "code",
   "execution_count": 2,
   "id": "002b2a48-3d60-48d5-957c-e6d5a1cc35d2",
   "metadata": {},
   "outputs": [],
   "source": [
    "import plotly.express as ex"
   ]
  },
  {
   "cell_type": "markdown",
   "id": "805be3d4-c763-4dfe-bce4-f2318fb77e23",
   "metadata": {},
   "source": [
    "# Goodness of fit"
   ]
  },
  {
   "cell_type": "code",
   "execution_count": 40,
   "id": "589ed816-d498-44d0-b69f-ae1319ec77e9",
   "metadata": {},
   "outputs": [],
   "source": [
    "import numpy as np\n",
    "from scipy import stats\n",
    "rng = np.random.default_rng()\n",
    "x = stats.uniform.rvs(size=75, random_state=rng)"
   ]
  },
  {
   "cell_type": "code",
   "execution_count": 34,
   "id": "7188b7d2-a25a-48b2-a194-00550948e19f",
   "metadata": {},
   "outputs": [
    {
     "data": {
      "application/vnd.plotly.v1+json": {
       "config": {
        "plotlyServerURL": "https://plot.ly"
       },
       "data": [
        {
         "alignmentgroup": "True",
         "bingroup": "x",
         "hovertemplate": "variable=0<br>value=%{x}<br>count=%{y}<extra></extra>",
         "legendgroup": "0",
         "marker": {
          "color": "#636efa",
          "pattern": {
           "shape": ""
          }
         },
         "name": "0",
         "offsetgroup": "0",
         "orientation": "v",
         "showlegend": true,
         "type": "histogram",
         "x": [
          0.3787115341655367,
          0.9263882729363803,
          0.031795655310100535,
          0.6449055454546989,
          0.4429191094492285,
          0.42132427733242417,
          0.6157498836562123,
          0.3491293654723393,
          0.8969070551457973,
          0.6985513839384769,
          0.16543685333221192,
          0.8458823093498035,
          0.44270975995666506,
          0.9041723782460949,
          0.25850371836054953,
          0.010650478707929456,
          0.06990191994661688,
          0.9334936828238335,
          0.19893858292656408,
          0.5638754479237642,
          0.30918327355719577,
          0.9494185013485201,
          0.085742111161629,
          0.8462632730245142,
          0.9381102078186527,
          0.7675664488022067,
          0.2448806092745689,
          0.681627399435163,
          0.469928191463321,
          0.8576094171490272,
          0.7950476360511998,
          0.5773281956013235,
          0.9806891933002967,
          0.40594308556859626,
          0.4664275227410659,
          0.8841482687253193,
          0.41827635898556603,
          0.33556496465924934,
          0.7004475215045245,
          0.6065392143562469,
          0.008969629527049827,
          0.8154588582102659,
          0.2168664597085448,
          0.09897441394822126,
          0.22377460239842195,
          0.16561846292471172,
          0.9339302413667765,
          0.8721119651337603,
          0.33245211251816786,
          0.1898100645926062,
          0.5484286851653566,
          0.03125974705062107,
          0.3231540320723375,
          0.44335261020466654,
          0.8370695183415763,
          0.9161361827295991,
          0.4520612600919036,
          0.696943112447806,
          0.09890227590532696,
          0.8695835180748166,
          0.7501396449075761,
          0.9340462617261233,
          0.12120676043458356,
          0.5386264587475448,
          0.30948381864202457,
          0.7031184009561924,
          0.30691184635824664,
          0.6975260668828049,
          0.52762037120325,
          0.06226240801452676,
          0.7835475734344013,
          0.7223257754877398,
          0.9127227265073508,
          0.8834109135463112,
          0.8540683760620975
         ],
         "xaxis": "x",
         "yaxis": "y"
        }
       ],
       "layout": {
        "autosize": true,
        "barmode": "relative",
        "legend": {
         "title": {
          "text": "variable"
         },
         "tracegroupgap": 0
        },
        "margin": {
         "t": 60
        },
        "template": {
         "data": {
          "bar": [
           {
            "error_x": {
             "color": "#2a3f5f"
            },
            "error_y": {
             "color": "#2a3f5f"
            },
            "marker": {
             "line": {
              "color": "#E5ECF6",
              "width": 0.5
             },
             "pattern": {
              "fillmode": "overlay",
              "size": 10,
              "solidity": 0.2
             }
            },
            "type": "bar"
           }
          ],
          "barpolar": [
           {
            "marker": {
             "line": {
              "color": "#E5ECF6",
              "width": 0.5
             },
             "pattern": {
              "fillmode": "overlay",
              "size": 10,
              "solidity": 0.2
             }
            },
            "type": "barpolar"
           }
          ],
          "carpet": [
           {
            "aaxis": {
             "endlinecolor": "#2a3f5f",
             "gridcolor": "white",
             "linecolor": "white",
             "minorgridcolor": "white",
             "startlinecolor": "#2a3f5f"
            },
            "baxis": {
             "endlinecolor": "#2a3f5f",
             "gridcolor": "white",
             "linecolor": "white",
             "minorgridcolor": "white",
             "startlinecolor": "#2a3f5f"
            },
            "type": "carpet"
           }
          ],
          "choropleth": [
           {
            "colorbar": {
             "outlinewidth": 0,
             "ticks": ""
            },
            "type": "choropleth"
           }
          ],
          "contour": [
           {
            "colorbar": {
             "outlinewidth": 0,
             "ticks": ""
            },
            "colorscale": [
             [
              0,
              "#0d0887"
             ],
             [
              0.1111111111111111,
              "#46039f"
             ],
             [
              0.2222222222222222,
              "#7201a8"
             ],
             [
              0.3333333333333333,
              "#9c179e"
             ],
             [
              0.4444444444444444,
              "#bd3786"
             ],
             [
              0.5555555555555556,
              "#d8576b"
             ],
             [
              0.6666666666666666,
              "#ed7953"
             ],
             [
              0.7777777777777778,
              "#fb9f3a"
             ],
             [
              0.8888888888888888,
              "#fdca26"
             ],
             [
              1,
              "#f0f921"
             ]
            ],
            "type": "contour"
           }
          ],
          "contourcarpet": [
           {
            "colorbar": {
             "outlinewidth": 0,
             "ticks": ""
            },
            "type": "contourcarpet"
           }
          ],
          "heatmap": [
           {
            "colorbar": {
             "outlinewidth": 0,
             "ticks": ""
            },
            "colorscale": [
             [
              0,
              "#0d0887"
             ],
             [
              0.1111111111111111,
              "#46039f"
             ],
             [
              0.2222222222222222,
              "#7201a8"
             ],
             [
              0.3333333333333333,
              "#9c179e"
             ],
             [
              0.4444444444444444,
              "#bd3786"
             ],
             [
              0.5555555555555556,
              "#d8576b"
             ],
             [
              0.6666666666666666,
              "#ed7953"
             ],
             [
              0.7777777777777778,
              "#fb9f3a"
             ],
             [
              0.8888888888888888,
              "#fdca26"
             ],
             [
              1,
              "#f0f921"
             ]
            ],
            "type": "heatmap"
           }
          ],
          "heatmapgl": [
           {
            "colorbar": {
             "outlinewidth": 0,
             "ticks": ""
            },
            "colorscale": [
             [
              0,
              "#0d0887"
             ],
             [
              0.1111111111111111,
              "#46039f"
             ],
             [
              0.2222222222222222,
              "#7201a8"
             ],
             [
              0.3333333333333333,
              "#9c179e"
             ],
             [
              0.4444444444444444,
              "#bd3786"
             ],
             [
              0.5555555555555556,
              "#d8576b"
             ],
             [
              0.6666666666666666,
              "#ed7953"
             ],
             [
              0.7777777777777778,
              "#fb9f3a"
             ],
             [
              0.8888888888888888,
              "#fdca26"
             ],
             [
              1,
              "#f0f921"
             ]
            ],
            "type": "heatmapgl"
           }
          ],
          "histogram": [
           {
            "marker": {
             "pattern": {
              "fillmode": "overlay",
              "size": 10,
              "solidity": 0.2
             }
            },
            "type": "histogram"
           }
          ],
          "histogram2d": [
           {
            "colorbar": {
             "outlinewidth": 0,
             "ticks": ""
            },
            "colorscale": [
             [
              0,
              "#0d0887"
             ],
             [
              0.1111111111111111,
              "#46039f"
             ],
             [
              0.2222222222222222,
              "#7201a8"
             ],
             [
              0.3333333333333333,
              "#9c179e"
             ],
             [
              0.4444444444444444,
              "#bd3786"
             ],
             [
              0.5555555555555556,
              "#d8576b"
             ],
             [
              0.6666666666666666,
              "#ed7953"
             ],
             [
              0.7777777777777778,
              "#fb9f3a"
             ],
             [
              0.8888888888888888,
              "#fdca26"
             ],
             [
              1,
              "#f0f921"
             ]
            ],
            "type": "histogram2d"
           }
          ],
          "histogram2dcontour": [
           {
            "colorbar": {
             "outlinewidth": 0,
             "ticks": ""
            },
            "colorscale": [
             [
              0,
              "#0d0887"
             ],
             [
              0.1111111111111111,
              "#46039f"
             ],
             [
              0.2222222222222222,
              "#7201a8"
             ],
             [
              0.3333333333333333,
              "#9c179e"
             ],
             [
              0.4444444444444444,
              "#bd3786"
             ],
             [
              0.5555555555555556,
              "#d8576b"
             ],
             [
              0.6666666666666666,
              "#ed7953"
             ],
             [
              0.7777777777777778,
              "#fb9f3a"
             ],
             [
              0.8888888888888888,
              "#fdca26"
             ],
             [
              1,
              "#f0f921"
             ]
            ],
            "type": "histogram2dcontour"
           }
          ],
          "mesh3d": [
           {
            "colorbar": {
             "outlinewidth": 0,
             "ticks": ""
            },
            "type": "mesh3d"
           }
          ],
          "parcoords": [
           {
            "line": {
             "colorbar": {
              "outlinewidth": 0,
              "ticks": ""
             }
            },
            "type": "parcoords"
           }
          ],
          "pie": [
           {
            "automargin": true,
            "type": "pie"
           }
          ],
          "scatter": [
           {
            "fillpattern": {
             "fillmode": "overlay",
             "size": 10,
             "solidity": 0.2
            },
            "type": "scatter"
           }
          ],
          "scatter3d": [
           {
            "line": {
             "colorbar": {
              "outlinewidth": 0,
              "ticks": ""
             }
            },
            "marker": {
             "colorbar": {
              "outlinewidth": 0,
              "ticks": ""
             }
            },
            "type": "scatter3d"
           }
          ],
          "scattercarpet": [
           {
            "marker": {
             "colorbar": {
              "outlinewidth": 0,
              "ticks": ""
             }
            },
            "type": "scattercarpet"
           }
          ],
          "scattergeo": [
           {
            "marker": {
             "colorbar": {
              "outlinewidth": 0,
              "ticks": ""
             }
            },
            "type": "scattergeo"
           }
          ],
          "scattergl": [
           {
            "marker": {
             "colorbar": {
              "outlinewidth": 0,
              "ticks": ""
             }
            },
            "type": "scattergl"
           }
          ],
          "scattermapbox": [
           {
            "marker": {
             "colorbar": {
              "outlinewidth": 0,
              "ticks": ""
             }
            },
            "type": "scattermapbox"
           }
          ],
          "scatterpolar": [
           {
            "marker": {
             "colorbar": {
              "outlinewidth": 0,
              "ticks": ""
             }
            },
            "type": "scatterpolar"
           }
          ],
          "scatterpolargl": [
           {
            "marker": {
             "colorbar": {
              "outlinewidth": 0,
              "ticks": ""
             }
            },
            "type": "scatterpolargl"
           }
          ],
          "scatterternary": [
           {
            "marker": {
             "colorbar": {
              "outlinewidth": 0,
              "ticks": ""
             }
            },
            "type": "scatterternary"
           }
          ],
          "surface": [
           {
            "colorbar": {
             "outlinewidth": 0,
             "ticks": ""
            },
            "colorscale": [
             [
              0,
              "#0d0887"
             ],
             [
              0.1111111111111111,
              "#46039f"
             ],
             [
              0.2222222222222222,
              "#7201a8"
             ],
             [
              0.3333333333333333,
              "#9c179e"
             ],
             [
              0.4444444444444444,
              "#bd3786"
             ],
             [
              0.5555555555555556,
              "#d8576b"
             ],
             [
              0.6666666666666666,
              "#ed7953"
             ],
             [
              0.7777777777777778,
              "#fb9f3a"
             ],
             [
              0.8888888888888888,
              "#fdca26"
             ],
             [
              1,
              "#f0f921"
             ]
            ],
            "type": "surface"
           }
          ],
          "table": [
           {
            "cells": {
             "fill": {
              "color": "#EBF0F8"
             },
             "line": {
              "color": "white"
             }
            },
            "header": {
             "fill": {
              "color": "#C8D4E3"
             },
             "line": {
              "color": "white"
             }
            },
            "type": "table"
           }
          ]
         },
         "layout": {
          "annotationdefaults": {
           "arrowcolor": "#2a3f5f",
           "arrowhead": 0,
           "arrowwidth": 1
          },
          "autotypenumbers": "strict",
          "coloraxis": {
           "colorbar": {
            "outlinewidth": 0,
            "ticks": ""
           }
          },
          "colorscale": {
           "diverging": [
            [
             0,
             "#8e0152"
            ],
            [
             0.1,
             "#c51b7d"
            ],
            [
             0.2,
             "#de77ae"
            ],
            [
             0.3,
             "#f1b6da"
            ],
            [
             0.4,
             "#fde0ef"
            ],
            [
             0.5,
             "#f7f7f7"
            ],
            [
             0.6,
             "#e6f5d0"
            ],
            [
             0.7,
             "#b8e186"
            ],
            [
             0.8,
             "#7fbc41"
            ],
            [
             0.9,
             "#4d9221"
            ],
            [
             1,
             "#276419"
            ]
           ],
           "sequential": [
            [
             0,
             "#0d0887"
            ],
            [
             0.1111111111111111,
             "#46039f"
            ],
            [
             0.2222222222222222,
             "#7201a8"
            ],
            [
             0.3333333333333333,
             "#9c179e"
            ],
            [
             0.4444444444444444,
             "#bd3786"
            ],
            [
             0.5555555555555556,
             "#d8576b"
            ],
            [
             0.6666666666666666,
             "#ed7953"
            ],
            [
             0.7777777777777778,
             "#fb9f3a"
            ],
            [
             0.8888888888888888,
             "#fdca26"
            ],
            [
             1,
             "#f0f921"
            ]
           ],
           "sequentialminus": [
            [
             0,
             "#0d0887"
            ],
            [
             0.1111111111111111,
             "#46039f"
            ],
            [
             0.2222222222222222,
             "#7201a8"
            ],
            [
             0.3333333333333333,
             "#9c179e"
            ],
            [
             0.4444444444444444,
             "#bd3786"
            ],
            [
             0.5555555555555556,
             "#d8576b"
            ],
            [
             0.6666666666666666,
             "#ed7953"
            ],
            [
             0.7777777777777778,
             "#fb9f3a"
            ],
            [
             0.8888888888888888,
             "#fdca26"
            ],
            [
             1,
             "#f0f921"
            ]
           ]
          },
          "colorway": [
           "#636efa",
           "#EF553B",
           "#00cc96",
           "#ab63fa",
           "#FFA15A",
           "#19d3f3",
           "#FF6692",
           "#B6E880",
           "#FF97FF",
           "#FECB52"
          ],
          "font": {
           "color": "#2a3f5f"
          },
          "geo": {
           "bgcolor": "white",
           "lakecolor": "white",
           "landcolor": "#E5ECF6",
           "showlakes": true,
           "showland": true,
           "subunitcolor": "white"
          },
          "hoverlabel": {
           "align": "left"
          },
          "hovermode": "closest",
          "mapbox": {
           "style": "light"
          },
          "paper_bgcolor": "white",
          "plot_bgcolor": "#E5ECF6",
          "polar": {
           "angularaxis": {
            "gridcolor": "white",
            "linecolor": "white",
            "ticks": ""
           },
           "bgcolor": "#E5ECF6",
           "radialaxis": {
            "gridcolor": "white",
            "linecolor": "white",
            "ticks": ""
           }
          },
          "scene": {
           "xaxis": {
            "backgroundcolor": "#E5ECF6",
            "gridcolor": "white",
            "gridwidth": 2,
            "linecolor": "white",
            "showbackground": true,
            "ticks": "",
            "zerolinecolor": "white"
           },
           "yaxis": {
            "backgroundcolor": "#E5ECF6",
            "gridcolor": "white",
            "gridwidth": 2,
            "linecolor": "white",
            "showbackground": true,
            "ticks": "",
            "zerolinecolor": "white"
           },
           "zaxis": {
            "backgroundcolor": "#E5ECF6",
            "gridcolor": "white",
            "gridwidth": 2,
            "linecolor": "white",
            "showbackground": true,
            "ticks": "",
            "zerolinecolor": "white"
           }
          },
          "shapedefaults": {
           "line": {
            "color": "#2a3f5f"
           }
          },
          "ternary": {
           "aaxis": {
            "gridcolor": "white",
            "linecolor": "white",
            "ticks": ""
           },
           "baxis": {
            "gridcolor": "white",
            "linecolor": "white",
            "ticks": ""
           },
           "bgcolor": "#E5ECF6",
           "caxis": {
            "gridcolor": "white",
            "linecolor": "white",
            "ticks": ""
           }
          },
          "title": {
           "x": 0.05
          },
          "xaxis": {
           "automargin": true,
           "gridcolor": "white",
           "linecolor": "white",
           "ticks": "",
           "title": {
            "standoff": 15
           },
           "zerolinecolor": "white",
           "zerolinewidth": 2
          },
          "yaxis": {
           "automargin": true,
           "gridcolor": "white",
           "linecolor": "white",
           "ticks": "",
           "title": {
            "standoff": 15
           },
           "zerolinecolor": "white",
           "zerolinewidth": 2
          }
         }
        },
        "xaxis": {
         "anchor": "y",
         "autorange": true,
         "domain": [
          0,
          1
         ],
         "range": [
          2.7755575615628914e-17,
          1
         ],
         "title": {
          "text": "value"
         },
         "type": "linear"
        },
        "yaxis": {
         "anchor": "x",
         "autorange": true,
         "domain": [
          0,
          1
         ],
         "range": [
          0,
          22.105263157894736
         ],
         "title": {
          "text": "count"
         }
        }
       }
      },
      "image/png": "[encoded data removed]",
      "text/html": [
       "<div>                            <div id=\"5d9fec08-3849-4689-b451-68fb41b1f829\" class=\"plotly-graph-div\" style=\"height:525px; width:100%;\"></div>            <script type=\"text/javascript\">                require([\"plotly\"], function(Plotly) {                    window.PLOTLYENV=window.PLOTLYENV || {};                                    if (document.getElementById(\"5d9fec08-3849-4689-b451-68fb41b1f829\")) {                    Plotly.newPlot(                        \"5d9fec08-3849-4689-b451-68fb41b1f829\",                        [{\"alignmentgroup\":\"True\",\"bingroup\":\"x\",\"hovertemplate\":\"variable=0<br>value=%{x}<br>count=%{y}<extra></extra>\",\"legendgroup\":\"0\",\"marker\":{\"color\":\"#636efa\",\"pattern\":{\"shape\":\"\"}},\"name\":\"0\",\"offsetgroup\":\"0\",\"orientation\":\"v\",\"showlegend\":true,\"x\":[0.3787115341655367,0.9263882729363803,0.031795655310100535,0.6449055454546989,0.4429191094492285,0.42132427733242417,0.6157498836562123,0.3491293654723393,0.8969070551457973,0.6985513839384769,0.16543685333221192,0.8458823093498035,0.44270975995666506,0.9041723782460949,0.25850371836054953,0.010650478707929456,0.06990191994661688,0.9334936828238335,0.19893858292656408,0.5638754479237642,0.30918327355719577,0.9494185013485201,0.085742111161629,0.8462632730245142,0.9381102078186527,0.7675664488022067,0.2448806092745689,0.681627399435163,0.469928191463321,0.8576094171490272,0.7950476360511998,0.5773281956013235,0.9806891933002967,0.40594308556859626,0.4664275227410659,0.8841482687253193,0.41827635898556603,0.33556496465924934,0.7004475215045245,0.6065392143562469,0.008969629527049827,0.8154588582102659,0.2168664597085448,0.09897441394822126,0.22377460239842195,0.16561846292471172,0.9339302413667765,0.8721119651337603,0.33245211251816786,0.1898100645926062,0.5484286851653566,0.03125974705062107,0.3231540320723375,0.44335261020466654,0.8370695183415763,0.9161361827295991,0.4520612600919036,0.696943112447806,0.09890227590532696,0.8695835180748166,0.7501396449075761,0.9340462617261233,0.12120676043458356,0.5386264587475448,0.30948381864202457,0.7031184009561924,0.30691184635824664,0.6975260668828049,0.52762037120325,0.06226240801452676,0.7835475734344013,0.7223257754877398,0.9127227265073508,0.8834109135463112,0.8540683760620975],\"xaxis\":\"x\",\"yaxis\":\"y\",\"type\":\"histogram\"}],                        {\"template\":{\"data\":{\"histogram2dcontour\":[{\"type\":\"histogram2dcontour\",\"colorbar\":{\"outlinewidth\":0,\"ticks\":\"\"},\"colorscale\":[[0.0,\"#0d0887\"],[0.1111111111111111,\"#46039f\"],[0.2222222222222222,\"#7201a8\"],[0.3333333333333333,\"#9c179e\"],[0.4444444444444444,\"#bd3786\"],[0.5555555555555556,\"#d8576b\"],[0.6666666666666666,\"#ed7953\"],[0.7777777777777778,\"#fb9f3a\"],[0.8888888888888888,\"#fdca26\"],[1.0,\"#f0f921\"]]}],\"choropleth\":[{\"type\":\"choropleth\",\"colorbar\":{\"outlinewidth\":0,\"ticks\":\"\"}}],\"histogram2d\":[{\"type\":\"histogram2d\",\"colorbar\":{\"outlinewidth\":0,\"ticks\":\"\"},\"colorscale\":[[0.0,\"#0d0887\"],[0.1111111111111111,\"#46039f\"],[0.2222222222222222,\"#7201a8\"],[0.3333333333333333,\"#9c179e\"],[0.4444444444444444,\"#bd3786\"],[0.5555555555555556,\"#d8576b\"],[0.6666666666666666,\"#ed7953\"],[0.7777777777777778,\"#fb9f3a\"],[0.8888888888888888,\"#fdca26\"],[1.0,\"#f0f921\"]]}],\"heatmap\":[{\"type\":\"heatmap\",\"colorbar\":{\"outlinewidth\":0,\"ticks\":\"\"},\"colorscale\":[[0.0,\"#0d0887\"],[0.1111111111111111,\"#46039f\"],[0.2222222222222222,\"#7201a8\"],[0.3333333333333333,\"#9c179e\"],[0.4444444444444444,\"#bd3786\"],[0.5555555555555556,\"#d8576b\"],[0.6666666666666666,\"#ed7953\"],[0.7777777777777778,\"#fb9f3a\"],[0.8888888888888888,\"#fdca26\"],[1.0,\"#f0f921\"]]}],\"heatmapgl\":[{\"type\":\"heatmapgl\",\"colorbar\":{\"outlinewidth\":0,\"ticks\":\"\"},\"colorscale\":[[0.0,\"#0d0887\"],[0.1111111111111111,\"#46039f\"],[0.2222222222222222,\"#7201a8\"],[0.3333333333333333,\"#9c179e\"],[0.4444444444444444,\"#bd3786\"],[0.5555555555555556,\"#d8576b\"],[0.6666666666666666,\"#ed7953\"],[0.7777777777777778,\"#fb9f3a\"],[0.8888888888888888,\"#fdca26\"],[1.0,\"#f0f921\"]]}],\"contourcarpet\":[{\"type\":\"contourcarpet\",\"colorbar\":{\"outlinewidth\":0,\"ticks\":\"\"}}],\"contour\":[{\"type\":\"contour\",\"colorbar\":{\"outlinewidth\":0,\"ticks\":\"\"},\"colorscale\":[[0.0,\"#0d0887\"],[0.1111111111111111,\"#46039f\"],[0.2222222222222222,\"#7201a8\"],[0.3333333333333333,\"#9c179e\"],[0.4444444444444444,\"#bd3786\"],[0.5555555555555556,\"#d8576b\"],[0.6666666666666666,\"#ed7953\"],[0.7777777777777778,\"#fb9f3a\"],[0.8888888888888888,\"#fdca26\"],[1.0,\"#f0f921\"]]}],\"surface\":[{\"type\":\"surface\",\"colorbar\":{\"outlinewidth\":0,\"ticks\":\"\"},\"colorscale\":[[0.0,\"#0d0887\"],[0.1111111111111111,\"#46039f\"],[0.2222222222222222,\"#7201a8\"],[0.3333333333333333,\"#9c179e\"],[0.4444444444444444,\"#bd3786\"],[0.5555555555555556,\"#d8576b\"],[0.6666666666666666,\"#ed7953\"],[0.7777777777777778,\"#fb9f3a\"],[0.8888888888888888,\"#fdca26\"],[1.0,\"#f0f921\"]]}],\"mesh3d\":[{\"type\":\"mesh3d\",\"colorbar\":{\"outlinewidth\":0,\"ticks\":\"\"}}],\"scatter\":[{\"fillpattern\":{\"fillmode\":\"overlay\",\"size\":10,\"solidity\":0.2},\"type\":\"scatter\"}],\"parcoords\":[{\"type\":\"parcoords\",\"line\":{\"colorbar\":{\"outlinewidth\":0,\"ticks\":\"\"}}}],\"scatterpolargl\":[{\"type\":\"scatterpolargl\",\"marker\":{\"colorbar\":{\"outlinewidth\":0,\"ticks\":\"\"}}}],\"bar\":[{\"error_x\":{\"color\":\"#2a3f5f\"},\"error_y\":{\"color\":\"#2a3f5f\"},\"marker\":{\"line\":{\"color\":\"#E5ECF6\",\"width\":0.5},\"pattern\":{\"fillmode\":\"overlay\",\"size\":10,\"solidity\":0.2}},\"type\":\"bar\"}],\"scattergeo\":[{\"type\":\"scattergeo\",\"marker\":{\"colorbar\":{\"outlinewidth\":0,\"ticks\":\"\"}}}],\"scatterpolar\":[{\"type\":\"scatterpolar\",\"marker\":{\"colorbar\":{\"outlinewidth\":0,\"ticks\":\"\"}}}],\"histogram\":[{\"marker\":{\"pattern\":{\"fillmode\":\"overlay\",\"size\":10,\"solidity\":0.2}},\"type\":\"histogram\"}],\"scattergl\":[{\"type\":\"scattergl\",\"marker\":{\"colorbar\":{\"outlinewidth\":0,\"ticks\":\"\"}}}],\"scatter3d\":[{\"type\":\"scatter3d\",\"line\":{\"colorbar\":{\"outlinewidth\":0,\"ticks\":\"\"}},\"marker\":{\"colorbar\":{\"outlinewidth\":0,\"ticks\":\"\"}}}],\"scattermapbox\":[{\"type\":\"scattermapbox\",\"marker\":{\"colorbar\":{\"outlinewidth\":0,\"ticks\":\"\"}}}],\"scatterternary\":[{\"type\":\"scatterternary\",\"marker\":{\"colorbar\":{\"outlinewidth\":0,\"ticks\":\"\"}}}],\"scattercarpet\":[{\"type\":\"scattercarpet\",\"marker\":{\"colorbar\":{\"outlinewidth\":0,\"ticks\":\"\"}}}],\"carpet\":[{\"aaxis\":{\"endlinecolor\":\"#2a3f5f\",\"gridcolor\":\"white\",\"linecolor\":\"white\",\"minorgridcolor\":\"white\",\"startlinecolor\":\"#2a3f5f\"},\"baxis\":{\"endlinecolor\":\"#2a3f5f\",\"gridcolor\":\"white\",\"linecolor\":\"white\",\"minorgridcolor\":\"white\",\"startlinecolor\":\"#2a3f5f\"},\"type\":\"carpet\"}],\"table\":[{\"cells\":{\"fill\":{\"color\":\"#EBF0F8\"},\"line\":{\"color\":\"white\"}},\"header\":{\"fill\":{\"color\":\"#C8D4E3\"},\"line\":{\"color\":\"white\"}},\"type\":\"table\"}],\"barpolar\":[{\"marker\":{\"line\":{\"color\":\"#E5ECF6\",\"width\":0.5},\"pattern\":{\"fillmode\":\"overlay\",\"size\":10,\"solidity\":0.2}},\"type\":\"barpolar\"}],\"pie\":[{\"automargin\":true,\"type\":\"pie\"}]},\"layout\":{\"autotypenumbers\":\"strict\",\"colorway\":[\"#636efa\",\"#EF553B\",\"#00cc96\",\"#ab63fa\",\"#FFA15A\",\"#19d3f3\",\"#FF6692\",\"#B6E880\",\"#FF97FF\",\"#FECB52\"],\"font\":{\"color\":\"#2a3f5f\"},\"hovermode\":\"closest\",\"hoverlabel\":{\"align\":\"left\"},\"paper_bgcolor\":\"white\",\"plot_bgcolor\":\"#E5ECF6\",\"polar\":{\"bgcolor\":\"#E5ECF6\",\"angularaxis\":{\"gridcolor\":\"white\",\"linecolor\":\"white\",\"ticks\":\"\"},\"radialaxis\":{\"gridcolor\":\"white\",\"linecolor\":\"white\",\"ticks\":\"\"}},\"ternary\":{\"bgcolor\":\"#E5ECF6\",\"aaxis\":{\"gridcolor\":\"white\",\"linecolor\":\"white\",\"ticks\":\"\"},\"baxis\":{\"gridcolor\":\"white\",\"linecolor\":\"white\",\"ticks\":\"\"},\"caxis\":{\"gridcolor\":\"white\",\"linecolor\":\"white\",\"ticks\":\"\"}},\"coloraxis\":{\"colorbar\":{\"outlinewidth\":0,\"ticks\":\"\"}},\"colorscale\":{\"sequential\":[[0.0,\"#0d0887\"],[0.1111111111111111,\"#46039f\"],[0.2222222222222222,\"#7201a8\"],[0.3333333333333333,\"#9c179e\"],[0.4444444444444444,\"#bd3786\"],[0.5555555555555556,\"#d8576b\"],[0.6666666666666666,\"#ed7953\"],[0.7777777777777778,\"#fb9f3a\"],[0.8888888888888888,\"#fdca26\"],[1.0,\"#f0f921\"]],\"sequentialminus\":[[0.0,\"#0d0887\"],[0.1111111111111111,\"#46039f\"],[0.2222222222222222,\"#7201a8\"],[0.3333333333333333,\"#9c179e\"],[0.4444444444444444,\"#bd3786\"],[0.5555555555555556,\"#d8576b\"],[0.6666666666666666,\"#ed7953\"],[0.7777777777777778,\"#fb9f3a\"],[0.8888888888888888,\"#fdca26\"],[1.0,\"#f0f921\"]],\"diverging\":[[0,\"#8e0152\"],[0.1,\"#c51b7d\"],[0.2,\"#de77ae\"],[0.3,\"#f1b6da\"],[0.4,\"#fde0ef\"],[0.5,\"#f7f7f7\"],[0.6,\"#e6f5d0\"],[0.7,\"#b8e186\"],[0.8,\"#7fbc41\"],[0.9,\"#4d9221\"],[1,\"#276419\"]]},\"xaxis\":{\"gridcolor\":\"white\",\"linecolor\":\"white\",\"ticks\":\"\",\"title\":{\"standoff\":15},\"zerolinecolor\":\"white\",\"automargin\":true,\"zerolinewidth\":2},\"yaxis\":{\"gridcolor\":\"white\",\"linecolor\":\"white\",\"ticks\":\"\",\"title\":{\"standoff\":15},\"zerolinecolor\":\"white\",\"automargin\":true,\"zerolinewidth\":2},\"scene\":{\"xaxis\":{\"backgroundcolor\":\"#E5ECF6\",\"gridcolor\":\"white\",\"linecolor\":\"white\",\"showbackground\":true,\"ticks\":\"\",\"zerolinecolor\":\"white\",\"gridwidth\":2},\"yaxis\":{\"backgroundcolor\":\"#E5ECF6\",\"gridcolor\":\"white\",\"linecolor\":\"white\",\"showbackground\":true,\"ticks\":\"\",\"zerolinecolor\":\"white\",\"gridwidth\":2},\"zaxis\":{\"backgroundcolor\":\"#E5ECF6\",\"gridcolor\":\"white\",\"linecolor\":\"white\",\"showbackground\":true,\"ticks\":\"\",\"zerolinecolor\":\"white\",\"gridwidth\":2}},\"shapedefaults\":{\"line\":{\"color\":\"#2a3f5f\"}},\"annotationdefaults\":{\"arrowcolor\":\"#2a3f5f\",\"arrowhead\":0,\"arrowwidth\":1},\"geo\":{\"bgcolor\":\"white\",\"landcolor\":\"#E5ECF6\",\"subunitcolor\":\"white\",\"showland\":true,\"showlakes\":true,\"lakecolor\":\"white\"},\"title\":{\"x\":0.05},\"mapbox\":{\"style\":\"light\"}}},\"xaxis\":{\"anchor\":\"y\",\"domain\":[0.0,1.0],\"title\":{\"text\":\"value\"}},\"yaxis\":{\"anchor\":\"x\",\"domain\":[0.0,1.0],\"title\":{\"text\":\"count\"}},\"legend\":{\"title\":{\"text\":\"variable\"},\"tracegroupgap\":0},\"margin\":{\"t\":60},\"barmode\":\"relative\"},                        {\"responsive\": true}                    ).then(function(){\n",
       "                            \n",
       "var gd = document.getElementById('5d9fec08-3849-4689-b451-68fb41b1f829');\n",
       "var x = new MutationObserver(function (mutations, observer) {{\n",
       "        var display = window.getComputedStyle(gd).display;\n",
       "        if (!display || display === 'none') {{\n",
       "            console.log([gd, 'removed!']);\n",
       "            Plotly.purge(gd);\n",
       "            observer.disconnect();\n",
       "        }}\n",
       "}});\n",
       "\n",
       "// Listen for the removal of the full notebook cells\n",
       "var notebookContainer = gd.closest('#notebook-container');\n",
       "if (notebookContainer) {{\n",
       "    x.observe(notebookContainer, {childList: true});\n",
       "}}\n",
       "\n",
       "// Listen for the clearing of the current output cell\n",
       "var outputEl = gd.closest('.output');\n",
       "if (outputEl) {{\n",
       "    x.observe(outputEl, {childList: true});\n",
       "}}\n",
       "\n",
       "                        })                };                });            </script>        </div>"
      ]
     },
     "metadata": {},
     "output_type": "display_data"
    }
   ],
   "source": [
    "ex.histogram(x)"
   ]
  },
  {
   "cell_type": "code",
   "execution_count": 35,
   "id": "8894eae0-d61f-4a71-a66b-621de60b4f59",
   "metadata": {},
   "outputs": [
    {
     "data": {
      "text/plain": [
       "(0.5373675168571563, 0.3018575007187901)"
      ]
     },
     "execution_count": 35,
     "metadata": {},
     "output_type": "execute_result"
    }
   ],
   "source": [
    "loc, scale = np.mean(x), np.std(x, ddof=1)\n",
    "loc, scale"
   ]
  },
  {
   "cell_type": "code",
   "execution_count": 36,
   "id": "c34d9fd4-fb29-46fe-9da6-80aa2886e4fc",
   "metadata": {},
   "outputs": [
    {
     "data": {
      "text/plain": [
       "KstestResult(statistic=0.1148076222013018, pvalue=0.25599061726604483, statistic_location=0.696943112447806, statistic_sign=-1)"
      ]
     },
     "execution_count": 36,
     "metadata": {},
     "output_type": "execute_result"
    }
   ],
   "source": [
    "cdf = stats.norm(loc, scale).cdf\n",
    "stats.ks_1samp(x, cdf)"
   ]
  },
  {
   "cell_type": "code",
   "execution_count": 37,
   "id": "cefccee2-b9a9-4981-9d99-b89269a4fdb9",
   "metadata": {},
   "outputs": [
    {
     "data": {
      "text/plain": [
       "(0.1148076222013018, 0.2576)"
      ]
     },
     "execution_count": 37,
     "metadata": {},
     "output_type": "execute_result"
    }
   ],
   "source": [
    "known_params = {'loc': loc, 'scale': scale}\n",
    "res = stats.goodness_of_fit(stats.norm, x, known_params=known_params,\n",
    "                            statistic='ks', random_state=rng)\n",
    "res.statistic, res.pvalue"
   ]
  },
  {
   "cell_type": "code",
   "execution_count": 38,
   "id": "fbe288aa-0575-4aa8-9ec3-4d47015fd632",
   "metadata": {},
   "outputs": [
    {
     "data": {
      "text/plain": [
       "(0.1148076222013018, 0.0155)"
      ]
     },
     "execution_count": 38,
     "metadata": {},
     "output_type": "execute_result"
    }
   ],
   "source": [
    "res = stats.goodness_of_fit(stats.norm, x, statistic='ks',\n",
    "                            random_state=rng)\n",
    "res.statistic, res.pvalue"
   ]
  },
  {
   "cell_type": "code",
   "execution_count": 39,
   "id": "7e216132-ffde-4470-a8f6-74f0d35e9eb3",
   "metadata": {},
   "outputs": [
    {
     "data": {
      "text/plain": [
       "(1.52602735302861, 0.0006)"
      ]
     },
     "execution_count": 39,
     "metadata": {},
     "output_type": "execute_result"
    }
   ],
   "source": [
    "res = stats.goodness_of_fit(stats.norm, x, statistic='ad',\n",
    "                            random_state=rng)\n",
    "res.statistic, res.pvalue"
   ]
  },
  {
   "cell_type": "markdown",
   "id": "c06fb080-a890-4b94-9671-325f64543ceb",
   "metadata": {},
   "source": [
    "# Multivariate normal"
   ]
  },
  {
   "cell_type": "code",
   "execution_count": 55,
   "id": "306a47d9-83de-46f2-8136-fc1e4b34effa",
   "metadata": {},
   "outputs": [],
   "source": [
    "x = np.random.multivariate_normal(np.zeros(3), np.diag([3, 7, 10]), 1000000)"
   ]
  },
  {
   "cell_type": "code",
   "execution_count": 56,
   "id": "ad0b4bbc-2a0e-4626-8ea6-7d28c12db317",
   "metadata": {},
   "outputs": [
    {
     "data": {
      "text/plain": [
       "array([ 0.00209866, -0.00019803, -0.00011677])"
      ]
     },
     "execution_count": 56,
     "metadata": {},
     "output_type": "execute_result"
    }
   ],
   "source": [
    "np.mean(x, axis=0)"
   ]
  },
  {
   "cell_type": "code",
   "execution_count": 57,
   "id": "90695a32-2ab7-43e4-83f7-666b30b66453",
   "metadata": {},
   "outputs": [
    {
     "data": {
      "text/plain": [
       "array([[ 3.00378362e+00, -6.68835427e-03,  6.83265862e-03],\n",
       "       [-6.68835427e-03,  7.01549690e+00, -7.96303201e-03],\n",
       "       [ 6.83265862e-03, -7.96303201e-03,  9.99773493e+00]])"
      ]
     },
     "execution_count": 57,
     "metadata": {},
     "output_type": "execute_result"
    }
   ],
   "source": [
    "np.cov(x.T)"
   ]
  },
  {
   "cell_type": "markdown",
   "id": "8ca87bcb-eac4-4e4b-92fe-9a7bc84351f3",
   "metadata": {},
   "source": [
    "# Other"
   ]
  },
  {
   "cell_type": "code",
   "execution_count": 1,
   "id": "12a41452-d2b0-4b42-9e43-182ce0b3ca88",
   "metadata": {},
   "outputs": [],
   "source": [
    "from tracking.target import ConstantVelocityTarget\n",
    "from tracking.kalman import kalman_pv\n",
    "from tracking.motion import ConstantVelocityModel"
   ]
  },
  {
   "cell_type": "code",
   "execution_count": 2,
   "id": "3700460f-2110-4bce-b4c3-d3f352982e07",
   "metadata": {},
   "outputs": [
    {
     "data": {
      "text/plain": [
       "array([[  0.,   0.,   0.,  30.,   0.,   0.],\n",
       "       [ 30.,   0.,   0.,  30.,   0.,   0.],\n",
       "       [ 60.,   0.,   0.,  30.,   0.,   0.],\n",
       "       [ 90.,   0.,   0.,  30.,   0.,   0.],\n",
       "       [120.,   0.,   0.,  30.,   0.,   0.],\n",
       "       [150.,   0.,   0.,  30.,   0.,   0.],\n",
       "       [180.,   0.,   0.,  30.,   0.,   0.],\n",
       "       [210.,   0.,   0.,  30.,   0.,   0.],\n",
       "       [240.,   0.,   0.,  30.,   0.,   0.],\n",
       "       [270.,   0.,   0.,  30.,   0.,   0.]])"
      ]
     },
     "execution_count": 2,
     "metadata": {},
     "output_type": "execute_result"
    }
   ],
   "source": [
    "t = ConstantVelocityTarget()\n",
    "t.true_states(1, 10)"
   ]
  },
  {
   "cell_type": "code",
   "execution_count": 3,
   "id": "b0d630f1-8237-4cdd-98f2-69e6131b01ea",
   "metadata": {},
   "outputs": [],
   "source": [
    "kf = kalman_pv(ConstantVelocityModel(), 1)"
   ]
  },
  {
   "cell_type": "code",
   "execution_count": 4,
   "id": "89230dce-f216-4605-9c45-d2056dd07ad8",
   "metadata": {},
   "outputs": [],
   "source": [
    "kf.predict(1)"
   ]
  },
  {
   "cell_type": "code",
   "execution_count": 24,
   "id": "ebe7f6ac-3c83-4f49-8ed9-791ea736fc68",
   "metadata": {},
   "outputs": [],
   "source": [
    "kf.update(np.array([1, 1, 1]))"
   ]
  },
  {
   "cell_type": "code",
   "execution_count": 25,
   "id": "8a44b425-cb65-4f06-8e03-8eb678816347",
   "metadata": {},
   "outputs": [
    {
     "data": {
      "text/plain": [
       "array([[0.92105263],\n",
       "       [0.92105263],\n",
       "       [0.92105263],\n",
       "       [0.59210526],\n",
       "       [0.59210526],\n",
       "       [0.59210526]])"
      ]
     },
     "execution_count": 25,
     "metadata": {},
     "output_type": "execute_result"
    }
   ],
   "source": [
    "kf.x"
   ]
  },
  {
   "cell_type": "code",
   "execution_count": 22,
   "id": "bd0da5d7-61d7-4d21-bffe-178f5440e544",
   "metadata": {},
   "outputs": [
    {
     "data": {
      "text/plain": [
       "array([[0.],\n",
       "       [0.],\n",
       "       [0.],\n",
       "       [0.],\n",
       "       [0.],\n",
       "       [0.]])"
      ]
     },
     "execution_count": 22,
     "metadata": {},
     "output_type": "execute_result"
    }
   ],
   "source": [
    "kf.x_hat"
   ]
  },
  {
   "cell_type": "code",
   "execution_count": 23,
   "id": "8df1881a-5259-4c75-9b46-2fc995803fe4",
   "metadata": {},
   "outputs": [
    {
     "data": {
      "text/plain": [
       "array([[0.22580645, 0.        , 0.        , 0.14516129, 0.        ,\n",
       "        0.        ],\n",
       "       [0.        , 0.22580645, 0.        , 0.        , 0.14516129,\n",
       "        0.        ],\n",
       "       [0.        , 0.        , 0.22580645, 0.        , 0.        ,\n",
       "        0.14516129],\n",
       "       [0.14516129, 0.        , 0.        , 1.12903226, 0.        ,\n",
       "        0.        ],\n",
       "       [0.        , 0.14516129, 0.        , 0.        , 1.12903226,\n",
       "        0.        ],\n",
       "       [0.        , 0.        , 0.14516129, 0.        , 0.        ,\n",
       "        1.12903226]])"
      ]
     },
     "execution_count": 23,
     "metadata": {},
     "output_type": "execute_result"
    }
   ],
   "source": [
    "kf.P"
   ]
  },
  {
   "cell_type": "code",
   "execution_count": 15,
   "id": "10cef746-e750-4163-bbe1-757bd856819b",
   "metadata": {},
   "outputs": [
    {
     "data": {
      "text/plain": [
       "array([[2.33333333, 0.        , 0.        , 1.5       , 0.        ,\n",
       "        0.        ],\n",
       "       [0.        , 2.33333333, 0.        , 0.        , 1.5       ,\n",
       "        0.        ],\n",
       "       [0.        , 0.        , 2.33333333, 0.        , 0.        ,\n",
       "        1.5       ],\n",
       "       [1.5       , 0.        , 0.        , 2.        , 0.        ,\n",
       "        0.        ],\n",
       "       [0.        , 1.5       , 0.        , 0.        , 2.        ,\n",
       "        0.        ],\n",
       "       [0.        , 0.        , 1.5       , 0.        , 0.        ,\n",
       "        2.        ]])"
      ]
     },
     "execution_count": 15,
     "metadata": {},
     "output_type": "execute_result"
    }
   ],
   "source": [
    "kf.P_hat"
   ]
  },
  {
   "cell_type": "markdown",
   "id": "e0015962-7d54-473e-af1e-1e62594fa62d",
   "metadata": {},
   "source": [
    "## Derive best Q"
   ]
  },
  {
   "cell_type": "code",
   "execution_count": 1,
   "id": "774b390b-eccb-42ee-94bc-002a5a7037df",
   "metadata": {},
   "outputs": [],
   "source": [
    "from tracking.kalman.convergence import kalman_gain_pv, real_and_positive, _is_imaginary"
   ]
  },
  {
   "cell_type": "code",
   "execution_count": 2,
   "id": "9ac90f83-4e5d-4268-be14-9558314e42f9",
   "metadata": {},
   "outputs": [
    {
     "data": {
      "text/plain": [
       "array([[0.7567382 ],\n",
       "       [0.49321578]])"
      ]
     },
     "execution_count": 2,
     "metadata": {},
     "output_type": "execute_result"
    }
   ],
   "source": [
    "kalman_gain_pv(1, 1)"
   ]
  },
  {
   "cell_type": "code",
   "execution_count": 20,
   "id": "b1fc3bec-583f-4add-89ba-5c4cd247f813",
   "metadata": {},
   "outputs": [],
   "source": [
    "from sympy.solvers import solve, solveset, nsolve, nonlinsolve\n",
    "from sympy import Symbol, symbols, N, simplify, diff\n",
    "from sympy.matrices import Matrix"
   ]
  },
  {
   "cell_type": "markdown",
   "id": "376910fe-2c2c-442f-abd3-a954db61e77f",
   "metadata": {},
   "source": [
    "Solve for stable covariance of the estimated state. Use separate values of Q for each element of the process noise matrix (otherwise `sympy` fails to solve the system of equations)."
   ]
  },
  {
   "cell_type": "code",
   "execution_count": 4,
   "id": "f562b326-6c74-4a09-937b-8f4b977d1a83",
   "metadata": {},
   "outputs": [],
   "source": [
    "Px, Pv, Pxv, Qx, Qv, Qxv, Qint, Rx = symbols(\"P_x, P_v, P_xv, Q_x, Q_v, Q_xv, Q, R_x\", positive=True)"
   ]
  },
  {
   "cell_type": "code",
   "execution_count": 5,
   "id": "65474a00-8202-4217-b8a7-0512f650a34e",
   "metadata": {},
   "outputs": [
    {
     "data": {
      "text/latex": [
       "$\\displaystyle \\left[\\begin{matrix}- P_{v} - 2 P_{xv} - Q_{x} + \\frac{\\left(P_{v} + P_{x} + 2 P_{xv} + Q_{x}\\right)^{2}}{P_{v} + P_{x} + 2 P_{xv} + Q_{x} + R_{x}} & - P_{v} - Q_{xv} + \\frac{\\left(P_{v} + P_{xv} + Q_{xv}\\right) \\left(P_{v} + P_{x} + 2 P_{xv} + Q_{x}\\right)}{P_{v} + P_{x} + 2 P_{xv} + Q_{x} + R_{x}}\\\\- P_{v} - Q_{xv} + \\frac{\\left(P_{v} + P_{xv} + Q_{xv}\\right) \\left(P_{v} + P_{x} + 2 P_{xv} + Q_{x}\\right)}{P_{v} + P_{x} + 2 P_{xv} + Q_{x} + R_{x}} & - Q_{v} + \\frac{\\left(P_{v} + P_{xv} + Q_{xv}\\right)^{2}}{P_{v} + P_{x} + 2 P_{xv} + Q_{x} + R_{x}}\\end{matrix}\\right]$"
      ],
      "text/plain": [
       "Matrix([\n",
       "[         -P_v - 2*P_xv - Q_x + (P_v + P_x + 2*P_xv + Q_x)**2/(P_v + P_x + 2*P_xv + Q_x + R_x), -P_v - Q_xv + (P_v + P_xv + Q_xv)*(P_v + P_x + 2*P_xv + Q_x)/(P_v + P_x + 2*P_xv + Q_x + R_x)],\n",
       "[-P_v - Q_xv + (P_v + P_xv + Q_xv)*(P_v + P_x + 2*P_xv + Q_x)/(P_v + P_x + 2*P_xv + Q_x + R_x),                                -Q_v + (P_v + P_xv + Q_xv)**2/(P_v + P_x + 2*P_xv + Q_x + R_x)]])"
      ]
     },
     "execution_count": 5,
     "metadata": {},
     "output_type": "execute_result"
    }
   ],
   "source": [
    "F = Matrix([[1, 1], [0, 1]])\n",
    "Q = Matrix([[Qx, Qxv], [Qxv, Qv]])\n",
    "H = Matrix([[1, 0]])\n",
    "R = Matrix([Rx])\n",
    "\n",
    "P = Matrix([[Px, Pxv], [Pxv, Pv]])\n",
    "Pn = F*P*F.T + Q\n",
    "S = H*Pn*H.T + R\n",
    "K = Pn*H.T*S.inv()\n",
    "\n",
    "X = P - Pn + K*S*K.T\n",
    "X"
   ]
  },
  {
   "cell_type": "code",
   "execution_count": 6,
   "id": "ec482767-9cb3-4d8c-944c-0ea786eccca6",
   "metadata": {},
   "outputs": [],
   "source": [
    "res = nonlinsolve([X[0,0], X[0, 1], X[1, 1]], [Px, Pv, Pxv])"
   ]
  },
  {
   "cell_type": "markdown",
   "id": "ce9f822f-b8a2-4acc-bb07-36caefbfe364",
   "metadata": {},
   "source": [
    "Display all solutions - only one of the is both real-valued and positive-valued."
   ]
  },
  {
   "cell_type": "code",
   "execution_count": 7,
   "id": "e9344b36-8372-40aa-82d7-4e7902550af5",
   "metadata": {},
   "outputs": [
    {
     "data": {
      "text/latex": [
       "$\\displaystyle \\left( - \\frac{\\sqrt{Q_{v}} \\sqrt{Q_{v} + 4 Q_{x} - 4 Q_{xv} + 16 R_{x}}}{4} - \\frac{Q_{v}}{4} - \\frac{Q_{x}}{2} + \\frac{Q_{xv}}{2} - \\frac{\\sqrt{2} \\sqrt{Q_{v}^{\\frac{3}{2}} \\sqrt{Q_{v} + 4 Q_{x} - 4 Q_{xv} + 16 R_{x}} + Q_{v}^{2} + 2 Q_{v} Q_{x} - 2 Q_{v} Q_{xv}}}{8} - \\frac{\\sqrt{2} \\sqrt{Q_{v} + 4 Q_{x} - 4 Q_{xv} + 16 R_{x}} \\sqrt{Q_{v}^{\\frac{3}{2}} \\sqrt{Q_{v} + 4 Q_{x} - 4 Q_{xv} + 16 R_{x}} + Q_{v}^{2} + 2 Q_{v} Q_{x} - 2 Q_{v} Q_{xv}}}{8 \\sqrt{Q_{v}}}, \\  - Q_{xv} - \\frac{\\sqrt{2 Q_{v}^{\\frac{3}{2}} \\sqrt{Q_{v} + 4 Q_{x} - 4 Q_{xv} + 16 R_{x}} + 2 Q_{v}^{2} + 4 Q_{v} Q_{x} - 4 Q_{v} Q_{xv}}}{2}, \\  \\frac{\\sqrt{Q_{v}} \\sqrt{Q_{v} + 4 Q_{x} - 4 Q_{xv} + 16 R_{x}}}{4} + \\frac{Q_{v}}{4} + \\frac{\\sqrt{- 4 Q_{v} R_{x} + \\frac{\\left(\\sqrt{Q_{v}} \\sqrt{Q_{v} + 4 Q_{x} - 4 Q_{xv} + 16 R_{x}} + Q_{v}\\right)^{2}}{4}}}{2}\\right)$"
      ],
      "text/plain": [
       "(-sqrt(Q_v)*sqrt(Q_v + 4*Q_x - 4*Q_xv + 16*R_x)/4 - Q_v/4 - Q_x/2 + Q_xv/2 - sqrt(2)*sqrt(Q_v**(3/2)*sqrt(Q_v + 4*Q_x - 4*Q_xv + 16*R_x) + Q_v**2 + 2*Q_v*Q_x - 2*Q_v*Q_xv)/8 - sqrt(2)*sqrt(Q_v + 4*Q_x - 4*Q_xv + 16*R_x)*sqrt(Q_v**(3/2)*sqrt(Q_v + 4*Q_x - 4*Q_xv + 16*R_x) + Q_v**2 + 2*Q_v*Q_x - 2*Q_v*Q_xv)/(8*sqrt(Q_v)), -Q_xv - sqrt(2*Q_v**(3/2)*sqrt(Q_v + 4*Q_x - 4*Q_xv + 16*R_x) + 2*Q_v**2 + 4*Q_v*Q_x - 4*Q_v*Q_xv)/2, sqrt(Q_v)*sqrt(Q_v + 4*Q_x - 4*Q_xv + 16*R_x)/4 + Q_v/4 + sqrt(-4*Q_v*R_x + (sqrt(Q_v)*sqrt(Q_v + 4*Q_x - 4*Q_xv + 16*R_x) + Q_v)**2/4)/2)"
      ]
     },
     "metadata": {},
     "output_type": "display_data"
    },
    {
     "data": {
      "text/latex": [
       "$\\displaystyle \\left( - \\frac{\\sqrt{Q_{v}} \\sqrt{Q_{v} + 4 Q_{x} - 4 Q_{xv} + 16 R_{x}}}{4} - \\frac{Q_{v}}{4} - \\frac{Q_{x}}{2} + \\frac{Q_{xv}}{2} + \\frac{\\sqrt{2} \\sqrt{Q_{v}^{\\frac{3}{2}} \\sqrt{Q_{v} + 4 Q_{x} - 4 Q_{xv} + 16 R_{x}} + Q_{v}^{2} + 2 Q_{v} Q_{x} - 2 Q_{v} Q_{xv}}}{8} + \\frac{\\sqrt{2} \\sqrt{Q_{v} + 4 Q_{x} - 4 Q_{xv} + 16 R_{x}} \\sqrt{Q_{v}^{\\frac{3}{2}} \\sqrt{Q_{v} + 4 Q_{x} - 4 Q_{xv} + 16 R_{x}} + Q_{v}^{2} + 2 Q_{v} Q_{x} - 2 Q_{v} Q_{xv}}}{8 \\sqrt{Q_{v}}}, \\  - Q_{xv} + \\frac{\\sqrt{2 Q_{v}^{\\frac{3}{2}} \\sqrt{Q_{v} + 4 Q_{x} - 4 Q_{xv} + 16 R_{x}} + 2 Q_{v}^{2} + 4 Q_{v} Q_{x} - 4 Q_{v} Q_{xv}}}{2}, \\  \\frac{\\sqrt{Q_{v}} \\sqrt{Q_{v} + 4 Q_{x} - 4 Q_{xv} + 16 R_{x}}}{4} + \\frac{Q_{v}}{4} - \\frac{\\sqrt{- 4 Q_{v} R_{x} + \\frac{\\left(\\sqrt{Q_{v}} \\sqrt{Q_{v} + 4 Q_{x} - 4 Q_{xv} + 16 R_{x}} + Q_{v}\\right)^{2}}{4}}}{2}\\right)$"
      ],
      "text/plain": [
       "(-sqrt(Q_v)*sqrt(Q_v + 4*Q_x - 4*Q_xv + 16*R_x)/4 - Q_v/4 - Q_x/2 + Q_xv/2 + sqrt(2)*sqrt(Q_v**(3/2)*sqrt(Q_v + 4*Q_x - 4*Q_xv + 16*R_x) + Q_v**2 + 2*Q_v*Q_x - 2*Q_v*Q_xv)/8 + sqrt(2)*sqrt(Q_v + 4*Q_x - 4*Q_xv + 16*R_x)*sqrt(Q_v**(3/2)*sqrt(Q_v + 4*Q_x - 4*Q_xv + 16*R_x) + Q_v**2 + 2*Q_v*Q_x - 2*Q_v*Q_xv)/(8*sqrt(Q_v)), -Q_xv + sqrt(2*Q_v**(3/2)*sqrt(Q_v + 4*Q_x - 4*Q_xv + 16*R_x) + 2*Q_v**2 + 4*Q_v*Q_x - 4*Q_v*Q_xv)/2, sqrt(Q_v)*sqrt(Q_v + 4*Q_x - 4*Q_xv + 16*R_x)/4 + Q_v/4 - sqrt(-4*Q_v*R_x + (sqrt(Q_v)*sqrt(Q_v + 4*Q_x - 4*Q_xv + 16*R_x) + Q_v)**2/4)/2)"
      ]
     },
     "metadata": {},
     "output_type": "display_data"
    },
    {
     "data": {
      "text/latex": [
       "$\\displaystyle \\left( \\frac{\\sqrt{Q_{v}} \\sqrt{Q_{v} + 4 Q_{x} - 4 Q_{xv} + 16 R_{x}}}{4} - \\frac{Q_{v}}{4} - \\frac{Q_{x}}{2} + \\frac{Q_{xv}}{2} - \\frac{\\sqrt{2} \\sqrt{- Q_{v}^{\\frac{3}{2}} \\sqrt{Q_{v} + 4 Q_{x} - 4 Q_{xv} + 16 R_{x}} + Q_{v}^{2} + 2 Q_{v} Q_{x} - 2 Q_{v} Q_{xv}}}{8} + \\frac{\\sqrt{2} \\sqrt{Q_{v} + 4 Q_{x} - 4 Q_{xv} + 16 R_{x}} \\sqrt{- Q_{v}^{\\frac{3}{2}} \\sqrt{Q_{v} + 4 Q_{x} - 4 Q_{xv} + 16 R_{x}} + Q_{v}^{2} + 2 Q_{v} Q_{x} - 2 Q_{v} Q_{xv}}}{8 \\sqrt{Q_{v}}}, \\  - Q_{xv} - \\frac{\\sqrt{- 2 Q_{v}^{\\frac{3}{2}} \\sqrt{Q_{v} + 4 Q_{x} - 4 Q_{xv} + 16 R_{x}} + 2 Q_{v}^{2} + 4 Q_{v} Q_{x} - 4 Q_{v} Q_{xv}}}{2}, \\  - \\frac{\\sqrt{Q_{v}} \\sqrt{Q_{v} + 4 Q_{x} - 4 Q_{xv} + 16 R_{x}}}{4} + \\frac{Q_{v}}{4} + \\frac{\\sqrt{- 4 Q_{v} R_{x} + \\frac{\\left(\\sqrt{Q_{v}} \\sqrt{Q_{v} + 4 Q_{x} - 4 Q_{xv} + 16 R_{x}} - Q_{v}\\right)^{2}}{4}}}{2}\\right)$"
      ],
      "text/plain": [
       "(sqrt(Q_v)*sqrt(Q_v + 4*Q_x - 4*Q_xv + 16*R_x)/4 - Q_v/4 - Q_x/2 + Q_xv/2 - sqrt(2)*sqrt(-Q_v**(3/2)*sqrt(Q_v + 4*Q_x - 4*Q_xv + 16*R_x) + Q_v**2 + 2*Q_v*Q_x - 2*Q_v*Q_xv)/8 + sqrt(2)*sqrt(Q_v + 4*Q_x - 4*Q_xv + 16*R_x)*sqrt(-Q_v**(3/2)*sqrt(Q_v + 4*Q_x - 4*Q_xv + 16*R_x) + Q_v**2 + 2*Q_v*Q_x - 2*Q_v*Q_xv)/(8*sqrt(Q_v)), -Q_xv - sqrt(-2*Q_v**(3/2)*sqrt(Q_v + 4*Q_x - 4*Q_xv + 16*R_x) + 2*Q_v**2 + 4*Q_v*Q_x - 4*Q_v*Q_xv)/2, -sqrt(Q_v)*sqrt(Q_v + 4*Q_x - 4*Q_xv + 16*R_x)/4 + Q_v/4 + sqrt(-4*Q_v*R_x + (sqrt(Q_v)*sqrt(Q_v + 4*Q_x - 4*Q_xv + 16*R_x) - Q_v)**2/4)/2)"
      ]
     },
     "metadata": {},
     "output_type": "display_data"
    },
    {
     "data": {
      "text/latex": [
       "$\\displaystyle \\left( \\frac{\\sqrt{Q_{v}} \\sqrt{Q_{v} + 4 Q_{x} - 4 Q_{xv} + 16 R_{x}}}{4} - \\frac{Q_{v}}{4} - \\frac{Q_{x}}{2} + \\frac{Q_{xv}}{2} + \\frac{\\sqrt{2} \\sqrt{- Q_{v}^{\\frac{3}{2}} \\sqrt{Q_{v} + 4 Q_{x} - 4 Q_{xv} + 16 R_{x}} + Q_{v}^{2} + 2 Q_{v} Q_{x} - 2 Q_{v} Q_{xv}}}{8} - \\frac{\\sqrt{2} \\sqrt{Q_{v} + 4 Q_{x} - 4 Q_{xv} + 16 R_{x}} \\sqrt{- Q_{v}^{\\frac{3}{2}} \\sqrt{Q_{v} + 4 Q_{x} - 4 Q_{xv} + 16 R_{x}} + Q_{v}^{2} + 2 Q_{v} Q_{x} - 2 Q_{v} Q_{xv}}}{8 \\sqrt{Q_{v}}}, \\  - Q_{xv} + \\frac{\\sqrt{- 2 Q_{v}^{\\frac{3}{2}} \\sqrt{Q_{v} + 4 Q_{x} - 4 Q_{xv} + 16 R_{x}} + 2 Q_{v}^{2} + 4 Q_{v} Q_{x} - 4 Q_{v} Q_{xv}}}{2}, \\  - \\frac{\\sqrt{Q_{v}} \\sqrt{Q_{v} + 4 Q_{x} - 4 Q_{xv} + 16 R_{x}}}{4} + \\frac{Q_{v}}{4} - \\frac{\\sqrt{- 4 Q_{v} R_{x} + \\frac{\\left(\\sqrt{Q_{v}} \\sqrt{Q_{v} + 4 Q_{x} - 4 Q_{xv} + 16 R_{x}} - Q_{v}\\right)^{2}}{4}}}{2}\\right)$"
      ],
      "text/plain": [
       "(sqrt(Q_v)*sqrt(Q_v + 4*Q_x - 4*Q_xv + 16*R_x)/4 - Q_v/4 - Q_x/2 + Q_xv/2 + sqrt(2)*sqrt(-Q_v**(3/2)*sqrt(Q_v + 4*Q_x - 4*Q_xv + 16*R_x) + Q_v**2 + 2*Q_v*Q_x - 2*Q_v*Q_xv)/8 - sqrt(2)*sqrt(Q_v + 4*Q_x - 4*Q_xv + 16*R_x)*sqrt(-Q_v**(3/2)*sqrt(Q_v + 4*Q_x - 4*Q_xv + 16*R_x) + Q_v**2 + 2*Q_v*Q_x - 2*Q_v*Q_xv)/(8*sqrt(Q_v)), -Q_xv + sqrt(-2*Q_v**(3/2)*sqrt(Q_v + 4*Q_x - 4*Q_xv + 16*R_x) + 2*Q_v**2 + 4*Q_v*Q_x - 4*Q_v*Q_xv)/2, -sqrt(Q_v)*sqrt(Q_v + 4*Q_x - 4*Q_xv + 16*R_x)/4 + Q_v/4 - sqrt(-4*Q_v*R_x + (sqrt(Q_v)*sqrt(Q_v + 4*Q_x - 4*Q_xv + 16*R_x) - Q_v)**2/4)/2)"
      ]
     },
     "metadata": {},
     "output_type": "display_data"
    }
   ],
   "source": [
    "for r in res:\n",
    "    display(r)"
   ]
  },
  {
   "cell_type": "markdown",
   "id": "41e68b9d-3b8c-4a8e-a49a-73775848b3b0",
   "metadata": {},
   "source": [
    "Now display the same but substitute specific values of process noise intensity and measurement noise (both equal `1`)."
   ]
  },
  {
   "cell_type": "code",
   "execution_count": 8,
   "id": "487e1508-00e8-40ea-8241-b81ee38a901a",
   "metadata": {},
   "outputs": [
    {
     "data": {
      "text/latex": [
       "$\\displaystyle \\left( - 1.367380350092 \\sqrt{2} - 1.17702963774851, \\  - 1.08490996757727 \\sqrt{2} - 0.5, \\  2.02751016613261\\right)$"
      ],
      "text/plain": [
       "(-1.367380350092*sqrt(2) - 1.17702963774851, -1.08490996757727*sqrt(2) - 0.5, 2.02751016613261)"
      ]
     },
     "metadata": {},
     "output_type": "display_data"
    },
    {
     "data": {
      "text/latex": [
       "$\\displaystyle \\left( -1.17702963774851 + 1.367380350092 \\sqrt{2}, \\  -0.5 + 1.08490996757727 \\sqrt{2}, \\  0.49321577603108\\right)$"
      ],
      "text/plain": [
       "(-1.17702963774851 + 1.367380350092*sqrt(2), -0.5 + 1.08490996757727*sqrt(2), 0.49321577603108)"
      ]
     },
     "metadata": {},
     "output_type": "display_data"
    },
    {
     "data": {
      "text/latex": [
       "$\\displaystyle \\left( 0.843696304415179 + 0.698415762546396 \\sqrt{2} i, \\  -0.5 - 0.918529424904384 \\sqrt{2} i, \\  -0.760362971081845 + 0.649498385069269 i\\right)$"
      ],
      "text/plain": [
       "(0.843696304415179 + 0.698415762546396*sqrt(2)*I, -0.5 - 0.918529424904384*sqrt(2)*I, -0.760362971081845 + 0.649498385069269*I)"
      ]
     },
     "metadata": {},
     "output_type": "display_data"
    },
    {
     "data": {
      "text/latex": [
       "$\\displaystyle \\left( 0.843696304415179 - 0.698415762546396 \\sqrt{2} i, \\  -0.5 + 0.918529424904384 \\sqrt{2} i, \\  -0.760362971081845 - 0.649498385069269 i\\right)$"
      ],
      "text/plain": [
       "(0.843696304415179 - 0.698415762546396*sqrt(2)*I, -0.5 + 0.918529424904384*sqrt(2)*I, -0.760362971081845 - 0.649498385069269*I)"
      ]
     },
     "metadata": {},
     "output_type": "display_data"
    }
   ],
   "source": [
    "for r in res:\n",
    "    display(r.subs({Qx: 1/3, Qv: 1, Qxv: 1/2, Rx: 1}))"
   ]
  },
  {
   "cell_type": "markdown",
   "id": "b6564376-1d9d-421f-bc0e-9edcddb4c581",
   "metadata": {},
   "source": [
    "Pick the real- and positive-valued solution and substitute process noise intensity for each element of the process noise matrix."
   ]
  },
  {
   "cell_type": "code",
   "execution_count": 9,
   "id": "157e9b31-a7e2-47e7-bdbe-afcc536dfc68",
   "metadata": {},
   "outputs": [
    {
     "data": {
      "text/latex": [
       "$\\displaystyle \\left( - \\frac{\\sqrt{Q} \\sqrt{Q + 16 R_{x}}}{4} - \\frac{Q}{4} + \\frac{\\sqrt{2} \\sqrt{Q^{\\frac{3}{2}} \\sqrt{Q + 16 R_{x}} + Q^{2}}}{8} + \\frac{\\sqrt{2} \\sqrt{Q + 16 R_{x}} \\sqrt{Q^{\\frac{3}{2}} \\sqrt{Q + 16 R_{x}} + Q^{2}}}{8 \\sqrt{Q}}, \\  - Q + \\frac{\\sqrt{2 Q^{\\frac{3}{2}} \\sqrt{Q + 16 R_{x}} + 2 Q^{2}}}{2}, \\  \\frac{\\sqrt{Q} \\sqrt{Q + 16 R_{x}}}{4} + \\frac{Q}{4} - \\frac{\\sqrt{- 4 Q R_{x} + \\frac{\\left(\\sqrt{Q} \\sqrt{Q + 16 R_{x}} + Q\\right)^{2}}{4}}}{2}\\right)$"
      ],
      "text/plain": [
       "(-sqrt(Q)*sqrt(Q + 16*R_x)/4 - Q/4 + sqrt(2)*sqrt(Q**(3/2)*sqrt(Q + 16*R_x) + Q**2)/8 + sqrt(2)*sqrt(Q + 16*R_x)*sqrt(Q**(3/2)*sqrt(Q + 16*R_x) + Q**2)/(8*sqrt(Q)), -Q + sqrt(2*Q**(3/2)*sqrt(Q + 16*R_x) + 2*Q**2)/2, sqrt(Q)*sqrt(Q + 16*R_x)/4 + Q/4 - sqrt(-4*Q*R_x + (sqrt(Q)*sqrt(Q + 16*R_x) + Q)**2/4)/2)"
      ]
     },
     "execution_count": 9,
     "metadata": {},
     "output_type": "execute_result"
    }
   ],
   "source": [
    "for r in res:\n",
    "    s = r.subs({Qx: 1/3, Qv: 1, Qxv: 1/2, Rx: 1})\n",
    "    if real_and_positive(s):\n",
    "        rap = r\n",
    "rap = rap.subs({Qx: Qint, Qv: Qint, Qxv: Qint})\n",
    "rap"
   ]
  },
  {
   "cell_type": "markdown",
   "id": "0dcc7d54-4053-47bb-bd2b-0e37505c11db",
   "metadata": {},
   "source": [
    "Express Kalmain gain in terms of `Q` and `R`:"
   ]
  },
  {
   "cell_type": "code",
   "execution_count": 10,
   "id": "6ad88db0-bf6f-4b5b-b212-310b5bdfb438",
   "metadata": {},
   "outputs": [
    {
     "data": {
      "text/latex": [
       "$\\displaystyle \\frac{2 Q^{\\frac{3}{2}} + \\sqrt{2} \\sqrt{Q} \\sqrt{Q^{\\frac{3}{2}} \\sqrt{Q + 16 R_{x}} + Q^{2}} + 2 Q \\sqrt{Q + 16 R_{x}} + \\sqrt{2} \\sqrt{Q + 16 R_{x}} \\sqrt{Q^{\\frac{3}{2}} \\sqrt{Q + 16 R_{x}} + Q^{2}}}{2 Q^{\\frac{3}{2}} + 8 \\sqrt{Q} R_{x} + \\sqrt{2} \\sqrt{Q} \\sqrt{Q^{\\frac{3}{2}} \\sqrt{Q + 16 R_{x}} + Q^{2}} + 2 Q \\sqrt{Q + 16 R_{x}} + \\sqrt{2} \\sqrt{Q + 16 R_{x}} \\sqrt{Q^{\\frac{3}{2}} \\sqrt{Q + 16 R_{x}} + Q^{2}}}$"
      ],
      "text/plain": [
       "(2*Q**(3/2) + sqrt(2)*sqrt(Q)*sqrt(Q**(3/2)*sqrt(Q + 16*R_x) + Q**2) + 2*Q*sqrt(Q + 16*R_x) + sqrt(2)*sqrt(Q + 16*R_x)*sqrt(Q**(3/2)*sqrt(Q + 16*R_x) + Q**2))/(2*Q**(3/2) + 8*sqrt(Q)*R_x + sqrt(2)*sqrt(Q)*sqrt(Q**(3/2)*sqrt(Q + 16*R_x) + Q**2) + 2*Q*sqrt(Q + 16*R_x) + sqrt(2)*sqrt(Q + 16*R_x)*sqrt(Q**(3/2)*sqrt(Q + 16*R_x) + Q**2))"
      ]
     },
     "execution_count": 10,
     "metadata": {},
     "output_type": "execute_result"
    }
   ],
   "source": [
    "Kx = simplify(K[0,0].subs({Px: rap[0], Pv: rap[1], Pxv: rap[2], Qx: Qint, Qxv: Qint}))\n",
    "Kx"
   ]
  },
  {
   "cell_type": "code",
   "execution_count": 11,
   "id": "577c6c06-5a4c-4028-a39d-caee5c7a6f40",
   "metadata": {},
   "outputs": [
    {
     "data": {
      "text/latex": [
       "$\\displaystyle \\frac{2 \\left(Q^{\\frac{3}{2}} + \\sqrt{2} \\sqrt{Q} \\sqrt{Q^{\\frac{3}{2}} \\sqrt{Q + 16 R_{x}} + Q^{2}} + Q \\sqrt{Q + 16 R_{x}}\\right)}{2 Q^{\\frac{3}{2}} + 8 \\sqrt{Q} R_{x} + \\sqrt{2} \\sqrt{Q} \\sqrt{Q^{\\frac{3}{2}} \\sqrt{Q + 16 R_{x}} + Q^{2}} + 2 Q \\sqrt{Q + 16 R_{x}} + \\sqrt{2} \\sqrt{Q + 16 R_{x}} \\sqrt{Q^{\\frac{3}{2}} \\sqrt{Q + 16 R_{x}} + Q^{2}}}$"
      ],
      "text/plain": [
       "2*(Q**(3/2) + sqrt(2)*sqrt(Q)*sqrt(Q**(3/2)*sqrt(Q + 16*R_x) + Q**2) + Q*sqrt(Q + 16*R_x))/(2*Q**(3/2) + 8*sqrt(Q)*R_x + sqrt(2)*sqrt(Q)*sqrt(Q**(3/2)*sqrt(Q + 16*R_x) + Q**2) + 2*Q*sqrt(Q + 16*R_x) + sqrt(2)*sqrt(Q + 16*R_x)*sqrt(Q**(3/2)*sqrt(Q + 16*R_x) + Q**2))"
      ]
     },
     "execution_count": 11,
     "metadata": {},
     "output_type": "execute_result"
    }
   ],
   "source": [
    "Kv = simplify(K[1,0].subs({Px: rap[0], Pv: rap[1], Pxv: rap[2], Qx: Qint, Qxv: Qint}))\n",
    "Kv"
   ]
  },
  {
   "cell_type": "markdown",
   "id": "38f7492e-5c10-4bde-914d-1341c9496c1b",
   "metadata": {},
   "source": [
    "Kalman gain is expected to converge to 1 with growing process noise intensity:"
   ]
  },
  {
   "cell_type": "code",
   "execution_count": 12,
   "id": "48adea0a-e008-4715-a2a6-6c7600ba5ef6",
   "metadata": {},
   "outputs": [
    {
     "name": "stdout",
     "output_type": "stream",
     "text": [
      "0.136199045376664 0.00995287609199854\n",
      "0.159826911385330 0.0138816515473579\n",
      "0.196725352986941 0.0214614365992117\n",
      "0.229420841016803 0.0297269523510509\n",
      "0.266627785664707 0.0410127585411460\n",
      "0.323198621442590 0.0622956005631733\n",
      "0.371759203202062 0.0848798933408515\n",
      "0.425220038435437 0.114817362107780\n",
      "0.502792503068839 0.168847872896974\n",
      "0.565744612991931 0.223158978539426\n",
      "0.631050243913278 0.290897754700196\n",
      "0.717995881234692 0.402118899560537\n",
      "0.781270463036945 0.500835926185045\n",
      "0.939568331185409 0.832480465199012\n",
      "0.991704001587896 0.975385034071597\n",
      "0.999132527479233 0.997400589863137\n",
      "0.999912845587930 0.999738567144709\n"
     ]
    }
   ],
   "source": [
    "for q in [.01, .02, .05, .1, .2, .5, 1, 2, 5, 10, 20, 50, 100, 1000, 1e4, 1e5, 1e6]:\n",
    "    Kxf = Kx.subs({Qint: q, Rx: 87.2}).evalf()\n",
    "    Kvf = Kv.subs({Qint: q, Rx: 87.2}).evalf()\n",
    "    print(Kxf, Kvf)"
   ]
  },
  {
   "cell_type": "code",
   "execution_count": 13,
   "id": "89e88270-070c-4bc1-9890-e563eb7f6969",
   "metadata": {},
   "outputs": [],
   "source": [
    "solved_P = rap\n",
    "solved_Kx = Kx\n",
    "solved_Kv = Kv"
   ]
  },
  {
   "cell_type": "markdown",
   "id": "bf3df7da-d8b2-418b-9269-81226a53d528",
   "metadata": {},
   "source": [
    "## Accurate variance"
   ]
  },
  {
   "cell_type": "code",
   "execution_count": 103,
   "id": "734ac4f6-fd5b-485e-9e55-8ed9721a375a",
   "metadata": {},
   "outputs": [],
   "source": [
    "def expected_rmse(Kx, Kv, a):\n",
    "    return (1-Kx)**2*a**2*((1-Kx)/Kv + 1)**2 + Kx**2*Rx"
   ]
  },
  {
   "cell_type": "code",
   "execution_count": 104,
   "id": "9cc32264-e513-464b-9c73-76aae4ec1c0a",
   "metadata": {},
   "outputs": [
    {
     "data": {
      "text/latex": [
       "$\\displaystyle K_{x}^{2} R_{x} + a^{2} \\left(1 - K_{x}\\right)^{2} \\left(1 + \\frac{1 - K_{x}}{K_{v}}\\right)^{2}$"
      ],
      "text/plain": [
       "K_x**2*R_x + a**2*(1 - K_x)**2*(1 + (1 - K_x)/K_v)**2"
      ]
     },
     "execution_count": 104,
     "metadata": {},
     "output_type": "execute_result"
    }
   ],
   "source": [
    "expected_rmse(*symbols(\"K_x, K_v, a\"))"
   ]
  },
  {
   "cell_type": "code",
   "execution_count": 105,
   "id": "db41303a-1959-40f8-b710-6a082c563906",
   "metadata": {},
   "outputs": [
    {
     "data": {
      "text/latex": [
       "$\\displaystyle \\frac{R_{x} \\left(64 Q R_{x} a^{2} \\left(Q^{\\frac{3}{2}} + 4 \\sqrt{Q} R_{x} + \\sqrt{2} \\sqrt{Q} \\sqrt{Q^{\\frac{3}{2}} \\sqrt{Q + 16 R_{x}} + Q^{2}} + Q \\sqrt{Q + 16 R_{x}}\\right)^{2} + \\left(Q^{\\frac{3}{2}} + \\sqrt{2} \\sqrt{Q} \\sqrt{Q^{\\frac{3}{2}} \\sqrt{Q + 16 R_{x}} + Q^{2}} + Q \\sqrt{Q + 16 R_{x}}\\right)^{2} \\left(2 Q^{\\frac{3}{2}} + \\sqrt{2} \\sqrt{Q} \\sqrt{Q^{\\frac{3}{2}} \\sqrt{Q + 16 R_{x}} + Q^{2}} + 2 Q \\sqrt{Q + 16 R_{x}} + \\sqrt{2} \\sqrt{Q + 16 R_{x}} \\sqrt{Q^{\\frac{3}{2}} \\sqrt{Q + 16 R_{x}} + Q^{2}}\\right)^{2}\\right)}{\\left(Q^{\\frac{3}{2}} + \\sqrt{2} \\sqrt{Q} \\sqrt{Q^{\\frac{3}{2}} \\sqrt{Q + 16 R_{x}} + Q^{2}} + Q \\sqrt{Q + 16 R_{x}}\\right)^{2} \\left(2 Q^{\\frac{3}{2}} + 8 \\sqrt{Q} R_{x} + \\sqrt{2} \\sqrt{Q} \\sqrt{Q^{\\frac{3}{2}} \\sqrt{Q + 16 R_{x}} + Q^{2}} + 2 Q \\sqrt{Q + 16 R_{x}} + \\sqrt{2} \\sqrt{Q + 16 R_{x}} \\sqrt{Q^{\\frac{3}{2}} \\sqrt{Q + 16 R_{x}} + Q^{2}}\\right)^{2}}$"
      ],
      "text/plain": [
       "R_x*(64*Q*R_x*a**2*(Q**(3/2) + 4*sqrt(Q)*R_x + sqrt(2)*sqrt(Q)*sqrt(Q**(3/2)*sqrt(Q + 16*R_x) + Q**2) + Q*sqrt(Q + 16*R_x))**2 + (Q**(3/2) + sqrt(2)*sqrt(Q)*sqrt(Q**(3/2)*sqrt(Q + 16*R_x) + Q**2) + Q*sqrt(Q + 16*R_x))**2*(2*Q**(3/2) + sqrt(2)*sqrt(Q)*sqrt(Q**(3/2)*sqrt(Q + 16*R_x) + Q**2) + 2*Q*sqrt(Q + 16*R_x) + sqrt(2)*sqrt(Q + 16*R_x)*sqrt(Q**(3/2)*sqrt(Q + 16*R_x) + Q**2))**2)/((Q**(3/2) + sqrt(2)*sqrt(Q)*sqrt(Q**(3/2)*sqrt(Q + 16*R_x) + Q**2) + Q*sqrt(Q + 16*R_x))**2*(2*Q**(3/2) + 8*sqrt(Q)*R_x + sqrt(2)*sqrt(Q)*sqrt(Q**(3/2)*sqrt(Q + 16*R_x) + Q**2) + 2*Q*sqrt(Q + 16*R_x) + sqrt(2)*sqrt(Q + 16*R_x)*sqrt(Q**(3/2)*sqrt(Q + 16*R_x) + Q**2))**2)"
      ]
     },
     "execution_count": 105,
     "metadata": {},
     "output_type": "execute_result"
    }
   ],
   "source": [
    "e = simplify(expected_rmse(solved_Kx, solved_Kv, Symbol(\"a\")))\n",
    "e"
   ]
  },
  {
   "cell_type": "code",
   "execution_count": 106,
   "id": "b696eedf-af63-4346-8daa-4f88caf972ba",
   "metadata": {},
   "outputs": [
    {
     "data": {
      "text/latex": [
       "$\\displaystyle \\frac{1900.96 Q \\left(3.2878124736975 \\cdot 10^{-5} Q^{\\frac{3}{2}} + 0.000614038040249598 \\sqrt{2} \\sqrt{Q} \\sqrt{Q^{\\frac{3}{2}} \\sqrt{8.21953118424375 \\cdot 10^{-6} Q + 1} + 0.00286697247706422 Q^{2}} + \\sqrt{Q} + 0.0114678899082569 Q \\sqrt{8.21953118424375 \\cdot 10^{-6} Q + 1}\\right)^{2} + 87.2 \\left(0.00286697247706422 Q^{\\frac{3}{2}} + 0.0535441171097649 \\sqrt{2} \\sqrt{Q} \\sqrt{Q^{\\frac{3}{2}} \\sqrt{8.21953118424375 \\cdot 10^{-6} Q + 1} + 0.00286697247706422 Q^{2}} + Q \\sqrt{8.21953118424375 \\cdot 10^{-6} Q + 1}\\right)^{2} \\left(0.000307019020124799 Q^{\\frac{3}{2}} + 0.00286697247706422 \\sqrt{2} \\sqrt{Q} \\sqrt{Q^{\\frac{3}{2}} \\sqrt{8.21953118424375 \\cdot 10^{-6} Q + 1} + 0.00286697247706422 Q^{2}} + 0.10708823421953 Q \\sqrt{8.21953118424375 \\cdot 10^{-6} Q + 1} + \\sqrt{2} \\sqrt{8.21953118424375 \\cdot 10^{-6} Q + 1} \\sqrt{Q^{\\frac{3}{2}} \\sqrt{8.21953118424375 \\cdot 10^{-6} Q + 1} + 0.00286697247706422 Q^{2}}\\right)^{2}}{\\left(0.00286697247706422 Q^{\\frac{3}{2}} + 0.0535441171097649 \\sqrt{2} \\sqrt{Q} \\sqrt{Q^{\\frac{3}{2}} \\sqrt{8.21953118424375 \\cdot 10^{-6} Q + 1} + 0.00286697247706422 Q^{2}} + Q \\sqrt{8.21953118424375 \\cdot 10^{-6} Q + 1}\\right)^{2} \\left(3.2878124736975 \\cdot 10^{-5} Q^{\\frac{3}{2}} + 0.000307019020124799 \\sqrt{2} \\sqrt{Q} \\sqrt{Q^{\\frac{3}{2}} \\sqrt{8.21953118424375 \\cdot 10^{-6} Q + 1} + 0.00286697247706422 Q^{2}} + \\sqrt{Q} + 0.0114678899082569 Q \\sqrt{8.21953118424375 \\cdot 10^{-6} Q + 1} + 0.10708823421953 \\sqrt{2} \\sqrt{8.21953118424375 \\cdot 10^{-6} Q + 1} \\sqrt{Q^{\\frac{3}{2}} \\sqrt{8.21953118424375 \\cdot 10^{-6} Q + 1} + 0.00286697247706422 Q^{2}}\\right)^{2}}$"
      ],
      "text/plain": [
       "(1900.96*Q*(3.2878124736975e-5*Q**(3/2) + 0.000614038040249598*sqrt(2)*sqrt(Q)*sqrt(Q**(3/2)*sqrt(8.21953118424375e-6*Q + 1) + 0.00286697247706422*Q**2) + sqrt(Q) + 0.0114678899082569*Q*sqrt(8.21953118424375e-6*Q + 1))**2 + 87.2*(0.00286697247706422*Q**(3/2) + 0.0535441171097649*sqrt(2)*sqrt(Q)*sqrt(Q**(3/2)*sqrt(8.21953118424375e-6*Q + 1) + 0.00286697247706422*Q**2) + Q*sqrt(8.21953118424375e-6*Q + 1))**2*(0.000307019020124799*Q**(3/2) + 0.00286697247706422*sqrt(2)*sqrt(Q)*sqrt(Q**(3/2)*sqrt(8.21953118424375e-6*Q + 1) + 0.00286697247706422*Q**2) + 0.10708823421953*Q*sqrt(8.21953118424375e-6*Q + 1) + sqrt(2)*sqrt(8.21953118424375e-6*Q + 1)*sqrt(Q**(3/2)*sqrt(8.21953118424375e-6*Q + 1) + 0.00286697247706422*Q**2))**2)/((0.00286697247706422*Q**(3/2) + 0.0535441171097649*sqrt(2)*sqrt(Q)*sqrt(Q**(3/2)*sqrt(8.21953118424375e-6*Q + 1) + 0.00286697247706422*Q**2) + Q*sqrt(8.21953118424375e-6*Q + 1))**2*(3.2878124736975e-5*Q**(3/2) + 0.000307019020124799*sqrt(2)*sqrt(Q)*sqrt(Q**(3/2)*sqrt(8.21953118424375e-6*Q + 1) + 0.00286697247706422*Q**2) + sqrt(Q) + 0.0114678899082569*Q*sqrt(8.21953118424375e-6*Q + 1) + 0.10708823421953*sqrt(2)*sqrt(8.21953118424375e-6*Q + 1)*sqrt(Q**(3/2)*sqrt(8.21953118424375e-6*Q + 1) + 0.00286697247706422*Q**2))**2)"
      ]
     },
     "execution_count": 106,
     "metadata": {},
     "output_type": "execute_result"
    }
   ],
   "source": [
    "exp_rmse = simplify(e.subs({Kx: solved_Kx, Kv: solved_Kv, Rx: 87.2**2, a: .5}))\n",
    "exp_rmse"
   ]
  },
  {
   "cell_type": "code",
   "execution_count": 107,
   "id": "a8d74860-0059-4ae6-8e3f-879dfe2cbbdd",
   "metadata": {},
   "outputs": [
    {
     "data": {
      "text/latex": [
       "$\\displaystyle \\left[\\begin{matrix}6.9680036994844\\end{matrix}\\right]$"
      ],
      "text/plain": [
       "Matrix([[6.9680036994844]])"
      ]
     },
     "execution_count": 107,
     "metadata": {},
     "output_type": "execute_result"
    }
   ],
   "source": [
    "nsolve([diff(exp_rmse, Qint)], [Qint], 2, verify=False)"
   ]
  },
  {
   "cell_type": "code",
   "execution_count": 108,
   "id": "6f64e456-8cb2-4db9-823c-f6a0a89e6278",
   "metadata": {},
   "outputs": [
    {
     "name": "stdout",
     "output_type": "stream",
     "text": [
      "0.1 406.27330949819867\n",
      "0.5 75.22958512670105\n",
      "1 37.241719174837186\n",
      "2 23.36316135622148\n",
      "5 25.715692274881533\n",
      "10 33.39361526631812\n",
      "20 43.193496737899395\n"
     ]
    }
   ],
   "source": [
    "for q in [.1, .5, 1, 2, 5, 10, 20]:\n",
    "    print(q, np.sqrt(float(exp_rmse.subs({Qint: q*q}).evalf())))"
   ]
  },
  {
   "cell_type": "code",
   "execution_count": 102,
   "id": "2950cf9d-39c1-4c08-a0df-a12237caab43",
   "metadata": {},
   "outputs": [
    {
     "data": {
      "text/plain": [
       "1.0101010101010104"
      ]
     },
     "execution_count": 102,
     "metadata": {},
     "output_type": "execute_result"
    }
   ],
   "source": []
  },
  {
   "cell_type": "markdown",
   "id": "6795ac13-9a53-4ac4-b201-b1886fd71359",
   "metadata": {},
   "source": [
    "## Approximated variance"
   ]
  },
  {
   "cell_type": "markdown",
   "id": "1ea8fc80-cd0b-4d1f-b836-3d952b70b9ea",
   "metadata": {},
   "source": [
    "Variance of RMSE. We know that when CV motion model is used to track CA target, the error in position stabilizes at:\n",
    "\n",
    "$$d_x = \\frac{at}{K-v}$$\n",
    "\n",
    "Thus, in the update step of the Kalman filter we will weigh the forward-predicted variance against the measurement error. For now, we approximate this as:\n",
    "\n",
    "$$(1-K_x)^2 d_x + K_x^2\\mathcal{N}(0, R)$$\n",
    "\n",
    "We get MSE by taking the square of the above. What is the expected value of that?\n",
    "\n",
    "$$\\mathrm{E}\\left[\\left((1-K_x)^2 d_x + K_x^2\\mathcal{N}(0, R)\\right)^2\\right]$$"
   ]
  },
  {
   "cell_type": "markdown",
   "id": "92a76ba2-ac69-474b-8519-9f72014495a0",
   "metadata": {},
   "source": [
    "$$\\mathrm{E}\\left[(1-K_x)^4d_x^2 + 2K_x^2(1-K_x)^2d_x \\mathcal{N}(0, R) + K_x^4\\mathcal{N}^2(0, R)\\right]$$"
   ]
  },
  {
   "cell_type": "markdown",
   "id": "4c7aae80-ef15-40d4-a9ce-39307fb16380",
   "metadata": {},
   "source": [
    "first term is a constants, second term is multiplied by the expected value of $\\mathcal{N}(0, R)$ which is zero, and the expected value of the squared normal variable in the third term is $R^2$ (see [here](https://math.stackexchange.com/questions/620045/mean-and-variance-of-squared-gaussian-y-x2-where-x-sim-mathcaln0-sigma)):\n",
    "\n",
    "$$(1-K_x)^{4}d_x^2 + K_x^{4}R^2$$"
   ]
  },
  {
   "cell_type": "markdown",
   "id": "1197de4c-9684-4460-bee9-aef69bdae870",
   "metadata": {},
   "source": [
    "with $d_x = \\frac{at}{K_v}$ we get:\n",
    "\n",
    "$$(1-K_x)^{4}\\frac{a^2t^2}{K_v^2} + K_x^{4}R^2$$"
   ]
  },
  {
   "cell_type": "code",
   "execution_count": 104,
   "id": "c95f65b8-128c-4260-999b-83edcf298b9e",
   "metadata": {},
   "outputs": [
    {
     "data": {
      "text/latex": [
       "$\\displaystyle \\frac{1024 Q^{2} R_{x}^{4} a^{2}}{\\left(Q^{\\frac{3}{2}} + \\sqrt{2} \\sqrt{Q} \\sqrt{Q^{\\frac{3}{2}} \\sqrt{Q + 16 R_{x}} + Q^{2}} + Q \\sqrt{Q + 16 R_{x}}\\right)^{2} \\left(2 Q^{\\frac{3}{2}} + 8 \\sqrt{Q} R_{x} + \\sqrt{2} \\sqrt{Q} \\sqrt{Q^{\\frac{3}{2}} \\sqrt{Q + 16 R_{x}} + Q^{2}} + 2 Q \\sqrt{Q + 16 R_{x}} + \\sqrt{2} \\sqrt{Q + 16 R_{x}} \\sqrt{Q^{\\frac{3}{2}} \\sqrt{Q + 16 R_{x}} + Q^{2}}\\right)^{2}} + \\frac{R_{x}^{2} \\left(2 Q^{\\frac{3}{2}} + \\sqrt{2} \\sqrt{Q} \\sqrt{Q^{\\frac{3}{2}} \\sqrt{Q + 16 R_{x}} + Q^{2}} + 2 Q \\sqrt{Q + 16 R_{x}} + \\sqrt{2} \\sqrt{Q + 16 R_{x}} \\sqrt{Q^{\\frac{3}{2}} \\sqrt{Q + 16 R_{x}} + Q^{2}}\\right)^{4}}{\\left(2 Q^{\\frac{3}{2}} + 8 \\sqrt{Q} R_{x} + \\sqrt{2} \\sqrt{Q} \\sqrt{Q^{\\frac{3}{2}} \\sqrt{Q + 16 R_{x}} + Q^{2}} + 2 Q \\sqrt{Q + 16 R_{x}} + \\sqrt{2} \\sqrt{Q + 16 R_{x}} \\sqrt{Q^{\\frac{3}{2}} \\sqrt{Q + 16 R_{x}} + Q^{2}}\\right)^{4}}$"
      ],
      "text/plain": [
       "1024*Q**2*R_x**4*a**2/((Q**(3/2) + sqrt(2)*sqrt(Q)*sqrt(Q**(3/2)*sqrt(Q + 16*R_x) + Q**2) + Q*sqrt(Q + 16*R_x))**2*(2*Q**(3/2) + 8*sqrt(Q)*R_x + sqrt(2)*sqrt(Q)*sqrt(Q**(3/2)*sqrt(Q + 16*R_x) + Q**2) + 2*Q*sqrt(Q + 16*R_x) + sqrt(2)*sqrt(Q + 16*R_x)*sqrt(Q**(3/2)*sqrt(Q + 16*R_x) + Q**2))**2) + R_x**2*(2*Q**(3/2) + sqrt(2)*sqrt(Q)*sqrt(Q**(3/2)*sqrt(Q + 16*R_x) + Q**2) + 2*Q*sqrt(Q + 16*R_x) + sqrt(2)*sqrt(Q + 16*R_x)*sqrt(Q**(3/2)*sqrt(Q + 16*R_x) + Q**2))**4/(2*Q**(3/2) + 8*sqrt(Q)*R_x + sqrt(2)*sqrt(Q)*sqrt(Q**(3/2)*sqrt(Q + 16*R_x) + Q**2) + 2*Q*sqrt(Q + 16*R_x) + sqrt(2)*sqrt(Q + 16*R_x)*sqrt(Q**(3/2)*sqrt(Q + 16*R_x) + Q**2))**4"
      ]
     },
     "execution_count": 104,
     "metadata": {},
     "output_type": "execute_result"
    }
   ],
   "source": [
    "a = Symbol(\"a\")\n",
    "rmse = a**2*(1 - Kx)**4/Kv**2 + Kx**4*Rx**2\n",
    "rmse = simplify(rmse)\n",
    "rmse"
   ]
  },
  {
   "cell_type": "code",
   "execution_count": 105,
   "id": "ac3e6de4-7eb5-43a3-802e-a7f4310ef6bd",
   "metadata": {},
   "outputs": [
    {
     "name": "stdout",
     "output_type": "stream",
     "text": [
      "0.01 1407.68516467729\n",
      "0.02 651.408535677971\n",
      "0.05 237.373212622845\n",
      "0.1 120.814080037331\n",
      "0.2 81.4218107885615\n",
      "0.5 96.4847513677170\n",
      "1 150.643362355676\n",
      "2 250.662221188616\n",
      "5 486.482067267462\n",
      "10 779.137664957843\n",
      "20 1205.89207599002\n",
      "50 2020.79790522006\n",
      "100 2832.95021022895\n",
      "1000 5925.79264793396\n"
     ]
    }
   ],
   "source": [
    "for q in [.01, .02, .05, .1, .2, .5, 1, 2, 5, 10, 20, 50, 100, 1000]:\n",
    "    print(q, rmse.subs({a: 0.5, Qint: q, Rx: 87.2}).evalf())"
   ]
  },
  {
   "cell_type": "code",
   "execution_count": 106,
   "id": "7ca44e72-f9ff-484e-86d1-a15212b11281",
   "metadata": {},
   "outputs": [
    {
     "name": "stdout",
     "output_type": "stream",
     "text": [
      "0.1 120.814080037331\n",
      "0.5 96.4847513677170\n",
      "1 150.643362355676\n",
      "2 250.662221188616\n",
      "5 486.482067267462\n",
      "10 779.137664957843\n",
      "20 1205.89207599002\n"
     ]
    }
   ],
   "source": [
    "for q in [.1, .5, 1, 2, 5, 10, 20]:\n",
    "    print(q, rmse.subs({a: 0.5, Qint: q, Rx: 87.2}).evalf())"
   ]
  },
  {
   "cell_type": "markdown",
   "id": "fd862ca7-3373-4223-a0b2-429b067950e1",
   "metadata": {},
   "source": [
    "^ This doesn't match plots exactly but it is an approximation - we shouldn't use $d_x$ as the bias multiplied by $(1-K_x)^2$ because $d_x$ is already the _final_ and _stable_ error."
   ]
  },
  {
   "cell_type": "markdown",
   "id": "d0035692-cb70-42c7-826c-8152b918b9e6",
   "metadata": {},
   "source": [
    "# Scratchpad"
   ]
  },
  {
   "cell_type": "code",
   "execution_count": 25,
   "id": "55ef4739-c749-4627-911f-2ae623bc7f4d",
   "metadata": {},
   "outputs": [
    {
     "data": {
      "text/latex": [
       "$\\displaystyle K_{x}^{2} R_{x} + \\left(1 - K_{x}\\right)^{2} \\left(1 + \\frac{1 - K_{x}}{K_{v}}\\right)^{2}$"
      ],
      "text/plain": [
       "K_x**2*R_x + (1 - K_x)**2*(1 + (1 - K_x)/K_v)**2"
      ]
     },
     "execution_count": 25,
     "metadata": {},
     "output_type": "execute_result"
    }
   ],
   "source": []
  },
  {
   "cell_type": "code",
   "execution_count": 32,
   "id": "915f3af1-b4f8-47ea-98f8-fe7975cd4851",
   "metadata": {},
   "outputs": [
    {
     "data": {
      "text/plain": [
       "{Q, R_x, R_x}"
      ]
     },
     "execution_count": 32,
     "metadata": {},
     "output_type": "execute_result"
    }
   ],
   "source": []
  },
  {
   "cell_type": "code",
   "execution_count": 31,
   "id": "9a28acb5-5f59-4a5c-85b8-71fd052871b5",
   "metadata": {},
   "outputs": [
    {
     "data": {
      "text/latex": [
       "$\\displaystyle \\frac{2 Q^{\\frac{3}{2}} + \\sqrt{2} \\sqrt{Q} \\sqrt{Q^{\\frac{3}{2}} \\sqrt{Q + 16 R_{x}} + Q^{2}} + 2 Q \\sqrt{Q + 16 R_{x}} + \\sqrt{2} \\sqrt{Q + 16 R_{x}} \\sqrt{Q^{\\frac{3}{2}} \\sqrt{Q + 16 R_{x}} + Q^{2}}}{2 Q^{\\frac{3}{2}} + 8 \\sqrt{Q} R_{x} + \\sqrt{2} \\sqrt{Q} \\sqrt{Q^{\\frac{3}{2}} \\sqrt{Q + 16 R_{x}} + Q^{2}} + 2 Q \\sqrt{Q + 16 R_{x}} + \\sqrt{2} \\sqrt{Q + 16 R_{x}} \\sqrt{Q^{\\frac{3}{2}} \\sqrt{Q + 16 R_{x}} + Q^{2}}}$"
      ],
      "text/plain": [
       "(2*Q**(3/2) + sqrt(2)*sqrt(Q)*sqrt(Q**(3/2)*sqrt(Q + 16*R_x) + Q**2) + 2*Q*sqrt(Q + 16*R_x) + sqrt(2)*sqrt(Q + 16*R_x)*sqrt(Q**(3/2)*sqrt(Q + 16*R_x) + Q**2))/(2*Q**(3/2) + 8*sqrt(Q)*R_x + sqrt(2)*sqrt(Q)*sqrt(Q**(3/2)*sqrt(Q + 16*R_x) + Q**2) + 2*Q*sqrt(Q + 16*R_x) + sqrt(2)*sqrt(Q + 16*R_x)*sqrt(Q**(3/2)*sqrt(Q + 16*R_x) + Q**2))"
      ]
     },
     "execution_count": 31,
     "metadata": {},
     "output_type": "execute_result"
    }
   ],
   "source": [
    "solved_Kx.subs(dict({Rx: 87.2}))"
   ]
  },
  {
   "cell_type": "code",
   "execution_count": null,
   "id": "7c15c163-d85c-4b5d-9068-6d7e72aee54b",
   "metadata": {},
   "outputs": [],
   "source": []
  }
 ],
 "metadata": {
  "kernelspec": {
   "display_name": "Python 3 (ipykernel)",
   "language": "python",
   "name": "python3"
  },
  "language_info": {
   "codemirror_mode": {
    "name": "ipython",
    "version": 3
   },
   "file_extension": ".py",
   "mimetype": "text/x-python",
   "name": "python",
   "nbconvert_exporter": "python",
   "pygments_lexer": "ipython3",
   "version": "3.11.7"
  }
 },
 "nbformat": 4,
 "nbformat_minor": 5
}
