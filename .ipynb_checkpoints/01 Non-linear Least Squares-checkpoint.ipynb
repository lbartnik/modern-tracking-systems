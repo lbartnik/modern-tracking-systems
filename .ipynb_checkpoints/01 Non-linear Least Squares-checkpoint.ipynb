{
 "cells": [
  {
   "cell_type": "code",
   "execution_count": 20,
   "id": "18e44a52",
   "metadata": {},
   "outputs": [],
   "source": [
    "import numpy as np\n",
    "from numpy.linalg import inv"
   ]
  },
  {
   "cell_type": "markdown",
   "id": "0987962d",
   "metadata": {},
   "source": [
    "Task parameters"
   ]
  },
  {
   "cell_type": "code",
   "execution_count": 170,
   "id": "13c118d1",
   "metadata": {},
   "outputs": [],
   "source": [
    "x_I = 10000\n",
    "z = 1000\n",
    "v_x = 100\n",
    "sigma = .001\n",
    "\n",
    "m = 10\n",
    "n = 2\n",
    "D = m - n\n",
    "\n",
    "R = np.eye(m) * sigma**2"
   ]
  },
  {
   "cell_type": "markdown",
   "id": "4c201117",
   "metadata": {},
   "source": [
    "Measurements"
   ]
  },
  {
   "cell_type": "code",
   "execution_count": 186,
   "id": "341511f5",
   "metadata": {},
   "outputs": [
    {
     "data": {
      "text/plain": [
       "(array([ 0,  2,  4,  6,  8, 10, 12, 14, 16, 18]),\n",
       " array([10000,  9800,  9600,  9400,  9200,  9000,  8800,  8600,  8400,\n",
       "         8200]),\n",
       " array([1000, 1000, 1000, 1000, 1000, 1000, 1000, 1000, 1000, 1000]),\n",
       " array([0.09966865, 0.10168885, 0.10379234, 0.10598436, 0.10827059,\n",
       "        0.11065722, 0.11315098, 0.11575922, 0.11848996, 0.121352  ]),\n",
       " array([[0.0995889 ],\n",
       "        [0.10084661],\n",
       "        [0.10521284],\n",
       "        [0.10605504],\n",
       "        [0.10637084],\n",
       "        [0.11046708],\n",
       "        [0.11477233],\n",
       "        [0.11627617],\n",
       "        [0.11851911],\n",
       "        [0.12027298]]))"
      ]
     },
     "execution_count": 186,
     "metadata": {},
     "output_type": "execute_result"
    }
   ],
   "source": [
    "dt = 2\n",
    "\n",
    "t = np.arange(start=0, stop=m*dt, step=dt)\n",
    "x = x_I - v_x * t\n",
    "z = np.full_like(X, z)\n",
    "\n",
    "e = np.arctan(z / x)\n",
    "\n",
    "Z = (e + np.random.normal(np.full(10, 0), np.full(10, sigma))).reshape(m, 1)\n",
    "t, x, z, e, Z"
   ]
  },
  {
   "cell_type": "markdown",
   "id": "5239070f",
   "metadata": {},
   "source": [
    "Initial state"
   ]
  },
  {
   "cell_type": "code",
   "execution_count": 187,
   "id": "f438261e",
   "metadata": {},
   "outputs": [
    {
     "data": {
      "text/plain": [
       "array([[ 900],\n",
       "       [9000]])"
      ]
     },
     "execution_count": 187,
     "metadata": {},
     "output_type": "execute_result"
    }
   ],
   "source": [
    "X_hat = np.array([900, 9000]).reshape(2, 1)\n",
    "X_hat"
   ]
  },
  {
   "cell_type": "markdown",
   "id": "711ab610",
   "metadata": {},
   "source": [
    "### Matrix of partial derivatives\n",
    "\n",
    "`H` provides values of partial derivatives of the non-linear measurement function on state variables."
   ]
  },
  {
   "cell_type": "code",
   "execution_count": 188,
   "id": "e80d412b",
   "metadata": {},
   "outputs": [
    {
     "data": {
      "text/plain": [
       "(array([900, 900, 900, 900, 900, 900, 900, 900, 900, 900]),\n",
       " array([9000, 8800, 8600, 8400, 8200, 8000, 7800, 7600, 7400, 7200]))"
      ]
     },
     "execution_count": 188,
     "metadata": {},
     "output_type": "execute_result"
    }
   ],
   "source": [
    "z_hat, x_I_hat = X_hat\n",
    "x_ = x_I_hat - v_x * t\n",
    "z_ = np.full_like(t, z_hat)\n",
    "\n",
    "z_, x_"
   ]
  },
  {
   "cell_type": "code",
   "execution_count": 174,
   "id": "9295c9ce",
   "metadata": {},
   "outputs": [
    {
     "data": {
      "text/plain": [
       "(array([81000000, 77440000, 73960000, 70560000, 67240000, 64000000,\n",
       "        60840000, 57760000, 54760000, 51840000]),\n",
       " array([810000, 810000, 810000, 810000, 810000, 810000, 810000, 810000,\n",
       "        810000, 810000]),\n",
       " array([81810000, 78250000, 74770000, 71370000, 68050000, 64810000,\n",
       "        61650000, 58570000, 55570000, 52650000]))"
      ]
     },
     "execution_count": 174,
     "metadata": {},
     "output_type": "execute_result"
    }
   ],
   "source": [
    "np.power(x_, 2), np.power(z_, 2), np.power(x_, 2) + np.power(z_, 2)"
   ]
  },
  {
   "cell_type": "code",
   "execution_count": 189,
   "id": "6f194a28",
   "metadata": {},
   "outputs": [
    {
     "data": {
      "text/plain": [
       "array([0.00011001, 0.00011246, 0.00011502, 0.0001177 , 0.0001205 ,\n",
       "       0.00012344, 0.00012652, 0.00012976, 0.00013317, 0.00013675])"
      ]
     },
     "execution_count": 189,
     "metadata": {},
     "output_type": "execute_result"
    }
   ],
   "source": [
    "col_a = x_ / (np.power(x_, 2) + np.power(z_, 2))\n",
    "col_a"
   ]
  },
  {
   "cell_type": "code",
   "execution_count": 190,
   "id": "0895805d",
   "metadata": {},
   "outputs": [
    {
     "data": {
      "text/plain": [
       "array([-1.10011001e-05, -1.15015974e-05, -1.20369132e-05, -1.26103405e-05,\n",
       "       -1.32255694e-05, -1.38867459e-05, -1.45985401e-05, -1.53662284e-05,\n",
       "       -1.61957891e-05, -1.70940171e-05])"
      ]
     },
     "execution_count": 190,
     "metadata": {},
     "output_type": "execute_result"
    }
   ],
   "source": [
    "col_b = -z_ / (np.power(x_, 2) + np.power(z_, 2))\n",
    "col_b"
   ]
  },
  {
   "cell_type": "code",
   "execution_count": 191,
   "id": "4009bfc1",
   "metadata": {},
   "outputs": [],
   "source": [
    "def H(X_hat, t, v_x):\n",
    "    z_hat, x_I_hat = X_hat\n",
    "    x = x_I_hat - v_x * t\n",
    "    z = np.full_like(t, z_hat)\n",
    "    col_a = x / (np.power(x, 2) + np.power(z, 2))\n",
    "    col_b = -z / (np.power(x, 2) + np.power(z, 2))\n",
    "    return np.array((col_a, col_b)).T"
   ]
  },
  {
   "cell_type": "markdown",
   "id": "076889a4",
   "metadata": {},
   "source": [
    "### Iterating"
   ]
  },
  {
   "cell_type": "code",
   "execution_count": 192,
   "id": "b2840bc2",
   "metadata": {},
   "outputs": [],
   "source": [
    "def h(X_hat, t, v_x):\n",
    "    z_hat, x_I_hat = X_hat\n",
    "    x = x_I_hat - v_x * t\n",
    "    z = np.full_like(t, z_hat)\n",
    "    return np.arctan(z / x).reshape(len(t), 1)"
   ]
  },
  {
   "cell_type": "code",
   "execution_count": 193,
   "id": "1b8e91f6",
   "metadata": {},
   "outputs": [
    {
     "data": {
      "text/plain": [
       "array([[-7.97501856e-05],\n",
       "       [-1.07176218e-03],\n",
       "       [ 9.41232681e-04],\n",
       "       [-6.80631360e-04],\n",
       "       [-2.94769792e-03],\n",
       "       [-1.56188495e-03],\n",
       "       [-1.04271969e-04],\n",
       "       [-1.59593615e-03],\n",
       "       [-2.50811094e-03],\n",
       "       [-4.08201057e-03]])"
      ]
     },
     "execution_count": 193,
     "metadata": {},
     "output_type": "execute_result"
    }
   ],
   "source": [
    "dz = Z - h(X_hat, t, v_x)\n",
    "dz"
   ]
  },
  {
   "cell_type": "code",
   "execution_count": 194,
   "id": "af10967c",
   "metadata": {},
   "outputs": [
    {
     "data": {
      "text/plain": [
       "array([[ 1.10011001e-04, -1.10011001e-05],\n",
       "       [ 1.12460064e-04, -1.15015974e-05],\n",
       "       [ 1.15019393e-04, -1.20369132e-05],\n",
       "       [ 1.17696511e-04, -1.26103405e-05],\n",
       "       [ 1.20499633e-04, -1.32255694e-05],\n",
       "       [ 1.23437741e-04, -1.38867459e-05],\n",
       "       [ 1.26520681e-04, -1.45985401e-05],\n",
       "       [ 1.29759262e-04, -1.53662284e-05],\n",
       "       [ 1.33165377e-04, -1.61957891e-05],\n",
       "       [ 1.36752137e-04, -1.70940171e-05]])"
      ]
     },
     "execution_count": 194,
     "metadata": {},
     "output_type": "execute_result"
    }
   ],
   "source": [
    "H_current = H(X_hat, t, v_x)\n",
    "H_current"
   ]
  },
  {
   "cell_type": "code",
   "execution_count": 195,
   "id": "1adb4a5e",
   "metadata": {},
   "outputs": [
    {
     "data": {
      "text/plain": [
       "array([[ 92.30146625],\n",
       "       [921.9217095 ]])"
      ]
     },
     "execution_count": 195,
     "metadata": {},
     "output_type": "execute_result"
    }
   ],
   "source": [
    "dx = inv(H_current.T @ inv(R) @ H_current) @ H_current.T @ inv(R) @ dz\n",
    "dx"
   ]
  },
  {
   "cell_type": "code",
   "execution_count": 196,
   "id": "e68cd6cb",
   "metadata": {},
   "outputs": [
    {
     "data": {
      "text/plain": [
       "(array([[ 992.30146625],\n",
       "        [9921.9217095 ]]),\n",
       " array([[10.65420612]]))"
      ]
     },
     "execution_count": 196,
     "metadata": {},
     "output_type": "execute_result"
    }
   ],
   "source": [
    "X_c = X_hat + dx\n",
    "SOS = (Z - h(X_c, t, v_x)).T @ inv(R) @ (Z - h(X_c, t, v_x))\n",
    "X_c, SOS"
   ]
  },
  {
   "cell_type": "markdown",
   "id": "57592462",
   "metadata": {},
   "source": [
    "Iteration 2"
   ]
  },
  {
   "cell_type": "code",
   "execution_count": 197,
   "id": "ac6896eb",
   "metadata": {},
   "outputs": [
    {
     "data": {
      "text/plain": [
       "(array([[-6.05735949e-05],\n",
       "        [-8.38904609e-04],\n",
       "        [ 1.40667021e-03],\n",
       "        [ 3.82035732e-05],\n",
       "        [-1.95249423e-03],\n",
       "        [-2.64917267e-04],\n",
       "        [ 1.52258925e-03],\n",
       "        [ 3.92040542e-04],\n",
       "        [-1.24290097e-04],\n",
       "        [-1.26362920e-03]]),\n",
       " array([[ 13.27550542],\n",
       "        [129.09860055]]),\n",
       " array([[ 1005.57697166],\n",
       "        [10051.02031005]]),\n",
       " array([[10.41654472]]))"
      ]
     },
     "execution_count": 197,
     "metadata": {},
     "output_type": "execute_result"
    }
   ],
   "source": [
    "X_hat = X_c\n",
    "\n",
    "dz = Z - h(X_hat, t, v_x)\n",
    "H_current = H(X_hat, t, v_x)\n",
    "dx = inv(H_current.T @ inv(R) @ H_current) @ H_current.T @ inv(R) @ dz\n",
    "X_c = X_hat + dx\n",
    "SOS = (Z - h(X_c, t, v_x)).T @ inv(R) @ (Z - h(X_c, t, v_x))\n",
    "\n",
    "dz, dx, X_c, SOS"
   ]
  },
  {
   "cell_type": "markdown",
   "id": "27959fe7",
   "metadata": {},
   "source": [
    "Iteration 3"
   ]
  },
  {
   "cell_type": "code",
   "execution_count": 198,
   "id": "13ac2cf8",
   "metadata": {},
   "outputs": [
    {
     "data": {
      "text/plain": [
       "(array([[-6.96993754e-05],\n",
       "        [-8.21534891e-04],\n",
       "        [ 1.45275354e-03],\n",
       "        [ 1.15430680e-04],\n",
       "        [-1.84145674e-03],\n",
       "        [-1.17138551e-04],\n",
       "        [ 1.71033596e-03],\n",
       "        [ 6.23314163e-04],\n",
       "        [ 1.54442981e-04],\n",
       "        [-9.33082740e-04]]),\n",
       " array([[0.42810224],\n",
       "        [1.52273281]]),\n",
       " array([[ 1006.0050739 ],\n",
       "        [10052.54304285]]),\n",
       " array([[10.44717052]]))"
      ]
     },
     "execution_count": 198,
     "metadata": {},
     "output_type": "execute_result"
    }
   ],
   "source": [
    "X_hat = X_c\n",
    "\n",
    "dz = Z - h(X_hat, t, v_x)\n",
    "H_current = H(X_hat, t, v_x)\n",
    "dx = inv(H_current.T @ inv(R) @ H_current) @ H_current.T @ inv(R) @ dz\n",
    "X_c = X_hat + dx\n",
    "SOS = (Z - h(X_c, t, v_x)).T @ inv(R) @ (Z - h(X_c, t, v_x))\n",
    "\n",
    "dz, dx, X_c, SOS"
   ]
  },
  {
   "cell_type": "markdown",
   "id": "2957c275",
   "metadata": {},
   "source": [
    "Iteration 4"
   ]
  },
  {
   "cell_type": "code",
   "execution_count": 199,
   "id": "878c7975",
   "metadata": {},
   "outputs": [
    {
     "data": {
      "text/plain": [
       "(array([[-1.53195001e-04],\n",
       "        [-9.06380307e-04],\n",
       "        [ 1.36651744e-03],\n",
       "        [ 2.77614076e-05],\n",
       "        [-1.93060333e-03],\n",
       "        [-2.07808308e-04],\n",
       "        [ 1.61809546e-03],\n",
       "        [ 5.29453565e-04],\n",
       "        [ 5.89111510e-05],\n",
       "        [-1.03033873e-03]]),\n",
       " array([[-0.57261547],\n",
       "        [-0.00681692]]),\n",
       " array([[ 1005.43245843],\n",
       "        [10052.53622593]]),\n",
       " array([[10.4301574]]))"
      ]
     },
     "execution_count": 199,
     "metadata": {},
     "output_type": "execute_result"
    }
   ],
   "source": [
    "X_hat = X_c\n",
    "\n",
    "dz = Z - h(X_hat, t, v_x)\n",
    "H_current = H(X_hat, t, v_x)\n",
    "dx = inv(H_current.T @ inv(R) @ H_current) @ H_current.T @ inv(R) @ dz\n",
    "X_c = X_hat + dx\n",
    "SOS = (Z - h(X_c, t, v_x)).T @ inv(R) @ (Z - h(X_c, t, v_x))\n",
    "\n",
    "dz, dx, X_c, SOS"
   ]
  },
  {
   "cell_type": "code",
   "execution_count": null,
   "id": "7565679d",
   "metadata": {},
   "outputs": [],
   "source": []
  }
 ],
 "metadata": {
  "kernelspec": {
   "display_name": "Python 3 (ipykernel)",
   "language": "python",
   "name": "python3"
  },
  "language_info": {
   "codemirror_mode": {
    "name": "ipython",
    "version": 3
   },
   "file_extension": ".py",
   "mimetype": "text/x-python",
   "name": "python",
   "nbconvert_exporter": "python",
   "pygments_lexer": "ipython3",
   "version": "3.11.5"
  }
 },
 "nbformat": 4,
 "nbformat_minor": 5
}
