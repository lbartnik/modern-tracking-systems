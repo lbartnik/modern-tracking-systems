{
 "cells": [
  {
   "cell_type": "code",
   "execution_count": 277,
   "id": "fda37013",
   "metadata": {},
   "outputs": [],
   "source": [
    "%load_ext autoreload\n",
    "%autoreload 2"
   ]
  },
  {
   "cell_type": "code",
   "execution_count": 278,
   "id": "437052be",
   "metadata": {},
   "outputs": [],
   "source": [
    "import os\n",
    "import sys\n",
    "sys.path.append(os.path.realpath('..'))"
   ]
  },
  {
   "cell_type": "code",
   "execution_count": 280,
   "id": "b26b0c34",
   "metadata": {},
   "outputs": [],
   "source": [
    "import numpy as np\n",
    "\n",
    "from math import sqrt\n",
    "from sympy import Symbol, symbols, simplify, collect, rsolve, Function\n",
    "\n",
    "from tracking.kalman.convergence import kalman_gain_pv_numeric"
   ]
  },
  {
   "cell_type": "code",
   "execution_count": 9,
   "id": "543b9b5c",
   "metadata": {},
   "outputs": [],
   "source": [
    "Kx, Kv, t, a = symbols(\"K_v, K_x, t, a\")"
   ]
  },
  {
   "cell_type": "code",
   "execution_count": 48,
   "id": "aac40b34",
   "metadata": {},
   "outputs": [],
   "source": [
    "def x(i):\n",
    "    return a * t**2 * (i**2 / 2)\n",
    "\n",
    "Rs = symbols(\",\".join([f\"R_{i+1}\" for i in range(10)]))\n",
    "def R(i):\n",
    "    return Rs[i-1]"
   ]
  },
  {
   "cell_type": "code",
   "execution_count": 49,
   "id": "e6c96289",
   "metadata": {},
   "outputs": [],
   "source": [
    "x0, v0 = 0, 0"
   ]
  },
  {
   "cell_type": "code",
   "execution_count": 50,
   "id": "f89af989",
   "metadata": {},
   "outputs": [
    {
     "data": {
      "text/latex": [
       "$\\displaystyle K_{v} \\left(R_{1} + 0.5 a t^{2}\\right)$"
      ],
      "text/plain": [
       "K_v*(R_1 + 0.5*a*t**2)"
      ]
     },
     "metadata": {},
     "output_type": "display_data"
    },
    {
     "data": {
      "text/latex": [
       "$\\displaystyle K_{x} \\left(R_{1} + 0.5 a t^{2}\\right)$"
      ],
      "text/plain": [
       "K_x*(R_1 + 0.5*a*t**2)"
      ]
     },
     "metadata": {},
     "output_type": "display_data"
    }
   ],
   "source": [
    "x1 = x0 + v0*t + Kx*(x(1) + R(1) - v0*t)\n",
    "v1 = v0 + Kv*(x(1) + R(1) - v0*t)\n",
    "\n",
    "display(x1, v1)"
   ]
  },
  {
   "cell_type": "code",
   "execution_count": 57,
   "id": "db4f454d",
   "metadata": {},
   "outputs": [],
   "source": [
    "def x_hat(i):\n",
    "    if i == 0:\n",
    "        return 0\n",
    "    eq = (1-Kx)*(x_hat(i-1) + t*v_hat(i-1)) + Kx*(x(i) + R(i))\n",
    "    return collect(eq.expand(), Rs[:i])\n",
    "\n",
    "def v_hat(i):\n",
    "    if i == 0:\n",
    "        return 0\n",
    "    eq = v_hat(i-1) + Kv*(x(i)+R(i) - x_hat(i-1) - t*v_hat(i-1))\n",
    "    return collect(eq.expand(), Rs[:i])"
   ]
  },
  {
   "cell_type": "code",
   "execution_count": 58,
   "id": "1247d969",
   "metadata": {},
   "outputs": [
    {
     "data": {
      "text/latex": [
       "$\\displaystyle K_{v} R_{1} + 0.5 K_{v} a t^{2}$"
      ],
      "text/plain": [
       "K_v*R_1 + 0.5*K_v*a*t**2"
      ]
     },
     "execution_count": 58,
     "metadata": {},
     "output_type": "execute_result"
    }
   ],
   "source": [
    "x_hat(1)"
   ]
  },
  {
   "cell_type": "code",
   "execution_count": 67,
   "id": "b14d7e26",
   "metadata": {},
   "outputs": [
    {
     "data": {
      "text/latex": [
       "$\\displaystyle - 0.5 K_{v}^{2} a t^{2} - 0.5 K_{v} K_{x} a t^{3} + K_{v} R_{2} + 2.5 K_{v} a t^{2} + 0.5 K_{x} a t^{3} + R_{1} \\left(- K_{v}^{2} - K_{v} K_{x} t + K_{v} + K_{x} t\\right)$"
      ],
      "text/plain": [
       "-0.5*K_v**2*a*t**2 - 0.5*K_v*K_x*a*t**3 + K_v*R_2 + 2.5*K_v*a*t**2 + 0.5*K_x*a*t**3 + R_1*(-K_v**2 - K_v*K_x*t + K_v + K_x*t)"
      ]
     },
     "execution_count": 67,
     "metadata": {},
     "output_type": "execute_result"
    }
   ],
   "source": [
    "x_hat(2)"
   ]
  },
  {
   "cell_type": "code",
   "execution_count": 68,
   "id": "1f15f19b",
   "metadata": {},
   "outputs": [
    {
     "data": {
      "text/latex": [
       "$\\displaystyle 0.5 K_{v}^{3} a t^{2} + 1.0 K_{v}^{2} K_{x} a t^{3} - 3.0 K_{v}^{2} a t^{2} + 0.5 K_{v} K_{x}^{2} a t^{4} - 4.0 K_{v} K_{x} a t^{3} + K_{v} R_{3} + 7.0 K_{v} a t^{2} - 0.5 K_{x}^{2} a t^{4} + 3.0 K_{x} a t^{3} + R_{1} \\left(K_{v}^{3} + 2 K_{v}^{2} K_{x} t - 2 K_{v}^{2} + K_{v} K_{x}^{2} t^{2} - 4 K_{v} K_{x} t + K_{v} - K_{x}^{2} t^{2} + 2 K_{x} t\\right) + R_{2} \\left(- K_{v}^{2} - K_{v} K_{x} t + K_{v} + K_{x} t\\right)$"
      ],
      "text/plain": [
       "0.5*K_v**3*a*t**2 + 1.0*K_v**2*K_x*a*t**3 - 3.0*K_v**2*a*t**2 + 0.5*K_v*K_x**2*a*t**4 - 4.0*K_v*K_x*a*t**3 + K_v*R_3 + 7.0*K_v*a*t**2 - 0.5*K_x**2*a*t**4 + 3.0*K_x*a*t**3 + R_1*(K_v**3 + 2*K_v**2*K_x*t - 2*K_v**2 + K_v*K_x**2*t**2 - 4*K_v*K_x*t + K_v - K_x**2*t**2 + 2*K_x*t) + R_2*(-K_v**2 - K_v*K_x*t + K_v + K_x*t)"
      ]
     },
     "execution_count": 68,
     "metadata": {},
     "output_type": "execute_result"
    }
   ],
   "source": [
    "x_hat(3)"
   ]
  },
  {
   "cell_type": "code",
   "execution_count": 69,
   "id": "6357b695",
   "metadata": {},
   "outputs": [
    {
     "data": {
      "text/latex": [
       "$\\displaystyle - 0.5 K_{v}^{4} a t^{2} - 1.5 K_{v}^{3} K_{x} a t^{3} + 3.5 K_{v}^{3} a t^{2} - 1.5 K_{v}^{2} K_{x}^{2} a t^{4} + 8.5 K_{v}^{2} K_{x} a t^{3} - 10.0 K_{v}^{2} a t^{2} - 0.5 K_{v} K_{x}^{3} a t^{5} + 5.5 K_{v} K_{x}^{2} a t^{4} - 17.0 K_{v} K_{x} a t^{3} + K_{v} R_{4} + 15.0 K_{v} a t^{2} + 0.5 K_{x}^{3} a t^{5} - 4.0 K_{x}^{2} a t^{4} + 10.0 K_{x} a t^{3} + R_{1} \\left(- K_{v}^{4} - 3 K_{v}^{3} K_{x} t + 3 K_{v}^{3} - 3 K_{v}^{2} K_{x}^{2} t^{2} + 9 K_{v}^{2} K_{x} t - 3 K_{v}^{2} - K_{v} K_{x}^{3} t^{3} + 7 K_{v} K_{x}^{2} t^{2} - 9 K_{v} K_{x} t + K_{v} + K_{x}^{3} t^{3} - 4 K_{x}^{2} t^{2} + 3 K_{x} t\\right) + R_{2} \\left(K_{v}^{3} + 2 K_{v}^{2} K_{x} t - 2 K_{v}^{2} + K_{v} K_{x}^{2} t^{2} - 4 K_{v} K_{x} t + K_{v} - K_{x}^{2} t^{2} + 2 K_{x} t\\right) + R_{3} \\left(- K_{v}^{2} - K_{v} K_{x} t + K_{v} + K_{x} t\\right)$"
      ],
      "text/plain": [
       "-0.5*K_v**4*a*t**2 - 1.5*K_v**3*K_x*a*t**3 + 3.5*K_v**3*a*t**2 - 1.5*K_v**2*K_x**2*a*t**4 + 8.5*K_v**2*K_x*a*t**3 - 10.0*K_v**2*a*t**2 - 0.5*K_v*K_x**3*a*t**5 + 5.5*K_v*K_x**2*a*t**4 - 17.0*K_v*K_x*a*t**3 + K_v*R_4 + 15.0*K_v*a*t**2 + 0.5*K_x**3*a*t**5 - 4.0*K_x**2*a*t**4 + 10.0*K_x*a*t**3 + R_1*(-K_v**4 - 3*K_v**3*K_x*t + 3*K_v**3 - 3*K_v**2*K_x**2*t**2 + 9*K_v**2*K_x*t - 3*K_v**2 - K_v*K_x**3*t**3 + 7*K_v*K_x**2*t**2 - 9*K_v*K_x*t + K_v + K_x**3*t**3 - 4*K_x**2*t**2 + 3*K_x*t) + R_2*(K_v**3 + 2*K_v**2*K_x*t - 2*K_v**2 + K_v*K_x**2*t**2 - 4*K_v*K_x*t + K_v - K_x**2*t**2 + 2*K_x*t) + R_3*(-K_v**2 - K_v*K_x*t + K_v + K_x*t)"
      ]
     },
     "execution_count": 69,
     "metadata": {},
     "output_type": "execute_result"
    }
   ],
   "source": [
    "x_hat(4)"
   ]
  },
  {
   "cell_type": "code",
   "execution_count": 139,
   "id": "f8531916",
   "metadata": {},
   "outputs": [],
   "source": [
    "#x_hat = Function(\"x\")\n",
    "#v_hat = Function(\"v\")"
   ]
  },
  {
   "cell_type": "code",
   "execution_count": 75,
   "id": "2c9c77a3",
   "metadata": {},
   "outputs": [],
   "source": [
    "def var_x(i):\n",
    "    if i == 1:\n",
    "        return Kx**2\n",
    "    return (1-Kx)**2 * var_x(i-1) + ((1-Kx)*t)**2 * var_v(i-1) + Kx**2\n",
    "\n",
    "def var_v(i):\n",
    "    if i == 1:\n",
    "        return Kv**2\n",
    "    return (1-t*Kv)**2 * var_v(i-1) + Kv**2 * var_x(i-1) + Kv**2"
   ]
  },
  {
   "cell_type": "code",
   "execution_count": 138,
   "id": "38563a1d",
   "metadata": {},
   "outputs": [
    {
     "data": {
      "text/latex": [
       "$\\displaystyle K_{v}^{6} - 4 K_{v}^{5} + K_{v}^{4} \\cdot \\left(2 K_{x}^{2} t^{2} + 7\\right) + K_{v}^{3} \\left(- 6 K_{x}^{2} t^{2} - 6\\right) + K_{v}^{2} \\left(K_{x}^{4} t^{4} - 2 K_{x}^{3} t^{3} + 9 K_{x}^{2} t^{2} + 3\\right) + K_{v} \\left(- 2 K_{x}^{4} t^{4} + 4 K_{x}^{3} t^{3} - 8 K_{x}^{2} t^{2}\\right) + K_{x}^{4} t^{4} - 2 K_{x}^{3} t^{3} + 3 K_{x}^{2} t^{2}$"
      ],
      "text/plain": [
       "K_v**6 - 4*K_v**5 + K_v**4*(2*K_x**2*t**2 + 7) + K_v**3*(-6*K_x**2*t**2 - 6) + K_v**2*(K_x**4*t**4 - 2*K_x**3*t**3 + 9*K_x**2*t**2 + 3) + K_v*(-2*K_x**4*t**4 + 4*K_x**3*t**3 - 8*K_x**2*t**2) + K_x**4*t**4 - 2*K_x**3*t**3 + 3*K_x**2*t**2"
      ]
     },
     "execution_count": 138,
     "metadata": {},
     "output_type": "execute_result"
    }
   ],
   "source": [
    "collect(var_x(3).expand(), [Kx, Kv])"
   ]
  },
  {
   "cell_type": "code",
   "execution_count": 310,
   "id": "21266854",
   "metadata": {},
   "outputs": [
    {
     "data": {
      "text/plain": [
       "array([0.38088302, 0.09044136])"
      ]
     },
     "execution_count": 310,
     "metadata": {},
     "output_type": "execute_result"
    }
   ],
   "source": [
    "Q = np.array([[1.0/3, .5], [.5, 1]]) * .1**2\n",
    "kalman_gain_pv_numeric(.7569, Q, 1, n=100).squeeze()"
   ]
  },
  {
   "cell_type": "code",
   "execution_count": 313,
   "id": "086b5530",
   "metadata": {},
   "outputs": [],
   "source": [
    "def converge_variances_numerically(Kx, Kv, R=1, n=100):\n",
    "    Q = np.array([[1.0/3, .5], [.5, 1]]) * .1**2\n",
    "    Kx, Kv = kalman_gain_pv_numeric(R, Q, 1).squeeze()\n",
    "    Vx, Vv, Cov = Kx*Kx * R, Kv*Kv * R, Kx*Kv*R\n",
    "    \n",
    "    for i in range(n):\n",
    "        Kx, Kv = kalman_gain_pv_numeric(R, Q, n=i+2).squeeze()\n",
    "        Kx2 = Kx*Kx\n",
    "        dKx = (1-Kx)\n",
    "        dKx2 = dKx*dKx\n",
    "        Kv2 = Kv*Kv\n",
    "        dKv = (1-Kv)\n",
    "        dKv2 = dKv*dKv\n",
    "        KxKv = Kx*Kv\n",
    "        \n",
    "        nVx = dKx2 * (Vx + Vv + 2*Cov) + Kx2 * R\n",
    "        \n",
    "        nVv = dKv2 * Vv + \\\n",
    "              Kv2 * Vx \\\n",
    "              - 2*dKv*Kv*Cov + \\\n",
    "              Kv2 * R\n",
    "        \n",
    "        Cov = Cov*dKx*(1-2*Kv) + \\\n",
    "              dKx*dKv*Vv \\\n",
    "              - dKx*Kv*Vx + \\\n",
    "              KxKv*R\n",
    "                \n",
    "        Vx = nVx\n",
    "        Vv = nVv\n",
    "        \n",
    "    return Vx, Vv, Cov"
   ]
  },
  {
   "cell_type": "code",
   "execution_count": 314,
   "id": "bc1d1a5e",
   "metadata": {},
   "outputs": [
    {
     "data": {
      "text/plain": [
       "(0.23212141364258104, 0.010327732695793287, 0.0383301482976182)"
      ]
     },
     "execution_count": 314,
     "metadata": {},
     "output_type": "execute_result"
    }
   ],
   "source": [
    "Vx, Vv, Cov = converge_variances_numerically(0.380883, 0.090441, R=0.7569, n=200)\n",
    "Vx, Vv, Cov"
   ]
  },
  {
   "cell_type": "code",
   "execution_count": 315,
   "id": "0545eb21",
   "metadata": {},
   "outputs": [
    {
     "data": {
      "text/plain": [
       "(0.31910944293361077, 0.010327732695793287)"
      ]
     },
     "execution_count": 315,
     "metadata": {},
     "output_type": "execute_result"
    }
   ],
   "source": [
    "Vx+Vv+2*Cov, Vv"
   ]
  }
 ],
 "metadata": {
  "kernelspec": {
   "display_name": "Python 3 (ipykernel)",
   "language": "python",
   "name": "python3"
  },
  "language_info": {
   "codemirror_mode": {
    "name": "ipython",
    "version": 3
   },
   "file_extension": ".py",
   "mimetype": "text/x-python",
   "name": "python",
   "nbconvert_exporter": "python",
   "pygments_lexer": "ipython3",
   "version": "3.11.5"
  }
 },
 "nbformat": 4,
 "nbformat_minor": 5
}
