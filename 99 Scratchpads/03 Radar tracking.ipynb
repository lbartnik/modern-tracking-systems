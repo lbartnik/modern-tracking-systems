{
 "cells": [
  {
   "cell_type": "markdown",
   "id": "bbd90e56-2b86-4c83-97b3-b04a27132a9b",
   "metadata": {},
   "source": [
    "Following \"Nonlinear Estimation with Radar Observations\" by Kenneth S. Miller and Donald M. Leskiw"
   ]
  },
  {
   "cell_type": "code",
   "execution_count": 1,
   "id": "4608448b-0eb3-4b17-8c24-fc687788c0f6",
   "metadata": {},
   "outputs": [],
   "source": [
    "%load_ext autoreload\n",
    "%autoreload 2"
   ]
  },
  {
   "cell_type": "code",
   "execution_count": 37,
   "id": "810ee9f5-6511-4254-b458-391f6a2ab6cd",
   "metadata": {},
   "outputs": [],
   "source": [
    "from sympy.solvers import solve, solveset, nsolve, nonlinsolve\n",
    "from sympy import Symbol, symbols, N, simplify, diff, cos, sin, latex\n",
    "from sympy.matrices import Matrix"
   ]
  },
  {
   "cell_type": "markdown",
   "id": "3068fcd3-f2b4-468b-9e14-d0120829a8be",
   "metadata": {},
   "source": [
    "Attempting to derive equation (10):"
   ]
  },
  {
   "cell_type": "code",
   "execution_count": 31,
   "id": "9a269f71-2932-4de3-a33f-ce1d10f83b37",
   "metadata": {},
   "outputs": [],
   "source": [
    "theta, r, sigma_r, sigma_theta = symbols(\"\\\\theta_0, r_0, \\\\sigma_r, \\\\sigma_\\\\theta\")\n",
    "\n",
    "H0 = Matrix([[cos(theta), sin(theta)], [-sin(theta)/r, cos(theta)/r]])\n",
    "R  = Matrix([[sigma_r**2, 0], [0, sigma_theta**2]])"
   ]
  },
  {
   "cell_type": "code",
   "execution_count": 32,
   "id": "9ad28ecf-5b03-4987-822b-8a456e37cf4f",
   "metadata": {},
   "outputs": [
    {
     "data": {
      "text/latex": [
       "$\\displaystyle \\left[\\begin{matrix}\\cos{\\left(\\theta_{0} \\right)} & \\sin{\\left(\\theta_{0} \\right)}\\\\- \\frac{\\sin{\\left(\\theta_{0} \\right)}}{r_{0}} & \\frac{\\cos{\\left(\\theta_{0} \\right)}}{r_{0}}\\end{matrix}\\right]$"
      ],
      "text/plain": [
       "Matrix([\n",
       "[     cos(\\theta_0),     sin(\\theta_0)],\n",
       "[-sin(\\theta_0)/r_0, cos(\\theta_0)/r_0]])"
      ]
     },
     "execution_count": 32,
     "metadata": {},
     "output_type": "execute_result"
    }
   ],
   "source": [
    "H0"
   ]
  },
  {
   "cell_type": "code",
   "execution_count": 33,
   "id": "c6c7f8d2-563e-4bac-aab9-7c0914e661e9",
   "metadata": {},
   "outputs": [
    {
     "data": {
      "text/latex": [
       "$\\displaystyle \\left[\\begin{matrix}\\sigma_{r}^{2} & 0\\\\0 & \\sigma_{\\theta}^{2}\\end{matrix}\\right]$"
      ],
      "text/plain": [
       "Matrix([\n",
       "[\\sigma_r**2,                0],\n",
       "[          0, \\sigma_\\theta**2]])"
      ]
     },
     "execution_count": 33,
     "metadata": {},
     "output_type": "execute_result"
    }
   ],
   "source": [
    "R"
   ]
  },
  {
   "cell_type": "code",
   "execution_count": 34,
   "id": "3512dabd-cfa5-4308-9b33-ea390f42cda2",
   "metadata": {},
   "outputs": [
    {
     "data": {
      "text/latex": [
       "$\\displaystyle \\left[\\begin{matrix}\\frac{\\sigma_{\\theta}^{2} r_{0}^{2} \\sin^{2}{\\left(\\theta_{0} \\right)}}{\\left(\\sin^{2}{\\left(\\theta_{0} \\right)} + \\cos^{2}{\\left(\\theta_{0} \\right)}\\right)^{2}} + \\frac{\\sigma_{r}^{2} \\cos^{2}{\\left(\\theta_{0} \\right)}}{\\left(\\sin^{2}{\\left(\\theta_{0} \\right)} + \\cos^{2}{\\left(\\theta_{0} \\right)}\\right)^{2}} & - \\frac{\\sigma_{\\theta}^{2} r_{0}^{2} \\sin{\\left(\\theta_{0} \\right)} \\cos{\\left(\\theta_{0} \\right)}}{\\left(\\sin^{2}{\\left(\\theta_{0} \\right)} + \\cos^{2}{\\left(\\theta_{0} \\right)}\\right)^{2}} + \\frac{\\sigma_{r}^{2} \\sin{\\left(\\theta_{0} \\right)} \\cos{\\left(\\theta_{0} \\right)}}{\\left(\\sin^{2}{\\left(\\theta_{0} \\right)} + \\cos^{2}{\\left(\\theta_{0} \\right)}\\right)^{2}}\\\\- \\frac{\\sigma_{\\theta}^{2} r_{0}^{2} \\sin{\\left(\\theta_{0} \\right)} \\cos{\\left(\\theta_{0} \\right)}}{\\left(\\sin^{2}{\\left(\\theta_{0} \\right)} + \\cos^{2}{\\left(\\theta_{0} \\right)}\\right)^{2}} + \\frac{\\sigma_{r}^{2} \\sin{\\left(\\theta_{0} \\right)} \\cos{\\left(\\theta_{0} \\right)}}{\\left(\\sin^{2}{\\left(\\theta_{0} \\right)} + \\cos^{2}{\\left(\\theta_{0} \\right)}\\right)^{2}} & \\frac{\\sigma_{\\theta}^{2} r_{0}^{2} \\cos^{2}{\\left(\\theta_{0} \\right)}}{\\left(\\sin^{2}{\\left(\\theta_{0} \\right)} + \\cos^{2}{\\left(\\theta_{0} \\right)}\\right)^{2}} + \\frac{\\sigma_{r}^{2} \\sin^{2}{\\left(\\theta_{0} \\right)}}{\\left(\\sin^{2}{\\left(\\theta_{0} \\right)} + \\cos^{2}{\\left(\\theta_{0} \\right)}\\right)^{2}}\\end{matrix}\\right]$"
      ],
      "text/plain": [
       "Matrix([\n",
       "[                       \\sigma_\\theta**2*r_0**2*sin(\\theta_0)**2/(sin(\\theta_0)**2 + cos(\\theta_0)**2)**2 + \\sigma_r**2*cos(\\theta_0)**2/(sin(\\theta_0)**2 + cos(\\theta_0)**2)**2, -\\sigma_\\theta**2*r_0**2*sin(\\theta_0)*cos(\\theta_0)/(sin(\\theta_0)**2 + cos(\\theta_0)**2)**2 + \\sigma_r**2*sin(\\theta_0)*cos(\\theta_0)/(sin(\\theta_0)**2 + cos(\\theta_0)**2)**2],\n",
       "[-\\sigma_\\theta**2*r_0**2*sin(\\theta_0)*cos(\\theta_0)/(sin(\\theta_0)**2 + cos(\\theta_0)**2)**2 + \\sigma_r**2*sin(\\theta_0)*cos(\\theta_0)/(sin(\\theta_0)**2 + cos(\\theta_0)**2)**2,                        \\sigma_\\theta**2*r_0**2*cos(\\theta_0)**2/(sin(\\theta_0)**2 + cos(\\theta_0)**2)**2 + \\sigma_r**2*sin(\\theta_0)**2/(sin(\\theta_0)**2 + cos(\\theta_0)**2)**2]])"
      ]
     },
     "execution_count": 34,
     "metadata": {},
     "output_type": "execute_result"
    }
   ],
   "source": [
    "P_e = H0.inv() @ R @ H0.T.inv()\n",
    "P_e"
   ]
  },
  {
   "cell_type": "code",
   "execution_count": 35,
   "id": "584a23e6-2aa3-4749-baaa-c97861884129",
   "metadata": {},
   "outputs": [
    {
     "data": {
      "text/latex": [
       "$\\displaystyle \\left[\\begin{matrix}\\sigma_{\\theta}^{2} r_{0}^{2} \\sin^{2}{\\left(\\theta_{0} \\right)} + \\sigma_{r}^{2} \\cos^{2}{\\left(\\theta_{0} \\right)} & \\frac{\\left(- \\sigma_{\\theta}^{2} r_{0}^{2} + \\sigma_{r}^{2}\\right) \\sin{\\left(2 \\theta_{0} \\right)}}{2}\\\\\\frac{\\left(- \\sigma_{\\theta}^{2} r_{0}^{2} + \\sigma_{r}^{2}\\right) \\sin{\\left(2 \\theta_{0} \\right)}}{2} & \\sigma_{\\theta}^{2} r_{0}^{2} \\cos^{2}{\\left(\\theta_{0} \\right)} + \\sigma_{r}^{2} \\sin^{2}{\\left(\\theta_{0} \\right)}\\end{matrix}\\right]$"
      ],
      "text/plain": [
       "Matrix([\n",
       "[\\sigma_\\theta**2*r_0**2*sin(\\theta_0)**2 + \\sigma_r**2*cos(\\theta_0)**2,              (-\\sigma_\\theta**2*r_0**2 + \\sigma_r**2)*sin(2*\\theta_0)/2],\n",
       "[             (-\\sigma_\\theta**2*r_0**2 + \\sigma_r**2)*sin(2*\\theta_0)/2, \\sigma_\\theta**2*r_0**2*cos(\\theta_0)**2 + \\sigma_r**2*sin(\\theta_0)**2]])"
      ]
     },
     "execution_count": 35,
     "metadata": {},
     "output_type": "execute_result"
    }
   ],
   "source": [
    "P_e.simplify()\n",
    "P_e"
   ]
  },
  {
   "cell_type": "code",
   "execution_count": 36,
   "id": "78567af3-7842-48d4-be8f-279402f8cb42",
   "metadata": {},
   "outputs": [
    {
     "data": {
      "text/latex": [
       "$\\displaystyle \\left[\\begin{matrix}\\frac{\\sigma_{\\theta}^{2} r_{0}^{2} \\sin^{2}{\\left(\\theta_{0} \\right)}}{\\sigma_{r}^{2}} + \\cos^{2}{\\left(\\theta_{0} \\right)} & \\frac{\\left(- \\sigma_{\\theta}^{2} r_{0}^{2} + \\sigma_{r}^{2}\\right) \\sin{\\left(2 \\theta_{0} \\right)}}{2 \\sigma_{r}^{2}}\\\\\\frac{\\left(- \\sigma_{\\theta}^{2} r_{0}^{2} + \\sigma_{r}^{2}\\right) \\sin{\\left(2 \\theta_{0} \\right)}}{2 \\sigma_{r}^{2}} & \\frac{\\sigma_{\\theta}^{2} r_{0}^{2} \\cos^{2}{\\left(\\theta_{0} \\right)}}{\\sigma_{r}^{2}} + \\sin^{2}{\\left(\\theta_{0} \\right)}\\end{matrix}\\right]$"
      ],
      "text/plain": [
       "Matrix([\n",
       "[ \\sigma_\\theta**2*r_0**2*sin(\\theta_0)**2/\\sigma_r**2 + cos(\\theta_0)**2, (-\\sigma_\\theta**2*r_0**2 + \\sigma_r**2)*sin(2*\\theta_0)/(2*\\sigma_r**2)],\n",
       "[(-\\sigma_\\theta**2*r_0**2 + \\sigma_r**2)*sin(2*\\theta_0)/(2*\\sigma_r**2),  \\sigma_\\theta**2*r_0**2*cos(\\theta_0)**2/\\sigma_r**2 + sin(\\theta_0)**2]])"
      ]
     },
     "execution_count": 36,
     "metadata": {},
     "output_type": "execute_result"
    }
   ],
   "source": [
    "A = P_e / sigma_r**2\n",
    "A.simplify()\n",
    "A"
   ]
  },
  {
   "cell_type": "code",
   "execution_count": 38,
   "id": "70b2f085-7473-40b5-a71b-48f9c0ef49d4",
   "metadata": {},
   "outputs": [
    {
     "data": {
      "text/latex": [
       "$\\displaystyle \\left[\\begin{matrix}\\sin^{2}{\\left(\\theta_{0} \\right)} + \\frac{\\sigma_{r}^{2} \\cos^{2}{\\left(\\theta_{0} \\right)}}{\\sigma_{\\theta}^{2} r_{0}^{2}} & \\frac{\\left(- \\sigma_{\\theta}^{2} r_{0}^{2} + \\sigma_{r}^{2}\\right) \\sin{\\left(2 \\theta_{0} \\right)}}{2 \\sigma_{\\theta}^{2} r_{0}^{2}}\\\\\\frac{\\left(- \\sigma_{\\theta}^{2} r_{0}^{2} + \\sigma_{r}^{2}\\right) \\sin{\\left(2 \\theta_{0} \\right)}}{2 \\sigma_{\\theta}^{2} r_{0}^{2}} & \\cos^{2}{\\left(\\theta_{0} \\right)} + \\frac{\\sigma_{r}^{2} \\sin^{2}{\\left(\\theta_{0} \\right)}}{\\sigma_{\\theta}^{2} r_{0}^{2}}\\end{matrix}\\right]$"
      ],
      "text/plain": [
       "Matrix([\n",
       "[           sin(\\theta_0)**2 + \\sigma_r**2*cos(\\theta_0)**2/(\\sigma_\\theta**2*r_0**2), (-\\sigma_\\theta**2*r_0**2 + \\sigma_r**2)*sin(2*\\theta_0)/(2*\\sigma_\\theta**2*r_0**2)],\n",
       "[(-\\sigma_\\theta**2*r_0**2 + \\sigma_r**2)*sin(2*\\theta_0)/(2*\\sigma_\\theta**2*r_0**2),            cos(\\theta_0)**2 + \\sigma_r**2*sin(\\theta_0)**2/(\\sigma_\\theta**2*r_0**2)]])"
      ]
     },
     "execution_count": 38,
     "metadata": {},
     "output_type": "execute_result"
    }
   ],
   "source": [
    "B = P_e / (r * sigma_theta**2) / r\n",
    "B.simplify()\n",
    "B"
   ]
  },
  {
   "cell_type": "code",
   "execution_count": 41,
   "id": "35797cac-9449-4183-a517-f0ede406dcfa",
   "metadata": {},
   "outputs": [
    {
     "name": "stdout",
     "output_type": "stream",
     "text": [
      "\\left[\\begin{matrix}\\frac{\\sigma_{\\theta}^{2} r_{0}^{2} \\sin^{2}{\\left(\\theta_{0} \\right)}}{\\sigma_{r}^{2}} + \\cos^{2}{\\left(\\theta_{0} \\right)} & \\frac{\\left(- \\sigma_{\\theta}^{2} r_{0}^{2} + \\sigma_{r}^{2}\\right) \\sin{\\left(2 \\theta_{0} \\right)}}{2 \\sigma_{r}^{2}}\\\\\\frac{\\left(- \\sigma_{\\theta}^{2} r_{0}^{2} + \\sigma_{r}^{2}\\right) \\sin{\\left(2 \\theta_{0} \\right)}}{2 \\sigma_{r}^{2}} & \\frac{\\sigma_{\\theta}^{2} r_{0}^{2} \\cos^{2}{\\left(\\theta_{0} \\right)}}{\\sigma_{r}^{2}} + \\sin^{2}{\\left(\\theta_{0} \\right)}\\end{matrix}\\right]\n"
     ]
    }
   ],
   "source": [
    "print(latex(A))"
   ]
  },
  {
   "cell_type": "code",
   "execution_count": null,
   "id": "9e2580c9-5673-4db7-a692-ce731f10f668",
   "metadata": {},
   "outputs": [],
   "source": []
  }
 ],
 "metadata": {
  "kernelspec": {
   "display_name": "Python 3 (ipykernel)",
   "language": "python",
   "name": "python3"
  },
  "language_info": {
   "codemirror_mode": {
    "name": "ipython",
    "version": 3
   },
   "file_extension": ".py",
   "mimetype": "text/x-python",
   "name": "python",
   "nbconvert_exporter": "python",
   "pygments_lexer": "ipython3",
   "version": "3.11.7"
  }
 },
 "nbformat": 4,
 "nbformat_minor": 5
}
