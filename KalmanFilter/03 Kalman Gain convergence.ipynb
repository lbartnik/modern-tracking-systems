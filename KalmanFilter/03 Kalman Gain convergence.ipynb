{
 "cells": [
  {
   "cell_type": "code",
   "execution_count": 4,
   "id": "dcb2f68f-f727-4ca3-84d3-6702cc336029",
   "metadata": {},
   "outputs": [],
   "source": [
    "import os\n",
    "import sys\n",
    "sys.path.append(os.path.realpath('..'))"
   ]
  },
  {
   "cell_type": "code",
   "execution_count": 83,
   "id": "2dfeead5-f242-480c-b6db-0dc84ebbd6ac",
   "metadata": {},
   "outputs": [],
   "source": [
    "import numpy as np\n",
    "import plotly.express as ex\n",
    "import plotly.graph_objects as go\n",
    "from plotly.subplots import make_subplots\n",
    "import pandas as pd\n",
    "from math import sqrt\n",
    "\n",
    "from tracking.util import to_df, colorscale"
   ]
  },
  {
   "cell_type": "code",
   "execution_count": 6,
   "id": "e1f8a32e-2ea0-447f-bed6-149641d5a917",
   "metadata": {},
   "outputs": [],
   "source": [
    "from sympy.solvers import solve, solveset, nsolve, nonlinsolve\n",
    "from sympy import Symbol, symbols, N\n",
    "from sympy.matrices import Matrix"
   ]
  },
  {
   "cell_type": "markdown",
   "id": "4662e7c5-84e4-49c8-ba82-e98721a753dc",
   "metadata": {},
   "source": [
    "# Kalman Gain\n",
    "\n",
    "In certain settings, Kalman Gain converges to a value which can be predicted. This property of the Kalman Filter will be useful when analyzing motion models and their errors for maneuvering and non-maneuvering targets. \n",
    "\n",
    "Let's start by considering a scheme in which we perform a sequence of measurements of an unchanging value with a known and constant measurement error $R$. In such setting, the state of the Kalman Filter $x_i$ will converge to the true value while the state covariance $P_i$ will converge to zero.\n",
    "\n",
    "We start by taking the first measurement and using it to initialize Kalman Filter: $x_1 = z_1$ and $P_1 = R$. Then, we update Kalman Filter with each following measurement:\n",
    "\n",
    "$$\n",
    "\\begin{align}\n",
    "K = & \\frac{P_{i}}{P_{i} + R}\\\\\n",
    "x_{i+1} = & x_i + K(z_i - x_i)\\\\\n",
    "P_{i+1} = & (K-1)^2P_i + K^2R\n",
    "\\end{align}$$\n",
    "\n",
    "Let's simulate this process numerically."
   ]
  },
  {
   "cell_type": "code",
   "execution_count": 16,
   "id": "2b2d7763-e4c9-4e63-be25-67bc96cc36ea",
   "metadata": {},
   "outputs": [],
   "source": [
    "X = 10 # true value\n",
    "\n",
    "R = 1 # measurement error (variance)\n",
    "\n",
    "# take the first measurement\n",
    "z = np.random.normal(X, np.sqrt(R))\n",
    "\n",
    "# initialize the Kalman Filter\n",
    "x = z\n",
    "P = R\n",
    "\n",
    "# perform updates\n",
    "trace = [(x, P)]\n",
    "for _ in range(100):\n",
    "    z = np.random.normal(X, np.sqrt(R))\n",
    "    \n",
    "    K = P/(P+R)\n",
    "    x = x + K*(z-x)\n",
    "    P = (1-K)**2 * P + K**2 * R\n",
    "\n",
    "    trace.append((x, P))"
   ]
  },
  {
   "cell_type": "code",
   "execution_count": 26,
   "id": "1682a4a6-83ca-418f-8dca-0eca18a1442f",
   "metadata": {},
   "outputs": [
    {
     "data": {
      "application/vnd.plotly.v1+json": {
       "config": {
        "plotlyServerURL": "https://plot.ly"
       },
       "data": [
        {
         "hovertemplate": "x=%{x}<br>y=%{y}<extra></extra>",
         "legendgroup": "",
         "line": {
          "color": "#636efa",
          "dash": "solid"
         },
         "marker": {
          "symbol": "circle"
         },
         "mode": "lines",
         "name": "",
         "orientation": "v",
         "showlegend": false,
         "type": "scatter",
         "x": [
          0,
          1,
          2,
          3,
          4,
          5,
          6,
          7,
          8,
          9,
          10,
          11,
          12,
          13,
          14,
          15,
          16,
          17,
          18,
          19,
          20,
          21,
          22,
          23,
          24,
          25,
          26,
          27,
          28,
          29,
          30,
          31,
          32,
          33,
          34,
          35,
          36,
          37,
          38,
          39,
          40,
          41,
          42,
          43,
          44,
          45,
          46,
          47,
          48,
          49,
          50,
          51,
          52,
          53,
          54,
          55,
          56,
          57,
          58,
          59,
          60,
          61,
          62,
          63,
          64,
          65,
          66,
          67,
          68,
          69,
          70,
          71,
          72,
          73,
          74,
          75,
          76,
          77,
          78,
          79,
          80,
          81,
          82,
          83,
          84,
          85,
          86,
          87,
          88,
          89,
          90,
          91,
          92,
          93,
          94,
          95,
          96,
          97,
          98,
          99,
          100
         ],
         "xaxis": "x",
         "y": [
          10.2786933646543,
          10.408243627703659,
          10.150177436735431,
          9.710880152867599,
          9.623652437753808,
          9.664500058011264,
          9.66069702637202,
          9.449962800567855,
          9.477515380977781,
          9.467223702759622,
          9.378720399676745,
          9.53619566903791,
          9.585944463585712,
          9.581030922334524,
          9.676143772274116,
          9.682316396933595,
          9.774286861823981,
          9.787621334757828,
          9.790797280754242,
          9.744084669739713,
          9.797600839111738,
          9.713732883558565,
          9.740254313524572,
          9.7785074045945,
          9.761688152895324,
          9.827303586129085,
          9.858174348181404,
          9.902144043190358,
          9.948548186162252,
          9.925304484678449,
          9.891756473286955,
          9.920681872664009,
          9.93432178168739,
          9.921270000697032,
          9.948141202239675,
          9.959179965311328,
          9.98341334083191,
          9.959863689442386,
          9.916949990781195,
          9.916950236891353,
          9.908834855863894,
          9.921153114699504,
          9.953318253871325,
          9.956073153525843,
          9.970275051850827,
          9.97334868076858,
          9.962161764446634,
          9.938313793058837,
          9.935154940638782,
          9.955494863260762,
          9.969661842561283,
          9.978783239765026,
          9.985032436249337,
          10.010086853858667,
          10.02600641996933,
          10.026939362064242,
          10.017046461333631,
          10.039313167278156,
          10.041857921768653,
          10.046350530240566,
          10.020029898328017,
          10.03519349224616,
          10.039902431799835,
          10.02665674418402,
          10.027085374291662,
          10.006122539475667,
          9.999364033236837,
          10.01406173308087,
          10.024347341519361,
          10.024652647402343,
          10.038031088344399,
          10.03170091195086,
          10.02792812817356,
          10.046291538075295,
          10.05793722817945,
          10.052694675627704,
          10.048088313410751,
          10.045013958294678,
          10.046791364120637,
          10.045165756764643,
          10.065319814151053,
          10.06777218767399,
          10.075613057894593,
          10.070539492965297,
          10.068204760684681,
          10.07583347621613,
          10.076592022454285,
          10.081028396329868,
          10.072069745594057,
          10.069168098489795,
          10.068145650599902,
          10.047604038243843,
          10.042482444403094,
          10.048213923262606,
          10.044996173354404,
          10.036010524344595,
          10.046433403815934,
          10.04528071597977,
          10.029719607601127,
          10.029735478227833,
          10.046692291281003
         ],
         "yaxis": "y"
        }
       ],
       "layout": {
        "autosize": true,
        "legend": {
         "tracegroupgap": 0
        },
        "shapes": [
         {
          "line": {
           "color": "red"
          },
          "type": "line",
          "x0": 0,
          "x1": 1,
          "xref": "x domain",
          "y0": 10,
          "y1": 10,
          "yref": "y"
         }
        ],
        "template": {
         "data": {
          "bar": [
           {
            "error_x": {
             "color": "#2a3f5f"
            },
            "error_y": {
             "color": "#2a3f5f"
            },
            "marker": {
             "line": {
              "color": "#E5ECF6",
              "width": 0.5
             },
             "pattern": {
              "fillmode": "overlay",
              "size": 10,
              "solidity": 0.2
             }
            },
            "type": "bar"
           }
          ],
          "barpolar": [
           {
            "marker": {
             "line": {
              "color": "#E5ECF6",
              "width": 0.5
             },
             "pattern": {
              "fillmode": "overlay",
              "size": 10,
              "solidity": 0.2
             }
            },
            "type": "barpolar"
           }
          ],
          "carpet": [
           {
            "aaxis": {
             "endlinecolor": "#2a3f5f",
             "gridcolor": "white",
             "linecolor": "white",
             "minorgridcolor": "white",
             "startlinecolor": "#2a3f5f"
            },
            "baxis": {
             "endlinecolor": "#2a3f5f",
             "gridcolor": "white",
             "linecolor": "white",
             "minorgridcolor": "white",
             "startlinecolor": "#2a3f5f"
            },
            "type": "carpet"
           }
          ],
          "choropleth": [
           {
            "colorbar": {
             "outlinewidth": 0,
             "ticks": ""
            },
            "type": "choropleth"
           }
          ],
          "contour": [
           {
            "colorbar": {
             "outlinewidth": 0,
             "ticks": ""
            },
            "colorscale": [
             [
              0,
              "#0d0887"
             ],
             [
              0.1111111111111111,
              "#46039f"
             ],
             [
              0.2222222222222222,
              "#7201a8"
             ],
             [
              0.3333333333333333,
              "#9c179e"
             ],
             [
              0.4444444444444444,
              "#bd3786"
             ],
             [
              0.5555555555555556,
              "#d8576b"
             ],
             [
              0.6666666666666666,
              "#ed7953"
             ],
             [
              0.7777777777777778,
              "#fb9f3a"
             ],
             [
              0.8888888888888888,
              "#fdca26"
             ],
             [
              1,
              "#f0f921"
             ]
            ],
            "type": "contour"
           }
          ],
          "contourcarpet": [
           {
            "colorbar": {
             "outlinewidth": 0,
             "ticks": ""
            },
            "type": "contourcarpet"
           }
          ],
          "heatmap": [
           {
            "colorbar": {
             "outlinewidth": 0,
             "ticks": ""
            },
            "colorscale": [
             [
              0,
              "#0d0887"
             ],
             [
              0.1111111111111111,
              "#46039f"
             ],
             [
              0.2222222222222222,
              "#7201a8"
             ],
             [
              0.3333333333333333,
              "#9c179e"
             ],
             [
              0.4444444444444444,
              "#bd3786"
             ],
             [
              0.5555555555555556,
              "#d8576b"
             ],
             [
              0.6666666666666666,
              "#ed7953"
             ],
             [
              0.7777777777777778,
              "#fb9f3a"
             ],
             [
              0.8888888888888888,
              "#fdca26"
             ],
             [
              1,
              "#f0f921"
             ]
            ],
            "type": "heatmap"
           }
          ],
          "heatmapgl": [
           {
            "colorbar": {
             "outlinewidth": 0,
             "ticks": ""
            },
            "colorscale": [
             [
              0,
              "#0d0887"
             ],
             [
              0.1111111111111111,
              "#46039f"
             ],
             [
              0.2222222222222222,
              "#7201a8"
             ],
             [
              0.3333333333333333,
              "#9c179e"
             ],
             [
              0.4444444444444444,
              "#bd3786"
             ],
             [
              0.5555555555555556,
              "#d8576b"
             ],
             [
              0.6666666666666666,
              "#ed7953"
             ],
             [
              0.7777777777777778,
              "#fb9f3a"
             ],
             [
              0.8888888888888888,
              "#fdca26"
             ],
             [
              1,
              "#f0f921"
             ]
            ],
            "type": "heatmapgl"
           }
          ],
          "histogram": [
           {
            "marker": {
             "pattern": {
              "fillmode": "overlay",
              "size": 10,
              "solidity": 0.2
             }
            },
            "type": "histogram"
           }
          ],
          "histogram2d": [
           {
            "colorbar": {
             "outlinewidth": 0,
             "ticks": ""
            },
            "colorscale": [
             [
              0,
              "#0d0887"
             ],
             [
              0.1111111111111111,
              "#46039f"
             ],
             [
              0.2222222222222222,
              "#7201a8"
             ],
             [
              0.3333333333333333,
              "#9c179e"
             ],
             [
              0.4444444444444444,
              "#bd3786"
             ],
             [
              0.5555555555555556,
              "#d8576b"
             ],
             [
              0.6666666666666666,
              "#ed7953"
             ],
             [
              0.7777777777777778,
              "#fb9f3a"
             ],
             [
              0.8888888888888888,
              "#fdca26"
             ],
             [
              1,
              "#f0f921"
             ]
            ],
            "type": "histogram2d"
           }
          ],
          "histogram2dcontour": [
           {
            "colorbar": {
             "outlinewidth": 0,
             "ticks": ""
            },
            "colorscale": [
             [
              0,
              "#0d0887"
             ],
             [
              0.1111111111111111,
              "#46039f"
             ],
             [
              0.2222222222222222,
              "#7201a8"
             ],
             [
              0.3333333333333333,
              "#9c179e"
             ],
             [
              0.4444444444444444,
              "#bd3786"
             ],
             [
              0.5555555555555556,
              "#d8576b"
             ],
             [
              0.6666666666666666,
              "#ed7953"
             ],
             [
              0.7777777777777778,
              "#fb9f3a"
             ],
             [
              0.8888888888888888,
              "#fdca26"
             ],
             [
              1,
              "#f0f921"
             ]
            ],
            "type": "histogram2dcontour"
           }
          ],
          "mesh3d": [
           {
            "colorbar": {
             "outlinewidth": 0,
             "ticks": ""
            },
            "type": "mesh3d"
           }
          ],
          "parcoords": [
           {
            "line": {
             "colorbar": {
              "outlinewidth": 0,
              "ticks": ""
             }
            },
            "type": "parcoords"
           }
          ],
          "pie": [
           {
            "automargin": true,
            "type": "pie"
           }
          ],
          "scatter": [
           {
            "fillpattern": {
             "fillmode": "overlay",
             "size": 10,
             "solidity": 0.2
            },
            "type": "scatter"
           }
          ],
          "scatter3d": [
           {
            "line": {
             "colorbar": {
              "outlinewidth": 0,
              "ticks": ""
             }
            },
            "marker": {
             "colorbar": {
              "outlinewidth": 0,
              "ticks": ""
             }
            },
            "type": "scatter3d"
           }
          ],
          "scattercarpet": [
           {
            "marker": {
             "colorbar": {
              "outlinewidth": 0,
              "ticks": ""
             }
            },
            "type": "scattercarpet"
           }
          ],
          "scattergeo": [
           {
            "marker": {
             "colorbar": {
              "outlinewidth": 0,
              "ticks": ""
             }
            },
            "type": "scattergeo"
           }
          ],
          "scattergl": [
           {
            "marker": {
             "colorbar": {
              "outlinewidth": 0,
              "ticks": ""
             }
            },
            "type": "scattergl"
           }
          ],
          "scattermapbox": [
           {
            "marker": {
             "colorbar": {
              "outlinewidth": 0,
              "ticks": ""
             }
            },
            "type": "scattermapbox"
           }
          ],
          "scatterpolar": [
           {
            "marker": {
             "colorbar": {
              "outlinewidth": 0,
              "ticks": ""
             }
            },
            "type": "scatterpolar"
           }
          ],
          "scatterpolargl": [
           {
            "marker": {
             "colorbar": {
              "outlinewidth": 0,
              "ticks": ""
             }
            },
            "type": "scatterpolargl"
           }
          ],
          "scatterternary": [
           {
            "marker": {
             "colorbar": {
              "outlinewidth": 0,
              "ticks": ""
             }
            },
            "type": "scatterternary"
           }
          ],
          "surface": [
           {
            "colorbar": {
             "outlinewidth": 0,
             "ticks": ""
            },
            "colorscale": [
             [
              0,
              "#0d0887"
             ],
             [
              0.1111111111111111,
              "#46039f"
             ],
             [
              0.2222222222222222,
              "#7201a8"
             ],
             [
              0.3333333333333333,
              "#9c179e"
             ],
             [
              0.4444444444444444,
              "#bd3786"
             ],
             [
              0.5555555555555556,
              "#d8576b"
             ],
             [
              0.6666666666666666,
              "#ed7953"
             ],
             [
              0.7777777777777778,
              "#fb9f3a"
             ],
             [
              0.8888888888888888,
              "#fdca26"
             ],
             [
              1,
              "#f0f921"
             ]
            ],
            "type": "surface"
           }
          ],
          "table": [
           {
            "cells": {
             "fill": {
              "color": "#EBF0F8"
             },
             "line": {
              "color": "white"
             }
            },
            "header": {
             "fill": {
              "color": "#C8D4E3"
             },
             "line": {
              "color": "white"
             }
            },
            "type": "table"
           }
          ]
         },
         "layout": {
          "annotationdefaults": {
           "arrowcolor": "#2a3f5f",
           "arrowhead": 0,
           "arrowwidth": 1
          },
          "autotypenumbers": "strict",
          "coloraxis": {
           "colorbar": {
            "outlinewidth": 0,
            "ticks": ""
           }
          },
          "colorscale": {
           "diverging": [
            [
             0,
             "#8e0152"
            ],
            [
             0.1,
             "#c51b7d"
            ],
            [
             0.2,
             "#de77ae"
            ],
            [
             0.3,
             "#f1b6da"
            ],
            [
             0.4,
             "#fde0ef"
            ],
            [
             0.5,
             "#f7f7f7"
            ],
            [
             0.6,
             "#e6f5d0"
            ],
            [
             0.7,
             "#b8e186"
            ],
            [
             0.8,
             "#7fbc41"
            ],
            [
             0.9,
             "#4d9221"
            ],
            [
             1,
             "#276419"
            ]
           ],
           "sequential": [
            [
             0,
             "#0d0887"
            ],
            [
             0.1111111111111111,
             "#46039f"
            ],
            [
             0.2222222222222222,
             "#7201a8"
            ],
            [
             0.3333333333333333,
             "#9c179e"
            ],
            [
             0.4444444444444444,
             "#bd3786"
            ],
            [
             0.5555555555555556,
             "#d8576b"
            ],
            [
             0.6666666666666666,
             "#ed7953"
            ],
            [
             0.7777777777777778,
             "#fb9f3a"
            ],
            [
             0.8888888888888888,
             "#fdca26"
            ],
            [
             1,
             "#f0f921"
            ]
           ],
           "sequentialminus": [
            [
             0,
             "#0d0887"
            ],
            [
             0.1111111111111111,
             "#46039f"
            ],
            [
             0.2222222222222222,
             "#7201a8"
            ],
            [
             0.3333333333333333,
             "#9c179e"
            ],
            [
             0.4444444444444444,
             "#bd3786"
            ],
            [
             0.5555555555555556,
             "#d8576b"
            ],
            [
             0.6666666666666666,
             "#ed7953"
            ],
            [
             0.7777777777777778,
             "#fb9f3a"
            ],
            [
             0.8888888888888888,
             "#fdca26"
            ],
            [
             1,
             "#f0f921"
            ]
           ]
          },
          "colorway": [
           "#636efa",
           "#EF553B",
           "#00cc96",
           "#ab63fa",
           "#FFA15A",
           "#19d3f3",
           "#FF6692",
           "#B6E880",
           "#FF97FF",
           "#FECB52"
          ],
          "font": {
           "color": "#2a3f5f"
          },
          "geo": {
           "bgcolor": "white",
           "lakecolor": "white",
           "landcolor": "#E5ECF6",
           "showlakes": true,
           "showland": true,
           "subunitcolor": "white"
          },
          "hoverlabel": {
           "align": "left"
          },
          "hovermode": "closest",
          "mapbox": {
           "style": "light"
          },
          "paper_bgcolor": "white",
          "plot_bgcolor": "#E5ECF6",
          "polar": {
           "angularaxis": {
            "gridcolor": "white",
            "linecolor": "white",
            "ticks": ""
           },
           "bgcolor": "#E5ECF6",
           "radialaxis": {
            "gridcolor": "white",
            "linecolor": "white",
            "ticks": ""
           }
          },
          "scene": {
           "xaxis": {
            "backgroundcolor": "#E5ECF6",
            "gridcolor": "white",
            "gridwidth": 2,
            "linecolor": "white",
            "showbackground": true,
            "ticks": "",
            "zerolinecolor": "white"
           },
           "yaxis": {
            "backgroundcolor": "#E5ECF6",
            "gridcolor": "white",
            "gridwidth": 2,
            "linecolor": "white",
            "showbackground": true,
            "ticks": "",
            "zerolinecolor": "white"
           },
           "zaxis": {
            "backgroundcolor": "#E5ECF6",
            "gridcolor": "white",
            "gridwidth": 2,
            "linecolor": "white",
            "showbackground": true,
            "ticks": "",
            "zerolinecolor": "white"
           }
          },
          "shapedefaults": {
           "line": {
            "color": "#2a3f5f"
           }
          },
          "ternary": {
           "aaxis": {
            "gridcolor": "white",
            "linecolor": "white",
            "ticks": ""
           },
           "baxis": {
            "gridcolor": "white",
            "linecolor": "white",
            "ticks": ""
           },
           "bgcolor": "#E5ECF6",
           "caxis": {
            "gridcolor": "white",
            "linecolor": "white",
            "ticks": ""
           }
          },
          "title": {
           "x": 0.05
          },
          "xaxis": {
           "automargin": true,
           "gridcolor": "white",
           "linecolor": "white",
           "ticks": "",
           "title": {
            "standoff": 15
           },
           "zerolinecolor": "white",
           "zerolinewidth": 2
          },
          "yaxis": {
           "automargin": true,
           "gridcolor": "white",
           "linecolor": "white",
           "ticks": "",
           "title": {
            "standoff": 15
           },
           "zerolinecolor": "white",
           "zerolinewidth": 2
          }
         }
        },
        "title": {
         "text": "Estimate against true value"
        },
        "xaxis": {
         "anchor": "y",
         "autorange": true,
         "domain": [
          0,
          1
         ],
         "range": [
          0,
          100
         ],
         "title": {
          "text": "x"
         },
         "type": "linear"
        },
        "yaxis": {
         "anchor": "x",
         "autorange": true,
         "domain": [
          0,
          1
         ],
         "range": [
          9.321524664786361,
          10.465439362594042
         ],
         "title": {
          "text": "y"
         },
         "type": "linear"
        }
       }
      },
      "image/png": "[encoded data removed]",
      "text/html": [
       "<div>                            <div id=\"feab302e-e012-4f01-b3c0-275c8eb28c18\" class=\"plotly-graph-div\" style=\"height:525px; width:100%;\"></div>            <script type=\"text/javascript\">                require([\"plotly\"], function(Plotly) {                    window.PLOTLYENV=window.PLOTLYENV || {};                                    if (document.getElementById(\"feab302e-e012-4f01-b3c0-275c8eb28c18\")) {                    Plotly.newPlot(                        \"feab302e-e012-4f01-b3c0-275c8eb28c18\",                        [{\"hovertemplate\":\"x=%{x}<br>y=%{y}<extra></extra>\",\"legendgroup\":\"\",\"line\":{\"color\":\"#636efa\",\"dash\":\"solid\"},\"marker\":{\"symbol\":\"circle\"},\"mode\":\"lines\",\"name\":\"\",\"orientation\":\"v\",\"showlegend\":false,\"x\":[0,1,2,3,4,5,6,7,8,9,10,11,12,13,14,15,16,17,18,19,20,21,22,23,24,25,26,27,28,29,30,31,32,33,34,35,36,37,38,39,40,41,42,43,44,45,46,47,48,49,50,51,52,53,54,55,56,57,58,59,60,61,62,63,64,65,66,67,68,69,70,71,72,73,74,75,76,77,78,79,80,81,82,83,84,85,86,87,88,89,90,91,92,93,94,95,96,97,98,99,100],\"xaxis\":\"x\",\"y\":[10.2786933646543,10.408243627703659,10.150177436735431,9.710880152867599,9.623652437753808,9.664500058011264,9.66069702637202,9.449962800567855,9.477515380977781,9.467223702759622,9.378720399676745,9.53619566903791,9.585944463585712,9.581030922334524,9.676143772274116,9.682316396933595,9.774286861823981,9.787621334757828,9.790797280754242,9.744084669739713,9.797600839111738,9.713732883558565,9.740254313524572,9.7785074045945,9.761688152895324,9.827303586129085,9.858174348181404,9.902144043190358,9.948548186162252,9.925304484678449,9.891756473286955,9.920681872664009,9.93432178168739,9.921270000697032,9.948141202239675,9.959179965311328,9.98341334083191,9.959863689442386,9.916949990781195,9.916950236891353,9.908834855863894,9.921153114699504,9.953318253871325,9.956073153525843,9.970275051850827,9.97334868076858,9.962161764446634,9.938313793058837,9.935154940638782,9.955494863260762,9.969661842561283,9.978783239765026,9.985032436249337,10.010086853858667,10.02600641996933,10.026939362064242,10.017046461333631,10.039313167278156,10.041857921768653,10.046350530240566,10.020029898328017,10.03519349224616,10.039902431799835,10.02665674418402,10.027085374291662,10.006122539475667,9.999364033236837,10.01406173308087,10.024347341519361,10.024652647402343,10.038031088344399,10.03170091195086,10.02792812817356,10.046291538075295,10.05793722817945,10.052694675627704,10.048088313410751,10.045013958294678,10.046791364120637,10.045165756764643,10.065319814151053,10.06777218767399,10.075613057894593,10.070539492965297,10.068204760684681,10.07583347621613,10.076592022454285,10.081028396329868,10.072069745594057,10.069168098489795,10.068145650599902,10.047604038243843,10.042482444403094,10.048213923262606,10.044996173354404,10.036010524344595,10.046433403815934,10.04528071597977,10.029719607601127,10.029735478227833,10.046692291281003],\"yaxis\":\"y\",\"type\":\"scatter\"}],                        {\"template\":{\"data\":{\"histogram2dcontour\":[{\"type\":\"histogram2dcontour\",\"colorbar\":{\"outlinewidth\":0,\"ticks\":\"\"},\"colorscale\":[[0.0,\"#0d0887\"],[0.1111111111111111,\"#46039f\"],[0.2222222222222222,\"#7201a8\"],[0.3333333333333333,\"#9c179e\"],[0.4444444444444444,\"#bd3786\"],[0.5555555555555556,\"#d8576b\"],[0.6666666666666666,\"#ed7953\"],[0.7777777777777778,\"#fb9f3a\"],[0.8888888888888888,\"#fdca26\"],[1.0,\"#f0f921\"]]}],\"choropleth\":[{\"type\":\"choropleth\",\"colorbar\":{\"outlinewidth\":0,\"ticks\":\"\"}}],\"histogram2d\":[{\"type\":\"histogram2d\",\"colorbar\":{\"outlinewidth\":0,\"ticks\":\"\"},\"colorscale\":[[0.0,\"#0d0887\"],[0.1111111111111111,\"#46039f\"],[0.2222222222222222,\"#7201a8\"],[0.3333333333333333,\"#9c179e\"],[0.4444444444444444,\"#bd3786\"],[0.5555555555555556,\"#d8576b\"],[0.6666666666666666,\"#ed7953\"],[0.7777777777777778,\"#fb9f3a\"],[0.8888888888888888,\"#fdca26\"],[1.0,\"#f0f921\"]]}],\"heatmap\":[{\"type\":\"heatmap\",\"colorbar\":{\"outlinewidth\":0,\"ticks\":\"\"},\"colorscale\":[[0.0,\"#0d0887\"],[0.1111111111111111,\"#46039f\"],[0.2222222222222222,\"#7201a8\"],[0.3333333333333333,\"#9c179e\"],[0.4444444444444444,\"#bd3786\"],[0.5555555555555556,\"#d8576b\"],[0.6666666666666666,\"#ed7953\"],[0.7777777777777778,\"#fb9f3a\"],[0.8888888888888888,\"#fdca26\"],[1.0,\"#f0f921\"]]}],\"heatmapgl\":[{\"type\":\"heatmapgl\",\"colorbar\":{\"outlinewidth\":0,\"ticks\":\"\"},\"colorscale\":[[0.0,\"#0d0887\"],[0.1111111111111111,\"#46039f\"],[0.2222222222222222,\"#7201a8\"],[0.3333333333333333,\"#9c179e\"],[0.4444444444444444,\"#bd3786\"],[0.5555555555555556,\"#d8576b\"],[0.6666666666666666,\"#ed7953\"],[0.7777777777777778,\"#fb9f3a\"],[0.8888888888888888,\"#fdca26\"],[1.0,\"#f0f921\"]]}],\"contourcarpet\":[{\"type\":\"contourcarpet\",\"colorbar\":{\"outlinewidth\":0,\"ticks\":\"\"}}],\"contour\":[{\"type\":\"contour\",\"colorbar\":{\"outlinewidth\":0,\"ticks\":\"\"},\"colorscale\":[[0.0,\"#0d0887\"],[0.1111111111111111,\"#46039f\"],[0.2222222222222222,\"#7201a8\"],[0.3333333333333333,\"#9c179e\"],[0.4444444444444444,\"#bd3786\"],[0.5555555555555556,\"#d8576b\"],[0.6666666666666666,\"#ed7953\"],[0.7777777777777778,\"#fb9f3a\"],[0.8888888888888888,\"#fdca26\"],[1.0,\"#f0f921\"]]}],\"surface\":[{\"type\":\"surface\",\"colorbar\":{\"outlinewidth\":0,\"ticks\":\"\"},\"colorscale\":[[0.0,\"#0d0887\"],[0.1111111111111111,\"#46039f\"],[0.2222222222222222,\"#7201a8\"],[0.3333333333333333,\"#9c179e\"],[0.4444444444444444,\"#bd3786\"],[0.5555555555555556,\"#d8576b\"],[0.6666666666666666,\"#ed7953\"],[0.7777777777777778,\"#fb9f3a\"],[0.8888888888888888,\"#fdca26\"],[1.0,\"#f0f921\"]]}],\"mesh3d\":[{\"type\":\"mesh3d\",\"colorbar\":{\"outlinewidth\":0,\"ticks\":\"\"}}],\"scatter\":[{\"fillpattern\":{\"fillmode\":\"overlay\",\"size\":10,\"solidity\":0.2},\"type\":\"scatter\"}],\"parcoords\":[{\"type\":\"parcoords\",\"line\":{\"colorbar\":{\"outlinewidth\":0,\"ticks\":\"\"}}}],\"scatterpolargl\":[{\"type\":\"scatterpolargl\",\"marker\":{\"colorbar\":{\"outlinewidth\":0,\"ticks\":\"\"}}}],\"bar\":[{\"error_x\":{\"color\":\"#2a3f5f\"},\"error_y\":{\"color\":\"#2a3f5f\"},\"marker\":{\"line\":{\"color\":\"#E5ECF6\",\"width\":0.5},\"pattern\":{\"fillmode\":\"overlay\",\"size\":10,\"solidity\":0.2}},\"type\":\"bar\"}],\"scattergeo\":[{\"type\":\"scattergeo\",\"marker\":{\"colorbar\":{\"outlinewidth\":0,\"ticks\":\"\"}}}],\"scatterpolar\":[{\"type\":\"scatterpolar\",\"marker\":{\"colorbar\":{\"outlinewidth\":0,\"ticks\":\"\"}}}],\"histogram\":[{\"marker\":{\"pattern\":{\"fillmode\":\"overlay\",\"size\":10,\"solidity\":0.2}},\"type\":\"histogram\"}],\"scattergl\":[{\"type\":\"scattergl\",\"marker\":{\"colorbar\":{\"outlinewidth\":0,\"ticks\":\"\"}}}],\"scatter3d\":[{\"type\":\"scatter3d\",\"line\":{\"colorbar\":{\"outlinewidth\":0,\"ticks\":\"\"}},\"marker\":{\"colorbar\":{\"outlinewidth\":0,\"ticks\":\"\"}}}],\"scattermapbox\":[{\"type\":\"scattermapbox\",\"marker\":{\"colorbar\":{\"outlinewidth\":0,\"ticks\":\"\"}}}],\"scatterternary\":[{\"type\":\"scatterternary\",\"marker\":{\"colorbar\":{\"outlinewidth\":0,\"ticks\":\"\"}}}],\"scattercarpet\":[{\"type\":\"scattercarpet\",\"marker\":{\"colorbar\":{\"outlinewidth\":0,\"ticks\":\"\"}}}],\"carpet\":[{\"aaxis\":{\"endlinecolor\":\"#2a3f5f\",\"gridcolor\":\"white\",\"linecolor\":\"white\",\"minorgridcolor\":\"white\",\"startlinecolor\":\"#2a3f5f\"},\"baxis\":{\"endlinecolor\":\"#2a3f5f\",\"gridcolor\":\"white\",\"linecolor\":\"white\",\"minorgridcolor\":\"white\",\"startlinecolor\":\"#2a3f5f\"},\"type\":\"carpet\"}],\"table\":[{\"cells\":{\"fill\":{\"color\":\"#EBF0F8\"},\"line\":{\"color\":\"white\"}},\"header\":{\"fill\":{\"color\":\"#C8D4E3\"},\"line\":{\"color\":\"white\"}},\"type\":\"table\"}],\"barpolar\":[{\"marker\":{\"line\":{\"color\":\"#E5ECF6\",\"width\":0.5},\"pattern\":{\"fillmode\":\"overlay\",\"size\":10,\"solidity\":0.2}},\"type\":\"barpolar\"}],\"pie\":[{\"automargin\":true,\"type\":\"pie\"}]},\"layout\":{\"autotypenumbers\":\"strict\",\"colorway\":[\"#636efa\",\"#EF553B\",\"#00cc96\",\"#ab63fa\",\"#FFA15A\",\"#19d3f3\",\"#FF6692\",\"#B6E880\",\"#FF97FF\",\"#FECB52\"],\"font\":{\"color\":\"#2a3f5f\"},\"hovermode\":\"closest\",\"hoverlabel\":{\"align\":\"left\"},\"paper_bgcolor\":\"white\",\"plot_bgcolor\":\"#E5ECF6\",\"polar\":{\"bgcolor\":\"#E5ECF6\",\"angularaxis\":{\"gridcolor\":\"white\",\"linecolor\":\"white\",\"ticks\":\"\"},\"radialaxis\":{\"gridcolor\":\"white\",\"linecolor\":\"white\",\"ticks\":\"\"}},\"ternary\":{\"bgcolor\":\"#E5ECF6\",\"aaxis\":{\"gridcolor\":\"white\",\"linecolor\":\"white\",\"ticks\":\"\"},\"baxis\":{\"gridcolor\":\"white\",\"linecolor\":\"white\",\"ticks\":\"\"},\"caxis\":{\"gridcolor\":\"white\",\"linecolor\":\"white\",\"ticks\":\"\"}},\"coloraxis\":{\"colorbar\":{\"outlinewidth\":0,\"ticks\":\"\"}},\"colorscale\":{\"sequential\":[[0.0,\"#0d0887\"],[0.1111111111111111,\"#46039f\"],[0.2222222222222222,\"#7201a8\"],[0.3333333333333333,\"#9c179e\"],[0.4444444444444444,\"#bd3786\"],[0.5555555555555556,\"#d8576b\"],[0.6666666666666666,\"#ed7953\"],[0.7777777777777778,\"#fb9f3a\"],[0.8888888888888888,\"#fdca26\"],[1.0,\"#f0f921\"]],\"sequentialminus\":[[0.0,\"#0d0887\"],[0.1111111111111111,\"#46039f\"],[0.2222222222222222,\"#7201a8\"],[0.3333333333333333,\"#9c179e\"],[0.4444444444444444,\"#bd3786\"],[0.5555555555555556,\"#d8576b\"],[0.6666666666666666,\"#ed7953\"],[0.7777777777777778,\"#fb9f3a\"],[0.8888888888888888,\"#fdca26\"],[1.0,\"#f0f921\"]],\"diverging\":[[0,\"#8e0152\"],[0.1,\"#c51b7d\"],[0.2,\"#de77ae\"],[0.3,\"#f1b6da\"],[0.4,\"#fde0ef\"],[0.5,\"#f7f7f7\"],[0.6,\"#e6f5d0\"],[0.7,\"#b8e186\"],[0.8,\"#7fbc41\"],[0.9,\"#4d9221\"],[1,\"#276419\"]]},\"xaxis\":{\"gridcolor\":\"white\",\"linecolor\":\"white\",\"ticks\":\"\",\"title\":{\"standoff\":15},\"zerolinecolor\":\"white\",\"automargin\":true,\"zerolinewidth\":2},\"yaxis\":{\"gridcolor\":\"white\",\"linecolor\":\"white\",\"ticks\":\"\",\"title\":{\"standoff\":15},\"zerolinecolor\":\"white\",\"automargin\":true,\"zerolinewidth\":2},\"scene\":{\"xaxis\":{\"backgroundcolor\":\"#E5ECF6\",\"gridcolor\":\"white\",\"linecolor\":\"white\",\"showbackground\":true,\"ticks\":\"\",\"zerolinecolor\":\"white\",\"gridwidth\":2},\"yaxis\":{\"backgroundcolor\":\"#E5ECF6\",\"gridcolor\":\"white\",\"linecolor\":\"white\",\"showbackground\":true,\"ticks\":\"\",\"zerolinecolor\":\"white\",\"gridwidth\":2},\"zaxis\":{\"backgroundcolor\":\"#E5ECF6\",\"gridcolor\":\"white\",\"linecolor\":\"white\",\"showbackground\":true,\"ticks\":\"\",\"zerolinecolor\":\"white\",\"gridwidth\":2}},\"shapedefaults\":{\"line\":{\"color\":\"#2a3f5f\"}},\"annotationdefaults\":{\"arrowcolor\":\"#2a3f5f\",\"arrowhead\":0,\"arrowwidth\":1},\"geo\":{\"bgcolor\":\"white\",\"landcolor\":\"#E5ECF6\",\"subunitcolor\":\"white\",\"showland\":true,\"showlakes\":true,\"lakecolor\":\"white\"},\"title\":{\"x\":0.05},\"mapbox\":{\"style\":\"light\"}}},\"xaxis\":{\"anchor\":\"y\",\"domain\":[0.0,1.0],\"title\":{\"text\":\"x\"}},\"yaxis\":{\"anchor\":\"x\",\"domain\":[0.0,1.0],\"title\":{\"text\":\"y\"}},\"legend\":{\"tracegroupgap\":0},\"title\":{\"text\":\"Estimate against true value\"},\"shapes\":[{\"line\":{\"color\":\"red\"},\"type\":\"line\",\"x0\":0,\"x1\":1,\"xref\":\"x domain\",\"y0\":10,\"y1\":10,\"yref\":\"y\"}]},                        {\"responsive\": true}                    ).then(function(){\n",
       "                            \n",
       "var gd = document.getElementById('feab302e-e012-4f01-b3c0-275c8eb28c18');\n",
       "var x = new MutationObserver(function (mutations, observer) {{\n",
       "        var display = window.getComputedStyle(gd).display;\n",
       "        if (!display || display === 'none') {{\n",
       "            console.log([gd, 'removed!']);\n",
       "            Plotly.purge(gd);\n",
       "            observer.disconnect();\n",
       "        }}\n",
       "}});\n",
       "\n",
       "// Listen for the removal of the full notebook cells\n",
       "var notebookContainer = gd.closest('#notebook-container');\n",
       "if (notebookContainer) {{\n",
       "    x.observe(notebookContainer, {childList: true});\n",
       "}}\n",
       "\n",
       "// Listen for the clearing of the current output cell\n",
       "var outputEl = gd.closest('.output');\n",
       "if (outputEl) {{\n",
       "    x.observe(outputEl, {childList: true});\n",
       "}}\n",
       "\n",
       "                        })                };                });            </script>        </div>"
      ]
     },
     "metadata": {},
     "output_type": "display_data"
    }
   ],
   "source": [
    "fig = ex.line(x=range(101), y=np.array(trace)[:,0], title='Estimate against true value')\n",
    "fig.add_hline(y=X, line_color='red')"
   ]
  },
  {
   "cell_type": "code",
   "execution_count": 27,
   "id": "1d4f8023-9e08-46b3-a707-b5e4dbad5e6f",
   "metadata": {},
   "outputs": [
    {
     "data": {
      "application/vnd.plotly.v1+json": {
       "config": {
        "plotlyServerURL": "https://plot.ly"
       },
       "data": [
        {
         "hovertemplate": "x=%{x}<br>y=%{y}<extra></extra>",
         "legendgroup": "",
         "line": {
          "color": "#636efa",
          "dash": "solid"
         },
         "marker": {
          "symbol": "circle"
         },
         "mode": "lines",
         "name": "",
         "orientation": "v",
         "showlegend": false,
         "type": "scatter",
         "x": [
          0,
          1,
          2,
          3,
          4,
          5,
          6,
          7,
          8,
          9,
          10,
          11,
          12,
          13,
          14,
          15,
          16,
          17,
          18,
          19,
          20,
          21,
          22,
          23,
          24,
          25,
          26,
          27,
          28,
          29,
          30,
          31,
          32,
          33,
          34,
          35,
          36,
          37,
          38,
          39,
          40,
          41,
          42,
          43,
          44,
          45,
          46,
          47,
          48,
          49,
          50,
          51,
          52,
          53,
          54,
          55,
          56,
          57,
          58,
          59,
          60,
          61,
          62,
          63,
          64,
          65,
          66,
          67,
          68,
          69,
          70,
          71,
          72,
          73,
          74,
          75,
          76,
          77,
          78,
          79,
          80,
          81,
          82,
          83,
          84,
          85,
          86,
          87,
          88,
          89,
          90,
          91,
          92,
          93,
          94,
          95,
          96,
          97,
          98,
          99,
          100
         ],
         "xaxis": "x",
         "y": [
          1,
          0.5,
          0.33333333333333337,
          0.25,
          0.20000000000000004,
          0.16666666666666669,
          0.14285714285714285,
          0.125,
          0.1111111111111111,
          0.09999999999999999,
          0.0909090909090909,
          0.08333333333333331,
          0.07692307692307693,
          0.07142857142857144,
          0.06666666666666668,
          0.06250000000000001,
          0.058823529411764726,
          0.05555555555555557,
          0.05263157894736843,
          0.05000000000000001,
          0.04761904761904762,
          0.04545454545454546,
          0.04347826086956523,
          0.041666666666666685,
          0.04000000000000002,
          0.038461538461538484,
          0.03703703703703705,
          0.035714285714285726,
          0.03448275862068967,
          0.03333333333333335,
          0.03225806451612905,
          0.03125000000000002,
          0.030303030303030328,
          0.029411764705882377,
          0.028571428571428595,
          0.027777777777777797,
          0.027027027027027042,
          0.02631578947368423,
          0.02564102564102566,
          0.02500000000000002,
          0.024390243902439043,
          0.023809523809523826,
          0.023255813953488386,
          0.022727272727272742,
          0.022222222222222237,
          0.021739130434782622,
          0.021276595744680864,
          0.020833333333333346,
          0.020408163265306135,
          0.02000000000000001,
          0.019607843137254912,
          0.019230769230769242,
          0.0188679245283019,
          0.01851851851851853,
          0.018181818181818195,
          0.01785714285714287,
          0.017543859649122816,
          0.017241379310344834,
          0.016949152542372888,
          0.016666666666666673,
          0.016393442622950827,
          0.016129032258064526,
          0.01587301587301588,
          0.015625000000000007,
          0.01538461538461539,
          0.015151515151515157,
          0.014925373134328361,
          0.014705882352941181,
          0.014492753623188411,
          0.014285714285714294,
          0.01408450704225353,
          0.013888888888888897,
          0.01369863013698631,
          0.013513513513513523,
          0.013333333333333345,
          0.013157894736842115,
          0.012987012987012997,
          0.01282051282051283,
          0.012658227848101278,
          0.012500000000000013,
          0.012345679012345692,
          0.012195121951219525,
          0.012048192771084348,
          0.011904761904761916,
          0.011764705882352953,
          0.011627906976744198,
          0.01149425287356323,
          0.011363636363636376,
          0.011235955056179787,
          0.011111111111111124,
          0.010989010989011002,
          0.010869565217391316,
          0.010752688172043024,
          0.01063829787234044,
          0.010526315789473698,
          0.01041666666666668,
          0.010309278350515478,
          0.010204081632653074,
          0.010101010101010112,
          0.01000000000000001,
          0.009900990099009912
         ],
         "yaxis": "y"
        }
       ],
       "layout": {
        "autosize": true,
        "legend": {
         "tracegroupgap": 0
        },
        "template": {
         "data": {
          "bar": [
           {
            "error_x": {
             "color": "#2a3f5f"
            },
            "error_y": {
             "color": "#2a3f5f"
            },
            "marker": {
             "line": {
              "color": "#E5ECF6",
              "width": 0.5
             },
             "pattern": {
              "fillmode": "overlay",
              "size": 10,
              "solidity": 0.2
             }
            },
            "type": "bar"
           }
          ],
          "barpolar": [
           {
            "marker": {
             "line": {
              "color": "#E5ECF6",
              "width": 0.5
             },
             "pattern": {
              "fillmode": "overlay",
              "size": 10,
              "solidity": 0.2
             }
            },
            "type": "barpolar"
           }
          ],
          "carpet": [
           {
            "aaxis": {
             "endlinecolor": "#2a3f5f",
             "gridcolor": "white",
             "linecolor": "white",
             "minorgridcolor": "white",
             "startlinecolor": "#2a3f5f"
            },
            "baxis": {
             "endlinecolor": "#2a3f5f",
             "gridcolor": "white",
             "linecolor": "white",
             "minorgridcolor": "white",
             "startlinecolor": "#2a3f5f"
            },
            "type": "carpet"
           }
          ],
          "choropleth": [
           {
            "colorbar": {
             "outlinewidth": 0,
             "ticks": ""
            },
            "type": "choropleth"
           }
          ],
          "contour": [
           {
            "colorbar": {
             "outlinewidth": 0,
             "ticks": ""
            },
            "colorscale": [
             [
              0,
              "#0d0887"
             ],
             [
              0.1111111111111111,
              "#46039f"
             ],
             [
              0.2222222222222222,
              "#7201a8"
             ],
             [
              0.3333333333333333,
              "#9c179e"
             ],
             [
              0.4444444444444444,
              "#bd3786"
             ],
             [
              0.5555555555555556,
              "#d8576b"
             ],
             [
              0.6666666666666666,
              "#ed7953"
             ],
             [
              0.7777777777777778,
              "#fb9f3a"
             ],
             [
              0.8888888888888888,
              "#fdca26"
             ],
             [
              1,
              "#f0f921"
             ]
            ],
            "type": "contour"
           }
          ],
          "contourcarpet": [
           {
            "colorbar": {
             "outlinewidth": 0,
             "ticks": ""
            },
            "type": "contourcarpet"
           }
          ],
          "heatmap": [
           {
            "colorbar": {
             "outlinewidth": 0,
             "ticks": ""
            },
            "colorscale": [
             [
              0,
              "#0d0887"
             ],
             [
              0.1111111111111111,
              "#46039f"
             ],
             [
              0.2222222222222222,
              "#7201a8"
             ],
             [
              0.3333333333333333,
              "#9c179e"
             ],
             [
              0.4444444444444444,
              "#bd3786"
             ],
             [
              0.5555555555555556,
              "#d8576b"
             ],
             [
              0.6666666666666666,
              "#ed7953"
             ],
             [
              0.7777777777777778,
              "#fb9f3a"
             ],
             [
              0.8888888888888888,
              "#fdca26"
             ],
             [
              1,
              "#f0f921"
             ]
            ],
            "type": "heatmap"
           }
          ],
          "heatmapgl": [
           {
            "colorbar": {
             "outlinewidth": 0,
             "ticks": ""
            },
            "colorscale": [
             [
              0,
              "#0d0887"
             ],
             [
              0.1111111111111111,
              "#46039f"
             ],
             [
              0.2222222222222222,
              "#7201a8"
             ],
             [
              0.3333333333333333,
              "#9c179e"
             ],
             [
              0.4444444444444444,
              "#bd3786"
             ],
             [
              0.5555555555555556,
              "#d8576b"
             ],
             [
              0.6666666666666666,
              "#ed7953"
             ],
             [
              0.7777777777777778,
              "#fb9f3a"
             ],
             [
              0.8888888888888888,
              "#fdca26"
             ],
             [
              1,
              "#f0f921"
             ]
            ],
            "type": "heatmapgl"
           }
          ],
          "histogram": [
           {
            "marker": {
             "pattern": {
              "fillmode": "overlay",
              "size": 10,
              "solidity": 0.2
             }
            },
            "type": "histogram"
           }
          ],
          "histogram2d": [
           {
            "colorbar": {
             "outlinewidth": 0,
             "ticks": ""
            },
            "colorscale": [
             [
              0,
              "#0d0887"
             ],
             [
              0.1111111111111111,
              "#46039f"
             ],
             [
              0.2222222222222222,
              "#7201a8"
             ],
             [
              0.3333333333333333,
              "#9c179e"
             ],
             [
              0.4444444444444444,
              "#bd3786"
             ],
             [
              0.5555555555555556,
              "#d8576b"
             ],
             [
              0.6666666666666666,
              "#ed7953"
             ],
             [
              0.7777777777777778,
              "#fb9f3a"
             ],
             [
              0.8888888888888888,
              "#fdca26"
             ],
             [
              1,
              "#f0f921"
             ]
            ],
            "type": "histogram2d"
           }
          ],
          "histogram2dcontour": [
           {
            "colorbar": {
             "outlinewidth": 0,
             "ticks": ""
            },
            "colorscale": [
             [
              0,
              "#0d0887"
             ],
             [
              0.1111111111111111,
              "#46039f"
             ],
             [
              0.2222222222222222,
              "#7201a8"
             ],
             [
              0.3333333333333333,
              "#9c179e"
             ],
             [
              0.4444444444444444,
              "#bd3786"
             ],
             [
              0.5555555555555556,
              "#d8576b"
             ],
             [
              0.6666666666666666,
              "#ed7953"
             ],
             [
              0.7777777777777778,
              "#fb9f3a"
             ],
             [
              0.8888888888888888,
              "#fdca26"
             ],
             [
              1,
              "#f0f921"
             ]
            ],
            "type": "histogram2dcontour"
           }
          ],
          "mesh3d": [
           {
            "colorbar": {
             "outlinewidth": 0,
             "ticks": ""
            },
            "type": "mesh3d"
           }
          ],
          "parcoords": [
           {
            "line": {
             "colorbar": {
              "outlinewidth": 0,
              "ticks": ""
             }
            },
            "type": "parcoords"
           }
          ],
          "pie": [
           {
            "automargin": true,
            "type": "pie"
           }
          ],
          "scatter": [
           {
            "fillpattern": {
             "fillmode": "overlay",
             "size": 10,
             "solidity": 0.2
            },
            "type": "scatter"
           }
          ],
          "scatter3d": [
           {
            "line": {
             "colorbar": {
              "outlinewidth": 0,
              "ticks": ""
             }
            },
            "marker": {
             "colorbar": {
              "outlinewidth": 0,
              "ticks": ""
             }
            },
            "type": "scatter3d"
           }
          ],
          "scattercarpet": [
           {
            "marker": {
             "colorbar": {
              "outlinewidth": 0,
              "ticks": ""
             }
            },
            "type": "scattercarpet"
           }
          ],
          "scattergeo": [
           {
            "marker": {
             "colorbar": {
              "outlinewidth": 0,
              "ticks": ""
             }
            },
            "type": "scattergeo"
           }
          ],
          "scattergl": [
           {
            "marker": {
             "colorbar": {
              "outlinewidth": 0,
              "ticks": ""
             }
            },
            "type": "scattergl"
           }
          ],
          "scattermapbox": [
           {
            "marker": {
             "colorbar": {
              "outlinewidth": 0,
              "ticks": ""
             }
            },
            "type": "scattermapbox"
           }
          ],
          "scatterpolar": [
           {
            "marker": {
             "colorbar": {
              "outlinewidth": 0,
              "ticks": ""
             }
            },
            "type": "scatterpolar"
           }
          ],
          "scatterpolargl": [
           {
            "marker": {
             "colorbar": {
              "outlinewidth": 0,
              "ticks": ""
             }
            },
            "type": "scatterpolargl"
           }
          ],
          "scatterternary": [
           {
            "marker": {
             "colorbar": {
              "outlinewidth": 0,
              "ticks": ""
             }
            },
            "type": "scatterternary"
           }
          ],
          "surface": [
           {
            "colorbar": {
             "outlinewidth": 0,
             "ticks": ""
            },
            "colorscale": [
             [
              0,
              "#0d0887"
             ],
             [
              0.1111111111111111,
              "#46039f"
             ],
             [
              0.2222222222222222,
              "#7201a8"
             ],
             [
              0.3333333333333333,
              "#9c179e"
             ],
             [
              0.4444444444444444,
              "#bd3786"
             ],
             [
              0.5555555555555556,
              "#d8576b"
             ],
             [
              0.6666666666666666,
              "#ed7953"
             ],
             [
              0.7777777777777778,
              "#fb9f3a"
             ],
             [
              0.8888888888888888,
              "#fdca26"
             ],
             [
              1,
              "#f0f921"
             ]
            ],
            "type": "surface"
           }
          ],
          "table": [
           {
            "cells": {
             "fill": {
              "color": "#EBF0F8"
             },
             "line": {
              "color": "white"
             }
            },
            "header": {
             "fill": {
              "color": "#C8D4E3"
             },
             "line": {
              "color": "white"
             }
            },
            "type": "table"
           }
          ]
         },
         "layout": {
          "annotationdefaults": {
           "arrowcolor": "#2a3f5f",
           "arrowhead": 0,
           "arrowwidth": 1
          },
          "autotypenumbers": "strict",
          "coloraxis": {
           "colorbar": {
            "outlinewidth": 0,
            "ticks": ""
           }
          },
          "colorscale": {
           "diverging": [
            [
             0,
             "#8e0152"
            ],
            [
             0.1,
             "#c51b7d"
            ],
            [
             0.2,
             "#de77ae"
            ],
            [
             0.3,
             "#f1b6da"
            ],
            [
             0.4,
             "#fde0ef"
            ],
            [
             0.5,
             "#f7f7f7"
            ],
            [
             0.6,
             "#e6f5d0"
            ],
            [
             0.7,
             "#b8e186"
            ],
            [
             0.8,
             "#7fbc41"
            ],
            [
             0.9,
             "#4d9221"
            ],
            [
             1,
             "#276419"
            ]
           ],
           "sequential": [
            [
             0,
             "#0d0887"
            ],
            [
             0.1111111111111111,
             "#46039f"
            ],
            [
             0.2222222222222222,
             "#7201a8"
            ],
            [
             0.3333333333333333,
             "#9c179e"
            ],
            [
             0.4444444444444444,
             "#bd3786"
            ],
            [
             0.5555555555555556,
             "#d8576b"
            ],
            [
             0.6666666666666666,
             "#ed7953"
            ],
            [
             0.7777777777777778,
             "#fb9f3a"
            ],
            [
             0.8888888888888888,
             "#fdca26"
            ],
            [
             1,
             "#f0f921"
            ]
           ],
           "sequentialminus": [
            [
             0,
             "#0d0887"
            ],
            [
             0.1111111111111111,
             "#46039f"
            ],
            [
             0.2222222222222222,
             "#7201a8"
            ],
            [
             0.3333333333333333,
             "#9c179e"
            ],
            [
             0.4444444444444444,
             "#bd3786"
            ],
            [
             0.5555555555555556,
             "#d8576b"
            ],
            [
             0.6666666666666666,
             "#ed7953"
            ],
            [
             0.7777777777777778,
             "#fb9f3a"
            ],
            [
             0.8888888888888888,
             "#fdca26"
            ],
            [
             1,
             "#f0f921"
            ]
           ]
          },
          "colorway": [
           "#636efa",
           "#EF553B",
           "#00cc96",
           "#ab63fa",
           "#FFA15A",
           "#19d3f3",
           "#FF6692",
           "#B6E880",
           "#FF97FF",
           "#FECB52"
          ],
          "font": {
           "color": "#2a3f5f"
          },
          "geo": {
           "bgcolor": "white",
           "lakecolor": "white",
           "landcolor": "#E5ECF6",
           "showlakes": true,
           "showland": true,
           "subunitcolor": "white"
          },
          "hoverlabel": {
           "align": "left"
          },
          "hovermode": "closest",
          "mapbox": {
           "style": "light"
          },
          "paper_bgcolor": "white",
          "plot_bgcolor": "#E5ECF6",
          "polar": {
           "angularaxis": {
            "gridcolor": "white",
            "linecolor": "white",
            "ticks": ""
           },
           "bgcolor": "#E5ECF6",
           "radialaxis": {
            "gridcolor": "white",
            "linecolor": "white",
            "ticks": ""
           }
          },
          "scene": {
           "xaxis": {
            "backgroundcolor": "#E5ECF6",
            "gridcolor": "white",
            "gridwidth": 2,
            "linecolor": "white",
            "showbackground": true,
            "ticks": "",
            "zerolinecolor": "white"
           },
           "yaxis": {
            "backgroundcolor": "#E5ECF6",
            "gridcolor": "white",
            "gridwidth": 2,
            "linecolor": "white",
            "showbackground": true,
            "ticks": "",
            "zerolinecolor": "white"
           },
           "zaxis": {
            "backgroundcolor": "#E5ECF6",
            "gridcolor": "white",
            "gridwidth": 2,
            "linecolor": "white",
            "showbackground": true,
            "ticks": "",
            "zerolinecolor": "white"
           }
          },
          "shapedefaults": {
           "line": {
            "color": "#2a3f5f"
           }
          },
          "ternary": {
           "aaxis": {
            "gridcolor": "white",
            "linecolor": "white",
            "ticks": ""
           },
           "baxis": {
            "gridcolor": "white",
            "linecolor": "white",
            "ticks": ""
           },
           "bgcolor": "#E5ECF6",
           "caxis": {
            "gridcolor": "white",
            "linecolor": "white",
            "ticks": ""
           }
          },
          "title": {
           "x": 0.05
          },
          "xaxis": {
           "automargin": true,
           "gridcolor": "white",
           "linecolor": "white",
           "ticks": "",
           "title": {
            "standoff": 15
           },
           "zerolinecolor": "white",
           "zerolinewidth": 2
          },
          "yaxis": {
           "automargin": true,
           "gridcolor": "white",
           "linecolor": "white",
           "ticks": "",
           "title": {
            "standoff": 15
           },
           "zerolinecolor": "white",
           "zerolinewidth": 2
          }
         }
        },
        "title": {
         "text": "Variance"
        },
        "xaxis": {
         "anchor": "y",
         "autorange": true,
         "domain": [
          0,
          1
         ],
         "range": [
          0,
          100
         ],
         "title": {
          "text": "x"
         },
         "type": "linear"
        },
        "yaxis": {
         "anchor": "x",
         "autorange": true,
         "domain": [
          0,
          1
         ],
         "range": [
          -0.04510451045104509,
          1.055005500550055
         ],
         "title": {
          "text": "y"
         },
         "type": "linear"
        }
       }
      },
      "image/png": "[encoded data removed]",
      "text/html": [
       "<div>                            <div id=\"257fb70e-5961-4adb-ad40-dc08849aae9c\" class=\"plotly-graph-div\" style=\"height:525px; width:100%;\"></div>            <script type=\"text/javascript\">                require([\"plotly\"], function(Plotly) {                    window.PLOTLYENV=window.PLOTLYENV || {};                                    if (document.getElementById(\"257fb70e-5961-4adb-ad40-dc08849aae9c\")) {                    Plotly.newPlot(                        \"257fb70e-5961-4adb-ad40-dc08849aae9c\",                        [{\"hovertemplate\":\"x=%{x}<br>y=%{y}<extra></extra>\",\"legendgroup\":\"\",\"line\":{\"color\":\"#636efa\",\"dash\":\"solid\"},\"marker\":{\"symbol\":\"circle\"},\"mode\":\"lines\",\"name\":\"\",\"orientation\":\"v\",\"showlegend\":false,\"x\":[0,1,2,3,4,5,6,7,8,9,10,11,12,13,14,15,16,17,18,19,20,21,22,23,24,25,26,27,28,29,30,31,32,33,34,35,36,37,38,39,40,41,42,43,44,45,46,47,48,49,50,51,52,53,54,55,56,57,58,59,60,61,62,63,64,65,66,67,68,69,70,71,72,73,74,75,76,77,78,79,80,81,82,83,84,85,86,87,88,89,90,91,92,93,94,95,96,97,98,99,100],\"xaxis\":\"x\",\"y\":[1.0,0.5,0.33333333333333337,0.25,0.20000000000000004,0.16666666666666669,0.14285714285714285,0.125,0.1111111111111111,0.09999999999999999,0.0909090909090909,0.08333333333333331,0.07692307692307693,0.07142857142857144,0.06666666666666668,0.06250000000000001,0.058823529411764726,0.05555555555555557,0.05263157894736843,0.05000000000000001,0.04761904761904762,0.04545454545454546,0.04347826086956523,0.041666666666666685,0.04000000000000002,0.038461538461538484,0.03703703703703705,0.035714285714285726,0.03448275862068967,0.03333333333333335,0.03225806451612905,0.03125000000000002,0.030303030303030328,0.029411764705882377,0.028571428571428595,0.027777777777777797,0.027027027027027042,0.02631578947368423,0.02564102564102566,0.02500000000000002,0.024390243902439043,0.023809523809523826,0.023255813953488386,0.022727272727272742,0.022222222222222237,0.021739130434782622,0.021276595744680864,0.020833333333333346,0.020408163265306135,0.02000000000000001,0.019607843137254912,0.019230769230769242,0.0188679245283019,0.01851851851851853,0.018181818181818195,0.01785714285714287,0.017543859649122816,0.017241379310344834,0.016949152542372888,0.016666666666666673,0.016393442622950827,0.016129032258064526,0.01587301587301588,0.015625000000000007,0.01538461538461539,0.015151515151515157,0.014925373134328361,0.014705882352941181,0.014492753623188411,0.014285714285714294,0.01408450704225353,0.013888888888888897,0.01369863013698631,0.013513513513513523,0.013333333333333345,0.013157894736842115,0.012987012987012997,0.01282051282051283,0.012658227848101278,0.012500000000000013,0.012345679012345692,0.012195121951219525,0.012048192771084348,0.011904761904761916,0.011764705882352953,0.011627906976744198,0.01149425287356323,0.011363636363636376,0.011235955056179787,0.011111111111111124,0.010989010989011002,0.010869565217391316,0.010752688172043024,0.01063829787234044,0.010526315789473698,0.01041666666666668,0.010309278350515478,0.010204081632653074,0.010101010101010112,0.01000000000000001,0.009900990099009912],\"yaxis\":\"y\",\"type\":\"scatter\"}],                        {\"template\":{\"data\":{\"histogram2dcontour\":[{\"type\":\"histogram2dcontour\",\"colorbar\":{\"outlinewidth\":0,\"ticks\":\"\"},\"colorscale\":[[0.0,\"#0d0887\"],[0.1111111111111111,\"#46039f\"],[0.2222222222222222,\"#7201a8\"],[0.3333333333333333,\"#9c179e\"],[0.4444444444444444,\"#bd3786\"],[0.5555555555555556,\"#d8576b\"],[0.6666666666666666,\"#ed7953\"],[0.7777777777777778,\"#fb9f3a\"],[0.8888888888888888,\"#fdca26\"],[1.0,\"#f0f921\"]]}],\"choropleth\":[{\"type\":\"choropleth\",\"colorbar\":{\"outlinewidth\":0,\"ticks\":\"\"}}],\"histogram2d\":[{\"type\":\"histogram2d\",\"colorbar\":{\"outlinewidth\":0,\"ticks\":\"\"},\"colorscale\":[[0.0,\"#0d0887\"],[0.1111111111111111,\"#46039f\"],[0.2222222222222222,\"#7201a8\"],[0.3333333333333333,\"#9c179e\"],[0.4444444444444444,\"#bd3786\"],[0.5555555555555556,\"#d8576b\"],[0.6666666666666666,\"#ed7953\"],[0.7777777777777778,\"#fb9f3a\"],[0.8888888888888888,\"#fdca26\"],[1.0,\"#f0f921\"]]}],\"heatmap\":[{\"type\":\"heatmap\",\"colorbar\":{\"outlinewidth\":0,\"ticks\":\"\"},\"colorscale\":[[0.0,\"#0d0887\"],[0.1111111111111111,\"#46039f\"],[0.2222222222222222,\"#7201a8\"],[0.3333333333333333,\"#9c179e\"],[0.4444444444444444,\"#bd3786\"],[0.5555555555555556,\"#d8576b\"],[0.6666666666666666,\"#ed7953\"],[0.7777777777777778,\"#fb9f3a\"],[0.8888888888888888,\"#fdca26\"],[1.0,\"#f0f921\"]]}],\"heatmapgl\":[{\"type\":\"heatmapgl\",\"colorbar\":{\"outlinewidth\":0,\"ticks\":\"\"},\"colorscale\":[[0.0,\"#0d0887\"],[0.1111111111111111,\"#46039f\"],[0.2222222222222222,\"#7201a8\"],[0.3333333333333333,\"#9c179e\"],[0.4444444444444444,\"#bd3786\"],[0.5555555555555556,\"#d8576b\"],[0.6666666666666666,\"#ed7953\"],[0.7777777777777778,\"#fb9f3a\"],[0.8888888888888888,\"#fdca26\"],[1.0,\"#f0f921\"]]}],\"contourcarpet\":[{\"type\":\"contourcarpet\",\"colorbar\":{\"outlinewidth\":0,\"ticks\":\"\"}}],\"contour\":[{\"type\":\"contour\",\"colorbar\":{\"outlinewidth\":0,\"ticks\":\"\"},\"colorscale\":[[0.0,\"#0d0887\"],[0.1111111111111111,\"#46039f\"],[0.2222222222222222,\"#7201a8\"],[0.3333333333333333,\"#9c179e\"],[0.4444444444444444,\"#bd3786\"],[0.5555555555555556,\"#d8576b\"],[0.6666666666666666,\"#ed7953\"],[0.7777777777777778,\"#fb9f3a\"],[0.8888888888888888,\"#fdca26\"],[1.0,\"#f0f921\"]]}],\"surface\":[{\"type\":\"surface\",\"colorbar\":{\"outlinewidth\":0,\"ticks\":\"\"},\"colorscale\":[[0.0,\"#0d0887\"],[0.1111111111111111,\"#46039f\"],[0.2222222222222222,\"#7201a8\"],[0.3333333333333333,\"#9c179e\"],[0.4444444444444444,\"#bd3786\"],[0.5555555555555556,\"#d8576b\"],[0.6666666666666666,\"#ed7953\"],[0.7777777777777778,\"#fb9f3a\"],[0.8888888888888888,\"#fdca26\"],[1.0,\"#f0f921\"]]}],\"mesh3d\":[{\"type\":\"mesh3d\",\"colorbar\":{\"outlinewidth\":0,\"ticks\":\"\"}}],\"scatter\":[{\"fillpattern\":{\"fillmode\":\"overlay\",\"size\":10,\"solidity\":0.2},\"type\":\"scatter\"}],\"parcoords\":[{\"type\":\"parcoords\",\"line\":{\"colorbar\":{\"outlinewidth\":0,\"ticks\":\"\"}}}],\"scatterpolargl\":[{\"type\":\"scatterpolargl\",\"marker\":{\"colorbar\":{\"outlinewidth\":0,\"ticks\":\"\"}}}],\"bar\":[{\"error_x\":{\"color\":\"#2a3f5f\"},\"error_y\":{\"color\":\"#2a3f5f\"},\"marker\":{\"line\":{\"color\":\"#E5ECF6\",\"width\":0.5},\"pattern\":{\"fillmode\":\"overlay\",\"size\":10,\"solidity\":0.2}},\"type\":\"bar\"}],\"scattergeo\":[{\"type\":\"scattergeo\",\"marker\":{\"colorbar\":{\"outlinewidth\":0,\"ticks\":\"\"}}}],\"scatterpolar\":[{\"type\":\"scatterpolar\",\"marker\":{\"colorbar\":{\"outlinewidth\":0,\"ticks\":\"\"}}}],\"histogram\":[{\"marker\":{\"pattern\":{\"fillmode\":\"overlay\",\"size\":10,\"solidity\":0.2}},\"type\":\"histogram\"}],\"scattergl\":[{\"type\":\"scattergl\",\"marker\":{\"colorbar\":{\"outlinewidth\":0,\"ticks\":\"\"}}}],\"scatter3d\":[{\"type\":\"scatter3d\",\"line\":{\"colorbar\":{\"outlinewidth\":0,\"ticks\":\"\"}},\"marker\":{\"colorbar\":{\"outlinewidth\":0,\"ticks\":\"\"}}}],\"scattermapbox\":[{\"type\":\"scattermapbox\",\"marker\":{\"colorbar\":{\"outlinewidth\":0,\"ticks\":\"\"}}}],\"scatterternary\":[{\"type\":\"scatterternary\",\"marker\":{\"colorbar\":{\"outlinewidth\":0,\"ticks\":\"\"}}}],\"scattercarpet\":[{\"type\":\"scattercarpet\",\"marker\":{\"colorbar\":{\"outlinewidth\":0,\"ticks\":\"\"}}}],\"carpet\":[{\"aaxis\":{\"endlinecolor\":\"#2a3f5f\",\"gridcolor\":\"white\",\"linecolor\":\"white\",\"minorgridcolor\":\"white\",\"startlinecolor\":\"#2a3f5f\"},\"baxis\":{\"endlinecolor\":\"#2a3f5f\",\"gridcolor\":\"white\",\"linecolor\":\"white\",\"minorgridcolor\":\"white\",\"startlinecolor\":\"#2a3f5f\"},\"type\":\"carpet\"}],\"table\":[{\"cells\":{\"fill\":{\"color\":\"#EBF0F8\"},\"line\":{\"color\":\"white\"}},\"header\":{\"fill\":{\"color\":\"#C8D4E3\"},\"line\":{\"color\":\"white\"}},\"type\":\"table\"}],\"barpolar\":[{\"marker\":{\"line\":{\"color\":\"#E5ECF6\",\"width\":0.5},\"pattern\":{\"fillmode\":\"overlay\",\"size\":10,\"solidity\":0.2}},\"type\":\"barpolar\"}],\"pie\":[{\"automargin\":true,\"type\":\"pie\"}]},\"layout\":{\"autotypenumbers\":\"strict\",\"colorway\":[\"#636efa\",\"#EF553B\",\"#00cc96\",\"#ab63fa\",\"#FFA15A\",\"#19d3f3\",\"#FF6692\",\"#B6E880\",\"#FF97FF\",\"#FECB52\"],\"font\":{\"color\":\"#2a3f5f\"},\"hovermode\":\"closest\",\"hoverlabel\":{\"align\":\"left\"},\"paper_bgcolor\":\"white\",\"plot_bgcolor\":\"#E5ECF6\",\"polar\":{\"bgcolor\":\"#E5ECF6\",\"angularaxis\":{\"gridcolor\":\"white\",\"linecolor\":\"white\",\"ticks\":\"\"},\"radialaxis\":{\"gridcolor\":\"white\",\"linecolor\":\"white\",\"ticks\":\"\"}},\"ternary\":{\"bgcolor\":\"#E5ECF6\",\"aaxis\":{\"gridcolor\":\"white\",\"linecolor\":\"white\",\"ticks\":\"\"},\"baxis\":{\"gridcolor\":\"white\",\"linecolor\":\"white\",\"ticks\":\"\"},\"caxis\":{\"gridcolor\":\"white\",\"linecolor\":\"white\",\"ticks\":\"\"}},\"coloraxis\":{\"colorbar\":{\"outlinewidth\":0,\"ticks\":\"\"}},\"colorscale\":{\"sequential\":[[0.0,\"#0d0887\"],[0.1111111111111111,\"#46039f\"],[0.2222222222222222,\"#7201a8\"],[0.3333333333333333,\"#9c179e\"],[0.4444444444444444,\"#bd3786\"],[0.5555555555555556,\"#d8576b\"],[0.6666666666666666,\"#ed7953\"],[0.7777777777777778,\"#fb9f3a\"],[0.8888888888888888,\"#fdca26\"],[1.0,\"#f0f921\"]],\"sequentialminus\":[[0.0,\"#0d0887\"],[0.1111111111111111,\"#46039f\"],[0.2222222222222222,\"#7201a8\"],[0.3333333333333333,\"#9c179e\"],[0.4444444444444444,\"#bd3786\"],[0.5555555555555556,\"#d8576b\"],[0.6666666666666666,\"#ed7953\"],[0.7777777777777778,\"#fb9f3a\"],[0.8888888888888888,\"#fdca26\"],[1.0,\"#f0f921\"]],\"diverging\":[[0,\"#8e0152\"],[0.1,\"#c51b7d\"],[0.2,\"#de77ae\"],[0.3,\"#f1b6da\"],[0.4,\"#fde0ef\"],[0.5,\"#f7f7f7\"],[0.6,\"#e6f5d0\"],[0.7,\"#b8e186\"],[0.8,\"#7fbc41\"],[0.9,\"#4d9221\"],[1,\"#276419\"]]},\"xaxis\":{\"gridcolor\":\"white\",\"linecolor\":\"white\",\"ticks\":\"\",\"title\":{\"standoff\":15},\"zerolinecolor\":\"white\",\"automargin\":true,\"zerolinewidth\":2},\"yaxis\":{\"gridcolor\":\"white\",\"linecolor\":\"white\",\"ticks\":\"\",\"title\":{\"standoff\":15},\"zerolinecolor\":\"white\",\"automargin\":true,\"zerolinewidth\":2},\"scene\":{\"xaxis\":{\"backgroundcolor\":\"#E5ECF6\",\"gridcolor\":\"white\",\"linecolor\":\"white\",\"showbackground\":true,\"ticks\":\"\",\"zerolinecolor\":\"white\",\"gridwidth\":2},\"yaxis\":{\"backgroundcolor\":\"#E5ECF6\",\"gridcolor\":\"white\",\"linecolor\":\"white\",\"showbackground\":true,\"ticks\":\"\",\"zerolinecolor\":\"white\",\"gridwidth\":2},\"zaxis\":{\"backgroundcolor\":\"#E5ECF6\",\"gridcolor\":\"white\",\"linecolor\":\"white\",\"showbackground\":true,\"ticks\":\"\",\"zerolinecolor\":\"white\",\"gridwidth\":2}},\"shapedefaults\":{\"line\":{\"color\":\"#2a3f5f\"}},\"annotationdefaults\":{\"arrowcolor\":\"#2a3f5f\",\"arrowhead\":0,\"arrowwidth\":1},\"geo\":{\"bgcolor\":\"white\",\"landcolor\":\"#E5ECF6\",\"subunitcolor\":\"white\",\"showland\":true,\"showlakes\":true,\"lakecolor\":\"white\"},\"title\":{\"x\":0.05},\"mapbox\":{\"style\":\"light\"}}},\"xaxis\":{\"anchor\":\"y\",\"domain\":[0.0,1.0],\"title\":{\"text\":\"x\"}},\"yaxis\":{\"anchor\":\"x\",\"domain\":[0.0,1.0],\"title\":{\"text\":\"y\"}},\"legend\":{\"tracegroupgap\":0},\"title\":{\"text\":\"Variance\"}},                        {\"responsive\": true}                    ).then(function(){\n",
       "                            \n",
       "var gd = document.getElementById('257fb70e-5961-4adb-ad40-dc08849aae9c');\n",
       "var x = new MutationObserver(function (mutations, observer) {{\n",
       "        var display = window.getComputedStyle(gd).display;\n",
       "        if (!display || display === 'none') {{\n",
       "            console.log([gd, 'removed!']);\n",
       "            Plotly.purge(gd);\n",
       "            observer.disconnect();\n",
       "        }}\n",
       "}});\n",
       "\n",
       "// Listen for the removal of the full notebook cells\n",
       "var notebookContainer = gd.closest('#notebook-container');\n",
       "if (notebookContainer) {{\n",
       "    x.observe(notebookContainer, {childList: true});\n",
       "}}\n",
       "\n",
       "// Listen for the clearing of the current output cell\n",
       "var outputEl = gd.closest('.output');\n",
       "if (outputEl) {{\n",
       "    x.observe(outputEl, {childList: true});\n",
       "}}\n",
       "\n",
       "                        })                };                });            </script>        </div>"
      ]
     },
     "metadata": {},
     "output_type": "display_data"
    }
   ],
   "source": [
    "ex.line(x=range(101), y=np.array(trace)[:,1], title='Variance')"
   ]
  },
  {
   "cell_type": "markdown",
   "id": "4cee009f-89ac-4718-9a4f-c1fab79ebe8f",
   "metadata": {},
   "source": [
    "The above should be not at all surprising once we realize that the above is an equivalent to taking the average of $N$ realizations of a random normal variable with mean $X$ and variance $R$:\n",
    "\n",
    "$$x_N = \\frac{1}{N}\\sum_i^N Y_i$$\n",
    "$$Y \\sim \\mathcal{N}(X,R)$$\n",
    "\n",
    "Central Limite Theorem tells us that when $N \\rightarrow \\infty$, $x_N$ converges to $X$ and variance expressed as $\\frac{R}{N}$ converges to zero. Let's compare those two approaches."
   ]
  },
  {
   "cell_type": "code",
   "execution_count": 67,
   "id": "9710f9b7-97ca-4704-ba12-486db509c635",
   "metadata": {},
   "outputs": [],
   "source": [
    "def kalman(X, R, n):\n",
    "    x = np.random.normal(X, np.sqrt(R))\n",
    "    P = R\n",
    "    trace = [x]\n",
    "    for _ in range(n):\n",
    "        z = np.random.normal(X, np.sqrt(R))\n",
    "        K = P/(P+R)\n",
    "        x = x + K*(z-x)\n",
    "        P = (1-K)**2 * P + K**2 * R\n",
    "        trace.append(x)\n",
    "    return np.array(trace)\n",
    "\n",
    "def average(X, R, n):\n",
    "    return np.cumsum(np.random.normal(X, np.sqrt(R), size=n+1)) / np.arange(1, n+2)"
   ]
  },
  {
   "cell_type": "code",
   "execution_count": 70,
   "id": "6652c5d0-4977-4127-a88e-65099ef87be7",
   "metadata": {},
   "outputs": [
    {
     "data": {
      "application/vnd.plotly.v1+json": {
       "config": {
        "plotlyServerURL": "https://plot.ly"
       },
       "data": [
        {
         "hovertemplate": "x=%{x}<br>y=%{y}<extra></extra>",
         "legendgroup": "",
         "line": {
          "color": "#636efa",
          "dash": "solid"
         },
         "marker": {
          "symbol": "circle"
         },
         "mode": "lines",
         "name": "",
         "showlegend": false,
         "type": "scattergl",
         "x": [
          0,
          1,
          2,
          3,
          4,
          5,
          6,
          7,
          8,
          9,
          10,
          11,
          12,
          13,
          14,
          15,
          16,
          17,
          18,
          19,
          20,
          21,
          22,
          23,
          24,
          25,
          26,
          27,
          28,
          29,
          30,
          31,
          32,
          33,
          34,
          35,
          36,
          37,
          38,
          39,
          40,
          41,
          42,
          43,
          44,
          45,
          46,
          47,
          48,
          49,
          50,
          51,
          52,
          53,
          54,
          55,
          56,
          57,
          58,
          59,
          60,
          61,
          62,
          63,
          64,
          65,
          66,
          67,
          68,
          69,
          70,
          71,
          72,
          73,
          74,
          75,
          76,
          77,
          78,
          79,
          80,
          81,
          82,
          83,
          84,
          85,
          86,
          87,
          88,
          89,
          90,
          91,
          92,
          93,
          94,
          95,
          96,
          97,
          98,
          99,
          100,
          101,
          102,
          103,
          104,
          105,
          106,
          107,
          108,
          109,
          110,
          111,
          112,
          113,
          114,
          115,
          116,
          117,
          118,
          119,
          120,
          121,
          122,
          123,
          124,
          125,
          126,
          127,
          128,
          129,
          130,
          131,
          132,
          133,
          134,
          135,
          136,
          137,
          138,
          139,
          140,
          141,
          142,
          143,
          144,
          145,
          146,
          147,
          148,
          149,
          150,
          151,
          152,
          153,
          154,
          155,
          156,
          157,
          158,
          159,
          160,
          161,
          162,
          163,
          164,
          165,
          166,
          167,
          168,
          169,
          170,
          171,
          172,
          173,
          174,
          175,
          176,
          177,
          178,
          179,
          180,
          181,
          182,
          183,
          184,
          185,
          186,
          187,
          188,
          189,
          190,
          191,
          192,
          193,
          194,
          195,
          196,
          197,
          198,
          199,
          200,
          201,
          202,
          203,
          204,
          205,
          206,
          207,
          208,
          209,
          210,
          211,
          212,
          213,
          214,
          215,
          216,
          217,
          218,
          219,
          220,
          221,
          222,
          223,
          224,
          225,
          226,
          227,
          228,
          229,
          230,
          231,
          232,
          233,
          234,
          235,
          236,
          237,
          238,
          239,
          240,
          241,
          242,
          243,
          244,
          245,
          246,
          247,
          248,
          249,
          250,
          251,
          252,
          253,
          254,
          255,
          256,
          257,
          258,
          259,
          260,
          261,
          262,
          263,
          264,
          265,
          266,
          267,
          268,
          269,
          270,
          271,
          272,
          273,
          274,
          275,
          276,
          277,
          278,
          279,
          280,
          281,
          282,
          283,
          284,
          285,
          286,
          287,
          288,
          289,
          290,
          291,
          292,
          293,
          294,
          295,
          296,
          297,
          298,
          299,
          300,
          301,
          302,
          303,
          304,
          305,
          306,
          307,
          308,
          309,
          310,
          311,
          312,
          313,
          314,
          315,
          316,
          317,
          318,
          319,
          320,
          321,
          322,
          323,
          324,
          325,
          326,
          327,
          328,
          329,
          330,
          331,
          332,
          333,
          334,
          335,
          336,
          337,
          338,
          339,
          340,
          341,
          342,
          343,
          344,
          345,
          346,
          347,
          348,
          349,
          350,
          351,
          352,
          353,
          354,
          355,
          356,
          357,
          358,
          359,
          360,
          361,
          362,
          363,
          364,
          365,
          366,
          367,
          368,
          369,
          370,
          371,
          372,
          373,
          374,
          375,
          376,
          377,
          378,
          379,
          380,
          381,
          382,
          383,
          384,
          385,
          386,
          387,
          388,
          389,
          390,
          391,
          392,
          393,
          394,
          395,
          396,
          397,
          398,
          399,
          400,
          401,
          402,
          403,
          404,
          405,
          406,
          407,
          408,
          409,
          410,
          411,
          412,
          413,
          414,
          415,
          416,
          417,
          418,
          419,
          420,
          421,
          422,
          423,
          424,
          425,
          426,
          427,
          428,
          429,
          430,
          431,
          432,
          433,
          434,
          435,
          436,
          437,
          438,
          439,
          440,
          441,
          442,
          443,
          444,
          445,
          446,
          447,
          448,
          449,
          450,
          451,
          452,
          453,
          454,
          455,
          456,
          457,
          458,
          459,
          460,
          461,
          462,
          463,
          464,
          465,
          466,
          467,
          468,
          469,
          470,
          471,
          472,
          473,
          474,
          475,
          476,
          477,
          478,
          479,
          480,
          481,
          482,
          483,
          484,
          485,
          486,
          487,
          488,
          489,
          490,
          491,
          492,
          493,
          494,
          495,
          496,
          497,
          498,
          499,
          500,
          501,
          502,
          503,
          504,
          505,
          506,
          507,
          508,
          509,
          510,
          511,
          512,
          513,
          514,
          515,
          516,
          517,
          518,
          519,
          520,
          521,
          522,
          523,
          524,
          525,
          526,
          527,
          528,
          529,
          530,
          531,
          532,
          533,
          534,
          535,
          536,
          537,
          538,
          539,
          540,
          541,
          542,
          543,
          544,
          545,
          546,
          547,
          548,
          549,
          550,
          551,
          552,
          553,
          554,
          555,
          556,
          557,
          558,
          559,
          560,
          561,
          562,
          563,
          564,
          565,
          566,
          567,
          568,
          569,
          570,
          571,
          572,
          573,
          574,
          575,
          576,
          577,
          578,
          579,
          580,
          581,
          582,
          583,
          584,
          585,
          586,
          587,
          588,
          589,
          590,
          591,
          592,
          593,
          594,
          595,
          596,
          597,
          598,
          599,
          600,
          601,
          602,
          603,
          604,
          605,
          606,
          607,
          608,
          609,
          610,
          611,
          612,
          613,
          614,
          615,
          616,
          617,
          618,
          619,
          620,
          621,
          622,
          623,
          624,
          625,
          626,
          627,
          628,
          629,
          630,
          631,
          632,
          633,
          634,
          635,
          636,
          637,
          638,
          639,
          640,
          641,
          642,
          643,
          644,
          645,
          646,
          647,
          648,
          649,
          650,
          651,
          652,
          653,
          654,
          655,
          656,
          657,
          658,
          659,
          660,
          661,
          662,
          663,
          664,
          665,
          666,
          667,
          668,
          669,
          670,
          671,
          672,
          673,
          674,
          675,
          676,
          677,
          678,
          679,
          680,
          681,
          682,
          683,
          684,
          685,
          686,
          687,
          688,
          689,
          690,
          691,
          692,
          693,
          694,
          695,
          696,
          697,
          698,
          699,
          700,
          701,
          702,
          703,
          704,
          705,
          706,
          707,
          708,
          709,
          710,
          711,
          712,
          713,
          714,
          715,
          716,
          717,
          718,
          719,
          720,
          721,
          722,
          723,
          724,
          725,
          726,
          727,
          728,
          729,
          730,
          731,
          732,
          733,
          734,
          735,
          736,
          737,
          738,
          739,
          740,
          741,
          742,
          743,
          744,
          745,
          746,
          747,
          748,
          749,
          750,
          751,
          752,
          753,
          754,
          755,
          756,
          757,
          758,
          759,
          760,
          761,
          762,
          763,
          764,
          765,
          766,
          767,
          768,
          769,
          770,
          771,
          772,
          773,
          774,
          775,
          776,
          777,
          778,
          779,
          780,
          781,
          782,
          783,
          784,
          785,
          786,
          787,
          788,
          789,
          790,
          791,
          792,
          793,
          794,
          795,
          796,
          797,
          798,
          799,
          800,
          801,
          802,
          803,
          804,
          805,
          806,
          807,
          808,
          809,
          810,
          811,
          812,
          813,
          814,
          815,
          816,
          817,
          818,
          819,
          820,
          821,
          822,
          823,
          824,
          825,
          826,
          827,
          828,
          829,
          830,
          831,
          832,
          833,
          834,
          835,
          836,
          837,
          838,
          839,
          840,
          841,
          842,
          843,
          844,
          845,
          846,
          847,
          848,
          849,
          850,
          851,
          852,
          853,
          854,
          855,
          856,
          857,
          858,
          859,
          860,
          861,
          862,
          863,
          864,
          865,
          866,
          867,
          868,
          869,
          870,
          871,
          872,
          873,
          874,
          875,
          876,
          877,
          878,
          879,
          880,
          881,
          882,
          883,
          884,
          885,
          886,
          887,
          888,
          889,
          890,
          891,
          892,
          893,
          894,
          895,
          896,
          897,
          898,
          899,
          900,
          901,
          902,
          903,
          904,
          905,
          906,
          907,
          908,
          909,
          910,
          911,
          912,
          913,
          914,
          915,
          916,
          917,
          918,
          919,
          920,
          921,
          922,
          923,
          924,
          925,
          926,
          927,
          928,
          929,
          930,
          931,
          932,
          933,
          934,
          935,
          936,
          937,
          938,
          939,
          940,
          941,
          942,
          943,
          944,
          945,
          946,
          947,
          948,
          949,
          950,
          951,
          952,
          953,
          954,
          955,
          956,
          957,
          958,
          959,
          960,
          961,
          962,
          963,
          964,
          965,
          966,
          967,
          968,
          969,
          970,
          971,
          972,
          973,
          974,
          975,
          976,
          977,
          978,
          979,
          980,
          981,
          982,
          983,
          984,
          985,
          986,
          987,
          988,
          989,
          990,
          991,
          992,
          993,
          994,
          995,
          996,
          997,
          998,
          999,
          1000
         ],
         "xaxis": "x",
         "y": [
          1.023393080964389,
          0.5003805530964909,
          0.3362874263148362,
          0.2577092743289595,
          0.2120515338728786,
          0.17516000575651397,
          0.1447700832815041,
          0.1295809520910627,
          0.11718136138695685,
          0.10362647324134654,
          0.09544892672084268,
          0.0857840067754073,
          0.07850341860388652,
          0.07269241512204187,
          0.06842677936516306,
          0.06398299116098556,
          0.05964518191228207,
          0.05490147785889581,
          0.05232488531570712,
          0.05096798693682433,
          0.04881689444129418,
          0.04649130941559347,
          0.044100812958875704,
          0.042262924659726836,
          0.04079991643675126,
          0.03845549103199703,
          0.03632412801962539,
          0.03534407564635787,
          0.0341529364815905,
          0.033310936381750075,
          0.03220214939015694,
          0.031205217077129907,
          0.03053761083554558,
          0.02960251576677576,
          0.028642733946344697,
          0.02761279934923104,
          0.0270903355177031,
          0.02571688018630023,
          0.025273748883438748,
          0.024944744879478765,
          0.024366245227290095,
          0.02391095448487803,
          0.02343953228117996,
          0.02290960293537817,
          0.022443643071357357,
          0.02210449665376538,
          0.02193604438824035,
          0.021628620038937882,
          0.021028732799585927,
          0.020716443489582473,
          0.02048717863251915,
          0.020022973885775484,
          0.019586351641415672,
          0.01915594734375452,
          0.018948753730702508,
          0.018540182878623825,
          0.018123468627398977,
          0.01772430067362194,
          0.017365919875102862,
          0.01691527623641243,
          0.016858198373213697,
          0.016410363444267155,
          0.01605631055043703,
          0.015822395976463944,
          0.015563561536054787,
          0.015289193366438206,
          0.014924101246824521,
          0.01447242364074309,
          0.01418057853519939,
          0.014067974727527615,
          0.013879530114954321,
          0.013658575254996225,
          0.01345063319685302,
          0.013257463771509591,
          0.012936464248734996,
          0.012790537499077603,
          0.012589769104692906,
          0.01244399094408774,
          0.012233765833185284,
          0.012149868502452933,
          0.01194322321405481,
          0.011822587406077846,
          0.011735987063210768,
          0.011605458178998725,
          0.011400637967427197,
          0.011156899134448636,
          0.011038857424396415,
          0.010839340886067717,
          0.010787278367141658,
          0.010650773967613991,
          0.010580858594656442,
          0.010549887080947614,
          0.010417757487481612,
          0.010373703177120873,
          0.010261176540962404,
          0.010266060978217927,
          0.010136369142795459,
          0.010110594656138625,
          0.009977038374727363,
          0.009846163365973184,
          0.009616683569474553,
          0.009598905382237073,
          0.009494585626785824,
          0.009478188575846239,
          0.009380422855518981,
          0.00929031976678988,
          0.009175781838699288,
          0.009078302342651376,
          0.009071338506924645,
          0.009027729853821713,
          0.008955225372914847,
          0.008841163251290444,
          0.00878195951006212,
          0.008654855419672019,
          0.008539593703874478,
          0.008398532856909245,
          0.008343258225309068,
          0.008357204461914737,
          0.008223815246510613,
          0.008167864302967067,
          0.008005199954806934,
          0.007942214771767516,
          0.007896776261626472,
          0.0077715732206181,
          0.007668239059964311,
          0.007630620971393717,
          0.007598148599354104,
          0.0075779671460255915,
          0.007587498959720991,
          0.007511544449567485,
          0.007410106416242503,
          0.007453786977436525,
          0.007392618474313133,
          0.0073137326567473725,
          0.007254481956614111,
          0.007179660523703522,
          0.007081437063415707,
          0.007092044313522571,
          0.007025386790970762,
          0.006963578759437795,
          0.006941260090795133,
          0.006868683519688557,
          0.006744466247977101,
          0.0067292199241638356,
          0.0066885696382367075,
          0.006650442080003363,
          0.006616792303134742,
          0.006516791723661839,
          0.006445748105193873,
          0.006378182109129182,
          0.0063317748944245545,
          0.006306050155603668,
          0.006287084904298365,
          0.00620322042510643,
          0.006209896859229171,
          0.006210329008637066,
          0.006262456711467344,
          0.006188358040616614,
          0.006095180157807144,
          0.006095985394299373,
          0.006052480553492091,
          0.006026662309153947,
          0.006040349968062958,
          0.005991605097604697,
          0.005960413137767459,
          0.005918756626237509,
          0.005878219506663614,
          0.005786527454462919,
          0.005808734670384589,
          0.005779516608772848,
          0.005699193001202521,
          0.005669211264786312,
          0.005664515848127867,
          0.005637844052074495,
          0.005548710260418352,
          0.005554383063050678,
          0.005499890315602557,
          0.005471808496716619,
          0.005453023152450992,
          0.0054352569094264285,
          0.005422207629173828,
          0.005390260564897905,
          0.005358533181556529,
          0.005321132593356376,
          0.005304521499259673,
          0.005272844843637211,
          0.005226404441141394,
          0.00519194808693458,
          0.00515527662798494,
          0.005144688598402697,
          0.005122352136880702,
          0.005149022577423591,
          0.005106737312979616,
          0.005112048202576301,
          0.005072387599929344,
          0.0050782950667437494,
          0.005041098345823244,
          0.005031624130859977,
          0.005004186268472853,
          0.004944673461894249,
          0.0049510829120459334,
          0.0048877035622193876,
          0.00485762277377168,
          0.004791727022808024,
          0.004759693950363029,
          0.004724904878013097,
          0.004690083599811941,
          0.004700319847331345,
          0.004661511615045983,
          0.004628745037755729,
          0.004597479020049655,
          0.004599256475539457,
          0.004580261199370276,
          0.004552727916201191,
          0.004522858176895772,
          0.004489064841415634,
          0.004476369517405217,
          0.004432512441470683,
          0.004411196230554796,
          0.004399355160855054,
          0.004382392613414749,
          0.004371620998936187,
          0.004371054749309213,
          0.00435369922117451,
          0.004329790339577684,
          0.004335202786963354,
          0.004306889395421394,
          0.004236514669391534,
          0.004219747989070977,
          0.004215112511066387,
          0.004159304065100031,
          0.004155560050558691,
          0.0041138687132851555,
          0.004084408596105509,
          0.004079242247470864,
          0.004059705094419763,
          0.004061597570892918,
          0.0040361552940716555,
          0.00403672339317761,
          0.004053522619276677,
          0.00403419008467501,
          0.004021321371702633,
          0.004022095294119971,
          0.003986262268502389,
          0.003987263741727959,
          0.004022805089510697,
          0.003985056877530238,
          0.003978857167650943,
          0.003977076308160744,
          0.003971307607874495,
          0.0039870194393016945,
          0.003986002062263208,
          0.003982193843723928,
          0.003981616907792781,
          0.003966344006467103,
          0.00394288596115732,
          0.003912983184569373,
          0.0038706019916723666,
          0.0038967250505836885,
          0.003898309793873738,
          0.0038988225203685557,
          0.003871029441397859,
          0.003857524294077507,
          0.0038514545839271395,
          0.0038553321816882356,
          0.0038569044100129706,
          0.0038236172098619144,
          0.0037940052339550134,
          0.003782083582460611,
          0.003761256077732587,
          0.003731561690595051,
          0.0037155723645559587,
          0.0037098449188496503,
          0.00369029124015216,
          0.0036831928905574104,
          0.0036656604533947465,
          0.0036557702121445437,
          0.0036137402872281504,
          0.003596066231778139,
          0.003580136677961332,
          0.0035688525236936583,
          0.0035213752281781233,
          0.003496847714137395,
          0.0034566062387842646,
          0.0034539760847013866,
          0.0034445346775684505,
          0.003437654876987865,
          0.0034295448891519032,
          0.0034345839749485426,
          0.0034117426334490143,
          0.003404190505473111,
          0.003398391669303894,
          0.0033643253151761613,
          0.003347552701944534,
          0.0033387619592513884,
          0.0033275656000923888,
          0.003304927706365978,
          0.0032899238073444996,
          0.0032818065822268956,
          0.003279750143347572,
          0.0032766045478565603,
          0.003273796852544905,
          0.0032459516146862736,
          0.003226120770185104,
          0.003226665210054824,
          0.0032043347607632207,
          0.0031903875528781983,
          0.003197403484574864,
          0.003178119519689772,
          0.003162839648472152,
          0.003150735452296399,
          0.0031631762876369956,
          0.0031504418688762478,
          0.0031564003468456075,
          0.003134382282229802,
          0.003122613848383587,
          0.0031012094506879147,
          0.003094845532900559,
          0.0030717112676734645,
          0.003043864386821238,
          0.0030513994885776998,
          0.0030363915159599417,
          0.003025652894207397,
          0.003020682135617109,
          0.003025230825920084,
          0.003001791125537767,
          0.0029915991581874733,
          0.0029845811584368197,
          0.0029714099030340403,
          0.002963323507659507,
          0.0029498454035258846,
          0.0029312402029267387,
          0.0029194584466286123,
          0.0029032580181070212,
          0.0028901527852438456,
          0.002889761435854056,
          0.002893750596189887,
          0.0028807476800624594,
          0.0028712345791572632,
          0.0028644388853378486,
          0.0028628611070996277,
          0.0028416051651072105,
          0.002811425993894862,
          0.0028009271684300272,
          0.002787475979744179,
          0.0027762554440005655,
          0.0027798117897251955,
          0.002771697317908289,
          0.002777174790695409,
          0.00276058073489325,
          0.002747897662175378,
          0.002736192732899133,
          0.002731953804972742,
          0.00272084801993203,
          0.0027000213267507397,
          0.0026966581764972628,
          0.0026846327472690736,
          0.002690901559259669,
          0.0027054951468646828,
          0.002688893831722677,
          0.0026756352206967547,
          0.002672566346365619,
          0.0026626435647862153,
          0.002655383483224342,
          0.0026548997011626575,
          0.002635761369702123,
          0.002643536473319603,
          0.0026161176747273025,
          0.002610337570836198,
          0.0025975024668167023,
          0.002584130137121868,
          0.0025801529348555103,
          0.0025657202425325098,
          0.0025585151557937524,
          0.0025446945071628943,
          0.0025364171709381764,
          0.002528555511936365,
          0.002519422485530704,
          0.0025158028958233167,
          0.0025007099591385167,
          0.0025086743800286112,
          0.002492678440606293,
          0.0024744381787493966,
          0.0024597481669297867,
          0.0024485043316591847,
          0.0024492865644296564,
          0.0024291574344791718,
          0.0024236067355976215,
          0.002424721200060645,
          0.0024210206950823544,
          0.0024148207271418565,
          0.0024046098333107293,
          0.0023870495688481552,
          0.0023842174498652654,
          0.0023777301906646297,
          0.0023700221652337983,
          0.0023558354121871977,
          0.002357987034705271,
          0.0023400776923003345,
          0.002331072781598265,
          0.0023272436287330926,
          0.002314954542229169,
          0.002326805302712161,
          0.0023306611174011343,
          0.0023211989643728177,
          0.002321437332047615,
          0.0023068399070619154,
          0.0023110727435019943,
          0.002314484533987355,
          0.0023242821488485875,
          0.0023158843468035675,
          0.0023126608412491257,
          0.0023071911559897924,
          0.0023003543448028123,
          0.0023010303738655712,
          0.002302083208060422,
          0.0022963929784147233,
          0.00228377278891832,
          0.002279578801729351,
          0.0022778320426732335,
          0.0022839708906271117,
          0.0022680257484162933,
          0.0022668767379059166,
          0.0022606109848674295,
          0.0022501701852662113,
          0.002244039373848863,
          0.0022405182079991534,
          0.002233138026119061,
          0.0022343355621091765,
          0.00221626672569412,
          0.0022171295054716346,
          0.0022105237112957678,
          0.002202968723888505,
          0.0021904368254301552,
          0.0021878200577850177,
          0.002193509014652723,
          0.0021885817187161263,
          0.0021796241233490526,
          0.002163665038483354,
          0.0021600419859414497,
          0.0021392349165628355,
          0.002137468315090388,
          0.002127087928805402,
          0.0021197971053408065,
          0.002113384831194002,
          0.0020988234703895052,
          0.002093033230765779,
          0.0020857687233206343,
          0.0020760997100502452,
          0.0020741058256455616,
          0.0020699733836253577,
          0.0020762605701471304,
          0.0020703036101391153,
          0.0020664303426987433,
          0.0020514278564950717,
          0.002053025972485849,
          0.0020547798169350583,
          0.0020505784443444587,
          0.0020543661653248655,
          0.002058735484648598,
          0.0020450767686756525,
          0.00203689580580553,
          0.002035067213567246,
          0.0020318700405580373,
          0.0020382958630908803,
          0.0020273893260377884,
          0.002029475710417683,
          0.0020213059179622567,
          0.002010453669107725,
          0.002011806692626449,
          0.002006674960246294,
          0.001982227494988767,
          0.001976565879577724,
          0.001972319543797773,
          0.001960158117596852,
          0.001955501769148458,
          0.0019442629292486823,
          0.0019483029469834646,
          0.0019437874533870777,
          0.0019373918933909362,
          0.0019291961209553777,
          0.001921328841100307,
          0.0019171703246946888,
          0.001913632904482459,
          0.0019176990209859271,
          0.0019040031467721,
          0.0019021078285349187,
          0.001902594705001204,
          0.0018921063319849475,
          0.0018995142371858516,
          0.0018983212757838458,
          0.0018955298123768543,
          0.0018937140756256545,
          0.0018899628124281447,
          0.0018869920493319611,
          0.0018886713202424367,
          0.0018854739712107311,
          0.001882554886484378,
          0.0018851771072958096,
          0.0018801593727636081,
          0.0018698718355096595,
          0.0018758264363658976,
          0.0018725847807694786,
          0.0018743647483675764,
          0.00186381591615726,
          0.0018597861937799359,
          0.001854006146838128,
          0.0018573193073946,
          0.0018504900912768199,
          0.0018503403272390096,
          0.0018419003788284827,
          0.0018302284111968855,
          0.0018372636490071943,
          0.001832063789177415,
          0.0018210866986994323,
          0.0018194584238687011,
          0.0018190236424108438,
          0.0018162780376397825,
          0.0018180396849348946,
          0.0018159757371326473,
          0.0018135970843481297,
          0.001809552513065026,
          0.001817699138259906,
          0.001817143126758949,
          0.001812561501553299,
          0.0018062958468231503,
          0.0018152108073143278,
          0.0018088387650935828,
          0.001808461124484299,
          0.0018019549505476904,
          0.001794779363644807,
          0.0017923296284127366,
          0.0017894189534307695,
          0.0017837697506796946,
          0.0017933594286316983,
          0.001791888303551442,
          0.0017818290087554737,
          0.001779511717650604,
          0.0017752445554839761,
          0.001768827091418225,
          0.0017770697691263087,
          0.0017896760347505501,
          0.0017964353878742747,
          0.0017944411036349482,
          0.0017869069883296549,
          0.001776696290641029,
          0.001771070572159931,
          0.0017640999061249581,
          0.001758422383146845,
          0.0017575778266170153,
          0.00175248969917889,
          0.0017437724849277475,
          0.0017407758752037623,
          0.0017335668588187767,
          0.0017345945262230542,
          0.0017268317023803788,
          0.001724959401909817,
          0.0017159074623368722,
          0.0017123156605806844,
          0.0017067674589975215,
          0.0017037575015045432,
          0.0017012358616424687,
          0.0016905472505778663,
          0.0016846631400760064,
          0.0016759929222173095,
          0.0016682001789475934,
          0.0016675632965084764,
          0.0016702541205808569,
          0.0016667814705710945,
          0.0016652707893366294,
          0.0016658990373892197,
          0.001660656184626264,
          0.0016509273207807446,
          0.0016467824887046408,
          0.0016424047181311265,
          0.0016358779040157598,
          0.0016333093459009922,
          0.0016222808900418887,
          0.0016157224045586487,
          0.0016101745030829766,
          0.0016104818188273351,
          0.0016065057979380557,
          0.001599452737464215,
          0.0015976318485287847,
          0.0015995272754560227,
          0.0015999912455129236,
          0.0016019521204713942,
          0.0016004742813926966,
          0.001597262181597807,
          0.0015966932651528358,
          0.0015957435059260664,
          0.0015878676681044413,
          0.0015873744105101657,
          0.0015835832687184567,
          0.0015760428905401262,
          0.00157181142767223,
          0.0015665697236458738,
          0.001563050624525311,
          0.0015692134033143863,
          0.001561203515459282,
          0.0015631666570372522,
          0.0015662906955095147,
          0.0015681465990998293,
          0.0015651746036039217,
          0.0015667198962597913,
          0.0015566024169945017,
          0.0015591389097773848,
          0.0015603606623223894,
          0.0015584442926130804,
          0.0015614476937271108,
          0.0015570537428481644,
          0.0015496554895960894,
          0.0015502546805476448,
          0.0015458924956016332,
          0.0015414522113918585,
          0.0015335544306595546,
          0.0015315803713643796,
          0.0015260042453463572,
          0.0015239004728569436,
          0.0015250474151101085,
          0.0015229771886699492,
          0.0015218850216699707,
          0.001514476584912955,
          0.0015138065039268511,
          0.0015095864514783578,
          0.0015068015046697364,
          0.001502406843678229,
          0.0014971094919651203,
          0.001494375099170653,
          0.0014943580301570733,
          0.001490442533909347,
          0.001491805781721889,
          0.001488269165043693,
          0.0014818796779844216,
          0.0014747264993623529,
          0.001474087571013669,
          0.0014751634553212742,
          0.0014731628459038915,
          0.001463605772868867,
          0.001462985275415634,
          0.0014586355439841494,
          0.00146014147194845,
          0.0014513397986015471,
          0.0014469110592953782,
          0.0014475576982083576,
          0.001447993135710399,
          0.0014365463730295748,
          0.001437670835103748,
          0.0014352091926168068,
          0.0014285262211046678,
          0.0014232488810795117,
          0.0014237951536204658,
          0.001414709850657534,
          0.0014092294344381557,
          0.0014058620357147447,
          0.0014021364306116369,
          0.0014022268416276535,
          0.001396451785572052,
          0.00139474688317554,
          0.0013945387847242982,
          0.001396504004095471,
          0.0013911978550020766,
          0.0013893776958968196,
          0.0013868991775249787,
          0.0013885920159619424,
          0.0013883453394126874,
          0.0013865598588288263,
          0.0013857360032671544,
          0.00138355272112919,
          0.0013774506663446744,
          0.0013697506057694876,
          0.0013729586821915965,
          0.00137061883165358,
          0.0013707571280083956,
          0.0013702880207920294,
          0.0013634819702431477,
          0.0013562266146319377,
          0.0013551070513877946,
          0.0013550068096016385,
          0.001356752382326063,
          0.0013591529574399873,
          0.0013584881151580304,
          0.0013541911437367081,
          0.001352426153120226,
          0.0013451018792724,
          0.0013397481250367461,
          0.0013357041825282259,
          0.0013309026128237689,
          0.0013327731905672586,
          0.0013327791598658591,
          0.001324537958712883,
          0.0013221700674685179,
          0.0013208296692144138,
          0.0013166135430985242,
          0.0013088303004119397,
          0.0013048513263159622,
          0.001299847706996612,
          0.0012948758255947846,
          0.0012884601721234274,
          0.001283927536703729,
          0.0012824761320589045,
          0.0012809825252087714,
          0.0012780367873476428,
          0.0012819198181094353,
          0.0012786468270715408,
          0.0012741527451419644,
          0.0012773549358995817,
          0.0012772283107518627,
          0.001278899515648454,
          0.0012760982911152541,
          0.001275065035975734,
          0.0012851938866279317,
          0.0012876438147468392,
          0.0012858767514715153,
          0.001282811949753448,
          0.0012752819633075395,
          0.0012697874655380097,
          0.0012702885006120347,
          0.0012721604382673118,
          0.001267361018291014,
          0.0012622598026446482,
          0.0012596490237879224,
          0.0012618077418194524,
          0.0012551489535138607,
          0.0012557908233274842,
          0.001253557058441658,
          0.0012553372662488398,
          0.0012557554890032798,
          0.0012518946550585362,
          0.001254713857275616,
          0.0012454733072760663,
          0.0012404664260518136,
          0.0012424319446726765,
          0.001241000628398189,
          0.0012401920020088304,
          0.0012390662553087353,
          0.0012459246466194492,
          0.0012447687268602747,
          0.0012474169771954553,
          0.0012426291274427934,
          0.001238065105516219,
          0.0012377619312851358,
          0.0012388842034007203,
          0.0012359759736879008,
          0.0012392542601110538,
          0.0012361178928262243,
          0.0012339012130041303,
          0.0012294836900928702,
          0.0012260603160360855,
          0.0012257243108013667,
          0.0012286242223025032,
          0.0012283803343753265,
          0.0012279547956767472,
          0.0012217849468170675,
          0.0012267436794055702,
          0.0012239935253918687,
          0.001224663490865756,
          0.0012223349075726273,
          0.001219771458284348,
          0.0012193124335508209,
          0.00121815877020451,
          0.0012200417018408106,
          0.0012179545911176972,
          0.0012139773739206976,
          0.001208771237299216,
          0.00120702630163866,
          0.0012058550717015954,
          0.001205974030977882,
          0.0012069972656810807,
          0.0012041793387963626,
          0.0012093604472626879,
          0.0012043187391732363,
          0.0012019446908619507,
          0.0011998868331130502,
          0.0011999706175534568,
          0.0011975947541417026,
          0.0011959620477131633,
          0.0011980317829187474,
          0.001195438336968678,
          0.0011941628417681536,
          0.001191918257154128,
          0.001186271446970797,
          0.0011841589980425417,
          0.0011826085668169021,
          0.0011790370952916448,
          0.0011781805293495907,
          0.0011743587209245767,
          0.0011728623145290744,
          0.0011752991267592896,
          0.0011698826920253419,
          0.0011693688047086492,
          0.0011674228833986726,
          0.0011657540629043746,
          0.0011596365220444163,
          0.0011589394607456444,
          0.0011576660732353942,
          0.0011529316058547332,
          0.0011537492309496055,
          0.001155013172372582,
          0.00115207389426427,
          0.0011466626078111034,
          0.0011445630809431631,
          0.0011417924153900197,
          0.0011418175314464483,
          0.0011379064647674552,
          0.001142006151165358,
          0.0011399681984257182,
          0.0011377236879929295,
          0.0011388356902075354,
          0.0011360938172828492,
          0.0011365723009950804,
          0.001137176369963184,
          0.0011372327419719563,
          0.0011320879968232402,
          0.001130241444693367,
          0.0011292887113105415,
          0.001125935275592227,
          0.0011225138499180894,
          0.0011213922090305057,
          0.0011201080796729795,
          0.0011135218318148311,
          0.0011133511433418113,
          0.0011098061717247033,
          0.0011043871173791319,
          0.0011048070336164245,
          0.001103386726546022,
          0.0011031688933688091,
          0.001099110625907043,
          0.001096939453665114,
          0.0010922558785252006,
          0.001092874905127767,
          0.001091324170465791,
          0.001093283316553466,
          0.00108388040745038,
          0.0010798112872591262,
          0.001075839118444263,
          0.0010722693679352119,
          0.0010702110899235074,
          0.0010662504219681487,
          0.0010682536669012305,
          0.0010651361019583937,
          0.0010628049826011184,
          0.0010594896307063377,
          0.0010572574770839117,
          0.0010543708760949086,
          0.0010505171808790224,
          0.0010514067133842516,
          0.0010514350515331268,
          0.0010479926122424516,
          0.0010477033670281111,
          0.0010406901939501913,
          0.0010426427708105925,
          0.0010414289801440912,
          0.001040457256306898,
          0.0010390690071643669,
          0.001037185369458311,
          0.0010368028165539177,
          0.0010357976819673962,
          0.001030649549681357,
          0.0010250168484935045,
          0.0010254567467722245,
          0.0010221740184087754,
          0.001021676323136285,
          0.0010244520678300152,
          0.0010258869384176907,
          0.0010218766901342476,
          0.001020289715586873,
          0.0010150432043565748,
          0.0010189271629537716,
          0.0010164518907627873,
          0.0010152843452056472,
          0.0010164169743385216,
          0.0010146394724797822,
          0.0010136360899078041,
          0.001012428951418603,
          0.0010111931282698297,
          0.0010125698904329906,
          0.0010109560552835667,
          0.0010104683931106062,
          0.0010102680075314407,
          0.0010101868529438227,
          0.0010037585775628563,
          0.0010023769372784614,
          0.0010043882508322648,
          0.0009984271492333254,
          0.000997713384461006,
          0.0009975699825905456,
          0.000997085909961022,
          0.0009951905833288745,
          0.0009906105685340166,
          0.0009925198881945915,
          0.0009952425188672694,
          0.0009972118939918263,
          0.0009966054879968125,
          0.0009952192393668533,
          0.0009981773170547853,
          0.0009960945297957104,
          0.000995606089533081,
          0.0009975299493308334,
          0.0009960197841411994,
          0.0009948086194723068,
          0.0009933523546339293,
          0.0009920835198007297,
          0.0009948397793464873,
          0.000993952376754389,
          0.0009962074490322127,
          0.000997771187323734,
          0.0009963635555185985,
          0.0009943309638715152,
          0.000991627209115803,
          0.0009900941544369007,
          0.000991099714965831,
          0.0009880002226909572,
          0.0009851722217256768,
          0.0009860702437352621,
          0.000983155986336157,
          0.0009829615638905897,
          0.0009804901997312984,
          0.0009832247295763008,
          0.0009786379605422465,
          0.0009774044261688325,
          0.0009797253130680171,
          0.00097994395987992,
          0.0009830885590063824,
          0.000978754047351746,
          0.0009758332734494786,
          0.0009749090221323165,
          0.0009767746968178898,
          0.0009760465298797156,
          0.0009722485837364335,
          0.000969033538115326,
          0.0009624954702713924,
          0.0009605346524234142,
          0.0009594317475178173,
          0.0009554705291455766,
          0.0009534177334472858,
          0.0009541930370926143,
          0.0009547572379035272,
          0.0009549113462704698,
          0.0009524086879882794,
          0.0009516656611442849,
          0.0009506855589690593,
          0.0009504501511231512,
          0.0009494193059008014,
          0.0009492266433060075,
          0.0009475142603774535,
          0.0009462145792789987,
          0.0009481637149345777,
          0.0009484436466397504,
          0.0009472447937740171,
          0.0009486840020110504,
          0.0009482254554028791,
          0.0009458924162344686,
          0.0009466472577590579,
          0.0009471708931056913,
          0.0009420847577945677,
          0.0009432473957939647,
          0.000943275179662051,
          0.0009426167028090649,
          0.0009453157952232118,
          0.000945997008349424,
          0.0009435059617299124,
          0.0009413746543423966,
          0.0009385169578756924,
          0.0009370141709393755,
          0.0009369176796675359,
          0.0009355909634992537,
          0.0009333103085295538,
          0.0009296819617349715,
          0.0009314846694241695,
          0.0009345244174464473,
          0.000934122143299411,
          0.0009302812514115418,
          0.0009307720436810896,
          0.0009294602068197738,
          0.0009314587994623539,
          0.0009315128065382395,
          0.0009307613889436532,
          0.0009326232694691042,
          0.0009347409162956383,
          0.0009339531615547379,
          0.0009309469671627822,
          0.0009275851579633934,
          0.0009295465406115714,
          0.000926806940743529,
          0.0009251008444965517,
          0.0009213353794762125,
          0.0009215066013310019,
          0.0009202568682441636,
          0.0009193324603563194,
          0.0009158762456405431,
          0.0009158093064683561,
          0.0009136713278599163,
          0.0009111735556528311,
          0.0009092609939401069,
          0.0009105081216385813,
          0.000910198617557207,
          0.0009140282929660383,
          0.000911374133894215,
          0.000907824812859303,
          0.0009091053927238719
         ],
         "yaxis": "y"
        }
       ],
       "layout": {
        "autosize": true,
        "legend": {
         "tracegroupgap": 0
        },
        "margin": {
         "t": 60
        },
        "template": {
         "data": {
          "bar": [
           {
            "error_x": {
             "color": "#2a3f5f"
            },
            "error_y": {
             "color": "#2a3f5f"
            },
            "marker": {
             "line": {
              "color": "#E5ECF6",
              "width": 0.5
             },
             "pattern": {
              "fillmode": "overlay",
              "size": 10,
              "solidity": 0.2
             }
            },
            "type": "bar"
           }
          ],
          "barpolar": [
           {
            "marker": {
             "line": {
              "color": "#E5ECF6",
              "width": 0.5
             },
             "pattern": {
              "fillmode": "overlay",
              "size": 10,
              "solidity": 0.2
             }
            },
            "type": "barpolar"
           }
          ],
          "carpet": [
           {
            "aaxis": {
             "endlinecolor": "#2a3f5f",
             "gridcolor": "white",
             "linecolor": "white",
             "minorgridcolor": "white",
             "startlinecolor": "#2a3f5f"
            },
            "baxis": {
             "endlinecolor": "#2a3f5f",
             "gridcolor": "white",
             "linecolor": "white",
             "minorgridcolor": "white",
             "startlinecolor": "#2a3f5f"
            },
            "type": "carpet"
           }
          ],
          "choropleth": [
           {
            "colorbar": {
             "outlinewidth": 0,
             "ticks": ""
            },
            "type": "choropleth"
           }
          ],
          "contour": [
           {
            "colorbar": {
             "outlinewidth": 0,
             "ticks": ""
            },
            "colorscale": [
             [
              0,
              "#0d0887"
             ],
             [
              0.1111111111111111,
              "#46039f"
             ],
             [
              0.2222222222222222,
              "#7201a8"
             ],
             [
              0.3333333333333333,
              "#9c179e"
             ],
             [
              0.4444444444444444,
              "#bd3786"
             ],
             [
              0.5555555555555556,
              "#d8576b"
             ],
             [
              0.6666666666666666,
              "#ed7953"
             ],
             [
              0.7777777777777778,
              "#fb9f3a"
             ],
             [
              0.8888888888888888,
              "#fdca26"
             ],
             [
              1,
              "#f0f921"
             ]
            ],
            "type": "contour"
           }
          ],
          "contourcarpet": [
           {
            "colorbar": {
             "outlinewidth": 0,
             "ticks": ""
            },
            "type": "contourcarpet"
           }
          ],
          "heatmap": [
           {
            "colorbar": {
             "outlinewidth": 0,
             "ticks": ""
            },
            "colorscale": [
             [
              0,
              "#0d0887"
             ],
             [
              0.1111111111111111,
              "#46039f"
             ],
             [
              0.2222222222222222,
              "#7201a8"
             ],
             [
              0.3333333333333333,
              "#9c179e"
             ],
             [
              0.4444444444444444,
              "#bd3786"
             ],
             [
              0.5555555555555556,
              "#d8576b"
             ],
             [
              0.6666666666666666,
              "#ed7953"
             ],
             [
              0.7777777777777778,
              "#fb9f3a"
             ],
             [
              0.8888888888888888,
              "#fdca26"
             ],
             [
              1,
              "#f0f921"
             ]
            ],
            "type": "heatmap"
           }
          ],
          "heatmapgl": [
           {
            "colorbar": {
             "outlinewidth": 0,
             "ticks": ""
            },
            "colorscale": [
             [
              0,
              "#0d0887"
             ],
             [
              0.1111111111111111,
              "#46039f"
             ],
             [
              0.2222222222222222,
              "#7201a8"
             ],
             [
              0.3333333333333333,
              "#9c179e"
             ],
             [
              0.4444444444444444,
              "#bd3786"
             ],
             [
              0.5555555555555556,
              "#d8576b"
             ],
             [
              0.6666666666666666,
              "#ed7953"
             ],
             [
              0.7777777777777778,
              "#fb9f3a"
             ],
             [
              0.8888888888888888,
              "#fdca26"
             ],
             [
              1,
              "#f0f921"
             ]
            ],
            "type": "heatmapgl"
           }
          ],
          "histogram": [
           {
            "marker": {
             "pattern": {
              "fillmode": "overlay",
              "size": 10,
              "solidity": 0.2
             }
            },
            "type": "histogram"
           }
          ],
          "histogram2d": [
           {
            "colorbar": {
             "outlinewidth": 0,
             "ticks": ""
            },
            "colorscale": [
             [
              0,
              "#0d0887"
             ],
             [
              0.1111111111111111,
              "#46039f"
             ],
             [
              0.2222222222222222,
              "#7201a8"
             ],
             [
              0.3333333333333333,
              "#9c179e"
             ],
             [
              0.4444444444444444,
              "#bd3786"
             ],
             [
              0.5555555555555556,
              "#d8576b"
             ],
             [
              0.6666666666666666,
              "#ed7953"
             ],
             [
              0.7777777777777778,
              "#fb9f3a"
             ],
             [
              0.8888888888888888,
              "#fdca26"
             ],
             [
              1,
              "#f0f921"
             ]
            ],
            "type": "histogram2d"
           }
          ],
          "histogram2dcontour": [
           {
            "colorbar": {
             "outlinewidth": 0,
             "ticks": ""
            },
            "colorscale": [
             [
              0,
              "#0d0887"
             ],
             [
              0.1111111111111111,
              "#46039f"
             ],
             [
              0.2222222222222222,
              "#7201a8"
             ],
             [
              0.3333333333333333,
              "#9c179e"
             ],
             [
              0.4444444444444444,
              "#bd3786"
             ],
             [
              0.5555555555555556,
              "#d8576b"
             ],
             [
              0.6666666666666666,
              "#ed7953"
             ],
             [
              0.7777777777777778,
              "#fb9f3a"
             ],
             [
              0.8888888888888888,
              "#fdca26"
             ],
             [
              1,
              "#f0f921"
             ]
            ],
            "type": "histogram2dcontour"
           }
          ],
          "mesh3d": [
           {
            "colorbar": {
             "outlinewidth": 0,
             "ticks": ""
            },
            "type": "mesh3d"
           }
          ],
          "parcoords": [
           {
            "line": {
             "colorbar": {
              "outlinewidth": 0,
              "ticks": ""
             }
            },
            "type": "parcoords"
           }
          ],
          "pie": [
           {
            "automargin": true,
            "type": "pie"
           }
          ],
          "scatter": [
           {
            "fillpattern": {
             "fillmode": "overlay",
             "size": 10,
             "solidity": 0.2
            },
            "type": "scatter"
           }
          ],
          "scatter3d": [
           {
            "line": {
             "colorbar": {
              "outlinewidth": 0,
              "ticks": ""
             }
            },
            "marker": {
             "colorbar": {
              "outlinewidth": 0,
              "ticks": ""
             }
            },
            "type": "scatter3d"
           }
          ],
          "scattercarpet": [
           {
            "marker": {
             "colorbar": {
              "outlinewidth": 0,
              "ticks": ""
             }
            },
            "type": "scattercarpet"
           }
          ],
          "scattergeo": [
           {
            "marker": {
             "colorbar": {
              "outlinewidth": 0,
              "ticks": ""
             }
            },
            "type": "scattergeo"
           }
          ],
          "scattergl": [
           {
            "marker": {
             "colorbar": {
              "outlinewidth": 0,
              "ticks": ""
             }
            },
            "type": "scattergl"
           }
          ],
          "scattermapbox": [
           {
            "marker": {
             "colorbar": {
              "outlinewidth": 0,
              "ticks": ""
             }
            },
            "type": "scattermapbox"
           }
          ],
          "scatterpolar": [
           {
            "marker": {
             "colorbar": {
              "outlinewidth": 0,
              "ticks": ""
             }
            },
            "type": "scatterpolar"
           }
          ],
          "scatterpolargl": [
           {
            "marker": {
             "colorbar": {
              "outlinewidth": 0,
              "ticks": ""
             }
            },
            "type": "scatterpolargl"
           }
          ],
          "scatterternary": [
           {
            "marker": {
             "colorbar": {
              "outlinewidth": 0,
              "ticks": ""
             }
            },
            "type": "scatterternary"
           }
          ],
          "surface": [
           {
            "colorbar": {
             "outlinewidth": 0,
             "ticks": ""
            },
            "colorscale": [
             [
              0,
              "#0d0887"
             ],
             [
              0.1111111111111111,
              "#46039f"
             ],
             [
              0.2222222222222222,
              "#7201a8"
             ],
             [
              0.3333333333333333,
              "#9c179e"
             ],
             [
              0.4444444444444444,
              "#bd3786"
             ],
             [
              0.5555555555555556,
              "#d8576b"
             ],
             [
              0.6666666666666666,
              "#ed7953"
             ],
             [
              0.7777777777777778,
              "#fb9f3a"
             ],
             [
              0.8888888888888888,
              "#fdca26"
             ],
             [
              1,
              "#f0f921"
             ]
            ],
            "type": "surface"
           }
          ],
          "table": [
           {
            "cells": {
             "fill": {
              "color": "#EBF0F8"
             },
             "line": {
              "color": "white"
             }
            },
            "header": {
             "fill": {
              "color": "#C8D4E3"
             },
             "line": {
              "color": "white"
             }
            },
            "type": "table"
           }
          ]
         },
         "layout": {
          "annotationdefaults": {
           "arrowcolor": "#2a3f5f",
           "arrowhead": 0,
           "arrowwidth": 1
          },
          "autotypenumbers": "strict",
          "coloraxis": {
           "colorbar": {
            "outlinewidth": 0,
            "ticks": ""
           }
          },
          "colorscale": {
           "diverging": [
            [
             0,
             "#8e0152"
            ],
            [
             0.1,
             "#c51b7d"
            ],
            [
             0.2,
             "#de77ae"
            ],
            [
             0.3,
             "#f1b6da"
            ],
            [
             0.4,
             "#fde0ef"
            ],
            [
             0.5,
             "#f7f7f7"
            ],
            [
             0.6,
             "#e6f5d0"
            ],
            [
             0.7,
             "#b8e186"
            ],
            [
             0.8,
             "#7fbc41"
            ],
            [
             0.9,
             "#4d9221"
            ],
            [
             1,
             "#276419"
            ]
           ],
           "sequential": [
            [
             0,
             "#0d0887"
            ],
            [
             0.1111111111111111,
             "#46039f"
            ],
            [
             0.2222222222222222,
             "#7201a8"
            ],
            [
             0.3333333333333333,
             "#9c179e"
            ],
            [
             0.4444444444444444,
             "#bd3786"
            ],
            [
             0.5555555555555556,
             "#d8576b"
            ],
            [
             0.6666666666666666,
             "#ed7953"
            ],
            [
             0.7777777777777778,
             "#fb9f3a"
            ],
            [
             0.8888888888888888,
             "#fdca26"
            ],
            [
             1,
             "#f0f921"
            ]
           ],
           "sequentialminus": [
            [
             0,
             "#0d0887"
            ],
            [
             0.1111111111111111,
             "#46039f"
            ],
            [
             0.2222222222222222,
             "#7201a8"
            ],
            [
             0.3333333333333333,
             "#9c179e"
            ],
            [
             0.4444444444444444,
             "#bd3786"
            ],
            [
             0.5555555555555556,
             "#d8576b"
            ],
            [
             0.6666666666666666,
             "#ed7953"
            ],
            [
             0.7777777777777778,
             "#fb9f3a"
            ],
            [
             0.8888888888888888,
             "#fdca26"
            ],
            [
             1,
             "#f0f921"
            ]
           ]
          },
          "colorway": [
           "#636efa",
           "#EF553B",
           "#00cc96",
           "#ab63fa",
           "#FFA15A",
           "#19d3f3",
           "#FF6692",
           "#B6E880",
           "#FF97FF",
           "#FECB52"
          ],
          "font": {
           "color": "#2a3f5f"
          },
          "geo": {
           "bgcolor": "white",
           "lakecolor": "white",
           "landcolor": "#E5ECF6",
           "showlakes": true,
           "showland": true,
           "subunitcolor": "white"
          },
          "hoverlabel": {
           "align": "left"
          },
          "hovermode": "closest",
          "mapbox": {
           "style": "light"
          },
          "paper_bgcolor": "white",
          "plot_bgcolor": "#E5ECF6",
          "polar": {
           "angularaxis": {
            "gridcolor": "white",
            "linecolor": "white",
            "ticks": ""
           },
           "bgcolor": "#E5ECF6",
           "radialaxis": {
            "gridcolor": "white",
            "linecolor": "white",
            "ticks": ""
           }
          },
          "scene": {
           "xaxis": {
            "backgroundcolor": "#E5ECF6",
            "gridcolor": "white",
            "gridwidth": 2,
            "linecolor": "white",
            "showbackground": true,
            "ticks": "",
            "zerolinecolor": "white"
           },
           "yaxis": {
            "backgroundcolor": "#E5ECF6",
            "gridcolor": "white",
            "gridwidth": 2,
            "linecolor": "white",
            "showbackground": true,
            "ticks": "",
            "zerolinecolor": "white"
           },
           "zaxis": {
            "backgroundcolor": "#E5ECF6",
            "gridcolor": "white",
            "gridwidth": 2,
            "linecolor": "white",
            "showbackground": true,
            "ticks": "",
            "zerolinecolor": "white"
           }
          },
          "shapedefaults": {
           "line": {
            "color": "#2a3f5f"
           }
          },
          "ternary": {
           "aaxis": {
            "gridcolor": "white",
            "linecolor": "white",
            "ticks": ""
           },
           "baxis": {
            "gridcolor": "white",
            "linecolor": "white",
            "ticks": ""
           },
           "bgcolor": "#E5ECF6",
           "caxis": {
            "gridcolor": "white",
            "linecolor": "white",
            "ticks": ""
           }
          },
          "title": {
           "x": 0.05
          },
          "xaxis": {
           "automargin": true,
           "gridcolor": "white",
           "linecolor": "white",
           "ticks": "",
           "title": {
            "standoff": 15
           },
           "zerolinecolor": "white",
           "zerolinewidth": 2
          },
          "yaxis": {
           "automargin": true,
           "gridcolor": "white",
           "linecolor": "white",
           "ticks": "",
           "title": {
            "standoff": 15
           },
           "zerolinecolor": "white",
           "zerolinewidth": 2
          }
         }
        },
        "xaxis": {
         "anchor": "y",
         "autorange": true,
         "domain": [
          0,
          1
         ],
         "range": [
          0,
          1000
         ],
         "title": {
          "text": "x"
         },
         "type": "linear"
        },
        "yaxis": {
         "anchor": "x",
         "autorange": true,
         "domain": [
          0,
          1
         ],
         "range": [
          -0.055896911640003454,
          1.0801978174172517
         ],
         "title": {
          "text": "y"
         },
         "type": "linear"
        }
       }
      },
      "image/png": "[encoded data removed]",
      "text/html": [
       "<div>                            <div id=\"d69bec72-33cc-494d-9975-d64dbda57e1f\" class=\"plotly-graph-div\" style=\"height:525px; width:100%;\"></div>            <script type=\"text/javascript\">                require([\"plotly\"], function(Plotly) {                    window.PLOTLYENV=window.PLOTLYENV || {};                                    if (document.getElementById(\"d69bec72-33cc-494d-9975-d64dbda57e1f\")) {                    Plotly.newPlot(                        \"d69bec72-33cc-494d-9975-d64dbda57e1f\",                        [{\"hovertemplate\":\"x=%{x}<br>y=%{y}<extra></extra>\",\"legendgroup\":\"\",\"line\":{\"color\":\"#636efa\",\"dash\":\"solid\"},\"marker\":{\"symbol\":\"circle\"},\"mode\":\"lines\",\"name\":\"\",\"showlegend\":false,\"x\":[0,1,2,3,4,5,6,7,8,9,10,11,12,13,14,15,16,17,18,19,20,21,22,23,24,25,26,27,28,29,30,31,32,33,34,35,36,37,38,39,40,41,42,43,44,45,46,47,48,49,50,51,52,53,54,55,56,57,58,59,60,61,62,63,64,65,66,67,68,69,70,71,72,73,74,75,76,77,78,79,80,81,82,83,84,85,86,87,88,89,90,91,92,93,94,95,96,97,98,99,100,101,102,103,104,105,106,107,108,109,110,111,112,113,114,115,116,117,118,119,120,121,122,123,124,125,126,127,128,129,130,131,132,133,134,135,136,137,138,139,140,141,142,143,144,145,146,147,148,149,150,151,152,153,154,155,156,157,158,159,160,161,162,163,164,165,166,167,168,169,170,171,172,173,174,175,176,177,178,179,180,181,182,183,184,185,186,187,188,189,190,191,192,193,194,195,196,197,198,199,200,201,202,203,204,205,206,207,208,209,210,211,212,213,214,215,216,217,218,219,220,221,222,223,224,225,226,227,228,229,230,231,232,233,234,235,236,237,238,239,240,241,242,243,244,245,246,247,248,249,250,251,252,253,254,255,256,257,258,259,260,261,262,263,264,265,266,267,268,269,270,271,272,273,274,275,276,277,278,279,280,281,282,283,284,285,286,287,288,289,290,291,292,293,294,295,296,297,298,299,300,301,302,303,304,305,306,307,308,309,310,311,312,313,314,315,316,317,318,319,320,321,322,323,324,325,326,327,328,329,330,331,332,333,334,335,336,337,338,339,340,341,342,343,344,345,346,347,348,349,350,351,352,353,354,355,356,357,358,359,360,361,362,363,364,365,366,367,368,369,370,371,372,373,374,375,376,377,378,379,380,381,382,383,384,385,386,387,388,389,390,391,392,393,394,395,396,397,398,399,400,401,402,403,404,405,406,407,408,409,410,411,412,413,414,415,416,417,418,419,420,421,422,423,424,425,426,427,428,429,430,431,432,433,434,435,436,437,438,439,440,441,442,443,444,445,446,447,448,449,450,451,452,453,454,455,456,457,458,459,460,461,462,463,464,465,466,467,468,469,470,471,472,473,474,475,476,477,478,479,480,481,482,483,484,485,486,487,488,489,490,491,492,493,494,495,496,497,498,499,500,501,502,503,504,505,506,507,508,509,510,511,512,513,514,515,516,517,518,519,520,521,522,523,524,525,526,527,528,529,530,531,532,533,534,535,536,537,538,539,540,541,542,543,544,545,546,547,548,549,550,551,552,553,554,555,556,557,558,559,560,561,562,563,564,565,566,567,568,569,570,571,572,573,574,575,576,577,578,579,580,581,582,583,584,585,586,587,588,589,590,591,592,593,594,595,596,597,598,599,600,601,602,603,604,605,606,607,608,609,610,611,612,613,614,615,616,617,618,619,620,621,622,623,624,625,626,627,628,629,630,631,632,633,634,635,636,637,638,639,640,641,642,643,644,645,646,647,648,649,650,651,652,653,654,655,656,657,658,659,660,661,662,663,664,665,666,667,668,669,670,671,672,673,674,675,676,677,678,679,680,681,682,683,684,685,686,687,688,689,690,691,692,693,694,695,696,697,698,699,700,701,702,703,704,705,706,707,708,709,710,711,712,713,714,715,716,717,718,719,720,721,722,723,724,725,726,727,728,729,730,731,732,733,734,735,736,737,738,739,740,741,742,743,744,745,746,747,748,749,750,751,752,753,754,755,756,757,758,759,760,761,762,763,764,765,766,767,768,769,770,771,772,773,774,775,776,777,778,779,780,781,782,783,784,785,786,787,788,789,790,791,792,793,794,795,796,797,798,799,800,801,802,803,804,805,806,807,808,809,810,811,812,813,814,815,816,817,818,819,820,821,822,823,824,825,826,827,828,829,830,831,832,833,834,835,836,837,838,839,840,841,842,843,844,845,846,847,848,849,850,851,852,853,854,855,856,857,858,859,860,861,862,863,864,865,866,867,868,869,870,871,872,873,874,875,876,877,878,879,880,881,882,883,884,885,886,887,888,889,890,891,892,893,894,895,896,897,898,899,900,901,902,903,904,905,906,907,908,909,910,911,912,913,914,915,916,917,918,919,920,921,922,923,924,925,926,927,928,929,930,931,932,933,934,935,936,937,938,939,940,941,942,943,944,945,946,947,948,949,950,951,952,953,954,955,956,957,958,959,960,961,962,963,964,965,966,967,968,969,970,971,972,973,974,975,976,977,978,979,980,981,982,983,984,985,986,987,988,989,990,991,992,993,994,995,996,997,998,999,1000],\"xaxis\":\"x\",\"y\":[1.023393080964389,0.5003805530964909,0.3362874263148362,0.2577092743289595,0.2120515338728786,0.17516000575651397,0.1447700832815041,0.1295809520910627,0.11718136138695685,0.10362647324134654,0.09544892672084268,0.0857840067754073,0.07850341860388652,0.07269241512204187,0.06842677936516306,0.06398299116098556,0.05964518191228207,0.05490147785889581,0.05232488531570712,0.05096798693682433,0.04881689444129418,0.04649130941559347,0.044100812958875704,0.042262924659726836,0.04079991643675126,0.03845549103199703,0.03632412801962539,0.03534407564635787,0.0341529364815905,0.033310936381750075,0.03220214939015694,0.031205217077129907,0.03053761083554558,0.02960251576677576,0.028642733946344697,0.02761279934923104,0.0270903355177031,0.02571688018630023,0.025273748883438748,0.024944744879478765,0.024366245227290095,0.02391095448487803,0.02343953228117996,0.02290960293537817,0.022443643071357357,0.02210449665376538,0.02193604438824035,0.021628620038937882,0.021028732799585927,0.020716443489582473,0.02048717863251915,0.020022973885775484,0.019586351641415672,0.01915594734375452,0.018948753730702508,0.018540182878623825,0.018123468627398977,0.01772430067362194,0.017365919875102862,0.01691527623641243,0.016858198373213697,0.016410363444267155,0.01605631055043703,0.015822395976463944,0.015563561536054787,0.015289193366438206,0.014924101246824521,0.01447242364074309,0.01418057853519939,0.014067974727527615,0.013879530114954321,0.013658575254996225,0.01345063319685302,0.013257463771509591,0.012936464248734996,0.012790537499077603,0.012589769104692906,0.01244399094408774,0.012233765833185284,0.012149868502452933,0.01194322321405481,0.011822587406077846,0.011735987063210768,0.011605458178998725,0.011400637967427197,0.011156899134448636,0.011038857424396415,0.010839340886067717,0.010787278367141658,0.010650773967613991,0.010580858594656442,0.010549887080947614,0.010417757487481612,0.010373703177120873,0.010261176540962404,0.010266060978217927,0.010136369142795459,0.010110594656138625,0.009977038374727363,0.009846163365973184,0.009616683569474553,0.009598905382237073,0.009494585626785824,0.009478188575846239,0.009380422855518981,0.00929031976678988,0.009175781838699288,0.009078302342651376,0.009071338506924645,0.009027729853821713,0.008955225372914847,0.008841163251290444,0.00878195951006212,0.008654855419672019,0.008539593703874478,0.008398532856909245,0.008343258225309068,0.008357204461914737,0.008223815246510613,0.008167864302967067,0.008005199954806934,0.007942214771767516,0.007896776261626472,0.0077715732206181,0.007668239059964311,0.007630620971393717,0.007598148599354104,0.0075779671460255915,0.007587498959720991,0.007511544449567485,0.007410106416242503,0.007453786977436525,0.007392618474313133,0.0073137326567473725,0.007254481956614111,0.007179660523703522,0.007081437063415707,0.007092044313522571,0.007025386790970762,0.006963578759437795,0.006941260090795133,0.006868683519688557,0.006744466247977101,0.0067292199241638356,0.0066885696382367075,0.006650442080003363,0.006616792303134742,0.006516791723661839,0.006445748105193873,0.006378182109129182,0.0063317748944245545,0.006306050155603668,0.006287084904298365,0.00620322042510643,0.006209896859229171,0.006210329008637066,0.006262456711467344,0.006188358040616614,0.006095180157807144,0.006095985394299373,0.006052480553492091,0.006026662309153947,0.006040349968062958,0.005991605097604697,0.005960413137767459,0.005918756626237509,0.005878219506663614,0.005786527454462919,0.005808734670384589,0.005779516608772848,0.005699193001202521,0.005669211264786312,0.005664515848127867,0.005637844052074495,0.005548710260418352,0.005554383063050678,0.005499890315602557,0.005471808496716619,0.005453023152450992,0.0054352569094264285,0.005422207629173828,0.005390260564897905,0.005358533181556529,0.005321132593356376,0.005304521499259673,0.005272844843637211,0.005226404441141394,0.00519194808693458,0.00515527662798494,0.005144688598402697,0.005122352136880702,0.005149022577423591,0.005106737312979616,0.005112048202576301,0.005072387599929344,0.0050782950667437494,0.005041098345823244,0.005031624130859977,0.005004186268472853,0.004944673461894249,0.0049510829120459334,0.0048877035622193876,0.00485762277377168,0.004791727022808024,0.004759693950363029,0.004724904878013097,0.004690083599811941,0.004700319847331345,0.004661511615045983,0.004628745037755729,0.004597479020049655,0.004599256475539457,0.004580261199370276,0.004552727916201191,0.004522858176895772,0.004489064841415634,0.004476369517405217,0.004432512441470683,0.004411196230554796,0.004399355160855054,0.004382392613414749,0.004371620998936187,0.004371054749309213,0.00435369922117451,0.004329790339577684,0.004335202786963354,0.004306889395421394,0.004236514669391534,0.004219747989070977,0.004215112511066387,0.004159304065100031,0.004155560050558691,0.0041138687132851555,0.004084408596105509,0.004079242247470864,0.004059705094419763,0.004061597570892918,0.0040361552940716555,0.00403672339317761,0.004053522619276677,0.00403419008467501,0.004021321371702633,0.004022095294119971,0.003986262268502389,0.003987263741727959,0.004022805089510697,0.003985056877530238,0.003978857167650943,0.003977076308160744,0.003971307607874495,0.0039870194393016945,0.003986002062263208,0.003982193843723928,0.003981616907792781,0.003966344006467103,0.00394288596115732,0.003912983184569373,0.0038706019916723666,0.0038967250505836885,0.003898309793873738,0.0038988225203685557,0.003871029441397859,0.003857524294077507,0.0038514545839271395,0.0038553321816882356,0.0038569044100129706,0.0038236172098619144,0.0037940052339550134,0.003782083582460611,0.003761256077732587,0.003731561690595051,0.0037155723645559587,0.0037098449188496503,0.00369029124015216,0.0036831928905574104,0.0036656604533947465,0.0036557702121445437,0.0036137402872281504,0.003596066231778139,0.003580136677961332,0.0035688525236936583,0.0035213752281781233,0.003496847714137395,0.0034566062387842646,0.0034539760847013866,0.0034445346775684505,0.003437654876987865,0.0034295448891519032,0.0034345839749485426,0.0034117426334490143,0.003404190505473111,0.003398391669303894,0.0033643253151761613,0.003347552701944534,0.0033387619592513884,0.0033275656000923888,0.003304927706365978,0.0032899238073444996,0.0032818065822268956,0.003279750143347572,0.0032766045478565603,0.003273796852544905,0.0032459516146862736,0.003226120770185104,0.003226665210054824,0.0032043347607632207,0.0031903875528781983,0.003197403484574864,0.003178119519689772,0.003162839648472152,0.003150735452296399,0.0031631762876369956,0.0031504418688762478,0.0031564003468456075,0.003134382282229802,0.003122613848383587,0.0031012094506879147,0.003094845532900559,0.0030717112676734645,0.003043864386821238,0.0030513994885776998,0.0030363915159599417,0.003025652894207397,0.003020682135617109,0.003025230825920084,0.003001791125537767,0.0029915991581874733,0.0029845811584368197,0.0029714099030340403,0.002963323507659507,0.0029498454035258846,0.0029312402029267387,0.0029194584466286123,0.0029032580181070212,0.0028901527852438456,0.002889761435854056,0.002893750596189887,0.0028807476800624594,0.0028712345791572632,0.0028644388853378486,0.0028628611070996277,0.0028416051651072105,0.002811425993894862,0.0028009271684300272,0.002787475979744179,0.0027762554440005655,0.0027798117897251955,0.002771697317908289,0.002777174790695409,0.00276058073489325,0.002747897662175378,0.002736192732899133,0.002731953804972742,0.00272084801993203,0.0027000213267507397,0.0026966581764972628,0.0026846327472690736,0.002690901559259669,0.0027054951468646828,0.002688893831722677,0.0026756352206967547,0.002672566346365619,0.0026626435647862153,0.002655383483224342,0.0026548997011626575,0.002635761369702123,0.002643536473319603,0.0026161176747273025,0.002610337570836198,0.0025975024668167023,0.002584130137121868,0.0025801529348555103,0.0025657202425325098,0.0025585151557937524,0.0025446945071628943,0.0025364171709381764,0.002528555511936365,0.002519422485530704,0.0025158028958233167,0.0025007099591385167,0.0025086743800286112,0.002492678440606293,0.0024744381787493966,0.0024597481669297867,0.0024485043316591847,0.0024492865644296564,0.0024291574344791718,0.0024236067355976215,0.002424721200060645,0.0024210206950823544,0.0024148207271418565,0.0024046098333107293,0.0023870495688481552,0.0023842174498652654,0.0023777301906646297,0.0023700221652337983,0.0023558354121871977,0.002357987034705271,0.0023400776923003345,0.002331072781598265,0.0023272436287330926,0.002314954542229169,0.002326805302712161,0.0023306611174011343,0.0023211989643728177,0.002321437332047615,0.0023068399070619154,0.0023110727435019943,0.002314484533987355,0.0023242821488485875,0.0023158843468035675,0.0023126608412491257,0.0023071911559897924,0.0023003543448028123,0.0023010303738655712,0.002302083208060422,0.0022963929784147233,0.00228377278891832,0.002279578801729351,0.0022778320426732335,0.0022839708906271117,0.0022680257484162933,0.0022668767379059166,0.0022606109848674295,0.0022501701852662113,0.002244039373848863,0.0022405182079991534,0.002233138026119061,0.0022343355621091765,0.00221626672569412,0.0022171295054716346,0.0022105237112957678,0.002202968723888505,0.0021904368254301552,0.0021878200577850177,0.002193509014652723,0.0021885817187161263,0.0021796241233490526,0.002163665038483354,0.0021600419859414497,0.0021392349165628355,0.002137468315090388,0.002127087928805402,0.0021197971053408065,0.002113384831194002,0.0020988234703895052,0.002093033230765779,0.0020857687233206343,0.0020760997100502452,0.0020741058256455616,0.0020699733836253577,0.0020762605701471304,0.0020703036101391153,0.0020664303426987433,0.0020514278564950717,0.002053025972485849,0.0020547798169350583,0.0020505784443444587,0.0020543661653248655,0.002058735484648598,0.0020450767686756525,0.00203689580580553,0.002035067213567246,0.0020318700405580373,0.0020382958630908803,0.0020273893260377884,0.002029475710417683,0.0020213059179622567,0.002010453669107725,0.002011806692626449,0.002006674960246294,0.001982227494988767,0.001976565879577724,0.001972319543797773,0.001960158117596852,0.001955501769148458,0.0019442629292486823,0.0019483029469834646,0.0019437874533870777,0.0019373918933909362,0.0019291961209553777,0.001921328841100307,0.0019171703246946888,0.001913632904482459,0.0019176990209859271,0.0019040031467721,0.0019021078285349187,0.001902594705001204,0.0018921063319849475,0.0018995142371858516,0.0018983212757838458,0.0018955298123768543,0.0018937140756256545,0.0018899628124281447,0.0018869920493319611,0.0018886713202424367,0.0018854739712107311,0.001882554886484378,0.0018851771072958096,0.0018801593727636081,0.0018698718355096595,0.0018758264363658976,0.0018725847807694786,0.0018743647483675764,0.00186381591615726,0.0018597861937799359,0.001854006146838128,0.0018573193073946,0.0018504900912768199,0.0018503403272390096,0.0018419003788284827,0.0018302284111968855,0.0018372636490071943,0.001832063789177415,0.0018210866986994323,0.0018194584238687011,0.0018190236424108438,0.0018162780376397825,0.0018180396849348946,0.0018159757371326473,0.0018135970843481297,0.001809552513065026,0.001817699138259906,0.001817143126758949,0.001812561501553299,0.0018062958468231503,0.0018152108073143278,0.0018088387650935828,0.001808461124484299,0.0018019549505476904,0.001794779363644807,0.0017923296284127366,0.0017894189534307695,0.0017837697506796946,0.0017933594286316983,0.001791888303551442,0.0017818290087554737,0.001779511717650604,0.0017752445554839761,0.001768827091418225,0.0017770697691263087,0.0017896760347505501,0.0017964353878742747,0.0017944411036349482,0.0017869069883296549,0.001776696290641029,0.001771070572159931,0.0017640999061249581,0.001758422383146845,0.0017575778266170153,0.00175248969917889,0.0017437724849277475,0.0017407758752037623,0.0017335668588187767,0.0017345945262230542,0.0017268317023803788,0.001724959401909817,0.0017159074623368722,0.0017123156605806844,0.0017067674589975215,0.0017037575015045432,0.0017012358616424687,0.0016905472505778663,0.0016846631400760064,0.0016759929222173095,0.0016682001789475934,0.0016675632965084764,0.0016702541205808569,0.0016667814705710945,0.0016652707893366294,0.0016658990373892197,0.001660656184626264,0.0016509273207807446,0.0016467824887046408,0.0016424047181311265,0.0016358779040157598,0.0016333093459009922,0.0016222808900418887,0.0016157224045586487,0.0016101745030829766,0.0016104818188273351,0.0016065057979380557,0.001599452737464215,0.0015976318485287847,0.0015995272754560227,0.0015999912455129236,0.0016019521204713942,0.0016004742813926966,0.001597262181597807,0.0015966932651528358,0.0015957435059260664,0.0015878676681044413,0.0015873744105101657,0.0015835832687184567,0.0015760428905401262,0.00157181142767223,0.0015665697236458738,0.001563050624525311,0.0015692134033143863,0.001561203515459282,0.0015631666570372522,0.0015662906955095147,0.0015681465990998293,0.0015651746036039217,0.0015667198962597913,0.0015566024169945017,0.0015591389097773848,0.0015603606623223894,0.0015584442926130804,0.0015614476937271108,0.0015570537428481644,0.0015496554895960894,0.0015502546805476448,0.0015458924956016332,0.0015414522113918585,0.0015335544306595546,0.0015315803713643796,0.0015260042453463572,0.0015239004728569436,0.0015250474151101085,0.0015229771886699492,0.0015218850216699707,0.001514476584912955,0.0015138065039268511,0.0015095864514783578,0.0015068015046697364,0.001502406843678229,0.0014971094919651203,0.001494375099170653,0.0014943580301570733,0.001490442533909347,0.001491805781721889,0.001488269165043693,0.0014818796779844216,0.0014747264993623529,0.001474087571013669,0.0014751634553212742,0.0014731628459038915,0.001463605772868867,0.001462985275415634,0.0014586355439841494,0.00146014147194845,0.0014513397986015471,0.0014469110592953782,0.0014475576982083576,0.001447993135710399,0.0014365463730295748,0.001437670835103748,0.0014352091926168068,0.0014285262211046678,0.0014232488810795117,0.0014237951536204658,0.001414709850657534,0.0014092294344381557,0.0014058620357147447,0.0014021364306116369,0.0014022268416276535,0.001396451785572052,0.00139474688317554,0.0013945387847242982,0.001396504004095471,0.0013911978550020766,0.0013893776958968196,0.0013868991775249787,0.0013885920159619424,0.0013883453394126874,0.0013865598588288263,0.0013857360032671544,0.00138355272112919,0.0013774506663446744,0.0013697506057694876,0.0013729586821915965,0.00137061883165358,0.0013707571280083956,0.0013702880207920294,0.0013634819702431477,0.0013562266146319377,0.0013551070513877946,0.0013550068096016385,0.001356752382326063,0.0013591529574399873,0.0013584881151580304,0.0013541911437367081,0.001352426153120226,0.0013451018792724,0.0013397481250367461,0.0013357041825282259,0.0013309026128237689,0.0013327731905672586,0.0013327791598658591,0.001324537958712883,0.0013221700674685179,0.0013208296692144138,0.0013166135430985242,0.0013088303004119397,0.0013048513263159622,0.001299847706996612,0.0012948758255947846,0.0012884601721234274,0.001283927536703729,0.0012824761320589045,0.0012809825252087714,0.0012780367873476428,0.0012819198181094353,0.0012786468270715408,0.0012741527451419644,0.0012773549358995817,0.0012772283107518627,0.001278899515648454,0.0012760982911152541,0.001275065035975734,0.0012851938866279317,0.0012876438147468392,0.0012858767514715153,0.001282811949753448,0.0012752819633075395,0.0012697874655380097,0.0012702885006120347,0.0012721604382673118,0.001267361018291014,0.0012622598026446482,0.0012596490237879224,0.0012618077418194524,0.0012551489535138607,0.0012557908233274842,0.001253557058441658,0.0012553372662488398,0.0012557554890032798,0.0012518946550585362,0.001254713857275616,0.0012454733072760663,0.0012404664260518136,0.0012424319446726765,0.001241000628398189,0.0012401920020088304,0.0012390662553087353,0.0012459246466194492,0.0012447687268602747,0.0012474169771954553,0.0012426291274427934,0.001238065105516219,0.0012377619312851358,0.0012388842034007203,0.0012359759736879008,0.0012392542601110538,0.0012361178928262243,0.0012339012130041303,0.0012294836900928702,0.0012260603160360855,0.0012257243108013667,0.0012286242223025032,0.0012283803343753265,0.0012279547956767472,0.0012217849468170675,0.0012267436794055702,0.0012239935253918687,0.001224663490865756,0.0012223349075726273,0.001219771458284348,0.0012193124335508209,0.00121815877020451,0.0012200417018408106,0.0012179545911176972,0.0012139773739206976,0.001208771237299216,0.00120702630163866,0.0012058550717015954,0.001205974030977882,0.0012069972656810807,0.0012041793387963626,0.0012093604472626879,0.0012043187391732363,0.0012019446908619507,0.0011998868331130502,0.0011999706175534568,0.0011975947541417026,0.0011959620477131633,0.0011980317829187474,0.001195438336968678,0.0011941628417681536,0.001191918257154128,0.001186271446970797,0.0011841589980425417,0.0011826085668169021,0.0011790370952916448,0.0011781805293495907,0.0011743587209245767,0.0011728623145290744,0.0011752991267592896,0.0011698826920253419,0.0011693688047086492,0.0011674228833986726,0.0011657540629043746,0.0011596365220444163,0.0011589394607456444,0.0011576660732353942,0.0011529316058547332,0.0011537492309496055,0.001155013172372582,0.00115207389426427,0.0011466626078111034,0.0011445630809431631,0.0011417924153900197,0.0011418175314464483,0.0011379064647674552,0.001142006151165358,0.0011399681984257182,0.0011377236879929295,0.0011388356902075354,0.0011360938172828492,0.0011365723009950804,0.001137176369963184,0.0011372327419719563,0.0011320879968232402,0.001130241444693367,0.0011292887113105415,0.001125935275592227,0.0011225138499180894,0.0011213922090305057,0.0011201080796729795,0.0011135218318148311,0.0011133511433418113,0.0011098061717247033,0.0011043871173791319,0.0011048070336164245,0.001103386726546022,0.0011031688933688091,0.001099110625907043,0.001096939453665114,0.0010922558785252006,0.001092874905127767,0.001091324170465791,0.001093283316553466,0.00108388040745038,0.0010798112872591262,0.001075839118444263,0.0010722693679352119,0.0010702110899235074,0.0010662504219681487,0.0010682536669012305,0.0010651361019583937,0.0010628049826011184,0.0010594896307063377,0.0010572574770839117,0.0010543708760949086,0.0010505171808790224,0.0010514067133842516,0.0010514350515331268,0.0010479926122424516,0.0010477033670281111,0.0010406901939501913,0.0010426427708105925,0.0010414289801440912,0.001040457256306898,0.0010390690071643669,0.001037185369458311,0.0010368028165539177,0.0010357976819673962,0.001030649549681357,0.0010250168484935045,0.0010254567467722245,0.0010221740184087754,0.001021676323136285,0.0010244520678300152,0.0010258869384176907,0.0010218766901342476,0.001020289715586873,0.0010150432043565748,0.0010189271629537716,0.0010164518907627873,0.0010152843452056472,0.0010164169743385216,0.0010146394724797822,0.0010136360899078041,0.001012428951418603,0.0010111931282698297,0.0010125698904329906,0.0010109560552835667,0.0010104683931106062,0.0010102680075314407,0.0010101868529438227,0.0010037585775628563,0.0010023769372784614,0.0010043882508322648,0.0009984271492333254,0.000997713384461006,0.0009975699825905456,0.000997085909961022,0.0009951905833288745,0.0009906105685340166,0.0009925198881945915,0.0009952425188672694,0.0009972118939918263,0.0009966054879968125,0.0009952192393668533,0.0009981773170547853,0.0009960945297957104,0.000995606089533081,0.0009975299493308334,0.0009960197841411994,0.0009948086194723068,0.0009933523546339293,0.0009920835198007297,0.0009948397793464873,0.000993952376754389,0.0009962074490322127,0.000997771187323734,0.0009963635555185985,0.0009943309638715152,0.000991627209115803,0.0009900941544369007,0.000991099714965831,0.0009880002226909572,0.0009851722217256768,0.0009860702437352621,0.000983155986336157,0.0009829615638905897,0.0009804901997312984,0.0009832247295763008,0.0009786379605422465,0.0009774044261688325,0.0009797253130680171,0.00097994395987992,0.0009830885590063824,0.000978754047351746,0.0009758332734494786,0.0009749090221323165,0.0009767746968178898,0.0009760465298797156,0.0009722485837364335,0.000969033538115326,0.0009624954702713924,0.0009605346524234142,0.0009594317475178173,0.0009554705291455766,0.0009534177334472858,0.0009541930370926143,0.0009547572379035272,0.0009549113462704698,0.0009524086879882794,0.0009516656611442849,0.0009506855589690593,0.0009504501511231512,0.0009494193059008014,0.0009492266433060075,0.0009475142603774535,0.0009462145792789987,0.0009481637149345777,0.0009484436466397504,0.0009472447937740171,0.0009486840020110504,0.0009482254554028791,0.0009458924162344686,0.0009466472577590579,0.0009471708931056913,0.0009420847577945677,0.0009432473957939647,0.000943275179662051,0.0009426167028090649,0.0009453157952232118,0.000945997008349424,0.0009435059617299124,0.0009413746543423966,0.0009385169578756924,0.0009370141709393755,0.0009369176796675359,0.0009355909634992537,0.0009333103085295538,0.0009296819617349715,0.0009314846694241695,0.0009345244174464473,0.000934122143299411,0.0009302812514115418,0.0009307720436810896,0.0009294602068197738,0.0009314587994623539,0.0009315128065382395,0.0009307613889436532,0.0009326232694691042,0.0009347409162956383,0.0009339531615547379,0.0009309469671627822,0.0009275851579633934,0.0009295465406115714,0.000926806940743529,0.0009251008444965517,0.0009213353794762125,0.0009215066013310019,0.0009202568682441636,0.0009193324603563194,0.0009158762456405431,0.0009158093064683561,0.0009136713278599163,0.0009111735556528311,0.0009092609939401069,0.0009105081216385813,0.000910198617557207,0.0009140282929660383,0.000911374133894215,0.000907824812859303,0.0009091053927238719],\"yaxis\":\"y\",\"type\":\"scattergl\"}],                        {\"template\":{\"data\":{\"histogram2dcontour\":[{\"type\":\"histogram2dcontour\",\"colorbar\":{\"outlinewidth\":0,\"ticks\":\"\"},\"colorscale\":[[0.0,\"#0d0887\"],[0.1111111111111111,\"#46039f\"],[0.2222222222222222,\"#7201a8\"],[0.3333333333333333,\"#9c179e\"],[0.4444444444444444,\"#bd3786\"],[0.5555555555555556,\"#d8576b\"],[0.6666666666666666,\"#ed7953\"],[0.7777777777777778,\"#fb9f3a\"],[0.8888888888888888,\"#fdca26\"],[1.0,\"#f0f921\"]]}],\"choropleth\":[{\"type\":\"choropleth\",\"colorbar\":{\"outlinewidth\":0,\"ticks\":\"\"}}],\"histogram2d\":[{\"type\":\"histogram2d\",\"colorbar\":{\"outlinewidth\":0,\"ticks\":\"\"},\"colorscale\":[[0.0,\"#0d0887\"],[0.1111111111111111,\"#46039f\"],[0.2222222222222222,\"#7201a8\"],[0.3333333333333333,\"#9c179e\"],[0.4444444444444444,\"#bd3786\"],[0.5555555555555556,\"#d8576b\"],[0.6666666666666666,\"#ed7953\"],[0.7777777777777778,\"#fb9f3a\"],[0.8888888888888888,\"#fdca26\"],[1.0,\"#f0f921\"]]}],\"heatmap\":[{\"type\":\"heatmap\",\"colorbar\":{\"outlinewidth\":0,\"ticks\":\"\"},\"colorscale\":[[0.0,\"#0d0887\"],[0.1111111111111111,\"#46039f\"],[0.2222222222222222,\"#7201a8\"],[0.3333333333333333,\"#9c179e\"],[0.4444444444444444,\"#bd3786\"],[0.5555555555555556,\"#d8576b\"],[0.6666666666666666,\"#ed7953\"],[0.7777777777777778,\"#fb9f3a\"],[0.8888888888888888,\"#fdca26\"],[1.0,\"#f0f921\"]]}],\"heatmapgl\":[{\"type\":\"heatmapgl\",\"colorbar\":{\"outlinewidth\":0,\"ticks\":\"\"},\"colorscale\":[[0.0,\"#0d0887\"],[0.1111111111111111,\"#46039f\"],[0.2222222222222222,\"#7201a8\"],[0.3333333333333333,\"#9c179e\"],[0.4444444444444444,\"#bd3786\"],[0.5555555555555556,\"#d8576b\"],[0.6666666666666666,\"#ed7953\"],[0.7777777777777778,\"#fb9f3a\"],[0.8888888888888888,\"#fdca26\"],[1.0,\"#f0f921\"]]}],\"contourcarpet\":[{\"type\":\"contourcarpet\",\"colorbar\":{\"outlinewidth\":0,\"ticks\":\"\"}}],\"contour\":[{\"type\":\"contour\",\"colorbar\":{\"outlinewidth\":0,\"ticks\":\"\"},\"colorscale\":[[0.0,\"#0d0887\"],[0.1111111111111111,\"#46039f\"],[0.2222222222222222,\"#7201a8\"],[0.3333333333333333,\"#9c179e\"],[0.4444444444444444,\"#bd3786\"],[0.5555555555555556,\"#d8576b\"],[0.6666666666666666,\"#ed7953\"],[0.7777777777777778,\"#fb9f3a\"],[0.8888888888888888,\"#fdca26\"],[1.0,\"#f0f921\"]]}],\"surface\":[{\"type\":\"surface\",\"colorbar\":{\"outlinewidth\":0,\"ticks\":\"\"},\"colorscale\":[[0.0,\"#0d0887\"],[0.1111111111111111,\"#46039f\"],[0.2222222222222222,\"#7201a8\"],[0.3333333333333333,\"#9c179e\"],[0.4444444444444444,\"#bd3786\"],[0.5555555555555556,\"#d8576b\"],[0.6666666666666666,\"#ed7953\"],[0.7777777777777778,\"#fb9f3a\"],[0.8888888888888888,\"#fdca26\"],[1.0,\"#f0f921\"]]}],\"mesh3d\":[{\"type\":\"mesh3d\",\"colorbar\":{\"outlinewidth\":0,\"ticks\":\"\"}}],\"scatter\":[{\"fillpattern\":{\"fillmode\":\"overlay\",\"size\":10,\"solidity\":0.2},\"type\":\"scatter\"}],\"parcoords\":[{\"type\":\"parcoords\",\"line\":{\"colorbar\":{\"outlinewidth\":0,\"ticks\":\"\"}}}],\"scatterpolargl\":[{\"type\":\"scatterpolargl\",\"marker\":{\"colorbar\":{\"outlinewidth\":0,\"ticks\":\"\"}}}],\"bar\":[{\"error_x\":{\"color\":\"#2a3f5f\"},\"error_y\":{\"color\":\"#2a3f5f\"},\"marker\":{\"line\":{\"color\":\"#E5ECF6\",\"width\":0.5},\"pattern\":{\"fillmode\":\"overlay\",\"size\":10,\"solidity\":0.2}},\"type\":\"bar\"}],\"scattergeo\":[{\"type\":\"scattergeo\",\"marker\":{\"colorbar\":{\"outlinewidth\":0,\"ticks\":\"\"}}}],\"scatterpolar\":[{\"type\":\"scatterpolar\",\"marker\":{\"colorbar\":{\"outlinewidth\":0,\"ticks\":\"\"}}}],\"histogram\":[{\"marker\":{\"pattern\":{\"fillmode\":\"overlay\",\"size\":10,\"solidity\":0.2}},\"type\":\"histogram\"}],\"scattergl\":[{\"type\":\"scattergl\",\"marker\":{\"colorbar\":{\"outlinewidth\":0,\"ticks\":\"\"}}}],\"scatter3d\":[{\"type\":\"scatter3d\",\"line\":{\"colorbar\":{\"outlinewidth\":0,\"ticks\":\"\"}},\"marker\":{\"colorbar\":{\"outlinewidth\":0,\"ticks\":\"\"}}}],\"scattermapbox\":[{\"type\":\"scattermapbox\",\"marker\":{\"colorbar\":{\"outlinewidth\":0,\"ticks\":\"\"}}}],\"scatterternary\":[{\"type\":\"scatterternary\",\"marker\":{\"colorbar\":{\"outlinewidth\":0,\"ticks\":\"\"}}}],\"scattercarpet\":[{\"type\":\"scattercarpet\",\"marker\":{\"colorbar\":{\"outlinewidth\":0,\"ticks\":\"\"}}}],\"carpet\":[{\"aaxis\":{\"endlinecolor\":\"#2a3f5f\",\"gridcolor\":\"white\",\"linecolor\":\"white\",\"minorgridcolor\":\"white\",\"startlinecolor\":\"#2a3f5f\"},\"baxis\":{\"endlinecolor\":\"#2a3f5f\",\"gridcolor\":\"white\",\"linecolor\":\"white\",\"minorgridcolor\":\"white\",\"startlinecolor\":\"#2a3f5f\"},\"type\":\"carpet\"}],\"table\":[{\"cells\":{\"fill\":{\"color\":\"#EBF0F8\"},\"line\":{\"color\":\"white\"}},\"header\":{\"fill\":{\"color\":\"#C8D4E3\"},\"line\":{\"color\":\"white\"}},\"type\":\"table\"}],\"barpolar\":[{\"marker\":{\"line\":{\"color\":\"#E5ECF6\",\"width\":0.5},\"pattern\":{\"fillmode\":\"overlay\",\"size\":10,\"solidity\":0.2}},\"type\":\"barpolar\"}],\"pie\":[{\"automargin\":true,\"type\":\"pie\"}]},\"layout\":{\"autotypenumbers\":\"strict\",\"colorway\":[\"#636efa\",\"#EF553B\",\"#00cc96\",\"#ab63fa\",\"#FFA15A\",\"#19d3f3\",\"#FF6692\",\"#B6E880\",\"#FF97FF\",\"#FECB52\"],\"font\":{\"color\":\"#2a3f5f\"},\"hovermode\":\"closest\",\"hoverlabel\":{\"align\":\"left\"},\"paper_bgcolor\":\"white\",\"plot_bgcolor\":\"#E5ECF6\",\"polar\":{\"bgcolor\":\"#E5ECF6\",\"angularaxis\":{\"gridcolor\":\"white\",\"linecolor\":\"white\",\"ticks\":\"\"},\"radialaxis\":{\"gridcolor\":\"white\",\"linecolor\":\"white\",\"ticks\":\"\"}},\"ternary\":{\"bgcolor\":\"#E5ECF6\",\"aaxis\":{\"gridcolor\":\"white\",\"linecolor\":\"white\",\"ticks\":\"\"},\"baxis\":{\"gridcolor\":\"white\",\"linecolor\":\"white\",\"ticks\":\"\"},\"caxis\":{\"gridcolor\":\"white\",\"linecolor\":\"white\",\"ticks\":\"\"}},\"coloraxis\":{\"colorbar\":{\"outlinewidth\":0,\"ticks\":\"\"}},\"colorscale\":{\"sequential\":[[0.0,\"#0d0887\"],[0.1111111111111111,\"#46039f\"],[0.2222222222222222,\"#7201a8\"],[0.3333333333333333,\"#9c179e\"],[0.4444444444444444,\"#bd3786\"],[0.5555555555555556,\"#d8576b\"],[0.6666666666666666,\"#ed7953\"],[0.7777777777777778,\"#fb9f3a\"],[0.8888888888888888,\"#fdca26\"],[1.0,\"#f0f921\"]],\"sequentialminus\":[[0.0,\"#0d0887\"],[0.1111111111111111,\"#46039f\"],[0.2222222222222222,\"#7201a8\"],[0.3333333333333333,\"#9c179e\"],[0.4444444444444444,\"#bd3786\"],[0.5555555555555556,\"#d8576b\"],[0.6666666666666666,\"#ed7953\"],[0.7777777777777778,\"#fb9f3a\"],[0.8888888888888888,\"#fdca26\"],[1.0,\"#f0f921\"]],\"diverging\":[[0,\"#8e0152\"],[0.1,\"#c51b7d\"],[0.2,\"#de77ae\"],[0.3,\"#f1b6da\"],[0.4,\"#fde0ef\"],[0.5,\"#f7f7f7\"],[0.6,\"#e6f5d0\"],[0.7,\"#b8e186\"],[0.8,\"#7fbc41\"],[0.9,\"#4d9221\"],[1,\"#276419\"]]},\"xaxis\":{\"gridcolor\":\"white\",\"linecolor\":\"white\",\"ticks\":\"\",\"title\":{\"standoff\":15},\"zerolinecolor\":\"white\",\"automargin\":true,\"zerolinewidth\":2},\"yaxis\":{\"gridcolor\":\"white\",\"linecolor\":\"white\",\"ticks\":\"\",\"title\":{\"standoff\":15},\"zerolinecolor\":\"white\",\"automargin\":true,\"zerolinewidth\":2},\"scene\":{\"xaxis\":{\"backgroundcolor\":\"#E5ECF6\",\"gridcolor\":\"white\",\"linecolor\":\"white\",\"showbackground\":true,\"ticks\":\"\",\"zerolinecolor\":\"white\",\"gridwidth\":2},\"yaxis\":{\"backgroundcolor\":\"#E5ECF6\",\"gridcolor\":\"white\",\"linecolor\":\"white\",\"showbackground\":true,\"ticks\":\"\",\"zerolinecolor\":\"white\",\"gridwidth\":2},\"zaxis\":{\"backgroundcolor\":\"#E5ECF6\",\"gridcolor\":\"white\",\"linecolor\":\"white\",\"showbackground\":true,\"ticks\":\"\",\"zerolinecolor\":\"white\",\"gridwidth\":2}},\"shapedefaults\":{\"line\":{\"color\":\"#2a3f5f\"}},\"annotationdefaults\":{\"arrowcolor\":\"#2a3f5f\",\"arrowhead\":0,\"arrowwidth\":1},\"geo\":{\"bgcolor\":\"white\",\"landcolor\":\"#E5ECF6\",\"subunitcolor\":\"white\",\"showland\":true,\"showlakes\":true,\"lakecolor\":\"white\"},\"title\":{\"x\":0.05},\"mapbox\":{\"style\":\"light\"}}},\"xaxis\":{\"anchor\":\"y\",\"domain\":[0.0,1.0],\"title\":{\"text\":\"x\"}},\"yaxis\":{\"anchor\":\"x\",\"domain\":[0.0,1.0],\"title\":{\"text\":\"y\"}},\"legend\":{\"tracegroupgap\":0},\"margin\":{\"t\":60}},                        {\"responsive\": true}                    ).then(function(){\n",
       "                            \n",
       "var gd = document.getElementById('d69bec72-33cc-494d-9975-d64dbda57e1f');\n",
       "var x = new MutationObserver(function (mutations, observer) {{\n",
       "        var display = window.getComputedStyle(gd).display;\n",
       "        if (!display || display === 'none') {{\n",
       "            console.log([gd, 'removed!']);\n",
       "            Plotly.purge(gd);\n",
       "            observer.disconnect();\n",
       "        }}\n",
       "}});\n",
       "\n",
       "// Listen for the removal of the full notebook cells\n",
       "var notebookContainer = gd.closest('#notebook-container');\n",
       "if (notebookContainer) {{\n",
       "    x.observe(notebookContainer, {childList: true});\n",
       "}}\n",
       "\n",
       "// Listen for the clearing of the current output cell\n",
       "var outputEl = gd.closest('.output');\n",
       "if (outputEl) {{\n",
       "    x.observe(outputEl, {childList: true});\n",
       "}}\n",
       "\n",
       "                        })                };                });            </script>        </div>"
      ]
     },
     "metadata": {},
     "output_type": "display_data"
    }
   ],
   "source": [
    "data_kalman = np.array([kalman(10, 1, 1000) for _ in range(1000)])\n",
    "ex.line(x=range(1001), y=data_kalman.var(axis=0))"
   ]
  },
  {
   "cell_type": "code",
   "execution_count": 69,
   "id": "e9fba406-e19c-40c2-8688-1d869ff1ec9b",
   "metadata": {},
   "outputs": [
    {
     "data": {
      "application/vnd.plotly.v1+json": {
       "config": {
        "plotlyServerURL": "https://plot.ly"
       },
       "data": [
        {
         "hovertemplate": "x=%{x}<br>y=%{y}<extra></extra>",
         "legendgroup": "",
         "line": {
          "color": "#636efa",
          "dash": "solid"
         },
         "marker": {
          "symbol": "circle"
         },
         "mode": "lines",
         "name": "",
         "showlegend": false,
         "type": "scattergl",
         "x": [
          0,
          1,
          2,
          3,
          4,
          5,
          6,
          7,
          8,
          9,
          10,
          11,
          12,
          13,
          14,
          15,
          16,
          17,
          18,
          19,
          20,
          21,
          22,
          23,
          24,
          25,
          26,
          27,
          28,
          29,
          30,
          31,
          32,
          33,
          34,
          35,
          36,
          37,
          38,
          39,
          40,
          41,
          42,
          43,
          44,
          45,
          46,
          47,
          48,
          49,
          50,
          51,
          52,
          53,
          54,
          55,
          56,
          57,
          58,
          59,
          60,
          61,
          62,
          63,
          64,
          65,
          66,
          67,
          68,
          69,
          70,
          71,
          72,
          73,
          74,
          75,
          76,
          77,
          78,
          79,
          80,
          81,
          82,
          83,
          84,
          85,
          86,
          87,
          88,
          89,
          90,
          91,
          92,
          93,
          94,
          95,
          96,
          97,
          98,
          99,
          100,
          101,
          102,
          103,
          104,
          105,
          106,
          107,
          108,
          109,
          110,
          111,
          112,
          113,
          114,
          115,
          116,
          117,
          118,
          119,
          120,
          121,
          122,
          123,
          124,
          125,
          126,
          127,
          128,
          129,
          130,
          131,
          132,
          133,
          134,
          135,
          136,
          137,
          138,
          139,
          140,
          141,
          142,
          143,
          144,
          145,
          146,
          147,
          148,
          149,
          150,
          151,
          152,
          153,
          154,
          155,
          156,
          157,
          158,
          159,
          160,
          161,
          162,
          163,
          164,
          165,
          166,
          167,
          168,
          169,
          170,
          171,
          172,
          173,
          174,
          175,
          176,
          177,
          178,
          179,
          180,
          181,
          182,
          183,
          184,
          185,
          186,
          187,
          188,
          189,
          190,
          191,
          192,
          193,
          194,
          195,
          196,
          197,
          198,
          199,
          200,
          201,
          202,
          203,
          204,
          205,
          206,
          207,
          208,
          209,
          210,
          211,
          212,
          213,
          214,
          215,
          216,
          217,
          218,
          219,
          220,
          221,
          222,
          223,
          224,
          225,
          226,
          227,
          228,
          229,
          230,
          231,
          232,
          233,
          234,
          235,
          236,
          237,
          238,
          239,
          240,
          241,
          242,
          243,
          244,
          245,
          246,
          247,
          248,
          249,
          250,
          251,
          252,
          253,
          254,
          255,
          256,
          257,
          258,
          259,
          260,
          261,
          262,
          263,
          264,
          265,
          266,
          267,
          268,
          269,
          270,
          271,
          272,
          273,
          274,
          275,
          276,
          277,
          278,
          279,
          280,
          281,
          282,
          283,
          284,
          285,
          286,
          287,
          288,
          289,
          290,
          291,
          292,
          293,
          294,
          295,
          296,
          297,
          298,
          299,
          300,
          301,
          302,
          303,
          304,
          305,
          306,
          307,
          308,
          309,
          310,
          311,
          312,
          313,
          314,
          315,
          316,
          317,
          318,
          319,
          320,
          321,
          322,
          323,
          324,
          325,
          326,
          327,
          328,
          329,
          330,
          331,
          332,
          333,
          334,
          335,
          336,
          337,
          338,
          339,
          340,
          341,
          342,
          343,
          344,
          345,
          346,
          347,
          348,
          349,
          350,
          351,
          352,
          353,
          354,
          355,
          356,
          357,
          358,
          359,
          360,
          361,
          362,
          363,
          364,
          365,
          366,
          367,
          368,
          369,
          370,
          371,
          372,
          373,
          374,
          375,
          376,
          377,
          378,
          379,
          380,
          381,
          382,
          383,
          384,
          385,
          386,
          387,
          388,
          389,
          390,
          391,
          392,
          393,
          394,
          395,
          396,
          397,
          398,
          399,
          400,
          401,
          402,
          403,
          404,
          405,
          406,
          407,
          408,
          409,
          410,
          411,
          412,
          413,
          414,
          415,
          416,
          417,
          418,
          419,
          420,
          421,
          422,
          423,
          424,
          425,
          426,
          427,
          428,
          429,
          430,
          431,
          432,
          433,
          434,
          435,
          436,
          437,
          438,
          439,
          440,
          441,
          442,
          443,
          444,
          445,
          446,
          447,
          448,
          449,
          450,
          451,
          452,
          453,
          454,
          455,
          456,
          457,
          458,
          459,
          460,
          461,
          462,
          463,
          464,
          465,
          466,
          467,
          468,
          469,
          470,
          471,
          472,
          473,
          474,
          475,
          476,
          477,
          478,
          479,
          480,
          481,
          482,
          483,
          484,
          485,
          486,
          487,
          488,
          489,
          490,
          491,
          492,
          493,
          494,
          495,
          496,
          497,
          498,
          499,
          500,
          501,
          502,
          503,
          504,
          505,
          506,
          507,
          508,
          509,
          510,
          511,
          512,
          513,
          514,
          515,
          516,
          517,
          518,
          519,
          520,
          521,
          522,
          523,
          524,
          525,
          526,
          527,
          528,
          529,
          530,
          531,
          532,
          533,
          534,
          535,
          536,
          537,
          538,
          539,
          540,
          541,
          542,
          543,
          544,
          545,
          546,
          547,
          548,
          549,
          550,
          551,
          552,
          553,
          554,
          555,
          556,
          557,
          558,
          559,
          560,
          561,
          562,
          563,
          564,
          565,
          566,
          567,
          568,
          569,
          570,
          571,
          572,
          573,
          574,
          575,
          576,
          577,
          578,
          579,
          580,
          581,
          582,
          583,
          584,
          585,
          586,
          587,
          588,
          589,
          590,
          591,
          592,
          593,
          594,
          595,
          596,
          597,
          598,
          599,
          600,
          601,
          602,
          603,
          604,
          605,
          606,
          607,
          608,
          609,
          610,
          611,
          612,
          613,
          614,
          615,
          616,
          617,
          618,
          619,
          620,
          621,
          622,
          623,
          624,
          625,
          626,
          627,
          628,
          629,
          630,
          631,
          632,
          633,
          634,
          635,
          636,
          637,
          638,
          639,
          640,
          641,
          642,
          643,
          644,
          645,
          646,
          647,
          648,
          649,
          650,
          651,
          652,
          653,
          654,
          655,
          656,
          657,
          658,
          659,
          660,
          661,
          662,
          663,
          664,
          665,
          666,
          667,
          668,
          669,
          670,
          671,
          672,
          673,
          674,
          675,
          676,
          677,
          678,
          679,
          680,
          681,
          682,
          683,
          684,
          685,
          686,
          687,
          688,
          689,
          690,
          691,
          692,
          693,
          694,
          695,
          696,
          697,
          698,
          699,
          700,
          701,
          702,
          703,
          704,
          705,
          706,
          707,
          708,
          709,
          710,
          711,
          712,
          713,
          714,
          715,
          716,
          717,
          718,
          719,
          720,
          721,
          722,
          723,
          724,
          725,
          726,
          727,
          728,
          729,
          730,
          731,
          732,
          733,
          734,
          735,
          736,
          737,
          738,
          739,
          740,
          741,
          742,
          743,
          744,
          745,
          746,
          747,
          748,
          749,
          750,
          751,
          752,
          753,
          754,
          755,
          756,
          757,
          758,
          759,
          760,
          761,
          762,
          763,
          764,
          765,
          766,
          767,
          768,
          769,
          770,
          771,
          772,
          773,
          774,
          775,
          776,
          777,
          778,
          779,
          780,
          781,
          782,
          783,
          784,
          785,
          786,
          787,
          788,
          789,
          790,
          791,
          792,
          793,
          794,
          795,
          796,
          797,
          798,
          799,
          800,
          801,
          802,
          803,
          804,
          805,
          806,
          807,
          808,
          809,
          810,
          811,
          812,
          813,
          814,
          815,
          816,
          817,
          818,
          819,
          820,
          821,
          822,
          823,
          824,
          825,
          826,
          827,
          828,
          829,
          830,
          831,
          832,
          833,
          834,
          835,
          836,
          837,
          838,
          839,
          840,
          841,
          842,
          843,
          844,
          845,
          846,
          847,
          848,
          849,
          850,
          851,
          852,
          853,
          854,
          855,
          856,
          857,
          858,
          859,
          860,
          861,
          862,
          863,
          864,
          865,
          866,
          867,
          868,
          869,
          870,
          871,
          872,
          873,
          874,
          875,
          876,
          877,
          878,
          879,
          880,
          881,
          882,
          883,
          884,
          885,
          886,
          887,
          888,
          889,
          890,
          891,
          892,
          893,
          894,
          895,
          896,
          897,
          898,
          899,
          900,
          901,
          902,
          903,
          904,
          905,
          906,
          907,
          908,
          909,
          910,
          911,
          912,
          913,
          914,
          915,
          916,
          917,
          918,
          919,
          920,
          921,
          922,
          923,
          924,
          925,
          926,
          927,
          928,
          929,
          930,
          931,
          932,
          933,
          934,
          935,
          936,
          937,
          938,
          939,
          940,
          941,
          942,
          943,
          944,
          945,
          946,
          947,
          948,
          949,
          950,
          951,
          952,
          953,
          954,
          955,
          956,
          957,
          958,
          959,
          960,
          961,
          962,
          963,
          964,
          965,
          966,
          967,
          968,
          969,
          970,
          971,
          972,
          973,
          974,
          975,
          976,
          977,
          978,
          979,
          980,
          981,
          982,
          983,
          984,
          985,
          986,
          987,
          988,
          989,
          990,
          991,
          992,
          993,
          994,
          995,
          996,
          997,
          998,
          999,
          1000
         ],
         "xaxis": "x",
         "y": [
          1.0064110527698524,
          0.492480405214426,
          0.34041225133927283,
          0.2590452761097952,
          0.20702410487980788,
          0.17047547826073908,
          0.1485624483778775,
          0.12947240424962328,
          0.11646909427828572,
          0.10388194309736959,
          0.09215868311682725,
          0.08648751011877562,
          0.07858036561511915,
          0.07422028127498025,
          0.06911691393101581,
          0.06460622188967689,
          0.05986098065068753,
          0.056250031385681555,
          0.053381204013740906,
          0.050611345100993875,
          0.048473294197075203,
          0.04636559300968049,
          0.045179431325622244,
          0.042905867928254106,
          0.04098718842733564,
          0.03938183597917304,
          0.03855442346587843,
          0.037568610740434806,
          0.03664419062484381,
          0.0354709826246537,
          0.034551313957751406,
          0.03308653525123046,
          0.03229622084270769,
          0.031640874516695006,
          0.030621811853886606,
          0.02943928138528132,
          0.028396908148125854,
          0.027141394906501463,
          0.02605448850000787,
          0.025136068185006584,
          0.02484318867880951,
          0.024431744112070396,
          0.02362293730365262,
          0.023048660124969467,
          0.022384794244300267,
          0.021947270020815406,
          0.021499050484250673,
          0.02082451558458685,
          0.02028778902976703,
          0.019950224663189544,
          0.01950969513209676,
          0.01914276606867897,
          0.018817538627306573,
          0.01847175706237993,
          0.01785938647605292,
          0.017796592314182375,
          0.017499499682696897,
          0.017043854429310855,
          0.01675323765085982,
          0.016460367338610993,
          0.01616353153147887,
          0.01582993110056164,
          0.015478611046254339,
          0.015129970277837865,
          0.01463797866902866,
          0.014319127475881972,
          0.014189283929126955,
          0.013919863454296064,
          0.01361423536303398,
          0.013536782491659361,
          0.013532971870821366,
          0.013443609655885631,
          0.013258242036044513,
          0.013058399501959748,
          0.012897330651512533,
          0.012584929073698575,
          0.01242218264086664,
          0.012282621082805676,
          0.012189358195789507,
          0.012020839135525164,
          0.01178306013446945,
          0.011560702826059453,
          0.011477463518717666,
          0.011318402016697484,
          0.011178982480006183,
          0.010987884676289372,
          0.010857168877883638,
          0.01068821169573001,
          0.010699037500475076,
          0.010474485915881526,
          0.010387256196666132,
          0.010423367735331233,
          0.010428084607737366,
          0.010236616941044534,
          0.010027297840574781,
          0.009944117088929238,
          0.009783349019987076,
          0.009686944042591057,
          0.009694918900026675,
          0.009513237622278905,
          0.009444353236244162,
          0.009372283995846407,
          0.009329749837202968,
          0.009136110680802818,
          0.009087946032712492,
          0.008953104194040705,
          0.008845629349174046,
          0.008793222854611232,
          0.008740014048913615,
          0.00875169371660861,
          0.00870854242213269,
          0.0086550041489073,
          0.008531555935272153,
          0.008427202060932405,
          0.008372412378239455,
          0.00819247238864932,
          0.00804878196468917,
          0.008010395886833634,
          0.007889907810638652,
          0.007811688585835459,
          0.007747860645484354,
          0.007704225169523816,
          0.007582411977806017,
          0.007566777439179423,
          0.007477433020547901,
          0.00746865192952904,
          0.007427224452563501,
          0.007408320496668201,
          0.007371497943575202,
          0.007337559084601405,
          0.007212600397566583,
          0.0071874514111578995,
          0.007162605785372792,
          0.007085814210513462,
          0.007002870472890669,
          0.006979784672746307,
          0.006980432391218007,
          0.006938062739611661,
          0.006821120696641955,
          0.006724518351265346,
          0.00670011290929476,
          0.006655339615173506,
          0.0066390181790732215,
          0.006573180644808834,
          0.006524973471371128,
          0.0065020883018294265,
          0.0064655967017853404,
          0.006419993708075509,
          0.006353420459844642,
          0.006292507037506328,
          0.006238612024732801,
          0.006178965996220659,
          0.0061656827698454465,
          0.006138653077687198,
          0.006110627985870481,
          0.006115205737023271,
          0.006038930566101475,
          0.0060246252503598965,
          0.005993356799117367,
          0.005937018946102298,
          0.005912428517341576,
          0.005839486132695403,
          0.005792240930552574,
          0.005750117868841983,
          0.0056794403597183575,
          0.005669914562250951,
          0.0056380354292272054,
          0.0056138659193042005,
          0.005540852252484846,
          0.005540440788344714,
          0.005496922828955577,
          0.005433127538832972,
          0.0053962605462922085,
          0.00535811800378433,
          0.005317531455183712,
          0.0052705924214617485,
          0.005227038607911158,
          0.0052185154539806326,
          0.005183171690173078,
          0.005133510129006494,
          0.005105116620640533,
          0.005077429016193978,
          0.005090019806705073,
          0.005048282272852335,
          0.0050218271561892494,
          0.004975325757002053,
          0.00494940727074197,
          0.004926699226373515,
          0.004892020531268961,
          0.004889765312713428,
          0.004850960724920005,
          0.004813051463856696,
          0.0047891986125698826,
          0.004775213197188163,
          0.00473649839462394,
          0.004698844606493259,
          0.0046673051466994886,
          0.004642571008498346,
          0.004615894712915431,
          0.004579964542267496,
          0.004583320347049083,
          0.004544143920140491,
          0.004496101000067817,
          0.004452756119081912,
          0.004400764887866361,
          0.004354213024687436,
          0.004347308064730652,
          0.004298329878570356,
          0.004321118782600591,
          0.004292155904582666,
          0.004262411268255436,
          0.0042462802805271075,
          0.004214878942888823,
          0.004177423090881518,
          0.00414692781479039,
          0.0041612538951625545,
          0.004143956834160805,
          0.004126002020520923,
          0.0041086447068384045,
          0.004102924720818586,
          0.004083129365558718,
          0.004048669754324268,
          0.004041079180337941,
          0.004033491073128562,
          0.00402515670411839,
          0.0039777095470389275,
          0.003958009370678671,
          0.003940415017797105,
          0.003941705555347015,
          0.003924812363759112,
          0.003917278509808376,
          0.0038935249335097814,
          0.0039019564151524873,
          0.0038605005615335434,
          0.0038351024356808273,
          0.0038468466764332698,
          0.003823379095045842,
          0.003804053527634149,
          0.003786521454447985,
          0.003769537714116792,
          0.003760331672239407,
          0.0037516038884822427,
          0.003726904427827856,
          0.003722857010362685,
          0.0037110593987122807,
          0.0036812435095990516,
          0.003671721620031625,
          0.0036365065586462784,
          0.0036298790407239584,
          0.0035885210571919373,
          0.0035847402768983882,
          0.003581574219705539,
          0.003545597348798827,
          0.0035475919495074073,
          0.003552979485643615,
          0.0035444218768330127,
          0.0035105290319860385,
          0.003492167762295314,
          0.003491374115678651,
          0.0034957211871779635,
          0.0034909834294564695,
          0.0035228314332335048,
          0.0035285116115214535,
          0.0035313193710557553,
          0.003496456934179404,
          0.003474212902390668,
          0.003444108930360961,
          0.00343774799184445,
          0.003428218192428524,
          0.003422921918960073,
          0.0034144946121598936,
          0.0034061482382899944,
          0.0033808213914513674,
          0.0033658416925977696,
          0.00334207896470755,
          0.0033389494402828687,
          0.003321305653257259,
          0.0033286214195886177,
          0.0033251681405839276,
          0.0033335475338699405,
          0.0033290725507419032,
          0.003342834547347941,
          0.0033523110296759823,
          0.0033306646555752357,
          0.003324967095384402,
          0.003324355963143029,
          0.0033114109577867543,
          0.0032950864652301452,
          0.003286424640715457,
          0.0032651067120596754,
          0.0032626476330384325,
          0.0032542773514834086,
          0.003240619451304665,
          0.003228704707865202,
          0.003215322829026073,
          0.003205563205885195,
          0.00316654076904228,
          0.00315723671571937,
          0.0031600649334905698,
          0.0031516512459428955,
          0.0031348883037743062,
          0.003141785675172904,
          0.0031208685551088956,
          0.003099797334769856,
          0.003099527106858275,
          0.003098586469639668,
          0.003066552269687561,
          0.0030445916789457895,
          0.0030332369280481834,
          0.0030188097016355534,
          0.0029964349022133722,
          0.0029919425842844915,
          0.0029797791431803804,
          0.0029801589304360764,
          0.0029962665930803292,
          0.0029870831288993202,
          0.0029680774976682265,
          0.0029401346658782307,
          0.002928913245436472,
          0.0028988726181779327,
          0.0028840780883528576,
          0.0028818031149419198,
          0.0028752511095252687,
          0.0028580971543501273,
          0.002850305053562366,
          0.0028204998742949643,
          0.0027973994777850393,
          0.002805777847296714,
          0.0028036192112578717,
          0.0027873762879374476,
          0.00278269768731847,
          0.0027861858357452296,
          0.0027721545637038364,
          0.002784942155417779,
          0.002780649906630172,
          0.002771834937006128,
          0.0027605819603613705,
          0.0027554392052751347,
          0.002738919077031314,
          0.0027470664712542434,
          0.002735186217060407,
          0.00273661706963528,
          0.002722236255203985,
          0.0027238292787608483,
          0.0027165029929759393,
          0.0027218658641521916,
          0.002704060889287659,
          0.002700774083610786,
          0.0026814906699062515,
          0.002689302207049634,
          0.0026802448878145988,
          0.002682280078033494,
          0.002670062045146607,
          0.0026624501687861142,
          0.0026554429290143134,
          0.002643689331596513,
          0.0026429503302394857,
          0.0026439872680525424,
          0.0026368901786700404,
          0.0026351805505707465,
          0.002633178955362858,
          0.0026230229024565414,
          0.0026117767668799464,
          0.0026130588595269072,
          0.0026061936641469377,
          0.0025907387211805263,
          0.0025863170682339943,
          0.0025696828064213167,
          0.0025527028041800208,
          0.0025401611114954144,
          0.0025512036091146673,
          0.002522897968670509,
          0.002519205330704894,
          0.0025178386364018133,
          0.0025141677765256757,
          0.002514684527160917,
          0.002508929279862239,
          0.0025053031861172067,
          0.002486677054450672,
          0.002478450299890777,
          0.0024794510279645943,
          0.002485622775101504,
          0.0024727172861519434,
          0.0024610733240777657,
          0.0024462886037448428,
          0.002452597650199982,
          0.0024473047066473318,
          0.0024449113170660094,
          0.0024441302762653718,
          0.0024490123403118572,
          0.002444182974606191,
          0.0024449086996584375,
          0.002433298771032241,
          0.002423529006044279,
          0.0024219109291150794,
          0.0024265694862818776,
          0.0024250443636678227,
          0.0024223503294765357,
          0.0024177805071372224,
          0.0024044821145988477,
          0.002402510122714228,
          0.0024020110853712204,
          0.0024082276954036004,
          0.002399633200323532,
          0.0023994129919700934,
          0.002395031574854858,
          0.0023928758438660873,
          0.0023792110940763444,
          0.0023709205129963497,
          0.002375763634765654,
          0.002369194250627534,
          0.002359753068543761,
          0.0023446310785543586,
          0.0023309396500207718,
          0.0023401606761448237,
          0.0023383791402968018,
          0.00234097647066886,
          0.0023378179252930347,
          0.0023226342967800663,
          0.0023285700726587044,
          0.002315115779291737,
          0.0023124952224206664,
          0.0023023951399776454,
          0.0022922355742153364,
          0.0022788618626762456,
          0.0022728432602170064,
          0.002247407568918824,
          0.002243769546856617,
          0.002244540873835322,
          0.0022522745143423637,
          0.002251843080500473,
          0.0022531483647741813,
          0.0022486465913816116,
          0.002249992918809369,
          0.002248931314964146,
          0.002243524513215871,
          0.0022424078564367085,
          0.0022317201086412925,
          0.0022197234298940898,
          0.0022137545121186713,
          0.0022040875531244898,
          0.0022066662554313626,
          0.0022144506032570704,
          0.0022037178943826695,
          0.002199228259578341,
          0.0021976305057226373,
          0.002186937147378838,
          0.0021796681633431915,
          0.0021773058022136085,
          0.0021771987286435222,
          0.0021775753793888135,
          0.002169647681220519,
          0.002171097799080794,
          0.002155878186053822,
          0.002160492706059187,
          0.002152862890309622,
          0.0021460052178514538,
          0.002135709988809752,
          0.00213337637740084,
          0.002125757688831244,
          0.0021279157562704753,
          0.0021240953343739364,
          0.002121393920701308,
          0.0021143080912729684,
          0.002116484772433906,
          0.0021124959580879144,
          0.0021044351566737746,
          0.002102271022129211,
          0.002108147309364462,
          0.0021000428490553515,
          0.0020971761769737695,
          0.002099015205260318,
          0.0021043594973388156,
          0.002092516717598021,
          0.0020854648621603956,
          0.0020766118947290763,
          0.002069499643407794,
          0.0020675618236596525,
          0.0020731588330871764,
          0.0020630810018776747,
          0.0020613162611010827,
          0.002060125829487742,
          0.0020522010900526503,
          0.002054271524671393,
          0.0020430640152770832,
          0.0020450278084137435,
          0.002035904653041094,
          0.0020314912944126903,
          0.002029312792060425,
          0.0020153287547056715,
          0.002008180950496586,
          0.001999130394776454,
          0.0019820170291213923,
          0.001974259736862471,
          0.001964674128674382,
          0.0019536754133547677,
          0.0019445866042609448,
          0.0019440683195775543,
          0.0019500888093018272,
          0.0019339557383865062,
          0.001941293511413017,
          0.0019462448253505641,
          0.001939326658577433,
          0.001930029816545073,
          0.0019338488900564404,
          0.001924336799388175,
          0.0019137213558819135,
          0.0019055510983323042,
          0.0018979994129651638,
          0.0018956725680208198,
          0.0018880316568945362,
          0.0018823571576616698,
          0.0018840189549707987,
          0.0018896089349736552,
          0.0018763460739400553,
          0.0018747761586489027,
          0.0018718136830432424,
          0.0018723451466210264,
          0.0018739664495585257,
          0.0018755333836570935,
          0.0018697437889623849,
          0.0018596775508712875,
          0.0018630447897175497,
          0.0018525238159033544,
          0.0018402915672643635,
          0.0018397626098025813,
          0.0018382139730357464,
          0.0018429194711234718,
          0.0018381951403594167,
          0.0018282863120100976,
          0.0018276017916057628,
          0.0018220767794011055,
          0.001823125521196647,
          0.0018277332385312121,
          0.0018293556726256227,
          0.001828194668548686,
          0.001817741280936379,
          0.0018204033703124061,
          0.0018228834241186555,
          0.001823643639848014,
          0.001822308217281757,
          0.0018210524073236263,
          0.0018119769945457284,
          0.0018033888609734123,
          0.001799594443953769,
          0.0017904464432748348,
          0.0017875913916155152,
          0.0017808817933235663,
          0.0017759019118534385,
          0.0017722269696809412,
          0.001766246710466776,
          0.0017626791527593196,
          0.0017579942572416782,
          0.0017692922248890093,
          0.0017685906906570973,
          0.0017660366445412991,
          0.0017608693122906608,
          0.0017577083191170626,
          0.0017511331453344936,
          0.0017566093677320912,
          0.0017507889948752576,
          0.0017461640652513123,
          0.0017412453992373025,
          0.0017385278457769657,
          0.0017443248274805051,
          0.0017390105639124222,
          0.0017433695984926524,
          0.0017408592854704903,
          0.0017357163891187153,
          0.0017359518950193303,
          0.0017383035967400784,
          0.0017335260081259558,
          0.0017351380259351841,
          0.0017423635729450675,
          0.0017383276833753659,
          0.0017325311325152386,
          0.0017274474040923703,
          0.0017200531853911705,
          0.0017179428238156872,
          0.001720598570914979,
          0.0017139117607696342,
          0.0017081448339532847,
          0.0017068463705349967,
          0.001712155166620202,
          0.0017039835031326309,
          0.001705074853431667,
          0.001702231704036266,
          0.0017005749321429401,
          0.0016967238557892767,
          0.001697676506579665,
          0.0016999326553126825,
          0.0016925660608076913,
          0.0016822354620797829,
          0.0016787720748409883,
          0.001678624910477444,
          0.0016809493507772503,
          0.001678184229239091,
          0.0016761768056124226,
          0.0016768237632646423,
          0.0016636439296802113,
          0.001659157735059015,
          0.0016644843870431132,
          0.0016564654373121424,
          0.0016604848483579816,
          0.0016614291285149043,
          0.0016537966668265177,
          0.0016534560094747424,
          0.0016521326447179294,
          0.0016487797861486563,
          0.001645169442525418,
          0.0016475950279792348,
          0.001639141314571852,
          0.0016342594724073122,
          0.001628686480374488,
          0.0016255098752485841,
          0.001633677840591325,
          0.0016271818145409376,
          0.0016239727672402843,
          0.0016260319053243476,
          0.0016218683946169147,
          0.0016223322422361795,
          0.0016217146403386415,
          0.001612925239213421,
          0.0016217371093307105,
          0.0016203118255467704,
          0.0016079727938094794,
          0.0016072797593364328,
          0.001602190759399856,
          0.0015954830326024964,
          0.001598285378289957,
          0.001594032378967939,
          0.0015922107460115866,
          0.0015953596293199173,
          0.0015931348680874758,
          0.0015920412421389718,
          0.001588163314427681,
          0.001582245879434642,
          0.001587083878658965,
          0.001581642524961228,
          0.0015822851586995423,
          0.0015852744743368574,
          0.0015834521349304604,
          0.0015829372080519036,
          0.0015801163198867184,
          0.0015700132103292138,
          0.0015674602976423397,
          0.0015644305112015784,
          0.0015589123864116383,
          0.0015551962685652362,
          0.0015558485914122211,
          0.0015453406096627722,
          0.0015436687345333775,
          0.0015408595904773269,
          0.0015425705258341235,
          0.0015450925622884984,
          0.0015446251112259967,
          0.001543079351177138,
          0.0015389457287307202,
          0.0015349324753830035,
          0.0015262583423171136,
          0.0015211552481204438,
          0.0015265058949193561,
          0.0015167735662763241,
          0.0015153600328712074,
          0.0015145558785314955,
          0.0015146570603586903,
          0.001516578932754852,
          0.0015136557412142408,
          0.0015105775459634493,
          0.0015090813926551478,
          0.0015014503062153127,
          0.001497708790107327,
          0.0014977254697405384,
          0.0014876960347430775,
          0.001487533326198388,
          0.0014790647156239136,
          0.001475674072598246,
          0.0014719752684233924,
          0.001467083947980991,
          0.001462810787516693,
          0.0014549182756663323,
          0.0014598963176053017,
          0.001458931142326159,
          0.0014600169406477595,
          0.0014608469804085534,
          0.0014566317701631213,
          0.0014541311170817102,
          0.001444129157565133,
          0.0014474411699565187,
          0.0014459092639958022,
          0.0014486361307828116,
          0.0014436064278483952,
          0.0014405086032785663,
          0.0014442728180000962,
          0.0014411265844363264,
          0.0014408387720093198,
          0.0014401296193228663,
          0.0014364476507906325,
          0.001440890677303965,
          0.0014376654865715756,
          0.0014318051057249537,
          0.0014262555671192448,
          0.0014273645084311132,
          0.0014247463579510663,
          0.0014210756742330534,
          0.0014210505528258368,
          0.0014208158680255787,
          0.0014131308581765564,
          0.0014124287605484292,
          0.0014086572537141925,
          0.0014107682825955968,
          0.0014045067311697877,
          0.001399814379774655,
          0.0013996557688972268,
          0.00139476234993019,
          0.0013952478248684297,
          0.0013915388450792118,
          0.0013899842311391353,
          0.0013869149807699465,
          0.0013849516112288515,
          0.0013901101637403416,
          0.001393256343450066,
          0.0013889988774420437,
          0.0013837107197730597,
          0.001379220012063887,
          0.0013758988768443564,
          0.0013759620166193893,
          0.0013755078433204985,
          0.0013771285030632324,
          0.0013763547336451544,
          0.0013712337350806454,
          0.001372564665403305,
          0.0013752614129881218,
          0.0013710374101096627,
          0.00137456607107,
          0.0013718924882609802,
          0.0013699412277476386,
          0.0013713557699710386,
          0.0013680831815799392,
          0.001360347977130298,
          0.0013622700381173579,
          0.0013623671326506621,
          0.0013659283257400603,
          0.001358961944346984,
          0.0013564025828584618,
          0.0013547405398033532,
          0.001357597651160803,
          0.0013574754267893752,
          0.0013576697430748952,
          0.0013562636705075027,
          0.0013570646189415394,
          0.0013543427951770509,
          0.0013530107037638963,
          0.0013494309603335364,
          0.0013497685935166606,
          0.0013462181871904215,
          0.0013377797833431548,
          0.0013344915020633554,
          0.001336818900418413,
          0.0013399991139728062,
          0.0013347765363498952,
          0.0013334526171451737,
          0.001333932551556341,
          0.0013333048613198733,
          0.0013372566611905754,
          0.0013352648510223692,
          0.0013325024319105394,
          0.0013323504546875811,
          0.001333591773051671,
          0.0013293729195049543,
          0.0013302488558160892,
          0.0013283092310354314,
          0.001326077450663358,
          0.0013226789846363606,
          0.001323517935167826,
          0.0013217688551475986,
          0.001318186354456369,
          0.0013196461844068022,
          0.0013146509052159709,
          0.001309456140882983,
          0.0013082683663074915,
          0.0013117237832749541,
          0.001311315515904902,
          0.0013156751353220833,
          0.001308361911532481,
          0.0013059539904095622,
          0.0013031072705552134,
          0.0012976624862767623,
          0.0012929145711668743,
          0.001291531034687122,
          0.0012914568418954163,
          0.0012890983525546097,
          0.0012896636449759638,
          0.0012921740668709579,
          0.0012901491276271243,
          0.0012890015920813266,
          0.001282083945030804,
          0.0012815912689634688,
          0.0012795582835304334,
          0.001281962455291115,
          0.00127781807072989,
          0.0012748000201388402,
          0.0012735054717912218,
          0.0012705609149568607,
          0.001270026683535404,
          0.001269466823721786,
          0.0012657662944614398,
          0.001261496658031855,
          0.001256941951108844,
          0.0012531668693234884,
          0.0012506691897769444,
          0.0012541479906167641,
          0.001253086920926627,
          0.0012528777127110318,
          0.0012509834190168603,
          0.001250550208493102,
          0.001250060107969914,
          0.0012463697490008323,
          0.0012435647665563865,
          0.0012425884179101496,
          0.0012408878552698076,
          0.00123736504151899,
          0.0012331404356974902,
          0.0012265022320269965,
          0.0012283405537690077,
          0.001224516402711493,
          0.0012188179584666397,
          0.00121623429362279,
          0.0012151412016443099,
          0.0012137943779565031,
          0.0012143210845163182,
          0.0012137248194104915,
          0.001211231222381593,
          0.001207900380407143,
          0.001206257094601094,
          0.0011969488877037649,
          0.0011920752149942111,
          0.0011919956989286259,
          0.0011868550336872458,
          0.0011849448382190327,
          0.0011803371081184056,
          0.0011832040674101105,
          0.0011750764217568269,
          0.001174277975581146,
          0.001171275629545547,
          0.0011705795798260734,
          0.0011686098424888369,
          0.0011681853421287216,
          0.0011690981094674166,
          0.0011686027631035577,
          0.0011665751878030142,
          0.001164734701845225,
          0.0011635498085111687,
          0.0011598998919276507,
          0.0011605765428782126,
          0.0011586235836957362,
          0.0011564772836406404,
          0.001157439153133658,
          0.0011544035495840376,
          0.0011601688341931133,
          0.0011567811654712348,
          0.001155576229886992,
          0.0011538689354001772,
          0.001150354760915114,
          0.0011486246969319028,
          0.001149846050336054,
          0.001150089781324803,
          0.0011474331070219133,
          0.001147238140782319,
          0.0011439009671367433,
          0.0011394947933222278,
          0.001136022765283377,
          0.001135649482622753,
          0.0011378109997933808,
          0.0011409646966891666,
          0.0011403606756107154,
          0.001136328717263912,
          0.0011335001934322097,
          0.0011288369035097924,
          0.0011282391193341752,
          0.0011267458970213534,
          0.001123885187588915,
          0.001125584878271379,
          0.001128221039680296,
          0.001125074841736608,
          0.0011204135615748914,
          0.0011195865392007787,
          0.0011129952668179884,
          0.0011165205722211825,
          0.0011174559425982259,
          0.0011139492115514896,
          0.0011137540734324704,
          0.0011087617503400527,
          0.0011098375948977782,
          0.0011108480371541697,
          0.0011082811032480315,
          0.0011087610634425967,
          0.0011052234766392337,
          0.0011024089180544986,
          0.0010979397494691914,
          0.001096379881733435,
          0.0010954191185046965,
          0.0010987100505915192,
          0.001097136780071756,
          0.0010979222015508258,
          0.0010983980565078438,
          0.0010944640733487406,
          0.0010915905152166568,
          0.0010919189650579622,
          0.001091568072278307,
          0.0010915692200607256,
          0.0010895864106929573,
          0.001088467390473048,
          0.0010896282055046604,
          0.0010884784904779197,
          0.0010900066817334216,
          0.0010871921779200956,
          0.0010854803771098778,
          0.0010823673294501294,
          0.0010783386674986337,
          0.0010761178437203372,
          0.0010759110546756355,
          0.0010759694165334073,
          0.0010764456958072394,
          0.0010737849877616604,
          0.001072180021249149,
          0.0010662146623722868,
          0.0010602182658717282,
          0.0010559538640621926,
          0.0010526078048132817,
          0.0010533130416423972,
          0.0010504369005280827,
          0.0010493236820413767,
          0.001047218456987956,
          0.0010471537168482508,
          0.001048153609412454,
          0.0010479379933821785,
          0.0010472107499167533,
          0.0010462579046855121,
          0.0010441219109528265,
          0.0010426867226333177,
          0.0010413383910448791,
          0.001042448414986162,
          0.001044365190181621,
          0.0010400257891892666,
          0.0010423909335408985,
          0.0010412652457979126,
          0.0010379084062064044,
          0.0010411893407197737,
          0.0010426097684060685,
          0.0010395921201638949,
          0.0010406670560083567,
          0.0010399563796104339,
          0.0010414033794448859,
          0.0010412690227346207,
          0.0010367705727480818,
          0.0010393934366301535,
          0.0010371160090717764,
          0.0010366034081482614,
          0.0010347360175149204,
          0.0010316535843945221,
          0.0010290257312765875,
          0.001026424100882863,
          0.0010238503886154506,
          0.0010207995492339137,
          0.0010183092036280528,
          0.0010195121503411436,
          0.0010179150364831378,
          0.0010180182129687814,
          0.0010171709646530633,
          0.0010145378426320382,
          0.0010159193219091123,
          0.0010144454268615074,
          0.0010116979888493978,
          0.0010111120323105722,
          0.001009021887773883,
          0.0010049625139528057,
          0.0010021543308041685,
          0.0010038993031056657,
          0.00100298024324396,
          0.0010031725829759783,
          0.0010009580885323168,
          0.0009968982567511702,
          0.0009940298723769623,
          0.0009890278901392474,
          0.0009861122248385242,
          0.0009841789324683478,
          0.0009830933872165101,
          0.000981076011012727,
          0.0009810297894145518,
          0.0009765101651273027,
          0.0009783063333166605,
          0.0009773773853678609,
          0.0009771635856988408,
          0.000979602798936686,
          0.0009788239728206775,
          0.0009822043833788098,
          0.0009793680583981953,
          0.0009756866531519499,
          0.0009765070324163499,
          0.0009707582238488588
         ],
         "yaxis": "y"
        }
       ],
       "layout": {
        "autosize": true,
        "legend": {
         "tracegroupgap": 0
        },
        "margin": {
         "t": 60
        },
        "template": {
         "data": {
          "bar": [
           {
            "error_x": {
             "color": "#2a3f5f"
            },
            "error_y": {
             "color": "#2a3f5f"
            },
            "marker": {
             "line": {
              "color": "#E5ECF6",
              "width": 0.5
             },
             "pattern": {
              "fillmode": "overlay",
              "size": 10,
              "solidity": 0.2
             }
            },
            "type": "bar"
           }
          ],
          "barpolar": [
           {
            "marker": {
             "line": {
              "color": "#E5ECF6",
              "width": 0.5
             },
             "pattern": {
              "fillmode": "overlay",
              "size": 10,
              "solidity": 0.2
             }
            },
            "type": "barpolar"
           }
          ],
          "carpet": [
           {
            "aaxis": {
             "endlinecolor": "#2a3f5f",
             "gridcolor": "white",
             "linecolor": "white",
             "minorgridcolor": "white",
             "startlinecolor": "#2a3f5f"
            },
            "baxis": {
             "endlinecolor": "#2a3f5f",
             "gridcolor": "white",
             "linecolor": "white",
             "minorgridcolor": "white",
             "startlinecolor": "#2a3f5f"
            },
            "type": "carpet"
           }
          ],
          "choropleth": [
           {
            "colorbar": {
             "outlinewidth": 0,
             "ticks": ""
            },
            "type": "choropleth"
           }
          ],
          "contour": [
           {
            "colorbar": {
             "outlinewidth": 0,
             "ticks": ""
            },
            "colorscale": [
             [
              0,
              "#0d0887"
             ],
             [
              0.1111111111111111,
              "#46039f"
             ],
             [
              0.2222222222222222,
              "#7201a8"
             ],
             [
              0.3333333333333333,
              "#9c179e"
             ],
             [
              0.4444444444444444,
              "#bd3786"
             ],
             [
              0.5555555555555556,
              "#d8576b"
             ],
             [
              0.6666666666666666,
              "#ed7953"
             ],
             [
              0.7777777777777778,
              "#fb9f3a"
             ],
             [
              0.8888888888888888,
              "#fdca26"
             ],
             [
              1,
              "#f0f921"
             ]
            ],
            "type": "contour"
           }
          ],
          "contourcarpet": [
           {
            "colorbar": {
             "outlinewidth": 0,
             "ticks": ""
            },
            "type": "contourcarpet"
           }
          ],
          "heatmap": [
           {
            "colorbar": {
             "outlinewidth": 0,
             "ticks": ""
            },
            "colorscale": [
             [
              0,
              "#0d0887"
             ],
             [
              0.1111111111111111,
              "#46039f"
             ],
             [
              0.2222222222222222,
              "#7201a8"
             ],
             [
              0.3333333333333333,
              "#9c179e"
             ],
             [
              0.4444444444444444,
              "#bd3786"
             ],
             [
              0.5555555555555556,
              "#d8576b"
             ],
             [
              0.6666666666666666,
              "#ed7953"
             ],
             [
              0.7777777777777778,
              "#fb9f3a"
             ],
             [
              0.8888888888888888,
              "#fdca26"
             ],
             [
              1,
              "#f0f921"
             ]
            ],
            "type": "heatmap"
           }
          ],
          "heatmapgl": [
           {
            "colorbar": {
             "outlinewidth": 0,
             "ticks": ""
            },
            "colorscale": [
             [
              0,
              "#0d0887"
             ],
             [
              0.1111111111111111,
              "#46039f"
             ],
             [
              0.2222222222222222,
              "#7201a8"
             ],
             [
              0.3333333333333333,
              "#9c179e"
             ],
             [
              0.4444444444444444,
              "#bd3786"
             ],
             [
              0.5555555555555556,
              "#d8576b"
             ],
             [
              0.6666666666666666,
              "#ed7953"
             ],
             [
              0.7777777777777778,
              "#fb9f3a"
             ],
             [
              0.8888888888888888,
              "#fdca26"
             ],
             [
              1,
              "#f0f921"
             ]
            ],
            "type": "heatmapgl"
           }
          ],
          "histogram": [
           {
            "marker": {
             "pattern": {
              "fillmode": "overlay",
              "size": 10,
              "solidity": 0.2
             }
            },
            "type": "histogram"
           }
          ],
          "histogram2d": [
           {
            "colorbar": {
             "outlinewidth": 0,
             "ticks": ""
            },
            "colorscale": [
             [
              0,
              "#0d0887"
             ],
             [
              0.1111111111111111,
              "#46039f"
             ],
             [
              0.2222222222222222,
              "#7201a8"
             ],
             [
              0.3333333333333333,
              "#9c179e"
             ],
             [
              0.4444444444444444,
              "#bd3786"
             ],
             [
              0.5555555555555556,
              "#d8576b"
             ],
             [
              0.6666666666666666,
              "#ed7953"
             ],
             [
              0.7777777777777778,
              "#fb9f3a"
             ],
             [
              0.8888888888888888,
              "#fdca26"
             ],
             [
              1,
              "#f0f921"
             ]
            ],
            "type": "histogram2d"
           }
          ],
          "histogram2dcontour": [
           {
            "colorbar": {
             "outlinewidth": 0,
             "ticks": ""
            },
            "colorscale": [
             [
              0,
              "#0d0887"
             ],
             [
              0.1111111111111111,
              "#46039f"
             ],
             [
              0.2222222222222222,
              "#7201a8"
             ],
             [
              0.3333333333333333,
              "#9c179e"
             ],
             [
              0.4444444444444444,
              "#bd3786"
             ],
             [
              0.5555555555555556,
              "#d8576b"
             ],
             [
              0.6666666666666666,
              "#ed7953"
             ],
             [
              0.7777777777777778,
              "#fb9f3a"
             ],
             [
              0.8888888888888888,
              "#fdca26"
             ],
             [
              1,
              "#f0f921"
             ]
            ],
            "type": "histogram2dcontour"
           }
          ],
          "mesh3d": [
           {
            "colorbar": {
             "outlinewidth": 0,
             "ticks": ""
            },
            "type": "mesh3d"
           }
          ],
          "parcoords": [
           {
            "line": {
             "colorbar": {
              "outlinewidth": 0,
              "ticks": ""
             }
            },
            "type": "parcoords"
           }
          ],
          "pie": [
           {
            "automargin": true,
            "type": "pie"
           }
          ],
          "scatter": [
           {
            "fillpattern": {
             "fillmode": "overlay",
             "size": 10,
             "solidity": 0.2
            },
            "type": "scatter"
           }
          ],
          "scatter3d": [
           {
            "line": {
             "colorbar": {
              "outlinewidth": 0,
              "ticks": ""
             }
            },
            "marker": {
             "colorbar": {
              "outlinewidth": 0,
              "ticks": ""
             }
            },
            "type": "scatter3d"
           }
          ],
          "scattercarpet": [
           {
            "marker": {
             "colorbar": {
              "outlinewidth": 0,
              "ticks": ""
             }
            },
            "type": "scattercarpet"
           }
          ],
          "scattergeo": [
           {
            "marker": {
             "colorbar": {
              "outlinewidth": 0,
              "ticks": ""
             }
            },
            "type": "scattergeo"
           }
          ],
          "scattergl": [
           {
            "marker": {
             "colorbar": {
              "outlinewidth": 0,
              "ticks": ""
             }
            },
            "type": "scattergl"
           }
          ],
          "scattermapbox": [
           {
            "marker": {
             "colorbar": {
              "outlinewidth": 0,
              "ticks": ""
             }
            },
            "type": "scattermapbox"
           }
          ],
          "scatterpolar": [
           {
            "marker": {
             "colorbar": {
              "outlinewidth": 0,
              "ticks": ""
             }
            },
            "type": "scatterpolar"
           }
          ],
          "scatterpolargl": [
           {
            "marker": {
             "colorbar": {
              "outlinewidth": 0,
              "ticks": ""
             }
            },
            "type": "scatterpolargl"
           }
          ],
          "scatterternary": [
           {
            "marker": {
             "colorbar": {
              "outlinewidth": 0,
              "ticks": ""
             }
            },
            "type": "scatterternary"
           }
          ],
          "surface": [
           {
            "colorbar": {
             "outlinewidth": 0,
             "ticks": ""
            },
            "colorscale": [
             [
              0,
              "#0d0887"
             ],
             [
              0.1111111111111111,
              "#46039f"
             ],
             [
              0.2222222222222222,
              "#7201a8"
             ],
             [
              0.3333333333333333,
              "#9c179e"
             ],
             [
              0.4444444444444444,
              "#bd3786"
             ],
             [
              0.5555555555555556,
              "#d8576b"
             ],
             [
              0.6666666666666666,
              "#ed7953"
             ],
             [
              0.7777777777777778,
              "#fb9f3a"
             ],
             [
              0.8888888888888888,
              "#fdca26"
             ],
             [
              1,
              "#f0f921"
             ]
            ],
            "type": "surface"
           }
          ],
          "table": [
           {
            "cells": {
             "fill": {
              "color": "#EBF0F8"
             },
             "line": {
              "color": "white"
             }
            },
            "header": {
             "fill": {
              "color": "#C8D4E3"
             },
             "line": {
              "color": "white"
             }
            },
            "type": "table"
           }
          ]
         },
         "layout": {
          "annotationdefaults": {
           "arrowcolor": "#2a3f5f",
           "arrowhead": 0,
           "arrowwidth": 1
          },
          "autotypenumbers": "strict",
          "coloraxis": {
           "colorbar": {
            "outlinewidth": 0,
            "ticks": ""
           }
          },
          "colorscale": {
           "diverging": [
            [
             0,
             "#8e0152"
            ],
            [
             0.1,
             "#c51b7d"
            ],
            [
             0.2,
             "#de77ae"
            ],
            [
             0.3,
             "#f1b6da"
            ],
            [
             0.4,
             "#fde0ef"
            ],
            [
             0.5,
             "#f7f7f7"
            ],
            [
             0.6,
             "#e6f5d0"
            ],
            [
             0.7,
             "#b8e186"
            ],
            [
             0.8,
             "#7fbc41"
            ],
            [
             0.9,
             "#4d9221"
            ],
            [
             1,
             "#276419"
            ]
           ],
           "sequential": [
            [
             0,
             "#0d0887"
            ],
            [
             0.1111111111111111,
             "#46039f"
            ],
            [
             0.2222222222222222,
             "#7201a8"
            ],
            [
             0.3333333333333333,
             "#9c179e"
            ],
            [
             0.4444444444444444,
             "#bd3786"
            ],
            [
             0.5555555555555556,
             "#d8576b"
            ],
            [
             0.6666666666666666,
             "#ed7953"
            ],
            [
             0.7777777777777778,
             "#fb9f3a"
            ],
            [
             0.8888888888888888,
             "#fdca26"
            ],
            [
             1,
             "#f0f921"
            ]
           ],
           "sequentialminus": [
            [
             0,
             "#0d0887"
            ],
            [
             0.1111111111111111,
             "#46039f"
            ],
            [
             0.2222222222222222,
             "#7201a8"
            ],
            [
             0.3333333333333333,
             "#9c179e"
            ],
            [
             0.4444444444444444,
             "#bd3786"
            ],
            [
             0.5555555555555556,
             "#d8576b"
            ],
            [
             0.6666666666666666,
             "#ed7953"
            ],
            [
             0.7777777777777778,
             "#fb9f3a"
            ],
            [
             0.8888888888888888,
             "#fdca26"
            ],
            [
             1,
             "#f0f921"
            ]
           ]
          },
          "colorway": [
           "#636efa",
           "#EF553B",
           "#00cc96",
           "#ab63fa",
           "#FFA15A",
           "#19d3f3",
           "#FF6692",
           "#B6E880",
           "#FF97FF",
           "#FECB52"
          ],
          "font": {
           "color": "#2a3f5f"
          },
          "geo": {
           "bgcolor": "white",
           "lakecolor": "white",
           "landcolor": "#E5ECF6",
           "showlakes": true,
           "showland": true,
           "subunitcolor": "white"
          },
          "hoverlabel": {
           "align": "left"
          },
          "hovermode": "closest",
          "mapbox": {
           "style": "light"
          },
          "paper_bgcolor": "white",
          "plot_bgcolor": "#E5ECF6",
          "polar": {
           "angularaxis": {
            "gridcolor": "white",
            "linecolor": "white",
            "ticks": ""
           },
           "bgcolor": "#E5ECF6",
           "radialaxis": {
            "gridcolor": "white",
            "linecolor": "white",
            "ticks": ""
           }
          },
          "scene": {
           "xaxis": {
            "backgroundcolor": "#E5ECF6",
            "gridcolor": "white",
            "gridwidth": 2,
            "linecolor": "white",
            "showbackground": true,
            "ticks": "",
            "zerolinecolor": "white"
           },
           "yaxis": {
            "backgroundcolor": "#E5ECF6",
            "gridcolor": "white",
            "gridwidth": 2,
            "linecolor": "white",
            "showbackground": true,
            "ticks": "",
            "zerolinecolor": "white"
           },
           "zaxis": {
            "backgroundcolor": "#E5ECF6",
            "gridcolor": "white",
            "gridwidth": 2,
            "linecolor": "white",
            "showbackground": true,
            "ticks": "",
            "zerolinecolor": "white"
           }
          },
          "shapedefaults": {
           "line": {
            "color": "#2a3f5f"
           }
          },
          "ternary": {
           "aaxis": {
            "gridcolor": "white",
            "linecolor": "white",
            "ticks": ""
           },
           "baxis": {
            "gridcolor": "white",
            "linecolor": "white",
            "ticks": ""
           },
           "bgcolor": "#E5ECF6",
           "caxis": {
            "gridcolor": "white",
            "linecolor": "white",
            "ticks": ""
           }
          },
          "title": {
           "x": 0.05
          },
          "xaxis": {
           "automargin": true,
           "gridcolor": "white",
           "linecolor": "white",
           "ticks": "",
           "title": {
            "standoff": 15
           },
           "zerolinecolor": "white",
           "zerolinewidth": 2
          },
          "yaxis": {
           "automargin": true,
           "gridcolor": "white",
           "linecolor": "white",
           "ticks": "",
           "title": {
            "standoff": 15
           },
           "zerolinecolor": "white",
           "zerolinewidth": 2
          }
         }
        },
        "xaxis": {
         "anchor": "y",
         "autorange": true,
         "domain": [
          0,
          1
         ],
         "range": [
          0,
          1000
         ],
         "title": {
          "text": "x"
         },
         "type": "linear"
        },
        "yaxis": {
         "anchor": "x",
         "autorange": true,
         "domain": [
          0,
          1
         ],
         "range": [
          -0.05488703591759578,
          1.062268846911297
         ],
         "title": {
          "text": "y"
         },
         "type": "linear"
        }
       }
      },
      "image/png": "[encoded data removed]",
      "text/html": [
       "<div>                            <div id=\"a005341d-4e2c-4571-890b-aa708edf027c\" class=\"plotly-graph-div\" style=\"height:525px; width:100%;\"></div>            <script type=\"text/javascript\">                require([\"plotly\"], function(Plotly) {                    window.PLOTLYENV=window.PLOTLYENV || {};                                    if (document.getElementById(\"a005341d-4e2c-4571-890b-aa708edf027c\")) {                    Plotly.newPlot(                        \"a005341d-4e2c-4571-890b-aa708edf027c\",                        [{\"hovertemplate\":\"x=%{x}<br>y=%{y}<extra></extra>\",\"legendgroup\":\"\",\"line\":{\"color\":\"#636efa\",\"dash\":\"solid\"},\"marker\":{\"symbol\":\"circle\"},\"mode\":\"lines\",\"name\":\"\",\"showlegend\":false,\"x\":[0,1,2,3,4,5,6,7,8,9,10,11,12,13,14,15,16,17,18,19,20,21,22,23,24,25,26,27,28,29,30,31,32,33,34,35,36,37,38,39,40,41,42,43,44,45,46,47,48,49,50,51,52,53,54,55,56,57,58,59,60,61,62,63,64,65,66,67,68,69,70,71,72,73,74,75,76,77,78,79,80,81,82,83,84,85,86,87,88,89,90,91,92,93,94,95,96,97,98,99,100,101,102,103,104,105,106,107,108,109,110,111,112,113,114,115,116,117,118,119,120,121,122,123,124,125,126,127,128,129,130,131,132,133,134,135,136,137,138,139,140,141,142,143,144,145,146,147,148,149,150,151,152,153,154,155,156,157,158,159,160,161,162,163,164,165,166,167,168,169,170,171,172,173,174,175,176,177,178,179,180,181,182,183,184,185,186,187,188,189,190,191,192,193,194,195,196,197,198,199,200,201,202,203,204,205,206,207,208,209,210,211,212,213,214,215,216,217,218,219,220,221,222,223,224,225,226,227,228,229,230,231,232,233,234,235,236,237,238,239,240,241,242,243,244,245,246,247,248,249,250,251,252,253,254,255,256,257,258,259,260,261,262,263,264,265,266,267,268,269,270,271,272,273,274,275,276,277,278,279,280,281,282,283,284,285,286,287,288,289,290,291,292,293,294,295,296,297,298,299,300,301,302,303,304,305,306,307,308,309,310,311,312,313,314,315,316,317,318,319,320,321,322,323,324,325,326,327,328,329,330,331,332,333,334,335,336,337,338,339,340,341,342,343,344,345,346,347,348,349,350,351,352,353,354,355,356,357,358,359,360,361,362,363,364,365,366,367,368,369,370,371,372,373,374,375,376,377,378,379,380,381,382,383,384,385,386,387,388,389,390,391,392,393,394,395,396,397,398,399,400,401,402,403,404,405,406,407,408,409,410,411,412,413,414,415,416,417,418,419,420,421,422,423,424,425,426,427,428,429,430,431,432,433,434,435,436,437,438,439,440,441,442,443,444,445,446,447,448,449,450,451,452,453,454,455,456,457,458,459,460,461,462,463,464,465,466,467,468,469,470,471,472,473,474,475,476,477,478,479,480,481,482,483,484,485,486,487,488,489,490,491,492,493,494,495,496,497,498,499,500,501,502,503,504,505,506,507,508,509,510,511,512,513,514,515,516,517,518,519,520,521,522,523,524,525,526,527,528,529,530,531,532,533,534,535,536,537,538,539,540,541,542,543,544,545,546,547,548,549,550,551,552,553,554,555,556,557,558,559,560,561,562,563,564,565,566,567,568,569,570,571,572,573,574,575,576,577,578,579,580,581,582,583,584,585,586,587,588,589,590,591,592,593,594,595,596,597,598,599,600,601,602,603,604,605,606,607,608,609,610,611,612,613,614,615,616,617,618,619,620,621,622,623,624,625,626,627,628,629,630,631,632,633,634,635,636,637,638,639,640,641,642,643,644,645,646,647,648,649,650,651,652,653,654,655,656,657,658,659,660,661,662,663,664,665,666,667,668,669,670,671,672,673,674,675,676,677,678,679,680,681,682,683,684,685,686,687,688,689,690,691,692,693,694,695,696,697,698,699,700,701,702,703,704,705,706,707,708,709,710,711,712,713,714,715,716,717,718,719,720,721,722,723,724,725,726,727,728,729,730,731,732,733,734,735,736,737,738,739,740,741,742,743,744,745,746,747,748,749,750,751,752,753,754,755,756,757,758,759,760,761,762,763,764,765,766,767,768,769,770,771,772,773,774,775,776,777,778,779,780,781,782,783,784,785,786,787,788,789,790,791,792,793,794,795,796,797,798,799,800,801,802,803,804,805,806,807,808,809,810,811,812,813,814,815,816,817,818,819,820,821,822,823,824,825,826,827,828,829,830,831,832,833,834,835,836,837,838,839,840,841,842,843,844,845,846,847,848,849,850,851,852,853,854,855,856,857,858,859,860,861,862,863,864,865,866,867,868,869,870,871,872,873,874,875,876,877,878,879,880,881,882,883,884,885,886,887,888,889,890,891,892,893,894,895,896,897,898,899,900,901,902,903,904,905,906,907,908,909,910,911,912,913,914,915,916,917,918,919,920,921,922,923,924,925,926,927,928,929,930,931,932,933,934,935,936,937,938,939,940,941,942,943,944,945,946,947,948,949,950,951,952,953,954,955,956,957,958,959,960,961,962,963,964,965,966,967,968,969,970,971,972,973,974,975,976,977,978,979,980,981,982,983,984,985,986,987,988,989,990,991,992,993,994,995,996,997,998,999,1000],\"xaxis\":\"x\",\"y\":[1.0064110527698524,0.492480405214426,0.34041225133927283,0.2590452761097952,0.20702410487980788,0.17047547826073908,0.1485624483778775,0.12947240424962328,0.11646909427828572,0.10388194309736959,0.09215868311682725,0.08648751011877562,0.07858036561511915,0.07422028127498025,0.06911691393101581,0.06460622188967689,0.05986098065068753,0.056250031385681555,0.053381204013740906,0.050611345100993875,0.048473294197075203,0.04636559300968049,0.045179431325622244,0.042905867928254106,0.04098718842733564,0.03938183597917304,0.03855442346587843,0.037568610740434806,0.03664419062484381,0.0354709826246537,0.034551313957751406,0.03308653525123046,0.03229622084270769,0.031640874516695006,0.030621811853886606,0.02943928138528132,0.028396908148125854,0.027141394906501463,0.02605448850000787,0.025136068185006584,0.02484318867880951,0.024431744112070396,0.02362293730365262,0.023048660124969467,0.022384794244300267,0.021947270020815406,0.021499050484250673,0.02082451558458685,0.02028778902976703,0.019950224663189544,0.01950969513209676,0.01914276606867897,0.018817538627306573,0.01847175706237993,0.01785938647605292,0.017796592314182375,0.017499499682696897,0.017043854429310855,0.01675323765085982,0.016460367338610993,0.01616353153147887,0.01582993110056164,0.015478611046254339,0.015129970277837865,0.01463797866902866,0.014319127475881972,0.014189283929126955,0.013919863454296064,0.01361423536303398,0.013536782491659361,0.013532971870821366,0.013443609655885631,0.013258242036044513,0.013058399501959748,0.012897330651512533,0.012584929073698575,0.01242218264086664,0.012282621082805676,0.012189358195789507,0.012020839135525164,0.01178306013446945,0.011560702826059453,0.011477463518717666,0.011318402016697484,0.011178982480006183,0.010987884676289372,0.010857168877883638,0.01068821169573001,0.010699037500475076,0.010474485915881526,0.010387256196666132,0.010423367735331233,0.010428084607737366,0.010236616941044534,0.010027297840574781,0.009944117088929238,0.009783349019987076,0.009686944042591057,0.009694918900026675,0.009513237622278905,0.009444353236244162,0.009372283995846407,0.009329749837202968,0.009136110680802818,0.009087946032712492,0.008953104194040705,0.008845629349174046,0.008793222854611232,0.008740014048913615,0.00875169371660861,0.00870854242213269,0.0086550041489073,0.008531555935272153,0.008427202060932405,0.008372412378239455,0.00819247238864932,0.00804878196468917,0.008010395886833634,0.007889907810638652,0.007811688585835459,0.007747860645484354,0.007704225169523816,0.007582411977806017,0.007566777439179423,0.007477433020547901,0.00746865192952904,0.007427224452563501,0.007408320496668201,0.007371497943575202,0.007337559084601405,0.007212600397566583,0.0071874514111578995,0.007162605785372792,0.007085814210513462,0.007002870472890669,0.006979784672746307,0.006980432391218007,0.006938062739611661,0.006821120696641955,0.006724518351265346,0.00670011290929476,0.006655339615173506,0.0066390181790732215,0.006573180644808834,0.006524973471371128,0.0065020883018294265,0.0064655967017853404,0.006419993708075509,0.006353420459844642,0.006292507037506328,0.006238612024732801,0.006178965996220659,0.0061656827698454465,0.006138653077687198,0.006110627985870481,0.006115205737023271,0.006038930566101475,0.0060246252503598965,0.005993356799117367,0.005937018946102298,0.005912428517341576,0.005839486132695403,0.005792240930552574,0.005750117868841983,0.0056794403597183575,0.005669914562250951,0.0056380354292272054,0.0056138659193042005,0.005540852252484846,0.005540440788344714,0.005496922828955577,0.005433127538832972,0.0053962605462922085,0.00535811800378433,0.005317531455183712,0.0052705924214617485,0.005227038607911158,0.0052185154539806326,0.005183171690173078,0.005133510129006494,0.005105116620640533,0.005077429016193978,0.005090019806705073,0.005048282272852335,0.0050218271561892494,0.004975325757002053,0.00494940727074197,0.004926699226373515,0.004892020531268961,0.004889765312713428,0.004850960724920005,0.004813051463856696,0.0047891986125698826,0.004775213197188163,0.00473649839462394,0.004698844606493259,0.0046673051466994886,0.004642571008498346,0.004615894712915431,0.004579964542267496,0.004583320347049083,0.004544143920140491,0.004496101000067817,0.004452756119081912,0.004400764887866361,0.004354213024687436,0.004347308064730652,0.004298329878570356,0.004321118782600591,0.004292155904582666,0.004262411268255436,0.0042462802805271075,0.004214878942888823,0.004177423090881518,0.00414692781479039,0.0041612538951625545,0.004143956834160805,0.004126002020520923,0.0041086447068384045,0.004102924720818586,0.004083129365558718,0.004048669754324268,0.004041079180337941,0.004033491073128562,0.00402515670411839,0.0039777095470389275,0.003958009370678671,0.003940415017797105,0.003941705555347015,0.003924812363759112,0.003917278509808376,0.0038935249335097814,0.0039019564151524873,0.0038605005615335434,0.0038351024356808273,0.0038468466764332698,0.003823379095045842,0.003804053527634149,0.003786521454447985,0.003769537714116792,0.003760331672239407,0.0037516038884822427,0.003726904427827856,0.003722857010362685,0.0037110593987122807,0.0036812435095990516,0.003671721620031625,0.0036365065586462784,0.0036298790407239584,0.0035885210571919373,0.0035847402768983882,0.003581574219705539,0.003545597348798827,0.0035475919495074073,0.003552979485643615,0.0035444218768330127,0.0035105290319860385,0.003492167762295314,0.003491374115678651,0.0034957211871779635,0.0034909834294564695,0.0035228314332335048,0.0035285116115214535,0.0035313193710557553,0.003496456934179404,0.003474212902390668,0.003444108930360961,0.00343774799184445,0.003428218192428524,0.003422921918960073,0.0034144946121598936,0.0034061482382899944,0.0033808213914513674,0.0033658416925977696,0.00334207896470755,0.0033389494402828687,0.003321305653257259,0.0033286214195886177,0.0033251681405839276,0.0033335475338699405,0.0033290725507419032,0.003342834547347941,0.0033523110296759823,0.0033306646555752357,0.003324967095384402,0.003324355963143029,0.0033114109577867543,0.0032950864652301452,0.003286424640715457,0.0032651067120596754,0.0032626476330384325,0.0032542773514834086,0.003240619451304665,0.003228704707865202,0.003215322829026073,0.003205563205885195,0.00316654076904228,0.00315723671571937,0.0031600649334905698,0.0031516512459428955,0.0031348883037743062,0.003141785675172904,0.0031208685551088956,0.003099797334769856,0.003099527106858275,0.003098586469639668,0.003066552269687561,0.0030445916789457895,0.0030332369280481834,0.0030188097016355534,0.0029964349022133722,0.0029919425842844915,0.0029797791431803804,0.0029801589304360764,0.0029962665930803292,0.0029870831288993202,0.0029680774976682265,0.0029401346658782307,0.002928913245436472,0.0028988726181779327,0.0028840780883528576,0.0028818031149419198,0.0028752511095252687,0.0028580971543501273,0.002850305053562366,0.0028204998742949643,0.0027973994777850393,0.002805777847296714,0.0028036192112578717,0.0027873762879374476,0.00278269768731847,0.0027861858357452296,0.0027721545637038364,0.002784942155417779,0.002780649906630172,0.002771834937006128,0.0027605819603613705,0.0027554392052751347,0.002738919077031314,0.0027470664712542434,0.002735186217060407,0.00273661706963528,0.002722236255203985,0.0027238292787608483,0.0027165029929759393,0.0027218658641521916,0.002704060889287659,0.002700774083610786,0.0026814906699062515,0.002689302207049634,0.0026802448878145988,0.002682280078033494,0.002670062045146607,0.0026624501687861142,0.0026554429290143134,0.002643689331596513,0.0026429503302394857,0.0026439872680525424,0.0026368901786700404,0.0026351805505707465,0.002633178955362858,0.0026230229024565414,0.0026117767668799464,0.0026130588595269072,0.0026061936641469377,0.0025907387211805263,0.0025863170682339943,0.0025696828064213167,0.0025527028041800208,0.0025401611114954144,0.0025512036091146673,0.002522897968670509,0.002519205330704894,0.0025178386364018133,0.0025141677765256757,0.002514684527160917,0.002508929279862239,0.0025053031861172067,0.002486677054450672,0.002478450299890777,0.0024794510279645943,0.002485622775101504,0.0024727172861519434,0.0024610733240777657,0.0024462886037448428,0.002452597650199982,0.0024473047066473318,0.0024449113170660094,0.0024441302762653718,0.0024490123403118572,0.002444182974606191,0.0024449086996584375,0.002433298771032241,0.002423529006044279,0.0024219109291150794,0.0024265694862818776,0.0024250443636678227,0.0024223503294765357,0.0024177805071372224,0.0024044821145988477,0.002402510122714228,0.0024020110853712204,0.0024082276954036004,0.002399633200323532,0.0023994129919700934,0.002395031574854858,0.0023928758438660873,0.0023792110940763444,0.0023709205129963497,0.002375763634765654,0.002369194250627534,0.002359753068543761,0.0023446310785543586,0.0023309396500207718,0.0023401606761448237,0.0023383791402968018,0.00234097647066886,0.0023378179252930347,0.0023226342967800663,0.0023285700726587044,0.002315115779291737,0.0023124952224206664,0.0023023951399776454,0.0022922355742153364,0.0022788618626762456,0.0022728432602170064,0.002247407568918824,0.002243769546856617,0.002244540873835322,0.0022522745143423637,0.002251843080500473,0.0022531483647741813,0.0022486465913816116,0.002249992918809369,0.002248931314964146,0.002243524513215871,0.0022424078564367085,0.0022317201086412925,0.0022197234298940898,0.0022137545121186713,0.0022040875531244898,0.0022066662554313626,0.0022144506032570704,0.0022037178943826695,0.002199228259578341,0.0021976305057226373,0.002186937147378838,0.0021796681633431915,0.0021773058022136085,0.0021771987286435222,0.0021775753793888135,0.002169647681220519,0.002171097799080794,0.002155878186053822,0.002160492706059187,0.002152862890309622,0.0021460052178514538,0.002135709988809752,0.00213337637740084,0.002125757688831244,0.0021279157562704753,0.0021240953343739364,0.002121393920701308,0.0021143080912729684,0.002116484772433906,0.0021124959580879144,0.0021044351566737746,0.002102271022129211,0.002108147309364462,0.0021000428490553515,0.0020971761769737695,0.002099015205260318,0.0021043594973388156,0.002092516717598021,0.0020854648621603956,0.0020766118947290763,0.002069499643407794,0.0020675618236596525,0.0020731588330871764,0.0020630810018776747,0.0020613162611010827,0.002060125829487742,0.0020522010900526503,0.002054271524671393,0.0020430640152770832,0.0020450278084137435,0.002035904653041094,0.0020314912944126903,0.002029312792060425,0.0020153287547056715,0.002008180950496586,0.001999130394776454,0.0019820170291213923,0.001974259736862471,0.001964674128674382,0.0019536754133547677,0.0019445866042609448,0.0019440683195775543,0.0019500888093018272,0.0019339557383865062,0.001941293511413017,0.0019462448253505641,0.001939326658577433,0.001930029816545073,0.0019338488900564404,0.001924336799388175,0.0019137213558819135,0.0019055510983323042,0.0018979994129651638,0.0018956725680208198,0.0018880316568945362,0.0018823571576616698,0.0018840189549707987,0.0018896089349736552,0.0018763460739400553,0.0018747761586489027,0.0018718136830432424,0.0018723451466210264,0.0018739664495585257,0.0018755333836570935,0.0018697437889623849,0.0018596775508712875,0.0018630447897175497,0.0018525238159033544,0.0018402915672643635,0.0018397626098025813,0.0018382139730357464,0.0018429194711234718,0.0018381951403594167,0.0018282863120100976,0.0018276017916057628,0.0018220767794011055,0.001823125521196647,0.0018277332385312121,0.0018293556726256227,0.001828194668548686,0.001817741280936379,0.0018204033703124061,0.0018228834241186555,0.001823643639848014,0.001822308217281757,0.0018210524073236263,0.0018119769945457284,0.0018033888609734123,0.001799594443953769,0.0017904464432748348,0.0017875913916155152,0.0017808817933235663,0.0017759019118534385,0.0017722269696809412,0.001766246710466776,0.0017626791527593196,0.0017579942572416782,0.0017692922248890093,0.0017685906906570973,0.0017660366445412991,0.0017608693122906608,0.0017577083191170626,0.0017511331453344936,0.0017566093677320912,0.0017507889948752576,0.0017461640652513123,0.0017412453992373025,0.0017385278457769657,0.0017443248274805051,0.0017390105639124222,0.0017433695984926524,0.0017408592854704903,0.0017357163891187153,0.0017359518950193303,0.0017383035967400784,0.0017335260081259558,0.0017351380259351841,0.0017423635729450675,0.0017383276833753659,0.0017325311325152386,0.0017274474040923703,0.0017200531853911705,0.0017179428238156872,0.001720598570914979,0.0017139117607696342,0.0017081448339532847,0.0017068463705349967,0.001712155166620202,0.0017039835031326309,0.001705074853431667,0.001702231704036266,0.0017005749321429401,0.0016967238557892767,0.001697676506579665,0.0016999326553126825,0.0016925660608076913,0.0016822354620797829,0.0016787720748409883,0.001678624910477444,0.0016809493507772503,0.001678184229239091,0.0016761768056124226,0.0016768237632646423,0.0016636439296802113,0.001659157735059015,0.0016644843870431132,0.0016564654373121424,0.0016604848483579816,0.0016614291285149043,0.0016537966668265177,0.0016534560094747424,0.0016521326447179294,0.0016487797861486563,0.001645169442525418,0.0016475950279792348,0.001639141314571852,0.0016342594724073122,0.001628686480374488,0.0016255098752485841,0.001633677840591325,0.0016271818145409376,0.0016239727672402843,0.0016260319053243476,0.0016218683946169147,0.0016223322422361795,0.0016217146403386415,0.001612925239213421,0.0016217371093307105,0.0016203118255467704,0.0016079727938094794,0.0016072797593364328,0.001602190759399856,0.0015954830326024964,0.001598285378289957,0.001594032378967939,0.0015922107460115866,0.0015953596293199173,0.0015931348680874758,0.0015920412421389718,0.001588163314427681,0.001582245879434642,0.001587083878658965,0.001581642524961228,0.0015822851586995423,0.0015852744743368574,0.0015834521349304604,0.0015829372080519036,0.0015801163198867184,0.0015700132103292138,0.0015674602976423397,0.0015644305112015784,0.0015589123864116383,0.0015551962685652362,0.0015558485914122211,0.0015453406096627722,0.0015436687345333775,0.0015408595904773269,0.0015425705258341235,0.0015450925622884984,0.0015446251112259967,0.001543079351177138,0.0015389457287307202,0.0015349324753830035,0.0015262583423171136,0.0015211552481204438,0.0015265058949193561,0.0015167735662763241,0.0015153600328712074,0.0015145558785314955,0.0015146570603586903,0.001516578932754852,0.0015136557412142408,0.0015105775459634493,0.0015090813926551478,0.0015014503062153127,0.001497708790107327,0.0014977254697405384,0.0014876960347430775,0.001487533326198388,0.0014790647156239136,0.001475674072598246,0.0014719752684233924,0.001467083947980991,0.001462810787516693,0.0014549182756663323,0.0014598963176053017,0.001458931142326159,0.0014600169406477595,0.0014608469804085534,0.0014566317701631213,0.0014541311170817102,0.001444129157565133,0.0014474411699565187,0.0014459092639958022,0.0014486361307828116,0.0014436064278483952,0.0014405086032785663,0.0014442728180000962,0.0014411265844363264,0.0014408387720093198,0.0014401296193228663,0.0014364476507906325,0.001440890677303965,0.0014376654865715756,0.0014318051057249537,0.0014262555671192448,0.0014273645084311132,0.0014247463579510663,0.0014210756742330534,0.0014210505528258368,0.0014208158680255787,0.0014131308581765564,0.0014124287605484292,0.0014086572537141925,0.0014107682825955968,0.0014045067311697877,0.001399814379774655,0.0013996557688972268,0.00139476234993019,0.0013952478248684297,0.0013915388450792118,0.0013899842311391353,0.0013869149807699465,0.0013849516112288515,0.0013901101637403416,0.001393256343450066,0.0013889988774420437,0.0013837107197730597,0.001379220012063887,0.0013758988768443564,0.0013759620166193893,0.0013755078433204985,0.0013771285030632324,0.0013763547336451544,0.0013712337350806454,0.001372564665403305,0.0013752614129881218,0.0013710374101096627,0.00137456607107,0.0013718924882609802,0.0013699412277476386,0.0013713557699710386,0.0013680831815799392,0.001360347977130298,0.0013622700381173579,0.0013623671326506621,0.0013659283257400603,0.001358961944346984,0.0013564025828584618,0.0013547405398033532,0.001357597651160803,0.0013574754267893752,0.0013576697430748952,0.0013562636705075027,0.0013570646189415394,0.0013543427951770509,0.0013530107037638963,0.0013494309603335364,0.0013497685935166606,0.0013462181871904215,0.0013377797833431548,0.0013344915020633554,0.001336818900418413,0.0013399991139728062,0.0013347765363498952,0.0013334526171451737,0.001333932551556341,0.0013333048613198733,0.0013372566611905754,0.0013352648510223692,0.0013325024319105394,0.0013323504546875811,0.001333591773051671,0.0013293729195049543,0.0013302488558160892,0.0013283092310354314,0.001326077450663358,0.0013226789846363606,0.001323517935167826,0.0013217688551475986,0.001318186354456369,0.0013196461844068022,0.0013146509052159709,0.001309456140882983,0.0013082683663074915,0.0013117237832749541,0.001311315515904902,0.0013156751353220833,0.001308361911532481,0.0013059539904095622,0.0013031072705552134,0.0012976624862767623,0.0012929145711668743,0.001291531034687122,0.0012914568418954163,0.0012890983525546097,0.0012896636449759638,0.0012921740668709579,0.0012901491276271243,0.0012890015920813266,0.001282083945030804,0.0012815912689634688,0.0012795582835304334,0.001281962455291115,0.00127781807072989,0.0012748000201388402,0.0012735054717912218,0.0012705609149568607,0.001270026683535404,0.001269466823721786,0.0012657662944614398,0.001261496658031855,0.001256941951108844,0.0012531668693234884,0.0012506691897769444,0.0012541479906167641,0.001253086920926627,0.0012528777127110318,0.0012509834190168603,0.001250550208493102,0.001250060107969914,0.0012463697490008323,0.0012435647665563865,0.0012425884179101496,0.0012408878552698076,0.00123736504151899,0.0012331404356974902,0.0012265022320269965,0.0012283405537690077,0.001224516402711493,0.0012188179584666397,0.00121623429362279,0.0012151412016443099,0.0012137943779565031,0.0012143210845163182,0.0012137248194104915,0.001211231222381593,0.001207900380407143,0.001206257094601094,0.0011969488877037649,0.0011920752149942111,0.0011919956989286259,0.0011868550336872458,0.0011849448382190327,0.0011803371081184056,0.0011832040674101105,0.0011750764217568269,0.001174277975581146,0.001171275629545547,0.0011705795798260734,0.0011686098424888369,0.0011681853421287216,0.0011690981094674166,0.0011686027631035577,0.0011665751878030142,0.001164734701845225,0.0011635498085111687,0.0011598998919276507,0.0011605765428782126,0.0011586235836957362,0.0011564772836406404,0.001157439153133658,0.0011544035495840376,0.0011601688341931133,0.0011567811654712348,0.001155576229886992,0.0011538689354001772,0.001150354760915114,0.0011486246969319028,0.001149846050336054,0.001150089781324803,0.0011474331070219133,0.001147238140782319,0.0011439009671367433,0.0011394947933222278,0.001136022765283377,0.001135649482622753,0.0011378109997933808,0.0011409646966891666,0.0011403606756107154,0.001136328717263912,0.0011335001934322097,0.0011288369035097924,0.0011282391193341752,0.0011267458970213534,0.001123885187588915,0.001125584878271379,0.001128221039680296,0.001125074841736608,0.0011204135615748914,0.0011195865392007787,0.0011129952668179884,0.0011165205722211825,0.0011174559425982259,0.0011139492115514896,0.0011137540734324704,0.0011087617503400527,0.0011098375948977782,0.0011108480371541697,0.0011082811032480315,0.0011087610634425967,0.0011052234766392337,0.0011024089180544986,0.0010979397494691914,0.001096379881733435,0.0010954191185046965,0.0010987100505915192,0.001097136780071756,0.0010979222015508258,0.0010983980565078438,0.0010944640733487406,0.0010915905152166568,0.0010919189650579622,0.001091568072278307,0.0010915692200607256,0.0010895864106929573,0.001088467390473048,0.0010896282055046604,0.0010884784904779197,0.0010900066817334216,0.0010871921779200956,0.0010854803771098778,0.0010823673294501294,0.0010783386674986337,0.0010761178437203372,0.0010759110546756355,0.0010759694165334073,0.0010764456958072394,0.0010737849877616604,0.001072180021249149,0.0010662146623722868,0.0010602182658717282,0.0010559538640621926,0.0010526078048132817,0.0010533130416423972,0.0010504369005280827,0.0010493236820413767,0.001047218456987956,0.0010471537168482508,0.001048153609412454,0.0010479379933821785,0.0010472107499167533,0.0010462579046855121,0.0010441219109528265,0.0010426867226333177,0.0010413383910448791,0.001042448414986162,0.001044365190181621,0.0010400257891892666,0.0010423909335408985,0.0010412652457979126,0.0010379084062064044,0.0010411893407197737,0.0010426097684060685,0.0010395921201638949,0.0010406670560083567,0.0010399563796104339,0.0010414033794448859,0.0010412690227346207,0.0010367705727480818,0.0010393934366301535,0.0010371160090717764,0.0010366034081482614,0.0010347360175149204,0.0010316535843945221,0.0010290257312765875,0.001026424100882863,0.0010238503886154506,0.0010207995492339137,0.0010183092036280528,0.0010195121503411436,0.0010179150364831378,0.0010180182129687814,0.0010171709646530633,0.0010145378426320382,0.0010159193219091123,0.0010144454268615074,0.0010116979888493978,0.0010111120323105722,0.001009021887773883,0.0010049625139528057,0.0010021543308041685,0.0010038993031056657,0.00100298024324396,0.0010031725829759783,0.0010009580885323168,0.0009968982567511702,0.0009940298723769623,0.0009890278901392474,0.0009861122248385242,0.0009841789324683478,0.0009830933872165101,0.000981076011012727,0.0009810297894145518,0.0009765101651273027,0.0009783063333166605,0.0009773773853678609,0.0009771635856988408,0.000979602798936686,0.0009788239728206775,0.0009822043833788098,0.0009793680583981953,0.0009756866531519499,0.0009765070324163499,0.0009707582238488588],\"yaxis\":\"y\",\"type\":\"scattergl\"}],                        {\"template\":{\"data\":{\"histogram2dcontour\":[{\"type\":\"histogram2dcontour\",\"colorbar\":{\"outlinewidth\":0,\"ticks\":\"\"},\"colorscale\":[[0.0,\"#0d0887\"],[0.1111111111111111,\"#46039f\"],[0.2222222222222222,\"#7201a8\"],[0.3333333333333333,\"#9c179e\"],[0.4444444444444444,\"#bd3786\"],[0.5555555555555556,\"#d8576b\"],[0.6666666666666666,\"#ed7953\"],[0.7777777777777778,\"#fb9f3a\"],[0.8888888888888888,\"#fdca26\"],[1.0,\"#f0f921\"]]}],\"choropleth\":[{\"type\":\"choropleth\",\"colorbar\":{\"outlinewidth\":0,\"ticks\":\"\"}}],\"histogram2d\":[{\"type\":\"histogram2d\",\"colorbar\":{\"outlinewidth\":0,\"ticks\":\"\"},\"colorscale\":[[0.0,\"#0d0887\"],[0.1111111111111111,\"#46039f\"],[0.2222222222222222,\"#7201a8\"],[0.3333333333333333,\"#9c179e\"],[0.4444444444444444,\"#bd3786\"],[0.5555555555555556,\"#d8576b\"],[0.6666666666666666,\"#ed7953\"],[0.7777777777777778,\"#fb9f3a\"],[0.8888888888888888,\"#fdca26\"],[1.0,\"#f0f921\"]]}],\"heatmap\":[{\"type\":\"heatmap\",\"colorbar\":{\"outlinewidth\":0,\"ticks\":\"\"},\"colorscale\":[[0.0,\"#0d0887\"],[0.1111111111111111,\"#46039f\"],[0.2222222222222222,\"#7201a8\"],[0.3333333333333333,\"#9c179e\"],[0.4444444444444444,\"#bd3786\"],[0.5555555555555556,\"#d8576b\"],[0.6666666666666666,\"#ed7953\"],[0.7777777777777778,\"#fb9f3a\"],[0.8888888888888888,\"#fdca26\"],[1.0,\"#f0f921\"]]}],\"heatmapgl\":[{\"type\":\"heatmapgl\",\"colorbar\":{\"outlinewidth\":0,\"ticks\":\"\"},\"colorscale\":[[0.0,\"#0d0887\"],[0.1111111111111111,\"#46039f\"],[0.2222222222222222,\"#7201a8\"],[0.3333333333333333,\"#9c179e\"],[0.4444444444444444,\"#bd3786\"],[0.5555555555555556,\"#d8576b\"],[0.6666666666666666,\"#ed7953\"],[0.7777777777777778,\"#fb9f3a\"],[0.8888888888888888,\"#fdca26\"],[1.0,\"#f0f921\"]]}],\"contourcarpet\":[{\"type\":\"contourcarpet\",\"colorbar\":{\"outlinewidth\":0,\"ticks\":\"\"}}],\"contour\":[{\"type\":\"contour\",\"colorbar\":{\"outlinewidth\":0,\"ticks\":\"\"},\"colorscale\":[[0.0,\"#0d0887\"],[0.1111111111111111,\"#46039f\"],[0.2222222222222222,\"#7201a8\"],[0.3333333333333333,\"#9c179e\"],[0.4444444444444444,\"#bd3786\"],[0.5555555555555556,\"#d8576b\"],[0.6666666666666666,\"#ed7953\"],[0.7777777777777778,\"#fb9f3a\"],[0.8888888888888888,\"#fdca26\"],[1.0,\"#f0f921\"]]}],\"surface\":[{\"type\":\"surface\",\"colorbar\":{\"outlinewidth\":0,\"ticks\":\"\"},\"colorscale\":[[0.0,\"#0d0887\"],[0.1111111111111111,\"#46039f\"],[0.2222222222222222,\"#7201a8\"],[0.3333333333333333,\"#9c179e\"],[0.4444444444444444,\"#bd3786\"],[0.5555555555555556,\"#d8576b\"],[0.6666666666666666,\"#ed7953\"],[0.7777777777777778,\"#fb9f3a\"],[0.8888888888888888,\"#fdca26\"],[1.0,\"#f0f921\"]]}],\"mesh3d\":[{\"type\":\"mesh3d\",\"colorbar\":{\"outlinewidth\":0,\"ticks\":\"\"}}],\"scatter\":[{\"fillpattern\":{\"fillmode\":\"overlay\",\"size\":10,\"solidity\":0.2},\"type\":\"scatter\"}],\"parcoords\":[{\"type\":\"parcoords\",\"line\":{\"colorbar\":{\"outlinewidth\":0,\"ticks\":\"\"}}}],\"scatterpolargl\":[{\"type\":\"scatterpolargl\",\"marker\":{\"colorbar\":{\"outlinewidth\":0,\"ticks\":\"\"}}}],\"bar\":[{\"error_x\":{\"color\":\"#2a3f5f\"},\"error_y\":{\"color\":\"#2a3f5f\"},\"marker\":{\"line\":{\"color\":\"#E5ECF6\",\"width\":0.5},\"pattern\":{\"fillmode\":\"overlay\",\"size\":10,\"solidity\":0.2}},\"type\":\"bar\"}],\"scattergeo\":[{\"type\":\"scattergeo\",\"marker\":{\"colorbar\":{\"outlinewidth\":0,\"ticks\":\"\"}}}],\"scatterpolar\":[{\"type\":\"scatterpolar\",\"marker\":{\"colorbar\":{\"outlinewidth\":0,\"ticks\":\"\"}}}],\"histogram\":[{\"marker\":{\"pattern\":{\"fillmode\":\"overlay\",\"size\":10,\"solidity\":0.2}},\"type\":\"histogram\"}],\"scattergl\":[{\"type\":\"scattergl\",\"marker\":{\"colorbar\":{\"outlinewidth\":0,\"ticks\":\"\"}}}],\"scatter3d\":[{\"type\":\"scatter3d\",\"line\":{\"colorbar\":{\"outlinewidth\":0,\"ticks\":\"\"}},\"marker\":{\"colorbar\":{\"outlinewidth\":0,\"ticks\":\"\"}}}],\"scattermapbox\":[{\"type\":\"scattermapbox\",\"marker\":{\"colorbar\":{\"outlinewidth\":0,\"ticks\":\"\"}}}],\"scatterternary\":[{\"type\":\"scatterternary\",\"marker\":{\"colorbar\":{\"outlinewidth\":0,\"ticks\":\"\"}}}],\"scattercarpet\":[{\"type\":\"scattercarpet\",\"marker\":{\"colorbar\":{\"outlinewidth\":0,\"ticks\":\"\"}}}],\"carpet\":[{\"aaxis\":{\"endlinecolor\":\"#2a3f5f\",\"gridcolor\":\"white\",\"linecolor\":\"white\",\"minorgridcolor\":\"white\",\"startlinecolor\":\"#2a3f5f\"},\"baxis\":{\"endlinecolor\":\"#2a3f5f\",\"gridcolor\":\"white\",\"linecolor\":\"white\",\"minorgridcolor\":\"white\",\"startlinecolor\":\"#2a3f5f\"},\"type\":\"carpet\"}],\"table\":[{\"cells\":{\"fill\":{\"color\":\"#EBF0F8\"},\"line\":{\"color\":\"white\"}},\"header\":{\"fill\":{\"color\":\"#C8D4E3\"},\"line\":{\"color\":\"white\"}},\"type\":\"table\"}],\"barpolar\":[{\"marker\":{\"line\":{\"color\":\"#E5ECF6\",\"width\":0.5},\"pattern\":{\"fillmode\":\"overlay\",\"size\":10,\"solidity\":0.2}},\"type\":\"barpolar\"}],\"pie\":[{\"automargin\":true,\"type\":\"pie\"}]},\"layout\":{\"autotypenumbers\":\"strict\",\"colorway\":[\"#636efa\",\"#EF553B\",\"#00cc96\",\"#ab63fa\",\"#FFA15A\",\"#19d3f3\",\"#FF6692\",\"#B6E880\",\"#FF97FF\",\"#FECB52\"],\"font\":{\"color\":\"#2a3f5f\"},\"hovermode\":\"closest\",\"hoverlabel\":{\"align\":\"left\"},\"paper_bgcolor\":\"white\",\"plot_bgcolor\":\"#E5ECF6\",\"polar\":{\"bgcolor\":\"#E5ECF6\",\"angularaxis\":{\"gridcolor\":\"white\",\"linecolor\":\"white\",\"ticks\":\"\"},\"radialaxis\":{\"gridcolor\":\"white\",\"linecolor\":\"white\",\"ticks\":\"\"}},\"ternary\":{\"bgcolor\":\"#E5ECF6\",\"aaxis\":{\"gridcolor\":\"white\",\"linecolor\":\"white\",\"ticks\":\"\"},\"baxis\":{\"gridcolor\":\"white\",\"linecolor\":\"white\",\"ticks\":\"\"},\"caxis\":{\"gridcolor\":\"white\",\"linecolor\":\"white\",\"ticks\":\"\"}},\"coloraxis\":{\"colorbar\":{\"outlinewidth\":0,\"ticks\":\"\"}},\"colorscale\":{\"sequential\":[[0.0,\"#0d0887\"],[0.1111111111111111,\"#46039f\"],[0.2222222222222222,\"#7201a8\"],[0.3333333333333333,\"#9c179e\"],[0.4444444444444444,\"#bd3786\"],[0.5555555555555556,\"#d8576b\"],[0.6666666666666666,\"#ed7953\"],[0.7777777777777778,\"#fb9f3a\"],[0.8888888888888888,\"#fdca26\"],[1.0,\"#f0f921\"]],\"sequentialminus\":[[0.0,\"#0d0887\"],[0.1111111111111111,\"#46039f\"],[0.2222222222222222,\"#7201a8\"],[0.3333333333333333,\"#9c179e\"],[0.4444444444444444,\"#bd3786\"],[0.5555555555555556,\"#d8576b\"],[0.6666666666666666,\"#ed7953\"],[0.7777777777777778,\"#fb9f3a\"],[0.8888888888888888,\"#fdca26\"],[1.0,\"#f0f921\"]],\"diverging\":[[0,\"#8e0152\"],[0.1,\"#c51b7d\"],[0.2,\"#de77ae\"],[0.3,\"#f1b6da\"],[0.4,\"#fde0ef\"],[0.5,\"#f7f7f7\"],[0.6,\"#e6f5d0\"],[0.7,\"#b8e186\"],[0.8,\"#7fbc41\"],[0.9,\"#4d9221\"],[1,\"#276419\"]]},\"xaxis\":{\"gridcolor\":\"white\",\"linecolor\":\"white\",\"ticks\":\"\",\"title\":{\"standoff\":15},\"zerolinecolor\":\"white\",\"automargin\":true,\"zerolinewidth\":2},\"yaxis\":{\"gridcolor\":\"white\",\"linecolor\":\"white\",\"ticks\":\"\",\"title\":{\"standoff\":15},\"zerolinecolor\":\"white\",\"automargin\":true,\"zerolinewidth\":2},\"scene\":{\"xaxis\":{\"backgroundcolor\":\"#E5ECF6\",\"gridcolor\":\"white\",\"linecolor\":\"white\",\"showbackground\":true,\"ticks\":\"\",\"zerolinecolor\":\"white\",\"gridwidth\":2},\"yaxis\":{\"backgroundcolor\":\"#E5ECF6\",\"gridcolor\":\"white\",\"linecolor\":\"white\",\"showbackground\":true,\"ticks\":\"\",\"zerolinecolor\":\"white\",\"gridwidth\":2},\"zaxis\":{\"backgroundcolor\":\"#E5ECF6\",\"gridcolor\":\"white\",\"linecolor\":\"white\",\"showbackground\":true,\"ticks\":\"\",\"zerolinecolor\":\"white\",\"gridwidth\":2}},\"shapedefaults\":{\"line\":{\"color\":\"#2a3f5f\"}},\"annotationdefaults\":{\"arrowcolor\":\"#2a3f5f\",\"arrowhead\":0,\"arrowwidth\":1},\"geo\":{\"bgcolor\":\"white\",\"landcolor\":\"#E5ECF6\",\"subunitcolor\":\"white\",\"showland\":true,\"showlakes\":true,\"lakecolor\":\"white\"},\"title\":{\"x\":0.05},\"mapbox\":{\"style\":\"light\"}}},\"xaxis\":{\"anchor\":\"y\",\"domain\":[0.0,1.0],\"title\":{\"text\":\"x\"}},\"yaxis\":{\"anchor\":\"x\",\"domain\":[0.0,1.0],\"title\":{\"text\":\"y\"}},\"legend\":{\"tracegroupgap\":0},\"margin\":{\"t\":60}},                        {\"responsive\": true}                    ).then(function(){\n",
       "                            \n",
       "var gd = document.getElementById('a005341d-4e2c-4571-890b-aa708edf027c');\n",
       "var x = new MutationObserver(function (mutations, observer) {{\n",
       "        var display = window.getComputedStyle(gd).display;\n",
       "        if (!display || display === 'none') {{\n",
       "            console.log([gd, 'removed!']);\n",
       "            Plotly.purge(gd);\n",
       "            observer.disconnect();\n",
       "        }}\n",
       "}});\n",
       "\n",
       "// Listen for the removal of the full notebook cells\n",
       "var notebookContainer = gd.closest('#notebook-container');\n",
       "if (notebookContainer) {{\n",
       "    x.observe(notebookContainer, {childList: true});\n",
       "}}\n",
       "\n",
       "// Listen for the clearing of the current output cell\n",
       "var outputEl = gd.closest('.output');\n",
       "if (outputEl) {{\n",
       "    x.observe(outputEl, {childList: true});\n",
       "}}\n",
       "\n",
       "                        })                };                });            </script>        </div>"
      ]
     },
     "metadata": {},
     "output_type": "display_data"
    }
   ],
   "source": [
    "data_average = np.array([average(10, 1, 1000) for _ in range(1000)])\n",
    "ex.line(x=range(1001), y=data_average.var(axis=0))"
   ]
  },
  {
   "cell_type": "code",
   "execution_count": 73,
   "id": "b0f1ffb3-3cdf-4487-a17a-edb7a2d2988f",
   "metadata": {},
   "outputs": [
    {
     "data": {
      "application/vnd.plotly.v1+json": {
       "config": {
        "plotlyServerURL": "https://plot.ly"
       },
       "data": [
        {
         "hovertemplate": "x=%{x}<br>y=%{y}<extra></extra>",
         "legendgroup": "",
         "line": {
          "color": "#636efa",
          "dash": "solid"
         },
         "marker": {
          "symbol": "circle"
         },
         "mode": "lines",
         "name": "",
         "showlegend": false,
         "type": "scattergl",
         "x": [
          0,
          1,
          2,
          3,
          4,
          5,
          6,
          7,
          8,
          9,
          10,
          11,
          12,
          13,
          14,
          15,
          16,
          17,
          18,
          19,
          20,
          21,
          22,
          23,
          24,
          25,
          26,
          27,
          28,
          29,
          30,
          31,
          32,
          33,
          34,
          35,
          36,
          37,
          38,
          39,
          40,
          41,
          42,
          43,
          44,
          45,
          46,
          47,
          48,
          49,
          50,
          51,
          52,
          53,
          54,
          55,
          56,
          57,
          58,
          59,
          60,
          61,
          62,
          63,
          64,
          65,
          66,
          67,
          68,
          69,
          70,
          71,
          72,
          73,
          74,
          75,
          76,
          77,
          78,
          79,
          80,
          81,
          82,
          83,
          84,
          85,
          86,
          87,
          88,
          89,
          90,
          91,
          92,
          93,
          94,
          95,
          96,
          97,
          98,
          99,
          100,
          101,
          102,
          103,
          104,
          105,
          106,
          107,
          108,
          109,
          110,
          111,
          112,
          113,
          114,
          115,
          116,
          117,
          118,
          119,
          120,
          121,
          122,
          123,
          124,
          125,
          126,
          127,
          128,
          129,
          130,
          131,
          132,
          133,
          134,
          135,
          136,
          137,
          138,
          139,
          140,
          141,
          142,
          143,
          144,
          145,
          146,
          147,
          148,
          149,
          150,
          151,
          152,
          153,
          154,
          155,
          156,
          157,
          158,
          159,
          160,
          161,
          162,
          163,
          164,
          165,
          166,
          167,
          168,
          169,
          170,
          171,
          172,
          173,
          174,
          175,
          176,
          177,
          178,
          179,
          180,
          181,
          182,
          183,
          184,
          185,
          186,
          187,
          188,
          189,
          190,
          191,
          192,
          193,
          194,
          195,
          196,
          197,
          198,
          199,
          200,
          201,
          202,
          203,
          204,
          205,
          206,
          207,
          208,
          209,
          210,
          211,
          212,
          213,
          214,
          215,
          216,
          217,
          218,
          219,
          220,
          221,
          222,
          223,
          224,
          225,
          226,
          227,
          228,
          229,
          230,
          231,
          232,
          233,
          234,
          235,
          236,
          237,
          238,
          239,
          240,
          241,
          242,
          243,
          244,
          245,
          246,
          247,
          248,
          249,
          250,
          251,
          252,
          253,
          254,
          255,
          256,
          257,
          258,
          259,
          260,
          261,
          262,
          263,
          264,
          265,
          266,
          267,
          268,
          269,
          270,
          271,
          272,
          273,
          274,
          275,
          276,
          277,
          278,
          279,
          280,
          281,
          282,
          283,
          284,
          285,
          286,
          287,
          288,
          289,
          290,
          291,
          292,
          293,
          294,
          295,
          296,
          297,
          298,
          299,
          300,
          301,
          302,
          303,
          304,
          305,
          306,
          307,
          308,
          309,
          310,
          311,
          312,
          313,
          314,
          315,
          316,
          317,
          318,
          319,
          320,
          321,
          322,
          323,
          324,
          325,
          326,
          327,
          328,
          329,
          330,
          331,
          332,
          333,
          334,
          335,
          336,
          337,
          338,
          339,
          340,
          341,
          342,
          343,
          344,
          345,
          346,
          347,
          348,
          349,
          350,
          351,
          352,
          353,
          354,
          355,
          356,
          357,
          358,
          359,
          360,
          361,
          362,
          363,
          364,
          365,
          366,
          367,
          368,
          369,
          370,
          371,
          372,
          373,
          374,
          375,
          376,
          377,
          378,
          379,
          380,
          381,
          382,
          383,
          384,
          385,
          386,
          387,
          388,
          389,
          390,
          391,
          392,
          393,
          394,
          395,
          396,
          397,
          398,
          399,
          400,
          401,
          402,
          403,
          404,
          405,
          406,
          407,
          408,
          409,
          410,
          411,
          412,
          413,
          414,
          415,
          416,
          417,
          418,
          419,
          420,
          421,
          422,
          423,
          424,
          425,
          426,
          427,
          428,
          429,
          430,
          431,
          432,
          433,
          434,
          435,
          436,
          437,
          438,
          439,
          440,
          441,
          442,
          443,
          444,
          445,
          446,
          447,
          448,
          449,
          450,
          451,
          452,
          453,
          454,
          455,
          456,
          457,
          458,
          459,
          460,
          461,
          462,
          463,
          464,
          465,
          466,
          467,
          468,
          469,
          470,
          471,
          472,
          473,
          474,
          475,
          476,
          477,
          478,
          479,
          480,
          481,
          482,
          483,
          484,
          485,
          486,
          487,
          488,
          489,
          490,
          491,
          492,
          493,
          494,
          495,
          496,
          497,
          498,
          499,
          500,
          501,
          502,
          503,
          504,
          505,
          506,
          507,
          508,
          509,
          510,
          511,
          512,
          513,
          514,
          515,
          516,
          517,
          518,
          519,
          520,
          521,
          522,
          523,
          524,
          525,
          526,
          527,
          528,
          529,
          530,
          531,
          532,
          533,
          534,
          535,
          536,
          537,
          538,
          539,
          540,
          541,
          542,
          543,
          544,
          545,
          546,
          547,
          548,
          549,
          550,
          551,
          552,
          553,
          554,
          555,
          556,
          557,
          558,
          559,
          560,
          561,
          562,
          563,
          564,
          565,
          566,
          567,
          568,
          569,
          570,
          571,
          572,
          573,
          574,
          575,
          576,
          577,
          578,
          579,
          580,
          581,
          582,
          583,
          584,
          585,
          586,
          587,
          588,
          589,
          590,
          591,
          592,
          593,
          594,
          595,
          596,
          597,
          598,
          599,
          600,
          601,
          602,
          603,
          604,
          605,
          606,
          607,
          608,
          609,
          610,
          611,
          612,
          613,
          614,
          615,
          616,
          617,
          618,
          619,
          620,
          621,
          622,
          623,
          624,
          625,
          626,
          627,
          628,
          629,
          630,
          631,
          632,
          633,
          634,
          635,
          636,
          637,
          638,
          639,
          640,
          641,
          642,
          643,
          644,
          645,
          646,
          647,
          648,
          649,
          650,
          651,
          652,
          653,
          654,
          655,
          656,
          657,
          658,
          659,
          660,
          661,
          662,
          663,
          664,
          665,
          666,
          667,
          668,
          669,
          670,
          671,
          672,
          673,
          674,
          675,
          676,
          677,
          678,
          679,
          680,
          681,
          682,
          683,
          684,
          685,
          686,
          687,
          688,
          689,
          690,
          691,
          692,
          693,
          694,
          695,
          696,
          697,
          698,
          699,
          700,
          701,
          702,
          703,
          704,
          705,
          706,
          707,
          708,
          709,
          710,
          711,
          712,
          713,
          714,
          715,
          716,
          717,
          718,
          719,
          720,
          721,
          722,
          723,
          724,
          725,
          726,
          727,
          728,
          729,
          730,
          731,
          732,
          733,
          734,
          735,
          736,
          737,
          738,
          739,
          740,
          741,
          742,
          743,
          744,
          745,
          746,
          747,
          748,
          749,
          750,
          751,
          752,
          753,
          754,
          755,
          756,
          757,
          758,
          759,
          760,
          761,
          762,
          763,
          764,
          765,
          766,
          767,
          768,
          769,
          770,
          771,
          772,
          773,
          774,
          775,
          776,
          777,
          778,
          779,
          780,
          781,
          782,
          783,
          784,
          785,
          786,
          787,
          788,
          789,
          790,
          791,
          792,
          793,
          794,
          795,
          796,
          797,
          798,
          799,
          800,
          801,
          802,
          803,
          804,
          805,
          806,
          807,
          808,
          809,
          810,
          811,
          812,
          813,
          814,
          815,
          816,
          817,
          818,
          819,
          820,
          821,
          822,
          823,
          824,
          825,
          826,
          827,
          828,
          829,
          830,
          831,
          832,
          833,
          834,
          835,
          836,
          837,
          838,
          839,
          840,
          841,
          842,
          843,
          844,
          845,
          846,
          847,
          848,
          849,
          850,
          851,
          852,
          853,
          854,
          855,
          856,
          857,
          858,
          859,
          860,
          861,
          862,
          863,
          864,
          865,
          866,
          867,
          868,
          869,
          870,
          871,
          872,
          873,
          874,
          875,
          876,
          877,
          878,
          879,
          880,
          881,
          882,
          883,
          884,
          885,
          886,
          887,
          888,
          889,
          890,
          891,
          892,
          893,
          894,
          895,
          896,
          897,
          898,
          899,
          900,
          901,
          902,
          903,
          904,
          905,
          906,
          907,
          908,
          909,
          910,
          911,
          912,
          913,
          914,
          915,
          916,
          917,
          918,
          919,
          920,
          921,
          922,
          923,
          924,
          925,
          926,
          927,
          928,
          929,
          930,
          931,
          932,
          933,
          934,
          935,
          936,
          937,
          938,
          939,
          940,
          941,
          942,
          943,
          944,
          945,
          946,
          947,
          948,
          949,
          950,
          951,
          952,
          953,
          954,
          955,
          956,
          957,
          958,
          959,
          960,
          961,
          962,
          963,
          964,
          965,
          966,
          967,
          968,
          969,
          970,
          971,
          972,
          973,
          974,
          975,
          976,
          977,
          978,
          979,
          980,
          981,
          982,
          983,
          984,
          985,
          986,
          987,
          988,
          989,
          990,
          991,
          992,
          993,
          994,
          995,
          996,
          997,
          998,
          999,
          1000
         ],
         "xaxis": "x",
         "y": [
          0.016982028194536536,
          0.00790014788206489,
          -0.004124825024436618,
          -0.001336001780835705,
          0.0050274289930707095,
          0.004684527495774887,
          -0.0037923650963734012,
          0.00010854784143943252,
          0.0007122671086711302,
          -0.0002554698560230523,
          0.003290243604015433,
          -0.0007035033433683141,
          -7.69470112326337e-05,
          -0.001527866152938373,
          -0.0006901345658527486,
          -0.0006232307286913319,
          -0.00021579873840546493,
          -0.0013485535267857424,
          -0.001056318698033784,
          0.0003566418358304582,
          0.00034360024421897783,
          0.00012571640591298172,
          -0.0010786183667465393,
          -0.0006429432685272699,
          -0.00018727199058438115,
          -0.0009263449471760068,
          -0.0022302954462530417,
          -0.0022245350940769335,
          -0.0024912541432533103,
          -0.0021600462429036266,
          -0.0023491645675944653,
          -0.0018813181741005533,
          -0.0017586100071621084,
          -0.0020383587499192453,
          -0.001979077907541909,
          -0.0018264820360502781,
          -0.0013065726304227546,
          -0.0014245147202012337,
          -0.0007807396165691212,
          -0.0001913233055278185,
          -0.0004769434515194161,
          -0.0005207896271923647,
          -0.00018340502247266022,
          -0.00013905718959129898,
          5.8848827057089714e-05,
          0.00015722663294997358,
          0.00043699390398967836,
          0.0008041044543510324,
          0.000740943769818897,
          0.0007662188263929288,
          0.0009774835004223888,
          0.0008802078170965129,
          0.0007688130141090994,
          0.0006841902813745915,
          0.001089367254649587,
          0.0007435905644414507,
          0.0006239689447020795,
          0.0006804462443110865,
          0.0006126822242430406,
          0.00045490889780143776,
          0.0006946668417348277,
          0.0005804323437055142,
          0.0005776995041826914,
          0.0006924256986260788,
          0.0009255828670261274,
          0.0009700658905562338,
          0.0007348173176975666,
          0.0005525601864470268,
          0.0005663431721654091,
          0.0005311922358682535,
          0.00034655824413295545,
          0.00021496559911059372,
          0.00019239116080850723,
          0.00019906426954984305,
          3.913359722246268e-05,
          0.00020560842537902836,
          0.0001675864638262664,
          0.00016136986128206451,
          4.4407637395776564e-05,
          0.00012902936692776867,
          0.0001601630795853605,
          0.0002618845800183931,
          0.00025852354449310173,
          0.00028705616230124097,
          0.00022165548742101443,
          0.00016901445815926432,
          0.00018168854651277704,
          0.00015112919033770725,
          8.82408666665821e-05,
          0.00017628805173246567,
          0.00019360239799031016,
          0.00012651934561638128,
          -1.0327120255754219e-05,
          0.00013708623607633884,
          0.00023387870038762276,
          0.00032194388928868944,
          0.0003530201228083823,
          0.00042365061354756803,
          0.00028211947470068756,
          0.0003329257436942793,
          0.00017233033323039125,
          0.00022662138639066576,
          0.00016483578958285602,
          0.000342077895043421,
          0.00029247682280648946,
          0.00033721557274917456,
          0.00033015248952524175,
          0.0002850794880401436,
          0.0003313244580110293,
          0.00027603613721310233,
          0.00024668295078215767,
          0.0001861591023831436,
          0.0002504035747899671,
          0.00022765335873961394,
          0.00016718132563502304,
          0.00020606046825992486,
          0.0002944762606198973,
          0.00034680857508110306,
          0.0003339074358719614,
          0.0003561757171316078,
          0.00025733930932258023,
          0.00023798960224369944,
          0.00031436428382045425,
          0.0002047957814386766,
          0.00019080603941640933,
          0.0001619690418646763,
          0.00017092414679060336,
          0.00016964664935739063,
          0.00021600101614578909,
          0.0001739853649660797,
          0.0001975060186759194,
          0.0002663355662786259,
          0.00023001268894034133,
          0.00022791844623391063,
          0.00025161148372344205,
          0.00019987585095721568,
          0.0001010046721977003,
          0.0001539815739109102,
          0.00020426609432880674,
          0.0002390604081724491,
          0.0002411471815003726,
          0.0002133439045150518,
          0.0001054480689038793,
          0.00015603927935500198,
          0.00016359616686557974,
          0.00014835377817393625,
          0.0001511956013494015,
          9.679801558632947e-05,
          9.23276453492312e-05,
          8.567507162285382e-05,
          9.316286969175344e-05,
          0.00012708415938300893,
          0.0001214021344529189,
          6.456734741923202e-05,
          9.926887335868963e-05,
          9.51232716137956e-05,
          0.00022352614536586858,
          0.00016373279025671747,
          0.00010182335868977668,
          0.0001589664481970749,
          0.00014005203615051563,
          0.0001871761764585438,
          0.0002481090375103844,
          0.00024148722876271393,
          0.0002809727780491017,
          0.00024884206398655736,
          0.0002401840774364089,
          0.00017266153515871872,
          0.0002678824178997431,
          0.00023907582042813433,
          0.00020227017224694332,
          0.00023608372595333976,
          0.00026825530183565826,
          0.0002797260482901654,
          0.00023117880523463967,
          0.00028379064158892946,
          0.0002728517076913987,
          0.00025329304273598655,
          0.0002698514622779145,
          0.0003017467804199347,
          0.000317091008533295,
          0.0003128315487039273,
          0.00026851337485145604,
          0.00027285032050404154,
          0.00028269434307042363,
          0.0002975190866351578,
          0.0002769971703994239,
          0.00026524886056106516,
          0.00026325609671597975,
          0.0002549232856892689,
          0.0002713914119606975,
          0.0003359711135668955,
          0.0003175387004097337,
          0.00033683500538813846,
          0.00033588920530540443,
          0.0003794504602504904,
          0.00037379319912375555,
          0.0003890531223616307,
          0.0003882915555574219,
          0.0003647089196267524,
          0.0003677625649968503,
          0.00034355964207889635,
          0.0003615217737038632,
          0.0003389709037261114,
          0.00035892906249666845,
          0.00037069185332566125,
          0.0003427755350812892,
          0.00040198996876098913,
          0.00034039283244539226,
          0.00033658913317306284,
          0.0003350677517942194,
          0.00035297619501234966,
          0.0003653822564814533,
          0.00037530482531967276,
          0.00037593036210538215,
          0.0003278109462530798,
          0.0003324126832444114,
          0.0003065104209497606,
          0.0003025515237163913,
          0.00029643044003646764,
          0.00029926324785603097,
          0.00032295124461191854,
          0.0003299755689712717,
          0.0003202081480459477,
          0.000304633635459294,
          0.0003574932399244262,
          0.0003488800247427228,
          0.0002960996515944288,
          0.0002780424337239622,
          0.00029030014730727517,
          0.00024202555529165542,
          0.0002620351170489095,
          0.00021191229813266816,
          0.0002239080345719656,
          0.0002441398117900371,
          0.0002128584179864933,
          0.00023821847584707626,
          0.00023210176643750653,
          0.0002502019387296251,
          0.0002839849051598851,
          0.0002738584124356031,
          0.00026971748322038996,
          0.00029519086629211516,
          0.0002634052581397036,
          0.0002762043430156783,
          0.0003415615799116458,
          0.00031333525749861323,
          0.0003423506090046648,
          0.00034719726743678543,
          0.0003827865506825577,
          0.00040227916240330626,
          0.0004044278425576692,
          0.00043659649492510093,
          0.0004340249582853741,
          0.0004133645208234879,
          0.00039846408432430694,
          0.00040245415258333443,
          0.0003784342293770525,
          0.00040535093490503757,
          0.0004025886066957745,
          0.00040783909091208614,
          0.00034819800816435426,
          0.0003290126825560534,
          0.0003201352128713842,
          0.0003588752475088314,
          0.0003826915076223028,
          0.0003795082795009534,
          0.0003562572421105634,
          0.000353865390032087,
          0.00033833415877251383,
          0.00031706707843515754,
          0.00030942412626596425,
          0.00032902352739828293,
          0.0003244495475543904,
          0.0003411139258498604,
          0.00032671101311187783,
          0.00033446455888728457,
          0.0002851188676395327,
          0.00027089809119421136,
          0.00024658914409139135,
          0.00023977997295175505,
          0.0001785406808301822,
          0.0001445366844614127,
          0.0001259415832090289,
          0.00012900898931698457,
          0.00012017871442542146,
          0.0001262439192011109,
          0.000134458423921758,
          0.0001481593342330858,
          0.00014663592138933895,
          0.00014154287243467846,
          0.00014411431782048552,
          0.00012370586387149647,
          0.00011884799407933192,
          0.00012343913022531527,
          0.00012200239420719376,
          0.00013838693732369772,
          0.00013268709162512961,
          0.00012174164873632581,
          0.0001280988974046767,
          0.00014171624408225404,
          0.00013201117737200122,
          0.00012508305957737798,
          0.00012632343541524793,
          0.0001271381031965487,
          0.00010574829112355291,
          0.00012383528319063726,
          0.0001528118056290744,
          0.00014488259164158884,
          0.00014402994683659865,
          0.00015430055008302688,
          0.00017123370335250408,
          0.00017066272569586736,
          0.00017624141640953115,
          0.00013811568914947258,
          0.0001355307194842669,
          0.00013313195301968821,
          0.00015471086702232824,
          0.0001427980222369926,
          0.00014499176864330538,
          0.0001673214002248422,
          0.00015458840101802195,
          0.0001504017846821284,
          0.00016258498126698164,
          0.00017492577235771797,
          0.0001812912512428027,
          0.00019419968040243398,
          0.00017880331114010582,
          0.0001677906917761686,
          0.0001759472197220592,
          0.00016714771620741442,
          0.00014505436718150909,
          0.00014730388292477593,
          0.00011831586268924244,
          0.0001095028786136736,
          0.00011792649884792821,
          0.0001331686358285165,
          0.00012530847478732466,
          0.00013231550212594936,
          0.00011737241408360521,
          0.00012767489003922064,
          0.00010498809547193058,
          8.918973869087706e-05,
          7.709788966917897e-05,
          7.097298676823991e-05,
          5.438957984837392e-05,
          7.575090043753646e-05,
          7.092323429750335e-05,
          9.568412078915772e-05,
          7.127852784361574e-05,
          6.765277436077913e-05,
          5.3912654865638857e-05,
          6.189175982613529e-05,
          5.839785114591586e-05,
          4.457839773642624e-05,
          5.296884490074965e-05,
          4.168241702958786e-05,
          4.691429120712645e-05,
          6.86049681946424e-05,
          5.371328115193067e-05,
          4.2456265333896525e-05,
          4.954344390907745e-05,
          5.086679790626894e-05,
          4.232462369743468e-05,
          4.870603701571984e-05,
          4.50226485215967e-05,
          5.7219405085608566e-05,
          4.643486830598585e-05,
          5.763476665617733e-05,
          5.734135532128783e-05,
          3.292652800720086e-05,
          5.7254966185001435e-05,
          4.651491182761569e-05,
          4.0676519391939087e-05,
          3.05267306372186e-05,
          2.1732643777259367e-05,
          1.9626232074125994e-05,
          1.4119299413497405e-05,
          2.9125841372644803e-05,
          2.22596592477399e-05,
          2.9223352064016925e-05,
          7.055665504789033e-06,
          1.7208925974531754e-06,
          -1.3251571479790288e-06,
          2.2157279143419396e-06,
          -3.311085770325503e-06,
          -1.8147272168160013e-05,
          -2.1304581468387963e-05,
          -1.9409076204726736e-05,
          -2.7991645229502853e-05,
          -2.9362247464334405e-05,
          -4.0298866347708226e-05,
          -4.624920218408582e-05,
          -3.931155617901364e-05,
          -4.418073845044966e-05,
          -5.654732104807929e-05,
          -6.920895148062505e-05,
          -6.43632947712647e-05,
          -7.770281483688787e-05,
          -7.340933300058281e-05,
          -7.526649398113556e-05,
          -8.705654314205159e-05,
          -8.142239269143953e-05,
          -6.897208292239772e-05,
          -7.821402759727565e-05,
          -7.35942428072428e-05,
          -8.603593680417193e-05,
          -6.813835057435007e-05,
          -5.643597900899461e-05,
          -5.148148591706649e-05,
          -5.3309903823966706e-05,
          -4.709222729463525e-05,
          -3.7439922564566196e-05,
          -3.058530521795949e-05,
          -3.913030227925248e-05,
          -3.629593223637966e-05,
          -4.458349225413671e-05,
          -5.404513637471487e-05,
          -4.305549505071544e-05,
          -5.073802998547096e-05,
          -3.114488866462527e-05,
          -4.4469474004373184e-05,
          -3.5518402071728784e-05,
          -3.162458934790691e-05,
          -2.8691677410034276e-05,
          -2.8803886368143367e-05,
          -6.8893609196703925e-06,
          -1.0631520737556036e-05,
          -1.020531172614544e-05,
          -3.6007788648243725e-05,
          -3.4713575028838366e-05,
          -4.262465347841353e-05,
          -4.567786749310647e-05,
          -5.9556093379213755e-05,
          -6.111125717912823e-05,
          -5.001549856314784e-05,
          -5.382613772058221e-05,
          -5.209598529223999e-05,
          -5.605839141073574e-05,
          -5.3712526177221616e-05,
          -6.485263656165431e-05,
          -6.91979403409748e-05,
          -8.736267445166824e-05,
          -8.392078904186301e-05,
          -8.584342838433923e-05,
          -9.880703533313205e-05,
          -9.390391661305911e-05,
          -9.389944002255717e-05,
          -0.00010120609216336326,
          -0.00010309290299796063,
          -0.00010760199576345577,
          -9.338711107338867e-05,
          -0.00010079418894167868,
          -8.944784335507879e-05,
          -0.00010906484956411553,
          -9.9836917823773e-05,
          -9.122540091639547e-05,
          -8.513154446529317e-05,
          -7.901021207597442e-05,
          -6.702220418264597e-05,
          -8.283898759482277e-05,
          -8.719952856840654e-05,
          -8.632670713406166e-05,
          -8.243805071493117e-05,
          -7.818890934302566e-05,
          -8.510663205012594e-05,
          -7.495944625609142e-05,
          -8.096510416695426e-05,
          -9.769364025673678e-05,
          -8.82361564289026e-05,
          -9.050121672747559e-05,
          -0.00011678771027155092,
          -0.0001277936177610916,
          -0.0001201971738002479,
          -0.00012530674456354357,
          -0.00012111012558061818,
          -0.00012523671415911155,
          -0.00011925887667618793,
          -0.0001293713797000987,
          -0.00012568910848673848,
          -0.00013212014014570505,
          -0.0001387969883874349,
          -0.00013503076535796143,
          -0.00014063862018893407,
          -0.00012536499429115612,
          -0.0001410246616416436,
          -0.0001337968245061754,
          -0.0001288965894114863,
          -0.00013720646007547768,
          -0.00011581451751981986,
          -0.00010985967471274023,
          -0.00010360058239959982,
          -8.830295349573783e-05,
          -8.429692443432638e-05,
          -7.76820793424208e-05,
          -6.500409311233101e-05,
          -5.911263305021365e-05,
          -6.151343309317636e-05,
          -6.491170200601751e-05,
          -5.379636562289811e-05,
          -7.142167590335749e-05,
          -7.041838898466657e-05,
          -6.67418778079543e-05,
          -5.566506817749673e-05,
          -7.00329738991803e-05,
          -6.455060560823915e-05,
          -5.9715209043785435e-05,
          -4.8231790937704145e-05,
          -4.750932168834398e-05,
          -4.533224078181021e-05,
          -4.613127806605351e-05,
          -5.2128746464784326e-05,
          -4.675530596360438e-05,
          -5.754514579624031e-05,
          -5.525937524062307e-05,
          -5.531773478020157e-05,
          -5.279004063239853e-05,
          -5.6067108981243874e-05,
          -5.59267646236311e-05,
          -5.955764652444619e-05,
          -5.6146704614255154e-05,
          -5.0125037806261416e-05,
          -4.534565145764371e-05,
          -3.538068914440539e-05,
          -2.7730065711064527e-05,
          -3.3466762979430945e-05,
          -2.300316572141853e-05,
          -3.4080706029888984e-05,
          -2.9734015875117637e-05,
          -2.6331361462407195e-05,
          -3.2822427960955795e-05,
          -2.9747150988368833e-05,
          -3.370656776587738e-05,
          -4.396348785151759e-05,
          -3.59962439939244e-05,
          -3.630636499724407e-05,
          -3.591227218090534e-05,
          -4.089165266180214e-05,
          -4.76388686346794e-05,
          -5.481654842978906e-05,
          -4.523844815544826e-05,
          -3.137637257307618e-05,
          -1.5541606671453734e-05,
          -8.947757338464112e-06,
          -1.2687455624114117e-05,
          -1.3750152633805858e-05,
          -1.6520819455584238e-05,
          -1.67818871986082e-05,
          -1.747952870659363e-05,
          -1.4649143063925982e-05,
          -1.3757011287886083e-05,
          -1.890666783157212e-05,
          -1.7218382037915893e-05,
          -3.572536607023263e-05,
          -3.39961644340431e-05,
          -3.920494216092039e-05,
          -3.590991038084383e-05,
          -4.1800856780190455e-05,
          -3.881748475380916e-05,
          -4.98419087345697e-05,
          -4.7031493370714404e-05,
          -4.492820360884361e-05,
          -5.069814865943617e-05,
          -5.3864705700959296e-05,
          -6.83319052631956e-05,
          -7.081038496482882e-05,
          -7.580630198417604e-05,
          -7.060516488963347e-05,
          -6.893491854762087e-05,
          -7.068110568270083e-05,
          -7.240455935085869e-05,
          -7.286982349969176e-05,
          -8.421070515443954e-05,
          -9.558108424042666e-05,
          -9.592296524423938e-05,
          -9.665322849947882e-05,
          -9.413805819137805e-05,
          -9.77722953492818e-05,
          -0.00010222041925703846,
          -0.00011042406783200241,
          -0.00010342994194229905,
          -0.00010163903601522893,
          -0.00010739363307078168,
          -0.0001145233180914172,
          -0.0001044562276766082,
          -0.0001050836079187433,
          -0.00010027958356487177,
          -0.00010010065075024351,
          -9.94616741914697e-05,
          -0.00010098324142682907,
          -0.00010418914938661612,
          -0.00010469839270324998,
          -9.486105156961719e-05,
          -9.518880612253153e-05,
          -0.00010258201993731779,
          -0.0001091379231050202,
          -0.00011161450559321715,
          -0.00011312618108711152,
          -0.00010761035995025597,
          -0.00010244041422092934,
          -9.59910780217628e-05,
          -9.81936915335985e-05,
          -8.831883821231313e-05,
          -9.531024475405983e-05,
          -9.470923225511304e-05,
          -9.719424983201607e-05,
          -9.431709969735759e-05,
          -9.177198239553996e-05,
          -9.033549353557589e-05,
          -8.372174879830714e-05,
          -9.054128513107042e-05,
          -8.948582497576266e-05,
          -8.40047918596674e-05,
          -8.27939847728549e-05,
          -8.405766385672568e-05,
          -0.00010012340993177053,
          -9.560144317655801e-05,
          -9.796852189392709e-05,
          -0.000102131432467404,
          -9.682097950680624e-05,
          -9.93550535662302e-05,
          -9.982961866867083e-05,
          -9.844865430046613e-05,
          -0.00010793060540385943,
          -0.00011072537406841263,
          -0.00010117128913974291,
          -0.00010487291565820377,
          -0.00010508126743473574,
          -0.00010110793343184334,
          -0.0001039273481328836,
          -0.00010358984505859196,
          -0.00010040496428969769,
          -0.00010709046427622424,
          -0.00011125519010305417,
          -0.00011731474277661895,
          -0.00011407574341401193,
          -0.00010708242411336779,
          -0.00011392103275507351,
          -0.00011803675209236101,
          -0.00011929988328390827,
          -0.00012663893035270795,
          -0.0001233106629820104,
          -0.00013159740945035644,
          -0.00013320526059134013,
          -0.00012245551212085619,
          -0.00011946716193194078,
          -0.00012788413817200355,
          -0.00012124155130789041,
          -0.0001199870759484294,
          -0.0001273223703075533,
          -0.00012209172858326052,
          -0.00011987358091291168,
          -0.00012614973981979276,
          -0.00013334109139596776,
          -0.00013923052657375374,
          -0.00014248868061435987,
          -0.00014085250954948454,
          -0.00014249394315866818,
          -0.00014018559220746354,
          -0.00013171955759281543,
          -0.0001246512440249729,
          -0.00013530803991727955,
          -0.00012739587037950456,
          -0.0001284608553462287,
          -0.0001259638625695531,
          -0.0001263117209460028,
          -0.00013001907392602577,
          -0.00012791973794708646,
          -0.00012702482483425937,
          -0.00013163072631047334,
          -0.00013169970044582513,
          -0.00012475010791573047,
          -0.00012710663808695837,
          -0.00011693890673468194,
          -0.0001172453054063586,
          -0.00011558274538076593,
          -0.00011944745796630828,
          -0.00011686821703559783,
          -0.00011207713837935239,
          -0.00010605840519062998,
          -9.576531822634506e-05,
          -0.00010140820244727128,
          -0.00010473999858945089,
          -0.00010759078752753349,
          -0.00011574510113615349,
          -0.0001168836451263752,
          -0.00011842693455348433,
          -0.00011322654474136412,
          -0.00011466797938926017,
          -0.00011313010412994308,
          -0.00012409817206992862,
          -0.00012143636037987736,
          -0.00011967893406415243,
          -0.000127659274901572,
          -0.00013229628402438675,
          -0.0001359874456933576,
          -0.00014028191232625417,
          -0.0001415718251958479,
          -0.00015243050518053765,
          -0.00015373794986784663,
          -0.00014932897366604927,
          -0.00014527304191047337,
          -0.00014932772108347037,
          -0.000142826539841631,
          -0.0001424288471615126,
          -0.00014689780768387247,
          -0.00014346093212599703,
          -0.0001359025474246937,
          -0.00013352924489997515,
          -0.00013255896259893834,
          -0.0001357032466198628,
          -0.00011931284454185604,
          -0.00011217056502781575,
          -0.00011377901742571153,
          -0.00011195040017674199,
          -0.00011996586156089021,
          -0.00012175137954120209,
          -0.00011969573052710058,
          -0.00011475454250263473,
          -0.0001175905929378376,
          -0.00012785036109569338,
          -0.00013360731966214354,
          -0.0001271911356225913,
          -0.00012856176625919901,
          -0.0001234291887364028,
          -0.00012234181840269846,
          -0.0001206247503705495,
          -0.00011975235431721867,
          -0.00012523384800469618,
          -0.00012164087636953847,
          -0.00012576042780457902,
          -0.00013209823935149152,
          -0.00013282946831544534,
          -0.0001300367817114736,
          -0.00013437406906116958,
          -0.0001328262329522449,
          -0.00012401658112818942,
          -0.00012658704311076393,
          -0.0001206662043844839,
          -0.00011771884968750455,
          -0.00012420493260113883,
          -0.00012460520136552632,
          -0.00012704412233934003,
          -0.0001229859706590832,
          -0.00011714832274740809,
          -0.00011862264697712886,
          -0.00012369643815667258,
          -0.00012799173669650506,
          -0.00013160942703880968,
          -0.00013053935970613602,
          -0.00012844039663903613,
          -0.00012596246080172433,
          -0.0001250559080871491,
          -0.0001276460135164689,
          -0.00012302491411109043,
          -0.0001222246617985528,
          -0.00011311629247739876,
          -0.0001121565944907281,
          -0.00011704744213406493,
          -0.0001206866804219853,
          -0.00011661776614538526,
          -0.0001134109153043631,
          -0.00011597796043864394,
          -0.00011932748739917572,
          -0.0001284854238913593,
          -0.00012823854938370923,
          -0.00012664736020894397,
          -0.00012637642370969915,
          -0.00012659450737059026,
          -0.00012519358070859168,
          -0.00012088840855340138,
          -0.0001239904918621951,
          -0.00012413275980140723,
          -0.00012279215152331043,
          -0.00012354731761436916,
          -0.00012417410100589604,
          -0.0001222243067432057,
          -0.00012161440148805475,
          -0.0001192125682472928,
          -0.00011529329911482951,
          -0.00011635010915336352,
          -0.00012545233630415712,
          -0.00012715651786236043,
          -0.00013306656850518113,
          -0.0001293248162408363,
          -0.00012777346105997153,
          -0.00012874854963063672,
          -0.0001248001717476879,
          -0.00011761544440758468,
          -0.00012164834266178005,
          -0.00012208803718676713,
          -0.0001216754691559371,
          -0.00012390958207158923,
          -0.00013253754482654158,
          -0.0001312096668814799,
          -0.00013133551884593237,
          -0.0001291523391760709,
          -0.0001278420380138633,
          -0.00012454511115785136,
          -0.00012988856102684487,
          -0.00013115546291878662,
          -0.0001302369391956771,
          -0.00013171305640120217,
          -0.0001287433835104124,
          -0.00013212021876794875,
          -0.0001274606725564279,
          -0.00012579809603572157,
          -0.00012377297003892556,
          -0.00011810626090130857,
          -0.00011707305204063925,
          -0.00011409688878186402,
          -0.00011697162065358018,
          -0.00011585417895467083,
          -0.00012078971588779159,
          -0.00012074197432349336,
          -0.00012126149718256042,
          -0.00012412483237768694,
          -0.0001238558990827429,
          -0.00012217255752588075,
          -0.00012248033823717016,
          -0.00012736602345497653,
          -0.00012401389817717876,
          -0.0001233342639727869,
          -0.00012211511464786467,
          -0.00012353352015258322,
          -0.00012112967616547104,
          -0.00011564906509783056,
          -0.00011712366771574707,
          -0.0001182017479791958,
          -0.00012153849943130255,
          -0.0001214461793885512,
          -0.00012240064894470043,
          -0.00011794790582812711,
          -0.00012401997295676307,
          -0.0001264458073419678,
          -0.0001211097692595019,
          -0.00011980584705899929,
          -0.00012178460900511847,
          -0.0001206046117190971,
          -0.0001166911713178021,
          -0.00011520100616001184,
          -0.00012039908480899206,
          -0.0001155867910504892,
          -0.00011702049849723439,
          -0.00011690475345063839,
          -0.00012006239894705095,
          -0.00011720312910458528,
          -0.00011675029059559478,
          -0.00012110549722496502,
          -0.00012089939607544658,
          -0.0001258849938528229,
          -0.00012209193103463237,
          -0.0001221208283670775,
          -0.00011944263562075263,
          -0.00012150753571384576,
          -0.00012143821423742508,
          -0.00011967446708672277,
          -0.00012164147116626185,
          -0.0001237539999026805,
          -0.00013515198569960876,
          -0.0001313244186990103,
          -0.00013340221147821658,
          -0.0001321926122638921,
          -0.00012590269308509886,
          -0.0001227377585142121,
          -0.00012796936020180645,
          -0.00012980006573793008,
          -0.00013238990266533843,
          -0.00012831097782854749,
          -0.00012744907637395595,
          -0.00012421044811658055,
          -0.00011960579094485546,
          -0.00012101001014297084,
          -0.00012417490988557672,
          -0.0001285357452705635,
          -0.00012916754734088563,
          -0.0001237588268309213,
          -0.00012254413814864295,
          -0.00011836851039918623,
          -0.00011797111180273452,
          -0.00011655904407753071,
          -0.00012012661002605866,
          -0.00012320794099291766,
          -0.0001238327888480311,
          -0.0001266476925032825,
          -0.00012270017711388552,
          -0.00012201655661023313,
          -0.00011590935685696626,
          -0.00012132998889230798,
          -0.0001268453740642093,
          -0.00012142932335689805,
          -0.00011851155456520102,
          -0.00011154985634822634,
          -0.00011323210690096573,
          -0.00011562879778731646,
          -0.0001101037861932462,
          -0.00011266653364688621,
          -0.00010961738710615269,
          -0.00010487896872366518,
          -0.00010191996532799203,
          -0.00010157126226112813,
          -0.00010206676387076725,
          -0.00010662653079078943,
          -0.0001022970007252687,
          -0.00010396982479643686,
          -0.00010219060747563105,
          -9.669288602500662e-05,
          -9.522695969805834e-05,
          -9.7588001186447e-05,
          -9.994086316250411e-05,
          -0.00010147506562382491,
          -9.848669572712636e-05,
          -0.00010046716778209087,
          -0.00010445598377898367,
          -0.00010240824674265757,
          -0.00010685069539726464,
          -0.00010423061402950592,
          -0.00010499017737857939,
          -9.914259987382854e-05,
          -9.970070695638719e-05,
          -9.871341755150471e-05,
          -9.618574160761835e-05,
          -9.602545665348739e-05,
          -9.335713680085696e-05,
          -9.503094040991429e-05,
          -9.634674779967036e-05,
          -9.130564023997027e-05,
          -8.344356905383844e-05,
          -7.990733418247698e-05,
          -8.035922107684813e-05,
          -8.42795035270712e-05,
          -8.794143025669032e-05,
          -8.878902961796252e-05,
          -8.778670947013874e-05,
          -9.168318770267421e-05,
          -9.473587596516811e-05,
          -9.374495628956413e-05,
          -9.245351201322613e-05,
          -9.134655841504236e-05,
          -9.17132229645471e-05,
          -9.102106148903277e-05,
          -9.06528320758198e-05,
          -9.19982638630108e-05,
          -9.49458842808195e-05,
          -9.079914588325916e-05,
          -9.487667316344494e-05,
          -9.50506665189139e-05,
          -8.974469127182667e-05,
          -9.274569408002325e-05,
          -9.53649746320514e-05,
          -9.09081181528445e-05,
          -9.244160060547764e-05,
          -9.406396337596529e-05,
          -9.475612168582796e-05,
          -9.409812962892937e-05,
          -9.468581495351413e-05,
          -9.614604083618878e-05,
          -9.384082940972534e-05,
          -9.398670533919645e-05,
          -8.942022229170858e-05,
          -8.565657604509816e-05,
          -8.551976954667513e-05,
          -8.50494465404664e-05,
          -8.533343073975814e-05,
          -8.378537829453823e-05,
          -8.13915239605169e-05,
          -8.392118684188987e-05,
          -8.460472795358397e-05,
          -8.833625123380985e-05,
          -8.568629522889381e-05,
          -8.001342518559093e-05,
          -8.179717860970135e-05,
          -8.416417544996561e-05,
          -8.092594516830812e-05,
          -8.16518254907984e-05,
          -7.75630883115291e-05,
          -7.344970741456622e-05,
          -7.139294186051524e-05,
          -7.127603363656153e-05,
          -6.823932694832171e-05,
          -6.921942142124049e-05,
          -7.001112136953457e-05,
          -6.931309878777678e-05,
          -6.448333176539093e-05,
          -6.222094939571838e-05,
          -6.101138034197257e-05,
          -6.28435529921353e-05,
          -6.158678588550823e-05,
          -6.08191427685634e-05,
          -6.169732905823237e-05,
          -6.063391948675956e-05,
          -6.24970268483044e-05,
          -6.370605750794455e-05,
          -6.599003004600977e-05,
          -7.034180499657897e-05,
          -6.831585118209616e-05,
          -7.200576582160284e-05,
          -6.533976543215709e-05,
          -6.431251925773486e-05,
          -6.868221955704695e-05,
          -6.16528311249869e-05
         ],
         "yaxis": "y"
        }
       ],
       "layout": {
        "autosize": true,
        "legend": {
         "tracegroupgap": 0
        },
        "margin": {
         "t": 60
        },
        "template": {
         "data": {
          "bar": [
           {
            "error_x": {
             "color": "#2a3f5f"
            },
            "error_y": {
             "color": "#2a3f5f"
            },
            "marker": {
             "line": {
              "color": "#E5ECF6",
              "width": 0.5
             },
             "pattern": {
              "fillmode": "overlay",
              "size": 10,
              "solidity": 0.2
             }
            },
            "type": "bar"
           }
          ],
          "barpolar": [
           {
            "marker": {
             "line": {
              "color": "#E5ECF6",
              "width": 0.5
             },
             "pattern": {
              "fillmode": "overlay",
              "size": 10,
              "solidity": 0.2
             }
            },
            "type": "barpolar"
           }
          ],
          "carpet": [
           {
            "aaxis": {
             "endlinecolor": "#2a3f5f",
             "gridcolor": "white",
             "linecolor": "white",
             "minorgridcolor": "white",
             "startlinecolor": "#2a3f5f"
            },
            "baxis": {
             "endlinecolor": "#2a3f5f",
             "gridcolor": "white",
             "linecolor": "white",
             "minorgridcolor": "white",
             "startlinecolor": "#2a3f5f"
            },
            "type": "carpet"
           }
          ],
          "choropleth": [
           {
            "colorbar": {
             "outlinewidth": 0,
             "ticks": ""
            },
            "type": "choropleth"
           }
          ],
          "contour": [
           {
            "colorbar": {
             "outlinewidth": 0,
             "ticks": ""
            },
            "colorscale": [
             [
              0,
              "#0d0887"
             ],
             [
              0.1111111111111111,
              "#46039f"
             ],
             [
              0.2222222222222222,
              "#7201a8"
             ],
             [
              0.3333333333333333,
              "#9c179e"
             ],
             [
              0.4444444444444444,
              "#bd3786"
             ],
             [
              0.5555555555555556,
              "#d8576b"
             ],
             [
              0.6666666666666666,
              "#ed7953"
             ],
             [
              0.7777777777777778,
              "#fb9f3a"
             ],
             [
              0.8888888888888888,
              "#fdca26"
             ],
             [
              1,
              "#f0f921"
             ]
            ],
            "type": "contour"
           }
          ],
          "contourcarpet": [
           {
            "colorbar": {
             "outlinewidth": 0,
             "ticks": ""
            },
            "type": "contourcarpet"
           }
          ],
          "heatmap": [
           {
            "colorbar": {
             "outlinewidth": 0,
             "ticks": ""
            },
            "colorscale": [
             [
              0,
              "#0d0887"
             ],
             [
              0.1111111111111111,
              "#46039f"
             ],
             [
              0.2222222222222222,
              "#7201a8"
             ],
             [
              0.3333333333333333,
              "#9c179e"
             ],
             [
              0.4444444444444444,
              "#bd3786"
             ],
             [
              0.5555555555555556,
              "#d8576b"
             ],
             [
              0.6666666666666666,
              "#ed7953"
             ],
             [
              0.7777777777777778,
              "#fb9f3a"
             ],
             [
              0.8888888888888888,
              "#fdca26"
             ],
             [
              1,
              "#f0f921"
             ]
            ],
            "type": "heatmap"
           }
          ],
          "heatmapgl": [
           {
            "colorbar": {
             "outlinewidth": 0,
             "ticks": ""
            },
            "colorscale": [
             [
              0,
              "#0d0887"
             ],
             [
              0.1111111111111111,
              "#46039f"
             ],
             [
              0.2222222222222222,
              "#7201a8"
             ],
             [
              0.3333333333333333,
              "#9c179e"
             ],
             [
              0.4444444444444444,
              "#bd3786"
             ],
             [
              0.5555555555555556,
              "#d8576b"
             ],
             [
              0.6666666666666666,
              "#ed7953"
             ],
             [
              0.7777777777777778,
              "#fb9f3a"
             ],
             [
              0.8888888888888888,
              "#fdca26"
             ],
             [
              1,
              "#f0f921"
             ]
            ],
            "type": "heatmapgl"
           }
          ],
          "histogram": [
           {
            "marker": {
             "pattern": {
              "fillmode": "overlay",
              "size": 10,
              "solidity": 0.2
             }
            },
            "type": "histogram"
           }
          ],
          "histogram2d": [
           {
            "colorbar": {
             "outlinewidth": 0,
             "ticks": ""
            },
            "colorscale": [
             [
              0,
              "#0d0887"
             ],
             [
              0.1111111111111111,
              "#46039f"
             ],
             [
              0.2222222222222222,
              "#7201a8"
             ],
             [
              0.3333333333333333,
              "#9c179e"
             ],
             [
              0.4444444444444444,
              "#bd3786"
             ],
             [
              0.5555555555555556,
              "#d8576b"
             ],
             [
              0.6666666666666666,
              "#ed7953"
             ],
             [
              0.7777777777777778,
              "#fb9f3a"
             ],
             [
              0.8888888888888888,
              "#fdca26"
             ],
             [
              1,
              "#f0f921"
             ]
            ],
            "type": "histogram2d"
           }
          ],
          "histogram2dcontour": [
           {
            "colorbar": {
             "outlinewidth": 0,
             "ticks": ""
            },
            "colorscale": [
             [
              0,
              "#0d0887"
             ],
             [
              0.1111111111111111,
              "#46039f"
             ],
             [
              0.2222222222222222,
              "#7201a8"
             ],
             [
              0.3333333333333333,
              "#9c179e"
             ],
             [
              0.4444444444444444,
              "#bd3786"
             ],
             [
              0.5555555555555556,
              "#d8576b"
             ],
             [
              0.6666666666666666,
              "#ed7953"
             ],
             [
              0.7777777777777778,
              "#fb9f3a"
             ],
             [
              0.8888888888888888,
              "#fdca26"
             ],
             [
              1,
              "#f0f921"
             ]
            ],
            "type": "histogram2dcontour"
           }
          ],
          "mesh3d": [
           {
            "colorbar": {
             "outlinewidth": 0,
             "ticks": ""
            },
            "type": "mesh3d"
           }
          ],
          "parcoords": [
           {
            "line": {
             "colorbar": {
              "outlinewidth": 0,
              "ticks": ""
             }
            },
            "type": "parcoords"
           }
          ],
          "pie": [
           {
            "automargin": true,
            "type": "pie"
           }
          ],
          "scatter": [
           {
            "fillpattern": {
             "fillmode": "overlay",
             "size": 10,
             "solidity": 0.2
            },
            "type": "scatter"
           }
          ],
          "scatter3d": [
           {
            "line": {
             "colorbar": {
              "outlinewidth": 0,
              "ticks": ""
             }
            },
            "marker": {
             "colorbar": {
              "outlinewidth": 0,
              "ticks": ""
             }
            },
            "type": "scatter3d"
           }
          ],
          "scattercarpet": [
           {
            "marker": {
             "colorbar": {
              "outlinewidth": 0,
              "ticks": ""
             }
            },
            "type": "scattercarpet"
           }
          ],
          "scattergeo": [
           {
            "marker": {
             "colorbar": {
              "outlinewidth": 0,
              "ticks": ""
             }
            },
            "type": "scattergeo"
           }
          ],
          "scattergl": [
           {
            "marker": {
             "colorbar": {
              "outlinewidth": 0,
              "ticks": ""
             }
            },
            "type": "scattergl"
           }
          ],
          "scattermapbox": [
           {
            "marker": {
             "colorbar": {
              "outlinewidth": 0,
              "ticks": ""
             }
            },
            "type": "scattermapbox"
           }
          ],
          "scatterpolar": [
           {
            "marker": {
             "colorbar": {
              "outlinewidth": 0,
              "ticks": ""
             }
            },
            "type": "scatterpolar"
           }
          ],
          "scatterpolargl": [
           {
            "marker": {
             "colorbar": {
              "outlinewidth": 0,
              "ticks": ""
             }
            },
            "type": "scatterpolargl"
           }
          ],
          "scatterternary": [
           {
            "marker": {
             "colorbar": {
              "outlinewidth": 0,
              "ticks": ""
             }
            },
            "type": "scatterternary"
           }
          ],
          "surface": [
           {
            "colorbar": {
             "outlinewidth": 0,
             "ticks": ""
            },
            "colorscale": [
             [
              0,
              "#0d0887"
             ],
             [
              0.1111111111111111,
              "#46039f"
             ],
             [
              0.2222222222222222,
              "#7201a8"
             ],
             [
              0.3333333333333333,
              "#9c179e"
             ],
             [
              0.4444444444444444,
              "#bd3786"
             ],
             [
              0.5555555555555556,
              "#d8576b"
             ],
             [
              0.6666666666666666,
              "#ed7953"
             ],
             [
              0.7777777777777778,
              "#fb9f3a"
             ],
             [
              0.8888888888888888,
              "#fdca26"
             ],
             [
              1,
              "#f0f921"
             ]
            ],
            "type": "surface"
           }
          ],
          "table": [
           {
            "cells": {
             "fill": {
              "color": "#EBF0F8"
             },
             "line": {
              "color": "white"
             }
            },
            "header": {
             "fill": {
              "color": "#C8D4E3"
             },
             "line": {
              "color": "white"
             }
            },
            "type": "table"
           }
          ]
         },
         "layout": {
          "annotationdefaults": {
           "arrowcolor": "#2a3f5f",
           "arrowhead": 0,
           "arrowwidth": 1
          },
          "autotypenumbers": "strict",
          "coloraxis": {
           "colorbar": {
            "outlinewidth": 0,
            "ticks": ""
           }
          },
          "colorscale": {
           "diverging": [
            [
             0,
             "#8e0152"
            ],
            [
             0.1,
             "#c51b7d"
            ],
            [
             0.2,
             "#de77ae"
            ],
            [
             0.3,
             "#f1b6da"
            ],
            [
             0.4,
             "#fde0ef"
            ],
            [
             0.5,
             "#f7f7f7"
            ],
            [
             0.6,
             "#e6f5d0"
            ],
            [
             0.7,
             "#b8e186"
            ],
            [
             0.8,
             "#7fbc41"
            ],
            [
             0.9,
             "#4d9221"
            ],
            [
             1,
             "#276419"
            ]
           ],
           "sequential": [
            [
             0,
             "#0d0887"
            ],
            [
             0.1111111111111111,
             "#46039f"
            ],
            [
             0.2222222222222222,
             "#7201a8"
            ],
            [
             0.3333333333333333,
             "#9c179e"
            ],
            [
             0.4444444444444444,
             "#bd3786"
            ],
            [
             0.5555555555555556,
             "#d8576b"
            ],
            [
             0.6666666666666666,
             "#ed7953"
            ],
            [
             0.7777777777777778,
             "#fb9f3a"
            ],
            [
             0.8888888888888888,
             "#fdca26"
            ],
            [
             1,
             "#f0f921"
            ]
           ],
           "sequentialminus": [
            [
             0,
             "#0d0887"
            ],
            [
             0.1111111111111111,
             "#46039f"
            ],
            [
             0.2222222222222222,
             "#7201a8"
            ],
            [
             0.3333333333333333,
             "#9c179e"
            ],
            [
             0.4444444444444444,
             "#bd3786"
            ],
            [
             0.5555555555555556,
             "#d8576b"
            ],
            [
             0.6666666666666666,
             "#ed7953"
            ],
            [
             0.7777777777777778,
             "#fb9f3a"
            ],
            [
             0.8888888888888888,
             "#fdca26"
            ],
            [
             1,
             "#f0f921"
            ]
           ]
          },
          "colorway": [
           "#636efa",
           "#EF553B",
           "#00cc96",
           "#ab63fa",
           "#FFA15A",
           "#19d3f3",
           "#FF6692",
           "#B6E880",
           "#FF97FF",
           "#FECB52"
          ],
          "font": {
           "color": "#2a3f5f"
          },
          "geo": {
           "bgcolor": "white",
           "lakecolor": "white",
           "landcolor": "#E5ECF6",
           "showlakes": true,
           "showland": true,
           "subunitcolor": "white"
          },
          "hoverlabel": {
           "align": "left"
          },
          "hovermode": "closest",
          "mapbox": {
           "style": "light"
          },
          "paper_bgcolor": "white",
          "plot_bgcolor": "#E5ECF6",
          "polar": {
           "angularaxis": {
            "gridcolor": "white",
            "linecolor": "white",
            "ticks": ""
           },
           "bgcolor": "#E5ECF6",
           "radialaxis": {
            "gridcolor": "white",
            "linecolor": "white",
            "ticks": ""
           }
          },
          "scene": {
           "xaxis": {
            "backgroundcolor": "#E5ECF6",
            "gridcolor": "white",
            "gridwidth": 2,
            "linecolor": "white",
            "showbackground": true,
            "ticks": "",
            "zerolinecolor": "white"
           },
           "yaxis": {
            "backgroundcolor": "#E5ECF6",
            "gridcolor": "white",
            "gridwidth": 2,
            "linecolor": "white",
            "showbackground": true,
            "ticks": "",
            "zerolinecolor": "white"
           },
           "zaxis": {
            "backgroundcolor": "#E5ECF6",
            "gridcolor": "white",
            "gridwidth": 2,
            "linecolor": "white",
            "showbackground": true,
            "ticks": "",
            "zerolinecolor": "white"
           }
          },
          "shapedefaults": {
           "line": {
            "color": "#2a3f5f"
           }
          },
          "ternary": {
           "aaxis": {
            "gridcolor": "white",
            "linecolor": "white",
            "ticks": ""
           },
           "baxis": {
            "gridcolor": "white",
            "linecolor": "white",
            "ticks": ""
           },
           "bgcolor": "#E5ECF6",
           "caxis": {
            "gridcolor": "white",
            "linecolor": "white",
            "ticks": ""
           }
          },
          "title": {
           "x": 0.05
          },
          "xaxis": {
           "automargin": true,
           "gridcolor": "white",
           "linecolor": "white",
           "ticks": "",
           "title": {
            "standoff": 15
           },
           "zerolinecolor": "white",
           "zerolinewidth": 2
          },
          "yaxis": {
           "automargin": true,
           "gridcolor": "white",
           "linecolor": "white",
           "ticks": "",
           "title": {
            "standoff": 15
           },
           "zerolinecolor": "white",
           "zerolinewidth": 2
          }
         }
        },
        "xaxis": {
         "anchor": "y",
         "autorange": true,
         "domain": [
          0,
          1
         ],
         "range": [
          0,
          1000
         ],
         "title": {
          "text": "x"
         },
         "type": "linear"
        },
        "yaxis": {
         "anchor": "x",
         "autorange": true,
         "domain": [
          0,
          1
         ],
         "range": [
          -0.005297427981046238,
          0.018154631151146156
         ],
         "title": {
          "text": "y"
         },
         "type": "linear"
        }
       }
      },
      "image/png": "[encoded data removed]",
      "text/html": [
       "<div>                            <div id=\"0d17ffbb-e223-4375-baec-a27700adbef1\" class=\"plotly-graph-div\" style=\"height:525px; width:100%;\"></div>            <script type=\"text/javascript\">                require([\"plotly\"], function(Plotly) {                    window.PLOTLYENV=window.PLOTLYENV || {};                                    if (document.getElementById(\"0d17ffbb-e223-4375-baec-a27700adbef1\")) {                    Plotly.newPlot(                        \"0d17ffbb-e223-4375-baec-a27700adbef1\",                        [{\"hovertemplate\":\"x=%{x}<br>y=%{y}<extra></extra>\",\"legendgroup\":\"\",\"line\":{\"color\":\"#636efa\",\"dash\":\"solid\"},\"marker\":{\"symbol\":\"circle\"},\"mode\":\"lines\",\"name\":\"\",\"showlegend\":false,\"x\":[0,1,2,3,4,5,6,7,8,9,10,11,12,13,14,15,16,17,18,19,20,21,22,23,24,25,26,27,28,29,30,31,32,33,34,35,36,37,38,39,40,41,42,43,44,45,46,47,48,49,50,51,52,53,54,55,56,57,58,59,60,61,62,63,64,65,66,67,68,69,70,71,72,73,74,75,76,77,78,79,80,81,82,83,84,85,86,87,88,89,90,91,92,93,94,95,96,97,98,99,100,101,102,103,104,105,106,107,108,109,110,111,112,113,114,115,116,117,118,119,120,121,122,123,124,125,126,127,128,129,130,131,132,133,134,135,136,137,138,139,140,141,142,143,144,145,146,147,148,149,150,151,152,153,154,155,156,157,158,159,160,161,162,163,164,165,166,167,168,169,170,171,172,173,174,175,176,177,178,179,180,181,182,183,184,185,186,187,188,189,190,191,192,193,194,195,196,197,198,199,200,201,202,203,204,205,206,207,208,209,210,211,212,213,214,215,216,217,218,219,220,221,222,223,224,225,226,227,228,229,230,231,232,233,234,235,236,237,238,239,240,241,242,243,244,245,246,247,248,249,250,251,252,253,254,255,256,257,258,259,260,261,262,263,264,265,266,267,268,269,270,271,272,273,274,275,276,277,278,279,280,281,282,283,284,285,286,287,288,289,290,291,292,293,294,295,296,297,298,299,300,301,302,303,304,305,306,307,308,309,310,311,312,313,314,315,316,317,318,319,320,321,322,323,324,325,326,327,328,329,330,331,332,333,334,335,336,337,338,339,340,341,342,343,344,345,346,347,348,349,350,351,352,353,354,355,356,357,358,359,360,361,362,363,364,365,366,367,368,369,370,371,372,373,374,375,376,377,378,379,380,381,382,383,384,385,386,387,388,389,390,391,392,393,394,395,396,397,398,399,400,401,402,403,404,405,406,407,408,409,410,411,412,413,414,415,416,417,418,419,420,421,422,423,424,425,426,427,428,429,430,431,432,433,434,435,436,437,438,439,440,441,442,443,444,445,446,447,448,449,450,451,452,453,454,455,456,457,458,459,460,461,462,463,464,465,466,467,468,469,470,471,472,473,474,475,476,477,478,479,480,481,482,483,484,485,486,487,488,489,490,491,492,493,494,495,496,497,498,499,500,501,502,503,504,505,506,507,508,509,510,511,512,513,514,515,516,517,518,519,520,521,522,523,524,525,526,527,528,529,530,531,532,533,534,535,536,537,538,539,540,541,542,543,544,545,546,547,548,549,550,551,552,553,554,555,556,557,558,559,560,561,562,563,564,565,566,567,568,569,570,571,572,573,574,575,576,577,578,579,580,581,582,583,584,585,586,587,588,589,590,591,592,593,594,595,596,597,598,599,600,601,602,603,604,605,606,607,608,609,610,611,612,613,614,615,616,617,618,619,620,621,622,623,624,625,626,627,628,629,630,631,632,633,634,635,636,637,638,639,640,641,642,643,644,645,646,647,648,649,650,651,652,653,654,655,656,657,658,659,660,661,662,663,664,665,666,667,668,669,670,671,672,673,674,675,676,677,678,679,680,681,682,683,684,685,686,687,688,689,690,691,692,693,694,695,696,697,698,699,700,701,702,703,704,705,706,707,708,709,710,711,712,713,714,715,716,717,718,719,720,721,722,723,724,725,726,727,728,729,730,731,732,733,734,735,736,737,738,739,740,741,742,743,744,745,746,747,748,749,750,751,752,753,754,755,756,757,758,759,760,761,762,763,764,765,766,767,768,769,770,771,772,773,774,775,776,777,778,779,780,781,782,783,784,785,786,787,788,789,790,791,792,793,794,795,796,797,798,799,800,801,802,803,804,805,806,807,808,809,810,811,812,813,814,815,816,817,818,819,820,821,822,823,824,825,826,827,828,829,830,831,832,833,834,835,836,837,838,839,840,841,842,843,844,845,846,847,848,849,850,851,852,853,854,855,856,857,858,859,860,861,862,863,864,865,866,867,868,869,870,871,872,873,874,875,876,877,878,879,880,881,882,883,884,885,886,887,888,889,890,891,892,893,894,895,896,897,898,899,900,901,902,903,904,905,906,907,908,909,910,911,912,913,914,915,916,917,918,919,920,921,922,923,924,925,926,927,928,929,930,931,932,933,934,935,936,937,938,939,940,941,942,943,944,945,946,947,948,949,950,951,952,953,954,955,956,957,958,959,960,961,962,963,964,965,966,967,968,969,970,971,972,973,974,975,976,977,978,979,980,981,982,983,984,985,986,987,988,989,990,991,992,993,994,995,996,997,998,999,1000],\"xaxis\":\"x\",\"y\":[0.016982028194536536,0.00790014788206489,-0.004124825024436618,-0.001336001780835705,0.0050274289930707095,0.004684527495774887,-0.0037923650963734012,0.00010854784143943252,0.0007122671086711302,-0.0002554698560230523,0.003290243604015433,-0.0007035033433683141,-7.69470112326337e-05,-0.001527866152938373,-0.0006901345658527486,-0.0006232307286913319,-0.00021579873840546493,-0.0013485535267857424,-0.001056318698033784,0.0003566418358304582,0.00034360024421897783,0.00012571640591298172,-0.0010786183667465393,-0.0006429432685272699,-0.00018727199058438115,-0.0009263449471760068,-0.0022302954462530417,-0.0022245350940769335,-0.0024912541432533103,-0.0021600462429036266,-0.0023491645675944653,-0.0018813181741005533,-0.0017586100071621084,-0.0020383587499192453,-0.001979077907541909,-0.0018264820360502781,-0.0013065726304227546,-0.0014245147202012337,-0.0007807396165691212,-0.0001913233055278185,-0.0004769434515194161,-0.0005207896271923647,-0.00018340502247266022,-0.00013905718959129898,5.8848827057089714e-05,0.00015722663294997358,0.00043699390398967836,0.0008041044543510324,0.000740943769818897,0.0007662188263929288,0.0009774835004223888,0.0008802078170965129,0.0007688130141090994,0.0006841902813745915,0.001089367254649587,0.0007435905644414507,0.0006239689447020795,0.0006804462443110865,0.0006126822242430406,0.00045490889780143776,0.0006946668417348277,0.0005804323437055142,0.0005776995041826914,0.0006924256986260788,0.0009255828670261274,0.0009700658905562338,0.0007348173176975666,0.0005525601864470268,0.0005663431721654091,0.0005311922358682535,0.00034655824413295545,0.00021496559911059372,0.00019239116080850723,0.00019906426954984305,3.913359722246268e-05,0.00020560842537902836,0.0001675864638262664,0.00016136986128206451,4.4407637395776564e-05,0.00012902936692776867,0.0001601630795853605,0.0002618845800183931,0.00025852354449310173,0.00028705616230124097,0.00022165548742101443,0.00016901445815926432,0.00018168854651277704,0.00015112919033770725,8.82408666665821e-05,0.00017628805173246567,0.00019360239799031016,0.00012651934561638128,-1.0327120255754219e-05,0.00013708623607633884,0.00023387870038762276,0.00032194388928868944,0.0003530201228083823,0.00042365061354756803,0.00028211947470068756,0.0003329257436942793,0.00017233033323039125,0.00022662138639066576,0.00016483578958285602,0.000342077895043421,0.00029247682280648946,0.00033721557274917456,0.00033015248952524175,0.0002850794880401436,0.0003313244580110293,0.00027603613721310233,0.00024668295078215767,0.0001861591023831436,0.0002504035747899671,0.00022765335873961394,0.00016718132563502304,0.00020606046825992486,0.0002944762606198973,0.00034680857508110306,0.0003339074358719614,0.0003561757171316078,0.00025733930932258023,0.00023798960224369944,0.00031436428382045425,0.0002047957814386766,0.00019080603941640933,0.0001619690418646763,0.00017092414679060336,0.00016964664935739063,0.00021600101614578909,0.0001739853649660797,0.0001975060186759194,0.0002663355662786259,0.00023001268894034133,0.00022791844623391063,0.00025161148372344205,0.00019987585095721568,0.0001010046721977003,0.0001539815739109102,0.00020426609432880674,0.0002390604081724491,0.0002411471815003726,0.0002133439045150518,0.0001054480689038793,0.00015603927935500198,0.00016359616686557974,0.00014835377817393625,0.0001511956013494015,9.679801558632947e-05,9.23276453492312e-05,8.567507162285382e-05,9.316286969175344e-05,0.00012708415938300893,0.0001214021344529189,6.456734741923202e-05,9.926887335868963e-05,9.51232716137956e-05,0.00022352614536586858,0.00016373279025671747,0.00010182335868977668,0.0001589664481970749,0.00014005203615051563,0.0001871761764585438,0.0002481090375103844,0.00024148722876271393,0.0002809727780491017,0.00024884206398655736,0.0002401840774364089,0.00017266153515871872,0.0002678824178997431,0.00023907582042813433,0.00020227017224694332,0.00023608372595333976,0.00026825530183565826,0.0002797260482901654,0.00023117880523463967,0.00028379064158892946,0.0002728517076913987,0.00025329304273598655,0.0002698514622779145,0.0003017467804199347,0.000317091008533295,0.0003128315487039273,0.00026851337485145604,0.00027285032050404154,0.00028269434307042363,0.0002975190866351578,0.0002769971703994239,0.00026524886056106516,0.00026325609671597975,0.0002549232856892689,0.0002713914119606975,0.0003359711135668955,0.0003175387004097337,0.00033683500538813846,0.00033588920530540443,0.0003794504602504904,0.00037379319912375555,0.0003890531223616307,0.0003882915555574219,0.0003647089196267524,0.0003677625649968503,0.00034355964207889635,0.0003615217737038632,0.0003389709037261114,0.00035892906249666845,0.00037069185332566125,0.0003427755350812892,0.00040198996876098913,0.00034039283244539226,0.00033658913317306284,0.0003350677517942194,0.00035297619501234966,0.0003653822564814533,0.00037530482531967276,0.00037593036210538215,0.0003278109462530798,0.0003324126832444114,0.0003065104209497606,0.0003025515237163913,0.00029643044003646764,0.00029926324785603097,0.00032295124461191854,0.0003299755689712717,0.0003202081480459477,0.000304633635459294,0.0003574932399244262,0.0003488800247427228,0.0002960996515944288,0.0002780424337239622,0.00029030014730727517,0.00024202555529165542,0.0002620351170489095,0.00021191229813266816,0.0002239080345719656,0.0002441398117900371,0.0002128584179864933,0.00023821847584707626,0.00023210176643750653,0.0002502019387296251,0.0002839849051598851,0.0002738584124356031,0.00026971748322038996,0.00029519086629211516,0.0002634052581397036,0.0002762043430156783,0.0003415615799116458,0.00031333525749861323,0.0003423506090046648,0.00034719726743678543,0.0003827865506825577,0.00040227916240330626,0.0004044278425576692,0.00043659649492510093,0.0004340249582853741,0.0004133645208234879,0.00039846408432430694,0.00040245415258333443,0.0003784342293770525,0.00040535093490503757,0.0004025886066957745,0.00040783909091208614,0.00034819800816435426,0.0003290126825560534,0.0003201352128713842,0.0003588752475088314,0.0003826915076223028,0.0003795082795009534,0.0003562572421105634,0.000353865390032087,0.00033833415877251383,0.00031706707843515754,0.00030942412626596425,0.00032902352739828293,0.0003244495475543904,0.0003411139258498604,0.00032671101311187783,0.00033446455888728457,0.0002851188676395327,0.00027089809119421136,0.00024658914409139135,0.00023977997295175505,0.0001785406808301822,0.0001445366844614127,0.0001259415832090289,0.00012900898931698457,0.00012017871442542146,0.0001262439192011109,0.000134458423921758,0.0001481593342330858,0.00014663592138933895,0.00014154287243467846,0.00014411431782048552,0.00012370586387149647,0.00011884799407933192,0.00012343913022531527,0.00012200239420719376,0.00013838693732369772,0.00013268709162512961,0.00012174164873632581,0.0001280988974046767,0.00014171624408225404,0.00013201117737200122,0.00012508305957737798,0.00012632343541524793,0.0001271381031965487,0.00010574829112355291,0.00012383528319063726,0.0001528118056290744,0.00014488259164158884,0.00014402994683659865,0.00015430055008302688,0.00017123370335250408,0.00017066272569586736,0.00017624141640953115,0.00013811568914947258,0.0001355307194842669,0.00013313195301968821,0.00015471086702232824,0.0001427980222369926,0.00014499176864330538,0.0001673214002248422,0.00015458840101802195,0.0001504017846821284,0.00016258498126698164,0.00017492577235771797,0.0001812912512428027,0.00019419968040243398,0.00017880331114010582,0.0001677906917761686,0.0001759472197220592,0.00016714771620741442,0.00014505436718150909,0.00014730388292477593,0.00011831586268924244,0.0001095028786136736,0.00011792649884792821,0.0001331686358285165,0.00012530847478732466,0.00013231550212594936,0.00011737241408360521,0.00012767489003922064,0.00010498809547193058,8.918973869087706e-05,7.709788966917897e-05,7.097298676823991e-05,5.438957984837392e-05,7.575090043753646e-05,7.092323429750335e-05,9.568412078915772e-05,7.127852784361574e-05,6.765277436077913e-05,5.3912654865638857e-05,6.189175982613529e-05,5.839785114591586e-05,4.457839773642624e-05,5.296884490074965e-05,4.168241702958786e-05,4.691429120712645e-05,6.86049681946424e-05,5.371328115193067e-05,4.2456265333896525e-05,4.954344390907745e-05,5.086679790626894e-05,4.232462369743468e-05,4.870603701571984e-05,4.50226485215967e-05,5.7219405085608566e-05,4.643486830598585e-05,5.763476665617733e-05,5.734135532128783e-05,3.292652800720086e-05,5.7254966185001435e-05,4.651491182761569e-05,4.0676519391939087e-05,3.05267306372186e-05,2.1732643777259367e-05,1.9626232074125994e-05,1.4119299413497405e-05,2.9125841372644803e-05,2.22596592477399e-05,2.9223352064016925e-05,7.055665504789033e-06,1.7208925974531754e-06,-1.3251571479790288e-06,2.2157279143419396e-06,-3.311085770325503e-06,-1.8147272168160013e-05,-2.1304581468387963e-05,-1.9409076204726736e-05,-2.7991645229502853e-05,-2.9362247464334405e-05,-4.0298866347708226e-05,-4.624920218408582e-05,-3.931155617901364e-05,-4.418073845044966e-05,-5.654732104807929e-05,-6.920895148062505e-05,-6.43632947712647e-05,-7.770281483688787e-05,-7.340933300058281e-05,-7.526649398113556e-05,-8.705654314205159e-05,-8.142239269143953e-05,-6.897208292239772e-05,-7.821402759727565e-05,-7.35942428072428e-05,-8.603593680417193e-05,-6.813835057435007e-05,-5.643597900899461e-05,-5.148148591706649e-05,-5.3309903823966706e-05,-4.709222729463525e-05,-3.7439922564566196e-05,-3.058530521795949e-05,-3.913030227925248e-05,-3.629593223637966e-05,-4.458349225413671e-05,-5.404513637471487e-05,-4.305549505071544e-05,-5.073802998547096e-05,-3.114488866462527e-05,-4.4469474004373184e-05,-3.5518402071728784e-05,-3.162458934790691e-05,-2.8691677410034276e-05,-2.8803886368143367e-05,-6.8893609196703925e-06,-1.0631520737556036e-05,-1.020531172614544e-05,-3.6007788648243725e-05,-3.4713575028838366e-05,-4.262465347841353e-05,-4.567786749310647e-05,-5.9556093379213755e-05,-6.111125717912823e-05,-5.001549856314784e-05,-5.382613772058221e-05,-5.209598529223999e-05,-5.605839141073574e-05,-5.3712526177221616e-05,-6.485263656165431e-05,-6.91979403409748e-05,-8.736267445166824e-05,-8.392078904186301e-05,-8.584342838433923e-05,-9.880703533313205e-05,-9.390391661305911e-05,-9.389944002255717e-05,-0.00010120609216336326,-0.00010309290299796063,-0.00010760199576345577,-9.338711107338867e-05,-0.00010079418894167868,-8.944784335507879e-05,-0.00010906484956411553,-9.9836917823773e-05,-9.122540091639547e-05,-8.513154446529317e-05,-7.901021207597442e-05,-6.702220418264597e-05,-8.283898759482277e-05,-8.719952856840654e-05,-8.632670713406166e-05,-8.243805071493117e-05,-7.818890934302566e-05,-8.510663205012594e-05,-7.495944625609142e-05,-8.096510416695426e-05,-9.769364025673678e-05,-8.82361564289026e-05,-9.050121672747559e-05,-0.00011678771027155092,-0.0001277936177610916,-0.0001201971738002479,-0.00012530674456354357,-0.00012111012558061818,-0.00012523671415911155,-0.00011925887667618793,-0.0001293713797000987,-0.00012568910848673848,-0.00013212014014570505,-0.0001387969883874349,-0.00013503076535796143,-0.00014063862018893407,-0.00012536499429115612,-0.0001410246616416436,-0.0001337968245061754,-0.0001288965894114863,-0.00013720646007547768,-0.00011581451751981986,-0.00010985967471274023,-0.00010360058239959982,-8.830295349573783e-05,-8.429692443432638e-05,-7.76820793424208e-05,-6.500409311233101e-05,-5.911263305021365e-05,-6.151343309317636e-05,-6.491170200601751e-05,-5.379636562289811e-05,-7.142167590335749e-05,-7.041838898466657e-05,-6.67418778079543e-05,-5.566506817749673e-05,-7.00329738991803e-05,-6.455060560823915e-05,-5.9715209043785435e-05,-4.8231790937704145e-05,-4.750932168834398e-05,-4.533224078181021e-05,-4.613127806605351e-05,-5.2128746464784326e-05,-4.675530596360438e-05,-5.754514579624031e-05,-5.525937524062307e-05,-5.531773478020157e-05,-5.279004063239853e-05,-5.6067108981243874e-05,-5.59267646236311e-05,-5.955764652444619e-05,-5.6146704614255154e-05,-5.0125037806261416e-05,-4.534565145764371e-05,-3.538068914440539e-05,-2.7730065711064527e-05,-3.3466762979430945e-05,-2.300316572141853e-05,-3.4080706029888984e-05,-2.9734015875117637e-05,-2.6331361462407195e-05,-3.2822427960955795e-05,-2.9747150988368833e-05,-3.370656776587738e-05,-4.396348785151759e-05,-3.59962439939244e-05,-3.630636499724407e-05,-3.591227218090534e-05,-4.089165266180214e-05,-4.76388686346794e-05,-5.481654842978906e-05,-4.523844815544826e-05,-3.137637257307618e-05,-1.5541606671453734e-05,-8.947757338464112e-06,-1.2687455624114117e-05,-1.3750152633805858e-05,-1.6520819455584238e-05,-1.67818871986082e-05,-1.747952870659363e-05,-1.4649143063925982e-05,-1.3757011287886083e-05,-1.890666783157212e-05,-1.7218382037915893e-05,-3.572536607023263e-05,-3.39961644340431e-05,-3.920494216092039e-05,-3.590991038084383e-05,-4.1800856780190455e-05,-3.881748475380916e-05,-4.98419087345697e-05,-4.7031493370714404e-05,-4.492820360884361e-05,-5.069814865943617e-05,-5.3864705700959296e-05,-6.83319052631956e-05,-7.081038496482882e-05,-7.580630198417604e-05,-7.060516488963347e-05,-6.893491854762087e-05,-7.068110568270083e-05,-7.240455935085869e-05,-7.286982349969176e-05,-8.421070515443954e-05,-9.558108424042666e-05,-9.592296524423938e-05,-9.665322849947882e-05,-9.413805819137805e-05,-9.77722953492818e-05,-0.00010222041925703846,-0.00011042406783200241,-0.00010342994194229905,-0.00010163903601522893,-0.00010739363307078168,-0.0001145233180914172,-0.0001044562276766082,-0.0001050836079187433,-0.00010027958356487177,-0.00010010065075024351,-9.94616741914697e-05,-0.00010098324142682907,-0.00010418914938661612,-0.00010469839270324998,-9.486105156961719e-05,-9.518880612253153e-05,-0.00010258201993731779,-0.0001091379231050202,-0.00011161450559321715,-0.00011312618108711152,-0.00010761035995025597,-0.00010244041422092934,-9.59910780217628e-05,-9.81936915335985e-05,-8.831883821231313e-05,-9.531024475405983e-05,-9.470923225511304e-05,-9.719424983201607e-05,-9.431709969735759e-05,-9.177198239553996e-05,-9.033549353557589e-05,-8.372174879830714e-05,-9.054128513107042e-05,-8.948582497576266e-05,-8.40047918596674e-05,-8.27939847728549e-05,-8.405766385672568e-05,-0.00010012340993177053,-9.560144317655801e-05,-9.796852189392709e-05,-0.000102131432467404,-9.682097950680624e-05,-9.93550535662302e-05,-9.982961866867083e-05,-9.844865430046613e-05,-0.00010793060540385943,-0.00011072537406841263,-0.00010117128913974291,-0.00010487291565820377,-0.00010508126743473574,-0.00010110793343184334,-0.0001039273481328836,-0.00010358984505859196,-0.00010040496428969769,-0.00010709046427622424,-0.00011125519010305417,-0.00011731474277661895,-0.00011407574341401193,-0.00010708242411336779,-0.00011392103275507351,-0.00011803675209236101,-0.00011929988328390827,-0.00012663893035270795,-0.0001233106629820104,-0.00013159740945035644,-0.00013320526059134013,-0.00012245551212085619,-0.00011946716193194078,-0.00012788413817200355,-0.00012124155130789041,-0.0001199870759484294,-0.0001273223703075533,-0.00012209172858326052,-0.00011987358091291168,-0.00012614973981979276,-0.00013334109139596776,-0.00013923052657375374,-0.00014248868061435987,-0.00014085250954948454,-0.00014249394315866818,-0.00014018559220746354,-0.00013171955759281543,-0.0001246512440249729,-0.00013530803991727955,-0.00012739587037950456,-0.0001284608553462287,-0.0001259638625695531,-0.0001263117209460028,-0.00013001907392602577,-0.00012791973794708646,-0.00012702482483425937,-0.00013163072631047334,-0.00013169970044582513,-0.00012475010791573047,-0.00012710663808695837,-0.00011693890673468194,-0.0001172453054063586,-0.00011558274538076593,-0.00011944745796630828,-0.00011686821703559783,-0.00011207713837935239,-0.00010605840519062998,-9.576531822634506e-05,-0.00010140820244727128,-0.00010473999858945089,-0.00010759078752753349,-0.00011574510113615349,-0.0001168836451263752,-0.00011842693455348433,-0.00011322654474136412,-0.00011466797938926017,-0.00011313010412994308,-0.00012409817206992862,-0.00012143636037987736,-0.00011967893406415243,-0.000127659274901572,-0.00013229628402438675,-0.0001359874456933576,-0.00014028191232625417,-0.0001415718251958479,-0.00015243050518053765,-0.00015373794986784663,-0.00014932897366604927,-0.00014527304191047337,-0.00014932772108347037,-0.000142826539841631,-0.0001424288471615126,-0.00014689780768387247,-0.00014346093212599703,-0.0001359025474246937,-0.00013352924489997515,-0.00013255896259893834,-0.0001357032466198628,-0.00011931284454185604,-0.00011217056502781575,-0.00011377901742571153,-0.00011195040017674199,-0.00011996586156089021,-0.00012175137954120209,-0.00011969573052710058,-0.00011475454250263473,-0.0001175905929378376,-0.00012785036109569338,-0.00013360731966214354,-0.0001271911356225913,-0.00012856176625919901,-0.0001234291887364028,-0.00012234181840269846,-0.0001206247503705495,-0.00011975235431721867,-0.00012523384800469618,-0.00012164087636953847,-0.00012576042780457902,-0.00013209823935149152,-0.00013282946831544534,-0.0001300367817114736,-0.00013437406906116958,-0.0001328262329522449,-0.00012401658112818942,-0.00012658704311076393,-0.0001206662043844839,-0.00011771884968750455,-0.00012420493260113883,-0.00012460520136552632,-0.00012704412233934003,-0.0001229859706590832,-0.00011714832274740809,-0.00011862264697712886,-0.00012369643815667258,-0.00012799173669650506,-0.00013160942703880968,-0.00013053935970613602,-0.00012844039663903613,-0.00012596246080172433,-0.0001250559080871491,-0.0001276460135164689,-0.00012302491411109043,-0.0001222246617985528,-0.00011311629247739876,-0.0001121565944907281,-0.00011704744213406493,-0.0001206866804219853,-0.00011661776614538526,-0.0001134109153043631,-0.00011597796043864394,-0.00011932748739917572,-0.0001284854238913593,-0.00012823854938370923,-0.00012664736020894397,-0.00012637642370969915,-0.00012659450737059026,-0.00012519358070859168,-0.00012088840855340138,-0.0001239904918621951,-0.00012413275980140723,-0.00012279215152331043,-0.00012354731761436916,-0.00012417410100589604,-0.0001222243067432057,-0.00012161440148805475,-0.0001192125682472928,-0.00011529329911482951,-0.00011635010915336352,-0.00012545233630415712,-0.00012715651786236043,-0.00013306656850518113,-0.0001293248162408363,-0.00012777346105997153,-0.00012874854963063672,-0.0001248001717476879,-0.00011761544440758468,-0.00012164834266178005,-0.00012208803718676713,-0.0001216754691559371,-0.00012390958207158923,-0.00013253754482654158,-0.0001312096668814799,-0.00013133551884593237,-0.0001291523391760709,-0.0001278420380138633,-0.00012454511115785136,-0.00012988856102684487,-0.00013115546291878662,-0.0001302369391956771,-0.00013171305640120217,-0.0001287433835104124,-0.00013212021876794875,-0.0001274606725564279,-0.00012579809603572157,-0.00012377297003892556,-0.00011810626090130857,-0.00011707305204063925,-0.00011409688878186402,-0.00011697162065358018,-0.00011585417895467083,-0.00012078971588779159,-0.00012074197432349336,-0.00012126149718256042,-0.00012412483237768694,-0.0001238558990827429,-0.00012217255752588075,-0.00012248033823717016,-0.00012736602345497653,-0.00012401389817717876,-0.0001233342639727869,-0.00012211511464786467,-0.00012353352015258322,-0.00012112967616547104,-0.00011564906509783056,-0.00011712366771574707,-0.0001182017479791958,-0.00012153849943130255,-0.0001214461793885512,-0.00012240064894470043,-0.00011794790582812711,-0.00012401997295676307,-0.0001264458073419678,-0.0001211097692595019,-0.00011980584705899929,-0.00012178460900511847,-0.0001206046117190971,-0.0001166911713178021,-0.00011520100616001184,-0.00012039908480899206,-0.0001155867910504892,-0.00011702049849723439,-0.00011690475345063839,-0.00012006239894705095,-0.00011720312910458528,-0.00011675029059559478,-0.00012110549722496502,-0.00012089939607544658,-0.0001258849938528229,-0.00012209193103463237,-0.0001221208283670775,-0.00011944263562075263,-0.00012150753571384576,-0.00012143821423742508,-0.00011967446708672277,-0.00012164147116626185,-0.0001237539999026805,-0.00013515198569960876,-0.0001313244186990103,-0.00013340221147821658,-0.0001321926122638921,-0.00012590269308509886,-0.0001227377585142121,-0.00012796936020180645,-0.00012980006573793008,-0.00013238990266533843,-0.00012831097782854749,-0.00012744907637395595,-0.00012421044811658055,-0.00011960579094485546,-0.00012101001014297084,-0.00012417490988557672,-0.0001285357452705635,-0.00012916754734088563,-0.0001237588268309213,-0.00012254413814864295,-0.00011836851039918623,-0.00011797111180273452,-0.00011655904407753071,-0.00012012661002605866,-0.00012320794099291766,-0.0001238327888480311,-0.0001266476925032825,-0.00012270017711388552,-0.00012201655661023313,-0.00011590935685696626,-0.00012132998889230798,-0.0001268453740642093,-0.00012142932335689805,-0.00011851155456520102,-0.00011154985634822634,-0.00011323210690096573,-0.00011562879778731646,-0.0001101037861932462,-0.00011266653364688621,-0.00010961738710615269,-0.00010487896872366518,-0.00010191996532799203,-0.00010157126226112813,-0.00010206676387076725,-0.00010662653079078943,-0.0001022970007252687,-0.00010396982479643686,-0.00010219060747563105,-9.669288602500662e-05,-9.522695969805834e-05,-9.7588001186447e-05,-9.994086316250411e-05,-0.00010147506562382491,-9.848669572712636e-05,-0.00010046716778209087,-0.00010445598377898367,-0.00010240824674265757,-0.00010685069539726464,-0.00010423061402950592,-0.00010499017737857939,-9.914259987382854e-05,-9.970070695638719e-05,-9.871341755150471e-05,-9.618574160761835e-05,-9.602545665348739e-05,-9.335713680085696e-05,-9.503094040991429e-05,-9.634674779967036e-05,-9.130564023997027e-05,-8.344356905383844e-05,-7.990733418247698e-05,-8.035922107684813e-05,-8.42795035270712e-05,-8.794143025669032e-05,-8.878902961796252e-05,-8.778670947013874e-05,-9.168318770267421e-05,-9.473587596516811e-05,-9.374495628956413e-05,-9.245351201322613e-05,-9.134655841504236e-05,-9.17132229645471e-05,-9.102106148903277e-05,-9.06528320758198e-05,-9.19982638630108e-05,-9.49458842808195e-05,-9.079914588325916e-05,-9.487667316344494e-05,-9.50506665189139e-05,-8.974469127182667e-05,-9.274569408002325e-05,-9.53649746320514e-05,-9.09081181528445e-05,-9.244160060547764e-05,-9.406396337596529e-05,-9.475612168582796e-05,-9.409812962892937e-05,-9.468581495351413e-05,-9.614604083618878e-05,-9.384082940972534e-05,-9.398670533919645e-05,-8.942022229170858e-05,-8.565657604509816e-05,-8.551976954667513e-05,-8.50494465404664e-05,-8.533343073975814e-05,-8.378537829453823e-05,-8.13915239605169e-05,-8.392118684188987e-05,-8.460472795358397e-05,-8.833625123380985e-05,-8.568629522889381e-05,-8.001342518559093e-05,-8.179717860970135e-05,-8.416417544996561e-05,-8.092594516830812e-05,-8.16518254907984e-05,-7.75630883115291e-05,-7.344970741456622e-05,-7.139294186051524e-05,-7.127603363656153e-05,-6.823932694832171e-05,-6.921942142124049e-05,-7.001112136953457e-05,-6.931309878777678e-05,-6.448333176539093e-05,-6.222094939571838e-05,-6.101138034197257e-05,-6.28435529921353e-05,-6.158678588550823e-05,-6.08191427685634e-05,-6.169732905823237e-05,-6.063391948675956e-05,-6.24970268483044e-05,-6.370605750794455e-05,-6.599003004600977e-05,-7.034180499657897e-05,-6.831585118209616e-05,-7.200576582160284e-05,-6.533976543215709e-05,-6.431251925773486e-05,-6.868221955704695e-05,-6.16528311249869e-05],\"yaxis\":\"y\",\"type\":\"scattergl\"}],                        {\"template\":{\"data\":{\"histogram2dcontour\":[{\"type\":\"histogram2dcontour\",\"colorbar\":{\"outlinewidth\":0,\"ticks\":\"\"},\"colorscale\":[[0.0,\"#0d0887\"],[0.1111111111111111,\"#46039f\"],[0.2222222222222222,\"#7201a8\"],[0.3333333333333333,\"#9c179e\"],[0.4444444444444444,\"#bd3786\"],[0.5555555555555556,\"#d8576b\"],[0.6666666666666666,\"#ed7953\"],[0.7777777777777778,\"#fb9f3a\"],[0.8888888888888888,\"#fdca26\"],[1.0,\"#f0f921\"]]}],\"choropleth\":[{\"type\":\"choropleth\",\"colorbar\":{\"outlinewidth\":0,\"ticks\":\"\"}}],\"histogram2d\":[{\"type\":\"histogram2d\",\"colorbar\":{\"outlinewidth\":0,\"ticks\":\"\"},\"colorscale\":[[0.0,\"#0d0887\"],[0.1111111111111111,\"#46039f\"],[0.2222222222222222,\"#7201a8\"],[0.3333333333333333,\"#9c179e\"],[0.4444444444444444,\"#bd3786\"],[0.5555555555555556,\"#d8576b\"],[0.6666666666666666,\"#ed7953\"],[0.7777777777777778,\"#fb9f3a\"],[0.8888888888888888,\"#fdca26\"],[1.0,\"#f0f921\"]]}],\"heatmap\":[{\"type\":\"heatmap\",\"colorbar\":{\"outlinewidth\":0,\"ticks\":\"\"},\"colorscale\":[[0.0,\"#0d0887\"],[0.1111111111111111,\"#46039f\"],[0.2222222222222222,\"#7201a8\"],[0.3333333333333333,\"#9c179e\"],[0.4444444444444444,\"#bd3786\"],[0.5555555555555556,\"#d8576b\"],[0.6666666666666666,\"#ed7953\"],[0.7777777777777778,\"#fb9f3a\"],[0.8888888888888888,\"#fdca26\"],[1.0,\"#f0f921\"]]}],\"heatmapgl\":[{\"type\":\"heatmapgl\",\"colorbar\":{\"outlinewidth\":0,\"ticks\":\"\"},\"colorscale\":[[0.0,\"#0d0887\"],[0.1111111111111111,\"#46039f\"],[0.2222222222222222,\"#7201a8\"],[0.3333333333333333,\"#9c179e\"],[0.4444444444444444,\"#bd3786\"],[0.5555555555555556,\"#d8576b\"],[0.6666666666666666,\"#ed7953\"],[0.7777777777777778,\"#fb9f3a\"],[0.8888888888888888,\"#fdca26\"],[1.0,\"#f0f921\"]]}],\"contourcarpet\":[{\"type\":\"contourcarpet\",\"colorbar\":{\"outlinewidth\":0,\"ticks\":\"\"}}],\"contour\":[{\"type\":\"contour\",\"colorbar\":{\"outlinewidth\":0,\"ticks\":\"\"},\"colorscale\":[[0.0,\"#0d0887\"],[0.1111111111111111,\"#46039f\"],[0.2222222222222222,\"#7201a8\"],[0.3333333333333333,\"#9c179e\"],[0.4444444444444444,\"#bd3786\"],[0.5555555555555556,\"#d8576b\"],[0.6666666666666666,\"#ed7953\"],[0.7777777777777778,\"#fb9f3a\"],[0.8888888888888888,\"#fdca26\"],[1.0,\"#f0f921\"]]}],\"surface\":[{\"type\":\"surface\",\"colorbar\":{\"outlinewidth\":0,\"ticks\":\"\"},\"colorscale\":[[0.0,\"#0d0887\"],[0.1111111111111111,\"#46039f\"],[0.2222222222222222,\"#7201a8\"],[0.3333333333333333,\"#9c179e\"],[0.4444444444444444,\"#bd3786\"],[0.5555555555555556,\"#d8576b\"],[0.6666666666666666,\"#ed7953\"],[0.7777777777777778,\"#fb9f3a\"],[0.8888888888888888,\"#fdca26\"],[1.0,\"#f0f921\"]]}],\"mesh3d\":[{\"type\":\"mesh3d\",\"colorbar\":{\"outlinewidth\":0,\"ticks\":\"\"}}],\"scatter\":[{\"fillpattern\":{\"fillmode\":\"overlay\",\"size\":10,\"solidity\":0.2},\"type\":\"scatter\"}],\"parcoords\":[{\"type\":\"parcoords\",\"line\":{\"colorbar\":{\"outlinewidth\":0,\"ticks\":\"\"}}}],\"scatterpolargl\":[{\"type\":\"scatterpolargl\",\"marker\":{\"colorbar\":{\"outlinewidth\":0,\"ticks\":\"\"}}}],\"bar\":[{\"error_x\":{\"color\":\"#2a3f5f\"},\"error_y\":{\"color\":\"#2a3f5f\"},\"marker\":{\"line\":{\"color\":\"#E5ECF6\",\"width\":0.5},\"pattern\":{\"fillmode\":\"overlay\",\"size\":10,\"solidity\":0.2}},\"type\":\"bar\"}],\"scattergeo\":[{\"type\":\"scattergeo\",\"marker\":{\"colorbar\":{\"outlinewidth\":0,\"ticks\":\"\"}}}],\"scatterpolar\":[{\"type\":\"scatterpolar\",\"marker\":{\"colorbar\":{\"outlinewidth\":0,\"ticks\":\"\"}}}],\"histogram\":[{\"marker\":{\"pattern\":{\"fillmode\":\"overlay\",\"size\":10,\"solidity\":0.2}},\"type\":\"histogram\"}],\"scattergl\":[{\"type\":\"scattergl\",\"marker\":{\"colorbar\":{\"outlinewidth\":0,\"ticks\":\"\"}}}],\"scatter3d\":[{\"type\":\"scatter3d\",\"line\":{\"colorbar\":{\"outlinewidth\":0,\"ticks\":\"\"}},\"marker\":{\"colorbar\":{\"outlinewidth\":0,\"ticks\":\"\"}}}],\"scattermapbox\":[{\"type\":\"scattermapbox\",\"marker\":{\"colorbar\":{\"outlinewidth\":0,\"ticks\":\"\"}}}],\"scatterternary\":[{\"type\":\"scatterternary\",\"marker\":{\"colorbar\":{\"outlinewidth\":0,\"ticks\":\"\"}}}],\"scattercarpet\":[{\"type\":\"scattercarpet\",\"marker\":{\"colorbar\":{\"outlinewidth\":0,\"ticks\":\"\"}}}],\"carpet\":[{\"aaxis\":{\"endlinecolor\":\"#2a3f5f\",\"gridcolor\":\"white\",\"linecolor\":\"white\",\"minorgridcolor\":\"white\",\"startlinecolor\":\"#2a3f5f\"},\"baxis\":{\"endlinecolor\":\"#2a3f5f\",\"gridcolor\":\"white\",\"linecolor\":\"white\",\"minorgridcolor\":\"white\",\"startlinecolor\":\"#2a3f5f\"},\"type\":\"carpet\"}],\"table\":[{\"cells\":{\"fill\":{\"color\":\"#EBF0F8\"},\"line\":{\"color\":\"white\"}},\"header\":{\"fill\":{\"color\":\"#C8D4E3\"},\"line\":{\"color\":\"white\"}},\"type\":\"table\"}],\"barpolar\":[{\"marker\":{\"line\":{\"color\":\"#E5ECF6\",\"width\":0.5},\"pattern\":{\"fillmode\":\"overlay\",\"size\":10,\"solidity\":0.2}},\"type\":\"barpolar\"}],\"pie\":[{\"automargin\":true,\"type\":\"pie\"}]},\"layout\":{\"autotypenumbers\":\"strict\",\"colorway\":[\"#636efa\",\"#EF553B\",\"#00cc96\",\"#ab63fa\",\"#FFA15A\",\"#19d3f3\",\"#FF6692\",\"#B6E880\",\"#FF97FF\",\"#FECB52\"],\"font\":{\"color\":\"#2a3f5f\"},\"hovermode\":\"closest\",\"hoverlabel\":{\"align\":\"left\"},\"paper_bgcolor\":\"white\",\"plot_bgcolor\":\"#E5ECF6\",\"polar\":{\"bgcolor\":\"#E5ECF6\",\"angularaxis\":{\"gridcolor\":\"white\",\"linecolor\":\"white\",\"ticks\":\"\"},\"radialaxis\":{\"gridcolor\":\"white\",\"linecolor\":\"white\",\"ticks\":\"\"}},\"ternary\":{\"bgcolor\":\"#E5ECF6\",\"aaxis\":{\"gridcolor\":\"white\",\"linecolor\":\"white\",\"ticks\":\"\"},\"baxis\":{\"gridcolor\":\"white\",\"linecolor\":\"white\",\"ticks\":\"\"},\"caxis\":{\"gridcolor\":\"white\",\"linecolor\":\"white\",\"ticks\":\"\"}},\"coloraxis\":{\"colorbar\":{\"outlinewidth\":0,\"ticks\":\"\"}},\"colorscale\":{\"sequential\":[[0.0,\"#0d0887\"],[0.1111111111111111,\"#46039f\"],[0.2222222222222222,\"#7201a8\"],[0.3333333333333333,\"#9c179e\"],[0.4444444444444444,\"#bd3786\"],[0.5555555555555556,\"#d8576b\"],[0.6666666666666666,\"#ed7953\"],[0.7777777777777778,\"#fb9f3a\"],[0.8888888888888888,\"#fdca26\"],[1.0,\"#f0f921\"]],\"sequentialminus\":[[0.0,\"#0d0887\"],[0.1111111111111111,\"#46039f\"],[0.2222222222222222,\"#7201a8\"],[0.3333333333333333,\"#9c179e\"],[0.4444444444444444,\"#bd3786\"],[0.5555555555555556,\"#d8576b\"],[0.6666666666666666,\"#ed7953\"],[0.7777777777777778,\"#fb9f3a\"],[0.8888888888888888,\"#fdca26\"],[1.0,\"#f0f921\"]],\"diverging\":[[0,\"#8e0152\"],[0.1,\"#c51b7d\"],[0.2,\"#de77ae\"],[0.3,\"#f1b6da\"],[0.4,\"#fde0ef\"],[0.5,\"#f7f7f7\"],[0.6,\"#e6f5d0\"],[0.7,\"#b8e186\"],[0.8,\"#7fbc41\"],[0.9,\"#4d9221\"],[1,\"#276419\"]]},\"xaxis\":{\"gridcolor\":\"white\",\"linecolor\":\"white\",\"ticks\":\"\",\"title\":{\"standoff\":15},\"zerolinecolor\":\"white\",\"automargin\":true,\"zerolinewidth\":2},\"yaxis\":{\"gridcolor\":\"white\",\"linecolor\":\"white\",\"ticks\":\"\",\"title\":{\"standoff\":15},\"zerolinecolor\":\"white\",\"automargin\":true,\"zerolinewidth\":2},\"scene\":{\"xaxis\":{\"backgroundcolor\":\"#E5ECF6\",\"gridcolor\":\"white\",\"linecolor\":\"white\",\"showbackground\":true,\"ticks\":\"\",\"zerolinecolor\":\"white\",\"gridwidth\":2},\"yaxis\":{\"backgroundcolor\":\"#E5ECF6\",\"gridcolor\":\"white\",\"linecolor\":\"white\",\"showbackground\":true,\"ticks\":\"\",\"zerolinecolor\":\"white\",\"gridwidth\":2},\"zaxis\":{\"backgroundcolor\":\"#E5ECF6\",\"gridcolor\":\"white\",\"linecolor\":\"white\",\"showbackground\":true,\"ticks\":\"\",\"zerolinecolor\":\"white\",\"gridwidth\":2}},\"shapedefaults\":{\"line\":{\"color\":\"#2a3f5f\"}},\"annotationdefaults\":{\"arrowcolor\":\"#2a3f5f\",\"arrowhead\":0,\"arrowwidth\":1},\"geo\":{\"bgcolor\":\"white\",\"landcolor\":\"#E5ECF6\",\"subunitcolor\":\"white\",\"showland\":true,\"showlakes\":true,\"lakecolor\":\"white\"},\"title\":{\"x\":0.05},\"mapbox\":{\"style\":\"light\"}}},\"xaxis\":{\"anchor\":\"y\",\"domain\":[0.0,1.0],\"title\":{\"text\":\"x\"}},\"yaxis\":{\"anchor\":\"x\",\"domain\":[0.0,1.0],\"title\":{\"text\":\"y\"}},\"legend\":{\"tracegroupgap\":0},\"margin\":{\"t\":60}},                        {\"responsive\": true}                    ).then(function(){\n",
       "                            \n",
       "var gd = document.getElementById('0d17ffbb-e223-4375-baec-a27700adbef1');\n",
       "var x = new MutationObserver(function (mutations, observer) {{\n",
       "        var display = window.getComputedStyle(gd).display;\n",
       "        if (!display || display === 'none') {{\n",
       "            console.log([gd, 'removed!']);\n",
       "            Plotly.purge(gd);\n",
       "            observer.disconnect();\n",
       "        }}\n",
       "}});\n",
       "\n",
       "// Listen for the removal of the full notebook cells\n",
       "var notebookContainer = gd.closest('#notebook-container');\n",
       "if (notebookContainer) {{\n",
       "    x.observe(notebookContainer, {childList: true});\n",
       "}}\n",
       "\n",
       "// Listen for the clearing of the current output cell\n",
       "var outputEl = gd.closest('.output');\n",
       "if (outputEl) {{\n",
       "    x.observe(outputEl, {childList: true});\n",
       "}}\n",
       "\n",
       "                        })                };                });            </script>        </div>"
      ]
     },
     "metadata": {},
     "output_type": "display_data"
    }
   ],
   "source": [
    "ex.line(y=data_kalman.var(axis=0) - data_average.var(axis=0))"
   ]
  },
  {
   "cell_type": "markdown",
   "id": "cf324960-3b02-4e30-8171-ca5c5b1deb0a",
   "metadata": {},
   "source": [
    "## Kalman gain and variance\n",
    "\n",
    "We can show that, in the above setting, estimated variance will always converge to zero. Let's start with the following two steps of the Kalman update:\n",
    "\n",
    "$$K = \\frac{P_{i}}{P_{i} + R}$$\n",
    "$$P_{i+1} = (K-1)^2P_i + K^2R$$\n",
    "\n",
    "Now we can ask: for what value $P$ we obtain the equality $P = P_{i+1} = P_i$? We can easily answer that question:\n",
    "\n",
    "$$P = (K-1)^2P + K^2R$$\n",
    "$$P = (\\frac{P}{P+R} - 1)^2P + (\\frac{P}{P+R})^2R$$\n",
    "$$P = \\frac{PR^2}{(P+R)^2} + \\frac{PR^2}{(P+R)^2}$$\n",
    "$$P = \\frac{2PR^2}{(P+R)^2}$$\n",
    "\n",
    "Since $R$ cannot be equal zero, the only solution to the above is $P=0$."
   ]
  },
  {
   "cell_type": "markdown",
   "id": "42f4f669-37e8-43bc-847b-153ca0af2671",
   "metadata": {},
   "source": [
    "## With process noise\n",
    "\n",
    "In the presence of process noise, $P$ converges to a non-zero value which is a function of both $Q$ and $R$.\n",
    "\n",
    "$$P_{t+1,t} = P_{t} + Q$$\n",
    "$$K = \\frac{P_{t+1,t}}{P_{t+1,t} + R}$$\n",
    "$$P_{t+1,t+1} = (1-K)^2P_{t+1,t} + K^2R = (1-K)P_{t+1,t}$$\n",
    "\n",
    "Once we again we ask, for which value $P$ we obtain $P = P_{t+1,t+1} = P_{t+1}$? In order to answer this question, we need to solve $P = (1-K)P$ where $K = \\frac{P+Q}{P+Q+R}$:\n",
    "\n",
    "$$P = (1 - \\frac{P+Q}{P+Q+R})(P+Q)$$\n",
    "$$P = P + Q - \\frac{(P+Q)^2}{P+Q+R}$$\n",
    "$$\\frac{(P+Q)^2}{P+Q+R} - Q = 0$$\n",
    "$$P^2 + 2PQ + Q^2 - PQ - Q^2 - QR$$\n",
    "$$P^2 + PQ - QR = 0$$\n",
    "\n",
    "$$P = \\frac{-Q \\pm \\sqrt{Q^2 + 4QR}}{2}$$\n",
    "\n",
    "Since $P$ cannot be negative, this leaves only one solution: $P = \\frac{1}{2}(-Q + \\sqrt{Q^2 + 4QR})$. Let's verify that numerically."
   ]
  },
  {
   "cell_type": "code",
   "execution_count": 81,
   "id": "4c61416b-bc46-45a1-8680-eef8bffd4571",
   "metadata": {},
   "outputs": [],
   "source": [
    "def kalman_with_noise(Q, R, n):\n",
    "    P = R\n",
    "    for _ in range(n):\n",
    "        P = P + Q\n",
    "        K = P/(P+R)\n",
    "        P = (1-K)**2 * P + K**2 * R\n",
    "    return P"
   ]
  },
  {
   "cell_type": "code",
   "execution_count": 103,
   "id": "115a7dc2-b22b-4120-b306-2a8cb2263b8f",
   "metadata": {},
   "outputs": [
    {
     "data": {
      "application/vnd.plotly.v1+json": {
       "config": {
        "plotlyServerURL": "https://plot.ly"
       },
       "data": [
        {
         "hovertemplate": "numeric=%{x}<br>predicted=%{y}<extra></extra>",
         "legendgroup": "",
         "marker": {
          "color": "#636efa",
          "symbol": "circle"
         },
         "mode": "markers",
         "name": "",
         "orientation": "v",
         "showlegend": false,
         "type": "scatter",
         "x": [
          0.06180339887498949,
          0.17912878474779198,
          0.27015621187164246,
          0.4000000000000002,
          0.6588723439384606,
          0.9512492231328454,
          0.08541019662496846,
          0.3090169943749474,
          0.5,
          0.7807764064044153,
          1.3507810593582121,
          2,
          0.0916079783099616,
          0.3660254037844386,
          0.6180339887498948,
          1,
          1.79128784747792,
          2.7015621187164243,
          0.09544511501033223,
          0.41421356237309503,
          0.7320508075688772,
          1.2360679774997896,
          2.3166247903554,
          3.58257569495584,
          0.09807621135331594,
          0.458039891549808,
          0.8541019662496845,
          1.5311288741492748,
          3.090169943749474,
          5,
          0.09901951359278484,
          0.47722557505166113,
          0.916079783099616,
          1.708203932499369,
          3.6602540378443864,
          6.180339887498948
         ],
         "xaxis": "x",
         "y": [
          0.06180339887498949,
          0.17912878474779204,
          0.27015621187164246,
          0.4,
          0.6588723439378912,
          0.9512492197250393,
          0.08541019662496846,
          0.30901699437494745,
          0.5,
          0.7807764064044151,
          1.3507810593582121,
          2,
          0.09160797830996159,
          0.3660254037844386,
          0.6180339887498949,
          1,
          1.79128784747792,
          2.7015621187164243,
          0.09544511501033215,
          0.41421356237309515,
          0.7320508075688772,
          1.2360679774997898,
          2.3166247903554,
          3.58257569495584,
          0.09807621135331601,
          0.45803989154980806,
          0.8541019662496847,
          1.5311288741492746,
          3.0901699437494745,
          5,
          0.09901951359278449,
          0.4772255750516612,
          0.9160797830996161,
          1.7082039324993694,
          3.6602540378443873,
          6.180339887498949
         ],
         "yaxis": "y"
        }
       ],
       "layout": {
        "autosize": true,
        "legend": {
         "tracegroupgap": 0
        },
        "margin": {
         "t": 60
        },
        "template": {
         "data": {
          "bar": [
           {
            "error_x": {
             "color": "#2a3f5f"
            },
            "error_y": {
             "color": "#2a3f5f"
            },
            "marker": {
             "line": {
              "color": "#E5ECF6",
              "width": 0.5
             },
             "pattern": {
              "fillmode": "overlay",
              "size": 10,
              "solidity": 0.2
             }
            },
            "type": "bar"
           }
          ],
          "barpolar": [
           {
            "marker": {
             "line": {
              "color": "#E5ECF6",
              "width": 0.5
             },
             "pattern": {
              "fillmode": "overlay",
              "size": 10,
              "solidity": 0.2
             }
            },
            "type": "barpolar"
           }
          ],
          "carpet": [
           {
            "aaxis": {
             "endlinecolor": "#2a3f5f",
             "gridcolor": "white",
             "linecolor": "white",
             "minorgridcolor": "white",
             "startlinecolor": "#2a3f5f"
            },
            "baxis": {
             "endlinecolor": "#2a3f5f",
             "gridcolor": "white",
             "linecolor": "white",
             "minorgridcolor": "white",
             "startlinecolor": "#2a3f5f"
            },
            "type": "carpet"
           }
          ],
          "choropleth": [
           {
            "colorbar": {
             "outlinewidth": 0,
             "ticks": ""
            },
            "type": "choropleth"
           }
          ],
          "contour": [
           {
            "colorbar": {
             "outlinewidth": 0,
             "ticks": ""
            },
            "colorscale": [
             [
              0,
              "#0d0887"
             ],
             [
              0.1111111111111111,
              "#46039f"
             ],
             [
              0.2222222222222222,
              "#7201a8"
             ],
             [
              0.3333333333333333,
              "#9c179e"
             ],
             [
              0.4444444444444444,
              "#bd3786"
             ],
             [
              0.5555555555555556,
              "#d8576b"
             ],
             [
              0.6666666666666666,
              "#ed7953"
             ],
             [
              0.7777777777777778,
              "#fb9f3a"
             ],
             [
              0.8888888888888888,
              "#fdca26"
             ],
             [
              1,
              "#f0f921"
             ]
            ],
            "type": "contour"
           }
          ],
          "contourcarpet": [
           {
            "colorbar": {
             "outlinewidth": 0,
             "ticks": ""
            },
            "type": "contourcarpet"
           }
          ],
          "heatmap": [
           {
            "colorbar": {
             "outlinewidth": 0,
             "ticks": ""
            },
            "colorscale": [
             [
              0,
              "#0d0887"
             ],
             [
              0.1111111111111111,
              "#46039f"
             ],
             [
              0.2222222222222222,
              "#7201a8"
             ],
             [
              0.3333333333333333,
              "#9c179e"
             ],
             [
              0.4444444444444444,
              "#bd3786"
             ],
             [
              0.5555555555555556,
              "#d8576b"
             ],
             [
              0.6666666666666666,
              "#ed7953"
             ],
             [
              0.7777777777777778,
              "#fb9f3a"
             ],
             [
              0.8888888888888888,
              "#fdca26"
             ],
             [
              1,
              "#f0f921"
             ]
            ],
            "type": "heatmap"
           }
          ],
          "heatmapgl": [
           {
            "colorbar": {
             "outlinewidth": 0,
             "ticks": ""
            },
            "colorscale": [
             [
              0,
              "#0d0887"
             ],
             [
              0.1111111111111111,
              "#46039f"
             ],
             [
              0.2222222222222222,
              "#7201a8"
             ],
             [
              0.3333333333333333,
              "#9c179e"
             ],
             [
              0.4444444444444444,
              "#bd3786"
             ],
             [
              0.5555555555555556,
              "#d8576b"
             ],
             [
              0.6666666666666666,
              "#ed7953"
             ],
             [
              0.7777777777777778,
              "#fb9f3a"
             ],
             [
              0.8888888888888888,
              "#fdca26"
             ],
             [
              1,
              "#f0f921"
             ]
            ],
            "type": "heatmapgl"
           }
          ],
          "histogram": [
           {
            "marker": {
             "pattern": {
              "fillmode": "overlay",
              "size": 10,
              "solidity": 0.2
             }
            },
            "type": "histogram"
           }
          ],
          "histogram2d": [
           {
            "colorbar": {
             "outlinewidth": 0,
             "ticks": ""
            },
            "colorscale": [
             [
              0,
              "#0d0887"
             ],
             [
              0.1111111111111111,
              "#46039f"
             ],
             [
              0.2222222222222222,
              "#7201a8"
             ],
             [
              0.3333333333333333,
              "#9c179e"
             ],
             [
              0.4444444444444444,
              "#bd3786"
             ],
             [
              0.5555555555555556,
              "#d8576b"
             ],
             [
              0.6666666666666666,
              "#ed7953"
             ],
             [
              0.7777777777777778,
              "#fb9f3a"
             ],
             [
              0.8888888888888888,
              "#fdca26"
             ],
             [
              1,
              "#f0f921"
             ]
            ],
            "type": "histogram2d"
           }
          ],
          "histogram2dcontour": [
           {
            "colorbar": {
             "outlinewidth": 0,
             "ticks": ""
            },
            "colorscale": [
             [
              0,
              "#0d0887"
             ],
             [
              0.1111111111111111,
              "#46039f"
             ],
             [
              0.2222222222222222,
              "#7201a8"
             ],
             [
              0.3333333333333333,
              "#9c179e"
             ],
             [
              0.4444444444444444,
              "#bd3786"
             ],
             [
              0.5555555555555556,
              "#d8576b"
             ],
             [
              0.6666666666666666,
              "#ed7953"
             ],
             [
              0.7777777777777778,
              "#fb9f3a"
             ],
             [
              0.8888888888888888,
              "#fdca26"
             ],
             [
              1,
              "#f0f921"
             ]
            ],
            "type": "histogram2dcontour"
           }
          ],
          "mesh3d": [
           {
            "colorbar": {
             "outlinewidth": 0,
             "ticks": ""
            },
            "type": "mesh3d"
           }
          ],
          "parcoords": [
           {
            "line": {
             "colorbar": {
              "outlinewidth": 0,
              "ticks": ""
             }
            },
            "type": "parcoords"
           }
          ],
          "pie": [
           {
            "automargin": true,
            "type": "pie"
           }
          ],
          "scatter": [
           {
            "fillpattern": {
             "fillmode": "overlay",
             "size": 10,
             "solidity": 0.2
            },
            "type": "scatter"
           }
          ],
          "scatter3d": [
           {
            "line": {
             "colorbar": {
              "outlinewidth": 0,
              "ticks": ""
             }
            },
            "marker": {
             "colorbar": {
              "outlinewidth": 0,
              "ticks": ""
             }
            },
            "type": "scatter3d"
           }
          ],
          "scattercarpet": [
           {
            "marker": {
             "colorbar": {
              "outlinewidth": 0,
              "ticks": ""
             }
            },
            "type": "scattercarpet"
           }
          ],
          "scattergeo": [
           {
            "marker": {
             "colorbar": {
              "outlinewidth": 0,
              "ticks": ""
             }
            },
            "type": "scattergeo"
           }
          ],
          "scattergl": [
           {
            "marker": {
             "colorbar": {
              "outlinewidth": 0,
              "ticks": ""
             }
            },
            "type": "scattergl"
           }
          ],
          "scattermapbox": [
           {
            "marker": {
             "colorbar": {
              "outlinewidth": 0,
              "ticks": ""
             }
            },
            "type": "scattermapbox"
           }
          ],
          "scatterpolar": [
           {
            "marker": {
             "colorbar": {
              "outlinewidth": 0,
              "ticks": ""
             }
            },
            "type": "scatterpolar"
           }
          ],
          "scatterpolargl": [
           {
            "marker": {
             "colorbar": {
              "outlinewidth": 0,
              "ticks": ""
             }
            },
            "type": "scatterpolargl"
           }
          ],
          "scatterternary": [
           {
            "marker": {
             "colorbar": {
              "outlinewidth": 0,
              "ticks": ""
             }
            },
            "type": "scatterternary"
           }
          ],
          "surface": [
           {
            "colorbar": {
             "outlinewidth": 0,
             "ticks": ""
            },
            "colorscale": [
             [
              0,
              "#0d0887"
             ],
             [
              0.1111111111111111,
              "#46039f"
             ],
             [
              0.2222222222222222,
              "#7201a8"
             ],
             [
              0.3333333333333333,
              "#9c179e"
             ],
             [
              0.4444444444444444,
              "#bd3786"
             ],
             [
              0.5555555555555556,
              "#d8576b"
             ],
             [
              0.6666666666666666,
              "#ed7953"
             ],
             [
              0.7777777777777778,
              "#fb9f3a"
             ],
             [
              0.8888888888888888,
              "#fdca26"
             ],
             [
              1,
              "#f0f921"
             ]
            ],
            "type": "surface"
           }
          ],
          "table": [
           {
            "cells": {
             "fill": {
              "color": "#EBF0F8"
             },
             "line": {
              "color": "white"
             }
            },
            "header": {
             "fill": {
              "color": "#C8D4E3"
             },
             "line": {
              "color": "white"
             }
            },
            "type": "table"
           }
          ]
         },
         "layout": {
          "annotationdefaults": {
           "arrowcolor": "#2a3f5f",
           "arrowhead": 0,
           "arrowwidth": 1
          },
          "autotypenumbers": "strict",
          "coloraxis": {
           "colorbar": {
            "outlinewidth": 0,
            "ticks": ""
           }
          },
          "colorscale": {
           "diverging": [
            [
             0,
             "#8e0152"
            ],
            [
             0.1,
             "#c51b7d"
            ],
            [
             0.2,
             "#de77ae"
            ],
            [
             0.3,
             "#f1b6da"
            ],
            [
             0.4,
             "#fde0ef"
            ],
            [
             0.5,
             "#f7f7f7"
            ],
            [
             0.6,
             "#e6f5d0"
            ],
            [
             0.7,
             "#b8e186"
            ],
            [
             0.8,
             "#7fbc41"
            ],
            [
             0.9,
             "#4d9221"
            ],
            [
             1,
             "#276419"
            ]
           ],
           "sequential": [
            [
             0,
             "#0d0887"
            ],
            [
             0.1111111111111111,
             "#46039f"
            ],
            [
             0.2222222222222222,
             "#7201a8"
            ],
            [
             0.3333333333333333,
             "#9c179e"
            ],
            [
             0.4444444444444444,
             "#bd3786"
            ],
            [
             0.5555555555555556,
             "#d8576b"
            ],
            [
             0.6666666666666666,
             "#ed7953"
            ],
            [
             0.7777777777777778,
             "#fb9f3a"
            ],
            [
             0.8888888888888888,
             "#fdca26"
            ],
            [
             1,
             "#f0f921"
            ]
           ],
           "sequentialminus": [
            [
             0,
             "#0d0887"
            ],
            [
             0.1111111111111111,
             "#46039f"
            ],
            [
             0.2222222222222222,
             "#7201a8"
            ],
            [
             0.3333333333333333,
             "#9c179e"
            ],
            [
             0.4444444444444444,
             "#bd3786"
            ],
            [
             0.5555555555555556,
             "#d8576b"
            ],
            [
             0.6666666666666666,
             "#ed7953"
            ],
            [
             0.7777777777777778,
             "#fb9f3a"
            ],
            [
             0.8888888888888888,
             "#fdca26"
            ],
            [
             1,
             "#f0f921"
            ]
           ]
          },
          "colorway": [
           "#636efa",
           "#EF553B",
           "#00cc96",
           "#ab63fa",
           "#FFA15A",
           "#19d3f3",
           "#FF6692",
           "#B6E880",
           "#FF97FF",
           "#FECB52"
          ],
          "font": {
           "color": "#2a3f5f"
          },
          "geo": {
           "bgcolor": "white",
           "lakecolor": "white",
           "landcolor": "#E5ECF6",
           "showlakes": true,
           "showland": true,
           "subunitcolor": "white"
          },
          "hoverlabel": {
           "align": "left"
          },
          "hovermode": "closest",
          "mapbox": {
           "style": "light"
          },
          "paper_bgcolor": "white",
          "plot_bgcolor": "#E5ECF6",
          "polar": {
           "angularaxis": {
            "gridcolor": "white",
            "linecolor": "white",
            "ticks": ""
           },
           "bgcolor": "#E5ECF6",
           "radialaxis": {
            "gridcolor": "white",
            "linecolor": "white",
            "ticks": ""
           }
          },
          "scene": {
           "xaxis": {
            "backgroundcolor": "#E5ECF6",
            "gridcolor": "white",
            "gridwidth": 2,
            "linecolor": "white",
            "showbackground": true,
            "ticks": "",
            "zerolinecolor": "white"
           },
           "yaxis": {
            "backgroundcolor": "#E5ECF6",
            "gridcolor": "white",
            "gridwidth": 2,
            "linecolor": "white",
            "showbackground": true,
            "ticks": "",
            "zerolinecolor": "white"
           },
           "zaxis": {
            "backgroundcolor": "#E5ECF6",
            "gridcolor": "white",
            "gridwidth": 2,
            "linecolor": "white",
            "showbackground": true,
            "ticks": "",
            "zerolinecolor": "white"
           }
          },
          "shapedefaults": {
           "line": {
            "color": "#2a3f5f"
           }
          },
          "ternary": {
           "aaxis": {
            "gridcolor": "white",
            "linecolor": "white",
            "ticks": ""
           },
           "baxis": {
            "gridcolor": "white",
            "linecolor": "white",
            "ticks": ""
           },
           "bgcolor": "#E5ECF6",
           "caxis": {
            "gridcolor": "white",
            "linecolor": "white",
            "ticks": ""
           }
          },
          "title": {
           "x": 0.05
          },
          "xaxis": {
           "automargin": true,
           "gridcolor": "white",
           "linecolor": "white",
           "ticks": "",
           "title": {
            "standoff": 15
           },
           "zerolinecolor": "white",
           "zerolinewidth": 2
          },
          "yaxis": {
           "automargin": true,
           "gridcolor": "white",
           "linecolor": "white",
           "ticks": "",
           "title": {
            "standoff": 15
           },
           "zerolinecolor": "white",
           "zerolinewidth": 2
          }
         }
        },
        "xaxis": {
         "anchor": "y",
         "autorange": true,
         "domain": [
          0,
          1
         ],
         "range": [
          -0.30832491934310874,
          6.5504682057170465
         ],
         "title": {
          "text": "numeric"
         },
         "type": "linear"
        },
        "yaxis": {
         "anchor": "x",
         "autorange": true,
         "domain": [
          0,
          1
         ],
         "range": [
          -0.411941552343926,
          6.654084838717864
         ],
         "title": {
          "text": "predicted"
         },
         "type": "linear"
        }
       }
      },
      "image/png": "[encoded data removed]",
      "text/html": [
       "<div>                            <div id=\"c3dc241e-4339-4fcb-94ba-f684b06a3350\" class=\"plotly-graph-div\" style=\"height:525px; width:100%;\"></div>            <script type=\"text/javascript\">                require([\"plotly\"], function(Plotly) {                    window.PLOTLYENV=window.PLOTLYENV || {};                                    if (document.getElementById(\"c3dc241e-4339-4fcb-94ba-f684b06a3350\")) {                    Plotly.newPlot(                        \"c3dc241e-4339-4fcb-94ba-f684b06a3350\",                        [{\"hovertemplate\":\"numeric=%{x}<br>predicted=%{y}<extra></extra>\",\"legendgroup\":\"\",\"marker\":{\"color\":\"#636efa\",\"symbol\":\"circle\"},\"mode\":\"markers\",\"name\":\"\",\"orientation\":\"v\",\"showlegend\":false,\"x\":[0.06180339887498949,0.17912878474779198,0.27015621187164246,0.4000000000000002,0.6588723439384606,0.9512492231328454,0.08541019662496846,0.3090169943749474,0.5,0.7807764064044153,1.3507810593582121,2.0,0.0916079783099616,0.3660254037844386,0.6180339887498948,1.0,1.79128784747792,2.7015621187164243,0.09544511501033223,0.41421356237309503,0.7320508075688772,1.2360679774997896,2.3166247903554,3.58257569495584,0.09807621135331594,0.458039891549808,0.8541019662496845,1.5311288741492748,3.090169943749474,5.0,0.09901951359278484,0.47722557505166113,0.916079783099616,1.708203932499369,3.6602540378443864,6.180339887498948],\"xaxis\":\"x\",\"y\":[0.06180339887498949,0.17912878474779204,0.27015621187164246,0.4,0.6588723439378912,0.9512492197250393,0.08541019662496846,0.30901699437494745,0.5,0.7807764064044151,1.3507810593582121,2.0,0.09160797830996159,0.3660254037844386,0.6180339887498949,1.0,1.79128784747792,2.7015621187164243,0.09544511501033215,0.41421356237309515,0.7320508075688772,1.2360679774997898,2.3166247903554,3.58257569495584,0.09807621135331601,0.45803989154980806,0.8541019662496847,1.5311288741492746,3.0901699437494745,5.0,0.09901951359278449,0.4772255750516612,0.9160797830996161,1.7082039324993694,3.6602540378443873,6.180339887498949],\"yaxis\":\"y\",\"type\":\"scatter\"}],                        {\"template\":{\"data\":{\"histogram2dcontour\":[{\"type\":\"histogram2dcontour\",\"colorbar\":{\"outlinewidth\":0,\"ticks\":\"\"},\"colorscale\":[[0.0,\"#0d0887\"],[0.1111111111111111,\"#46039f\"],[0.2222222222222222,\"#7201a8\"],[0.3333333333333333,\"#9c179e\"],[0.4444444444444444,\"#bd3786\"],[0.5555555555555556,\"#d8576b\"],[0.6666666666666666,\"#ed7953\"],[0.7777777777777778,\"#fb9f3a\"],[0.8888888888888888,\"#fdca26\"],[1.0,\"#f0f921\"]]}],\"choropleth\":[{\"type\":\"choropleth\",\"colorbar\":{\"outlinewidth\":0,\"ticks\":\"\"}}],\"histogram2d\":[{\"type\":\"histogram2d\",\"colorbar\":{\"outlinewidth\":0,\"ticks\":\"\"},\"colorscale\":[[0.0,\"#0d0887\"],[0.1111111111111111,\"#46039f\"],[0.2222222222222222,\"#7201a8\"],[0.3333333333333333,\"#9c179e\"],[0.4444444444444444,\"#bd3786\"],[0.5555555555555556,\"#d8576b\"],[0.6666666666666666,\"#ed7953\"],[0.7777777777777778,\"#fb9f3a\"],[0.8888888888888888,\"#fdca26\"],[1.0,\"#f0f921\"]]}],\"heatmap\":[{\"type\":\"heatmap\",\"colorbar\":{\"outlinewidth\":0,\"ticks\":\"\"},\"colorscale\":[[0.0,\"#0d0887\"],[0.1111111111111111,\"#46039f\"],[0.2222222222222222,\"#7201a8\"],[0.3333333333333333,\"#9c179e\"],[0.4444444444444444,\"#bd3786\"],[0.5555555555555556,\"#d8576b\"],[0.6666666666666666,\"#ed7953\"],[0.7777777777777778,\"#fb9f3a\"],[0.8888888888888888,\"#fdca26\"],[1.0,\"#f0f921\"]]}],\"heatmapgl\":[{\"type\":\"heatmapgl\",\"colorbar\":{\"outlinewidth\":0,\"ticks\":\"\"},\"colorscale\":[[0.0,\"#0d0887\"],[0.1111111111111111,\"#46039f\"],[0.2222222222222222,\"#7201a8\"],[0.3333333333333333,\"#9c179e\"],[0.4444444444444444,\"#bd3786\"],[0.5555555555555556,\"#d8576b\"],[0.6666666666666666,\"#ed7953\"],[0.7777777777777778,\"#fb9f3a\"],[0.8888888888888888,\"#fdca26\"],[1.0,\"#f0f921\"]]}],\"contourcarpet\":[{\"type\":\"contourcarpet\",\"colorbar\":{\"outlinewidth\":0,\"ticks\":\"\"}}],\"contour\":[{\"type\":\"contour\",\"colorbar\":{\"outlinewidth\":0,\"ticks\":\"\"},\"colorscale\":[[0.0,\"#0d0887\"],[0.1111111111111111,\"#46039f\"],[0.2222222222222222,\"#7201a8\"],[0.3333333333333333,\"#9c179e\"],[0.4444444444444444,\"#bd3786\"],[0.5555555555555556,\"#d8576b\"],[0.6666666666666666,\"#ed7953\"],[0.7777777777777778,\"#fb9f3a\"],[0.8888888888888888,\"#fdca26\"],[1.0,\"#f0f921\"]]}],\"surface\":[{\"type\":\"surface\",\"colorbar\":{\"outlinewidth\":0,\"ticks\":\"\"},\"colorscale\":[[0.0,\"#0d0887\"],[0.1111111111111111,\"#46039f\"],[0.2222222222222222,\"#7201a8\"],[0.3333333333333333,\"#9c179e\"],[0.4444444444444444,\"#bd3786\"],[0.5555555555555556,\"#d8576b\"],[0.6666666666666666,\"#ed7953\"],[0.7777777777777778,\"#fb9f3a\"],[0.8888888888888888,\"#fdca26\"],[1.0,\"#f0f921\"]]}],\"mesh3d\":[{\"type\":\"mesh3d\",\"colorbar\":{\"outlinewidth\":0,\"ticks\":\"\"}}],\"scatter\":[{\"fillpattern\":{\"fillmode\":\"overlay\",\"size\":10,\"solidity\":0.2},\"type\":\"scatter\"}],\"parcoords\":[{\"type\":\"parcoords\",\"line\":{\"colorbar\":{\"outlinewidth\":0,\"ticks\":\"\"}}}],\"scatterpolargl\":[{\"type\":\"scatterpolargl\",\"marker\":{\"colorbar\":{\"outlinewidth\":0,\"ticks\":\"\"}}}],\"bar\":[{\"error_x\":{\"color\":\"#2a3f5f\"},\"error_y\":{\"color\":\"#2a3f5f\"},\"marker\":{\"line\":{\"color\":\"#E5ECF6\",\"width\":0.5},\"pattern\":{\"fillmode\":\"overlay\",\"size\":10,\"solidity\":0.2}},\"type\":\"bar\"}],\"scattergeo\":[{\"type\":\"scattergeo\",\"marker\":{\"colorbar\":{\"outlinewidth\":0,\"ticks\":\"\"}}}],\"scatterpolar\":[{\"type\":\"scatterpolar\",\"marker\":{\"colorbar\":{\"outlinewidth\":0,\"ticks\":\"\"}}}],\"histogram\":[{\"marker\":{\"pattern\":{\"fillmode\":\"overlay\",\"size\":10,\"solidity\":0.2}},\"type\":\"histogram\"}],\"scattergl\":[{\"type\":\"scattergl\",\"marker\":{\"colorbar\":{\"outlinewidth\":0,\"ticks\":\"\"}}}],\"scatter3d\":[{\"type\":\"scatter3d\",\"line\":{\"colorbar\":{\"outlinewidth\":0,\"ticks\":\"\"}},\"marker\":{\"colorbar\":{\"outlinewidth\":0,\"ticks\":\"\"}}}],\"scattermapbox\":[{\"type\":\"scattermapbox\",\"marker\":{\"colorbar\":{\"outlinewidth\":0,\"ticks\":\"\"}}}],\"scatterternary\":[{\"type\":\"scatterternary\",\"marker\":{\"colorbar\":{\"outlinewidth\":0,\"ticks\":\"\"}}}],\"scattercarpet\":[{\"type\":\"scattercarpet\",\"marker\":{\"colorbar\":{\"outlinewidth\":0,\"ticks\":\"\"}}}],\"carpet\":[{\"aaxis\":{\"endlinecolor\":\"#2a3f5f\",\"gridcolor\":\"white\",\"linecolor\":\"white\",\"minorgridcolor\":\"white\",\"startlinecolor\":\"#2a3f5f\"},\"baxis\":{\"endlinecolor\":\"#2a3f5f\",\"gridcolor\":\"white\",\"linecolor\":\"white\",\"minorgridcolor\":\"white\",\"startlinecolor\":\"#2a3f5f\"},\"type\":\"carpet\"}],\"table\":[{\"cells\":{\"fill\":{\"color\":\"#EBF0F8\"},\"line\":{\"color\":\"white\"}},\"header\":{\"fill\":{\"color\":\"#C8D4E3\"},\"line\":{\"color\":\"white\"}},\"type\":\"table\"}],\"barpolar\":[{\"marker\":{\"line\":{\"color\":\"#E5ECF6\",\"width\":0.5},\"pattern\":{\"fillmode\":\"overlay\",\"size\":10,\"solidity\":0.2}},\"type\":\"barpolar\"}],\"pie\":[{\"automargin\":true,\"type\":\"pie\"}]},\"layout\":{\"autotypenumbers\":\"strict\",\"colorway\":[\"#636efa\",\"#EF553B\",\"#00cc96\",\"#ab63fa\",\"#FFA15A\",\"#19d3f3\",\"#FF6692\",\"#B6E880\",\"#FF97FF\",\"#FECB52\"],\"font\":{\"color\":\"#2a3f5f\"},\"hovermode\":\"closest\",\"hoverlabel\":{\"align\":\"left\"},\"paper_bgcolor\":\"white\",\"plot_bgcolor\":\"#E5ECF6\",\"polar\":{\"bgcolor\":\"#E5ECF6\",\"angularaxis\":{\"gridcolor\":\"white\",\"linecolor\":\"white\",\"ticks\":\"\"},\"radialaxis\":{\"gridcolor\":\"white\",\"linecolor\":\"white\",\"ticks\":\"\"}},\"ternary\":{\"bgcolor\":\"#E5ECF6\",\"aaxis\":{\"gridcolor\":\"white\",\"linecolor\":\"white\",\"ticks\":\"\"},\"baxis\":{\"gridcolor\":\"white\",\"linecolor\":\"white\",\"ticks\":\"\"},\"caxis\":{\"gridcolor\":\"white\",\"linecolor\":\"white\",\"ticks\":\"\"}},\"coloraxis\":{\"colorbar\":{\"outlinewidth\":0,\"ticks\":\"\"}},\"colorscale\":{\"sequential\":[[0.0,\"#0d0887\"],[0.1111111111111111,\"#46039f\"],[0.2222222222222222,\"#7201a8\"],[0.3333333333333333,\"#9c179e\"],[0.4444444444444444,\"#bd3786\"],[0.5555555555555556,\"#d8576b\"],[0.6666666666666666,\"#ed7953\"],[0.7777777777777778,\"#fb9f3a\"],[0.8888888888888888,\"#fdca26\"],[1.0,\"#f0f921\"]],\"sequentialminus\":[[0.0,\"#0d0887\"],[0.1111111111111111,\"#46039f\"],[0.2222222222222222,\"#7201a8\"],[0.3333333333333333,\"#9c179e\"],[0.4444444444444444,\"#bd3786\"],[0.5555555555555556,\"#d8576b\"],[0.6666666666666666,\"#ed7953\"],[0.7777777777777778,\"#fb9f3a\"],[0.8888888888888888,\"#fdca26\"],[1.0,\"#f0f921\"]],\"diverging\":[[0,\"#8e0152\"],[0.1,\"#c51b7d\"],[0.2,\"#de77ae\"],[0.3,\"#f1b6da\"],[0.4,\"#fde0ef\"],[0.5,\"#f7f7f7\"],[0.6,\"#e6f5d0\"],[0.7,\"#b8e186\"],[0.8,\"#7fbc41\"],[0.9,\"#4d9221\"],[1,\"#276419\"]]},\"xaxis\":{\"gridcolor\":\"white\",\"linecolor\":\"white\",\"ticks\":\"\",\"title\":{\"standoff\":15},\"zerolinecolor\":\"white\",\"automargin\":true,\"zerolinewidth\":2},\"yaxis\":{\"gridcolor\":\"white\",\"linecolor\":\"white\",\"ticks\":\"\",\"title\":{\"standoff\":15},\"zerolinecolor\":\"white\",\"automargin\":true,\"zerolinewidth\":2},\"scene\":{\"xaxis\":{\"backgroundcolor\":\"#E5ECF6\",\"gridcolor\":\"white\",\"linecolor\":\"white\",\"showbackground\":true,\"ticks\":\"\",\"zerolinecolor\":\"white\",\"gridwidth\":2},\"yaxis\":{\"backgroundcolor\":\"#E5ECF6\",\"gridcolor\":\"white\",\"linecolor\":\"white\",\"showbackground\":true,\"ticks\":\"\",\"zerolinecolor\":\"white\",\"gridwidth\":2},\"zaxis\":{\"backgroundcolor\":\"#E5ECF6\",\"gridcolor\":\"white\",\"linecolor\":\"white\",\"showbackground\":true,\"ticks\":\"\",\"zerolinecolor\":\"white\",\"gridwidth\":2}},\"shapedefaults\":{\"line\":{\"color\":\"#2a3f5f\"}},\"annotationdefaults\":{\"arrowcolor\":\"#2a3f5f\",\"arrowhead\":0,\"arrowwidth\":1},\"geo\":{\"bgcolor\":\"white\",\"landcolor\":\"#E5ECF6\",\"subunitcolor\":\"white\",\"showland\":true,\"showlakes\":true,\"lakecolor\":\"white\"},\"title\":{\"x\":0.05},\"mapbox\":{\"style\":\"light\"}}},\"xaxis\":{\"anchor\":\"y\",\"domain\":[0.0,1.0],\"title\":{\"text\":\"numeric\"}},\"yaxis\":{\"anchor\":\"x\",\"domain\":[0.0,1.0],\"title\":{\"text\":\"predicted\"}},\"legend\":{\"tracegroupgap\":0},\"margin\":{\"t\":60}},                        {\"responsive\": true}                    ).then(function(){\n",
       "                            \n",
       "var gd = document.getElementById('c3dc241e-4339-4fcb-94ba-f684b06a3350');\n",
       "var x = new MutationObserver(function (mutations, observer) {{\n",
       "        var display = window.getComputedStyle(gd).display;\n",
       "        if (!display || display === 'none') {{\n",
       "            console.log([gd, 'removed!']);\n",
       "            Plotly.purge(gd);\n",
       "            observer.disconnect();\n",
       "        }}\n",
       "}});\n",
       "\n",
       "// Listen for the removal of the full notebook cells\n",
       "var notebookContainer = gd.closest('#notebook-container');\n",
       "if (notebookContainer) {{\n",
       "    x.observe(notebookContainer, {childList: true});\n",
       "}}\n",
       "\n",
       "// Listen for the clearing of the current output cell\n",
       "var outputEl = gd.closest('.output');\n",
       "if (outputEl) {{\n",
       "    x.observe(outputEl, {childList: true});\n",
       "}}\n",
       "\n",
       "                        })                };                });            </script>        </div>"
      ]
     },
     "metadata": {},
     "output_type": "display_data"
    }
   ],
   "source": [
    "trace = []\n",
    "for Q in [.1, .5, 1, 2, 5, 10]:\n",
    "    for R in [.1, .5, 1, 2, 5, 10]:\n",
    "        trace.append((Q, R, kalman_with_noise(Q, R, 100), .5*(sqrt(Q**2 + 4*Q*R)-Q)))\n",
    "\n",
    "data = to_df(np.array(trace), columns=['Q', 'R', 'numeric', 'predicted'])\n",
    "ex.scatter(data, x='numeric', y='predicted')"
   ]
  },
  {
   "cell_type": "code",
   "execution_count": 105,
   "id": "395b5df9-3015-47d1-adc5-adf4d595d77e",
   "metadata": {},
   "outputs": [
    {
     "data": {
      "text/html": [
       "<div>\n",
       "<style scoped>\n",
       "    .dataframe tbody tr th:only-of-type {\n",
       "        vertical-align: middle;\n",
       "    }\n",
       "\n",
       "    .dataframe tbody tr th {\n",
       "        vertical-align: top;\n",
       "    }\n",
       "\n",
       "    .dataframe thead th {\n",
       "        text-align: right;\n",
       "    }\n",
       "</style>\n",
       "<table border=\"1\" class=\"dataframe\">\n",
       "  <thead>\n",
       "    <tr style=\"text-align: right;\">\n",
       "      <th></th>\n",
       "      <th>predicted</th>\n",
       "      <th>numeric</th>\n",
       "    </tr>\n",
       "  </thead>\n",
       "  <tbody>\n",
       "    <tr>\n",
       "      <th>predicted</th>\n",
       "      <td>1.0</td>\n",
       "      <td>1.0</td>\n",
       "    </tr>\n",
       "    <tr>\n",
       "      <th>numeric</th>\n",
       "      <td>1.0</td>\n",
       "      <td>1.0</td>\n",
       "    </tr>\n",
       "  </tbody>\n",
       "</table>\n",
       "</div>"
      ],
      "text/plain": [
       "           predicted  numeric\n",
       "predicted        1.0      1.0\n",
       "numeric          1.0      1.0"
      ]
     },
     "execution_count": 105,
     "metadata": {},
     "output_type": "execute_result"
    }
   ],
   "source": [
    "data[['predicted', 'numeric']].corr()"
   ]
  },
  {
   "cell_type": "markdown",
   "id": "bf891f37-e37a-468b-9644-ed56375d8ccc",
   "metadata": {},
   "source": [
    "As we can see above, we achieve perfect agreement between predicted $P$ and the value to which converges `kalman_with_noise()`."
   ]
  },
  {
   "cell_type": "markdown",
   "id": "ce9ae5a2-7f30-41ab-9ab4-dedc1fbd176a",
   "metadata": {},
   "source": [
    "## Kalman filter with unobservable state\n",
    "\n",
    "Finally, let's consider a situation where one variable in of the Kalman Filter state is unobservable. In order to define the state transition matrix $F$, we will assume a constant sampling period $t$. How will the covariance converge?"
   ]
  },
  {
   "cell_type": "code",
   "execution_count": 135,
   "id": "d986ad19-43c7-428d-984f-9c043035b840",
   "metadata": {},
   "outputs": [],
   "source": [
    "Px, Pv, Pxv, Qx, Qv, Rx, t = symbols(\"P_x, P_v, P_xv, Q_x, Q_v, R_x, t\", positive=True)"
   ]
  },
  {
   "cell_type": "markdown",
   "id": "39630fdd-b42f-476b-9ffe-8a38242df490",
   "metadata": {},
   "source": [
    "State transition matrix:"
   ]
  },
  {
   "cell_type": "code",
   "execution_count": 136,
   "id": "5e755027-6c5c-4e8e-9ba9-ac387f8b243d",
   "metadata": {},
   "outputs": [
    {
     "data": {
      "text/latex": [
       "$\\displaystyle \\left[\\begin{matrix}1 & t\\\\0 & 1\\end{matrix}\\right]$"
      ],
      "text/plain": [
       "Matrix([\n",
       "[1, t],\n",
       "[0, 1]])"
      ]
     },
     "execution_count": 136,
     "metadata": {},
     "output_type": "execute_result"
    }
   ],
   "source": [
    "F = Matrix([[1, t], [0, 1]])\n",
    "F"
   ]
  },
  {
   "cell_type": "markdown",
   "id": "559a784b-5436-4d07-bbfb-2538645f7d58",
   "metadata": {},
   "source": [
    "Measurement matrix:"
   ]
  },
  {
   "cell_type": "code",
   "execution_count": 113,
   "id": "a3ce7a1f-a2f8-473e-b334-d31b472cacf3",
   "metadata": {},
   "outputs": [
    {
     "data": {
      "text/latex": [
       "$\\displaystyle \\left[\\begin{matrix}1 & 0\\end{matrix}\\right]$"
      ],
      "text/plain": [
       "Matrix([[1, 0]])"
      ]
     },
     "execution_count": 113,
     "metadata": {},
     "output_type": "execute_result"
    }
   ],
   "source": [
    "H = Matrix([[1, 0]])\n",
    "H"
   ]
  },
  {
   "cell_type": "markdown",
   "id": "c8cbcbdc-3146-4a7b-bae5-20d745d0197f",
   "metadata": {},
   "source": [
    "Process noise matrix:"
   ]
  },
  {
   "cell_type": "code",
   "execution_count": null,
   "id": "3f0bf91c-f7f8-4f7c-86ac-872ba3611365",
   "metadata": {},
   "outputs": [],
   "source": [
    "Q = Matrix([[Qx, 0], [0, Qv]])"
   ]
  },
  {
   "cell_type": "markdown",
   "id": "7caa826a-fe64-4296-ab79-bb9924736847",
   "metadata": {},
   "source": [
    "Measurement error:"
   ]
  },
  {
   "cell_type": "code",
   "execution_count": null,
   "id": "24453c3f-b2cd-4d67-bd17-3539de2a92dc",
   "metadata": {},
   "outputs": [],
   "source": [
    "R = Matrix([Rx])"
   ]
  },
  {
   "cell_type": "markdown",
   "id": "ac1fa998-2b4f-48f6-aa3b-5f28064e37da",
   "metadata": {},
   "source": [
    "Now we can define the sequence of equations which will allows us to find the value to which state variance converges:"
   ]
  },
  {
   "cell_type": "code",
   "execution_count": 137,
   "id": "7620e15d-6001-473b-b334-507497e4b43c",
   "metadata": {},
   "outputs": [],
   "source": [
    "P = Matrix([[Px, Pxv], [Pxv, Pv]])\n",
    "Pn = F*P*F.T + Q\n",
    "S = H*Pn*H.T + Rm\n",
    "K = Pn*H.T*S.inv()\n",
    "\n",
    "X = P - Pn + K*S*K.T"
   ]
  },
  {
   "cell_type": "code",
   "execution_count": 138,
   "id": "b35d1227-ca55-40d9-a2d4-475bf0b5679d",
   "metadata": {},
   "outputs": [
    {
     "data": {
      "text/latex": [
       "$\\displaystyle \\left[\\begin{matrix}- P_{xv} t - Q_{x} - t \\left(P_{v} t + P_{xv}\\right) + \\frac{\\left(P_{x} + P_{xv} t + Q_{x} + t \\left(P_{v} t + P_{xv}\\right)\\right)^{2} \\left(P_{x} + P_{xv} t + Q_{x} + R + t \\left(P_{v} t + P_{xv}\\right)\\right)}{\\left(P_{v} t^{2} + P_{x} + 2 P_{xv} t + Q_{x} + R\\right)^{2}} & - P_{v} t + \\frac{\\left(P_{v} t + P_{xv}\\right) \\left(P_{x} + P_{xv} t + Q_{x} + t \\left(P_{v} t + P_{xv}\\right)\\right) \\left(P_{x} + P_{xv} t + Q_{x} + R + t \\left(P_{v} t + P_{xv}\\right)\\right)}{\\left(P_{v} t^{2} + P_{x} + 2 P_{xv} t + Q_{x} + R\\right)^{2}}\\\\- P_{v} t + \\frac{\\left(P_{v} t + P_{xv}\\right) \\left(P_{x} + P_{xv} t + Q_{x} + t \\left(P_{v} t + P_{xv}\\right)\\right) \\left(P_{x} + P_{xv} t + Q_{x} + R + t \\left(P_{v} t + P_{xv}\\right)\\right)}{\\left(P_{v} t^{2} + P_{x} + 2 P_{xv} t + Q_{x} + R\\right)^{2}} & - Q_{v} + \\frac{\\left(P_{v} t + P_{xv}\\right)^{2} \\left(P_{x} + P_{xv} t + Q_{x} + R + t \\left(P_{v} t + P_{xv}\\right)\\right)}{\\left(P_{v} t^{2} + P_{x} + 2 P_{xv} t + Q_{x} + R\\right)^{2}}\\end{matrix}\\right]$"
      ],
      "text/plain": [
       "Matrix([\n",
       "[-P_xv*t - Q_x - t*(P_v*t + P_xv) + (P_x + P_xv*t + Q_x + t*(P_v*t + P_xv))**2*(P_x + P_xv*t + Q_x + R + t*(P_v*t + P_xv))/(P_v*t**2 + P_x + 2*P_xv*t + Q_x + R)**2, -P_v*t + (P_v*t + P_xv)*(P_x + P_xv*t + Q_x + t*(P_v*t + P_xv))*(P_x + P_xv*t + Q_x + R + t*(P_v*t + P_xv))/(P_v*t**2 + P_x + 2*P_xv*t + Q_x + R)**2],\n",
       "[              -P_v*t + (P_v*t + P_xv)*(P_x + P_xv*t + Q_x + t*(P_v*t + P_xv))*(P_x + P_xv*t + Q_x + R + t*(P_v*t + P_xv))/(P_v*t**2 + P_x + 2*P_xv*t + Q_x + R)**2,                                        -Q_v + (P_v*t + P_xv)**2*(P_x + P_xv*t + Q_x + R + t*(P_v*t + P_xv))/(P_v*t**2 + P_x + 2*P_xv*t + Q_x + R)**2]])"
      ]
     },
     "execution_count": 138,
     "metadata": {},
     "output_type": "execute_result"
    }
   ],
   "source": [
    "X"
   ]
  },
  {
   "cell_type": "markdown",
   "id": "d542884a-c09a-41af-921d-427c66f91c1a",
   "metadata": {},
   "source": [
    "By comparing the above matrix to a zero matrix, we form a system of equations. In order to solve the above for variance, we supply actual values for measurement and process noise and a specific sampling interval."
   ]
  },
  {
   "cell_type": "code",
   "execution_count": 189,
   "id": "c84345d8-c53c-4aa1-82ec-dc8629906d1b",
   "metadata": {},
   "outputs": [],
   "source": [
    "def solve_kalman_2d(Qx, Qv, R, t):\n",
    "    # define constants\n",
    "    F = Matrix([[1, t], [0, 1]])\n",
    "    H = Matrix([[1, 0]])\n",
    "    Q = Matrix([[Qx, 0], [0, Qv]])\n",
    "    Rm = Matrix([R])\n",
    "\n",
    "    # define equations\n",
    "    P = Matrix([[Px, Pxv], [Pxv, Pv]])\n",
    "    Pn = F*P*F.T + Q\n",
    "    S = H*Pn*H.T + Rm\n",
    "    K = Pn*H.T*S.inv()\n",
    "\n",
    "    # solve for variance\n",
    "    X = P - Pn + K*S*K.T\n",
    "    res = nonlinsolve([X[0,0], X[0, 1], X[1, 1]], [Px, Pv, Pxv])\n",
    "\n",
    "    # find real-numbered solution consisting of positive numbers and return it as floats\n",
    "    for solution in res:\n",
    "        if any([s.is_imaginary for s in solution]):\n",
    "            continue\n",
    "        a, b, c = [s.evalf() for s in solution]\n",
    "        if a < 0 or b < 0 or c < 0:\n",
    "            continue\n",
    "        subs = {Px: a, Pv: b, Pxv: c}\n",
    "        return (np.asarray(P.evalf(subs=subs), dtype=float), np.asarray(K.evalf(subs=subs), dtype=float))\n",
    "    \n",
    "    raise Exception(\"No real-numbered positive solution found\")"
   ]
  },
  {
   "cell_type": "markdown",
   "id": "ddc3a1f8-a6e1-412a-9011-3d14c99891ca",
   "metadata": {},
   "source": [
    "Now, we can obtain the numeric values for both the steady-state covariance matrix and the steady-state Kalman gain."
   ]
  },
  {
   "cell_type": "code",
   "execution_count": 192,
   "id": "e8a2f492-f9c6-4790-81ef-81abf409a7ee",
   "metadata": {},
   "outputs": [
    {
     "data": {
      "text/plain": [
       "(array([[7.9193446 , 3.1876811 ],\n",
       "        [3.1876811 , 4.96871823]]),\n",
       " array([[0.60918035],\n",
       "        [0.24520624]]))"
      ]
     },
     "execution_count": 192,
     "metadata": {},
     "output_type": "execute_result"
    }
   ],
   "source": [
    "res = solve_kalman_2d(1, 2, 13, 1)\n",
    "res"
   ]
  },
  {
   "cell_type": "markdown",
   "id": "2531cdb9-109e-4ae5-89de-316a3e73bf7e",
   "metadata": {},
   "source": [
    "Let's now compare results calculated in either of these ways:"
   ]
  },
  {
   "cell_type": "code",
   "execution_count": 178,
   "id": "39ff39d4-3302-4a0e-888d-f62c3ea1aca6",
   "metadata": {},
   "outputs": [],
   "source": [
    "def simulate_kalman_2d(Qx, Qv, R, t):\n",
    "    H = np.array([[1, 0]])\n",
    "    R = np.eye(1) * R\n",
    "    Q = np.array([[Qx, 0], [0, Qv]])\n",
    "    F = np.array([[1, t], [0, 1]])\n",
    "\n",
    "    P = Q\n",
    "    for _ in range(100):\n",
    "        P = F @ P @ F.T + Q\n",
    "        S = H @ P @ H.T + R\n",
    "        K = P @ H.T @ np.linalg.inv(S)\n",
    "    \n",
    "        P = P - K @ S @ K.T\n",
    "    \n",
    "    return P, K"
   ]
  },
  {
   "cell_type": "code",
   "execution_count": 193,
   "id": "a61242e0-c8ce-4e5e-8f98-9f289fe11416",
   "metadata": {},
   "outputs": [],
   "source": [
    "trace = []\n",
    "for Q in [.1, .5, 1, 2, 5, 10]:\n",
    "    for R in [.1, .5, 1, 2, 5, 10]:\n",
    "        trace.append((Q, R, simulate_kalman_2d(Q, Q, R, 1), solve_kalman_2d(Q, Q, R, 1)))"
   ]
  },
  {
   "cell_type": "markdown",
   "id": "0093bc13-db97-43a9-ab4e-d2bb8ce63022",
   "metadata": {},
   "source": [
    "What is the maximum different between covariance matrices?"
   ]
  },
  {
   "cell_type": "code",
   "execution_count": 198,
   "id": "c49c447d-d42f-49b0-9c60-9f1f8b7dab05",
   "metadata": {},
   "outputs": [
    {
     "data": {
      "text/plain": [
       "6.716849298982197e-15"
      ]
     },
     "execution_count": 198,
     "metadata": {},
     "output_type": "execute_result"
    }
   ],
   "source": [
    "np.max([np.max(P_sim - P_solved) for _, _, (P_sim, _), (P_solved, _) in trace])"
   ]
  },
  {
   "cell_type": "markdown",
   "id": "d3a7a726-8692-4dec-9a0a-c29892beee95",
   "metadata": {},
   "source": [
    "We observe practical equivalence. How about Kalman gain?"
   ]
  },
  {
   "cell_type": "code",
   "execution_count": 199,
   "id": "38a10a22-ea44-46a5-bcd1-41a96da105c4",
   "metadata": {},
   "outputs": [
    {
     "data": {
      "text/plain": [
       "2.220446049250313e-16"
      ]
     },
     "execution_count": 199,
     "metadata": {},
     "output_type": "execute_result"
    }
   ],
   "source": [
    "np.max([np.max(K_sim - K_solved) for _, _, (_, K_sim), (_, K_solved) in trace])"
   ]
  },
  {
   "cell_type": "markdown",
   "id": "a3fd1d55-de8c-4798-b482-2c44a2cf36d3",
   "metadata": {},
   "source": [
    "Again, equivalent for all practical intents and purposes."
   ]
  },
  {
   "cell_type": "markdown",
   "id": "598c97df-e122-4859-86ff-357d80c74c66",
   "metadata": {},
   "source": [
    "# Kalman Gain\n",
    "\n",
    "Let's start by considering the task of tracking a single target, with a single sensor of known and constant measurement error $R$, at a constant sampling interval $T$. Measurements and filter state are single-dimensional.\n",
    "\n",
    "Kalman Filter will be initialized with measurement $x_1 = z_1$ and variance $P_1 = R$. Then, at each interval $T$, will be provided with a single measurement of the same variance $R$. In the absence of process noise, state estimate will converge to the real "
   ]
  },
  {
   "cell_type": "code",
   "execution_count": null,
   "id": "dc6082c9-461b-4b4a-ad49-a18d108f896b",
   "metadata": {},
   "outputs": [],
   "source": []
  }
 ],
 "metadata": {
  "kernelspec": {
   "display_name": "Python 3 (ipykernel)",
   "language": "python",
   "name": "python3"
  },
  "language_info": {
   "codemirror_mode": {
    "name": "ipython",
    "version": 3
   },
   "file_extension": ".py",
   "mimetype": "text/x-python",
   "name": "python",
   "nbconvert_exporter": "python",
   "pygments_lexer": "ipython3",
   "version": "3.11.7"
  }
 },
 "nbformat": 4,
 "nbformat_minor": 5
}
