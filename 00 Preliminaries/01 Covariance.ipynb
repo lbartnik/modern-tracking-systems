{
 "cells": [
  {
   "cell_type": "code",
   "execution_count": 1,
   "id": "8d21aa52",
   "metadata": {},
   "outputs": [],
   "source": [
    "import numpy as np"
   ]
  },
  {
   "cell_type": "code",
   "execution_count": 2,
   "id": "62ee9cc5",
   "metadata": {},
   "outputs": [],
   "source": [
    "def rnorm(n, mean=0, stdev=1):\n",
    "    return np.random.normal(loc=mean, scale=stdev, size=n)"
   ]
  },
  {
   "cell_type": "code",
   "execution_count": 3,
   "id": "f84520ff",
   "metadata": {},
   "outputs": [
    {
     "data": {
      "text/plain": [
       "array([[1.        , 0.79950507],\n",
       "       [0.79950507, 1.        ]])"
      ]
     },
     "execution_count": 3,
     "metadata": {},
     "output_type": "execute_result"
    }
   ],
   "source": [
    "def correlated_normal(cor, n=100000):\n",
    "    x = rnorm(n)\n",
    "    y = rnorm(n)\n",
    "    z = rnorm(n)\n",
    "    \n",
    "    mlt = np.sqrt((1 - cor) / cor)\n",
    "    \n",
    "    X = x + mlt*y\n",
    "    Y = x + mlt*z\n",
    "    \n",
    "    X /= np.std(X)\n",
    "    Y /= np.std(Y)\n",
    "    \n",
    "    return X, Y\n",
    "\n",
    "a, b = correlated_normal(.8)\n",
    "np.corrcoef(a, b)"
   ]
  },
  {
   "cell_type": "markdown",
   "id": "794a4441",
   "metadata": {},
   "source": [
    "### Variance of sum and difference independent of random variables\n",
    "\n",
    "Variances always add up."
   ]
  },
  {
   "cell_type": "code",
   "execution_count": 4,
   "id": "e3c584c8",
   "metadata": {},
   "outputs": [
    {
     "data": {
      "text/plain": [
       "(array(2.00122836), array(1.99850096))"
      ]
     },
     "execution_count": 4,
     "metadata": {},
     "output_type": "execute_result"
    }
   ],
   "source": [
    "def test_1(n=10000):\n",
    "    x = rnorm(n)\n",
    "    y = rnorm(n)\n",
    "    \n",
    "    return np.cov(x+y), np.cov(x-y)\n",
    "\n",
    "test_1(10000000)"
   ]
  },
  {
   "cell_type": "markdown",
   "id": "92e98677",
   "metadata": {},
   "source": [
    "### Covariance of sum and difference of correlated random variables\n",
    "\n",
    "Unlike with variance, here the sign in front of the variable is important: covariance depends on the sign. "
   ]
  },
  {
   "cell_type": "code",
   "execution_count": 5,
   "id": "3dcce170",
   "metadata": {},
   "outputs": [
    {
     "data": {
      "text/plain": [
       "(array([[1.00001   , 0.80112374],\n",
       "        [0.80112374, 1.00001   ]]),\n",
       " array([[ 1.00001   , -0.80112374],\n",
       "        [-0.80112374,  1.00001   ]]))"
      ]
     },
     "execution_count": 5,
     "metadata": {},
     "output_type": "execute_result"
    }
   ],
   "source": [
    "def test_2(n=10000):\n",
    "    X, Y = correlated_normal(.8, n)\n",
    "    \n",
    "    return np.cov(X, Y), np.cov(-X, Y)\n",
    "\n",
    "test_2(100000)"
   ]
  },
  {
   "cell_type": "markdown",
   "id": "bd0b538e",
   "metadata": {},
   "source": [
    "### Covariance with multipliers\n",
    "\n",
    "Covariance of $aX$ and $bY$ equals to $ab\\cdot\\mathcal{cov}(X, Y)$."
   ]
  },
  {
   "cell_type": "code",
   "execution_count": 6,
   "id": "bc9c20ca",
   "metadata": {},
   "outputs": [
    {
     "data": {
      "text/plain": [
       "(array([[1.        , 0.80049875],\n",
       "        [0.80049875, 1.        ]]),\n",
       " 1.600999108885091,\n",
       " 1.600999108885091)"
      ]
     },
     "execution_count": 6,
     "metadata": {},
     "output_type": "execute_result"
    }
   ],
   "source": [
    "def test_3(a, b, n=10000):\n",
    "    X, Y = correlated_normal(.8, n)\n",
    "    \n",
    "    actual = np.cov(a*X, b*Y)[0, 1]\n",
    "    predicted = a*b*np.cov(X, Y)[0, 1]\n",
    "    \n",
    "    return np.corrcoef(X, Y), actual, predicted\n",
    "\n",
    "test_3(1, 2, 1000000)"
   ]
  },
  {
   "cell_type": "markdown",
   "id": "2ea62b7f",
   "metadata": {},
   "source": [
    "### Variance of a sum and difference of correlated variables\n",
    "\n",
    "Covariance needs to be added or removed, respectively."
   ]
  },
  {
   "cell_type": "code",
   "execution_count": 7,
   "id": "a4f64bf8",
   "metadata": {},
   "outputs": [
    {
     "data": {
      "text/plain": [
       "(array(3.59762729), 3.6, array(0.40277275), 0.3999999999999999)"
      ]
     },
     "execution_count": 7,
     "metadata": {},
     "output_type": "execute_result"
    }
   ],
   "source": [
    "def test_4(n=10000):\n",
    "    X, Y = correlated_normal(.8, n)\n",
    "\n",
    "    predicted_sum = 1 + 1 + 2 * .8\n",
    "    predicted_diff = 1 + 1 - 2 * .8\n",
    "    return np.cov(X + Y), predicted_sum, np.cov(X-Y), predicted_diff\n",
    "\n",
    "test_4(10000)"
   ]
  },
  {
   "cell_type": "markdown",
   "id": "5c8fcca2",
   "metadata": {},
   "source": [
    "### Variance of a sum and difference of correlated variables with multipliers "
   ]
  },
  {
   "cell_type": "code",
   "execution_count": 8,
   "id": "134b256e",
   "metadata": {},
   "outputs": [
    {
     "data": {
      "text/plain": [
       "(array(8.21188223), 8.2, array(1.78911787), 1.7999999999999998)"
      ]
     },
     "execution_count": 8,
     "metadata": {},
     "output_type": "execute_result"
    }
   ],
   "source": [
    "def test_5(a, b, n=10000):\n",
    "    X, Y = correlated_normal(.8, n)\n",
    "\n",
    "    predicted_sum = a**2 * 1 + b**2 * 1 + 2 * a*b* .8\n",
    "    predicted_diff = a**2 * 1 + b**2 * 1 - 2 * a*b* .8\n",
    "    return np.cov(a*X + b*Y), predicted_sum, np.cov(a*X-b*Y), predicted_diff\n",
    "    \n",
    "test_5(1, 2)"
   ]
  },
  {
   "cell_type": "markdown",
   "id": "045e7fb1",
   "metadata": {},
   "source": [
    "### Covariance of two sums of random variables with multipliers\n",
    "\n",
    "One can pull out multipliers in front of the variances of each random variable. Also, if $X$ and $Y$ are independent, only $ac$ and $bd$ multiplications remain."
   ]
  },
  {
   "cell_type": "code",
   "execution_count": 9,
   "id": "4d66af2a",
   "metadata": {},
   "outputs": [
    {
     "data": {
      "text/plain": [
       "(11, 10.995344821354673, 10.998303507467918)"
      ]
     },
     "execution_count": 9,
     "metadata": {},
     "output_type": "execute_result"
    }
   ],
   "source": [
    "def test_6(a, b, c, d, n=10000):\n",
    "    X = rnorm(n)\n",
    "    Y = rnorm(n)\n",
    "    \n",
    "    S1 = a*X + b*Y\n",
    "    S2 = c*X + d*Y\n",
    "    \n",
    "    predicted_algebraic = a*c + b*d\n",
    "    predicted_numerical = (a*c*np.var(X) + b*d*np.var(Y))\n",
    "    actual = np.cov(S1, S2)[0,1]\n",
    "    \n",
    "    return predicted_algebraic, predicted_numerical, actual\n",
    "\n",
    "test_6(1, 2, 3, 4, n=10000000)"
   ]
  },
  {
   "cell_type": "markdown",
   "id": "b9a9b0d2",
   "metadata": {},
   "source": [
    "### Covariance of two sums with negative multipliers\n",
    "\n",
    "Negative multipliers can be pulled out in the same way as before."
   ]
  },
  {
   "cell_type": "code",
   "execution_count": 10,
   "id": "b32c494b",
   "metadata": {},
   "outputs": [
    {
     "data": {
      "text/plain": [
       "(5, 4.998832559021045, 4.9985754877998945)"
      ]
     },
     "execution_count": 10,
     "metadata": {},
     "output_type": "execute_result"
    }
   ],
   "source": [
    "test_6(-1, 2, 3, 4, n=1000000)"
   ]
  },
  {
   "cell_type": "markdown",
   "id": "c3d3032f",
   "metadata": {},
   "source": [
    "### Covariance of two sums of correlated variables\n",
    "\n",
    "This time covariances between components of sums need to be taken into account."
   ]
  },
  {
   "cell_type": "code",
   "execution_count": 11,
   "id": "48d1898e",
   "metadata": {},
   "outputs": [
    {
     "data": {
      "text/plain": [
       "(19.0, 19.000005345646443, 19.00000644564659)"
      ]
     },
     "execution_count": 11,
     "metadata": {},
     "output_type": "execute_result"
    }
   ],
   "source": [
    "def test_7(a, b, c, d, n=10000):\n",
    "    X, Y = correlated_normal(.8, n)\n",
    "    \n",
    "    S1 = a*X + b*Y\n",
    "    S2 = c*X + d*Y\n",
    "    \n",
    "    predicted_algebraic = a*c + .8 *(a*d + b*c) + b*d\n",
    "    predicted_numerical = a*c*np.var(X) + np.cov(X, Y)[1, 0] * (a*d + b*c) + b*d*np.var(Y)\n",
    "    actual = np.cov(S1, S2)[0,1]\n",
    "    \n",
    "    return predicted_algebraic, predicted_numerical, actual\n",
    "\n",
    "test_7(1, 2, 3, 4, n=10000000)"
   ]
  }
 ],
 "metadata": {
  "kernelspec": {
   "display_name": "Python 3 (ipykernel)",
   "language": "python",
   "name": "python3"
  },
  "language_info": {
   "codemirror_mode": {
    "name": "ipython",
    "version": 3
   },
   "file_extension": ".py",
   "mimetype": "text/x-python",
   "name": "python",
   "nbconvert_exporter": "python",
   "pygments_lexer": "ipython3",
   "version": "3.11.5"
  }
 },
 "nbformat": 4,
 "nbformat_minor": 5
}
