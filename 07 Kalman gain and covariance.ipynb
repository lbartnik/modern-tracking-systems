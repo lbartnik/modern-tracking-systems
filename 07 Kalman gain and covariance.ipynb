{
 "cells": [
  {
   "cell_type": "code",
   "execution_count": 5,
   "id": "e540b9bc-11b6-4325-9150-d8f5a1177710",
   "metadata": {},
   "outputs": [],
   "source": [
    "import numpy as np\n",
    "import plotly.express as ex\n",
    "import plotly.graph_objects as go\n",
    "from plotly.subplots import make_subplots\n",
    "import pandas as pd\n",
    "\n",
    "from tracking.util import to_df, colorscale"
   ]
  },
  {
   "cell_type": "markdown",
   "id": "2c5ef3f9-24fd-4b02-aebc-6a130c45957d",
   "metadata": {},
   "source": [
    "Covariace estimated by the Kalman Filter will be lower than either the initial covariance estimate, measurement noise or process noise.\n",
    "\n",
    "## No process noise\n",
    "\n",
    "Let's start with initial estimate and measurement noise being equal, no process noise. Repeated Kalman Filter updates are equivalent to an average of N normally-distributed random variables. According to the Central Limit Theorem, variance converges to $\\sigma / \\sqrt{n}$."
   ]
  },
  {
   "cell_type": "code",
   "execution_count": 48,
   "id": "e05e9c43-aacb-49b7-b83b-fc10ac4f48cc",
   "metadata": {},
   "outputs": [],
   "source": [
    "def simulate_variance(P: float, R: float, Q: float):\n",
    "    trace = [(0, P, 1)]\n",
    "\n",
    "    for i in range(1, 100):\n",
    "        K = P / (P + R)\n",
    "        P = K**2 * R + (1-K)**2 * P + Q\n",
    "        trace.append((i, P, K))\n",
    "    \n",
    "    return np.array(trace)\n",
    "\n",
    "def simulate_variance_df(P: float, R: float, Q: float):\n",
    "    return to_df(simulate_variance(P, R, Q), columns=['t', 'P', 'K'])"
   ]
  },
  {
   "cell_type": "code",
   "execution_count": 45,
   "id": "c2324d61-6475-4d39-a604-f4afbd50996c",
   "metadata": {},
   "outputs": [],
   "source": [
    "def plot_variance(**kwargs):\n",
    "    col = colorscale(x=kwargs.keys())\n",
    "    fig = make_subplots(rows=1, cols=2, subplot_titles=(\"P\", \"K\"))\n",
    "    #fig.update_yaxes(type=\"log\", row=1, col=2)\n",
    "\n",
    "    for name, data in kwargs.items():\n",
    "        params = dict(x=data[:,0], mode='lines', marker=dict(color=col[name]))\n",
    "        fig.add_trace(go.Scatter(y=data[:,1], name=name, **params), row=1, col=1)\n",
    "        fig.add_trace(go.Scatter(y=data[:,2], name=name, **params, showlegend=False), row=1, col=2)\n",
    "\n",
    "    return fig"
   ]
  },
  {
   "cell_type": "code",
   "execution_count": 46,
   "id": "aae0b2dc-40cf-492b-b2a1-4f26fe23bf2a",
   "metadata": {},
   "outputs": [
    {
     "data": {
      "application/vnd.plotly.v1+json": {
       "config": {
        "plotlyServerURL": "https://plot.ly"
       },
       "data": [
        {
         "marker": {
          "color": "rgb(0, 0, 131)"
         },
         "mode": "lines",
         "name": "P_0",
         "type": "scatter",
         "x": [
          0,
          1,
          2,
          3,
          4,
          5,
          6,
          7,
          8,
          9,
          10,
          11,
          12,
          13,
          14,
          15,
          16,
          17,
          18,
          19,
          20,
          21,
          22,
          23,
          24,
          25,
          26,
          27,
          28,
          29,
          30,
          31,
          32,
          33,
          34,
          35,
          36,
          37,
          38,
          39,
          40,
          41,
          42,
          43,
          44,
          45,
          46,
          47,
          48,
          49,
          50,
          51,
          52,
          53,
          54,
          55,
          56,
          57,
          58,
          59,
          60,
          61,
          62,
          63,
          64,
          65,
          66,
          67,
          68,
          69,
          70,
          71,
          72,
          73,
          74,
          75,
          76,
          77,
          78,
          79,
          80,
          81,
          82,
          83,
          84,
          85,
          86,
          87,
          88,
          89,
          90,
          91,
          92,
          93,
          94,
          95,
          96,
          97,
          98,
          99
         ],
         "xaxis": "x",
         "y": [
          10,
          7,
          6.117647058823529,
          5.795620437956204,
          5.66913123844732,
          5.618025244779993,
          5.597141864434944,
          5.588568926976108,
          5.585042958821613,
          5.5835916356331285,
          5.582994065928807,
          5.582747989448098,
          5.5826466507887265,
          5.582604916800932,
          5.582587729463545,
          5.582580651163601,
          5.582577736086821,
          5.582576535561534,
          5.582576041145278,
          5.582575837528191,
          5.582575753671888,
          5.582575719137067,
          5.5825757049144755,
          5.582575699057139,
          5.582575696644891,
          5.582575695651448,
          5.582575695242316,
          5.582575695073821,
          5.5825756950044285,
          5.5825756949758505,
          5.582575694964081,
          5.5825756949592344,
          5.582575694957239,
          5.582575694956416,
          5.582575694956077,
          5.5825756949559375,
          5.58257569495588,
          5.582575694955856,
          5.582575694955847,
          5.5825756949558425,
          5.582575694955841,
          5.58257569495584,
          5.58257569495584,
          5.58257569495584,
          5.58257569495584,
          5.58257569495584,
          5.58257569495584,
          5.58257569495584,
          5.58257569495584,
          5.58257569495584,
          5.58257569495584,
          5.58257569495584,
          5.58257569495584,
          5.58257569495584,
          5.58257569495584,
          5.58257569495584,
          5.58257569495584,
          5.58257569495584,
          5.58257569495584,
          5.58257569495584,
          5.58257569495584,
          5.58257569495584,
          5.58257569495584,
          5.58257569495584,
          5.58257569495584,
          5.58257569495584,
          5.58257569495584,
          5.58257569495584,
          5.58257569495584,
          5.58257569495584,
          5.58257569495584,
          5.58257569495584,
          5.58257569495584,
          5.58257569495584,
          5.58257569495584,
          5.58257569495584,
          5.58257569495584,
          5.58257569495584,
          5.58257569495584,
          5.58257569495584,
          5.58257569495584,
          5.58257569495584,
          5.58257569495584,
          5.58257569495584,
          5.58257569495584,
          5.58257569495584,
          5.58257569495584,
          5.58257569495584,
          5.58257569495584,
          5.58257569495584,
          5.58257569495584,
          5.58257569495584,
          5.58257569495584,
          5.58257569495584,
          5.58257569495584,
          5.58257569495584,
          5.58257569495584,
          5.58257569495584,
          5.58257569495584,
          5.58257569495584
         ],
         "yaxis": "y"
        },
        {
         "marker": {
          "color": "rgb(0, 0, 131)"
         },
         "mode": "lines",
         "name": "P_0",
         "showlegend": false,
         "type": "scatter",
         "x": [
          0,
          1,
          2,
          3,
          4,
          5,
          6,
          7,
          8,
          9,
          10,
          11,
          12,
          13,
          14,
          15,
          16,
          17,
          18,
          19,
          20,
          21,
          22,
          23,
          24,
          25,
          26,
          27,
          28,
          29,
          30,
          31,
          32,
          33,
          34,
          35,
          36,
          37,
          38,
          39,
          40,
          41,
          42,
          43,
          44,
          45,
          46,
          47,
          48,
          49,
          50,
          51,
          52,
          53,
          54,
          55,
          56,
          57,
          58,
          59,
          60,
          61,
          62,
          63,
          64,
          65,
          66,
          67,
          68,
          69,
          70,
          71,
          72,
          73,
          74,
          75,
          76,
          77,
          78,
          79,
          80,
          81,
          82,
          83,
          84,
          85,
          86,
          87,
          88,
          89,
          90,
          91,
          92,
          93,
          94,
          95,
          96,
          97,
          98,
          99
         ],
         "xaxis": "x2",
         "y": [
          1,
          0.5,
          0.4117647058823529,
          0.3795620437956204,
          0.36691312384473196,
          0.36180252447799927,
          0.3597141864434944,
          0.3588568926976108,
          0.35850429588216126,
          0.35835916356331293,
          0.3582994065928807,
          0.35827479894480974,
          0.3582646650788726,
          0.35826049168009316,
          0.3582587729463545,
          0.35825806511636016,
          0.3582577736086822,
          0.35825765355615335,
          0.3582576041145278,
          0.3582575837528192,
          0.35825757536718883,
          0.35825757191370666,
          0.3582575704914476,
          0.35825756990571384,
          0.3582575696644892,
          0.35825756956514476,
          0.35825756952423143,
          0.358257569507382,
          0.35825756950044285,
          0.358257569497585,
          0.3582575694964081,
          0.3582575694959234,
          0.3582575694957238,
          0.3582575694956416,
          0.3582575694956077,
          0.3582575694955938,
          0.358257569495588,
          0.3582575694955856,
          0.3582575694955846,
          0.3582575694955843,
          0.3582575694955841,
          0.358257569495584,
          0.358257569495584,
          0.358257569495584,
          0.358257569495584,
          0.358257569495584,
          0.358257569495584,
          0.358257569495584,
          0.358257569495584,
          0.358257569495584,
          0.358257569495584,
          0.358257569495584,
          0.358257569495584,
          0.358257569495584,
          0.358257569495584,
          0.358257569495584,
          0.358257569495584,
          0.358257569495584,
          0.358257569495584,
          0.358257569495584,
          0.358257569495584,
          0.358257569495584,
          0.358257569495584,
          0.358257569495584,
          0.358257569495584,
          0.358257569495584,
          0.358257569495584,
          0.358257569495584,
          0.358257569495584,
          0.358257569495584,
          0.358257569495584,
          0.358257569495584,
          0.358257569495584,
          0.358257569495584,
          0.358257569495584,
          0.358257569495584,
          0.358257569495584,
          0.358257569495584,
          0.358257569495584,
          0.358257569495584,
          0.358257569495584,
          0.358257569495584,
          0.358257569495584,
          0.358257569495584,
          0.358257569495584,
          0.358257569495584,
          0.358257569495584,
          0.358257569495584,
          0.358257569495584,
          0.358257569495584,
          0.358257569495584,
          0.358257569495584,
          0.358257569495584,
          0.358257569495584,
          0.358257569495584,
          0.358257569495584,
          0.358257569495584,
          0.358257569495584,
          0.358257569495584,
          0.358257569495584
         ],
         "yaxis": "y2"
        }
       ],
       "layout": {
        "annotations": [
         {
          "font": {
           "size": 16
          },
          "showarrow": false,
          "text": "P",
          "x": 0.225,
          "xanchor": "center",
          "xref": "paper",
          "y": 1,
          "yanchor": "bottom",
          "yref": "paper"
         },
         {
          "font": {
           "size": 16
          },
          "showarrow": false,
          "text": "K",
          "x": 0.775,
          "xanchor": "center",
          "xref": "paper",
          "y": 1,
          "yanchor": "bottom",
          "yref": "paper"
         }
        ],
        "autosize": true,
        "template": {
         "data": {
          "bar": [
           {
            "error_x": {
             "color": "#2a3f5f"
            },
            "error_y": {
             "color": "#2a3f5f"
            },
            "marker": {
             "line": {
              "color": "#E5ECF6",
              "width": 0.5
             },
             "pattern": {
              "fillmode": "overlay",
              "size": 10,
              "solidity": 0.2
             }
            },
            "type": "bar"
           }
          ],
          "barpolar": [
           {
            "marker": {
             "line": {
              "color": "#E5ECF6",
              "width": 0.5
             },
             "pattern": {
              "fillmode": "overlay",
              "size": 10,
              "solidity": 0.2
             }
            },
            "type": "barpolar"
           }
          ],
          "carpet": [
           {
            "aaxis": {
             "endlinecolor": "#2a3f5f",
             "gridcolor": "white",
             "linecolor": "white",
             "minorgridcolor": "white",
             "startlinecolor": "#2a3f5f"
            },
            "baxis": {
             "endlinecolor": "#2a3f5f",
             "gridcolor": "white",
             "linecolor": "white",
             "minorgridcolor": "white",
             "startlinecolor": "#2a3f5f"
            },
            "type": "carpet"
           }
          ],
          "choropleth": [
           {
            "colorbar": {
             "outlinewidth": 0,
             "ticks": ""
            },
            "type": "choropleth"
           }
          ],
          "contour": [
           {
            "colorbar": {
             "outlinewidth": 0,
             "ticks": ""
            },
            "colorscale": [
             [
              0,
              "#0d0887"
             ],
             [
              0.1111111111111111,
              "#46039f"
             ],
             [
              0.2222222222222222,
              "#7201a8"
             ],
             [
              0.3333333333333333,
              "#9c179e"
             ],
             [
              0.4444444444444444,
              "#bd3786"
             ],
             [
              0.5555555555555556,
              "#d8576b"
             ],
             [
              0.6666666666666666,
              "#ed7953"
             ],
             [
              0.7777777777777778,
              "#fb9f3a"
             ],
             [
              0.8888888888888888,
              "#fdca26"
             ],
             [
              1,
              "#f0f921"
             ]
            ],
            "type": "contour"
           }
          ],
          "contourcarpet": [
           {
            "colorbar": {
             "outlinewidth": 0,
             "ticks": ""
            },
            "type": "contourcarpet"
           }
          ],
          "heatmap": [
           {
            "colorbar": {
             "outlinewidth": 0,
             "ticks": ""
            },
            "colorscale": [
             [
              0,
              "#0d0887"
             ],
             [
              0.1111111111111111,
              "#46039f"
             ],
             [
              0.2222222222222222,
              "#7201a8"
             ],
             [
              0.3333333333333333,
              "#9c179e"
             ],
             [
              0.4444444444444444,
              "#bd3786"
             ],
             [
              0.5555555555555556,
              "#d8576b"
             ],
             [
              0.6666666666666666,
              "#ed7953"
             ],
             [
              0.7777777777777778,
              "#fb9f3a"
             ],
             [
              0.8888888888888888,
              "#fdca26"
             ],
             [
              1,
              "#f0f921"
             ]
            ],
            "type": "heatmap"
           }
          ],
          "heatmapgl": [
           {
            "colorbar": {
             "outlinewidth": 0,
             "ticks": ""
            },
            "colorscale": [
             [
              0,
              "#0d0887"
             ],
             [
              0.1111111111111111,
              "#46039f"
             ],
             [
              0.2222222222222222,
              "#7201a8"
             ],
             [
              0.3333333333333333,
              "#9c179e"
             ],
             [
              0.4444444444444444,
              "#bd3786"
             ],
             [
              0.5555555555555556,
              "#d8576b"
             ],
             [
              0.6666666666666666,
              "#ed7953"
             ],
             [
              0.7777777777777778,
              "#fb9f3a"
             ],
             [
              0.8888888888888888,
              "#fdca26"
             ],
             [
              1,
              "#f0f921"
             ]
            ],
            "type": "heatmapgl"
           }
          ],
          "histogram": [
           {
            "marker": {
             "pattern": {
              "fillmode": "overlay",
              "size": 10,
              "solidity": 0.2
             }
            },
            "type": "histogram"
           }
          ],
          "histogram2d": [
           {
            "colorbar": {
             "outlinewidth": 0,
             "ticks": ""
            },
            "colorscale": [
             [
              0,
              "#0d0887"
             ],
             [
              0.1111111111111111,
              "#46039f"
             ],
             [
              0.2222222222222222,
              "#7201a8"
             ],
             [
              0.3333333333333333,
              "#9c179e"
             ],
             [
              0.4444444444444444,
              "#bd3786"
             ],
             [
              0.5555555555555556,
              "#d8576b"
             ],
             [
              0.6666666666666666,
              "#ed7953"
             ],
             [
              0.7777777777777778,
              "#fb9f3a"
             ],
             [
              0.8888888888888888,
              "#fdca26"
             ],
             [
              1,
              "#f0f921"
             ]
            ],
            "type": "histogram2d"
           }
          ],
          "histogram2dcontour": [
           {
            "colorbar": {
             "outlinewidth": 0,
             "ticks": ""
            },
            "colorscale": [
             [
              0,
              "#0d0887"
             ],
             [
              0.1111111111111111,
              "#46039f"
             ],
             [
              0.2222222222222222,
              "#7201a8"
             ],
             [
              0.3333333333333333,
              "#9c179e"
             ],
             [
              0.4444444444444444,
              "#bd3786"
             ],
             [
              0.5555555555555556,
              "#d8576b"
             ],
             [
              0.6666666666666666,
              "#ed7953"
             ],
             [
              0.7777777777777778,
              "#fb9f3a"
             ],
             [
              0.8888888888888888,
              "#fdca26"
             ],
             [
              1,
              "#f0f921"
             ]
            ],
            "type": "histogram2dcontour"
           }
          ],
          "mesh3d": [
           {
            "colorbar": {
             "outlinewidth": 0,
             "ticks": ""
            },
            "type": "mesh3d"
           }
          ],
          "parcoords": [
           {
            "line": {
             "colorbar": {
              "outlinewidth": 0,
              "ticks": ""
             }
            },
            "type": "parcoords"
           }
          ],
          "pie": [
           {
            "automargin": true,
            "type": "pie"
           }
          ],
          "scatter": [
           {
            "fillpattern": {
             "fillmode": "overlay",
             "size": 10,
             "solidity": 0.2
            },
            "type": "scatter"
           }
          ],
          "scatter3d": [
           {
            "line": {
             "colorbar": {
              "outlinewidth": 0,
              "ticks": ""
             }
            },
            "marker": {
             "colorbar": {
              "outlinewidth": 0,
              "ticks": ""
             }
            },
            "type": "scatter3d"
           }
          ],
          "scattercarpet": [
           {
            "marker": {
             "colorbar": {
              "outlinewidth": 0,
              "ticks": ""
             }
            },
            "type": "scattercarpet"
           }
          ],
          "scattergeo": [
           {
            "marker": {
             "colorbar": {
              "outlinewidth": 0,
              "ticks": ""
             }
            },
            "type": "scattergeo"
           }
          ],
          "scattergl": [
           {
            "marker": {
             "colorbar": {
              "outlinewidth": 0,
              "ticks": ""
             }
            },
            "type": "scattergl"
           }
          ],
          "scattermapbox": [
           {
            "marker": {
             "colorbar": {
              "outlinewidth": 0,
              "ticks": ""
             }
            },
            "type": "scattermapbox"
           }
          ],
          "scatterpolar": [
           {
            "marker": {
             "colorbar": {
              "outlinewidth": 0,
              "ticks": ""
             }
            },
            "type": "scatterpolar"
           }
          ],
          "scatterpolargl": [
           {
            "marker": {
             "colorbar": {
              "outlinewidth": 0,
              "ticks": ""
             }
            },
            "type": "scatterpolargl"
           }
          ],
          "scatterternary": [
           {
            "marker": {
             "colorbar": {
              "outlinewidth": 0,
              "ticks": ""
             }
            },
            "type": "scatterternary"
           }
          ],
          "surface": [
           {
            "colorbar": {
             "outlinewidth": 0,
             "ticks": ""
            },
            "colorscale": [
             [
              0,
              "#0d0887"
             ],
             [
              0.1111111111111111,
              "#46039f"
             ],
             [
              0.2222222222222222,
              "#7201a8"
             ],
             [
              0.3333333333333333,
              "#9c179e"
             ],
             [
              0.4444444444444444,
              "#bd3786"
             ],
             [
              0.5555555555555556,
              "#d8576b"
             ],
             [
              0.6666666666666666,
              "#ed7953"
             ],
             [
              0.7777777777777778,
              "#fb9f3a"
             ],
             [
              0.8888888888888888,
              "#fdca26"
             ],
             [
              1,
              "#f0f921"
             ]
            ],
            "type": "surface"
           }
          ],
          "table": [
           {
            "cells": {
             "fill": {
              "color": "#EBF0F8"
             },
             "line": {
              "color": "white"
             }
            },
            "header": {
             "fill": {
              "color": "#C8D4E3"
             },
             "line": {
              "color": "white"
             }
            },
            "type": "table"
           }
          ]
         },
         "layout": {
          "annotationdefaults": {
           "arrowcolor": "#2a3f5f",
           "arrowhead": 0,
           "arrowwidth": 1
          },
          "autotypenumbers": "strict",
          "coloraxis": {
           "colorbar": {
            "outlinewidth": 0,
            "ticks": ""
           }
          },
          "colorscale": {
           "diverging": [
            [
             0,
             "#8e0152"
            ],
            [
             0.1,
             "#c51b7d"
            ],
            [
             0.2,
             "#de77ae"
            ],
            [
             0.3,
             "#f1b6da"
            ],
            [
             0.4,
             "#fde0ef"
            ],
            [
             0.5,
             "#f7f7f7"
            ],
            [
             0.6,
             "#e6f5d0"
            ],
            [
             0.7,
             "#b8e186"
            ],
            [
             0.8,
             "#7fbc41"
            ],
            [
             0.9,
             "#4d9221"
            ],
            [
             1,
             "#276419"
            ]
           ],
           "sequential": [
            [
             0,
             "#0d0887"
            ],
            [
             0.1111111111111111,
             "#46039f"
            ],
            [
             0.2222222222222222,
             "#7201a8"
            ],
            [
             0.3333333333333333,
             "#9c179e"
            ],
            [
             0.4444444444444444,
             "#bd3786"
            ],
            [
             0.5555555555555556,
             "#d8576b"
            ],
            [
             0.6666666666666666,
             "#ed7953"
            ],
            [
             0.7777777777777778,
             "#fb9f3a"
            ],
            [
             0.8888888888888888,
             "#fdca26"
            ],
            [
             1,
             "#f0f921"
            ]
           ],
           "sequentialminus": [
            [
             0,
             "#0d0887"
            ],
            [
             0.1111111111111111,
             "#46039f"
            ],
            [
             0.2222222222222222,
             "#7201a8"
            ],
            [
             0.3333333333333333,
             "#9c179e"
            ],
            [
             0.4444444444444444,
             "#bd3786"
            ],
            [
             0.5555555555555556,
             "#d8576b"
            ],
            [
             0.6666666666666666,
             "#ed7953"
            ],
            [
             0.7777777777777778,
             "#fb9f3a"
            ],
            [
             0.8888888888888888,
             "#fdca26"
            ],
            [
             1,
             "#f0f921"
            ]
           ]
          },
          "colorway": [
           "#636efa",
           "#EF553B",
           "#00cc96",
           "#ab63fa",
           "#FFA15A",
           "#19d3f3",
           "#FF6692",
           "#B6E880",
           "#FF97FF",
           "#FECB52"
          ],
          "font": {
           "color": "#2a3f5f"
          },
          "geo": {
           "bgcolor": "white",
           "lakecolor": "white",
           "landcolor": "#E5ECF6",
           "showlakes": true,
           "showland": true,
           "subunitcolor": "white"
          },
          "hoverlabel": {
           "align": "left"
          },
          "hovermode": "closest",
          "mapbox": {
           "style": "light"
          },
          "paper_bgcolor": "white",
          "plot_bgcolor": "#E5ECF6",
          "polar": {
           "angularaxis": {
            "gridcolor": "white",
            "linecolor": "white",
            "ticks": ""
           },
           "bgcolor": "#E5ECF6",
           "radialaxis": {
            "gridcolor": "white",
            "linecolor": "white",
            "ticks": ""
           }
          },
          "scene": {
           "xaxis": {
            "backgroundcolor": "#E5ECF6",
            "gridcolor": "white",
            "gridwidth": 2,
            "linecolor": "white",
            "showbackground": true,
            "ticks": "",
            "zerolinecolor": "white"
           },
           "yaxis": {
            "backgroundcolor": "#E5ECF6",
            "gridcolor": "white",
            "gridwidth": 2,
            "linecolor": "white",
            "showbackground": true,
            "ticks": "",
            "zerolinecolor": "white"
           },
           "zaxis": {
            "backgroundcolor": "#E5ECF6",
            "gridcolor": "white",
            "gridwidth": 2,
            "linecolor": "white",
            "showbackground": true,
            "ticks": "",
            "zerolinecolor": "white"
           }
          },
          "shapedefaults": {
           "line": {
            "color": "#2a3f5f"
           }
          },
          "ternary": {
           "aaxis": {
            "gridcolor": "white",
            "linecolor": "white",
            "ticks": ""
           },
           "baxis": {
            "gridcolor": "white",
            "linecolor": "white",
            "ticks": ""
           },
           "bgcolor": "#E5ECF6",
           "caxis": {
            "gridcolor": "white",
            "linecolor": "white",
            "ticks": ""
           }
          },
          "title": {
           "x": 0.05
          },
          "xaxis": {
           "automargin": true,
           "gridcolor": "white",
           "linecolor": "white",
           "ticks": "",
           "title": {
            "standoff": 15
           },
           "zerolinecolor": "white",
           "zerolinewidth": 2
          },
          "yaxis": {
           "automargin": true,
           "gridcolor": "white",
           "linecolor": "white",
           "ticks": "",
           "title": {
            "standoff": 15
           },
           "zerolinecolor": "white",
           "zerolinewidth": 2
          }
         }
        },
        "xaxis": {
         "anchor": "y",
         "autorange": true,
         "domain": [
          0,
          0.45
         ],
         "range": [
          0,
          99
         ],
         "type": "linear"
        },
        "xaxis2": {
         "anchor": "y2",
         "autorange": true,
         "domain": [
          0.55,
          1
         ],
         "range": [
          0,
          99
         ],
         "type": "linear"
        },
        "yaxis": {
         "anchor": "x",
         "autorange": true,
         "domain": [
          0,
          1
         ],
         "range": [
          5.337163233564498,
          10.245412461391343
         ],
         "type": "linear"
        },
        "yaxis2": {
         "anchor": "x2",
         "autorange": true,
         "domain": [
          0,
          1
         ],
         "range": [
          0.32260521224533867,
          1.0356523572502454
         ],
         "type": "linear"
        }
       }
      },
      "image/png": "[encoded data removed]",
      "text/html": [
       "<div>                            <div id=\"7af738e9-eb22-47d1-ba0c-0b208dc478a3\" class=\"plotly-graph-div\" style=\"height:525px; width:100%;\"></div>            <script type=\"text/javascript\">                require([\"plotly\"], function(Plotly) {                    window.PLOTLYENV=window.PLOTLYENV || {};                                    if (document.getElementById(\"7af738e9-eb22-47d1-ba0c-0b208dc478a3\")) {                    Plotly.newPlot(                        \"7af738e9-eb22-47d1-ba0c-0b208dc478a3\",                        [{\"marker\":{\"color\":\"rgb(0, 0, 131)\"},\"mode\":\"lines\",\"name\":\"P_0\",\"x\":[0.0,1.0,2.0,3.0,4.0,5.0,6.0,7.0,8.0,9.0,10.0,11.0,12.0,13.0,14.0,15.0,16.0,17.0,18.0,19.0,20.0,21.0,22.0,23.0,24.0,25.0,26.0,27.0,28.0,29.0,30.0,31.0,32.0,33.0,34.0,35.0,36.0,37.0,38.0,39.0,40.0,41.0,42.0,43.0,44.0,45.0,46.0,47.0,48.0,49.0,50.0,51.0,52.0,53.0,54.0,55.0,56.0,57.0,58.0,59.0,60.0,61.0,62.0,63.0,64.0,65.0,66.0,67.0,68.0,69.0,70.0,71.0,72.0,73.0,74.0,75.0,76.0,77.0,78.0,79.0,80.0,81.0,82.0,83.0,84.0,85.0,86.0,87.0,88.0,89.0,90.0,91.0,92.0,93.0,94.0,95.0,96.0,97.0,98.0,99.0],\"y\":[10.0,7.0,6.117647058823529,5.795620437956204,5.66913123844732,5.618025244779993,5.597141864434944,5.588568926976108,5.585042958821613,5.5835916356331285,5.582994065928807,5.582747989448098,5.5826466507887265,5.582604916800932,5.582587729463545,5.582580651163601,5.582577736086821,5.582576535561534,5.582576041145278,5.582575837528191,5.582575753671888,5.582575719137067,5.5825757049144755,5.582575699057139,5.582575696644891,5.582575695651448,5.582575695242316,5.582575695073821,5.5825756950044285,5.5825756949758505,5.582575694964081,5.5825756949592344,5.582575694957239,5.582575694956416,5.582575694956077,5.5825756949559375,5.58257569495588,5.582575694955856,5.582575694955847,5.5825756949558425,5.582575694955841,5.58257569495584,5.58257569495584,5.58257569495584,5.58257569495584,5.58257569495584,5.58257569495584,5.58257569495584,5.58257569495584,5.58257569495584,5.58257569495584,5.58257569495584,5.58257569495584,5.58257569495584,5.58257569495584,5.58257569495584,5.58257569495584,5.58257569495584,5.58257569495584,5.58257569495584,5.58257569495584,5.58257569495584,5.58257569495584,5.58257569495584,5.58257569495584,5.58257569495584,5.58257569495584,5.58257569495584,5.58257569495584,5.58257569495584,5.58257569495584,5.58257569495584,5.58257569495584,5.58257569495584,5.58257569495584,5.58257569495584,5.58257569495584,5.58257569495584,5.58257569495584,5.58257569495584,5.58257569495584,5.58257569495584,5.58257569495584,5.58257569495584,5.58257569495584,5.58257569495584,5.58257569495584,5.58257569495584,5.58257569495584,5.58257569495584,5.58257569495584,5.58257569495584,5.58257569495584,5.58257569495584,5.58257569495584,5.58257569495584,5.58257569495584,5.58257569495584,5.58257569495584,5.58257569495584],\"type\":\"scatter\",\"xaxis\":\"x\",\"yaxis\":\"y\"},{\"marker\":{\"color\":\"rgb(0, 0, 131)\"},\"mode\":\"lines\",\"name\":\"P_0\",\"showlegend\":false,\"x\":[0.0,1.0,2.0,3.0,4.0,5.0,6.0,7.0,8.0,9.0,10.0,11.0,12.0,13.0,14.0,15.0,16.0,17.0,18.0,19.0,20.0,21.0,22.0,23.0,24.0,25.0,26.0,27.0,28.0,29.0,30.0,31.0,32.0,33.0,34.0,35.0,36.0,37.0,38.0,39.0,40.0,41.0,42.0,43.0,44.0,45.0,46.0,47.0,48.0,49.0,50.0,51.0,52.0,53.0,54.0,55.0,56.0,57.0,58.0,59.0,60.0,61.0,62.0,63.0,64.0,65.0,66.0,67.0,68.0,69.0,70.0,71.0,72.0,73.0,74.0,75.0,76.0,77.0,78.0,79.0,80.0,81.0,82.0,83.0,84.0,85.0,86.0,87.0,88.0,89.0,90.0,91.0,92.0,93.0,94.0,95.0,96.0,97.0,98.0,99.0],\"y\":[1.0,0.5,0.4117647058823529,0.3795620437956204,0.36691312384473196,0.36180252447799927,0.3597141864434944,0.3588568926976108,0.35850429588216126,0.35835916356331293,0.3582994065928807,0.35827479894480974,0.3582646650788726,0.35826049168009316,0.3582587729463545,0.35825806511636016,0.3582577736086822,0.35825765355615335,0.3582576041145278,0.3582575837528192,0.35825757536718883,0.35825757191370666,0.3582575704914476,0.35825756990571384,0.3582575696644892,0.35825756956514476,0.35825756952423143,0.358257569507382,0.35825756950044285,0.358257569497585,0.3582575694964081,0.3582575694959234,0.3582575694957238,0.3582575694956416,0.3582575694956077,0.3582575694955938,0.358257569495588,0.3582575694955856,0.3582575694955846,0.3582575694955843,0.3582575694955841,0.358257569495584,0.358257569495584,0.358257569495584,0.358257569495584,0.358257569495584,0.358257569495584,0.358257569495584,0.358257569495584,0.358257569495584,0.358257569495584,0.358257569495584,0.358257569495584,0.358257569495584,0.358257569495584,0.358257569495584,0.358257569495584,0.358257569495584,0.358257569495584,0.358257569495584,0.358257569495584,0.358257569495584,0.358257569495584,0.358257569495584,0.358257569495584,0.358257569495584,0.358257569495584,0.358257569495584,0.358257569495584,0.358257569495584,0.358257569495584,0.358257569495584,0.358257569495584,0.358257569495584,0.358257569495584,0.358257569495584,0.358257569495584,0.358257569495584,0.358257569495584,0.358257569495584,0.358257569495584,0.358257569495584,0.358257569495584,0.358257569495584,0.358257569495584,0.358257569495584,0.358257569495584,0.358257569495584,0.358257569495584,0.358257569495584,0.358257569495584,0.358257569495584,0.358257569495584,0.358257569495584,0.358257569495584,0.358257569495584,0.358257569495584,0.358257569495584,0.358257569495584,0.358257569495584],\"type\":\"scatter\",\"xaxis\":\"x2\",\"yaxis\":\"y2\"}],                        {\"template\":{\"data\":{\"histogram2dcontour\":[{\"type\":\"histogram2dcontour\",\"colorbar\":{\"outlinewidth\":0,\"ticks\":\"\"},\"colorscale\":[[0.0,\"#0d0887\"],[0.1111111111111111,\"#46039f\"],[0.2222222222222222,\"#7201a8\"],[0.3333333333333333,\"#9c179e\"],[0.4444444444444444,\"#bd3786\"],[0.5555555555555556,\"#d8576b\"],[0.6666666666666666,\"#ed7953\"],[0.7777777777777778,\"#fb9f3a\"],[0.8888888888888888,\"#fdca26\"],[1.0,\"#f0f921\"]]}],\"choropleth\":[{\"type\":\"choropleth\",\"colorbar\":{\"outlinewidth\":0,\"ticks\":\"\"}}],\"histogram2d\":[{\"type\":\"histogram2d\",\"colorbar\":{\"outlinewidth\":0,\"ticks\":\"\"},\"colorscale\":[[0.0,\"#0d0887\"],[0.1111111111111111,\"#46039f\"],[0.2222222222222222,\"#7201a8\"],[0.3333333333333333,\"#9c179e\"],[0.4444444444444444,\"#bd3786\"],[0.5555555555555556,\"#d8576b\"],[0.6666666666666666,\"#ed7953\"],[0.7777777777777778,\"#fb9f3a\"],[0.8888888888888888,\"#fdca26\"],[1.0,\"#f0f921\"]]}],\"heatmap\":[{\"type\":\"heatmap\",\"colorbar\":{\"outlinewidth\":0,\"ticks\":\"\"},\"colorscale\":[[0.0,\"#0d0887\"],[0.1111111111111111,\"#46039f\"],[0.2222222222222222,\"#7201a8\"],[0.3333333333333333,\"#9c179e\"],[0.4444444444444444,\"#bd3786\"],[0.5555555555555556,\"#d8576b\"],[0.6666666666666666,\"#ed7953\"],[0.7777777777777778,\"#fb9f3a\"],[0.8888888888888888,\"#fdca26\"],[1.0,\"#f0f921\"]]}],\"heatmapgl\":[{\"type\":\"heatmapgl\",\"colorbar\":{\"outlinewidth\":0,\"ticks\":\"\"},\"colorscale\":[[0.0,\"#0d0887\"],[0.1111111111111111,\"#46039f\"],[0.2222222222222222,\"#7201a8\"],[0.3333333333333333,\"#9c179e\"],[0.4444444444444444,\"#bd3786\"],[0.5555555555555556,\"#d8576b\"],[0.6666666666666666,\"#ed7953\"],[0.7777777777777778,\"#fb9f3a\"],[0.8888888888888888,\"#fdca26\"],[1.0,\"#f0f921\"]]}],\"contourcarpet\":[{\"type\":\"contourcarpet\",\"colorbar\":{\"outlinewidth\":0,\"ticks\":\"\"}}],\"contour\":[{\"type\":\"contour\",\"colorbar\":{\"outlinewidth\":0,\"ticks\":\"\"},\"colorscale\":[[0.0,\"#0d0887\"],[0.1111111111111111,\"#46039f\"],[0.2222222222222222,\"#7201a8\"],[0.3333333333333333,\"#9c179e\"],[0.4444444444444444,\"#bd3786\"],[0.5555555555555556,\"#d8576b\"],[0.6666666666666666,\"#ed7953\"],[0.7777777777777778,\"#fb9f3a\"],[0.8888888888888888,\"#fdca26\"],[1.0,\"#f0f921\"]]}],\"surface\":[{\"type\":\"surface\",\"colorbar\":{\"outlinewidth\":0,\"ticks\":\"\"},\"colorscale\":[[0.0,\"#0d0887\"],[0.1111111111111111,\"#46039f\"],[0.2222222222222222,\"#7201a8\"],[0.3333333333333333,\"#9c179e\"],[0.4444444444444444,\"#bd3786\"],[0.5555555555555556,\"#d8576b\"],[0.6666666666666666,\"#ed7953\"],[0.7777777777777778,\"#fb9f3a\"],[0.8888888888888888,\"#fdca26\"],[1.0,\"#f0f921\"]]}],\"mesh3d\":[{\"type\":\"mesh3d\",\"colorbar\":{\"outlinewidth\":0,\"ticks\":\"\"}}],\"scatter\":[{\"fillpattern\":{\"fillmode\":\"overlay\",\"size\":10,\"solidity\":0.2},\"type\":\"scatter\"}],\"parcoords\":[{\"type\":\"parcoords\",\"line\":{\"colorbar\":{\"outlinewidth\":0,\"ticks\":\"\"}}}],\"scatterpolargl\":[{\"type\":\"scatterpolargl\",\"marker\":{\"colorbar\":{\"outlinewidth\":0,\"ticks\":\"\"}}}],\"bar\":[{\"error_x\":{\"color\":\"#2a3f5f\"},\"error_y\":{\"color\":\"#2a3f5f\"},\"marker\":{\"line\":{\"color\":\"#E5ECF6\",\"width\":0.5},\"pattern\":{\"fillmode\":\"overlay\",\"size\":10,\"solidity\":0.2}},\"type\":\"bar\"}],\"scattergeo\":[{\"type\":\"scattergeo\",\"marker\":{\"colorbar\":{\"outlinewidth\":0,\"ticks\":\"\"}}}],\"scatterpolar\":[{\"type\":\"scatterpolar\",\"marker\":{\"colorbar\":{\"outlinewidth\":0,\"ticks\":\"\"}}}],\"histogram\":[{\"marker\":{\"pattern\":{\"fillmode\":\"overlay\",\"size\":10,\"solidity\":0.2}},\"type\":\"histogram\"}],\"scattergl\":[{\"type\":\"scattergl\",\"marker\":{\"colorbar\":{\"outlinewidth\":0,\"ticks\":\"\"}}}],\"scatter3d\":[{\"type\":\"scatter3d\",\"line\":{\"colorbar\":{\"outlinewidth\":0,\"ticks\":\"\"}},\"marker\":{\"colorbar\":{\"outlinewidth\":0,\"ticks\":\"\"}}}],\"scattermapbox\":[{\"type\":\"scattermapbox\",\"marker\":{\"colorbar\":{\"outlinewidth\":0,\"ticks\":\"\"}}}],\"scatterternary\":[{\"type\":\"scatterternary\",\"marker\":{\"colorbar\":{\"outlinewidth\":0,\"ticks\":\"\"}}}],\"scattercarpet\":[{\"type\":\"scattercarpet\",\"marker\":{\"colorbar\":{\"outlinewidth\":0,\"ticks\":\"\"}}}],\"carpet\":[{\"aaxis\":{\"endlinecolor\":\"#2a3f5f\",\"gridcolor\":\"white\",\"linecolor\":\"white\",\"minorgridcolor\":\"white\",\"startlinecolor\":\"#2a3f5f\"},\"baxis\":{\"endlinecolor\":\"#2a3f5f\",\"gridcolor\":\"white\",\"linecolor\":\"white\",\"minorgridcolor\":\"white\",\"startlinecolor\":\"#2a3f5f\"},\"type\":\"carpet\"}],\"table\":[{\"cells\":{\"fill\":{\"color\":\"#EBF0F8\"},\"line\":{\"color\":\"white\"}},\"header\":{\"fill\":{\"color\":\"#C8D4E3\"},\"line\":{\"color\":\"white\"}},\"type\":\"table\"}],\"barpolar\":[{\"marker\":{\"line\":{\"color\":\"#E5ECF6\",\"width\":0.5},\"pattern\":{\"fillmode\":\"overlay\",\"size\":10,\"solidity\":0.2}},\"type\":\"barpolar\"}],\"pie\":[{\"automargin\":true,\"type\":\"pie\"}]},\"layout\":{\"autotypenumbers\":\"strict\",\"colorway\":[\"#636efa\",\"#EF553B\",\"#00cc96\",\"#ab63fa\",\"#FFA15A\",\"#19d3f3\",\"#FF6692\",\"#B6E880\",\"#FF97FF\",\"#FECB52\"],\"font\":{\"color\":\"#2a3f5f\"},\"hovermode\":\"closest\",\"hoverlabel\":{\"align\":\"left\"},\"paper_bgcolor\":\"white\",\"plot_bgcolor\":\"#E5ECF6\",\"polar\":{\"bgcolor\":\"#E5ECF6\",\"angularaxis\":{\"gridcolor\":\"white\",\"linecolor\":\"white\",\"ticks\":\"\"},\"radialaxis\":{\"gridcolor\":\"white\",\"linecolor\":\"white\",\"ticks\":\"\"}},\"ternary\":{\"bgcolor\":\"#E5ECF6\",\"aaxis\":{\"gridcolor\":\"white\",\"linecolor\":\"white\",\"ticks\":\"\"},\"baxis\":{\"gridcolor\":\"white\",\"linecolor\":\"white\",\"ticks\":\"\"},\"caxis\":{\"gridcolor\":\"white\",\"linecolor\":\"white\",\"ticks\":\"\"}},\"coloraxis\":{\"colorbar\":{\"outlinewidth\":0,\"ticks\":\"\"}},\"colorscale\":{\"sequential\":[[0.0,\"#0d0887\"],[0.1111111111111111,\"#46039f\"],[0.2222222222222222,\"#7201a8\"],[0.3333333333333333,\"#9c179e\"],[0.4444444444444444,\"#bd3786\"],[0.5555555555555556,\"#d8576b\"],[0.6666666666666666,\"#ed7953\"],[0.7777777777777778,\"#fb9f3a\"],[0.8888888888888888,\"#fdca26\"],[1.0,\"#f0f921\"]],\"sequentialminus\":[[0.0,\"#0d0887\"],[0.1111111111111111,\"#46039f\"],[0.2222222222222222,\"#7201a8\"],[0.3333333333333333,\"#9c179e\"],[0.4444444444444444,\"#bd3786\"],[0.5555555555555556,\"#d8576b\"],[0.6666666666666666,\"#ed7953\"],[0.7777777777777778,\"#fb9f3a\"],[0.8888888888888888,\"#fdca26\"],[1.0,\"#f0f921\"]],\"diverging\":[[0,\"#8e0152\"],[0.1,\"#c51b7d\"],[0.2,\"#de77ae\"],[0.3,\"#f1b6da\"],[0.4,\"#fde0ef\"],[0.5,\"#f7f7f7\"],[0.6,\"#e6f5d0\"],[0.7,\"#b8e186\"],[0.8,\"#7fbc41\"],[0.9,\"#4d9221\"],[1,\"#276419\"]]},\"xaxis\":{\"gridcolor\":\"white\",\"linecolor\":\"white\",\"ticks\":\"\",\"title\":{\"standoff\":15},\"zerolinecolor\":\"white\",\"automargin\":true,\"zerolinewidth\":2},\"yaxis\":{\"gridcolor\":\"white\",\"linecolor\":\"white\",\"ticks\":\"\",\"title\":{\"standoff\":15},\"zerolinecolor\":\"white\",\"automargin\":true,\"zerolinewidth\":2},\"scene\":{\"xaxis\":{\"backgroundcolor\":\"#E5ECF6\",\"gridcolor\":\"white\",\"linecolor\":\"white\",\"showbackground\":true,\"ticks\":\"\",\"zerolinecolor\":\"white\",\"gridwidth\":2},\"yaxis\":{\"backgroundcolor\":\"#E5ECF6\",\"gridcolor\":\"white\",\"linecolor\":\"white\",\"showbackground\":true,\"ticks\":\"\",\"zerolinecolor\":\"white\",\"gridwidth\":2},\"zaxis\":{\"backgroundcolor\":\"#E5ECF6\",\"gridcolor\":\"white\",\"linecolor\":\"white\",\"showbackground\":true,\"ticks\":\"\",\"zerolinecolor\":\"white\",\"gridwidth\":2}},\"shapedefaults\":{\"line\":{\"color\":\"#2a3f5f\"}},\"annotationdefaults\":{\"arrowcolor\":\"#2a3f5f\",\"arrowhead\":0,\"arrowwidth\":1},\"geo\":{\"bgcolor\":\"white\",\"landcolor\":\"#E5ECF6\",\"subunitcolor\":\"white\",\"showland\":true,\"showlakes\":true,\"lakecolor\":\"white\"},\"title\":{\"x\":0.05},\"mapbox\":{\"style\":\"light\"}}},\"xaxis\":{\"anchor\":\"y\",\"domain\":[0.0,0.45]},\"yaxis\":{\"anchor\":\"x\",\"domain\":[0.0,1.0]},\"xaxis2\":{\"anchor\":\"y2\",\"domain\":[0.55,1.0]},\"yaxis2\":{\"anchor\":\"x2\",\"domain\":[0.0,1.0]},\"annotations\":[{\"font\":{\"size\":16},\"showarrow\":false,\"text\":\"P\",\"x\":0.225,\"xanchor\":\"center\",\"xref\":\"paper\",\"y\":1.0,\"yanchor\":\"bottom\",\"yref\":\"paper\"},{\"font\":{\"size\":16},\"showarrow\":false,\"text\":\"K\",\"x\":0.775,\"xanchor\":\"center\",\"xref\":\"paper\",\"y\":1.0,\"yanchor\":\"bottom\",\"yref\":\"paper\"}]},                        {\"responsive\": true}                    ).then(function(){\n",
       "                            \n",
       "var gd = document.getElementById('7af738e9-eb22-47d1-ba0c-0b208dc478a3');\n",
       "var x = new MutationObserver(function (mutations, observer) {{\n",
       "        var display = window.getComputedStyle(gd).display;\n",
       "        if (!display || display === 'none') {{\n",
       "            console.log([gd, 'removed!']);\n",
       "            Plotly.purge(gd);\n",
       "            observer.disconnect();\n",
       "        }}\n",
       "}});\n",
       "\n",
       "// Listen for the removal of the full notebook cells\n",
       "var notebookContainer = gd.closest('#notebook-container');\n",
       "if (notebookContainer) {{\n",
       "    x.observe(notebookContainer, {childList: true});\n",
       "}}\n",
       "\n",
       "// Listen for the clearing of the current output cell\n",
       "var outputEl = gd.closest('.output');\n",
       "if (outputEl) {{\n",
       "    x.observe(outputEl, {childList: true});\n",
       "}}\n",
       "\n",
       "                        })                };                });            </script>        </div>"
      ]
     },
     "metadata": {},
     "output_type": "display_data"
    }
   ],
   "source": [
    "plot_variance(P_0=simulate_variance(10, 10, 2))"
   ]
  },
  {
   "cell_type": "code",
   "execution_count": 51,
   "id": "87cce48f-d99f-402d-b134-17253ace4816",
   "metadata": {},
   "outputs": [
    {
     "data": {
      "application/vnd.plotly.v1+json": {
       "config": {
        "plotlyServerURL": "https://plot.ly"
       },
       "data": [
        {
         "hovertemplate": "parameter=P<br>t=%{x}<br>value=%{y}<extra></extra>",
         "legendgroup": "P",
         "line": {
          "color": "#636efa",
          "dash": "solid"
         },
         "marker": {
          "symbol": "circle"
         },
         "mode": "lines",
         "name": "P",
         "orientation": "v",
         "showlegend": true,
         "type": "scatter",
         "x": [
          0,
          1,
          2,
          3,
          4,
          5,
          6,
          7,
          8,
          9,
          10,
          11,
          12,
          13,
          14,
          15,
          16,
          17,
          18,
          19,
          20,
          21,
          22,
          23,
          24,
          25,
          26,
          27,
          28,
          29,
          30,
          31,
          32,
          33,
          34,
          35,
          36,
          37,
          38,
          39,
          40,
          41,
          42,
          43,
          44,
          45,
          46,
          47,
          48,
          49,
          50,
          51,
          52,
          53,
          54,
          55,
          56,
          57,
          58,
          59,
          60,
          61,
          62,
          63,
          64,
          65,
          66,
          67,
          68,
          69,
          70,
          71,
          72,
          73,
          74,
          75,
          76,
          77,
          78,
          79,
          80,
          81,
          82,
          83,
          84,
          85,
          86,
          87,
          88,
          89,
          90,
          91,
          92,
          93,
          94,
          95,
          96,
          97,
          98,
          99
         ],
         "xaxis": "x",
         "y": [
          10,
          5,
          3.333333333333334,
          2.500000000000001,
          2.0000000000000004,
          1.6666666666666667,
          1.4285714285714286,
          1.25,
          1.1111111111111112,
          1.0000000000000002,
          0.9090909090909093,
          0.8333333333333334,
          0.7692307692307694,
          0.7142857142857145,
          0.666666666666667,
          0.6250000000000002,
          0.5882352941176473,
          0.5555555555555558,
          0.5263157894736844,
          0.5000000000000001,
          0.4761904761904763,
          0.4545454545454547,
          0.4347826086956524,
          0.4166666666666668,
          0.40000000000000013,
          0.38461538461538475,
          0.37037037037037046,
          0.35714285714285726,
          0.34482758620689674,
          0.33333333333333354,
          0.32258064516129054,
          0.3125000000000002,
          0.3030303030303033,
          0.2941176470588238,
          0.28571428571428603,
          0.27777777777777807,
          0.2702702702702705,
          0.26315789473684237,
          0.25641025641025667,
          0.2500000000000002,
          0.24390243902439046,
          0.2380952380952383,
          0.2325581395348839,
          0.22727272727272746,
          0.2222222222222224,
          0.21739130434782628,
          0.2127659574468087,
          0.2083333333333335,
          0.2040816326530614,
          0.20000000000000015,
          0.19607843137254916,
          0.19230769230769246,
          0.18867924528301902,
          0.18518518518518534,
          0.181818181818182,
          0.17857142857142871,
          0.1754385964912282,
          0.1724137931034484,
          0.16949152542372894,
          0.1666666666666668,
          0.16393442622950832,
          0.1612903225806453,
          0.15873015873015883,
          0.1562500000000001,
          0.15384615384615394,
          0.1515151515151516,
          0.14925373134328365,
          0.14705882352941183,
          0.14492753623188412,
          0.14285714285714293,
          0.1408450704225353,
          0.13888888888888898,
          0.1369863013698631,
          0.13513513513513523,
          0.13333333333333341,
          0.13157894736842113,
          0.12987012987012994,
          0.12820512820512828,
          0.12658227848101275,
          0.1250000000000001,
          0.1234567901234569,
          0.12195121951219523,
          0.12048192771084347,
          0.11904761904761914,
          0.11764705882352952,
          0.11627906976744196,
          0.11494252873563227,
          0.11363636363636373,
          0.11235955056179783,
          0.1111111111111112,
          0.10989010989010999,
          0.10869565217391312,
          0.10752688172043019,
          0.10638297872340435,
          0.10526315789473693,
          0.10416666666666677,
          0.10309278350515474,
          0.10204081632653073,
          0.10101010101010112,
          0.1000000000000001
         ],
         "yaxis": "y"
        },
        {
         "hovertemplate": "parameter=K<br>t=%{x}<br>value=%{y}<extra></extra>",
         "legendgroup": "K",
         "line": {
          "color": "#EF553B",
          "dash": "solid"
         },
         "marker": {
          "symbol": "circle"
         },
         "mode": "lines",
         "name": "K",
         "orientation": "v",
         "showlegend": true,
         "type": "scatter",
         "x": [
          0,
          1,
          2,
          3,
          4,
          5,
          6,
          7,
          8,
          9,
          10,
          11,
          12,
          13,
          14,
          15,
          16,
          17,
          18,
          19,
          20,
          21,
          22,
          23,
          24,
          25,
          26,
          27,
          28,
          29,
          30,
          31,
          32,
          33,
          34,
          35,
          36,
          37,
          38,
          39,
          40,
          41,
          42,
          43,
          44,
          45,
          46,
          47,
          48,
          49,
          50,
          51,
          52,
          53,
          54,
          55,
          56,
          57,
          58,
          59,
          60,
          61,
          62,
          63,
          64,
          65,
          66,
          67,
          68,
          69,
          70,
          71,
          72,
          73,
          74,
          75,
          76,
          77,
          78,
          79,
          80,
          81,
          82,
          83,
          84,
          85,
          86,
          87,
          88,
          89,
          90,
          91,
          92,
          93,
          94,
          95,
          96,
          97,
          98,
          99
         ],
         "xaxis": "x",
         "y": [
          1,
          0.5,
          0.3333333333333333,
          0.25000000000000006,
          0.20000000000000007,
          0.1666666666666667,
          0.14285714285714288,
          0.125,
          0.1111111111111111,
          0.1,
          0.09090909090909093,
          0.08333333333333334,
          0.07692307692307693,
          0.07142857142857144,
          0.06666666666666668,
          0.06250000000000001,
          0.058823529411764726,
          0.05555555555555558,
          0.052631578947368446,
          0.05000000000000002,
          0.04761904761904763,
          0.04545454545454546,
          0.04347826086956523,
          0.041666666666666685,
          0.040000000000000015,
          0.03846153846153847,
          0.03703703703703705,
          0.035714285714285726,
          0.03448275862068966,
          0.033333333333333354,
          0.03225806451612905,
          0.03125000000000002,
          0.030303030303030325,
          0.02941176470588238,
          0.0285714285714286,
          0.027777777777777807,
          0.027027027027027053,
          0.026315789473684233,
          0.025641025641025664,
          0.025000000000000022,
          0.024390243902439046,
          0.02380952380952383,
          0.02325581395348839,
          0.022727272727272745,
          0.02222222222222224,
          0.021739130434782625,
          0.021276595744680868,
          0.020833333333333353,
          0.020408163265306138,
          0.020000000000000018,
          0.01960784313725492,
          0.019230769230769246,
          0.018867924528301903,
          0.01851851851851853,
          0.0181818181818182,
          0.017857142857142873,
          0.01754385964912282,
          0.01724137931034484,
          0.01694915254237289,
          0.01666666666666668,
          0.016393442622950834,
          0.01612903225806453,
          0.015873015873015886,
          0.01562500000000001,
          0.015384615384615396,
          0.01515151515151516,
          0.014925373134328365,
          0.014705882352941181,
          0.014492753623188413,
          0.01428571428571429,
          0.01408450704225353,
          0.013888888888888897,
          0.01369863013698631,
          0.013513513513513521,
          0.013333333333333343,
          0.013157894736842113,
          0.012987012987012995,
          0.012820512820512829,
          0.012658227848101274,
          0.012500000000000008,
          0.01234567901234569,
          0.012195121951219521,
          0.012048192771084348,
          0.011904761904761915,
          0.011764705882352951,
          0.011627906976744198,
          0.011494252873563227,
          0.011363636363636371,
          0.011235955056179785,
          0.011111111111111118,
          0.010989010989010999,
          0.010869565217391314,
          0.010752688172043019,
          0.010638297872340434,
          0.010526315789473694,
          0.010416666666666676,
          0.010309278350515474,
          0.010204081632653073,
          0.010101010101010112,
          0.010000000000000012
         ],
         "yaxis": "y"
        }
       ],
       "layout": {
        "autosize": true,
        "legend": {
         "title": {
          "text": "parameter"
         },
         "tracegroupgap": 0
        },
        "margin": {
         "t": 60
        },
        "template": {
         "data": {
          "bar": [
           {
            "error_x": {
             "color": "#2a3f5f"
            },
            "error_y": {
             "color": "#2a3f5f"
            },
            "marker": {
             "line": {
              "color": "#E5ECF6",
              "width": 0.5
             },
             "pattern": {
              "fillmode": "overlay",
              "size": 10,
              "solidity": 0.2
             }
            },
            "type": "bar"
           }
          ],
          "barpolar": [
           {
            "marker": {
             "line": {
              "color": "#E5ECF6",
              "width": 0.5
             },
             "pattern": {
              "fillmode": "overlay",
              "size": 10,
              "solidity": 0.2
             }
            },
            "type": "barpolar"
           }
          ],
          "carpet": [
           {
            "aaxis": {
             "endlinecolor": "#2a3f5f",
             "gridcolor": "white",
             "linecolor": "white",
             "minorgridcolor": "white",
             "startlinecolor": "#2a3f5f"
            },
            "baxis": {
             "endlinecolor": "#2a3f5f",
             "gridcolor": "white",
             "linecolor": "white",
             "minorgridcolor": "white",
             "startlinecolor": "#2a3f5f"
            },
            "type": "carpet"
           }
          ],
          "choropleth": [
           {
            "colorbar": {
             "outlinewidth": 0,
             "ticks": ""
            },
            "type": "choropleth"
           }
          ],
          "contour": [
           {
            "colorbar": {
             "outlinewidth": 0,
             "ticks": ""
            },
            "colorscale": [
             [
              0,
              "#0d0887"
             ],
             [
              0.1111111111111111,
              "#46039f"
             ],
             [
              0.2222222222222222,
              "#7201a8"
             ],
             [
              0.3333333333333333,
              "#9c179e"
             ],
             [
              0.4444444444444444,
              "#bd3786"
             ],
             [
              0.5555555555555556,
              "#d8576b"
             ],
             [
              0.6666666666666666,
              "#ed7953"
             ],
             [
              0.7777777777777778,
              "#fb9f3a"
             ],
             [
              0.8888888888888888,
              "#fdca26"
             ],
             [
              1,
              "#f0f921"
             ]
            ],
            "type": "contour"
           }
          ],
          "contourcarpet": [
           {
            "colorbar": {
             "outlinewidth": 0,
             "ticks": ""
            },
            "type": "contourcarpet"
           }
          ],
          "heatmap": [
           {
            "colorbar": {
             "outlinewidth": 0,
             "ticks": ""
            },
            "colorscale": [
             [
              0,
              "#0d0887"
             ],
             [
              0.1111111111111111,
              "#46039f"
             ],
             [
              0.2222222222222222,
              "#7201a8"
             ],
             [
              0.3333333333333333,
              "#9c179e"
             ],
             [
              0.4444444444444444,
              "#bd3786"
             ],
             [
              0.5555555555555556,
              "#d8576b"
             ],
             [
              0.6666666666666666,
              "#ed7953"
             ],
             [
              0.7777777777777778,
              "#fb9f3a"
             ],
             [
              0.8888888888888888,
              "#fdca26"
             ],
             [
              1,
              "#f0f921"
             ]
            ],
            "type": "heatmap"
           }
          ],
          "heatmapgl": [
           {
            "colorbar": {
             "outlinewidth": 0,
             "ticks": ""
            },
            "colorscale": [
             [
              0,
              "#0d0887"
             ],
             [
              0.1111111111111111,
              "#46039f"
             ],
             [
              0.2222222222222222,
              "#7201a8"
             ],
             [
              0.3333333333333333,
              "#9c179e"
             ],
             [
              0.4444444444444444,
              "#bd3786"
             ],
             [
              0.5555555555555556,
              "#d8576b"
             ],
             [
              0.6666666666666666,
              "#ed7953"
             ],
             [
              0.7777777777777778,
              "#fb9f3a"
             ],
             [
              0.8888888888888888,
              "#fdca26"
             ],
             [
              1,
              "#f0f921"
             ]
            ],
            "type": "heatmapgl"
           }
          ],
          "histogram": [
           {
            "marker": {
             "pattern": {
              "fillmode": "overlay",
              "size": 10,
              "solidity": 0.2
             }
            },
            "type": "histogram"
           }
          ],
          "histogram2d": [
           {
            "colorbar": {
             "outlinewidth": 0,
             "ticks": ""
            },
            "colorscale": [
             [
              0,
              "#0d0887"
             ],
             [
              0.1111111111111111,
              "#46039f"
             ],
             [
              0.2222222222222222,
              "#7201a8"
             ],
             [
              0.3333333333333333,
              "#9c179e"
             ],
             [
              0.4444444444444444,
              "#bd3786"
             ],
             [
              0.5555555555555556,
              "#d8576b"
             ],
             [
              0.6666666666666666,
              "#ed7953"
             ],
             [
              0.7777777777777778,
              "#fb9f3a"
             ],
             [
              0.8888888888888888,
              "#fdca26"
             ],
             [
              1,
              "#f0f921"
             ]
            ],
            "type": "histogram2d"
           }
          ],
          "histogram2dcontour": [
           {
            "colorbar": {
             "outlinewidth": 0,
             "ticks": ""
            },
            "colorscale": [
             [
              0,
              "#0d0887"
             ],
             [
              0.1111111111111111,
              "#46039f"
             ],
             [
              0.2222222222222222,
              "#7201a8"
             ],
             [
              0.3333333333333333,
              "#9c179e"
             ],
             [
              0.4444444444444444,
              "#bd3786"
             ],
             [
              0.5555555555555556,
              "#d8576b"
             ],
             [
              0.6666666666666666,
              "#ed7953"
             ],
             [
              0.7777777777777778,
              "#fb9f3a"
             ],
             [
              0.8888888888888888,
              "#fdca26"
             ],
             [
              1,
              "#f0f921"
             ]
            ],
            "type": "histogram2dcontour"
           }
          ],
          "mesh3d": [
           {
            "colorbar": {
             "outlinewidth": 0,
             "ticks": ""
            },
            "type": "mesh3d"
           }
          ],
          "parcoords": [
           {
            "line": {
             "colorbar": {
              "outlinewidth": 0,
              "ticks": ""
             }
            },
            "type": "parcoords"
           }
          ],
          "pie": [
           {
            "automargin": true,
            "type": "pie"
           }
          ],
          "scatter": [
           {
            "fillpattern": {
             "fillmode": "overlay",
             "size": 10,
             "solidity": 0.2
            },
            "type": "scatter"
           }
          ],
          "scatter3d": [
           {
            "line": {
             "colorbar": {
              "outlinewidth": 0,
              "ticks": ""
             }
            },
            "marker": {
             "colorbar": {
              "outlinewidth": 0,
              "ticks": ""
             }
            },
            "type": "scatter3d"
           }
          ],
          "scattercarpet": [
           {
            "marker": {
             "colorbar": {
              "outlinewidth": 0,
              "ticks": ""
             }
            },
            "type": "scattercarpet"
           }
          ],
          "scattergeo": [
           {
            "marker": {
             "colorbar": {
              "outlinewidth": 0,
              "ticks": ""
             }
            },
            "type": "scattergeo"
           }
          ],
          "scattergl": [
           {
            "marker": {
             "colorbar": {
              "outlinewidth": 0,
              "ticks": ""
             }
            },
            "type": "scattergl"
           }
          ],
          "scattermapbox": [
           {
            "marker": {
             "colorbar": {
              "outlinewidth": 0,
              "ticks": ""
             }
            },
            "type": "scattermapbox"
           }
          ],
          "scatterpolar": [
           {
            "marker": {
             "colorbar": {
              "outlinewidth": 0,
              "ticks": ""
             }
            },
            "type": "scatterpolar"
           }
          ],
          "scatterpolargl": [
           {
            "marker": {
             "colorbar": {
              "outlinewidth": 0,
              "ticks": ""
             }
            },
            "type": "scatterpolargl"
           }
          ],
          "scatterternary": [
           {
            "marker": {
             "colorbar": {
              "outlinewidth": 0,
              "ticks": ""
             }
            },
            "type": "scatterternary"
           }
          ],
          "surface": [
           {
            "colorbar": {
             "outlinewidth": 0,
             "ticks": ""
            },
            "colorscale": [
             [
              0,
              "#0d0887"
             ],
             [
              0.1111111111111111,
              "#46039f"
             ],
             [
              0.2222222222222222,
              "#7201a8"
             ],
             [
              0.3333333333333333,
              "#9c179e"
             ],
             [
              0.4444444444444444,
              "#bd3786"
             ],
             [
              0.5555555555555556,
              "#d8576b"
             ],
             [
              0.6666666666666666,
              "#ed7953"
             ],
             [
              0.7777777777777778,
              "#fb9f3a"
             ],
             [
              0.8888888888888888,
              "#fdca26"
             ],
             [
              1,
              "#f0f921"
             ]
            ],
            "type": "surface"
           }
          ],
          "table": [
           {
            "cells": {
             "fill": {
              "color": "#EBF0F8"
             },
             "line": {
              "color": "white"
             }
            },
            "header": {
             "fill": {
              "color": "#C8D4E3"
             },
             "line": {
              "color": "white"
             }
            },
            "type": "table"
           }
          ]
         },
         "layout": {
          "annotationdefaults": {
           "arrowcolor": "#2a3f5f",
           "arrowhead": 0,
           "arrowwidth": 1
          },
          "autotypenumbers": "strict",
          "coloraxis": {
           "colorbar": {
            "outlinewidth": 0,
            "ticks": ""
           }
          },
          "colorscale": {
           "diverging": [
            [
             0,
             "#8e0152"
            ],
            [
             0.1,
             "#c51b7d"
            ],
            [
             0.2,
             "#de77ae"
            ],
            [
             0.3,
             "#f1b6da"
            ],
            [
             0.4,
             "#fde0ef"
            ],
            [
             0.5,
             "#f7f7f7"
            ],
            [
             0.6,
             "#e6f5d0"
            ],
            [
             0.7,
             "#b8e186"
            ],
            [
             0.8,
             "#7fbc41"
            ],
            [
             0.9,
             "#4d9221"
            ],
            [
             1,
             "#276419"
            ]
           ],
           "sequential": [
            [
             0,
             "#0d0887"
            ],
            [
             0.1111111111111111,
             "#46039f"
            ],
            [
             0.2222222222222222,
             "#7201a8"
            ],
            [
             0.3333333333333333,
             "#9c179e"
            ],
            [
             0.4444444444444444,
             "#bd3786"
            ],
            [
             0.5555555555555556,
             "#d8576b"
            ],
            [
             0.6666666666666666,
             "#ed7953"
            ],
            [
             0.7777777777777778,
             "#fb9f3a"
            ],
            [
             0.8888888888888888,
             "#fdca26"
            ],
            [
             1,
             "#f0f921"
            ]
           ],
           "sequentialminus": [
            [
             0,
             "#0d0887"
            ],
            [
             0.1111111111111111,
             "#46039f"
            ],
            [
             0.2222222222222222,
             "#7201a8"
            ],
            [
             0.3333333333333333,
             "#9c179e"
            ],
            [
             0.4444444444444444,
             "#bd3786"
            ],
            [
             0.5555555555555556,
             "#d8576b"
            ],
            [
             0.6666666666666666,
             "#ed7953"
            ],
            [
             0.7777777777777778,
             "#fb9f3a"
            ],
            [
             0.8888888888888888,
             "#fdca26"
            ],
            [
             1,
             "#f0f921"
            ]
           ]
          },
          "colorway": [
           "#636efa",
           "#EF553B",
           "#00cc96",
           "#ab63fa",
           "#FFA15A",
           "#19d3f3",
           "#FF6692",
           "#B6E880",
           "#FF97FF",
           "#FECB52"
          ],
          "font": {
           "color": "#2a3f5f"
          },
          "geo": {
           "bgcolor": "white",
           "lakecolor": "white",
           "landcolor": "#E5ECF6",
           "showlakes": true,
           "showland": true,
           "subunitcolor": "white"
          },
          "hoverlabel": {
           "align": "left"
          },
          "hovermode": "closest",
          "mapbox": {
           "style": "light"
          },
          "paper_bgcolor": "white",
          "plot_bgcolor": "#E5ECF6",
          "polar": {
           "angularaxis": {
            "gridcolor": "white",
            "linecolor": "white",
            "ticks": ""
           },
           "bgcolor": "#E5ECF6",
           "radialaxis": {
            "gridcolor": "white",
            "linecolor": "white",
            "ticks": ""
           }
          },
          "scene": {
           "xaxis": {
            "backgroundcolor": "#E5ECF6",
            "gridcolor": "white",
            "gridwidth": 2,
            "linecolor": "white",
            "showbackground": true,
            "ticks": "",
            "zerolinecolor": "white"
           },
           "yaxis": {
            "backgroundcolor": "#E5ECF6",
            "gridcolor": "white",
            "gridwidth": 2,
            "linecolor": "white",
            "showbackground": true,
            "ticks": "",
            "zerolinecolor": "white"
           },
           "zaxis": {
            "backgroundcolor": "#E5ECF6",
            "gridcolor": "white",
            "gridwidth": 2,
            "linecolor": "white",
            "showbackground": true,
            "ticks": "",
            "zerolinecolor": "white"
           }
          },
          "shapedefaults": {
           "line": {
            "color": "#2a3f5f"
           }
          },
          "ternary": {
           "aaxis": {
            "gridcolor": "white",
            "linecolor": "white",
            "ticks": ""
           },
           "baxis": {
            "gridcolor": "white",
            "linecolor": "white",
            "ticks": ""
           },
           "bgcolor": "#E5ECF6",
           "caxis": {
            "gridcolor": "white",
            "linecolor": "white",
            "ticks": ""
           }
          },
          "title": {
           "x": 0.05
          },
          "xaxis": {
           "automargin": true,
           "gridcolor": "white",
           "linecolor": "white",
           "ticks": "",
           "title": {
            "standoff": 15
           },
           "zerolinecolor": "white",
           "zerolinewidth": 2
          },
          "yaxis": {
           "automargin": true,
           "gridcolor": "white",
           "linecolor": "white",
           "ticks": "",
           "title": {
            "standoff": 15
           },
           "zerolinecolor": "white",
           "zerolinewidth": 2
          }
         }
        },
        "xaxis": {
         "anchor": "y",
         "autorange": true,
         "domain": [
          0,
          1
         ],
         "range": [
          0,
          99
         ],
         "title": {
          "text": "t"
         },
         "type": "linear"
        },
        "yaxis": {
         "anchor": "x",
         "autorange": true,
         "domain": [
          0,
          1
         ],
         "range": [
          -0.5449999999999999,
          10.555
         ],
         "title": {
          "text": "value"
         },
         "type": "linear"
        }
       }
      },
      "image/png": "[encoded data removed]",
      "text/html": [
       "<div>                            <div id=\"b47bbb4f-6a35-4006-aa1b-8dd44b7fa669\" class=\"plotly-graph-div\" style=\"height:525px; width:100%;\"></div>            <script type=\"text/javascript\">                require([\"plotly\"], function(Plotly) {                    window.PLOTLYENV=window.PLOTLYENV || {};                                    if (document.getElementById(\"b47bbb4f-6a35-4006-aa1b-8dd44b7fa669\")) {                    Plotly.newPlot(                        \"b47bbb4f-6a35-4006-aa1b-8dd44b7fa669\",                        [{\"hovertemplate\":\"parameter=P<br>t=%{x}<br>value=%{y}<extra></extra>\",\"legendgroup\":\"P\",\"line\":{\"color\":\"#636efa\",\"dash\":\"solid\"},\"marker\":{\"symbol\":\"circle\"},\"mode\":\"lines\",\"name\":\"P\",\"orientation\":\"v\",\"showlegend\":true,\"x\":[0.0,1.0,2.0,3.0,4.0,5.0,6.0,7.0,8.0,9.0,10.0,11.0,12.0,13.0,14.0,15.0,16.0,17.0,18.0,19.0,20.0,21.0,22.0,23.0,24.0,25.0,26.0,27.0,28.0,29.0,30.0,31.0,32.0,33.0,34.0,35.0,36.0,37.0,38.0,39.0,40.0,41.0,42.0,43.0,44.0,45.0,46.0,47.0,48.0,49.0,50.0,51.0,52.0,53.0,54.0,55.0,56.0,57.0,58.0,59.0,60.0,61.0,62.0,63.0,64.0,65.0,66.0,67.0,68.0,69.0,70.0,71.0,72.0,73.0,74.0,75.0,76.0,77.0,78.0,79.0,80.0,81.0,82.0,83.0,84.0,85.0,86.0,87.0,88.0,89.0,90.0,91.0,92.0,93.0,94.0,95.0,96.0,97.0,98.0,99.0],\"xaxis\":\"x\",\"y\":[10.0,5.0,3.333333333333334,2.500000000000001,2.0000000000000004,1.6666666666666667,1.4285714285714286,1.25,1.1111111111111112,1.0000000000000002,0.9090909090909093,0.8333333333333334,0.7692307692307694,0.7142857142857145,0.666666666666667,0.6250000000000002,0.5882352941176473,0.5555555555555558,0.5263157894736844,0.5000000000000001,0.4761904761904763,0.4545454545454547,0.4347826086956524,0.4166666666666668,0.40000000000000013,0.38461538461538475,0.37037037037037046,0.35714285714285726,0.34482758620689674,0.33333333333333354,0.32258064516129054,0.3125000000000002,0.3030303030303033,0.2941176470588238,0.28571428571428603,0.27777777777777807,0.2702702702702705,0.26315789473684237,0.25641025641025667,0.2500000000000002,0.24390243902439046,0.2380952380952383,0.2325581395348839,0.22727272727272746,0.2222222222222224,0.21739130434782628,0.2127659574468087,0.2083333333333335,0.2040816326530614,0.20000000000000015,0.19607843137254916,0.19230769230769246,0.18867924528301902,0.18518518518518534,0.181818181818182,0.17857142857142871,0.1754385964912282,0.1724137931034484,0.16949152542372894,0.1666666666666668,0.16393442622950832,0.1612903225806453,0.15873015873015883,0.1562500000000001,0.15384615384615394,0.1515151515151516,0.14925373134328365,0.14705882352941183,0.14492753623188412,0.14285714285714293,0.1408450704225353,0.13888888888888898,0.1369863013698631,0.13513513513513523,0.13333333333333341,0.13157894736842113,0.12987012987012994,0.12820512820512828,0.12658227848101275,0.1250000000000001,0.1234567901234569,0.12195121951219523,0.12048192771084347,0.11904761904761914,0.11764705882352952,0.11627906976744196,0.11494252873563227,0.11363636363636373,0.11235955056179783,0.1111111111111112,0.10989010989010999,0.10869565217391312,0.10752688172043019,0.10638297872340435,0.10526315789473693,0.10416666666666677,0.10309278350515474,0.10204081632653073,0.10101010101010112,0.1000000000000001],\"yaxis\":\"y\",\"type\":\"scatter\"},{\"hovertemplate\":\"parameter=K<br>t=%{x}<br>value=%{y}<extra></extra>\",\"legendgroup\":\"K\",\"line\":{\"color\":\"#EF553B\",\"dash\":\"solid\"},\"marker\":{\"symbol\":\"circle\"},\"mode\":\"lines\",\"name\":\"K\",\"orientation\":\"v\",\"showlegend\":true,\"x\":[0.0,1.0,2.0,3.0,4.0,5.0,6.0,7.0,8.0,9.0,10.0,11.0,12.0,13.0,14.0,15.0,16.0,17.0,18.0,19.0,20.0,21.0,22.0,23.0,24.0,25.0,26.0,27.0,28.0,29.0,30.0,31.0,32.0,33.0,34.0,35.0,36.0,37.0,38.0,39.0,40.0,41.0,42.0,43.0,44.0,45.0,46.0,47.0,48.0,49.0,50.0,51.0,52.0,53.0,54.0,55.0,56.0,57.0,58.0,59.0,60.0,61.0,62.0,63.0,64.0,65.0,66.0,67.0,68.0,69.0,70.0,71.0,72.0,73.0,74.0,75.0,76.0,77.0,78.0,79.0,80.0,81.0,82.0,83.0,84.0,85.0,86.0,87.0,88.0,89.0,90.0,91.0,92.0,93.0,94.0,95.0,96.0,97.0,98.0,99.0],\"xaxis\":\"x\",\"y\":[1.0,0.5,0.3333333333333333,0.25000000000000006,0.20000000000000007,0.1666666666666667,0.14285714285714288,0.125,0.1111111111111111,0.1,0.09090909090909093,0.08333333333333334,0.07692307692307693,0.07142857142857144,0.06666666666666668,0.06250000000000001,0.058823529411764726,0.05555555555555558,0.052631578947368446,0.05000000000000002,0.04761904761904763,0.04545454545454546,0.04347826086956523,0.041666666666666685,0.040000000000000015,0.03846153846153847,0.03703703703703705,0.035714285714285726,0.03448275862068966,0.033333333333333354,0.03225806451612905,0.03125000000000002,0.030303030303030325,0.02941176470588238,0.0285714285714286,0.027777777777777807,0.027027027027027053,0.026315789473684233,0.025641025641025664,0.025000000000000022,0.024390243902439046,0.02380952380952383,0.02325581395348839,0.022727272727272745,0.02222222222222224,0.021739130434782625,0.021276595744680868,0.020833333333333353,0.020408163265306138,0.020000000000000018,0.01960784313725492,0.019230769230769246,0.018867924528301903,0.01851851851851853,0.0181818181818182,0.017857142857142873,0.01754385964912282,0.01724137931034484,0.01694915254237289,0.01666666666666668,0.016393442622950834,0.01612903225806453,0.015873015873015886,0.01562500000000001,0.015384615384615396,0.01515151515151516,0.014925373134328365,0.014705882352941181,0.014492753623188413,0.01428571428571429,0.01408450704225353,0.013888888888888897,0.01369863013698631,0.013513513513513521,0.013333333333333343,0.013157894736842113,0.012987012987012995,0.012820512820512829,0.012658227848101274,0.012500000000000008,0.01234567901234569,0.012195121951219521,0.012048192771084348,0.011904761904761915,0.011764705882352951,0.011627906976744198,0.011494252873563227,0.011363636363636371,0.011235955056179785,0.011111111111111118,0.010989010989010999,0.010869565217391314,0.010752688172043019,0.010638297872340434,0.010526315789473694,0.010416666666666676,0.010309278350515474,0.010204081632653073,0.010101010101010112,0.010000000000000012],\"yaxis\":\"y\",\"type\":\"scatter\"}],                        {\"template\":{\"data\":{\"histogram2dcontour\":[{\"type\":\"histogram2dcontour\",\"colorbar\":{\"outlinewidth\":0,\"ticks\":\"\"},\"colorscale\":[[0.0,\"#0d0887\"],[0.1111111111111111,\"#46039f\"],[0.2222222222222222,\"#7201a8\"],[0.3333333333333333,\"#9c179e\"],[0.4444444444444444,\"#bd3786\"],[0.5555555555555556,\"#d8576b\"],[0.6666666666666666,\"#ed7953\"],[0.7777777777777778,\"#fb9f3a\"],[0.8888888888888888,\"#fdca26\"],[1.0,\"#f0f921\"]]}],\"choropleth\":[{\"type\":\"choropleth\",\"colorbar\":{\"outlinewidth\":0,\"ticks\":\"\"}}],\"histogram2d\":[{\"type\":\"histogram2d\",\"colorbar\":{\"outlinewidth\":0,\"ticks\":\"\"},\"colorscale\":[[0.0,\"#0d0887\"],[0.1111111111111111,\"#46039f\"],[0.2222222222222222,\"#7201a8\"],[0.3333333333333333,\"#9c179e\"],[0.4444444444444444,\"#bd3786\"],[0.5555555555555556,\"#d8576b\"],[0.6666666666666666,\"#ed7953\"],[0.7777777777777778,\"#fb9f3a\"],[0.8888888888888888,\"#fdca26\"],[1.0,\"#f0f921\"]]}],\"heatmap\":[{\"type\":\"heatmap\",\"colorbar\":{\"outlinewidth\":0,\"ticks\":\"\"},\"colorscale\":[[0.0,\"#0d0887\"],[0.1111111111111111,\"#46039f\"],[0.2222222222222222,\"#7201a8\"],[0.3333333333333333,\"#9c179e\"],[0.4444444444444444,\"#bd3786\"],[0.5555555555555556,\"#d8576b\"],[0.6666666666666666,\"#ed7953\"],[0.7777777777777778,\"#fb9f3a\"],[0.8888888888888888,\"#fdca26\"],[1.0,\"#f0f921\"]]}],\"heatmapgl\":[{\"type\":\"heatmapgl\",\"colorbar\":{\"outlinewidth\":0,\"ticks\":\"\"},\"colorscale\":[[0.0,\"#0d0887\"],[0.1111111111111111,\"#46039f\"],[0.2222222222222222,\"#7201a8\"],[0.3333333333333333,\"#9c179e\"],[0.4444444444444444,\"#bd3786\"],[0.5555555555555556,\"#d8576b\"],[0.6666666666666666,\"#ed7953\"],[0.7777777777777778,\"#fb9f3a\"],[0.8888888888888888,\"#fdca26\"],[1.0,\"#f0f921\"]]}],\"contourcarpet\":[{\"type\":\"contourcarpet\",\"colorbar\":{\"outlinewidth\":0,\"ticks\":\"\"}}],\"contour\":[{\"type\":\"contour\",\"colorbar\":{\"outlinewidth\":0,\"ticks\":\"\"},\"colorscale\":[[0.0,\"#0d0887\"],[0.1111111111111111,\"#46039f\"],[0.2222222222222222,\"#7201a8\"],[0.3333333333333333,\"#9c179e\"],[0.4444444444444444,\"#bd3786\"],[0.5555555555555556,\"#d8576b\"],[0.6666666666666666,\"#ed7953\"],[0.7777777777777778,\"#fb9f3a\"],[0.8888888888888888,\"#fdca26\"],[1.0,\"#f0f921\"]]}],\"surface\":[{\"type\":\"surface\",\"colorbar\":{\"outlinewidth\":0,\"ticks\":\"\"},\"colorscale\":[[0.0,\"#0d0887\"],[0.1111111111111111,\"#46039f\"],[0.2222222222222222,\"#7201a8\"],[0.3333333333333333,\"#9c179e\"],[0.4444444444444444,\"#bd3786\"],[0.5555555555555556,\"#d8576b\"],[0.6666666666666666,\"#ed7953\"],[0.7777777777777778,\"#fb9f3a\"],[0.8888888888888888,\"#fdca26\"],[1.0,\"#f0f921\"]]}],\"mesh3d\":[{\"type\":\"mesh3d\",\"colorbar\":{\"outlinewidth\":0,\"ticks\":\"\"}}],\"scatter\":[{\"fillpattern\":{\"fillmode\":\"overlay\",\"size\":10,\"solidity\":0.2},\"type\":\"scatter\"}],\"parcoords\":[{\"type\":\"parcoords\",\"line\":{\"colorbar\":{\"outlinewidth\":0,\"ticks\":\"\"}}}],\"scatterpolargl\":[{\"type\":\"scatterpolargl\",\"marker\":{\"colorbar\":{\"outlinewidth\":0,\"ticks\":\"\"}}}],\"bar\":[{\"error_x\":{\"color\":\"#2a3f5f\"},\"error_y\":{\"color\":\"#2a3f5f\"},\"marker\":{\"line\":{\"color\":\"#E5ECF6\",\"width\":0.5},\"pattern\":{\"fillmode\":\"overlay\",\"size\":10,\"solidity\":0.2}},\"type\":\"bar\"}],\"scattergeo\":[{\"type\":\"scattergeo\",\"marker\":{\"colorbar\":{\"outlinewidth\":0,\"ticks\":\"\"}}}],\"scatterpolar\":[{\"type\":\"scatterpolar\",\"marker\":{\"colorbar\":{\"outlinewidth\":0,\"ticks\":\"\"}}}],\"histogram\":[{\"marker\":{\"pattern\":{\"fillmode\":\"overlay\",\"size\":10,\"solidity\":0.2}},\"type\":\"histogram\"}],\"scattergl\":[{\"type\":\"scattergl\",\"marker\":{\"colorbar\":{\"outlinewidth\":0,\"ticks\":\"\"}}}],\"scatter3d\":[{\"type\":\"scatter3d\",\"line\":{\"colorbar\":{\"outlinewidth\":0,\"ticks\":\"\"}},\"marker\":{\"colorbar\":{\"outlinewidth\":0,\"ticks\":\"\"}}}],\"scattermapbox\":[{\"type\":\"scattermapbox\",\"marker\":{\"colorbar\":{\"outlinewidth\":0,\"ticks\":\"\"}}}],\"scatterternary\":[{\"type\":\"scatterternary\",\"marker\":{\"colorbar\":{\"outlinewidth\":0,\"ticks\":\"\"}}}],\"scattercarpet\":[{\"type\":\"scattercarpet\",\"marker\":{\"colorbar\":{\"outlinewidth\":0,\"ticks\":\"\"}}}],\"carpet\":[{\"aaxis\":{\"endlinecolor\":\"#2a3f5f\",\"gridcolor\":\"white\",\"linecolor\":\"white\",\"minorgridcolor\":\"white\",\"startlinecolor\":\"#2a3f5f\"},\"baxis\":{\"endlinecolor\":\"#2a3f5f\",\"gridcolor\":\"white\",\"linecolor\":\"white\",\"minorgridcolor\":\"white\",\"startlinecolor\":\"#2a3f5f\"},\"type\":\"carpet\"}],\"table\":[{\"cells\":{\"fill\":{\"color\":\"#EBF0F8\"},\"line\":{\"color\":\"white\"}},\"header\":{\"fill\":{\"color\":\"#C8D4E3\"},\"line\":{\"color\":\"white\"}},\"type\":\"table\"}],\"barpolar\":[{\"marker\":{\"line\":{\"color\":\"#E5ECF6\",\"width\":0.5},\"pattern\":{\"fillmode\":\"overlay\",\"size\":10,\"solidity\":0.2}},\"type\":\"barpolar\"}],\"pie\":[{\"automargin\":true,\"type\":\"pie\"}]},\"layout\":{\"autotypenumbers\":\"strict\",\"colorway\":[\"#636efa\",\"#EF553B\",\"#00cc96\",\"#ab63fa\",\"#FFA15A\",\"#19d3f3\",\"#FF6692\",\"#B6E880\",\"#FF97FF\",\"#FECB52\"],\"font\":{\"color\":\"#2a3f5f\"},\"hovermode\":\"closest\",\"hoverlabel\":{\"align\":\"left\"},\"paper_bgcolor\":\"white\",\"plot_bgcolor\":\"#E5ECF6\",\"polar\":{\"bgcolor\":\"#E5ECF6\",\"angularaxis\":{\"gridcolor\":\"white\",\"linecolor\":\"white\",\"ticks\":\"\"},\"radialaxis\":{\"gridcolor\":\"white\",\"linecolor\":\"white\",\"ticks\":\"\"}},\"ternary\":{\"bgcolor\":\"#E5ECF6\",\"aaxis\":{\"gridcolor\":\"white\",\"linecolor\":\"white\",\"ticks\":\"\"},\"baxis\":{\"gridcolor\":\"white\",\"linecolor\":\"white\",\"ticks\":\"\"},\"caxis\":{\"gridcolor\":\"white\",\"linecolor\":\"white\",\"ticks\":\"\"}},\"coloraxis\":{\"colorbar\":{\"outlinewidth\":0,\"ticks\":\"\"}},\"colorscale\":{\"sequential\":[[0.0,\"#0d0887\"],[0.1111111111111111,\"#46039f\"],[0.2222222222222222,\"#7201a8\"],[0.3333333333333333,\"#9c179e\"],[0.4444444444444444,\"#bd3786\"],[0.5555555555555556,\"#d8576b\"],[0.6666666666666666,\"#ed7953\"],[0.7777777777777778,\"#fb9f3a\"],[0.8888888888888888,\"#fdca26\"],[1.0,\"#f0f921\"]],\"sequentialminus\":[[0.0,\"#0d0887\"],[0.1111111111111111,\"#46039f\"],[0.2222222222222222,\"#7201a8\"],[0.3333333333333333,\"#9c179e\"],[0.4444444444444444,\"#bd3786\"],[0.5555555555555556,\"#d8576b\"],[0.6666666666666666,\"#ed7953\"],[0.7777777777777778,\"#fb9f3a\"],[0.8888888888888888,\"#fdca26\"],[1.0,\"#f0f921\"]],\"diverging\":[[0,\"#8e0152\"],[0.1,\"#c51b7d\"],[0.2,\"#de77ae\"],[0.3,\"#f1b6da\"],[0.4,\"#fde0ef\"],[0.5,\"#f7f7f7\"],[0.6,\"#e6f5d0\"],[0.7,\"#b8e186\"],[0.8,\"#7fbc41\"],[0.9,\"#4d9221\"],[1,\"#276419\"]]},\"xaxis\":{\"gridcolor\":\"white\",\"linecolor\":\"white\",\"ticks\":\"\",\"title\":{\"standoff\":15},\"zerolinecolor\":\"white\",\"automargin\":true,\"zerolinewidth\":2},\"yaxis\":{\"gridcolor\":\"white\",\"linecolor\":\"white\",\"ticks\":\"\",\"title\":{\"standoff\":15},\"zerolinecolor\":\"white\",\"automargin\":true,\"zerolinewidth\":2},\"scene\":{\"xaxis\":{\"backgroundcolor\":\"#E5ECF6\",\"gridcolor\":\"white\",\"linecolor\":\"white\",\"showbackground\":true,\"ticks\":\"\",\"zerolinecolor\":\"white\",\"gridwidth\":2},\"yaxis\":{\"backgroundcolor\":\"#E5ECF6\",\"gridcolor\":\"white\",\"linecolor\":\"white\",\"showbackground\":true,\"ticks\":\"\",\"zerolinecolor\":\"white\",\"gridwidth\":2},\"zaxis\":{\"backgroundcolor\":\"#E5ECF6\",\"gridcolor\":\"white\",\"linecolor\":\"white\",\"showbackground\":true,\"ticks\":\"\",\"zerolinecolor\":\"white\",\"gridwidth\":2}},\"shapedefaults\":{\"line\":{\"color\":\"#2a3f5f\"}},\"annotationdefaults\":{\"arrowcolor\":\"#2a3f5f\",\"arrowhead\":0,\"arrowwidth\":1},\"geo\":{\"bgcolor\":\"white\",\"landcolor\":\"#E5ECF6\",\"subunitcolor\":\"white\",\"showland\":true,\"showlakes\":true,\"lakecolor\":\"white\"},\"title\":{\"x\":0.05},\"mapbox\":{\"style\":\"light\"}}},\"xaxis\":{\"anchor\":\"y\",\"domain\":[0.0,1.0],\"title\":{\"text\":\"t\"}},\"yaxis\":{\"anchor\":\"x\",\"domain\":[0.0,1.0],\"title\":{\"text\":\"value\"}},\"legend\":{\"title\":{\"text\":\"parameter\"},\"tracegroupgap\":0},\"margin\":{\"t\":60}},                        {\"responsive\": true}                    ).then(function(){\n",
       "                            \n",
       "var gd = document.getElementById('b47bbb4f-6a35-4006-aa1b-8dd44b7fa669');\n",
       "var x = new MutationObserver(function (mutations, observer) {{\n",
       "        var display = window.getComputedStyle(gd).display;\n",
       "        if (!display || display === 'none') {{\n",
       "            console.log([gd, 'removed!']);\n",
       "            Plotly.purge(gd);\n",
       "            observer.disconnect();\n",
       "        }}\n",
       "}});\n",
       "\n",
       "// Listen for the removal of the full notebook cells\n",
       "var notebookContainer = gd.closest('#notebook-container');\n",
       "if (notebookContainer) {{\n",
       "    x.observe(notebookContainer, {childList: true});\n",
       "}}\n",
       "\n",
       "// Listen for the clearing of the current output cell\n",
       "var outputEl = gd.closest('.output');\n",
       "if (outputEl) {{\n",
       "    x.observe(outputEl, {childList: true});\n",
       "}}\n",
       "\n",
       "                        })                };                });            </script>        </div>"
      ]
     },
     "metadata": {},
     "output_type": "display_data"
    }
   ],
   "source": [
    "ex.line(simulate_variance_df(10, 10, 0).melt(id_vars=['t'], var_name='parameter'), x='t', y='value', color='parameter')"
   ]
  },
  {
   "cell_type": "markdown",
   "id": "67a6c2c0-74a2-48a0-9736-38c4fc6b5b46",
   "metadata": {},
   "source": [
    "This is equivalent to the variance an average of N normal random variables with variance $P$. Given the [Central Limit Theorem](https://en.wikipedia.org/wiki/Central_limit_theorem):\n",
    "\n",
    "$$\n",
    "Var\\left(\\frac{1}{N}\\sum_i^N N(0, \\sigma^2)\\right) = \\frac{\\sigma^2}{N}\n",
    "$$"
   ]
  },
  {
   "cell_type": "code",
   "execution_count": 58,
   "id": "324dfbe3-f819-4e7c-8a6d-37582682d586",
   "metadata": {},
   "outputs": [
    {
     "data": {
      "text/plain": [
       "8.881784197001252e-16"
      ]
     },
     "execution_count": 58,
     "metadata": {},
     "output_type": "execute_result"
    }
   ],
   "source": [
    "np.max(simulate_variance(10, 10, 0)[:,1] - 10/np.arange(1, 101))"
   ]
  },
  {
   "cell_type": "markdown",
   "id": "311e2eb2-ada4-4652-9bde-38f07065f781",
   "metadata": {},
   "source": [
    "## With process noise\n",
    "\n",
    "If we introduce process noise, variance converges to a value lower than measurement noise but higher than process noise."
   ]
  },
  {
   "cell_type": "code",
   "execution_count": 20,
   "id": "11a8d417-1950-4a81-bfcc-f8de35490648",
   "metadata": {},
   "outputs": [
    {
     "data": {
      "application/vnd.plotly.v1+json": {
       "config": {
        "plotlyServerURL": "https://plot.ly"
       },
       "data": [
        {
         "hovertemplate": "variable=P_2<br>time=%{x}<br>value=%{y}<extra></extra>",
         "legendgroup": "P_2",
         "line": {
          "color": "#636efa",
          "dash": "solid"
         },
         "marker": {
          "symbol": "circle"
         },
         "mode": "lines",
         "name": "P_2",
         "orientation": "v",
         "showlegend": true,
         "type": "scatter",
         "x": [
          0,
          1,
          2,
          3,
          4,
          5,
          6,
          7,
          8,
          9,
          10,
          11,
          12,
          13,
          14,
          15,
          16,
          17,
          18,
          19,
          20,
          21,
          22,
          23,
          24,
          25,
          26,
          27,
          28,
          29,
          30,
          31,
          32,
          33,
          34,
          35,
          36,
          37,
          38,
          39,
          40,
          41,
          42,
          43,
          44,
          45,
          46,
          47,
          48,
          49,
          50,
          51,
          52,
          53,
          54,
          55,
          56,
          57,
          58,
          59,
          60,
          61,
          62,
          63,
          64,
          65,
          66,
          67,
          68,
          69,
          70,
          71,
          72,
          73,
          74,
          75,
          76,
          77,
          78,
          79,
          80,
          81,
          82,
          83,
          84,
          85,
          86,
          87,
          88,
          89,
          90,
          91,
          92,
          93,
          94,
          95,
          96,
          97,
          98,
          99,
          100
         ],
         "xaxis": "x",
         "y": [
          10,
          7,
          6.117647058823529,
          5.795620437956204,
          5.66913123844732,
          5.618025244779993,
          5.597141864434944,
          5.588568926976108,
          5.585042958821613,
          5.5835916356331285,
          5.582994065928807,
          5.582747989448098,
          5.5826466507887265,
          5.582604916800932,
          5.582587729463545,
          5.582580651163601,
          5.582577736086821,
          5.582576535561534,
          5.582576041145278,
          5.582575837528191,
          5.582575753671888,
          5.582575719137067,
          5.5825757049144755,
          5.582575699057139,
          5.582575696644891,
          5.582575695651448,
          5.582575695242316,
          5.582575695073821,
          5.5825756950044285,
          5.5825756949758505,
          5.582575694964081,
          5.5825756949592344,
          5.582575694957239,
          5.582575694956416,
          5.582575694956077,
          5.5825756949559375,
          5.58257569495588,
          5.582575694955856,
          5.582575694955847,
          5.5825756949558425,
          5.582575694955841,
          5.58257569495584,
          5.58257569495584,
          5.58257569495584,
          5.58257569495584,
          5.58257569495584,
          5.58257569495584,
          5.58257569495584,
          5.58257569495584,
          5.58257569495584,
          5.58257569495584,
          5.58257569495584,
          5.58257569495584,
          5.58257569495584,
          5.58257569495584,
          5.58257569495584,
          5.58257569495584,
          5.58257569495584,
          5.58257569495584,
          5.58257569495584,
          5.58257569495584,
          5.58257569495584,
          5.58257569495584,
          5.58257569495584,
          5.58257569495584,
          5.58257569495584,
          5.58257569495584,
          5.58257569495584,
          5.58257569495584,
          5.58257569495584,
          5.58257569495584,
          5.58257569495584,
          5.58257569495584,
          5.58257569495584,
          5.58257569495584,
          5.58257569495584,
          5.58257569495584,
          5.58257569495584,
          5.58257569495584,
          5.58257569495584,
          5.58257569495584,
          5.58257569495584,
          5.58257569495584,
          5.58257569495584,
          5.58257569495584,
          5.58257569495584,
          5.58257569495584,
          5.58257569495584,
          5.58257569495584,
          5.58257569495584,
          5.58257569495584,
          5.58257569495584,
          5.58257569495584,
          5.58257569495584,
          5.58257569495584,
          5.58257569495584,
          5.58257569495584,
          5.58257569495584,
          5.58257569495584,
          5.58257569495584,
          5.58257569495584
         ],
         "yaxis": "y"
        },
        {
         "hovertemplate": "variable=P_3<br>time=%{x}<br>value=%{y}<extra></extra>",
         "legendgroup": "P_3",
         "line": {
          "color": "#EF553B",
          "dash": "solid"
         },
         "marker": {
          "symbol": "circle"
         },
         "mode": "lines",
         "name": "P_3",
         "orientation": "v",
         "showlegend": true,
         "type": "scatter",
         "x": [
          0,
          1,
          2,
          3,
          4,
          5,
          6,
          7,
          8,
          9,
          10,
          11,
          12,
          13,
          14,
          15,
          16,
          17,
          18,
          19,
          20,
          21,
          22,
          23,
          24,
          25,
          26,
          27,
          28,
          29,
          30,
          31,
          32,
          33,
          34,
          35,
          36,
          37,
          38,
          39,
          40,
          41,
          42,
          43,
          44,
          45,
          46,
          47,
          48,
          49,
          50,
          51,
          52,
          53,
          54,
          55,
          56,
          57,
          58,
          59,
          60,
          61,
          62,
          63,
          64,
          65,
          66,
          67,
          68,
          69,
          70,
          71,
          72,
          73,
          74,
          75,
          76,
          77,
          78,
          79,
          80,
          81,
          82,
          83,
          84,
          85,
          86,
          87,
          88,
          89,
          90,
          91,
          92,
          93,
          94,
          95,
          96,
          97,
          98,
          99,
          100
         ],
         "xaxis": "x",
         "y": [
          10,
          8,
          7.444444444444445,
          7.2675159235668785,
          7.208779048321652,
          7.1890124965168365,
          7.182330135587259,
          7.1800675920616515,
          7.179301131143004,
          7.179041438494965,
          7.178953444054275,
          7.178923627352252,
          7.178913523966067,
          7.178910100426819,
          7.178908940357314,
          7.178908547266563,
          7.178908414067342,
          7.178908368932643,
          7.178908353638702,
          7.178908348456333,
          7.178908346700282,
          7.178908346105242,
          7.178908345903613,
          7.17890834583529,
          7.178908345812139,
          7.178908345804294,
          7.178908345801637,
          7.178908345800735,
          7.17890834580043,
          7.178908345800326,
          7.178908345800291,
          7.17890834580028,
          7.178908345800275,
          7.1789083458002745,
          7.178908345800274,
          7.178908345800274,
          7.178908345800274,
          7.178908345800274,
          7.178908345800274,
          7.178908345800274,
          7.178908345800274,
          7.178908345800274,
          7.178908345800274,
          7.178908345800274,
          7.178908345800274,
          7.178908345800274,
          7.178908345800274,
          7.178908345800274,
          7.178908345800274,
          7.178908345800274,
          7.178908345800274,
          7.178908345800274,
          7.178908345800274,
          7.178908345800274,
          7.178908345800274,
          7.178908345800274,
          7.178908345800274,
          7.178908345800274,
          7.178908345800274,
          7.178908345800274,
          7.178908345800274,
          7.178908345800274,
          7.178908345800274,
          7.178908345800274,
          7.178908345800274,
          7.178908345800274,
          7.178908345800274,
          7.178908345800274,
          7.178908345800274,
          7.178908345800274,
          7.178908345800274,
          7.178908345800274,
          7.178908345800274,
          7.178908345800274,
          7.178908345800274,
          7.178908345800274,
          7.178908345800274,
          7.178908345800274,
          7.178908345800274,
          7.178908345800274,
          7.178908345800274,
          7.178908345800274,
          7.178908345800274,
          7.178908345800274,
          7.178908345800274,
          7.178908345800274,
          7.178908345800274,
          7.178908345800274,
          7.178908345800274,
          7.178908345800274,
          7.178908345800274,
          7.178908345800274,
          7.178908345800274,
          7.178908345800274,
          7.178908345800274,
          7.178908345800274,
          7.178908345800274,
          7.178908345800274,
          7.178908345800274,
          7.178908345800274,
          7.178908345800274
         ],
         "yaxis": "y"
        },
        {
         "hovertemplate": "variable=P_4<br>time=%{x}<br>value=%{y}<extra></extra>",
         "legendgroup": "P_4",
         "line": {
          "color": "#00cc96",
          "dash": "solid"
         },
         "marker": {
          "symbol": "circle"
         },
         "mode": "lines",
         "name": "P_4",
         "orientation": "v",
         "showlegend": true,
         "type": "scatter",
         "x": [
          0,
          1,
          2,
          3,
          4,
          5,
          6,
          7,
          8,
          9,
          10,
          11,
          12,
          13,
          14,
          15,
          16,
          17,
          18,
          19,
          20,
          21,
          22,
          23,
          24,
          25,
          26,
          27,
          28,
          29,
          30,
          31,
          32,
          33,
          34,
          35,
          36,
          37,
          38,
          39,
          40,
          41,
          42,
          43,
          44,
          45,
          46,
          47,
          48,
          49,
          50,
          51,
          52,
          53,
          54,
          55,
          56,
          57,
          58,
          59,
          60,
          61,
          62,
          63,
          64,
          65,
          66,
          67,
          68,
          69,
          70,
          71,
          72,
          73,
          74,
          75,
          76,
          77,
          78,
          79,
          80,
          81,
          82,
          83,
          84,
          85,
          86,
          87,
          88,
          89,
          90,
          91,
          92,
          93,
          94,
          95,
          96,
          97,
          98,
          99,
          100
         ],
         "xaxis": "x",
         "y": [
          10,
          9,
          8.736842105263158,
          8.662921348314608,
          8.641782059000601,
          8.635705981139388,
          8.633956980153751,
          8.633453318234778,
          8.633308260571347,
          8.633266481636914,
          8.633254448512824,
          8.633250982735262,
          8.633249984521996,
          8.633249697016538,
          8.633249614209191,
          8.63324959035901,
          8.633249583489679,
          8.633249581511173,
          8.633249580941323,
          8.633249580777195,
          8.633249580729924,
          8.633249580716308,
          8.633249580712386,
          8.633249580711256,
          8.633249580710931,
          8.633249580710839,
          8.63324958071081,
          8.633249580710803,
          8.6332495807108,
          8.6332495807108,
          8.6332495807108,
          8.6332495807108,
          8.6332495807108,
          8.6332495807108,
          8.6332495807108,
          8.6332495807108,
          8.6332495807108,
          8.6332495807108,
          8.6332495807108,
          8.6332495807108,
          8.6332495807108,
          8.6332495807108,
          8.6332495807108,
          8.6332495807108,
          8.6332495807108,
          8.6332495807108,
          8.6332495807108,
          8.6332495807108,
          8.6332495807108,
          8.6332495807108,
          8.6332495807108,
          8.6332495807108,
          8.6332495807108,
          8.6332495807108,
          8.6332495807108,
          8.6332495807108,
          8.6332495807108,
          8.6332495807108,
          8.6332495807108,
          8.6332495807108,
          8.6332495807108,
          8.6332495807108,
          8.6332495807108,
          8.6332495807108,
          8.6332495807108,
          8.6332495807108,
          8.6332495807108,
          8.6332495807108,
          8.6332495807108,
          8.6332495807108,
          8.6332495807108,
          8.6332495807108,
          8.6332495807108,
          8.6332495807108,
          8.6332495807108,
          8.6332495807108,
          8.6332495807108,
          8.6332495807108,
          8.6332495807108,
          8.6332495807108,
          8.6332495807108,
          8.6332495807108,
          8.6332495807108,
          8.6332495807108,
          8.6332495807108,
          8.6332495807108,
          8.6332495807108,
          8.6332495807108,
          8.6332495807108,
          8.6332495807108,
          8.6332495807108,
          8.6332495807108,
          8.6332495807108,
          8.6332495807108,
          8.6332495807108,
          8.6332495807108,
          8.6332495807108,
          8.6332495807108,
          8.6332495807108,
          8.6332495807108,
          8.6332495807108
         ],
         "yaxis": "y"
        },
        {
         "hovertemplate": "variable=P_5<br>time=%{x}<br>value=%{y}<extra></extra>",
         "legendgroup": "P_5",
         "line": {
          "color": "#ab63fa",
          "dash": "solid"
         },
         "marker": {
          "symbol": "circle"
         },
         "mode": "lines",
         "name": "P_5",
         "orientation": "v",
         "showlegend": true,
         "type": "scatter",
         "x": [
          0,
          1,
          2,
          3,
          4,
          5,
          6,
          7,
          8,
          9,
          10,
          11,
          12,
          13,
          14,
          15,
          16,
          17,
          18,
          19,
          20,
          21,
          22,
          23,
          24,
          25,
          26,
          27,
          28,
          29,
          30,
          31,
          32,
          33,
          34,
          35,
          36,
          37,
          38,
          39,
          40,
          41,
          42,
          43,
          44,
          45,
          46,
          47,
          48,
          49,
          50,
          51,
          52,
          53,
          54,
          55,
          56,
          57,
          58,
          59,
          60,
          61,
          62,
          63,
          64,
          65,
          66,
          67,
          68,
          69,
          70,
          71,
          72,
          73,
          74,
          75,
          76,
          77,
          78,
          79,
          80,
          81,
          82,
          83,
          84,
          85,
          86,
          87,
          88,
          89,
          90,
          91,
          92,
          93,
          94,
          95,
          96,
          97,
          98,
          99,
          100
         ],
         "xaxis": "x",
         "y": [
          10,
          10,
          10,
          10,
          10,
          10,
          10,
          10,
          10,
          10,
          10,
          10,
          10,
          10,
          10,
          10,
          10,
          10,
          10,
          10,
          10,
          10,
          10,
          10,
          10,
          10,
          10,
          10,
          10,
          10,
          10,
          10,
          10,
          10,
          10,
          10,
          10,
          10,
          10,
          10,
          10,
          10,
          10,
          10,
          10,
          10,
          10,
          10,
          10,
          10,
          10,
          10,
          10,
          10,
          10,
          10,
          10,
          10,
          10,
          10,
          10,
          10,
          10,
          10,
          10,
          10,
          10,
          10,
          10,
          10,
          10,
          10,
          10,
          10,
          10,
          10,
          10,
          10,
          10,
          10,
          10,
          10,
          10,
          10,
          10,
          10,
          10,
          10,
          10,
          10,
          10,
          10,
          10,
          10,
          10,
          10,
          10,
          10,
          10,
          10,
          10
         ],
         "yaxis": "y"
        }
       ],
       "layout": {
        "autosize": true,
        "legend": {
         "title": {
          "text": "variable"
         },
         "tracegroupgap": 0
        },
        "margin": {
         "t": 60
        },
        "template": {
         "data": {
          "bar": [
           {
            "error_x": {
             "color": "#2a3f5f"
            },
            "error_y": {
             "color": "#2a3f5f"
            },
            "marker": {
             "line": {
              "color": "#E5ECF6",
              "width": 0.5
             },
             "pattern": {
              "fillmode": "overlay",
              "size": 10,
              "solidity": 0.2
             }
            },
            "type": "bar"
           }
          ],
          "barpolar": [
           {
            "marker": {
             "line": {
              "color": "#E5ECF6",
              "width": 0.5
             },
             "pattern": {
              "fillmode": "overlay",
              "size": 10,
              "solidity": 0.2
             }
            },
            "type": "barpolar"
           }
          ],
          "carpet": [
           {
            "aaxis": {
             "endlinecolor": "#2a3f5f",
             "gridcolor": "white",
             "linecolor": "white",
             "minorgridcolor": "white",
             "startlinecolor": "#2a3f5f"
            },
            "baxis": {
             "endlinecolor": "#2a3f5f",
             "gridcolor": "white",
             "linecolor": "white",
             "minorgridcolor": "white",
             "startlinecolor": "#2a3f5f"
            },
            "type": "carpet"
           }
          ],
          "choropleth": [
           {
            "colorbar": {
             "outlinewidth": 0,
             "ticks": ""
            },
            "type": "choropleth"
           }
          ],
          "contour": [
           {
            "colorbar": {
             "outlinewidth": 0,
             "ticks": ""
            },
            "colorscale": [
             [
              0,
              "#0d0887"
             ],
             [
              0.1111111111111111,
              "#46039f"
             ],
             [
              0.2222222222222222,
              "#7201a8"
             ],
             [
              0.3333333333333333,
              "#9c179e"
             ],
             [
              0.4444444444444444,
              "#bd3786"
             ],
             [
              0.5555555555555556,
              "#d8576b"
             ],
             [
              0.6666666666666666,
              "#ed7953"
             ],
             [
              0.7777777777777778,
              "#fb9f3a"
             ],
             [
              0.8888888888888888,
              "#fdca26"
             ],
             [
              1,
              "#f0f921"
             ]
            ],
            "type": "contour"
           }
          ],
          "contourcarpet": [
           {
            "colorbar": {
             "outlinewidth": 0,
             "ticks": ""
            },
            "type": "contourcarpet"
           }
          ],
          "heatmap": [
           {
            "colorbar": {
             "outlinewidth": 0,
             "ticks": ""
            },
            "colorscale": [
             [
              0,
              "#0d0887"
             ],
             [
              0.1111111111111111,
              "#46039f"
             ],
             [
              0.2222222222222222,
              "#7201a8"
             ],
             [
              0.3333333333333333,
              "#9c179e"
             ],
             [
              0.4444444444444444,
              "#bd3786"
             ],
             [
              0.5555555555555556,
              "#d8576b"
             ],
             [
              0.6666666666666666,
              "#ed7953"
             ],
             [
              0.7777777777777778,
              "#fb9f3a"
             ],
             [
              0.8888888888888888,
              "#fdca26"
             ],
             [
              1,
              "#f0f921"
             ]
            ],
            "type": "heatmap"
           }
          ],
          "heatmapgl": [
           {
            "colorbar": {
             "outlinewidth": 0,
             "ticks": ""
            },
            "colorscale": [
             [
              0,
              "#0d0887"
             ],
             [
              0.1111111111111111,
              "#46039f"
             ],
             [
              0.2222222222222222,
              "#7201a8"
             ],
             [
              0.3333333333333333,
              "#9c179e"
             ],
             [
              0.4444444444444444,
              "#bd3786"
             ],
             [
              0.5555555555555556,
              "#d8576b"
             ],
             [
              0.6666666666666666,
              "#ed7953"
             ],
             [
              0.7777777777777778,
              "#fb9f3a"
             ],
             [
              0.8888888888888888,
              "#fdca26"
             ],
             [
              1,
              "#f0f921"
             ]
            ],
            "type": "heatmapgl"
           }
          ],
          "histogram": [
           {
            "marker": {
             "pattern": {
              "fillmode": "overlay",
              "size": 10,
              "solidity": 0.2
             }
            },
            "type": "histogram"
           }
          ],
          "histogram2d": [
           {
            "colorbar": {
             "outlinewidth": 0,
             "ticks": ""
            },
            "colorscale": [
             [
              0,
              "#0d0887"
             ],
             [
              0.1111111111111111,
              "#46039f"
             ],
             [
              0.2222222222222222,
              "#7201a8"
             ],
             [
              0.3333333333333333,
              "#9c179e"
             ],
             [
              0.4444444444444444,
              "#bd3786"
             ],
             [
              0.5555555555555556,
              "#d8576b"
             ],
             [
              0.6666666666666666,
              "#ed7953"
             ],
             [
              0.7777777777777778,
              "#fb9f3a"
             ],
             [
              0.8888888888888888,
              "#fdca26"
             ],
             [
              1,
              "#f0f921"
             ]
            ],
            "type": "histogram2d"
           }
          ],
          "histogram2dcontour": [
           {
            "colorbar": {
             "outlinewidth": 0,
             "ticks": ""
            },
            "colorscale": [
             [
              0,
              "#0d0887"
             ],
             [
              0.1111111111111111,
              "#46039f"
             ],
             [
              0.2222222222222222,
              "#7201a8"
             ],
             [
              0.3333333333333333,
              "#9c179e"
             ],
             [
              0.4444444444444444,
              "#bd3786"
             ],
             [
              0.5555555555555556,
              "#d8576b"
             ],
             [
              0.6666666666666666,
              "#ed7953"
             ],
             [
              0.7777777777777778,
              "#fb9f3a"
             ],
             [
              0.8888888888888888,
              "#fdca26"
             ],
             [
              1,
              "#f0f921"
             ]
            ],
            "type": "histogram2dcontour"
           }
          ],
          "mesh3d": [
           {
            "colorbar": {
             "outlinewidth": 0,
             "ticks": ""
            },
            "type": "mesh3d"
           }
          ],
          "parcoords": [
           {
            "line": {
             "colorbar": {
              "outlinewidth": 0,
              "ticks": ""
             }
            },
            "type": "parcoords"
           }
          ],
          "pie": [
           {
            "automargin": true,
            "type": "pie"
           }
          ],
          "scatter": [
           {
            "fillpattern": {
             "fillmode": "overlay",
             "size": 10,
             "solidity": 0.2
            },
            "type": "scatter"
           }
          ],
          "scatter3d": [
           {
            "line": {
             "colorbar": {
              "outlinewidth": 0,
              "ticks": ""
             }
            },
            "marker": {
             "colorbar": {
              "outlinewidth": 0,
              "ticks": ""
             }
            },
            "type": "scatter3d"
           }
          ],
          "scattercarpet": [
           {
            "marker": {
             "colorbar": {
              "outlinewidth": 0,
              "ticks": ""
             }
            },
            "type": "scattercarpet"
           }
          ],
          "scattergeo": [
           {
            "marker": {
             "colorbar": {
              "outlinewidth": 0,
              "ticks": ""
             }
            },
            "type": "scattergeo"
           }
          ],
          "scattergl": [
           {
            "marker": {
             "colorbar": {
              "outlinewidth": 0,
              "ticks": ""
             }
            },
            "type": "scattergl"
           }
          ],
          "scattermapbox": [
           {
            "marker": {
             "colorbar": {
              "outlinewidth": 0,
              "ticks": ""
             }
            },
            "type": "scattermapbox"
           }
          ],
          "scatterpolar": [
           {
            "marker": {
             "colorbar": {
              "outlinewidth": 0,
              "ticks": ""
             }
            },
            "type": "scatterpolar"
           }
          ],
          "scatterpolargl": [
           {
            "marker": {
             "colorbar": {
              "outlinewidth": 0,
              "ticks": ""
             }
            },
            "type": "scatterpolargl"
           }
          ],
          "scatterternary": [
           {
            "marker": {
             "colorbar": {
              "outlinewidth": 0,
              "ticks": ""
             }
            },
            "type": "scatterternary"
           }
          ],
          "surface": [
           {
            "colorbar": {
             "outlinewidth": 0,
             "ticks": ""
            },
            "colorscale": [
             [
              0,
              "#0d0887"
             ],
             [
              0.1111111111111111,
              "#46039f"
             ],
             [
              0.2222222222222222,
              "#7201a8"
             ],
             [
              0.3333333333333333,
              "#9c179e"
             ],
             [
              0.4444444444444444,
              "#bd3786"
             ],
             [
              0.5555555555555556,
              "#d8576b"
             ],
             [
              0.6666666666666666,
              "#ed7953"
             ],
             [
              0.7777777777777778,
              "#fb9f3a"
             ],
             [
              0.8888888888888888,
              "#fdca26"
             ],
             [
              1,
              "#f0f921"
             ]
            ],
            "type": "surface"
           }
          ],
          "table": [
           {
            "cells": {
             "fill": {
              "color": "#EBF0F8"
             },
             "line": {
              "color": "white"
             }
            },
            "header": {
             "fill": {
              "color": "#C8D4E3"
             },
             "line": {
              "color": "white"
             }
            },
            "type": "table"
           }
          ]
         },
         "layout": {
          "annotationdefaults": {
           "arrowcolor": "#2a3f5f",
           "arrowhead": 0,
           "arrowwidth": 1
          },
          "autotypenumbers": "strict",
          "coloraxis": {
           "colorbar": {
            "outlinewidth": 0,
            "ticks": ""
           }
          },
          "colorscale": {
           "diverging": [
            [
             0,
             "#8e0152"
            ],
            [
             0.1,
             "#c51b7d"
            ],
            [
             0.2,
             "#de77ae"
            ],
            [
             0.3,
             "#f1b6da"
            ],
            [
             0.4,
             "#fde0ef"
            ],
            [
             0.5,
             "#f7f7f7"
            ],
            [
             0.6,
             "#e6f5d0"
            ],
            [
             0.7,
             "#b8e186"
            ],
            [
             0.8,
             "#7fbc41"
            ],
            [
             0.9,
             "#4d9221"
            ],
            [
             1,
             "#276419"
            ]
           ],
           "sequential": [
            [
             0,
             "#0d0887"
            ],
            [
             0.1111111111111111,
             "#46039f"
            ],
            [
             0.2222222222222222,
             "#7201a8"
            ],
            [
             0.3333333333333333,
             "#9c179e"
            ],
            [
             0.4444444444444444,
             "#bd3786"
            ],
            [
             0.5555555555555556,
             "#d8576b"
            ],
            [
             0.6666666666666666,
             "#ed7953"
            ],
            [
             0.7777777777777778,
             "#fb9f3a"
            ],
            [
             0.8888888888888888,
             "#fdca26"
            ],
            [
             1,
             "#f0f921"
            ]
           ],
           "sequentialminus": [
            [
             0,
             "#0d0887"
            ],
            [
             0.1111111111111111,
             "#46039f"
            ],
            [
             0.2222222222222222,
             "#7201a8"
            ],
            [
             0.3333333333333333,
             "#9c179e"
            ],
            [
             0.4444444444444444,
             "#bd3786"
            ],
            [
             0.5555555555555556,
             "#d8576b"
            ],
            [
             0.6666666666666666,
             "#ed7953"
            ],
            [
             0.7777777777777778,
             "#fb9f3a"
            ],
            [
             0.8888888888888888,
             "#fdca26"
            ],
            [
             1,
             "#f0f921"
            ]
           ]
          },
          "colorway": [
           "#636efa",
           "#EF553B",
           "#00cc96",
           "#ab63fa",
           "#FFA15A",
           "#19d3f3",
           "#FF6692",
           "#B6E880",
           "#FF97FF",
           "#FECB52"
          ],
          "font": {
           "color": "#2a3f5f"
          },
          "geo": {
           "bgcolor": "white",
           "lakecolor": "white",
           "landcolor": "#E5ECF6",
           "showlakes": true,
           "showland": true,
           "subunitcolor": "white"
          },
          "hoverlabel": {
           "align": "left"
          },
          "hovermode": "closest",
          "mapbox": {
           "style": "light"
          },
          "paper_bgcolor": "white",
          "plot_bgcolor": "#E5ECF6",
          "polar": {
           "angularaxis": {
            "gridcolor": "white",
            "linecolor": "white",
            "ticks": ""
           },
           "bgcolor": "#E5ECF6",
           "radialaxis": {
            "gridcolor": "white",
            "linecolor": "white",
            "ticks": ""
           }
          },
          "scene": {
           "xaxis": {
            "backgroundcolor": "#E5ECF6",
            "gridcolor": "white",
            "gridwidth": 2,
            "linecolor": "white",
            "showbackground": true,
            "ticks": "",
            "zerolinecolor": "white"
           },
           "yaxis": {
            "backgroundcolor": "#E5ECF6",
            "gridcolor": "white",
            "gridwidth": 2,
            "linecolor": "white",
            "showbackground": true,
            "ticks": "",
            "zerolinecolor": "white"
           },
           "zaxis": {
            "backgroundcolor": "#E5ECF6",
            "gridcolor": "white",
            "gridwidth": 2,
            "linecolor": "white",
            "showbackground": true,
            "ticks": "",
            "zerolinecolor": "white"
           }
          },
          "shapedefaults": {
           "line": {
            "color": "#2a3f5f"
           }
          },
          "ternary": {
           "aaxis": {
            "gridcolor": "white",
            "linecolor": "white",
            "ticks": ""
           },
           "baxis": {
            "gridcolor": "white",
            "linecolor": "white",
            "ticks": ""
           },
           "bgcolor": "#E5ECF6",
           "caxis": {
            "gridcolor": "white",
            "linecolor": "white",
            "ticks": ""
           }
          },
          "title": {
           "x": 0.05
          },
          "xaxis": {
           "automargin": true,
           "gridcolor": "white",
           "linecolor": "white",
           "ticks": "",
           "title": {
            "standoff": 15
           },
           "zerolinecolor": "white",
           "zerolinewidth": 2
          },
          "yaxis": {
           "automargin": true,
           "gridcolor": "white",
           "linecolor": "white",
           "ticks": "",
           "title": {
            "standoff": 15
           },
           "zerolinecolor": "white",
           "zerolinewidth": 2
          }
         }
        },
        "xaxis": {
         "anchor": "y",
         "autorange": true,
         "domain": [
          0,
          1
         ],
         "range": [
          0,
          100
         ],
         "title": {
          "text": "time"
         },
         "type": "linear"
        },
        "yaxis": {
         "anchor": "x",
         "autorange": true,
         "domain": [
          0,
          1
         ],
         "range": [
          5.337163233564498,
          10.245412461391343
         ],
         "title": {
          "text": "value"
         },
         "type": "linear"
        }
       }
      },
      "image/png": "[encoded data removed]",
      "text/html": [
       "<div>                            <div id=\"91e5371c-440c-4355-a819-707cf2d66b0d\" class=\"plotly-graph-div\" style=\"height:525px; width:100%;\"></div>            <script type=\"text/javascript\">                require([\"plotly\"], function(Plotly) {                    window.PLOTLYENV=window.PLOTLYENV || {};                                    if (document.getElementById(\"91e5371c-440c-4355-a819-707cf2d66b0d\")) {                    Plotly.newPlot(                        \"91e5371c-440c-4355-a819-707cf2d66b0d\",                        [{\"hovertemplate\":\"variable=P_2<br>time=%{x}<br>value=%{y}<extra></extra>\",\"legendgroup\":\"P_2\",\"line\":{\"color\":\"#636efa\",\"dash\":\"solid\"},\"marker\":{\"symbol\":\"circle\"},\"mode\":\"lines\",\"name\":\"P_2\",\"orientation\":\"v\",\"showlegend\":true,\"x\":[0,1,2,3,4,5,6,7,8,9,10,11,12,13,14,15,16,17,18,19,20,21,22,23,24,25,26,27,28,29,30,31,32,33,34,35,36,37,38,39,40,41,42,43,44,45,46,47,48,49,50,51,52,53,54,55,56,57,58,59,60,61,62,63,64,65,66,67,68,69,70,71,72,73,74,75,76,77,78,79,80,81,82,83,84,85,86,87,88,89,90,91,92,93,94,95,96,97,98,99,100],\"xaxis\":\"x\",\"y\":[10.0,7.0,6.117647058823529,5.795620437956204,5.66913123844732,5.618025244779993,5.597141864434944,5.588568926976108,5.585042958821613,5.5835916356331285,5.582994065928807,5.582747989448098,5.5826466507887265,5.582604916800932,5.582587729463545,5.582580651163601,5.582577736086821,5.582576535561534,5.582576041145278,5.582575837528191,5.582575753671888,5.582575719137067,5.5825757049144755,5.582575699057139,5.582575696644891,5.582575695651448,5.582575695242316,5.582575695073821,5.5825756950044285,5.5825756949758505,5.582575694964081,5.5825756949592344,5.582575694957239,5.582575694956416,5.582575694956077,5.5825756949559375,5.58257569495588,5.582575694955856,5.582575694955847,5.5825756949558425,5.582575694955841,5.58257569495584,5.58257569495584,5.58257569495584,5.58257569495584,5.58257569495584,5.58257569495584,5.58257569495584,5.58257569495584,5.58257569495584,5.58257569495584,5.58257569495584,5.58257569495584,5.58257569495584,5.58257569495584,5.58257569495584,5.58257569495584,5.58257569495584,5.58257569495584,5.58257569495584,5.58257569495584,5.58257569495584,5.58257569495584,5.58257569495584,5.58257569495584,5.58257569495584,5.58257569495584,5.58257569495584,5.58257569495584,5.58257569495584,5.58257569495584,5.58257569495584,5.58257569495584,5.58257569495584,5.58257569495584,5.58257569495584,5.58257569495584,5.58257569495584,5.58257569495584,5.58257569495584,5.58257569495584,5.58257569495584,5.58257569495584,5.58257569495584,5.58257569495584,5.58257569495584,5.58257569495584,5.58257569495584,5.58257569495584,5.58257569495584,5.58257569495584,5.58257569495584,5.58257569495584,5.58257569495584,5.58257569495584,5.58257569495584,5.58257569495584,5.58257569495584,5.58257569495584,5.58257569495584,5.58257569495584],\"yaxis\":\"y\",\"type\":\"scatter\"},{\"hovertemplate\":\"variable=P_3<br>time=%{x}<br>value=%{y}<extra></extra>\",\"legendgroup\":\"P_3\",\"line\":{\"color\":\"#EF553B\",\"dash\":\"solid\"},\"marker\":{\"symbol\":\"circle\"},\"mode\":\"lines\",\"name\":\"P_3\",\"orientation\":\"v\",\"showlegend\":true,\"x\":[0,1,2,3,4,5,6,7,8,9,10,11,12,13,14,15,16,17,18,19,20,21,22,23,24,25,26,27,28,29,30,31,32,33,34,35,36,37,38,39,40,41,42,43,44,45,46,47,48,49,50,51,52,53,54,55,56,57,58,59,60,61,62,63,64,65,66,67,68,69,70,71,72,73,74,75,76,77,78,79,80,81,82,83,84,85,86,87,88,89,90,91,92,93,94,95,96,97,98,99,100],\"xaxis\":\"x\",\"y\":[10.0,8.0,7.444444444444445,7.2675159235668785,7.208779048321652,7.1890124965168365,7.182330135587259,7.1800675920616515,7.179301131143004,7.179041438494965,7.178953444054275,7.178923627352252,7.178913523966067,7.178910100426819,7.178908940357314,7.178908547266563,7.178908414067342,7.178908368932643,7.178908353638702,7.178908348456333,7.178908346700282,7.178908346105242,7.178908345903613,7.17890834583529,7.178908345812139,7.178908345804294,7.178908345801637,7.178908345800735,7.17890834580043,7.178908345800326,7.178908345800291,7.17890834580028,7.178908345800275,7.1789083458002745,7.178908345800274,7.178908345800274,7.178908345800274,7.178908345800274,7.178908345800274,7.178908345800274,7.178908345800274,7.178908345800274,7.178908345800274,7.178908345800274,7.178908345800274,7.178908345800274,7.178908345800274,7.178908345800274,7.178908345800274,7.178908345800274,7.178908345800274,7.178908345800274,7.178908345800274,7.178908345800274,7.178908345800274,7.178908345800274,7.178908345800274,7.178908345800274,7.178908345800274,7.178908345800274,7.178908345800274,7.178908345800274,7.178908345800274,7.178908345800274,7.178908345800274,7.178908345800274,7.178908345800274,7.178908345800274,7.178908345800274,7.178908345800274,7.178908345800274,7.178908345800274,7.178908345800274,7.178908345800274,7.178908345800274,7.178908345800274,7.178908345800274,7.178908345800274,7.178908345800274,7.178908345800274,7.178908345800274,7.178908345800274,7.178908345800274,7.178908345800274,7.178908345800274,7.178908345800274,7.178908345800274,7.178908345800274,7.178908345800274,7.178908345800274,7.178908345800274,7.178908345800274,7.178908345800274,7.178908345800274,7.178908345800274,7.178908345800274,7.178908345800274,7.178908345800274,7.178908345800274,7.178908345800274,7.178908345800274],\"yaxis\":\"y\",\"type\":\"scatter\"},{\"hovertemplate\":\"variable=P_4<br>time=%{x}<br>value=%{y}<extra></extra>\",\"legendgroup\":\"P_4\",\"line\":{\"color\":\"#00cc96\",\"dash\":\"solid\"},\"marker\":{\"symbol\":\"circle\"},\"mode\":\"lines\",\"name\":\"P_4\",\"orientation\":\"v\",\"showlegend\":true,\"x\":[0,1,2,3,4,5,6,7,8,9,10,11,12,13,14,15,16,17,18,19,20,21,22,23,24,25,26,27,28,29,30,31,32,33,34,35,36,37,38,39,40,41,42,43,44,45,46,47,48,49,50,51,52,53,54,55,56,57,58,59,60,61,62,63,64,65,66,67,68,69,70,71,72,73,74,75,76,77,78,79,80,81,82,83,84,85,86,87,88,89,90,91,92,93,94,95,96,97,98,99,100],\"xaxis\":\"x\",\"y\":[10.0,9.0,8.736842105263158,8.662921348314608,8.641782059000601,8.635705981139388,8.633956980153751,8.633453318234778,8.633308260571347,8.633266481636914,8.633254448512824,8.633250982735262,8.633249984521996,8.633249697016538,8.633249614209191,8.63324959035901,8.633249583489679,8.633249581511173,8.633249580941323,8.633249580777195,8.633249580729924,8.633249580716308,8.633249580712386,8.633249580711256,8.633249580710931,8.633249580710839,8.63324958071081,8.633249580710803,8.6332495807108,8.6332495807108,8.6332495807108,8.6332495807108,8.6332495807108,8.6332495807108,8.6332495807108,8.6332495807108,8.6332495807108,8.6332495807108,8.6332495807108,8.6332495807108,8.6332495807108,8.6332495807108,8.6332495807108,8.6332495807108,8.6332495807108,8.6332495807108,8.6332495807108,8.6332495807108,8.6332495807108,8.6332495807108,8.6332495807108,8.6332495807108,8.6332495807108,8.6332495807108,8.6332495807108,8.6332495807108,8.6332495807108,8.6332495807108,8.6332495807108,8.6332495807108,8.6332495807108,8.6332495807108,8.6332495807108,8.6332495807108,8.6332495807108,8.6332495807108,8.6332495807108,8.6332495807108,8.6332495807108,8.6332495807108,8.6332495807108,8.6332495807108,8.6332495807108,8.6332495807108,8.6332495807108,8.6332495807108,8.6332495807108,8.6332495807108,8.6332495807108,8.6332495807108,8.6332495807108,8.6332495807108,8.6332495807108,8.6332495807108,8.6332495807108,8.6332495807108,8.6332495807108,8.6332495807108,8.6332495807108,8.6332495807108,8.6332495807108,8.6332495807108,8.6332495807108,8.6332495807108,8.6332495807108,8.6332495807108,8.6332495807108,8.6332495807108,8.6332495807108,8.6332495807108,8.6332495807108],\"yaxis\":\"y\",\"type\":\"scatter\"},{\"hovertemplate\":\"variable=P_5<br>time=%{x}<br>value=%{y}<extra></extra>\",\"legendgroup\":\"P_5\",\"line\":{\"color\":\"#ab63fa\",\"dash\":\"solid\"},\"marker\":{\"symbol\":\"circle\"},\"mode\":\"lines\",\"name\":\"P_5\",\"orientation\":\"v\",\"showlegend\":true,\"x\":[0,1,2,3,4,5,6,7,8,9,10,11,12,13,14,15,16,17,18,19,20,21,22,23,24,25,26,27,28,29,30,31,32,33,34,35,36,37,38,39,40,41,42,43,44,45,46,47,48,49,50,51,52,53,54,55,56,57,58,59,60,61,62,63,64,65,66,67,68,69,70,71,72,73,74,75,76,77,78,79,80,81,82,83,84,85,86,87,88,89,90,91,92,93,94,95,96,97,98,99,100],\"xaxis\":\"x\",\"y\":[10.0,10.0,10.0,10.0,10.0,10.0,10.0,10.0,10.0,10.0,10.0,10.0,10.0,10.0,10.0,10.0,10.0,10.0,10.0,10.0,10.0,10.0,10.0,10.0,10.0,10.0,10.0,10.0,10.0,10.0,10.0,10.0,10.0,10.0,10.0,10.0,10.0,10.0,10.0,10.0,10.0,10.0,10.0,10.0,10.0,10.0,10.0,10.0,10.0,10.0,10.0,10.0,10.0,10.0,10.0,10.0,10.0,10.0,10.0,10.0,10.0,10.0,10.0,10.0,10.0,10.0,10.0,10.0,10.0,10.0,10.0,10.0,10.0,10.0,10.0,10.0,10.0,10.0,10.0,10.0,10.0,10.0,10.0,10.0,10.0,10.0,10.0,10.0,10.0,10.0,10.0,10.0,10.0,10.0,10.0,10.0,10.0,10.0,10.0,10.0,10.0],\"yaxis\":\"y\",\"type\":\"scatter\"}],                        {\"template\":{\"data\":{\"histogram2dcontour\":[{\"type\":\"histogram2dcontour\",\"colorbar\":{\"outlinewidth\":0,\"ticks\":\"\"},\"colorscale\":[[0.0,\"#0d0887\"],[0.1111111111111111,\"#46039f\"],[0.2222222222222222,\"#7201a8\"],[0.3333333333333333,\"#9c179e\"],[0.4444444444444444,\"#bd3786\"],[0.5555555555555556,\"#d8576b\"],[0.6666666666666666,\"#ed7953\"],[0.7777777777777778,\"#fb9f3a\"],[0.8888888888888888,\"#fdca26\"],[1.0,\"#f0f921\"]]}],\"choropleth\":[{\"type\":\"choropleth\",\"colorbar\":{\"outlinewidth\":0,\"ticks\":\"\"}}],\"histogram2d\":[{\"type\":\"histogram2d\",\"colorbar\":{\"outlinewidth\":0,\"ticks\":\"\"},\"colorscale\":[[0.0,\"#0d0887\"],[0.1111111111111111,\"#46039f\"],[0.2222222222222222,\"#7201a8\"],[0.3333333333333333,\"#9c179e\"],[0.4444444444444444,\"#bd3786\"],[0.5555555555555556,\"#d8576b\"],[0.6666666666666666,\"#ed7953\"],[0.7777777777777778,\"#fb9f3a\"],[0.8888888888888888,\"#fdca26\"],[1.0,\"#f0f921\"]]}],\"heatmap\":[{\"type\":\"heatmap\",\"colorbar\":{\"outlinewidth\":0,\"ticks\":\"\"},\"colorscale\":[[0.0,\"#0d0887\"],[0.1111111111111111,\"#46039f\"],[0.2222222222222222,\"#7201a8\"],[0.3333333333333333,\"#9c179e\"],[0.4444444444444444,\"#bd3786\"],[0.5555555555555556,\"#d8576b\"],[0.6666666666666666,\"#ed7953\"],[0.7777777777777778,\"#fb9f3a\"],[0.8888888888888888,\"#fdca26\"],[1.0,\"#f0f921\"]]}],\"heatmapgl\":[{\"type\":\"heatmapgl\",\"colorbar\":{\"outlinewidth\":0,\"ticks\":\"\"},\"colorscale\":[[0.0,\"#0d0887\"],[0.1111111111111111,\"#46039f\"],[0.2222222222222222,\"#7201a8\"],[0.3333333333333333,\"#9c179e\"],[0.4444444444444444,\"#bd3786\"],[0.5555555555555556,\"#d8576b\"],[0.6666666666666666,\"#ed7953\"],[0.7777777777777778,\"#fb9f3a\"],[0.8888888888888888,\"#fdca26\"],[1.0,\"#f0f921\"]]}],\"contourcarpet\":[{\"type\":\"contourcarpet\",\"colorbar\":{\"outlinewidth\":0,\"ticks\":\"\"}}],\"contour\":[{\"type\":\"contour\",\"colorbar\":{\"outlinewidth\":0,\"ticks\":\"\"},\"colorscale\":[[0.0,\"#0d0887\"],[0.1111111111111111,\"#46039f\"],[0.2222222222222222,\"#7201a8\"],[0.3333333333333333,\"#9c179e\"],[0.4444444444444444,\"#bd3786\"],[0.5555555555555556,\"#d8576b\"],[0.6666666666666666,\"#ed7953\"],[0.7777777777777778,\"#fb9f3a\"],[0.8888888888888888,\"#fdca26\"],[1.0,\"#f0f921\"]]}],\"surface\":[{\"type\":\"surface\",\"colorbar\":{\"outlinewidth\":0,\"ticks\":\"\"},\"colorscale\":[[0.0,\"#0d0887\"],[0.1111111111111111,\"#46039f\"],[0.2222222222222222,\"#7201a8\"],[0.3333333333333333,\"#9c179e\"],[0.4444444444444444,\"#bd3786\"],[0.5555555555555556,\"#d8576b\"],[0.6666666666666666,\"#ed7953\"],[0.7777777777777778,\"#fb9f3a\"],[0.8888888888888888,\"#fdca26\"],[1.0,\"#f0f921\"]]}],\"mesh3d\":[{\"type\":\"mesh3d\",\"colorbar\":{\"outlinewidth\":0,\"ticks\":\"\"}}],\"scatter\":[{\"fillpattern\":{\"fillmode\":\"overlay\",\"size\":10,\"solidity\":0.2},\"type\":\"scatter\"}],\"parcoords\":[{\"type\":\"parcoords\",\"line\":{\"colorbar\":{\"outlinewidth\":0,\"ticks\":\"\"}}}],\"scatterpolargl\":[{\"type\":\"scatterpolargl\",\"marker\":{\"colorbar\":{\"outlinewidth\":0,\"ticks\":\"\"}}}],\"bar\":[{\"error_x\":{\"color\":\"#2a3f5f\"},\"error_y\":{\"color\":\"#2a3f5f\"},\"marker\":{\"line\":{\"color\":\"#E5ECF6\",\"width\":0.5},\"pattern\":{\"fillmode\":\"overlay\",\"size\":10,\"solidity\":0.2}},\"type\":\"bar\"}],\"scattergeo\":[{\"type\":\"scattergeo\",\"marker\":{\"colorbar\":{\"outlinewidth\":0,\"ticks\":\"\"}}}],\"scatterpolar\":[{\"type\":\"scatterpolar\",\"marker\":{\"colorbar\":{\"outlinewidth\":0,\"ticks\":\"\"}}}],\"histogram\":[{\"marker\":{\"pattern\":{\"fillmode\":\"overlay\",\"size\":10,\"solidity\":0.2}},\"type\":\"histogram\"}],\"scattergl\":[{\"type\":\"scattergl\",\"marker\":{\"colorbar\":{\"outlinewidth\":0,\"ticks\":\"\"}}}],\"scatter3d\":[{\"type\":\"scatter3d\",\"line\":{\"colorbar\":{\"outlinewidth\":0,\"ticks\":\"\"}},\"marker\":{\"colorbar\":{\"outlinewidth\":0,\"ticks\":\"\"}}}],\"scattermapbox\":[{\"type\":\"scattermapbox\",\"marker\":{\"colorbar\":{\"outlinewidth\":0,\"ticks\":\"\"}}}],\"scatterternary\":[{\"type\":\"scatterternary\",\"marker\":{\"colorbar\":{\"outlinewidth\":0,\"ticks\":\"\"}}}],\"scattercarpet\":[{\"type\":\"scattercarpet\",\"marker\":{\"colorbar\":{\"outlinewidth\":0,\"ticks\":\"\"}}}],\"carpet\":[{\"aaxis\":{\"endlinecolor\":\"#2a3f5f\",\"gridcolor\":\"white\",\"linecolor\":\"white\",\"minorgridcolor\":\"white\",\"startlinecolor\":\"#2a3f5f\"},\"baxis\":{\"endlinecolor\":\"#2a3f5f\",\"gridcolor\":\"white\",\"linecolor\":\"white\",\"minorgridcolor\":\"white\",\"startlinecolor\":\"#2a3f5f\"},\"type\":\"carpet\"}],\"table\":[{\"cells\":{\"fill\":{\"color\":\"#EBF0F8\"},\"line\":{\"color\":\"white\"}},\"header\":{\"fill\":{\"color\":\"#C8D4E3\"},\"line\":{\"color\":\"white\"}},\"type\":\"table\"}],\"barpolar\":[{\"marker\":{\"line\":{\"color\":\"#E5ECF6\",\"width\":0.5},\"pattern\":{\"fillmode\":\"overlay\",\"size\":10,\"solidity\":0.2}},\"type\":\"barpolar\"}],\"pie\":[{\"automargin\":true,\"type\":\"pie\"}]},\"layout\":{\"autotypenumbers\":\"strict\",\"colorway\":[\"#636efa\",\"#EF553B\",\"#00cc96\",\"#ab63fa\",\"#FFA15A\",\"#19d3f3\",\"#FF6692\",\"#B6E880\",\"#FF97FF\",\"#FECB52\"],\"font\":{\"color\":\"#2a3f5f\"},\"hovermode\":\"closest\",\"hoverlabel\":{\"align\":\"left\"},\"paper_bgcolor\":\"white\",\"plot_bgcolor\":\"#E5ECF6\",\"polar\":{\"bgcolor\":\"#E5ECF6\",\"angularaxis\":{\"gridcolor\":\"white\",\"linecolor\":\"white\",\"ticks\":\"\"},\"radialaxis\":{\"gridcolor\":\"white\",\"linecolor\":\"white\",\"ticks\":\"\"}},\"ternary\":{\"bgcolor\":\"#E5ECF6\",\"aaxis\":{\"gridcolor\":\"white\",\"linecolor\":\"white\",\"ticks\":\"\"},\"baxis\":{\"gridcolor\":\"white\",\"linecolor\":\"white\",\"ticks\":\"\"},\"caxis\":{\"gridcolor\":\"white\",\"linecolor\":\"white\",\"ticks\":\"\"}},\"coloraxis\":{\"colorbar\":{\"outlinewidth\":0,\"ticks\":\"\"}},\"colorscale\":{\"sequential\":[[0.0,\"#0d0887\"],[0.1111111111111111,\"#46039f\"],[0.2222222222222222,\"#7201a8\"],[0.3333333333333333,\"#9c179e\"],[0.4444444444444444,\"#bd3786\"],[0.5555555555555556,\"#d8576b\"],[0.6666666666666666,\"#ed7953\"],[0.7777777777777778,\"#fb9f3a\"],[0.8888888888888888,\"#fdca26\"],[1.0,\"#f0f921\"]],\"sequentialminus\":[[0.0,\"#0d0887\"],[0.1111111111111111,\"#46039f\"],[0.2222222222222222,\"#7201a8\"],[0.3333333333333333,\"#9c179e\"],[0.4444444444444444,\"#bd3786\"],[0.5555555555555556,\"#d8576b\"],[0.6666666666666666,\"#ed7953\"],[0.7777777777777778,\"#fb9f3a\"],[0.8888888888888888,\"#fdca26\"],[1.0,\"#f0f921\"]],\"diverging\":[[0,\"#8e0152\"],[0.1,\"#c51b7d\"],[0.2,\"#de77ae\"],[0.3,\"#f1b6da\"],[0.4,\"#fde0ef\"],[0.5,\"#f7f7f7\"],[0.6,\"#e6f5d0\"],[0.7,\"#b8e186\"],[0.8,\"#7fbc41\"],[0.9,\"#4d9221\"],[1,\"#276419\"]]},\"xaxis\":{\"gridcolor\":\"white\",\"linecolor\":\"white\",\"ticks\":\"\",\"title\":{\"standoff\":15},\"zerolinecolor\":\"white\",\"automargin\":true,\"zerolinewidth\":2},\"yaxis\":{\"gridcolor\":\"white\",\"linecolor\":\"white\",\"ticks\":\"\",\"title\":{\"standoff\":15},\"zerolinecolor\":\"white\",\"automargin\":true,\"zerolinewidth\":2},\"scene\":{\"xaxis\":{\"backgroundcolor\":\"#E5ECF6\",\"gridcolor\":\"white\",\"linecolor\":\"white\",\"showbackground\":true,\"ticks\":\"\",\"zerolinecolor\":\"white\",\"gridwidth\":2},\"yaxis\":{\"backgroundcolor\":\"#E5ECF6\",\"gridcolor\":\"white\",\"linecolor\":\"white\",\"showbackground\":true,\"ticks\":\"\",\"zerolinecolor\":\"white\",\"gridwidth\":2},\"zaxis\":{\"backgroundcolor\":\"#E5ECF6\",\"gridcolor\":\"white\",\"linecolor\":\"white\",\"showbackground\":true,\"ticks\":\"\",\"zerolinecolor\":\"white\",\"gridwidth\":2}},\"shapedefaults\":{\"line\":{\"color\":\"#2a3f5f\"}},\"annotationdefaults\":{\"arrowcolor\":\"#2a3f5f\",\"arrowhead\":0,\"arrowwidth\":1},\"geo\":{\"bgcolor\":\"white\",\"landcolor\":\"#E5ECF6\",\"subunitcolor\":\"white\",\"showland\":true,\"showlakes\":true,\"lakecolor\":\"white\"},\"title\":{\"x\":0.05},\"mapbox\":{\"style\":\"light\"}}},\"xaxis\":{\"anchor\":\"y\",\"domain\":[0.0,1.0],\"title\":{\"text\":\"time\"}},\"yaxis\":{\"anchor\":\"x\",\"domain\":[0.0,1.0],\"title\":{\"text\":\"value\"}},\"legend\":{\"title\":{\"text\":\"variable\"},\"tracegroupgap\":0},\"margin\":{\"t\":60}},                        {\"responsive\": true}                    ).then(function(){\n",
       "                            \n",
       "var gd = document.getElementById('91e5371c-440c-4355-a819-707cf2d66b0d');\n",
       "var x = new MutationObserver(function (mutations, observer) {{\n",
       "        var display = window.getComputedStyle(gd).display;\n",
       "        if (!display || display === 'none') {{\n",
       "            console.log([gd, 'removed!']);\n",
       "            Plotly.purge(gd);\n",
       "            observer.disconnect();\n",
       "        }}\n",
       "}});\n",
       "\n",
       "// Listen for the removal of the full notebook cells\n",
       "var notebookContainer = gd.closest('#notebook-container');\n",
       "if (notebookContainer) {{\n",
       "    x.observe(notebookContainer, {childList: true});\n",
       "}}\n",
       "\n",
       "// Listen for the clearing of the current output cell\n",
       "var outputEl = gd.closest('.output');\n",
       "if (outputEl) {{\n",
       "    x.observe(outputEl, {childList: true});\n",
       "}}\n",
       "\n",
       "                        })                };                });            </script>        </div>"
      ]
     },
     "metadata": {},
     "output_type": "display_data"
    }
   ],
   "source": [
    "data = pd.DataFrame(dict(P_2=simulate_variance(10, 10, 2),\n",
    "                         P_3=simulate_variance(10, 10, 3),\n",
    "                         P_4=simulate_variance(10, 10, 4),\n",
    "                         P_5=simulate_variance(10, 10, 5),\n",
    "                         time=range(101)))\n",
    "data = data.melt(id_vars=['time'])\n",
    "ex.line(data, x='time', y='value', color='variable')"
   ]
  },
  {
   "cell_type": "markdown",
   "id": "bbb72901-1d9f-4e32-a736-9d2cb6d9a256",
   "metadata": {},
   "source": [
    "The limiting variance can be calculate from the following:\n",
    "\n",
    "$$\n",
    "K = \\frac{P}{P+R}\n",
    "$$\n",
    "$$\n",
    "P = K^2 R + (1-K)^2 P + Q\n",
    "$$\n",
    "\n",
    "which can be refomulated as:\n",
    "\n",
    "$$\n",
    "P^2 R + R^2 P = (P-Q)(P+R)^2\n",
    "$$\n",
    "\n",
    "which for $P=R=10$ and $Q=2$ result in $P=1+\\sqrt{21}\\approx5.58$ while for $Q=5$ results in $P=10$."
   ]
  },
  {
   "cell_type": "code",
   "execution_count": 59,
   "id": "dfb2ce65-02f1-4093-aa50-fe428719eb10",
   "metadata": {},
   "outputs": [
    {
     "data": {
      "text/plain": [
       "7603.84"
      ]
     },
     "execution_count": 59,
     "metadata": {},
     "output_type": "execute_result"
    }
   ],
   "source": [
    "87.2**2"
   ]
  },
  {
   "cell_type": "code",
   "execution_count": 262,
   "id": "e5e2177b-ab7f-4e29-b250-73904537ff3a",
   "metadata": {},
   "outputs": [],
   "source": [
    "H = np.array([[1, 0]])\n",
    "P = np.eye(2) * 1\n",
    "R = np.eye(1) * 1\n",
    "Q = np.eye(2) \n",
    "F = np.array([[1, 1], [0, 1]])"
   ]
  },
  {
   "cell_type": "code",
   "execution_count": 263,
   "id": "3ef2aba5-a0a0-44dd-9f3b-76d3acede936",
   "metadata": {},
   "outputs": [
    {
     "data": {
      "text/plain": [
       "(array([[0.82184641, 0.42208244],\n",
       "        [0.42208244, 1.94712297]]),\n",
       " array([[0.82184641],\n",
       "        [0.42208244]]))"
      ]
     },
     "execution_count": 263,
     "metadata": {},
     "output_type": "execute_result"
    }
   ],
   "source": [
    "for _ in range(100):\n",
    "    P = F @ P @ F.T + Q\n",
    "    S = H @ P @ H.T + R\n",
    "    K = P @ H.T @ np.linalg.inv(S)\n",
    "    \n",
    "    P = P - K @ S @ K.T\n",
    "    \n",
    "P, K"
   ]
  },
  {
   "cell_type": "code",
   "execution_count": 145,
   "id": "41d2fccc-b2ed-444f-ac82-35357c18151c",
   "metadata": {},
   "outputs": [],
   "source": [
    "class KalmanGain:\n",
    "    def __init__(self, Px, Pv, Pxv, Qx, Qv, R):\n",
    "        self.Px = Px\n",
    "        self.Pv = Pv\n",
    "        self.Pxv = Pxv\n",
    "        self.Qx = Qx\n",
    "        self.Qv = Qv\n",
    "        self.R = R\n",
    "\n",
    "    @property\n",
    "    def S(self):\n",
    "        return self.Px + 2*self.Pxv + self.Pv + self.Qx + self.R\n",
    "\n",
    "    @property\n",
    "    def Kx(self):\n",
    "        return (self.Px + 2*self.Pxv + self.Pv + self.Qx) / self.S\n",
    "\n",
    "    @property\n",
    "    def Kv(self):\n",
    "        return (self.Pxv + self.Pv) / self.S"
   ]
  },
  {
   "cell_type": "code",
   "execution_count": 264,
   "id": "551a6a6a-9c3d-4bb2-9fc9-f65e4b624b94",
   "metadata": {},
   "outputs": [
    {
     "data": {
      "text/plain": [
       "(0.811419670437016, 0.4342590113110481)"
      ]
     },
     "execution_count": 264,
     "metadata": {},
     "output_type": "execute_result"
    }
   ],
   "source": [
    "kg = KalmanGain(0.81142, 2.1142, 0.18858, 1, 1, 1)\n",
    "kg.Kx, kg.Kv"
   ]
  },
  {
   "cell_type": "code",
   "execution_count": 241,
   "id": "72006673-7aab-462c-a719-61321942a1be",
   "metadata": {},
   "outputs": [],
   "source": [
    "from sympy.solvers import solve, solveset, nsolve, nonlinsolve\n",
    "from sympy import Symbol, symbols, N\n",
    "from sympy.matrices import Matrix"
   ]
  },
  {
   "cell_type": "code",
   "execution_count": 251,
   "id": "3d5dbf57-cc1c-4268-96ed-74606968a5fb",
   "metadata": {},
   "outputs": [],
   "source": [
    "Px, Pv, Pxv = symbols(\"P_x, P_v, P_xv\", positive=True)\n",
    "Qx, Qv, R, t = 1, 1, 1, 1\n",
    "\n",
    "F = Matrix([[1, t], [0, 1]])\n",
    "H = Matrix([[1, 0]])\n",
    "Q = Matrix([[Qx, 0], [0, Qv]])\n",
    "Rm = Matrix([R])\n",
    "\n",
    "P = Matrix([[Px, Pxv], [Pxv, Pv]])\n",
    "Pn = F*P*F.T + Q\n",
    "S = H*Pn*H.T + Rm\n",
    "K = Pn*H.T*S.inv()\n",
    "\n",
    "X = P - Pn + K*S*K.T"
   ]
  },
  {
   "cell_type": "code",
   "execution_count": 252,
   "id": "c8388e7c-e7cd-4c54-9dcf-dc13ee631101",
   "metadata": {},
   "outputs": [
    {
     "data": {
      "text/latex": [
       "$\\displaystyle \\left[\\begin{matrix}P_{v} + P_{x} + 2 P_{xv} + 1 & P_{v} + P_{xv}\\\\P_{v} + P_{xv} & P_{v} + 1\\end{matrix}\\right]$"
      ],
      "text/plain": [
       "Matrix([\n",
       "[P_v + P_x + 2*P_xv + 1, P_v + P_xv],\n",
       "[            P_v + P_xv,    P_v + 1]])"
      ]
     },
     "execution_count": 252,
     "metadata": {},
     "output_type": "execute_result"
    }
   ],
   "source": [
    "Pn"
   ]
  },
  {
   "cell_type": "code",
   "execution_count": 253,
   "id": "8f307fa0-4dc9-4662-9afd-a396fb4c362b",
   "metadata": {},
   "outputs": [
    {
     "data": {
      "text/latex": [
       "$\\displaystyle \\left[\\begin{matrix}P_{v} + P_{x} + 2 P_{xv} + 2\\end{matrix}\\right]$"
      ],
      "text/plain": [
       "Matrix([[P_v + P_x + 2*P_xv + 2]])"
      ]
     },
     "execution_count": 253,
     "metadata": {},
     "output_type": "execute_result"
    }
   ],
   "source": [
    "S"
   ]
  },
  {
   "cell_type": "code",
   "execution_count": 254,
   "id": "e9feacdf-6370-480a-b16d-8fa239e6b332",
   "metadata": {},
   "outputs": [
    {
     "data": {
      "text/latex": [
       "$\\displaystyle \\left[\\begin{matrix}\\frac{P_{v} + P_{x} + 2 P_{xv} + 1}{P_{v} + P_{x} + 2 P_{xv} + 2}\\\\\\frac{P_{v} + P_{xv}}{P_{v} + P_{x} + 2 P_{xv} + 2}\\end{matrix}\\right]$"
      ],
      "text/plain": [
       "Matrix([\n",
       "[(P_v + P_x + 2*P_xv + 1)/(P_v + P_x + 2*P_xv + 2)],\n",
       "[            (P_v + P_xv)/(P_v + P_x + 2*P_xv + 2)]])"
      ]
     },
     "execution_count": 254,
     "metadata": {},
     "output_type": "execute_result"
    }
   ],
   "source": [
    "K"
   ]
  },
  {
   "cell_type": "code",
   "execution_count": 255,
   "id": "84c7847c-0a25-4204-a241-57d00230e958",
   "metadata": {},
   "outputs": [
    {
     "data": {
      "text/latex": [
       "$\\displaystyle \\left[\\begin{matrix}P_{v} + P_{x} + 2 P_{xv} - \\frac{\\left(P_{v} + P_{x} + 2 P_{xv} + 1\\right)^{2}}{P_{v} + P_{x} + 2 P_{xv} + 2} + 1 & P_{v} + P_{xv} - \\frac{\\left(P_{v} + P_{xv}\\right) \\left(P_{v} + P_{x} + 2 P_{xv} + 1\\right)}{P_{v} + P_{x} + 2 P_{xv} + 2}\\\\P_{v} + P_{xv} - \\frac{\\left(P_{v} + P_{xv}\\right) \\left(P_{v} + P_{x} + 2 P_{xv} + 1\\right)}{P_{v} + P_{x} + 2 P_{xv} + 2} & P_{v} - \\frac{\\left(P_{v} + P_{xv}\\right)^{2}}{P_{v} + P_{x} + 2 P_{xv} + 2} + 1\\end{matrix}\\right]$"
      ],
      "text/plain": [
       "Matrix([\n",
       "[P_v + P_x + 2*P_xv - (P_v + P_x + 2*P_xv + 1)**2/(P_v + P_x + 2*P_xv + 2) + 1, P_v + P_xv - (P_v + P_xv)*(P_v + P_x + 2*P_xv + 1)/(P_v + P_x + 2*P_xv + 2)],\n",
       "[  P_v + P_xv - (P_v + P_xv)*(P_v + P_x + 2*P_xv + 1)/(P_v + P_x + 2*P_xv + 2),                          P_v - (P_v + P_xv)**2/(P_v + P_x + 2*P_xv + 2) + 1]])"
      ]
     },
     "execution_count": 255,
     "metadata": {},
     "output_type": "execute_result"
    }
   ],
   "source": [
    "Pn - K*S*K.T"
   ]
  },
  {
   "cell_type": "code",
   "execution_count": 256,
   "id": "dc034eb5-dbeb-4dbd-a104-5d4f02a32e63",
   "metadata": {},
   "outputs": [
    {
     "data": {
      "text/latex": [
       "$\\displaystyle \\left[\\begin{matrix}- P_{v} - 2 P_{xv} + \\frac{\\left(P_{v} + P_{x} + 2 P_{xv} + 1\\right)^{2}}{P_{v} + P_{x} + 2 P_{xv} + 2} - 1 & - P_{v} + \\frac{\\left(P_{v} + P_{xv}\\right) \\left(P_{v} + P_{x} + 2 P_{xv} + 1\\right)}{P_{v} + P_{x} + 2 P_{xv} + 2}\\\\- P_{v} + \\frac{\\left(P_{v} + P_{xv}\\right) \\left(P_{v} + P_{x} + 2 P_{xv} + 1\\right)}{P_{v} + P_{x} + 2 P_{xv} + 2} & \\frac{\\left(P_{v} + P_{xv}\\right)^{2}}{P_{v} + P_{x} + 2 P_{xv} + 2} - 1\\end{matrix}\\right]$"
      ],
      "text/plain": [
       "Matrix([\n",
       "[-P_v - 2*P_xv + (P_v + P_x + 2*P_xv + 1)**2/(P_v + P_x + 2*P_xv + 2) - 1, -P_v + (P_v + P_xv)*(P_v + P_x + 2*P_xv + 1)/(P_v + P_x + 2*P_xv + 2)],\n",
       "[   -P_v + (P_v + P_xv)*(P_v + P_x + 2*P_xv + 1)/(P_v + P_x + 2*P_xv + 2),                          (P_v + P_xv)**2/(P_v + P_x + 2*P_xv + 2) - 1]])"
      ]
     },
     "execution_count": 256,
     "metadata": {},
     "output_type": "execute_result"
    }
   ],
   "source": [
    "X"
   ]
  },
  {
   "cell_type": "code",
   "execution_count": 258,
   "id": "f6b49b74-f9fe-4265-972c-234ad94dc0fc",
   "metadata": {},
   "outputs": [
    {
     "data": {
      "text/latex": [
       "$\\displaystyle \\left\\{\\left( - \\frac{3}{4} + \\frac{\\sqrt{21}}{4} - \\frac{\\sqrt{6 - 2 \\sqrt{21}}}{8} + \\frac{\\sqrt{126 - 42 \\sqrt{21}}}{8}, \\  - \\frac{\\sqrt{6 - 2 \\sqrt{21}}}{2}, \\  - \\frac{\\sqrt{21}}{4} + \\frac{1}{4} + \\frac{\\sqrt{2} \\sqrt{3 - \\sqrt{21}}}{4}\\right), \\left( - \\frac{3}{4} + \\frac{\\sqrt{21}}{4} - \\frac{\\sqrt{126 - 42 \\sqrt{21}}}{8} + \\frac{\\sqrt{6 - 2 \\sqrt{21}}}{8}, \\  \\frac{\\sqrt{6 - 2 \\sqrt{21}}}{2}, \\  - \\frac{\\sqrt{21}}{4} + \\frac{1}{4} - \\frac{\\sqrt{2} \\sqrt{3 - \\sqrt{21}}}{4}\\right), \\left( - \\frac{\\sqrt{21}}{4} - \\frac{3}{4} + \\frac{\\sqrt{6 + 2 \\sqrt{21}}}{8} + \\frac{\\sqrt{126 + 42 \\sqrt{21}}}{8}, \\  \\frac{\\sqrt{6 + 2 \\sqrt{21}}}{2}, \\  - \\frac{\\sqrt{2} \\sqrt{3 + \\sqrt{21}}}{4} + \\frac{1}{4} + \\frac{\\sqrt{21}}{4}\\right), \\left( - \\frac{\\sqrt{126 + 42 \\sqrt{21}}}{8} - \\frac{\\sqrt{21}}{4} - \\frac{3}{4} - \\frac{\\sqrt{6 + 2 \\sqrt{21}}}{8}, \\  - \\frac{\\sqrt{6 + 2 \\sqrt{21}}}{2}, \\  \\frac{1}{4} + \\frac{\\sqrt{2} \\sqrt{3 + \\sqrt{21}}}{4} + \\frac{\\sqrt{21}}{4}\\right)\\right\\}$"
      ],
      "text/plain": [
       "{(-3/4 + sqrt(21)/4 - sqrt(6 - 2*sqrt(21))/8 + sqrt(126 - 42*sqrt(21))/8, -sqrt(6 - 2*sqrt(21))/2, -sqrt(21)/4 + 1/4 + sqrt(2)*sqrt(3 - sqrt(21))/4), (-3/4 + sqrt(21)/4 - sqrt(126 - 42*sqrt(21))/8 + sqrt(6 - 2*sqrt(21))/8, sqrt(6 - 2*sqrt(21))/2, -sqrt(21)/4 + 1/4 - sqrt(2)*sqrt(3 - sqrt(21))/4), (-sqrt(21)/4 - 3/4 + sqrt(6 + 2*sqrt(21))/8 + sqrt(126 + 42*sqrt(21))/8, sqrt(6 + 2*sqrt(21))/2, -sqrt(2)*sqrt(3 + sqrt(21))/4 + 1/4 + sqrt(21)/4), (-sqrt(126 + 42*sqrt(21))/8 - sqrt(21)/4 - 3/4 - sqrt(6 + 2*sqrt(21))/8, -sqrt(6 + 2*sqrt(21))/2, 1/4 + sqrt(2)*sqrt(3 + sqrt(21))/4 + sqrt(21)/4)}"
      ]
     },
     "execution_count": 258,
     "metadata": {},
     "output_type": "execute_result"
    }
   ],
   "source": [
    "res = nonlinsolve([X[0,0], X[0, 1], X[1, 1]], [Px, Pv, Pxv])\n",
    "res"
   ]
  },
  {
   "cell_type": "code",
   "execution_count": 259,
   "id": "6490814b-3084-4af3-8a4e-89a22bdb7b7c",
   "metadata": {},
   "outputs": [
    {
     "data": {
      "text/plain": [
       "[(0.821846413518260, 1.94712296670701, 0.422082440385453),\n",
       " (-4.61313426099618, -1.94712296670701, 2.36920540709247),\n",
       " (0.39564392373896 + 0.796714335936263*I,\n",
       "  -0.889543617524132*I,\n",
       "  -0.89564392373896 + 0.444771808762066*I),\n",
       " (0.39564392373896 - 0.796714335936263*I,\n",
       "  0.889543617524132*I,\n",
       "  -0.89564392373896 - 0.444771808762066*I)]"
      ]
     },
     "execution_count": 259,
     "metadata": {},
     "output_type": "execute_result"
    }
   ],
   "source": [
    "num = [tuple([x.evalf() for x in solution]) for solution in res]\n",
    "num"
   ]
  },
  {
   "cell_type": "code",
   "execution_count": 261,
   "id": "7583d014-be94-4bab-9ba0-41f312e44efb",
   "metadata": {},
   "outputs": [
    {
     "data": {
      "text/plain": [
       "(0.821846413518260, 0.422082440385453)"
      ]
     },
     "execution_count": 261,
     "metadata": {},
     "output_type": "execute_result"
    }
   ],
   "source": [
    "kg = KalmanGain(*num[0], Qx, Qv, R)\n",
    "kg.Kx, kg.Kv"
   ]
  },
  {
   "cell_type": "code",
   "execution_count": 202,
   "id": "7fe159cb-dfe9-45dd-9397-56f4789ca0a7",
   "metadata": {},
   "outputs": [
    {
     "data": {
      "text/plain": [
       "\u001b[0;31mSignature:\u001b[0m \u001b[0mnonlinsolve\u001b[0m\u001b[0;34m(\u001b[0m\u001b[0msystem\u001b[0m\u001b[0;34m,\u001b[0m \u001b[0;34m*\u001b[0m\u001b[0msymbols\u001b[0m\u001b[0;34m)\u001b[0m\u001b[0;34m\u001b[0m\u001b[0;34m\u001b[0m\u001b[0m\n",
       "\u001b[0;31mDocstring:\u001b[0m\n",
       "Solve system of $N$ nonlinear equations with $M$ variables, which means both\n",
       "under and overdetermined systems are supported. Positive dimensional\n",
       "system is also supported (A system with infinitely many solutions is said\n",
       "to be positive-dimensional). In a positive dimensional system the solution will\n",
       "be dependent on at least one symbol. Returns both real solution\n",
       "and complex solution (if they exist).\n",
       "\n",
       "Parameters\n",
       "==========\n",
       "\n",
       "system : list of equations\n",
       "    The target system of equations\n",
       "symbols : list of Symbols\n",
       "    symbols should be given as a sequence eg. list\n",
       "\n",
       "Returns\n",
       "=======\n",
       "\n",
       "A :class:`~.FiniteSet` of ordered tuple of values of `symbols` for which the `system`\n",
       "has solution. Order of values in the tuple is same as symbols present in\n",
       "the parameter `symbols`.\n",
       "\n",
       "Please note that general :class:`~.FiniteSet` is unordered, the solution\n",
       "returned here is not simply a :class:`~.FiniteSet` of solutions, rather it\n",
       "is a :class:`~.FiniteSet` of ordered tuple, i.e. the first and only\n",
       "argument to :class:`~.FiniteSet` is a tuple of solutions, which is\n",
       "ordered, and, hence ,the returned solution is ordered.\n",
       "\n",
       "Also note that solution could also have been returned as an ordered tuple,\n",
       "FiniteSet is just a wrapper ``{}`` around the tuple. It has no other\n",
       "significance except for the fact it is just used to maintain a consistent\n",
       "output format throughout the solveset.\n",
       "\n",
       "For the given set of equations, the respective input types\n",
       "are given below:\n",
       "\n",
       ".. math:: xy - 1 = 0\n",
       ".. math:: 4x^2 + y^2 - 5 = 0\n",
       "\n",
       "::\n",
       "\n",
       "   system  = [x*y - 1, 4*x**2 + y**2 - 5]\n",
       "   symbols = [x, y]\n",
       "\n",
       "Raises\n",
       "======\n",
       "\n",
       "ValueError\n",
       "    The input is not valid.\n",
       "    The symbols are not given.\n",
       "AttributeError\n",
       "    The input symbols are not `Symbol` type.\n",
       "\n",
       "Examples\n",
       "========\n",
       "\n",
       ">>> from sympy import symbols, nonlinsolve\n",
       ">>> x, y, z = symbols('x, y, z', real=True)\n",
       ">>> nonlinsolve([x*y - 1, 4*x**2 + y**2 - 5], [x, y])\n",
       "{(-1, -1), (-1/2, -2), (1/2, 2), (1, 1)}\n",
       "\n",
       "1. Positive dimensional system and complements:\n",
       "\n",
       ">>> from sympy import pprint\n",
       ">>> from sympy.polys.polytools import is_zero_dimensional\n",
       ">>> a, b, c, d = symbols('a, b, c, d', extended_real=True)\n",
       ">>> eq1 =  a + b + c + d\n",
       ">>> eq2 = a*b + b*c + c*d + d*a\n",
       ">>> eq3 = a*b*c + b*c*d + c*d*a + d*a*b\n",
       ">>> eq4 = a*b*c*d - 1\n",
       ">>> system = [eq1, eq2, eq3, eq4]\n",
       ">>> is_zero_dimensional(system)\n",
       "False\n",
       ">>> pprint(nonlinsolve(system, [a, b, c, d]), use_unicode=False)\n",
       "  -1       1               1      -1\n",
       "{(---, -d, -, {d} \\ {0}), (-, -d, ---, {d} \\ {0})}\n",
       "   d       d               d       d\n",
       ">>> nonlinsolve([(x+y)**2 - 4, x + y - 2], [x, y])\n",
       "{(2 - y, y)}\n",
       "\n",
       "2. If some of the equations are non-polynomial then `nonlinsolve`\n",
       "will call the ``substitution`` function and return real and complex solutions,\n",
       "if present.\n",
       "\n",
       ">>> from sympy import exp, sin\n",
       ">>> nonlinsolve([exp(x) - sin(y), y**2 - 4], [x, y])\n",
       "{(ImageSet(Lambda(_n, I*(2*_n*pi + pi) + log(sin(2))), Integers), -2),\n",
       " (ImageSet(Lambda(_n, 2*_n*I*pi + log(sin(2))), Integers), 2)}\n",
       "\n",
       "3. If system is non-linear polynomial and zero-dimensional then it\n",
       "returns both solution (real and complex solutions, if present) using\n",
       ":func:`~.solve_poly_system`:\n",
       "\n",
       ">>> from sympy import sqrt\n",
       ">>> nonlinsolve([x**2 - 2*y**2 -2, x*y - 2], [x, y])\n",
       "{(-2, -1), (2, 1), (-sqrt(2)*I, sqrt(2)*I), (sqrt(2)*I, -sqrt(2)*I)}\n",
       "\n",
       "4. ``nonlinsolve`` can solve some linear (zero or positive dimensional)\n",
       "system (because it uses the :func:`sympy.polys.polytools.groebner` function to get the\n",
       "groebner basis and then uses the ``substitution`` function basis as the\n",
       "new `system`). But it is not recommended to solve linear system using\n",
       "``nonlinsolve``, because :func:`~.linsolve` is better for general linear systems.\n",
       "\n",
       ">>> nonlinsolve([x + 2*y -z - 3, x - y - 4*z + 9, y + z - 4], [x, y, z])\n",
       "{(3*z - 5, 4 - z, z)}\n",
       "\n",
       "5. System having polynomial equations and only real solution is\n",
       "solved using :func:`~.solve_poly_system`:\n",
       "\n",
       ">>> e1 = sqrt(x**2 + y**2) - 10\n",
       ">>> e2 = sqrt(y**2 + (-x + 10)**2) - 3\n",
       ">>> nonlinsolve((e1, e2), (x, y))\n",
       "{(191/20, -3*sqrt(391)/20), (191/20, 3*sqrt(391)/20)}\n",
       ">>> nonlinsolve([x**2 + 2/y - 2, x + y - 3], [x, y])\n",
       "{(1, 2), (1 - sqrt(5), 2 + sqrt(5)), (1 + sqrt(5), 2 - sqrt(5))}\n",
       ">>> nonlinsolve([x**2 + 2/y - 2, x + y - 3], [y, x])\n",
       "{(2, 1), (2 - sqrt(5), 1 + sqrt(5)), (2 + sqrt(5), 1 - sqrt(5))}\n",
       "\n",
       "6. It is better to use symbols instead of trigonometric functions or\n",
       ":class:`~.Function`. For example, replace $\\sin(x)$ with a symbol, replace\n",
       "$f(x)$ with a symbol and so on. Get a solution from ``nonlinsolve`` and then\n",
       "use :func:`~.solveset` to get the value of $x$.\n",
       "\n",
       "How nonlinsolve is better than old solver ``_solve_system`` :\n",
       "=============================================================\n",
       "\n",
       "1. A positive dimensional system solver: nonlinsolve can return\n",
       "solution for positive dimensional system. It finds the\n",
       "Groebner Basis of the positive dimensional system(calling it as\n",
       "basis) then we can start solving equation(having least number of\n",
       "variable first in the basis) using solveset and substituting that\n",
       "solved solutions into other equation(of basis) to get solution in\n",
       "terms of minimum variables. Here the important thing is how we\n",
       "are substituting the known values and in which equations.\n",
       "\n",
       "2. Real and complex solutions: nonlinsolve returns both real\n",
       "and complex solution. If all the equations in the system are polynomial\n",
       "then using :func:`~.solve_poly_system` both real and complex solution is returned.\n",
       "If all the equations in the system are not polynomial equation then goes to\n",
       "``substitution`` method with this polynomial and non polynomial equation(s),\n",
       "to solve for unsolved variables. Here to solve for particular variable\n",
       "solveset_real and solveset_complex is used. For both real and complex\n",
       "solution ``_solve_using_known_values`` is used inside ``substitution``\n",
       "(``substitution`` will be called when any non-polynomial equation is present).\n",
       "If a solution is valid its general solution is added to the final result.\n",
       "\n",
       "3. :class:`~.Complement` and :class:`~.Intersection` will be added:\n",
       "nonlinsolve maintains dict for complements and intersections. If solveset\n",
       "find complements or/and intersections with any interval or set during the\n",
       "execution of ``substitution`` function, then complement or/and\n",
       "intersection for that variable is added before returning final solution.\n",
       "\u001b[0;31mFile:\u001b[0m      ~/anaconda3/envs/fusion/lib/python3.11/site-packages/sympy/solvers/solveset.py\n",
       "\u001b[0;31mType:\u001b[0m      function"
      ]
     },
     "metadata": {},
     "output_type": "display_data"
    }
   ],
   "source": [
    "?nonlinsolve"
   ]
  },
  {
   "cell_type": "code",
   "execution_count": null,
   "id": "ee8be09c-24ae-4a1c-88f1-9bb4dee0e4c5",
   "metadata": {},
   "outputs": [],
   "source": []
  }
 ],
 "metadata": {
  "kernelspec": {
   "display_name": "Python 3 (ipykernel)",
   "language": "python",
   "name": "python3"
  },
  "language_info": {
   "codemirror_mode": {
    "name": "ipython",
    "version": 3
   },
   "file_extension": ".py",
   "mimetype": "text/x-python",
   "name": "python",
   "nbconvert_exporter": "python",
   "pygments_lexer": "ipython3",
   "version": "3.11.7"
  }
 },
 "nbformat": 4,
 "nbformat_minor": 5
}
